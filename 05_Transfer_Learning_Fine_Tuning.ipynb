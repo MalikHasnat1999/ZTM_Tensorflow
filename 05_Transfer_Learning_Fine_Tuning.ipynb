{
  "nbformat": 4,
  "nbformat_minor": 0,
  "metadata": {
    "colab": {
      "name": "05_Transfer_Learning : Fine_Tuning.ipynb",
      "provenance": [],
      "collapsed_sections": [],
      "authorship_tag": "ABX9TyMwoatm0c5f/gxo2fVgjU2u",
      "include_colab_link": true
    },
    "kernelspec": {
      "name": "python3",
      "display_name": "Python 3"
    },
    "language_info": {
      "name": "python"
    },
    "accelerator": "GPU"
  },
  "cells": [
    {
      "cell_type": "markdown",
      "metadata": {
        "id": "view-in-github",
        "colab_type": "text"
      },
      "source": [
        "<a href=\"https://colab.research.google.com/github/MalikHasnat1999/ZTM_Tensorflow/blob/master/05_Transfer_Learning_Fine_Tuning.ipynb\" target=\"_parent\"><img src=\"https://colab.research.google.com/assets/colab-badge.svg\" alt=\"Open In Colab\"/></a>"
      ]
    },
    {
      "cell_type": "code",
      "metadata": {
        "id": "EDdukOSR21Vq"
      },
      "source": [
        "import tensorflow as tf\n",
        "import os\n",
        "import datetime\n",
        "import zipfile\n",
        "import datetime\n",
        "import matplotlib.pyplot as plt\n"
      ],
      "execution_count": null,
      "outputs": []
    },
    {
      "cell_type": "markdown",
      "metadata": {
        "id": "NA1EW0CR3iUY"
      },
      "source": [
        "# Create Helper function"
      ]
    },
    {
      "cell_type": "code",
      "metadata": {
        "id": "2tDbsDOY3hRb"
      },
      "source": [
        ""
      ],
      "execution_count": null,
      "outputs": []
    },
    {
      "cell_type": "markdown",
      "metadata": {
        "id": "axmFRZdMLPKi"
      },
      "source": [
        " # 150.Load the data"
      ]
    },
    {
      "cell_type": "code",
      "metadata": {
        "colab": {
          "base_uri": "https://localhost:8080/"
        },
        "id": "eomBdn7rS8M9",
        "outputId": "4a91e43d-3928-4f70-eb50-a9a86ddca474"
      },
      "source": [
        "!wget https://storage.googleapis.com/ztm_tf_course/food_vision/10_food_classes_10_percent.zip"
      ],
      "execution_count": null,
      "outputs": [
        {
          "output_type": "stream",
          "text": [
            "--2021-08-24 10:44:38--  https://storage.googleapis.com/ztm_tf_course/food_vision/10_food_classes_10_percent.zip\n",
            "Resolving storage.googleapis.com (storage.googleapis.com)... 142.250.157.128, 74.125.23.128, 74.125.203.128, ...\n",
            "Connecting to storage.googleapis.com (storage.googleapis.com)|142.250.157.128|:443... connected.\n",
            "HTTP request sent, awaiting response... 200 OK\n",
            "Length: 168546183 (161M) [application/zip]\n",
            "Saving to: ‘10_food_classes_10_percent.zip’\n",
            "\n",
            "10_food_classes_10_ 100%[===================>] 160.74M  72.5MB/s    in 2.2s    \n",
            "\n",
            "2021-08-24 10:44:40 (72.5 MB/s) - ‘10_food_classes_10_percent.zip’ saved [168546183/168546183]\n",
            "\n"
          ],
          "name": "stdout"
        }
      ]
    },
    {
      "cell_type": "code",
      "metadata": {
        "id": "GA_TVx-magev"
      },
      "source": [
        "def unzip_file(filename):\n",
        "  zip_ref = zipfile.ZipFile(filename)\n",
        "  zip_ref.extractall()\n",
        "  zip_ref.close()"
      ],
      "execution_count": null,
      "outputs": []
    },
    {
      "cell_type": "code",
      "metadata": {
        "id": "qoghiIawa-xh"
      },
      "source": [
        "unzip_file(\"10_food_classes_10_percent.zip\")"
      ],
      "execution_count": null,
      "outputs": []
    },
    {
      "cell_type": "code",
      "metadata": {
        "id": "J1_rD-N4bDpx"
      },
      "source": [
        "def wallk_through(filename):\n",
        "  for dirpath, dirnames, filenames in os.walk(filename):\n",
        "    print(f\"There are {len(filenames)} imaegs in '{dirpath}'\")"
      ],
      "execution_count": null,
      "outputs": []
    },
    {
      "cell_type": "code",
      "metadata": {
        "colab": {
          "base_uri": "https://localhost:8080/"
        },
        "id": "5075f2RbbcLC",
        "outputId": "2269e043-10ca-4415-be1c-079f40187cae"
      },
      "source": [
        "wallk_through(\"10_food_classes_10_percent\")"
      ],
      "execution_count": null,
      "outputs": [
        {
          "output_type": "stream",
          "text": [
            "There are 0 imaegs in '10_food_classes_10_percent'\n",
            "There are 0 imaegs in '10_food_classes_10_percent/train'\n",
            "There are 75 imaegs in '10_food_classes_10_percent/train/pizza'\n",
            "There are 75 imaegs in '10_food_classes_10_percent/train/fried_rice'\n",
            "There are 75 imaegs in '10_food_classes_10_percent/train/grilled_salmon'\n",
            "There are 75 imaegs in '10_food_classes_10_percent/train/steak'\n",
            "There are 75 imaegs in '10_food_classes_10_percent/train/sushi'\n",
            "There are 75 imaegs in '10_food_classes_10_percent/train/chicken_curry'\n",
            "There are 75 imaegs in '10_food_classes_10_percent/train/hamburger'\n",
            "There are 75 imaegs in '10_food_classes_10_percent/train/ramen'\n",
            "There are 75 imaegs in '10_food_classes_10_percent/train/chicken_wings'\n",
            "There are 75 imaegs in '10_food_classes_10_percent/train/ice_cream'\n",
            "There are 0 imaegs in '10_food_classes_10_percent/test'\n",
            "There are 250 imaegs in '10_food_classes_10_percent/test/pizza'\n",
            "There are 250 imaegs in '10_food_classes_10_percent/test/fried_rice'\n",
            "There are 250 imaegs in '10_food_classes_10_percent/test/grilled_salmon'\n",
            "There are 250 imaegs in '10_food_classes_10_percent/test/steak'\n",
            "There are 250 imaegs in '10_food_classes_10_percent/test/sushi'\n",
            "There are 250 imaegs in '10_food_classes_10_percent/test/chicken_curry'\n",
            "There are 250 imaegs in '10_food_classes_10_percent/test/hamburger'\n",
            "There are 250 imaegs in '10_food_classes_10_percent/test/ramen'\n",
            "There are 250 imaegs in '10_food_classes_10_percent/test/chicken_wings'\n",
            "There are 250 imaegs in '10_food_classes_10_percent/test/ice_cream'\n"
          ],
          "name": "stdout"
        }
      ]
    },
    {
      "cell_type": "code",
      "metadata": {
        "id": "K8bqxUiYbgRF"
      },
      "source": [
        "# set the train test path object\n",
        "train_dir = \"/content/10_food_classes_10_percent/train\" \n",
        "test_dir = \"/content/10_food_classes_10_percent/test\""
      ],
      "execution_count": null,
      "outputs": []
    },
    {
      "cell_type": "markdown",
      "metadata": {
        "id": "mvPVcq4fhzmX"
      },
      "source": [
        "## image_dataset_from_directory()\n",
        "\n",
        "same as ImageDataGenerator"
      ]
    },
    {
      "cell_type": "code",
      "metadata": {
        "colab": {
          "base_uri": "https://localhost:8080/"
        },
        "id": "-2yV0xcebt4I",
        "outputId": "646b596d-4290-456f-e137-b59ef64a93e4"
      },
      "source": [
        "IMAGE_SIZE=(224,224)\n",
        "BATCH_SIZE=32\n",
        "train_data = tf.keras.preprocessing.image_dataset_from_directory(directory=train_dir,\n",
        "                                                                 image_size=IMAGE_SIZE,\n",
        "                                                                 batch_size=BATCH_SIZE,\n",
        "                                                                 label_mode=\"categorical\")\n",
        "\n",
        "test_data = tf.keras.preprocessing.image_dataset_from_directory(directory=test_dir,\n",
        "                                                                image_size=IMAGE_SIZE,\n",
        "                                                                batch_size=BATCH_SIZE,\n",
        "                                                                label_mode=\"categorical\")"
      ],
      "execution_count": null,
      "outputs": [
        {
          "output_type": "stream",
          "text": [
            "Found 750 files belonging to 10 classes.\n",
            "Found 2500 files belonging to 10 classes.\n"
          ],
          "name": "stdout"
        }
      ]
    },
    {
      "cell_type": "code",
      "metadata": {
        "colab": {
          "base_uri": "https://localhost:8080/"
        },
        "id": "0j9LQoTqcdM5",
        "outputId": "1d6d80d3-de79-47de-f387-71c1304fd87c"
      },
      "source": [
        "train_data.class_names"
      ],
      "execution_count": null,
      "outputs": [
        {
          "output_type": "execute_result",
          "data": {
            "text/plain": [
              "['chicken_curry',\n",
              " 'chicken_wings',\n",
              " 'fried_rice',\n",
              " 'grilled_salmon',\n",
              " 'hamburger',\n",
              " 'ice_cream',\n",
              " 'pizza',\n",
              " 'ramen',\n",
              " 'steak',\n",
              " 'sushi']"
            ]
          },
          "metadata": {},
          "execution_count": 9
        }
      ]
    },
    {
      "cell_type": "code",
      "metadata": {
        "colab": {
          "base_uri": "https://localhost:8080/"
        },
        "id": "RaXufCK8cgYT",
        "outputId": "2e6980cf-7f59-4da8-81a1-7884880df003"
      },
      "source": [
        "train_data"
      ],
      "execution_count": null,
      "outputs": [
        {
          "output_type": "execute_result",
          "data": {
            "text/plain": [
              "<BatchDataset shapes: ((None, 224, 224, 3), (None, 10)), types: (tf.float32, tf.float32)>"
            ]
          },
          "metadata": {},
          "execution_count": 10
        }
      ]
    },
    {
      "cell_type": "code",
      "metadata": {
        "colab": {
          "base_uri": "https://localhost:8080/"
        },
        "id": "1Km16gngci24",
        "outputId": "bdf3bbe5-4bf6-4521-f4b6-709288cb09fb"
      },
      "source": [
        "# see an example of batch of data\n",
        "for images, labels in train_data.take(1): # take 1 batch of train_data\n",
        "  print(images, labels)\n",
        "\n",
        "\n",
        "# the data shown is not Normalized \n",
        "# we need to normalize the data before we create the model"
      ],
      "execution_count": null,
      "outputs": [
        {
          "output_type": "stream",
          "text": [
            "tf.Tensor(\n",
            "[[[[1.63571434e+01 2.73571415e+01 4.85306129e+01]\n",
            "   [1.13112230e+01 2.23112240e+01 4.04540787e+01]\n",
            "   [9.00000000e+00 2.10000000e+01 3.50000000e+01]\n",
            "   ...\n",
            "   [2.04234982e+01 3.19949703e+01 5.66377640e+01]\n",
            "   [1.19999866e+01 2.50255013e+01 4.18775139e+01]\n",
            "   [1.05866871e+01 2.45866871e+01 3.68723335e+01]]\n",
            "\n",
            "  [[2.15663261e+01 2.89030609e+01 4.90408173e+01]\n",
            "   [1.52806110e+01 2.40765305e+01 4.13622398e+01]\n",
            "   [1.17142859e+01 2.05153065e+01 3.51173477e+01]\n",
            "   ...\n",
            "   [1.36989365e+01 2.34999771e+01 5.07856483e+01]\n",
            "   [7.06632519e+00 2.00663261e+01 3.89183388e+01]\n",
            "   [8.33166504e+00 2.13571777e+01 3.78775482e+01]]\n",
            "\n",
            "  [[1.28571434e+01 1.74285698e+01 3.67091827e+01]\n",
            "   [1.34132652e+01 1.79846935e+01 3.65867348e+01]\n",
            "   [1.94744892e+01 2.48316326e+01 4.07091827e+01]\n",
            "   ...\n",
            "   [5.76527214e+00 1.55969219e+01 4.29336205e+01]\n",
            "   [1.20561199e+01 2.21122532e+01 4.69438553e+01]\n",
            "   [1.09234972e+01 2.28521023e+01 4.44234276e+01]]\n",
            "\n",
            "  ...\n",
            "\n",
            "  [[1.83315411e+01 1.53315411e+01 9.90301323e+00]\n",
            "   [2.76326275e+01 2.46326275e+01 1.96326275e+01]\n",
            "   [2.34029465e+01 1.94029465e+01 1.64029465e+01]\n",
            "   ...\n",
            "   [2.23572083e+01 2.03572083e+01 2.13572083e+01]\n",
            "   [1.85458298e+01 1.65458298e+01 1.75458298e+01]\n",
            "   [1.39232559e+01 1.19232559e+01 1.29232559e+01]]\n",
            "\n",
            "  [[1.44439325e+01 1.14439325e+01 6.44393206e+00]\n",
            "   [2.06633110e+01 1.66633110e+01 1.36633101e+01]\n",
            "   [1.71989517e+01 1.31989498e+01 1.01989498e+01]\n",
            "   ...\n",
            "   [1.93417187e+01 1.53417177e+01 1.63417187e+01]\n",
            "   [1.91428833e+01 1.51428833e+01 1.61428833e+01]\n",
            "   [1.19487820e+01 7.94878197e+00 8.94878197e+00]]\n",
            "\n",
            "  [[2.51736183e+01 2.21736183e+01 1.71736183e+01]\n",
            "   [2.11783791e+01 1.71783791e+01 1.41783781e+01]\n",
            "   [1.24540491e+01 8.45404911e+00 5.45404959e+00]\n",
            "   ...\n",
            "   [1.71277695e+01 1.31277695e+01 1.41277695e+01]\n",
            "   [2.21174583e+01 1.81174583e+01 1.91174583e+01]\n",
            "   [1.65407963e+01 1.25407963e+01 1.35407963e+01]]]\n",
            "\n",
            "\n",
            " [[[1.00000000e+00 1.00000000e+00 1.00000000e+00]\n",
            "   [1.00000000e+00 1.00000000e+00 1.00000000e+00]\n",
            "   [2.00000000e+00 2.00000000e+00 2.00000000e+00]\n",
            "   ...\n",
            "   [1.03877735e+01 8.10205936e+00 1.38777375e+00]\n",
            "   [1.05714283e+01 8.28571415e+00 1.59184039e+00]\n",
            "   [9.35710812e+00 7.07139349e+00 9.48974550e-01]]\n",
            "\n",
            "  [[1.00000000e+00 1.00000000e+00 1.00000000e+00]\n",
            "   [1.00000000e+00 1.00000000e+00 1.00000000e+00]\n",
            "   [2.00000000e+00 2.00000000e+00 2.00000000e+00]\n",
            "   ...\n",
            "   [6.37754154e+00 1.01836548e+01 5.33674383e+00]\n",
            "   [6.28571415e+00 1.00000000e+01 6.42859745e+00]\n",
            "   [6.51018429e+00 1.02244701e+01 8.51018429e+00]]\n",
            "\n",
            "  [[1.00000000e+00 1.00000000e+00 1.00000000e+00]\n",
            "   [1.00000000e+00 1.00000000e+00 1.00000000e+00]\n",
            "   [2.00000000e+00 2.00000000e+00 2.00000000e+00]\n",
            "   ...\n",
            "   [9.92854881e+00 1.17040539e+01 1.80611372e+00]\n",
            "   [9.05102921e+00 1.07142859e+01 4.62248516e+00]\n",
            "   [1.07142849e+01 1.17142859e+01 8.39798450e+00]]\n",
            "\n",
            "  ...\n",
            "\n",
            "  [[3.79286156e+01 2.79286156e+01 1.59286156e+01]\n",
            "   [3.07449150e+01 2.20714626e+01 1.08367777e+01]\n",
            "   [2.66326160e+01 1.80612049e+01 6.77549982e+00]\n",
            "   ...\n",
            "   [5.92754211e+01 3.45306320e+01 2.13979130e+01]\n",
            "   [5.44796181e+01 3.64184418e+01 1.88266201e+01]\n",
            "   [5.28264809e+01 3.64591637e+01 2.18469181e+01]]\n",
            "\n",
            "  [[3.20714989e+01 2.20714989e+01 1.00714979e+01]\n",
            "   [2.96224365e+01 1.96224365e+01 7.62243652e+00]\n",
            "   [3.22550240e+01 2.22550220e+01 1.02550230e+01]\n",
            "   ...\n",
            "   [6.19998779e+01 3.55713501e+01 2.29998779e+01]\n",
            "   [5.42244682e+01 3.22449455e+01 1.59286194e+01]\n",
            "   [5.42243729e+01 3.61632195e+01 2.27244930e+01]]\n",
            "\n",
            "  [[2.91938725e+01 1.98061199e+01 7.49999571e+00]\n",
            "   [3.15204163e+01 2.15204163e+01 9.52041721e+00]\n",
            "   [3.59285812e+01 2.62347050e+01 1.18469372e+01]\n",
            "   ...\n",
            "   [6.46938782e+01 3.71020203e+01 2.52040386e+01]\n",
            "   [5.93673820e+01 3.64388237e+01 2.21735306e+01]\n",
            "   [5.60304527e+01 3.67753220e+01 2.37958336e+01]]]\n",
            "\n",
            "\n",
            " [[[6.35714293e+00 1.35714281e+00 0.00000000e+00]\n",
            "   [5.00000000e+00 1.00000000e+00 0.00000000e+00]\n",
            "   [5.14285660e+00 1.78571415e+00 0.00000000e+00]\n",
            "   ...\n",
            "   [5.79596806e+00 1.42345536e+00 0.00000000e+00]\n",
            "   [1.05714674e+01 6.88783884e-01 0.00000000e+00]\n",
            "   [1.63571777e+01 2.00003481e+00 0.00000000e+00]]\n",
            "\n",
            "  [[6.35714293e+00 1.35714281e+00 0.00000000e+00]\n",
            "   [5.00000000e+00 1.00000000e+00 0.00000000e+00]\n",
            "   [5.14285660e+00 1.78571415e+00 0.00000000e+00]\n",
            "   ...\n",
            "   [8.67353153e+00 3.41816425e-01 0.00000000e+00]\n",
            "   [1.57806635e+01 2.85727262e-01 5.10297250e-03]\n",
            "   [2.18316650e+01 2.47452211e+00 9.18317065e-02]]\n",
            "\n",
            "  [[6.35714293e+00 1.35714281e+00 0.00000000e+00]\n",
            "   [5.00000000e+00 1.00000000e+00 0.00000000e+00]\n",
            "   [5.14285660e+00 1.78571415e+00 0.00000000e+00]\n",
            "   ...\n",
            "   [1.85664005e+01 2.78571439e+00 6.17364168e-01]\n",
            "   [2.68724785e+01 3.85715604e+00 1.53060496e+00]\n",
            "   [3.22092133e+01 4.78571415e+00 1.56628418e+00]]\n",
            "\n",
            "  ...\n",
            "\n",
            "  [[1.78570557e+00 3.21429443e+00 0.00000000e+00]\n",
            "   [1.07142830e+00 2.07142830e+00 0.00000000e+00]\n",
            "   [1.16836560e+00 1.61733997e+00 0.00000000e+00]\n",
            "   ...\n",
            "   [1.63572083e+01 3.00000000e+00 1.44897830e+00]\n",
            "   [1.82296352e+01 1.58192843e-01 0.00000000e+00]\n",
            "   [3.07247372e+01 9.57165527e+00 4.49511385e+00]]\n",
            "\n",
            "  [[1.00000000e+00 4.00000000e+00 0.00000000e+00]\n",
            "   [1.00510073e+00 2.00510073e+00 0.00000000e+00]\n",
            "   [1.00000000e+00 1.00000000e+00 0.00000000e+00]\n",
            "   ...\n",
            "   [1.67551346e+01 2.07141113e+00 1.53008290e-02]\n",
            "   [2.10715332e+01 2.00516272e+00 0.00000000e+00]\n",
            "   [3.46481743e+01 1.17399836e+01 5.78588867e+00]]\n",
            "\n",
            "  [[0.00000000e+00 1.35714722e+00 0.00000000e+00]\n",
            "   [0.00000000e+00 2.00000000e+00 0.00000000e+00]\n",
            "   [1.93367028e+00 1.50509858e+00 1.99489284e+00]\n",
            "   ...\n",
            "   [1.62908478e+01 4.94887382e-01 0.00000000e+00]\n",
            "   [2.35969868e+01 3.33169317e+00 4.59264629e-02]\n",
            "   [3.38419189e+01 1.08419209e+01 4.84192038e+00]]]\n",
            "\n",
            "\n",
            " ...\n",
            "\n",
            "\n",
            " [[[4.63979607e+01 1.73979588e+01 8.26530755e-01]\n",
            "   [5.23061218e+01 2.33061218e+01 5.30612230e+00]\n",
            "   [5.26377563e+01 2.06377544e+01 6.06632662e+00]\n",
            "   ...\n",
            "   [4.96529579e+01 1.26529589e+01 4.65295839e+00]\n",
            "   [4.33827095e+01 1.03827095e+01 3.38270998e+00]\n",
            "   [4.26172066e+01 1.26172047e+01 4.61720467e+00]]\n",
            "\n",
            "  [[6.00663300e+01 2.84030628e+01 1.07346954e+01]\n",
            "   [6.10663300e+01 3.00663261e+01 1.20663261e+01]\n",
            "   [5.34591827e+01 2.14591846e+01 6.88775539e+00]\n",
            "   ...\n",
            "   [4.83009949e+01 1.13009968e+01 3.30099678e+00]\n",
            "   [4.20663528e+01 9.06635189e+00 1.32677391e-01]\n",
            "   [4.29030609e+01 1.29030590e+01 2.90305901e+00]]\n",
            "\n",
            "  [[6.99948959e+01 3.39948997e+01 2.04234695e+01]\n",
            "   [5.88877525e+01 2.52448959e+01 1.08877535e+01]\n",
            "   [5.54234657e+01 2.24693871e+01 8.40306091e+00]\n",
            "   ...\n",
            "   [4.68111839e+01 9.81118584e+00 1.76527214e+00]\n",
            "   [4.65255013e+01 1.35255013e+01 4.52550173e+00]\n",
            "   [4.32959328e+01 1.32959328e+01 3.29593277e+00]]\n",
            "\n",
            "  ...\n",
            "\n",
            "  [[8.27806625e+01 8.24234543e+01 6.37806625e+01]\n",
            "   [8.18571625e+01 8.28571625e+01 6.48571625e+01]\n",
            "   [8.19081726e+01 8.51224594e+01 6.85510330e+01]\n",
            "   ...\n",
            "   [2.11505066e+02 2.26168350e+02 2.32908188e+02]\n",
            "   [2.16698929e+02 2.29270401e+02 2.36841873e+02]\n",
            "   [2.15790726e+02 2.26004990e+02 2.34362198e+02]]\n",
            "\n",
            "  [[8.26479645e+01 8.06479645e+01 6.56479645e+01]\n",
            "   [8.19234543e+01 8.29234543e+01 6.69234543e+01]\n",
            "   [8.03418198e+01 8.27703934e+01 6.85561066e+01]\n",
            "   ...\n",
            "   [2.09142883e+02 2.24571411e+02 2.31571411e+02]\n",
            "   [2.13066345e+02 2.26066345e+02 2.34066345e+02]\n",
            "   [2.14311157e+02 2.24311157e+02 2.33311157e+02]]\n",
            "\n",
            "  [[8.45561676e+01 8.25561676e+01 6.95561676e+01]\n",
            "   [8.21888123e+01 8.31888123e+01 6.91888123e+01]\n",
            "   [7.97091751e+01 8.26990280e+01 6.82041016e+01]\n",
            "   ...\n",
            "   [2.13637863e+02 2.29066391e+02 2.36066391e+02]\n",
            "   [2.12571381e+02 2.25571381e+02 2.33571381e+02]\n",
            "   [2.14770401e+02 2.24770401e+02 2.33770401e+02]]]\n",
            "\n",
            "\n",
            " [[[6.44285660e+01 2.14285717e+01 5.42857170e+00]\n",
            "   [6.22040825e+01 1.92040806e+01 3.80101991e+00]\n",
            "   [6.17602043e+01 1.87602043e+01 2.76020432e+00]\n",
            "   ...\n",
            "   [1.45714111e+01 9.85710812e+00 3.57649875e+00]\n",
            "   [1.45255384e+01 8.23982430e+00 2.23982453e+00]\n",
            "   [1.10255365e+01 5.09696531e+00 2.29594663e-01]]\n",
            "\n",
            "  [[5.62244873e+01 9.03061008e+00 9.18363854e-02]\n",
            "   [6.67244949e+01 2.07244911e+01 5.72449112e+00]\n",
            "   [6.49540787e+01 1.89540825e+01 3.95408177e+00]\n",
            "   ...\n",
            "   [1.45305614e+01 3.98464942e+00 7.29583979e-01]\n",
            "   [1.18520765e+01 1.06124389e+00 0.00000000e+00]\n",
            "   [1.63061390e+01 4.45408583e+00 7.14294434e-01]]\n",
            "\n",
            "  [[6.72142868e+01 1.78010197e+01 4.00000000e+00]\n",
            "   [7.42295914e+01 2.52857151e+01 1.10714293e+01]\n",
            "   [6.47244873e+01 1.74642868e+01 2.01530576e+00]\n",
            "   ...\n",
            "   [2.25917969e+01 7.63771677e+00 4.30098581e+00]\n",
            "   [2.03265553e+01 5.54084158e+00 2.54084158e+00]\n",
            "   [2.08571606e+01 6.07144642e+00 3.07144642e+00]]\n",
            "\n",
            "  ...\n",
            "\n",
            "  [[5.98724709e+01 2.10867329e+01 1.36582050e+01]\n",
            "   [6.21683273e+01 2.41683292e+01 1.51683283e+01]\n",
            "   [5.69336433e+01 1.89336433e+01 8.36221504e+00]\n",
            "   ...\n",
            "   [2.41724594e+02 1.77724594e+02 1.04153191e+02]\n",
            "   [2.37071747e+02 1.74000336e+02 1.02928925e+02]\n",
            "   [2.33096954e+02 1.71612305e+02 1.01678658e+02]]\n",
            "\n",
            "  [[5.90969200e+01 2.00969162e+01 1.44336615e+01]\n",
            "   [5.72908058e+01 1.83622322e+01 1.12193756e+01]\n",
            "   [6.13265533e+01 2.33265495e+01 1.28673878e+01]\n",
            "   ...\n",
            "   [2.30101883e+02 1.67076370e+02 9.88468552e+01]\n",
            "   [2.29545959e+02 1.68347000e+02 1.03622627e+02]\n",
            "   [2.18158005e+02 1.56158005e+02 9.54437790e+01]]\n",
            "\n",
            "  [[5.74387550e+01 1.64387550e+01 1.24387560e+01]\n",
            "   [6.08521042e+01 1.99235306e+01 1.37806740e+01]\n",
            "   [5.97243996e+01 2.12958279e+01 1.25101147e+01]\n",
            "   ...\n",
            "   [2.13259827e+02 1.49407776e+02 8.98313599e+01]\n",
            "   [1.99743423e+02 1.36814835e+02 8.28404541e+01]\n",
            "   [1.47967712e+02 8.61972961e+01 3.63454514e+01]]]\n",
            "\n",
            "\n",
            " [[[1.63887756e+02 1.65887756e+02 1.44887756e+02]\n",
            "   [1.80382660e+02 1.79382660e+02 1.59382660e+02]\n",
            "   [1.59581635e+02 1.62795914e+02 1.45663269e+02]\n",
            "   ...\n",
            "   [1.38356964e+02 1.42928436e+02 1.37275421e+02]\n",
            "   [1.23331627e+02 1.29545959e+02 1.27474510e+02]\n",
            "   [1.20596802e+02 1.30183563e+02 1.29183563e+02]]\n",
            "\n",
            "  [[1.69051025e+02 1.68051025e+02 1.50051025e+02]\n",
            "   [1.82280624e+02 1.81280624e+02 1.61280624e+02]\n",
            "   [1.65816330e+02 1.69030609e+02 1.52658173e+02]\n",
            "   ...\n",
            "   [1.39300888e+02 1.41285599e+02 1.35999908e+02]\n",
            "   [1.17556183e+02 1.21847031e+02 1.20704155e+02]\n",
            "   [1.18361900e+02 1.25571182e+02 1.25168091e+02]]\n",
            "\n",
            "  [[1.63005112e+02 1.61576538e+02 1.43790817e+02]\n",
            "   [1.78515305e+02 1.77484695e+02 1.59500000e+02]\n",
            "   [1.58908157e+02 1.61122452e+02 1.47765305e+02]\n",
            "   ...\n",
            "   [1.40887711e+02 1.41459183e+02 1.36459183e+02]\n",
            "   [1.27321396e+02 1.29479584e+02 1.26576546e+02]\n",
            "   [1.23515221e+02 1.28076508e+02 1.28367294e+02]]\n",
            "\n",
            "  ...\n",
            "\n",
            "  [[8.90663528e+01 4.30663567e+01 1.90663567e+01]\n",
            "   [8.72703857e+01 4.12703857e+01 1.72703876e+01]\n",
            "   [8.71683273e+01 4.11683273e+01 1.71683273e+01]\n",
            "   ...\n",
            "   [1.65091812e+02 1.03091820e+02 2.60918179e+01]\n",
            "   [1.61775528e+02 9.97755203e+01 2.27755241e+01]\n",
            "   [1.66260300e+02 1.04260292e+02 2.72602921e+01]]\n",
            "\n",
            "  [[8.82142563e+01 4.22142601e+01 1.82142601e+01]\n",
            "   [8.69948959e+01 4.09948959e+01 1.69948978e+01]\n",
            "   [8.90000000e+01 4.30000000e+01 1.90000000e+01]\n",
            "   ...\n",
            "   [1.62489761e+02 1.00489754e+02 2.34897575e+01]\n",
            "   [1.66525421e+02 1.04525429e+02 2.75254288e+01]\n",
            "   [1.64357300e+02 1.02357300e+02 2.53572998e+01]]\n",
            "\n",
            "  [[8.67143555e+01 4.07143555e+01 1.67143555e+01]\n",
            "   [8.86429291e+01 4.26429291e+01 1.86429272e+01]\n",
            "   [9.01428909e+01 4.41428909e+01 2.01428909e+01]\n",
            "   ...\n",
            "   [1.65112228e+02 1.03112228e+02 2.61122284e+01]\n",
            "   [1.59831635e+02 9.78316269e+01 2.08316307e+01]\n",
            "   [1.63831390e+02 1.01831383e+02 2.48313828e+01]]]], shape=(32, 224, 224, 3), dtype=float32) tf.Tensor(\n",
            "[[0. 0. 0. 0. 0. 0. 0. 0. 0. 1.]\n",
            " [0. 0. 0. 0. 0. 0. 0. 0. 0. 1.]\n",
            " [0. 0. 0. 0. 0. 0. 1. 0. 0. 0.]\n",
            " [0. 0. 0. 0. 1. 0. 0. 0. 0. 0.]\n",
            " [0. 0. 0. 0. 0. 0. 0. 1. 0. 0.]\n",
            " [1. 0. 0. 0. 0. 0. 0. 0. 0. 0.]\n",
            " [1. 0. 0. 0. 0. 0. 0. 0. 0. 0.]\n",
            " [0. 0. 0. 0. 0. 0. 0. 1. 0. 0.]\n",
            " [0. 0. 0. 0. 0. 0. 0. 0. 1. 0.]\n",
            " [0. 0. 0. 0. 0. 0. 1. 0. 0. 0.]\n",
            " [0. 0. 0. 0. 0. 0. 1. 0. 0. 0.]\n",
            " [0. 1. 0. 0. 0. 0. 0. 0. 0. 0.]\n",
            " [0. 1. 0. 0. 0. 0. 0. 0. 0. 0.]\n",
            " [0. 0. 1. 0. 0. 0. 0. 0. 0. 0.]\n",
            " [0. 0. 0. 0. 1. 0. 0. 0. 0. 0.]\n",
            " [0. 0. 0. 0. 0. 0. 0. 0. 0. 1.]\n",
            " [0. 0. 0. 0. 0. 0. 1. 0. 0. 0.]\n",
            " [0. 0. 1. 0. 0. 0. 0. 0. 0. 0.]\n",
            " [1. 0. 0. 0. 0. 0. 0. 0. 0. 0.]\n",
            " [0. 0. 0. 0. 0. 0. 0. 1. 0. 0.]\n",
            " [0. 0. 0. 1. 0. 0. 0. 0. 0. 0.]\n",
            " [1. 0. 0. 0. 0. 0. 0. 0. 0. 0.]\n",
            " [1. 0. 0. 0. 0. 0. 0. 0. 0. 0.]\n",
            " [1. 0. 0. 0. 0. 0. 0. 0. 0. 0.]\n",
            " [0. 0. 0. 0. 0. 0. 1. 0. 0. 0.]\n",
            " [0. 0. 0. 0. 1. 0. 0. 0. 0. 0.]\n",
            " [0. 0. 0. 0. 1. 0. 0. 0. 0. 0.]\n",
            " [0. 1. 0. 0. 0. 0. 0. 0. 0. 0.]\n",
            " [0. 0. 0. 0. 0. 0. 0. 0. 0. 1.]\n",
            " [0. 1. 0. 0. 0. 0. 0. 0. 0. 0.]\n",
            " [0. 0. 0. 0. 1. 0. 0. 0. 0. 0.]\n",
            " [0. 0. 0. 0. 0. 1. 0. 0. 0. 0.]], shape=(32, 10), dtype=float32)\n"
          ],
          "name": "stdout"
        }
      ]
    },
    {
      "cell_type": "code",
      "metadata": {
        "id": "HkDO_cFjd2ii"
      },
      "source": [
        "def tensorboard_callback(log_dir, experiment_name):\n",
        "  LOG_DIR = log_dir + \"/\" + experiment_name + \"/\" + datetime.datetime.now().strftime(\"%y%m%d - %h%m%s\")\n",
        "  tensorboard_callback = tf.keras.callbacks.TensorBoard(log_dir=LOG_DIR)\n",
        "  print(f\"Saving model logs to {LOG_DIR}\")"
      ],
      "execution_count": null,
      "outputs": []
    },
    {
      "cell_type": "markdown",
      "metadata": {
        "id": "RZHalLkkYG1O"
      },
      "source": [
        "# Functional API\n",
        "\n",
        "The sequential API is straight-forward, it runs our model in sequential order\n",
        "\n",
        "But the Functional API gives us more Flexibility\n"
      ]
    },
    {
      "cell_type": "code",
      "metadata": {
        "colab": {
          "base_uri": "https://localhost:8080/"
        },
        "id": "D-dt45aIc81k",
        "outputId": "ba139122-3567-4c2f-c6b2-71c0ab91c2d5"
      },
      "source": [
        "# 1. Create the base model with tf.keras.applications\n",
        "base_model = tf.keras.applications.EfficientNetB0(include_top=False)\n",
        "\n",
        "# 2. Freeze the base model(so the underlying pre-trained patterns aren't updated)\n",
        "base_model.trainable = False\n",
        "\n",
        "# 3. Create inputs into our model\n",
        "inputs = tf.keras.layers.Input(shape=(224,224,3), name=\"input_layer\")\n",
        "\n",
        "# 4. if you are using RESNET50V2 you need to normalize the inputs\n",
        "# x = tf.keras.layer.experimental.preprocessing.Rescaling(1/255.)(inputs)\n",
        "\n",
        "# 5. pass the inputs to the base model\n",
        "x = base_model(inputs)\n",
        "print(f\"Shape after passing through the input model {x.shape}\")\n",
        "\n",
        "# 6. Average pool the outputs of the base model (aggregate all the most important information, reduce number of computation )\n",
        "x = tf.keras.layers.GlobalAveragePooling2D(name=\"global_average_poolig_layer\")(x)\n",
        "print(f\"Shape After GlobalAveragePoolinng {x.shape}\")\n",
        "\n",
        "# 7. Create the output activation layer\n",
        "outputs = tf.keras.layers.Dense(10, activation=\"softmax\", name=\"output_layer\")(x)\n",
        "\n",
        "# 8. Combine the inputs with the outputs into a model\n",
        "model_0 = tf.keras.Model(inputs, outputs)\n",
        "\n",
        "# 9. compile the model\n",
        "model_0.compile(\n",
        "    loss=tf.keras.losses.CategoricalCrossentropy(),\n",
        "    optimizer=tf.keras.optimizers.Adam(),\n",
        "    metrics=[\"accuracy\"]\n",
        ")\n",
        "\n",
        "# 10. fit the model\n",
        "model_0_histroy = model_0.fit(train_data,\n",
        "                              epochs=5,\n",
        "                              steps_per_epoch=len(train_data),\n",
        "                              validation_data=test_data,\n",
        "                              validation_steps=len(test_data),\n",
        "                              callbacks=tensorboard_callback(\"tensorboard_hub\",\n",
        "                                                             \"model_0\"))\n"
      ],
      "execution_count": null,
      "outputs": [
        {
          "output_type": "stream",
          "text": [
            "Downloading data from https://storage.googleapis.com/keras-applications/efficientnetb0_notop.h5\n",
            "16711680/16705208 [==============================] - 0s 0us/step\n",
            "16719872/16705208 [==============================] - 0s 0us/step\n",
            "Shape after passing through the input model (None, 7, 7, 1280)\n",
            "Shape After GlobalAveragePoolinng (None, 1280)\n",
            "Saving model logs to tensorboard_hub/model_0/210824 - Aug081629801894\n",
            "Epoch 1/5\n",
            "24/24 [==============================] - 51s 687ms/step - loss: 1.8624 - accuracy: 0.4373 - val_loss: 1.3200 - val_accuracy: 0.7296\n",
            "Epoch 2/5\n",
            "24/24 [==============================] - 14s 578ms/step - loss: 1.1184 - accuracy: 0.7533 - val_loss: 0.9080 - val_accuracy: 0.7992\n",
            "Epoch 3/5\n",
            "24/24 [==============================] - 14s 576ms/step - loss: 0.8188 - accuracy: 0.8053 - val_loss: 0.7419 - val_accuracy: 0.8200\n",
            "Epoch 4/5\n",
            "24/24 [==============================] - 14s 578ms/step - loss: 0.6799 - accuracy: 0.8387 - val_loss: 0.6578 - val_accuracy: 0.8232\n",
            "Epoch 5/5\n",
            "24/24 [==============================] - 14s 575ms/step - loss: 0.5909 - accuracy: 0.8627 - val_loss: 0.6052 - val_accuracy: 0.8360\n"
          ],
          "name": "stdout"
        }
      ]
    },
    {
      "cell_type": "code",
      "metadata": {
        "colab": {
          "base_uri": "https://localhost:8080/"
        },
        "id": "p0haxQzTfOPD",
        "outputId": "7a0d971f-5739-468e-dcdd-2fc71b4562fe"
      },
      "source": [
        "# evaluate the data\n",
        "model_0.evaluate(test_data)"
      ],
      "execution_count": null,
      "outputs": [
        {
          "output_type": "stream",
          "text": [
            "79/79 [==============================] - 11s 129ms/step - loss: 0.6052 - accuracy: 0.8360\n"
          ],
          "name": "stdout"
        },
        {
          "output_type": "execute_result",
          "data": {
            "text/plain": [
              "[0.6052293181419373, 0.8360000252723694]"
            ]
          },
          "metadata": {},
          "execution_count": 14
        }
      ]
    },
    {
      "cell_type": "code",
      "metadata": {
        "colab": {
          "base_uri": "https://localhost:8080/"
        },
        "id": "CE07Tna1oaLs",
        "outputId": "5ba0d208-c692-435d-dc8a-4e88c3e30d60"
      },
      "source": [
        "# Check the layers in our base model\n",
        "for layer_number, layer in enumerate(base_model.layers):\n",
        "  print(layer_number, layer.name)"
      ],
      "execution_count": null,
      "outputs": [
        {
          "output_type": "stream",
          "text": [
            "0 input_1\n",
            "1 rescaling\n",
            "2 normalization\n",
            "3 stem_conv_pad\n",
            "4 stem_conv\n",
            "5 stem_bn\n",
            "6 stem_activation\n",
            "7 block1a_dwconv\n",
            "8 block1a_bn\n",
            "9 block1a_activation\n",
            "10 block1a_se_squeeze\n",
            "11 block1a_se_reshape\n",
            "12 block1a_se_reduce\n",
            "13 block1a_se_expand\n",
            "14 block1a_se_excite\n",
            "15 block1a_project_conv\n",
            "16 block1a_project_bn\n",
            "17 block2a_expand_conv\n",
            "18 block2a_expand_bn\n",
            "19 block2a_expand_activation\n",
            "20 block2a_dwconv_pad\n",
            "21 block2a_dwconv\n",
            "22 block2a_bn\n",
            "23 block2a_activation\n",
            "24 block2a_se_squeeze\n",
            "25 block2a_se_reshape\n",
            "26 block2a_se_reduce\n",
            "27 block2a_se_expand\n",
            "28 block2a_se_excite\n",
            "29 block2a_project_conv\n",
            "30 block2a_project_bn\n",
            "31 block2b_expand_conv\n",
            "32 block2b_expand_bn\n",
            "33 block2b_expand_activation\n",
            "34 block2b_dwconv\n",
            "35 block2b_bn\n",
            "36 block2b_activation\n",
            "37 block2b_se_squeeze\n",
            "38 block2b_se_reshape\n",
            "39 block2b_se_reduce\n",
            "40 block2b_se_expand\n",
            "41 block2b_se_excite\n",
            "42 block2b_project_conv\n",
            "43 block2b_project_bn\n",
            "44 block2b_drop\n",
            "45 block2b_add\n",
            "46 block3a_expand_conv\n",
            "47 block3a_expand_bn\n",
            "48 block3a_expand_activation\n",
            "49 block3a_dwconv_pad\n",
            "50 block3a_dwconv\n",
            "51 block3a_bn\n",
            "52 block3a_activation\n",
            "53 block3a_se_squeeze\n",
            "54 block3a_se_reshape\n",
            "55 block3a_se_reduce\n",
            "56 block3a_se_expand\n",
            "57 block3a_se_excite\n",
            "58 block3a_project_conv\n",
            "59 block3a_project_bn\n",
            "60 block3b_expand_conv\n",
            "61 block3b_expand_bn\n",
            "62 block3b_expand_activation\n",
            "63 block3b_dwconv\n",
            "64 block3b_bn\n",
            "65 block3b_activation\n",
            "66 block3b_se_squeeze\n",
            "67 block3b_se_reshape\n",
            "68 block3b_se_reduce\n",
            "69 block3b_se_expand\n",
            "70 block3b_se_excite\n",
            "71 block3b_project_conv\n",
            "72 block3b_project_bn\n",
            "73 block3b_drop\n",
            "74 block3b_add\n",
            "75 block4a_expand_conv\n",
            "76 block4a_expand_bn\n",
            "77 block4a_expand_activation\n",
            "78 block4a_dwconv_pad\n",
            "79 block4a_dwconv\n",
            "80 block4a_bn\n",
            "81 block4a_activation\n",
            "82 block4a_se_squeeze\n",
            "83 block4a_se_reshape\n",
            "84 block4a_se_reduce\n",
            "85 block4a_se_expand\n",
            "86 block4a_se_excite\n",
            "87 block4a_project_conv\n",
            "88 block4a_project_bn\n",
            "89 block4b_expand_conv\n",
            "90 block4b_expand_bn\n",
            "91 block4b_expand_activation\n",
            "92 block4b_dwconv\n",
            "93 block4b_bn\n",
            "94 block4b_activation\n",
            "95 block4b_se_squeeze\n",
            "96 block4b_se_reshape\n",
            "97 block4b_se_reduce\n",
            "98 block4b_se_expand\n",
            "99 block4b_se_excite\n",
            "100 block4b_project_conv\n",
            "101 block4b_project_bn\n",
            "102 block4b_drop\n",
            "103 block4b_add\n",
            "104 block4c_expand_conv\n",
            "105 block4c_expand_bn\n",
            "106 block4c_expand_activation\n",
            "107 block4c_dwconv\n",
            "108 block4c_bn\n",
            "109 block4c_activation\n",
            "110 block4c_se_squeeze\n",
            "111 block4c_se_reshape\n",
            "112 block4c_se_reduce\n",
            "113 block4c_se_expand\n",
            "114 block4c_se_excite\n",
            "115 block4c_project_conv\n",
            "116 block4c_project_bn\n",
            "117 block4c_drop\n",
            "118 block4c_add\n",
            "119 block5a_expand_conv\n",
            "120 block5a_expand_bn\n",
            "121 block5a_expand_activation\n",
            "122 block5a_dwconv\n",
            "123 block5a_bn\n",
            "124 block5a_activation\n",
            "125 block5a_se_squeeze\n",
            "126 block5a_se_reshape\n",
            "127 block5a_se_reduce\n",
            "128 block5a_se_expand\n",
            "129 block5a_se_excite\n",
            "130 block5a_project_conv\n",
            "131 block5a_project_bn\n",
            "132 block5b_expand_conv\n",
            "133 block5b_expand_bn\n",
            "134 block5b_expand_activation\n",
            "135 block5b_dwconv\n",
            "136 block5b_bn\n",
            "137 block5b_activation\n",
            "138 block5b_se_squeeze\n",
            "139 block5b_se_reshape\n",
            "140 block5b_se_reduce\n",
            "141 block5b_se_expand\n",
            "142 block5b_se_excite\n",
            "143 block5b_project_conv\n",
            "144 block5b_project_bn\n",
            "145 block5b_drop\n",
            "146 block5b_add\n",
            "147 block5c_expand_conv\n",
            "148 block5c_expand_bn\n",
            "149 block5c_expand_activation\n",
            "150 block5c_dwconv\n",
            "151 block5c_bn\n",
            "152 block5c_activation\n",
            "153 block5c_se_squeeze\n",
            "154 block5c_se_reshape\n",
            "155 block5c_se_reduce\n",
            "156 block5c_se_expand\n",
            "157 block5c_se_excite\n",
            "158 block5c_project_conv\n",
            "159 block5c_project_bn\n",
            "160 block5c_drop\n",
            "161 block5c_add\n",
            "162 block6a_expand_conv\n",
            "163 block6a_expand_bn\n",
            "164 block6a_expand_activation\n",
            "165 block6a_dwconv_pad\n",
            "166 block6a_dwconv\n",
            "167 block6a_bn\n",
            "168 block6a_activation\n",
            "169 block6a_se_squeeze\n",
            "170 block6a_se_reshape\n",
            "171 block6a_se_reduce\n",
            "172 block6a_se_expand\n",
            "173 block6a_se_excite\n",
            "174 block6a_project_conv\n",
            "175 block6a_project_bn\n",
            "176 block6b_expand_conv\n",
            "177 block6b_expand_bn\n",
            "178 block6b_expand_activation\n",
            "179 block6b_dwconv\n",
            "180 block6b_bn\n",
            "181 block6b_activation\n",
            "182 block6b_se_squeeze\n",
            "183 block6b_se_reshape\n",
            "184 block6b_se_reduce\n",
            "185 block6b_se_expand\n",
            "186 block6b_se_excite\n",
            "187 block6b_project_conv\n",
            "188 block6b_project_bn\n",
            "189 block6b_drop\n",
            "190 block6b_add\n",
            "191 block6c_expand_conv\n",
            "192 block6c_expand_bn\n",
            "193 block6c_expand_activation\n",
            "194 block6c_dwconv\n",
            "195 block6c_bn\n",
            "196 block6c_activation\n",
            "197 block6c_se_squeeze\n",
            "198 block6c_se_reshape\n",
            "199 block6c_se_reduce\n",
            "200 block6c_se_expand\n",
            "201 block6c_se_excite\n",
            "202 block6c_project_conv\n",
            "203 block6c_project_bn\n",
            "204 block6c_drop\n",
            "205 block6c_add\n",
            "206 block6d_expand_conv\n",
            "207 block6d_expand_bn\n",
            "208 block6d_expand_activation\n",
            "209 block6d_dwconv\n",
            "210 block6d_bn\n",
            "211 block6d_activation\n",
            "212 block6d_se_squeeze\n",
            "213 block6d_se_reshape\n",
            "214 block6d_se_reduce\n",
            "215 block6d_se_expand\n",
            "216 block6d_se_excite\n",
            "217 block6d_project_conv\n",
            "218 block6d_project_bn\n",
            "219 block6d_drop\n",
            "220 block6d_add\n",
            "221 block7a_expand_conv\n",
            "222 block7a_expand_bn\n",
            "223 block7a_expand_activation\n",
            "224 block7a_dwconv\n",
            "225 block7a_bn\n",
            "226 block7a_activation\n",
            "227 block7a_se_squeeze\n",
            "228 block7a_se_reshape\n",
            "229 block7a_se_reduce\n",
            "230 block7a_se_expand\n",
            "231 block7a_se_excite\n",
            "232 block7a_project_conv\n",
            "233 block7a_project_bn\n",
            "234 top_conv\n",
            "235 top_bn\n",
            "236 top_activation\n"
          ],
          "name": "stdout"
        }
      ]
    },
    {
      "cell_type": "code",
      "metadata": {
        "colab": {
          "base_uri": "https://localhost:8080/"
        },
        "id": "Yup6GhvFo7BY",
        "outputId": "6ed6355f-53b3-40d3-bc5f-3143110cd569"
      },
      "source": [
        "base_model.summary()"
      ],
      "execution_count": null,
      "outputs": [
        {
          "output_type": "stream",
          "text": [
            "Model: \"efficientnetb0\"\n",
            "__________________________________________________________________________________________________\n",
            "Layer (type)                    Output Shape         Param #     Connected to                     \n",
            "==================================================================================================\n",
            "input_1 (InputLayer)            [(None, None, None,  0                                            \n",
            "__________________________________________________________________________________________________\n",
            "rescaling (Rescaling)           (None, None, None, 3 0           input_1[0][0]                    \n",
            "__________________________________________________________________________________________________\n",
            "normalization (Normalization)   (None, None, None, 3 7           rescaling[0][0]                  \n",
            "__________________________________________________________________________________________________\n",
            "stem_conv_pad (ZeroPadding2D)   (None, None, None, 3 0           normalization[0][0]              \n",
            "__________________________________________________________________________________________________\n",
            "stem_conv (Conv2D)              (None, None, None, 3 864         stem_conv_pad[0][0]              \n",
            "__________________________________________________________________________________________________\n",
            "stem_bn (BatchNormalization)    (None, None, None, 3 128         stem_conv[0][0]                  \n",
            "__________________________________________________________________________________________________\n",
            "stem_activation (Activation)    (None, None, None, 3 0           stem_bn[0][0]                    \n",
            "__________________________________________________________________________________________________\n",
            "block1a_dwconv (DepthwiseConv2D (None, None, None, 3 288         stem_activation[0][0]            \n",
            "__________________________________________________________________________________________________\n",
            "block1a_bn (BatchNormalization) (None, None, None, 3 128         block1a_dwconv[0][0]             \n",
            "__________________________________________________________________________________________________\n",
            "block1a_activation (Activation) (None, None, None, 3 0           block1a_bn[0][0]                 \n",
            "__________________________________________________________________________________________________\n",
            "block1a_se_squeeze (GlobalAvera (None, 32)           0           block1a_activation[0][0]         \n",
            "__________________________________________________________________________________________________\n",
            "block1a_se_reshape (Reshape)    (None, 1, 1, 32)     0           block1a_se_squeeze[0][0]         \n",
            "__________________________________________________________________________________________________\n",
            "block1a_se_reduce (Conv2D)      (None, 1, 1, 8)      264         block1a_se_reshape[0][0]         \n",
            "__________________________________________________________________________________________________\n",
            "block1a_se_expand (Conv2D)      (None, 1, 1, 32)     288         block1a_se_reduce[0][0]          \n",
            "__________________________________________________________________________________________________\n",
            "block1a_se_excite (Multiply)    (None, None, None, 3 0           block1a_activation[0][0]         \n",
            "                                                                 block1a_se_expand[0][0]          \n",
            "__________________________________________________________________________________________________\n",
            "block1a_project_conv (Conv2D)   (None, None, None, 1 512         block1a_se_excite[0][0]          \n",
            "__________________________________________________________________________________________________\n",
            "block1a_project_bn (BatchNormal (None, None, None, 1 64          block1a_project_conv[0][0]       \n",
            "__________________________________________________________________________________________________\n",
            "block2a_expand_conv (Conv2D)    (None, None, None, 9 1536        block1a_project_bn[0][0]         \n",
            "__________________________________________________________________________________________________\n",
            "block2a_expand_bn (BatchNormali (None, None, None, 9 384         block2a_expand_conv[0][0]        \n",
            "__________________________________________________________________________________________________\n",
            "block2a_expand_activation (Acti (None, None, None, 9 0           block2a_expand_bn[0][0]          \n",
            "__________________________________________________________________________________________________\n",
            "block2a_dwconv_pad (ZeroPadding (None, None, None, 9 0           block2a_expand_activation[0][0]  \n",
            "__________________________________________________________________________________________________\n",
            "block2a_dwconv (DepthwiseConv2D (None, None, None, 9 864         block2a_dwconv_pad[0][0]         \n",
            "__________________________________________________________________________________________________\n",
            "block2a_bn (BatchNormalization) (None, None, None, 9 384         block2a_dwconv[0][0]             \n",
            "__________________________________________________________________________________________________\n",
            "block2a_activation (Activation) (None, None, None, 9 0           block2a_bn[0][0]                 \n",
            "__________________________________________________________________________________________________\n",
            "block2a_se_squeeze (GlobalAvera (None, 96)           0           block2a_activation[0][0]         \n",
            "__________________________________________________________________________________________________\n",
            "block2a_se_reshape (Reshape)    (None, 1, 1, 96)     0           block2a_se_squeeze[0][0]         \n",
            "__________________________________________________________________________________________________\n",
            "block2a_se_reduce (Conv2D)      (None, 1, 1, 4)      388         block2a_se_reshape[0][0]         \n",
            "__________________________________________________________________________________________________\n",
            "block2a_se_expand (Conv2D)      (None, 1, 1, 96)     480         block2a_se_reduce[0][0]          \n",
            "__________________________________________________________________________________________________\n",
            "block2a_se_excite (Multiply)    (None, None, None, 9 0           block2a_activation[0][0]         \n",
            "                                                                 block2a_se_expand[0][0]          \n",
            "__________________________________________________________________________________________________\n",
            "block2a_project_conv (Conv2D)   (None, None, None, 2 2304        block2a_se_excite[0][0]          \n",
            "__________________________________________________________________________________________________\n",
            "block2a_project_bn (BatchNormal (None, None, None, 2 96          block2a_project_conv[0][0]       \n",
            "__________________________________________________________________________________________________\n",
            "block2b_expand_conv (Conv2D)    (None, None, None, 1 3456        block2a_project_bn[0][0]         \n",
            "__________________________________________________________________________________________________\n",
            "block2b_expand_bn (BatchNormali (None, None, None, 1 576         block2b_expand_conv[0][0]        \n",
            "__________________________________________________________________________________________________\n",
            "block2b_expand_activation (Acti (None, None, None, 1 0           block2b_expand_bn[0][0]          \n",
            "__________________________________________________________________________________________________\n",
            "block2b_dwconv (DepthwiseConv2D (None, None, None, 1 1296        block2b_expand_activation[0][0]  \n",
            "__________________________________________________________________________________________________\n",
            "block2b_bn (BatchNormalization) (None, None, None, 1 576         block2b_dwconv[0][0]             \n",
            "__________________________________________________________________________________________________\n",
            "block2b_activation (Activation) (None, None, None, 1 0           block2b_bn[0][0]                 \n",
            "__________________________________________________________________________________________________\n",
            "block2b_se_squeeze (GlobalAvera (None, 144)          0           block2b_activation[0][0]         \n",
            "__________________________________________________________________________________________________\n",
            "block2b_se_reshape (Reshape)    (None, 1, 1, 144)    0           block2b_se_squeeze[0][0]         \n",
            "__________________________________________________________________________________________________\n",
            "block2b_se_reduce (Conv2D)      (None, 1, 1, 6)      870         block2b_se_reshape[0][0]         \n",
            "__________________________________________________________________________________________________\n",
            "block2b_se_expand (Conv2D)      (None, 1, 1, 144)    1008        block2b_se_reduce[0][0]          \n",
            "__________________________________________________________________________________________________\n",
            "block2b_se_excite (Multiply)    (None, None, None, 1 0           block2b_activation[0][0]         \n",
            "                                                                 block2b_se_expand[0][0]          \n",
            "__________________________________________________________________________________________________\n",
            "block2b_project_conv (Conv2D)   (None, None, None, 2 3456        block2b_se_excite[0][0]          \n",
            "__________________________________________________________________________________________________\n",
            "block2b_project_bn (BatchNormal (None, None, None, 2 96          block2b_project_conv[0][0]       \n",
            "__________________________________________________________________________________________________\n",
            "block2b_drop (Dropout)          (None, None, None, 2 0           block2b_project_bn[0][0]         \n",
            "__________________________________________________________________________________________________\n",
            "block2b_add (Add)               (None, None, None, 2 0           block2b_drop[0][0]               \n",
            "                                                                 block2a_project_bn[0][0]         \n",
            "__________________________________________________________________________________________________\n",
            "block3a_expand_conv (Conv2D)    (None, None, None, 1 3456        block2b_add[0][0]                \n",
            "__________________________________________________________________________________________________\n",
            "block3a_expand_bn (BatchNormali (None, None, None, 1 576         block3a_expand_conv[0][0]        \n",
            "__________________________________________________________________________________________________\n",
            "block3a_expand_activation (Acti (None, None, None, 1 0           block3a_expand_bn[0][0]          \n",
            "__________________________________________________________________________________________________\n",
            "block3a_dwconv_pad (ZeroPadding (None, None, None, 1 0           block3a_expand_activation[0][0]  \n",
            "__________________________________________________________________________________________________\n",
            "block3a_dwconv (DepthwiseConv2D (None, None, None, 1 3600        block3a_dwconv_pad[0][0]         \n",
            "__________________________________________________________________________________________________\n",
            "block3a_bn (BatchNormalization) (None, None, None, 1 576         block3a_dwconv[0][0]             \n",
            "__________________________________________________________________________________________________\n",
            "block3a_activation (Activation) (None, None, None, 1 0           block3a_bn[0][0]                 \n",
            "__________________________________________________________________________________________________\n",
            "block3a_se_squeeze (GlobalAvera (None, 144)          0           block3a_activation[0][0]         \n",
            "__________________________________________________________________________________________________\n",
            "block3a_se_reshape (Reshape)    (None, 1, 1, 144)    0           block3a_se_squeeze[0][0]         \n",
            "__________________________________________________________________________________________________\n",
            "block3a_se_reduce (Conv2D)      (None, 1, 1, 6)      870         block3a_se_reshape[0][0]         \n",
            "__________________________________________________________________________________________________\n",
            "block3a_se_expand (Conv2D)      (None, 1, 1, 144)    1008        block3a_se_reduce[0][0]          \n",
            "__________________________________________________________________________________________________\n",
            "block3a_se_excite (Multiply)    (None, None, None, 1 0           block3a_activation[0][0]         \n",
            "                                                                 block3a_se_expand[0][0]          \n",
            "__________________________________________________________________________________________________\n",
            "block3a_project_conv (Conv2D)   (None, None, None, 4 5760        block3a_se_excite[0][0]          \n",
            "__________________________________________________________________________________________________\n",
            "block3a_project_bn (BatchNormal (None, None, None, 4 160         block3a_project_conv[0][0]       \n",
            "__________________________________________________________________________________________________\n",
            "block3b_expand_conv (Conv2D)    (None, None, None, 2 9600        block3a_project_bn[0][0]         \n",
            "__________________________________________________________________________________________________\n",
            "block3b_expand_bn (BatchNormali (None, None, None, 2 960         block3b_expand_conv[0][0]        \n",
            "__________________________________________________________________________________________________\n",
            "block3b_expand_activation (Acti (None, None, None, 2 0           block3b_expand_bn[0][0]          \n",
            "__________________________________________________________________________________________________\n",
            "block3b_dwconv (DepthwiseConv2D (None, None, None, 2 6000        block3b_expand_activation[0][0]  \n",
            "__________________________________________________________________________________________________\n",
            "block3b_bn (BatchNormalization) (None, None, None, 2 960         block3b_dwconv[0][0]             \n",
            "__________________________________________________________________________________________________\n",
            "block3b_activation (Activation) (None, None, None, 2 0           block3b_bn[0][0]                 \n",
            "__________________________________________________________________________________________________\n",
            "block3b_se_squeeze (GlobalAvera (None, 240)          0           block3b_activation[0][0]         \n",
            "__________________________________________________________________________________________________\n",
            "block3b_se_reshape (Reshape)    (None, 1, 1, 240)    0           block3b_se_squeeze[0][0]         \n",
            "__________________________________________________________________________________________________\n",
            "block3b_se_reduce (Conv2D)      (None, 1, 1, 10)     2410        block3b_se_reshape[0][0]         \n",
            "__________________________________________________________________________________________________\n",
            "block3b_se_expand (Conv2D)      (None, 1, 1, 240)    2640        block3b_se_reduce[0][0]          \n",
            "__________________________________________________________________________________________________\n",
            "block3b_se_excite (Multiply)    (None, None, None, 2 0           block3b_activation[0][0]         \n",
            "                                                                 block3b_se_expand[0][0]          \n",
            "__________________________________________________________________________________________________\n",
            "block3b_project_conv (Conv2D)   (None, None, None, 4 9600        block3b_se_excite[0][0]          \n",
            "__________________________________________________________________________________________________\n",
            "block3b_project_bn (BatchNormal (None, None, None, 4 160         block3b_project_conv[0][0]       \n",
            "__________________________________________________________________________________________________\n",
            "block3b_drop (Dropout)          (None, None, None, 4 0           block3b_project_bn[0][0]         \n",
            "__________________________________________________________________________________________________\n",
            "block3b_add (Add)               (None, None, None, 4 0           block3b_drop[0][0]               \n",
            "                                                                 block3a_project_bn[0][0]         \n",
            "__________________________________________________________________________________________________\n",
            "block4a_expand_conv (Conv2D)    (None, None, None, 2 9600        block3b_add[0][0]                \n",
            "__________________________________________________________________________________________________\n",
            "block4a_expand_bn (BatchNormali (None, None, None, 2 960         block4a_expand_conv[0][0]        \n",
            "__________________________________________________________________________________________________\n",
            "block4a_expand_activation (Acti (None, None, None, 2 0           block4a_expand_bn[0][0]          \n",
            "__________________________________________________________________________________________________\n",
            "block4a_dwconv_pad (ZeroPadding (None, None, None, 2 0           block4a_expand_activation[0][0]  \n",
            "__________________________________________________________________________________________________\n",
            "block4a_dwconv (DepthwiseConv2D (None, None, None, 2 2160        block4a_dwconv_pad[0][0]         \n",
            "__________________________________________________________________________________________________\n",
            "block4a_bn (BatchNormalization) (None, None, None, 2 960         block4a_dwconv[0][0]             \n",
            "__________________________________________________________________________________________________\n",
            "block4a_activation (Activation) (None, None, None, 2 0           block4a_bn[0][0]                 \n",
            "__________________________________________________________________________________________________\n",
            "block4a_se_squeeze (GlobalAvera (None, 240)          0           block4a_activation[0][0]         \n",
            "__________________________________________________________________________________________________\n",
            "block4a_se_reshape (Reshape)    (None, 1, 1, 240)    0           block4a_se_squeeze[0][0]         \n",
            "__________________________________________________________________________________________________\n",
            "block4a_se_reduce (Conv2D)      (None, 1, 1, 10)     2410        block4a_se_reshape[0][0]         \n",
            "__________________________________________________________________________________________________\n",
            "block4a_se_expand (Conv2D)      (None, 1, 1, 240)    2640        block4a_se_reduce[0][0]          \n",
            "__________________________________________________________________________________________________\n",
            "block4a_se_excite (Multiply)    (None, None, None, 2 0           block4a_activation[0][0]         \n",
            "                                                                 block4a_se_expand[0][0]          \n",
            "__________________________________________________________________________________________________\n",
            "block4a_project_conv (Conv2D)   (None, None, None, 8 19200       block4a_se_excite[0][0]          \n",
            "__________________________________________________________________________________________________\n",
            "block4a_project_bn (BatchNormal (None, None, None, 8 320         block4a_project_conv[0][0]       \n",
            "__________________________________________________________________________________________________\n",
            "block4b_expand_conv (Conv2D)    (None, None, None, 4 38400       block4a_project_bn[0][0]         \n",
            "__________________________________________________________________________________________________\n",
            "block4b_expand_bn (BatchNormali (None, None, None, 4 1920        block4b_expand_conv[0][0]        \n",
            "__________________________________________________________________________________________________\n",
            "block4b_expand_activation (Acti (None, None, None, 4 0           block4b_expand_bn[0][0]          \n",
            "__________________________________________________________________________________________________\n",
            "block4b_dwconv (DepthwiseConv2D (None, None, None, 4 4320        block4b_expand_activation[0][0]  \n",
            "__________________________________________________________________________________________________\n",
            "block4b_bn (BatchNormalization) (None, None, None, 4 1920        block4b_dwconv[0][0]             \n",
            "__________________________________________________________________________________________________\n",
            "block4b_activation (Activation) (None, None, None, 4 0           block4b_bn[0][0]                 \n",
            "__________________________________________________________________________________________________\n",
            "block4b_se_squeeze (GlobalAvera (None, 480)          0           block4b_activation[0][0]         \n",
            "__________________________________________________________________________________________________\n",
            "block4b_se_reshape (Reshape)    (None, 1, 1, 480)    0           block4b_se_squeeze[0][0]         \n",
            "__________________________________________________________________________________________________\n",
            "block4b_se_reduce (Conv2D)      (None, 1, 1, 20)     9620        block4b_se_reshape[0][0]         \n",
            "__________________________________________________________________________________________________\n",
            "block4b_se_expand (Conv2D)      (None, 1, 1, 480)    10080       block4b_se_reduce[0][0]          \n",
            "__________________________________________________________________________________________________\n",
            "block4b_se_excite (Multiply)    (None, None, None, 4 0           block4b_activation[0][0]         \n",
            "                                                                 block4b_se_expand[0][0]          \n",
            "__________________________________________________________________________________________________\n",
            "block4b_project_conv (Conv2D)   (None, None, None, 8 38400       block4b_se_excite[0][0]          \n",
            "__________________________________________________________________________________________________\n",
            "block4b_project_bn (BatchNormal (None, None, None, 8 320         block4b_project_conv[0][0]       \n",
            "__________________________________________________________________________________________________\n",
            "block4b_drop (Dropout)          (None, None, None, 8 0           block4b_project_bn[0][0]         \n",
            "__________________________________________________________________________________________________\n",
            "block4b_add (Add)               (None, None, None, 8 0           block4b_drop[0][0]               \n",
            "                                                                 block4a_project_bn[0][0]         \n",
            "__________________________________________________________________________________________________\n",
            "block4c_expand_conv (Conv2D)    (None, None, None, 4 38400       block4b_add[0][0]                \n",
            "__________________________________________________________________________________________________\n",
            "block4c_expand_bn (BatchNormali (None, None, None, 4 1920        block4c_expand_conv[0][0]        \n",
            "__________________________________________________________________________________________________\n",
            "block4c_expand_activation (Acti (None, None, None, 4 0           block4c_expand_bn[0][0]          \n",
            "__________________________________________________________________________________________________\n",
            "block4c_dwconv (DepthwiseConv2D (None, None, None, 4 4320        block4c_expand_activation[0][0]  \n",
            "__________________________________________________________________________________________________\n",
            "block4c_bn (BatchNormalization) (None, None, None, 4 1920        block4c_dwconv[0][0]             \n",
            "__________________________________________________________________________________________________\n",
            "block4c_activation (Activation) (None, None, None, 4 0           block4c_bn[0][0]                 \n",
            "__________________________________________________________________________________________________\n",
            "block4c_se_squeeze (GlobalAvera (None, 480)          0           block4c_activation[0][0]         \n",
            "__________________________________________________________________________________________________\n",
            "block4c_se_reshape (Reshape)    (None, 1, 1, 480)    0           block4c_se_squeeze[0][0]         \n",
            "__________________________________________________________________________________________________\n",
            "block4c_se_reduce (Conv2D)      (None, 1, 1, 20)     9620        block4c_se_reshape[0][0]         \n",
            "__________________________________________________________________________________________________\n",
            "block4c_se_expand (Conv2D)      (None, 1, 1, 480)    10080       block4c_se_reduce[0][0]          \n",
            "__________________________________________________________________________________________________\n",
            "block4c_se_excite (Multiply)    (None, None, None, 4 0           block4c_activation[0][0]         \n",
            "                                                                 block4c_se_expand[0][0]          \n",
            "__________________________________________________________________________________________________\n",
            "block4c_project_conv (Conv2D)   (None, None, None, 8 38400       block4c_se_excite[0][0]          \n",
            "__________________________________________________________________________________________________\n",
            "block4c_project_bn (BatchNormal (None, None, None, 8 320         block4c_project_conv[0][0]       \n",
            "__________________________________________________________________________________________________\n",
            "block4c_drop (Dropout)          (None, None, None, 8 0           block4c_project_bn[0][0]         \n",
            "__________________________________________________________________________________________________\n",
            "block4c_add (Add)               (None, None, None, 8 0           block4c_drop[0][0]               \n",
            "                                                                 block4b_add[0][0]                \n",
            "__________________________________________________________________________________________________\n",
            "block5a_expand_conv (Conv2D)    (None, None, None, 4 38400       block4c_add[0][0]                \n",
            "__________________________________________________________________________________________________\n",
            "block5a_expand_bn (BatchNormali (None, None, None, 4 1920        block5a_expand_conv[0][0]        \n",
            "__________________________________________________________________________________________________\n",
            "block5a_expand_activation (Acti (None, None, None, 4 0           block5a_expand_bn[0][0]          \n",
            "__________________________________________________________________________________________________\n",
            "block5a_dwconv (DepthwiseConv2D (None, None, None, 4 12000       block5a_expand_activation[0][0]  \n",
            "__________________________________________________________________________________________________\n",
            "block5a_bn (BatchNormalization) (None, None, None, 4 1920        block5a_dwconv[0][0]             \n",
            "__________________________________________________________________________________________________\n",
            "block5a_activation (Activation) (None, None, None, 4 0           block5a_bn[0][0]                 \n",
            "__________________________________________________________________________________________________\n",
            "block5a_se_squeeze (GlobalAvera (None, 480)          0           block5a_activation[0][0]         \n",
            "__________________________________________________________________________________________________\n",
            "block5a_se_reshape (Reshape)    (None, 1, 1, 480)    0           block5a_se_squeeze[0][0]         \n",
            "__________________________________________________________________________________________________\n",
            "block5a_se_reduce (Conv2D)      (None, 1, 1, 20)     9620        block5a_se_reshape[0][0]         \n",
            "__________________________________________________________________________________________________\n",
            "block5a_se_expand (Conv2D)      (None, 1, 1, 480)    10080       block5a_se_reduce[0][0]          \n",
            "__________________________________________________________________________________________________\n",
            "block5a_se_excite (Multiply)    (None, None, None, 4 0           block5a_activation[0][0]         \n",
            "                                                                 block5a_se_expand[0][0]          \n",
            "__________________________________________________________________________________________________\n",
            "block5a_project_conv (Conv2D)   (None, None, None, 1 53760       block5a_se_excite[0][0]          \n",
            "__________________________________________________________________________________________________\n",
            "block5a_project_bn (BatchNormal (None, None, None, 1 448         block5a_project_conv[0][0]       \n",
            "__________________________________________________________________________________________________\n",
            "block5b_expand_conv (Conv2D)    (None, None, None, 6 75264       block5a_project_bn[0][0]         \n",
            "__________________________________________________________________________________________________\n",
            "block5b_expand_bn (BatchNormali (None, None, None, 6 2688        block5b_expand_conv[0][0]        \n",
            "__________________________________________________________________________________________________\n",
            "block5b_expand_activation (Acti (None, None, None, 6 0           block5b_expand_bn[0][0]          \n",
            "__________________________________________________________________________________________________\n",
            "block5b_dwconv (DepthwiseConv2D (None, None, None, 6 16800       block5b_expand_activation[0][0]  \n",
            "__________________________________________________________________________________________________\n",
            "block5b_bn (BatchNormalization) (None, None, None, 6 2688        block5b_dwconv[0][0]             \n",
            "__________________________________________________________________________________________________\n",
            "block5b_activation (Activation) (None, None, None, 6 0           block5b_bn[0][0]                 \n",
            "__________________________________________________________________________________________________\n",
            "block5b_se_squeeze (GlobalAvera (None, 672)          0           block5b_activation[0][0]         \n",
            "__________________________________________________________________________________________________\n",
            "block5b_se_reshape (Reshape)    (None, 1, 1, 672)    0           block5b_se_squeeze[0][0]         \n",
            "__________________________________________________________________________________________________\n",
            "block5b_se_reduce (Conv2D)      (None, 1, 1, 28)     18844       block5b_se_reshape[0][0]         \n",
            "__________________________________________________________________________________________________\n",
            "block5b_se_expand (Conv2D)      (None, 1, 1, 672)    19488       block5b_se_reduce[0][0]          \n",
            "__________________________________________________________________________________________________\n",
            "block5b_se_excite (Multiply)    (None, None, None, 6 0           block5b_activation[0][0]         \n",
            "                                                                 block5b_se_expand[0][0]          \n",
            "__________________________________________________________________________________________________\n",
            "block5b_project_conv (Conv2D)   (None, None, None, 1 75264       block5b_se_excite[0][0]          \n",
            "__________________________________________________________________________________________________\n",
            "block5b_project_bn (BatchNormal (None, None, None, 1 448         block5b_project_conv[0][0]       \n",
            "__________________________________________________________________________________________________\n",
            "block5b_drop (Dropout)          (None, None, None, 1 0           block5b_project_bn[0][0]         \n",
            "__________________________________________________________________________________________________\n",
            "block5b_add (Add)               (None, None, None, 1 0           block5b_drop[0][0]               \n",
            "                                                                 block5a_project_bn[0][0]         \n",
            "__________________________________________________________________________________________________\n",
            "block5c_expand_conv (Conv2D)    (None, None, None, 6 75264       block5b_add[0][0]                \n",
            "__________________________________________________________________________________________________\n",
            "block5c_expand_bn (BatchNormali (None, None, None, 6 2688        block5c_expand_conv[0][0]        \n",
            "__________________________________________________________________________________________________\n",
            "block5c_expand_activation (Acti (None, None, None, 6 0           block5c_expand_bn[0][0]          \n",
            "__________________________________________________________________________________________________\n",
            "block5c_dwconv (DepthwiseConv2D (None, None, None, 6 16800       block5c_expand_activation[0][0]  \n",
            "__________________________________________________________________________________________________\n",
            "block5c_bn (BatchNormalization) (None, None, None, 6 2688        block5c_dwconv[0][0]             \n",
            "__________________________________________________________________________________________________\n",
            "block5c_activation (Activation) (None, None, None, 6 0           block5c_bn[0][0]                 \n",
            "__________________________________________________________________________________________________\n",
            "block5c_se_squeeze (GlobalAvera (None, 672)          0           block5c_activation[0][0]         \n",
            "__________________________________________________________________________________________________\n",
            "block5c_se_reshape (Reshape)    (None, 1, 1, 672)    0           block5c_se_squeeze[0][0]         \n",
            "__________________________________________________________________________________________________\n",
            "block5c_se_reduce (Conv2D)      (None, 1, 1, 28)     18844       block5c_se_reshape[0][0]         \n",
            "__________________________________________________________________________________________________\n",
            "block5c_se_expand (Conv2D)      (None, 1, 1, 672)    19488       block5c_se_reduce[0][0]          \n",
            "__________________________________________________________________________________________________\n",
            "block5c_se_excite (Multiply)    (None, None, None, 6 0           block5c_activation[0][0]         \n",
            "                                                                 block5c_se_expand[0][0]          \n",
            "__________________________________________________________________________________________________\n",
            "block5c_project_conv (Conv2D)   (None, None, None, 1 75264       block5c_se_excite[0][0]          \n",
            "__________________________________________________________________________________________________\n",
            "block5c_project_bn (BatchNormal (None, None, None, 1 448         block5c_project_conv[0][0]       \n",
            "__________________________________________________________________________________________________\n",
            "block5c_drop (Dropout)          (None, None, None, 1 0           block5c_project_bn[0][0]         \n",
            "__________________________________________________________________________________________________\n",
            "block5c_add (Add)               (None, None, None, 1 0           block5c_drop[0][0]               \n",
            "                                                                 block5b_add[0][0]                \n",
            "__________________________________________________________________________________________________\n",
            "block6a_expand_conv (Conv2D)    (None, None, None, 6 75264       block5c_add[0][0]                \n",
            "__________________________________________________________________________________________________\n",
            "block6a_expand_bn (BatchNormali (None, None, None, 6 2688        block6a_expand_conv[0][0]        \n",
            "__________________________________________________________________________________________________\n",
            "block6a_expand_activation (Acti (None, None, None, 6 0           block6a_expand_bn[0][0]          \n",
            "__________________________________________________________________________________________________\n",
            "block6a_dwconv_pad (ZeroPadding (None, None, None, 6 0           block6a_expand_activation[0][0]  \n",
            "__________________________________________________________________________________________________\n",
            "block6a_dwconv (DepthwiseConv2D (None, None, None, 6 16800       block6a_dwconv_pad[0][0]         \n",
            "__________________________________________________________________________________________________\n",
            "block6a_bn (BatchNormalization) (None, None, None, 6 2688        block6a_dwconv[0][0]             \n",
            "__________________________________________________________________________________________________\n",
            "block6a_activation (Activation) (None, None, None, 6 0           block6a_bn[0][0]                 \n",
            "__________________________________________________________________________________________________\n",
            "block6a_se_squeeze (GlobalAvera (None, 672)          0           block6a_activation[0][0]         \n",
            "__________________________________________________________________________________________________\n",
            "block6a_se_reshape (Reshape)    (None, 1, 1, 672)    0           block6a_se_squeeze[0][0]         \n",
            "__________________________________________________________________________________________________\n",
            "block6a_se_reduce (Conv2D)      (None, 1, 1, 28)     18844       block6a_se_reshape[0][0]         \n",
            "__________________________________________________________________________________________________\n",
            "block6a_se_expand (Conv2D)      (None, 1, 1, 672)    19488       block6a_se_reduce[0][0]          \n",
            "__________________________________________________________________________________________________\n",
            "block6a_se_excite (Multiply)    (None, None, None, 6 0           block6a_activation[0][0]         \n",
            "                                                                 block6a_se_expand[0][0]          \n",
            "__________________________________________________________________________________________________\n",
            "block6a_project_conv (Conv2D)   (None, None, None, 1 129024      block6a_se_excite[0][0]          \n",
            "__________________________________________________________________________________________________\n",
            "block6a_project_bn (BatchNormal (None, None, None, 1 768         block6a_project_conv[0][0]       \n",
            "__________________________________________________________________________________________________\n",
            "block6b_expand_conv (Conv2D)    (None, None, None, 1 221184      block6a_project_bn[0][0]         \n",
            "__________________________________________________________________________________________________\n",
            "block6b_expand_bn (BatchNormali (None, None, None, 1 4608        block6b_expand_conv[0][0]        \n",
            "__________________________________________________________________________________________________\n",
            "block6b_expand_activation (Acti (None, None, None, 1 0           block6b_expand_bn[0][0]          \n",
            "__________________________________________________________________________________________________\n",
            "block6b_dwconv (DepthwiseConv2D (None, None, None, 1 28800       block6b_expand_activation[0][0]  \n",
            "__________________________________________________________________________________________________\n",
            "block6b_bn (BatchNormalization) (None, None, None, 1 4608        block6b_dwconv[0][0]             \n",
            "__________________________________________________________________________________________________\n",
            "block6b_activation (Activation) (None, None, None, 1 0           block6b_bn[0][0]                 \n",
            "__________________________________________________________________________________________________\n",
            "block6b_se_squeeze (GlobalAvera (None, 1152)         0           block6b_activation[0][0]         \n",
            "__________________________________________________________________________________________________\n",
            "block6b_se_reshape (Reshape)    (None, 1, 1, 1152)   0           block6b_se_squeeze[0][0]         \n",
            "__________________________________________________________________________________________________\n",
            "block6b_se_reduce (Conv2D)      (None, 1, 1, 48)     55344       block6b_se_reshape[0][0]         \n",
            "__________________________________________________________________________________________________\n",
            "block6b_se_expand (Conv2D)      (None, 1, 1, 1152)   56448       block6b_se_reduce[0][0]          \n",
            "__________________________________________________________________________________________________\n",
            "block6b_se_excite (Multiply)    (None, None, None, 1 0           block6b_activation[0][0]         \n",
            "                                                                 block6b_se_expand[0][0]          \n",
            "__________________________________________________________________________________________________\n",
            "block6b_project_conv (Conv2D)   (None, None, None, 1 221184      block6b_se_excite[0][0]          \n",
            "__________________________________________________________________________________________________\n",
            "block6b_project_bn (BatchNormal (None, None, None, 1 768         block6b_project_conv[0][0]       \n",
            "__________________________________________________________________________________________________\n",
            "block6b_drop (Dropout)          (None, None, None, 1 0           block6b_project_bn[0][0]         \n",
            "__________________________________________________________________________________________________\n",
            "block6b_add (Add)               (None, None, None, 1 0           block6b_drop[0][0]               \n",
            "                                                                 block6a_project_bn[0][0]         \n",
            "__________________________________________________________________________________________________\n",
            "block6c_expand_conv (Conv2D)    (None, None, None, 1 221184      block6b_add[0][0]                \n",
            "__________________________________________________________________________________________________\n",
            "block6c_expand_bn (BatchNormali (None, None, None, 1 4608        block6c_expand_conv[0][0]        \n",
            "__________________________________________________________________________________________________\n",
            "block6c_expand_activation (Acti (None, None, None, 1 0           block6c_expand_bn[0][0]          \n",
            "__________________________________________________________________________________________________\n",
            "block6c_dwconv (DepthwiseConv2D (None, None, None, 1 28800       block6c_expand_activation[0][0]  \n",
            "__________________________________________________________________________________________________\n",
            "block6c_bn (BatchNormalization) (None, None, None, 1 4608        block6c_dwconv[0][0]             \n",
            "__________________________________________________________________________________________________\n",
            "block6c_activation (Activation) (None, None, None, 1 0           block6c_bn[0][0]                 \n",
            "__________________________________________________________________________________________________\n",
            "block6c_se_squeeze (GlobalAvera (None, 1152)         0           block6c_activation[0][0]         \n",
            "__________________________________________________________________________________________________\n",
            "block6c_se_reshape (Reshape)    (None, 1, 1, 1152)   0           block6c_se_squeeze[0][0]         \n",
            "__________________________________________________________________________________________________\n",
            "block6c_se_reduce (Conv2D)      (None, 1, 1, 48)     55344       block6c_se_reshape[0][0]         \n",
            "__________________________________________________________________________________________________\n",
            "block6c_se_expand (Conv2D)      (None, 1, 1, 1152)   56448       block6c_se_reduce[0][0]          \n",
            "__________________________________________________________________________________________________\n",
            "block6c_se_excite (Multiply)    (None, None, None, 1 0           block6c_activation[0][0]         \n",
            "                                                                 block6c_se_expand[0][0]          \n",
            "__________________________________________________________________________________________________\n",
            "block6c_project_conv (Conv2D)   (None, None, None, 1 221184      block6c_se_excite[0][0]          \n",
            "__________________________________________________________________________________________________\n",
            "block6c_project_bn (BatchNormal (None, None, None, 1 768         block6c_project_conv[0][0]       \n",
            "__________________________________________________________________________________________________\n",
            "block6c_drop (Dropout)          (None, None, None, 1 0           block6c_project_bn[0][0]         \n",
            "__________________________________________________________________________________________________\n",
            "block6c_add (Add)               (None, None, None, 1 0           block6c_drop[0][0]               \n",
            "                                                                 block6b_add[0][0]                \n",
            "__________________________________________________________________________________________________\n",
            "block6d_expand_conv (Conv2D)    (None, None, None, 1 221184      block6c_add[0][0]                \n",
            "__________________________________________________________________________________________________\n",
            "block6d_expand_bn (BatchNormali (None, None, None, 1 4608        block6d_expand_conv[0][0]        \n",
            "__________________________________________________________________________________________________\n",
            "block6d_expand_activation (Acti (None, None, None, 1 0           block6d_expand_bn[0][0]          \n",
            "__________________________________________________________________________________________________\n",
            "block6d_dwconv (DepthwiseConv2D (None, None, None, 1 28800       block6d_expand_activation[0][0]  \n",
            "__________________________________________________________________________________________________\n",
            "block6d_bn (BatchNormalization) (None, None, None, 1 4608        block6d_dwconv[0][0]             \n",
            "__________________________________________________________________________________________________\n",
            "block6d_activation (Activation) (None, None, None, 1 0           block6d_bn[0][0]                 \n",
            "__________________________________________________________________________________________________\n",
            "block6d_se_squeeze (GlobalAvera (None, 1152)         0           block6d_activation[0][0]         \n",
            "__________________________________________________________________________________________________\n",
            "block6d_se_reshape (Reshape)    (None, 1, 1, 1152)   0           block6d_se_squeeze[0][0]         \n",
            "__________________________________________________________________________________________________\n",
            "block6d_se_reduce (Conv2D)      (None, 1, 1, 48)     55344       block6d_se_reshape[0][0]         \n",
            "__________________________________________________________________________________________________\n",
            "block6d_se_expand (Conv2D)      (None, 1, 1, 1152)   56448       block6d_se_reduce[0][0]          \n",
            "__________________________________________________________________________________________________\n",
            "block6d_se_excite (Multiply)    (None, None, None, 1 0           block6d_activation[0][0]         \n",
            "                                                                 block6d_se_expand[0][0]          \n",
            "__________________________________________________________________________________________________\n",
            "block6d_project_conv (Conv2D)   (None, None, None, 1 221184      block6d_se_excite[0][0]          \n",
            "__________________________________________________________________________________________________\n",
            "block6d_project_bn (BatchNormal (None, None, None, 1 768         block6d_project_conv[0][0]       \n",
            "__________________________________________________________________________________________________\n",
            "block6d_drop (Dropout)          (None, None, None, 1 0           block6d_project_bn[0][0]         \n",
            "__________________________________________________________________________________________________\n",
            "block6d_add (Add)               (None, None, None, 1 0           block6d_drop[0][0]               \n",
            "                                                                 block6c_add[0][0]                \n",
            "__________________________________________________________________________________________________\n",
            "block7a_expand_conv (Conv2D)    (None, None, None, 1 221184      block6d_add[0][0]                \n",
            "__________________________________________________________________________________________________\n",
            "block7a_expand_bn (BatchNormali (None, None, None, 1 4608        block7a_expand_conv[0][0]        \n",
            "__________________________________________________________________________________________________\n",
            "block7a_expand_activation (Acti (None, None, None, 1 0           block7a_expand_bn[0][0]          \n",
            "__________________________________________________________________________________________________\n",
            "block7a_dwconv (DepthwiseConv2D (None, None, None, 1 10368       block7a_expand_activation[0][0]  \n",
            "__________________________________________________________________________________________________\n",
            "block7a_bn (BatchNormalization) (None, None, None, 1 4608        block7a_dwconv[0][0]             \n",
            "__________________________________________________________________________________________________\n",
            "block7a_activation (Activation) (None, None, None, 1 0           block7a_bn[0][0]                 \n",
            "__________________________________________________________________________________________________\n",
            "block7a_se_squeeze (GlobalAvera (None, 1152)         0           block7a_activation[0][0]         \n",
            "__________________________________________________________________________________________________\n",
            "block7a_se_reshape (Reshape)    (None, 1, 1, 1152)   0           block7a_se_squeeze[0][0]         \n",
            "__________________________________________________________________________________________________\n",
            "block7a_se_reduce (Conv2D)      (None, 1, 1, 48)     55344       block7a_se_reshape[0][0]         \n",
            "__________________________________________________________________________________________________\n",
            "block7a_se_expand (Conv2D)      (None, 1, 1, 1152)   56448       block7a_se_reduce[0][0]          \n",
            "__________________________________________________________________________________________________\n",
            "block7a_se_excite (Multiply)    (None, None, None, 1 0           block7a_activation[0][0]         \n",
            "                                                                 block7a_se_expand[0][0]          \n",
            "__________________________________________________________________________________________________\n",
            "block7a_project_conv (Conv2D)   (None, None, None, 3 368640      block7a_se_excite[0][0]          \n",
            "__________________________________________________________________________________________________\n",
            "block7a_project_bn (BatchNormal (None, None, None, 3 1280        block7a_project_conv[0][0]       \n",
            "__________________________________________________________________________________________________\n",
            "top_conv (Conv2D)               (None, None, None, 1 409600      block7a_project_bn[0][0]         \n",
            "__________________________________________________________________________________________________\n",
            "top_bn (BatchNormalization)     (None, None, None, 1 5120        top_conv[0][0]                   \n",
            "__________________________________________________________________________________________________\n",
            "top_activation (Activation)     (None, None, None, 1 0           top_bn[0][0]                     \n",
            "==================================================================================================\n",
            "Total params: 4,049,571\n",
            "Trainable params: 0\n",
            "Non-trainable params: 4,049,571\n",
            "__________________________________________________________________________________________________\n"
          ],
          "name": "stdout"
        }
      ]
    },
    {
      "cell_type": "code",
      "metadata": {
        "id": "Yw5EwKNwpZXE",
        "colab": {
          "base_uri": "https://localhost:8080/"
        },
        "outputId": "61fdc69d-b36b-41aa-fe01-00fdb914edff"
      },
      "source": [
        "model_0.summary()"
      ],
      "execution_count": null,
      "outputs": [
        {
          "output_type": "stream",
          "text": [
            "Model: \"model\"\n",
            "_________________________________________________________________\n",
            "Layer (type)                 Output Shape              Param #   \n",
            "=================================================================\n",
            "input_layer (InputLayer)     [(None, 224, 224, 3)]     0         \n",
            "_________________________________________________________________\n",
            "efficientnetb0 (Functional)  (None, None, None, 1280)  4049571   \n",
            "_________________________________________________________________\n",
            "global_average_poolig_layer  (None, 1280)              0         \n",
            "_________________________________________________________________\n",
            "output_layer (Dense)         (None, 10)                12810     \n",
            "=================================================================\n",
            "Total params: 4,062,381\n",
            "Trainable params: 12,810\n",
            "Non-trainable params: 4,049,571\n",
            "_________________________________________________________________\n"
          ],
          "name": "stdout"
        }
      ]
    },
    {
      "cell_type": "code",
      "metadata": {
        "id": "1iehVHB_k8YD"
      },
      "source": [
        "# plot loss curve\n",
        "def plot_loss_curve(history):\n",
        "  loss = history.history[\"loss\"]\n",
        "  val_loss = history.history[\"val_loss\"]\n",
        "\n",
        "  accuracy = history.history[\"accuracy\"]\n",
        "  val_accuracy = history.history[\"val_accuracy\"]\n",
        "\n",
        "  epochs = range(len(history.history[\"loss\"]))\n",
        "\n",
        "  plt.figure(figsize=(12,6))\n",
        "\n",
        "  plt.subplot(1,2,1)\n",
        "  plt.plot(epochs, loss, label=\"loss\")\n",
        "  plt.plot(epochs, val_loss, label=\"val_loss\")\n",
        "  plt.xlabel(\"Epochs\")\n",
        "  plt.ylabel(\"loss\")\n",
        "  plt.title(\"Loss Curve\")\n",
        "  plt.legend()\n",
        "\n",
        "  plt.subplot(1,2,2)\n",
        "  plt.plot(epochs, accuracy, label=\"accuracy\")\n",
        "  plt.plot(epochs, val_accuracy, label=\"val_accuracy\")\n",
        "  plt.xlabel(\"epochs\")\n",
        "  plt.ylabel(\"accuracy\")\n",
        "  plt.title(\"Accuracy Curve\")\n",
        "  plt.legend()"
      ],
      "execution_count": null,
      "outputs": []
    },
    {
      "cell_type": "code",
      "metadata": {
        "colab": {
          "base_uri": "https://localhost:8080/",
          "height": 404
        },
        "id": "wwOtmbi6oOTJ",
        "outputId": "28411752-7375-46e6-e998-e2118607db31"
      },
      "source": [
        "plot_loss_curve(model_0_histroy)"
      ],
      "execution_count": null,
      "outputs": [
        {
          "output_type": "display_data",
          "data": {
            "image/png": "[encoded data removed]",
            "text/plain": [
              "<Figure size 864x432 with 2 Axes>"
            ]
          },
          "metadata": {
            "needs_background": "light"
          }
        }
      ]
    },
    {
      "cell_type": "markdown",
      "metadata": {
        "id": "XNpHMp4IpXy-"
      },
      "source": [
        "# Getting a Feature Vector from a trained model"
      ]
    },
    {
      "cell_type": "markdown",
      "metadata": {
        "id": "TBpZMfAY9hYL"
      },
      "source": [
        "## GlobalAveragePooling2D\n",
        "\n",
        "returns a **feature_vector**"
      ]
    },
    {
      "cell_type": "code",
      "metadata": {
        "colab": {
          "base_uri": "https://localhost:8080/"
        },
        "id": "9NbPrDw29uAJ",
        "outputId": "6532bd1c-d61c-4746-ecac-f4de75670178"
      },
      "source": [
        "# Define the input shape\n",
        "input_shape =  (1, 4, 4, 3)\n",
        "\n",
        "# Create a random tensor\n",
        "tf.random.set_seed(42)\n",
        "input_tensor = tf.random.normal(input_shape)\n",
        "print(f\"Random input tensor:\\n {input_tensor} \\n\")\n",
        "\n",
        "# pass the random tensor through the global average pooling 2D layer\n",
        "global_average_pooling_layer = tf.keras.layers.GlobalAveragePooling2D() (input_tensor)\n",
        "print(f\"2D global Average pooling random tensor: \\n {global_average_pooling_layer} \\n\")\n",
        "\n",
        "# check the shape of the differet tensor\n",
        "print(f\"input_tensor shape : {input_tensor.shape}\")\n",
        "print(f\"GlobalAveragePooling2D shape : {global_average_pooling_layer.shape}\")\n"
      ],
      "execution_count": null,
      "outputs": [
        {
          "output_type": "stream",
          "text": [
            "Random input tensor:\n",
            " [[[[ 0.3274685  -0.8426258   0.3194337 ]\n",
            "   [-1.4075519  -2.3880599  -1.0392479 ]\n",
            "   [-0.5573232   0.539707    1.6994323 ]\n",
            "   [ 0.28893656 -1.5066116  -0.2645474 ]]\n",
            "\n",
            "  [[-0.59722406 -1.9171132  -0.62044144]\n",
            "   [ 0.8504023  -0.40604794 -3.0258412 ]\n",
            "   [ 0.9058464   0.29855987 -0.22561555]\n",
            "   [-0.7616443  -1.8917141  -0.93847126]]\n",
            "\n",
            "  [[ 0.77852213 -0.47338897  0.97772694]\n",
            "   [ 0.24694404  0.20573747 -0.5256233 ]\n",
            "   [ 0.32410017  0.02545409 -0.10638497]\n",
            "   [-0.6369475   1.1603122   0.2507359 ]]\n",
            "\n",
            "  [[-0.41728503  0.4012578  -1.4145443 ]\n",
            "   [-0.5931857  -1.6617213   0.33567193]\n",
            "   [ 0.10815629  0.23479682 -0.56668764]\n",
            "   [-0.35819843  0.88698614  0.52744764]]]] \n",
            "\n",
            "2D global Average pooling random tensor: \n",
            " [[-0.09368646 -0.45840448 -0.2885598 ]] \n",
            "\n",
            "input_tensor shape : (1, 4, 4, 3)\n",
            "GlobalAveragePooling2D shape : (1, 3)\n"
          ],
          "name": "stdout"
        }
      ]
    },
    {
      "cell_type": "markdown",
      "metadata": {
        "id": "oO3lyjxH9ozn"
      },
      "source": [
        "## GlobalMaxPooling2D\n",
        "\n",
        "returns a **feature_vector**"
      ]
    },
    {
      "cell_type": "code",
      "metadata": {
        "colab": {
          "base_uri": "https://localhost:8080/"
        },
        "id": "UEsC88O_oRf8",
        "outputId": "37a0f49a-2bd6-4572-999b-f6a666f555bd"
      },
      "source": [
        "input_shape = (1,4,4,3)\n",
        "\n",
        "# create the random tensor\n",
        "tf.random.set_seed(42)\n",
        "input_tensor = tf.random.normal(input_shape)\n",
        "print(f\"Random Tensor: \\n{input_tensor}\\n\")\n",
        "\n",
        "# pass the input tensor through the GlobalMaxPooling2D\n",
        "global_max_pooling_layer = tf.keras.layers.GlobalMaxPooling2D() (input_tensor)\n",
        "print(f\"GlobalMaxPooling2D : \\n{global_max_pooling_layer}\\n\")\n",
        "\n",
        "# print the shape of different layer\n",
        "print(f\"input_tensor shape: {input_tensor.shape}\\n\")\n",
        "print(f\"GlobalMaxPooling2D shape: {global_max_pooling_layer.shape}\\n\")"
      ],
      "execution_count": null,
      "outputs": [
        {
          "output_type": "stream",
          "text": [
            "Random Tensor: \n",
            "[[[[ 0.3274685  -0.8426258   0.3194337 ]\n",
            "   [-1.4075519  -2.3880599  -1.0392479 ]\n",
            "   [-0.5573232   0.539707    1.6994323 ]\n",
            "   [ 0.28893656 -1.5066116  -0.2645474 ]]\n",
            "\n",
            "  [[-0.59722406 -1.9171132  -0.62044144]\n",
            "   [ 0.8504023  -0.40604794 -3.0258412 ]\n",
            "   [ 0.9058464   0.29855987 -0.22561555]\n",
            "   [-0.7616443  -1.8917141  -0.93847126]]\n",
            "\n",
            "  [[ 0.77852213 -0.47338897  0.97772694]\n",
            "   [ 0.24694404  0.20573747 -0.5256233 ]\n",
            "   [ 0.32410017  0.02545409 -0.10638497]\n",
            "   [-0.6369475   1.1603122   0.2507359 ]]\n",
            "\n",
            "  [[-0.41728503  0.4012578  -1.4145443 ]\n",
            "   [-0.5931857  -1.6617213   0.33567193]\n",
            "   [ 0.10815629  0.23479682 -0.56668764]\n",
            "   [-0.35819843  0.88698614  0.52744764]]]]\n",
            "\n",
            "GlobalMaxPooling2D : \n",
            "[[0.9058464 1.1603122 1.6994323]]\n",
            "\n",
            "input_tensor shape: (1, 4, 4, 3)\n",
            "\n",
            "GlobalMaxPooling2D shape: (1, 3)\n",
            "\n"
          ],
          "name": "stdout"
        }
      ]
    },
    {
      "cell_type": "markdown",
      "metadata": {
        "id": "sgrK85dxKBm5"
      },
      "source": [
        "**NOTE** One of the reasons feature extraction transfer learning is named how it is, is because what often happens is pretrained model outpus a **feature vector** (a long tensor of numbers which represent the learned representation of the model on a partcular sample, in our case, this is the output of the `tf.keras.layers.GlobalAveragePool2D()` layer) which can then be used to extract patterns out of our own specific probelm"
      ]
    },
    {
      "cell_type": "markdown",
      "metadata": {
        "id": "R4OE8mAZRAgp"
      },
      "source": [
        "# Running a series of transfer learning experiments\n",
        "\n",
        "1. `model_1` - use feature extraction transfer learning on 1% of the training data with data augmentation \n",
        "2. `model_2` - use feature extraction transfer learning on 10% of the training data and data augmentation\n",
        "3. `model_3` - use fine-tuning transfer learning on 10% of the training data and data augmentation\n",
        "4. `model_4` - use fine-tuning transfer learning on 100% of the training data and data augmentation \n"
      ]
    },
    {
      "cell_type": "markdown",
      "metadata": {
        "id": "3Ose1730RJaM"
      },
      "source": [
        "## 158).`model_1`: use feature extraction transfer learning on 1% of the training data with data augmentation \n"
      ]
    },
    {
      "cell_type": "code",
      "metadata": {
        "colab": {
          "base_uri": "https://localhost:8080/"
        },
        "id": "7ZS0kpqSFJtz",
        "outputId": "9feb07d4-4e9f-4212-ca34-fab54348c070"
      },
      "source": [
        "# download and unzip data\n",
        "!wget https://storage.googleapis.com/ztm_tf_course/food_vision/10_food_classes_1_percent.zip\n",
        "\n",
        "unzip_file(\"10_food_classes_1_percent.zip\")"
      ],
      "execution_count": null,
      "outputs": [
        {
          "output_type": "stream",
          "text": [
            "--2021-08-24 10:47:43--  https://storage.googleapis.com/ztm_tf_course/food_vision/10_food_classes_1_percent.zip\n",
            "Resolving storage.googleapis.com (storage.googleapis.com)... 142.250.157.128, 74.125.23.128, 74.125.203.128, ...\n",
            "Connecting to storage.googleapis.com (storage.googleapis.com)|142.250.157.128|:443... connected.\n",
            "HTTP request sent, awaiting response... 200 OK\n",
            "Length: 133612354 (127M) [application/zip]\n",
            "Saving to: ‘10_food_classes_1_percent.zip’\n",
            "\n",
            "10_food_classes_1_p 100%[===================>] 127.42M  72.9MB/s    in 1.7s    \n",
            "\n",
            "2021-08-24 10:47:46 (72.9 MB/s) - ‘10_food_classes_1_percent.zip’ saved [133612354/133612354]\n",
            "\n"
          ],
          "name": "stdout"
        }
      ]
    },
    {
      "cell_type": "code",
      "metadata": {
        "colab": {
          "base_uri": "https://localhost:8080/"
        },
        "id": "riHAAoPAQrX1",
        "outputId": "6d775c0e-3889-46d2-c702-3d4f14356fd4"
      },
      "source": [
        "wallk_through(\"10_food_classes_1_percent\")"
      ],
      "execution_count": null,
      "outputs": [
        {
          "output_type": "stream",
          "text": [
            "There are 0 imaegs in '10_food_classes_1_percent'\n",
            "There are 0 imaegs in '10_food_classes_1_percent/train'\n",
            "There are 7 imaegs in '10_food_classes_1_percent/train/pizza'\n",
            "There are 7 imaegs in '10_food_classes_1_percent/train/fried_rice'\n",
            "There are 7 imaegs in '10_food_classes_1_percent/train/grilled_salmon'\n",
            "There are 7 imaegs in '10_food_classes_1_percent/train/steak'\n",
            "There are 7 imaegs in '10_food_classes_1_percent/train/sushi'\n",
            "There are 7 imaegs in '10_food_classes_1_percent/train/chicken_curry'\n",
            "There are 7 imaegs in '10_food_classes_1_percent/train/hamburger'\n",
            "There are 7 imaegs in '10_food_classes_1_percent/train/ramen'\n",
            "There are 7 imaegs in '10_food_classes_1_percent/train/chicken_wings'\n",
            "There are 7 imaegs in '10_food_classes_1_percent/train/ice_cream'\n",
            "There are 0 imaegs in '10_food_classes_1_percent/test'\n",
            "There are 250 imaegs in '10_food_classes_1_percent/test/pizza'\n",
            "There are 250 imaegs in '10_food_classes_1_percent/test/fried_rice'\n",
            "There are 250 imaegs in '10_food_classes_1_percent/test/grilled_salmon'\n",
            "There are 250 imaegs in '10_food_classes_1_percent/test/steak'\n",
            "There are 250 imaegs in '10_food_classes_1_percent/test/sushi'\n",
            "There are 250 imaegs in '10_food_classes_1_percent/test/chicken_curry'\n",
            "There are 250 imaegs in '10_food_classes_1_percent/test/hamburger'\n",
            "There are 250 imaegs in '10_food_classes_1_percent/test/ramen'\n",
            "There are 250 imaegs in '10_food_classes_1_percent/test/chicken_wings'\n",
            "There are 250 imaegs in '10_food_classes_1_percent/test/ice_cream'\n"
          ],
          "name": "stdout"
        }
      ]
    },
    {
      "cell_type": "code",
      "metadata": {
        "id": "LCn19p0iTyme"
      },
      "source": [
        "train_dir = \"10_food_classes_1_percent/train\"\n",
        "test_dir = \"10_food_classes_1_percent/test\""
      ],
      "execution_count": null,
      "outputs": []
    },
    {
      "cell_type": "code",
      "metadata": {
        "colab": {
          "base_uri": "https://localhost:8080/"
        },
        "id": "uF76tqH8Pav8",
        "outputId": "35b24302-f309-4e19-dda6-eda97c7e04f0"
      },
      "source": [
        "# setup data loaders\n",
        "IMAGE_SIZE = (224,224)\n",
        "BATCH_SIZE = 32\n",
        "train_data = tf.keras.preprocessing.image_dataset_from_directory(train_dir,\n",
        "                                                                 image_size=IMAGE_SIZE,\n",
        "                                                                 batch_size=BATCH_SIZE,\n",
        "                                                                 label_mode=\"categorical\")\n",
        "test_data = tf.keras.preprocessing.image_dataset_from_directory(test_dir,\n",
        "                                                                image_size=IMAGE_SIZE,\n",
        "                                                                batch_size=BATCH_SIZE,\n",
        "                                                                label_mode=\"categorical\")"
      ],
      "execution_count": null,
      "outputs": [
        {
          "output_type": "stream",
          "text": [
            "Found 70 files belonging to 10 classes.\n",
            "Found 2500 files belonging to 10 classes.\n"
          ],
          "name": "stdout"
        }
      ]
    },
    {
      "cell_type": "markdown",
      "metadata": {
        "id": "v8gllN6UYoO-"
      },
      "source": [
        "To add augmentation layer right into our model we use the layer inside:\n",
        "\n",
        "`tf.keras.layers.experimental.preprocessing`\n",
        "\n",
        "Benefits of using data augmentaion\n",
        "* preprocessing of images (augmented) happens on GPU(much faster) rather on CPU\n",
        "* Image data augmentation happens only during training, so we can still export our whole model and use it elsewhere."
      ]
    },
    {
      "cell_type": "code",
      "metadata": {
        "id": "1CM4Xf37QYli"
      },
      "source": [
        "# Adding data augmentation right into the model\n",
        "from tensorflow import keras\n",
        "from tensorflow.keras import layers\n",
        "from tensorflow.keras.layers.experimental import preprocessing\n",
        "\n",
        "# Create data augmented model as layer with horizontal flipping, rotation and zooming etc\n",
        "data_augmentation = keras.Sequential([\n",
        "      preprocessing.RandomFlip(\"horizontal\"),\n",
        "      preprocessing.RandomRotation(0.2),\n",
        "      preprocessing.RandomZoom(0.2),\n",
        "      preprocessing.RandomHeight(0.2),\n",
        "      preprocessing.RandomWidth(0.2)\n",
        "    # preprocessing.Rescalling(1/255.) # Keep for model like ResNet50V2\n",
        "      \n",
        "], name=\"data_augmentation\")\n"
      ],
      "execution_count": null,
      "outputs": []
    },
    {
      "cell_type": "code",
      "metadata": {
        "colab": {
          "base_uri": "https://localhost:8080/",
          "height": 224
        },
        "id": "f_cgE3TmRj5r",
        "outputId": "bc0e6501-ef9c-4298-8e7e-6c04199516dc"
      },
      "source": [
        "# plot random images of orignal and augmented data\n",
        "import random\n",
        "import os\n",
        "\n",
        "\n",
        "random_class = random.choice(os.listdir(\"10_food_classes_1_percent/train\"))\n",
        "random_class_path = \"10_food_classes_1_percent/train/\" + random_class\n",
        "random_image = random.choice(os.listdir(random_class_path))\n",
        "random_image_path = random_class_path + \"/\" + random_image\n",
        "\n",
        "# read in the image\n",
        "img = plt.imread(random_image_path)\n",
        "\n",
        "# plot Orignal Image\n",
        "plt.subplot(1,2,1)\n",
        "plt.imshow(img)\n",
        "plt.title(f\"Orignal Image : {random_class}\")\n",
        "print(f\"Orignal Image Shape : {img.shape}\")\n",
        "plt.axis(False)\n",
        "\n",
        "# Augmented Image\n",
        "plt.subplot(1,2,2)\n",
        "aug_img = data_augmentation(img)\n",
        "plt.imshow(aug_img/255.) # img must be normalized\n",
        "print(f\"Augmented Image Shape : {aug_img.shape}\")\n",
        "plt.title(\"Augmented Image\")\n",
        "plt.axis(False)"
      ],
      "execution_count": null,
      "outputs": [
        {
          "output_type": "stream",
          "text": [
            "Orignal Image Shape : (384, 512, 3)\n",
            "Augmented Image Shape : (414, 520, 3)\n"
          ],
          "name": "stdout"
        },
        {
          "output_type": "execute_result",
          "data": {
            "text/plain": [
              "(-0.5, 519.5, 413.5, -0.5)"
            ]
          },
          "metadata": {},
          "execution_count": 27
        },
        {
          "output_type": "display_data",
          "data": {
            "image/png": "[encoded data removed]",
            "text/plain": [
              "<Figure size 432x288 with 2 Axes>"
            ]
          },
          "metadata": {
            "needs_background": "light"
          }
        }
      ]
    },
    {
      "cell_type": "code",
      "metadata": {
        "colab": {
          "base_uri": "https://localhost:8080/"
        },
        "id": "dEbLtidnTHUU",
        "outputId": "9a8cebe7-8ef7-4f14-caa3-aea396a004c4"
      },
      "source": [
        "# setup input_shape and base_model, freeze the base model layers\n",
        "input_shape=(224,224,3)\n",
        "base_model = tf.keras.applications.EfficientNetB0(include_top=False)\n",
        "base_model.trainable=False\n",
        "\n",
        "# Create input layers\n",
        "inputs = tf.keras.layers.Input(shape=input_shape, name=\"input_layer\")\n",
        "\n",
        "# Add in Data Augmentation Sequential model as a layer\n",
        "x = data_augmentation(inputs)\n",
        "\n",
        "# give base_model the inputs (after augentation) and do not train it\n",
        "x = base_model(x, training=False)\n",
        "\n",
        "# pool output features of the base model\n",
        "x = tf.keras.layers.GlobalAveragePooling2D(name=\"GlobalAveragePooling_layer\")(x)\n",
        "\n",
        "# create output layer as dense\n",
        "outputs = tf.keras.layers.Dense(10, activation=\"softmax\", name=\"output_layer\")(x)\n",
        "\n",
        "# make a model usnig inputs and outputs\n",
        "model_1 = tf.keras.Model(inputs, outputs)\n",
        "\n",
        "# compile the model\n",
        "model_1.compile(\n",
        "    loss = tf.keras.losses.CategoricalCrossentropy(),\n",
        "    optimizer = tf.keras.optimizers.Adam(),\n",
        "    metrics = [\"accuracy\"]\n",
        ")\n",
        "# fit the model\n",
        "model_1_history = model_1.fit(train_data,\n",
        "                              epochs=5,\n",
        "                              steps_per_epoch=len(train_data),\n",
        "                              validation_data=test_data,\n",
        "                              validation_steps=(0.25*len(test_data)),\n",
        "                              # track model training\n",
        "                              callbacks=tensorboard_callback(\"tensorboard_hub\",\n",
        "                                                             \"model_1\"))"
      ],
      "execution_count": null,
      "outputs": [
        {
          "output_type": "stream",
          "text": [
            "WARNING:tensorflow:Model was constructed with shape (384, 512, 3) for input KerasTensor(type_spec=TensorSpec(shape=(384, 512, 3), dtype=tf.uint8, name='random_flip_input'), name='random_flip_input', description=\"created by layer 'random_flip_input'\"), but it was called on an input with incompatible shape (None, 224, 224, 3).\n",
            "Saving model logs to tensorboard_hub/model_1/210824 - Aug081629802071\n",
            "Epoch 1/5\n",
            "WARNING:tensorflow:Model was constructed with shape (384, 512, 3) for input KerasTensor(type_spec=TensorSpec(shape=(384, 512, 3), dtype=tf.uint8, name='random_flip_input'), name='random_flip_input', description=\"created by layer 'random_flip_input'\"), but it was called on an input with incompatible shape (None, 224, 224, 3).\n",
            "WARNING:tensorflow:Model was constructed with shape (384, 512, 3) for input KerasTensor(type_spec=TensorSpec(shape=(384, 512, 3), dtype=tf.uint8, name='random_flip_input'), name='random_flip_input', description=\"created by layer 'random_flip_input'\"), but it was called on an input with incompatible shape (None, 224, 224, 3).\n",
            "3/3 [==============================] - ETA: 0s - loss: 2.4228 - accuracy: 0.1429WARNING:tensorflow:Model was constructed with shape (384, 512, 3) for input KerasTensor(type_spec=TensorSpec(shape=(384, 512, 3), dtype=tf.uint8, name='random_flip_input'), name='random_flip_input', description=\"created by layer 'random_flip_input'\"), but it was called on an input with incompatible shape (None, 224, 224, 3).\n",
            "3/3 [==============================] - 14s 3s/step - loss: 2.4228 - accuracy: 0.1429 - val_loss: 2.2537 - val_accuracy: 0.1547\n",
            "Epoch 2/5\n",
            "3/3 [==============================] - 5s 2s/step - loss: 2.1876 - accuracy: 0.2000 - val_loss: 2.1461 - val_accuracy: 0.2266\n",
            "Epoch 3/5\n",
            "3/3 [==============================] - 5s 2s/step - loss: 1.9702 - accuracy: 0.3571 - val_loss: 2.0505 - val_accuracy: 0.2797\n",
            "Epoch 4/5\n",
            "3/3 [==============================] - 5s 2s/step - loss: 1.8463 - accuracy: 0.4857 - val_loss: 1.9479 - val_accuracy: 0.3500\n",
            "Epoch 5/5\n",
            "3/3 [==============================] - 5s 2s/step - loss: 1.6507 - accuracy: 0.6286 - val_loss: 1.8706 - val_accuracy: 0.3984\n"
          ],
          "name": "stdout"
        }
      ]
    },
    {
      "cell_type": "code",
      "metadata": {
        "colab": {
          "base_uri": "https://localhost:8080/"
        },
        "id": "VGU6UQdD80j9",
        "outputId": "916e8369-c80e-44a0-9e18-3ea584524cb8"
      },
      "source": [
        "model_1.summary()"
      ],
      "execution_count": null,
      "outputs": [
        {
          "output_type": "stream",
          "text": [
            "Model: \"model_1\"\n",
            "_________________________________________________________________\n",
            "Layer (type)                 Output Shape              Param #   \n",
            "=================================================================\n",
            "input_layer (InputLayer)     [(None, 224, 224, 3)]     0         \n",
            "_________________________________________________________________\n",
            "data_augmentation (Sequentia (None, None, 3)           0         \n",
            "_________________________________________________________________\n",
            "efficientnetb0 (Functional)  (None, None, None, 1280)  4049571   \n",
            "_________________________________________________________________\n",
            "GlobalAveragePooling_layer ( (None, 1280)              0         \n",
            "_________________________________________________________________\n",
            "output_layer (Dense)         (None, 10)                12810     \n",
            "=================================================================\n",
            "Total params: 4,062,381\n",
            "Trainable params: 12,810\n",
            "Non-trainable params: 4,049,571\n",
            "_________________________________________________________________\n"
          ],
          "name": "stdout"
        }
      ]
    },
    {
      "cell_type": "code",
      "metadata": {
        "colab": {
          "base_uri": "https://localhost:8080/",
          "height": 404
        },
        "id": "pGK_wBG9iZJZ",
        "outputId": "0b8ead77-e740-4f80-83e7-213cdfbd08f2"
      },
      "source": [
        "plot_loss_curve(model_1_history)"
      ],
      "execution_count": null,
      "outputs": [
        {
          "output_type": "display_data",
          "data": {
            "image/png": "[encoded data removed]",
            "text/plain": [
              "<Figure size 864x432 with 2 Axes>"
            ]
          },
          "metadata": {
            "needs_background": "light"
          }
        }
      ]
    },
    {
      "cell_type": "markdown",
      "metadata": {
        "id": "rdbJ9MA0rnH1"
      },
      "source": [
        "## 162).`model_2`: use feature extraction transfer learning on 10% of the training data and data augmentation"
      ]
    },
    {
      "cell_type": "code",
      "metadata": {
        "colab": {
          "base_uri": "https://localhost:8080/"
        },
        "id": "CII9ovOAsx2-",
        "outputId": "d9a3a38d-8c37-4d0b-fd16-5a5d384f39aa"
      },
      "source": [
        "!wget https://storage.googleapis.com/ztm_tf_course/food_vision/10_food_classes_10_percent.zip\n"
      ],
      "execution_count": null,
      "outputs": [
        {
          "output_type": "stream",
          "text": [
            "--2021-08-24 10:48:34--  https://storage.googleapis.com/ztm_tf_course/food_vision/10_food_classes_10_percent.zip\n",
            "Resolving storage.googleapis.com (storage.googleapis.com)... 142.250.157.128, 74.125.23.128, 74.125.203.128, ...\n",
            "Connecting to storage.googleapis.com (storage.googleapis.com)|142.250.157.128|:443... connected.\n",
            "HTTP request sent, awaiting response... 200 OK\n",
            "Length: 168546183 (161M) [application/zip]\n",
            "Saving to: ‘10_food_classes_10_percent.zip.1’\n",
            "\n",
            "10_food_classes_10_ 100%[===================>] 160.74M  72.5MB/s    in 2.2s    \n",
            "\n",
            "2021-08-24 10:48:37 (72.5 MB/s) - ‘10_food_classes_10_percent.zip.1’ saved [168546183/168546183]\n",
            "\n"
          ],
          "name": "stdout"
        }
      ]
    },
    {
      "cell_type": "code",
      "metadata": {
        "id": "ioTXfEKXs5NQ"
      },
      "source": [
        "unzip_file(\"10_food_classes_10_percent.zip\")"
      ],
      "execution_count": null,
      "outputs": []
    },
    {
      "cell_type": "code",
      "metadata": {
        "colab": {
          "base_uri": "https://localhost:8080/"
        },
        "id": "2yUSoVI6tui7",
        "outputId": "35f88bb0-2089-452c-bfa4-1fce8551e01d"
      },
      "source": [
        "wallk_through(\"10_food_classes_10_percent\")"
      ],
      "execution_count": null,
      "outputs": [
        {
          "output_type": "stream",
          "text": [
            "There are 0 imaegs in '10_food_classes_10_percent'\n",
            "There are 0 imaegs in '10_food_classes_10_percent/train'\n",
            "There are 75 imaegs in '10_food_classes_10_percent/train/pizza'\n",
            "There are 75 imaegs in '10_food_classes_10_percent/train/fried_rice'\n",
            "There are 75 imaegs in '10_food_classes_10_percent/train/grilled_salmon'\n",
            "There are 75 imaegs in '10_food_classes_10_percent/train/steak'\n",
            "There are 75 imaegs in '10_food_classes_10_percent/train/sushi'\n",
            "There are 75 imaegs in '10_food_classes_10_percent/train/chicken_curry'\n",
            "There are 75 imaegs in '10_food_classes_10_percent/train/hamburger'\n",
            "There are 75 imaegs in '10_food_classes_10_percent/train/ramen'\n",
            "There are 75 imaegs in '10_food_classes_10_percent/train/chicken_wings'\n",
            "There are 75 imaegs in '10_food_classes_10_percent/train/ice_cream'\n",
            "There are 0 imaegs in '10_food_classes_10_percent/test'\n",
            "There are 250 imaegs in '10_food_classes_10_percent/test/pizza'\n",
            "There are 250 imaegs in '10_food_classes_10_percent/test/fried_rice'\n",
            "There are 250 imaegs in '10_food_classes_10_percent/test/grilled_salmon'\n",
            "There are 250 imaegs in '10_food_classes_10_percent/test/steak'\n",
            "There are 250 imaegs in '10_food_classes_10_percent/test/sushi'\n",
            "There are 250 imaegs in '10_food_classes_10_percent/test/chicken_curry'\n",
            "There are 250 imaegs in '10_food_classes_10_percent/test/hamburger'\n",
            "There are 250 imaegs in '10_food_classes_10_percent/test/ramen'\n",
            "There are 250 imaegs in '10_food_classes_10_percent/test/chicken_wings'\n",
            "There are 250 imaegs in '10_food_classes_10_percent/test/ice_cream'\n"
          ],
          "name": "stdout"
        }
      ]
    },
    {
      "cell_type": "code",
      "metadata": {
        "id": "2zp2ovxduEca"
      },
      "source": [
        "# set train and test dir \n",
        "train_dir = \"10_food_classes_10_percent/train\"\n",
        "test_dir = \"10_food_classes_10_percent/test\""
      ],
      "execution_count": null,
      "outputs": []
    },
    {
      "cell_type": "code",
      "metadata": {
        "colab": {
          "base_uri": "https://localhost:8080/"
        },
        "id": "DgB1pNBOuNsb",
        "outputId": "0caa7aa7-9392-4627-bea4-2697fd3a249c"
      },
      "source": [
        "# data loader\n",
        "train_data = tf.keras.preprocessing.image_dataset_from_directory(train_dir,\n",
        "                                                                image_size=(224,224),\n",
        "                                                                batch_size=32,\n",
        "                                                                label_mode=\"categorical\")\n",
        "test_data = tf.keras.preprocessing.image_dataset_from_directory(test_dir,\n",
        "                                                                image_size=(224,224),\n",
        "                                                                batch_size=32,\n",
        "                                                                label_mode=\"categorical\")"
      ],
      "execution_count": null,
      "outputs": [
        {
          "output_type": "stream",
          "text": [
            "Found 750 files belonging to 10 classes.\n",
            "Found 2500 files belonging to 10 classes.\n"
          ],
          "name": "stdout"
        }
      ]
    },
    {
      "cell_type": "markdown",
      "metadata": {
        "id": "v3qrQug23eHl"
      },
      "source": [
        "## ModelCheckpointing()\n",
        "\n",
        "ModekCheckpoint callback intermediately saves our model (the full model or just the weights) during training"
      ]
    },
    {
      "cell_type": "code",
      "metadata": {
        "id": "XMIDzzyO3jBJ"
      },
      "source": [
        "# set checkpoint callback path\n",
        "checkpoint_path = \"my_checkpoint_weights/checkpoint.ckpt\"\n",
        "\n",
        "# create a checkpoint callback that saves the models's weights only\n",
        "checkpoint_callback = tf.keras.callbacks.ModelCheckpoint(filepath=checkpoint_path,\n",
        "                                                         save_weights_only=True,\n",
        "                                                         save_best_only=False,\n",
        "                                                         save_freq=\"epoch\", # save every epoch,\n",
        "                                                         verbose=1)"
      ],
      "execution_count": null,
      "outputs": []
    },
    {
      "cell_type": "code",
      "metadata": {
        "id": "sYVS6XwEu41N"
      },
      "source": [
        "# create Augmented data sequential model\n",
        "augmented_data = tf.keras.Sequential([\n",
        "      tf.keras.layers.experimental.preprocessing.RandomFlip(\"horizontal\"),\n",
        "      tf.keras.layers.experimental.preprocessing.RandomZoom(0.2),\n",
        "      tf.keras.layers.experimental.preprocessing.RandomWidth(0.3),\n",
        "      tf.keras.layers.experimental.preprocessing.RandomHeight(0.2),\n",
        "      tf.keras.layers.experimental.preprocessing.RandomRotation(0.2)\n",
        "], name=\"augmented_data\")"
      ],
      "execution_count": null,
      "outputs": []
    },
    {
      "cell_type": "code",
      "metadata": {
        "id": "i2lFbrM9i9Lv",
        "colab": {
          "base_uri": "https://localhost:8080/"
        },
        "outputId": "a8166c52-8b4c-4ae4-bc4d-7a713b3a560d"
      },
      "source": [
        "# setup base_model and freeze the base_model\n",
        "base_model = tf.keras.applications.EfficientNetB0(include_top=False)\n",
        "base_model.trainable = False\n",
        "\n",
        "# create input layer\n",
        "inputs = tf.keras.layers.Input(shape=(224,224,3), name=\"input_layer\")\n",
        "\n",
        "# add in the augmented data sequential model as layer\n",
        "x = augmented_data(inputs)\n",
        "\n",
        "# pass inputs throught the base model\n",
        "x = base_model(x, training=False) # BATCH NORMALIZATION ?\n",
        "\n",
        "# add the pooling layer\n",
        "x = tf.keras.layers.GlobalAveragePooling2D(name=\"GlobalAveragepooling_layer\")(x)\n",
        "\n",
        "# create the output layer\n",
        "outputs = tf.keras.layers.Dense(10, activation=\"softmax\", name=\"output_layer\")(x)\n",
        "\n",
        "# create model using inputs and outputs\n",
        "model_2 = tf.keras.Model(inputs, outputs)\n",
        "\n",
        "# compile the model\n",
        "model_2.compile(\n",
        "    loss = tf.keras.losses.CategoricalCrossentropy(),\n",
        "    optimizer = tf.keras.optimizers.Adam(),\n",
        "    metrics = [\"accuracy\"]\n",
        ")\n",
        "\n",
        "# fit the model passing in Checkpoint callback\n",
        "model_2_history = model_2.fit(train_data,\n",
        "                              epochs=5,\n",
        "                              steps_per_epoch=len(train_data),\n",
        "                              validation_data=test_data,\n",
        "                              validation_steps=(0.25*len(test_data)),\n",
        "                              callbacks=[checkpoint_callback])"
      ],
      "execution_count": null,
      "outputs": [
        {
          "output_type": "stream",
          "text": [
            "Epoch 1/5\n",
            "24/24 [==============================] - 26s 787ms/step - loss: 2.0108 - accuracy: 0.3360 - val_loss: 1.5007 - val_accuracy: 0.6531\n",
            "\n",
            "Epoch 00001: saving model to my_checkpoint_weights/checkpoint.ckpt\n",
            "Epoch 2/5\n",
            "24/24 [==============================] - 15s 616ms/step - loss: 1.3705 - accuracy: 0.6693 - val_loss: 1.0722 - val_accuracy: 0.7547\n",
            "\n",
            "Epoch 00002: saving model to my_checkpoint_weights/checkpoint.ckpt\n",
            "Epoch 3/5\n",
            "24/24 [==============================] - 16s 656ms/step - loss: 1.1009 - accuracy: 0.7320 - val_loss: 0.8711 - val_accuracy: 0.7875\n",
            "\n",
            "Epoch 00003: saving model to my_checkpoint_weights/checkpoint.ckpt\n",
            "Epoch 4/5\n",
            "24/24 [==============================] - 14s 566ms/step - loss: 0.9128 - accuracy: 0.7693 - val_loss: 0.7835 - val_accuracy: 0.7844\n",
            "\n",
            "Epoch 00004: saving model to my_checkpoint_weights/checkpoint.ckpt\n",
            "Epoch 5/5\n",
            "24/24 [==============================] - 15s 580ms/step - loss: 0.8125 - accuracy: 0.7880 - val_loss: 0.7181 - val_accuracy: 0.7984\n",
            "\n",
            "Epoch 00005: saving model to my_checkpoint_weights/checkpoint.ckpt\n"
          ],
          "name": "stdout"
        }
      ]
    },
    {
      "cell_type": "code",
      "metadata": {
        "id": "mYYr7XOhvJJe",
        "colab": {
          "base_uri": "https://localhost:8080/"
        },
        "outputId": "7329996b-9607-4961-8a1a-2357989033b5"
      },
      "source": [
        "model_2.summary()"
      ],
      "execution_count": null,
      "outputs": [
        {
          "output_type": "stream",
          "text": [
            "Model: \"model_2\"\n",
            "_________________________________________________________________\n",
            "Layer (type)                 Output Shape              Param #   \n",
            "=================================================================\n",
            "input_layer (InputLayer)     [(None, 224, 224, 3)]     0         \n",
            "_________________________________________________________________\n",
            "augmented_data (Sequential)  (None, None, None, 3)     0         \n",
            "_________________________________________________________________\n",
            "efficientnetb0 (Functional)  (None, None, None, 1280)  4049571   \n",
            "_________________________________________________________________\n",
            "GlobalAveragepooling_layer ( (None, 1280)              0         \n",
            "_________________________________________________________________\n",
            "output_layer (Dense)         (None, 10)                12810     \n",
            "=================================================================\n",
            "Total params: 4,062,381\n",
            "Trainable params: 12,810\n",
            "Non-trainable params: 4,049,571\n",
            "_________________________________________________________________\n"
          ],
          "name": "stdout"
        }
      ]
    },
    {
      "cell_type": "code",
      "metadata": {
        "colab": {
          "base_uri": "https://localhost:8080/"
        },
        "id": "bfeFD7JsO1bR",
        "outputId": "52513698-cfcc-48d9-d0ec-23cb719213ab"
      },
      "source": [
        "model_0.evaluate(test_data)"
      ],
      "execution_count": null,
      "outputs": [
        {
          "output_type": "stream",
          "text": [
            "79/79 [==============================] - 11s 129ms/step - loss: 0.6052 - accuracy: 0.8360\n"
          ],
          "name": "stdout"
        },
        {
          "output_type": "execute_result",
          "data": {
            "text/plain": [
              "[0.6052293181419373, 0.8360000252723694]"
            ]
          },
          "metadata": {},
          "execution_count": 40
        }
      ]
    },
    {
      "cell_type": "code",
      "metadata": {
        "id": "4WAobZ0YhRWW",
        "colab": {
          "base_uri": "https://localhost:8080/"
        },
        "outputId": "7d78f6a6-8cfb-43fb-c89a-5f82925e410b"
      },
      "source": [
        "model_2.evaluate(test_data)"
      ],
      "execution_count": null,
      "outputs": [
        {
          "output_type": "stream",
          "text": [
            "79/79 [==============================] - 11s 130ms/step - loss: 0.6970 - accuracy: 0.8100\n"
          ],
          "name": "stdout"
        },
        {
          "output_type": "execute_result",
          "data": {
            "text/plain": [
              "[0.6969883441925049, 0.8100000023841858]"
            ]
          },
          "metadata": {},
          "execution_count": 41
        }
      ]
    },
    {
      "cell_type": "code",
      "metadata": {
        "colab": {
          "base_uri": "https://localhost:8080/",
          "height": 404
        },
        "id": "PBoAXTd6OiXP",
        "outputId": "d0ea7b45-a343-43de-bc3c-f9f63c3d15af"
      },
      "source": [
        "plot_loss_curve(model_2_history)"
      ],
      "execution_count": null,
      "outputs": [
        {
          "output_type": "display_data",
          "data": {
            "image/png": "[encoded data removed]",
            "text/plain": [
              "<Figure size 864x432 with 2 Axes>"
            ]
          },
          "metadata": {
            "needs_background": "light"
          }
        }
      ]
    },
    {
      "cell_type": "markdown",
      "metadata": {
        "id": "9aPO5tnPPUWc"
      },
      "source": [
        "## Loading in Checkpoint weights\n",
        "\n",
        "Load in a checkpoint weights returns a model to a specific checkpoint"
      ]
    },
    {
      "cell_type": "code",
      "metadata": {
        "colab": {
          "base_uri": "https://localhost:8080/"
        },
        "id": "l5ANM693OnzV",
        "outputId": "f028bfbd-94b5-499d-e82e-100732bf453d"
      },
      "source": [
        "# Load in save model weights and evaluate the model\n",
        "model_2.load_weights(checkpoint_path)"
      ],
      "execution_count": null,
      "outputs": [
        {
          "output_type": "execute_result",
          "data": {
            "text/plain": [
              "<tensorflow.python.training.tracking.util.CheckpointLoadStatus at 0x7fe1c697eb10>"
            ]
          },
          "metadata": {},
          "execution_count": 43
        }
      ]
    },
    {
      "cell_type": "code",
      "metadata": {
        "colab": {
          "base_uri": "https://localhost:8080/"
        },
        "id": "wGEE8AKURYqh",
        "outputId": "28bd6d62-7432-416a-cd53-2d204dd0ec30"
      },
      "source": [
        "model_2.evaluate(test_data)"
      ],
      "execution_count": null,
      "outputs": [
        {
          "output_type": "stream",
          "text": [
            "79/79 [==============================] - 11s 130ms/step - loss: 0.6970 - accuracy: 0.8100\n"
          ],
          "name": "stdout"
        },
        {
          "output_type": "execute_result",
          "data": {
            "text/plain": [
              "[0.6969881653785706, 0.8100000023841858]"
            ]
          },
          "metadata": {},
          "execution_count": 44
        }
      ]
    },
    {
      "cell_type": "code",
      "metadata": {
        "id": "jJ5Tu1-pRfGF"
      },
      "source": [
        "# import numpy as np\n",
        "\n",
        "# np.isclose(np.array(a), np.array(b))"
      ],
      "execution_count": null,
      "outputs": []
    },
    {
      "cell_type": "markdown",
      "metadata": {
        "id": "Ck2e3W9JT8hJ"
      },
      "source": [
        "##166).`model_3`: use fine-tuning transfer learning on 10% of the training data and data augmentation"
      ]
    },
    {
      "cell_type": "markdown",
      "metadata": {
        "id": "NxnoGHO9URAS"
      },
      "source": [
        "> **NOTE:** Fine tuning usually works best after training a feature extraction model for a few epochs with large amount of custom data\n",
        "\n"
      ]
    },
    {
      "cell_type": "code",
      "metadata": {
        "colab": {
          "base_uri": "https://localhost:8080/"
        },
        "id": "1bQKPmpPT7os",
        "outputId": "01a98bd8-aa4f-44c4-b2d3-d5cce595b5c6"
      },
      "source": [
        "# layers of the loaded model\n",
        "model_2.layers"
      ],
      "execution_count": null,
      "outputs": [
        {
          "output_type": "execute_result",
          "data": {
            "text/plain": [
              "[<keras.engine.input_layer.InputLayer at 0x7fe226e8a990>,\n",
              " <keras.engine.sequential.Sequential at 0x7fe224671310>,\n",
              " <keras.engine.functional.Functional at 0x7fe224259090>,\n",
              " <keras.layers.pooling.GlobalAveragePooling2D at 0x7fe2244e6dd0>,\n",
              " <keras.layers.core.Dense at 0x7fe22421d490>]"
            ]
          },
          "metadata": {},
          "execution_count": 46
        }
      ]
    },
    {
      "cell_type": "code",
      "metadata": {
        "colab": {
          "base_uri": "https://localhost:8080/"
        },
        "id": "UZ9Ay417Vwmu",
        "outputId": "e9d38fc7-3c3b-4689-d81e-b455e9e102ce"
      },
      "source": [
        "# Are these layes trainable\n",
        "for layer in model_2.layers:\n",
        "  print(layer, layer.trainable)"
      ],
      "execution_count": null,
      "outputs": [
        {
          "output_type": "stream",
          "text": [
            "<keras.engine.input_layer.InputLayer object at 0x7fe226e8a990> True\n",
            "<keras.engine.sequential.Sequential object at 0x7fe224671310> True\n",
            "<keras.engine.functional.Functional object at 0x7fe224259090> False\n",
            "<keras.layers.pooling.GlobalAveragePooling2D object at 0x7fe2244e6dd0> True\n",
            "<keras.layers.core.Dense object at 0x7fe22421d490> True\n"
          ],
          "name": "stdout"
        }
      ]
    },
    {
      "cell_type": "code",
      "metadata": {
        "colab": {
          "base_uri": "https://localhost:8080/"
        },
        "id": "BkIlWlYBV72k",
        "outputId": "a549742a-defc-43b5-9d8e-9c4cb14091f4"
      },
      "source": [
        "# What layera are there in our base_model(EfficicentNetB0)? Are they trainable\n",
        "for i, layer in enumerate(model_2.layers[2].layers):\n",
        "  print(i, layer.name, layer.trainable)"
      ],
      "execution_count": null,
      "outputs": [
        {
          "output_type": "stream",
          "text": [
            "0 input_3 False\n",
            "1 rescaling_2 False\n",
            "2 normalization_2 False\n",
            "3 stem_conv_pad False\n",
            "4 stem_conv False\n",
            "5 stem_bn False\n",
            "6 stem_activation False\n",
            "7 block1a_dwconv False\n",
            "8 block1a_bn False\n",
            "9 block1a_activation False\n",
            "10 block1a_se_squeeze False\n",
            "11 block1a_se_reshape False\n",
            "12 block1a_se_reduce False\n",
            "13 block1a_se_expand False\n",
            "14 block1a_se_excite False\n",
            "15 block1a_project_conv False\n",
            "16 block1a_project_bn False\n",
            "17 block2a_expand_conv False\n",
            "18 block2a_expand_bn False\n",
            "19 block2a_expand_activation False\n",
            "20 block2a_dwconv_pad False\n",
            "21 block2a_dwconv False\n",
            "22 block2a_bn False\n",
            "23 block2a_activation False\n",
            "24 block2a_se_squeeze False\n",
            "25 block2a_se_reshape False\n",
            "26 block2a_se_reduce False\n",
            "27 block2a_se_expand False\n",
            "28 block2a_se_excite False\n",
            "29 block2a_project_conv False\n",
            "30 block2a_project_bn False\n",
            "31 block2b_expand_conv False\n",
            "32 block2b_expand_bn False\n",
            "33 block2b_expand_activation False\n",
            "34 block2b_dwconv False\n",
            "35 block2b_bn False\n",
            "36 block2b_activation False\n",
            "37 block2b_se_squeeze False\n",
            "38 block2b_se_reshape False\n",
            "39 block2b_se_reduce False\n",
            "40 block2b_se_expand False\n",
            "41 block2b_se_excite False\n",
            "42 block2b_project_conv False\n",
            "43 block2b_project_bn False\n",
            "44 block2b_drop False\n",
            "45 block2b_add False\n",
            "46 block3a_expand_conv False\n",
            "47 block3a_expand_bn False\n",
            "48 block3a_expand_activation False\n",
            "49 block3a_dwconv_pad False\n",
            "50 block3a_dwconv False\n",
            "51 block3a_bn False\n",
            "52 block3a_activation False\n",
            "53 block3a_se_squeeze False\n",
            "54 block3a_se_reshape False\n",
            "55 block3a_se_reduce False\n",
            "56 block3a_se_expand False\n",
            "57 block3a_se_excite False\n",
            "58 block3a_project_conv False\n",
            "59 block3a_project_bn False\n",
            "60 block3b_expand_conv False\n",
            "61 block3b_expand_bn False\n",
            "62 block3b_expand_activation False\n",
            "63 block3b_dwconv False\n",
            "64 block3b_bn False\n",
            "65 block3b_activation False\n",
            "66 block3b_se_squeeze False\n",
            "67 block3b_se_reshape False\n",
            "68 block3b_se_reduce False\n",
            "69 block3b_se_expand False\n",
            "70 block3b_se_excite False\n",
            "71 block3b_project_conv False\n",
            "72 block3b_project_bn False\n",
            "73 block3b_drop False\n",
            "74 block3b_add False\n",
            "75 block4a_expand_conv False\n",
            "76 block4a_expand_bn False\n",
            "77 block4a_expand_activation False\n",
            "78 block4a_dwconv_pad False\n",
            "79 block4a_dwconv False\n",
            "80 block4a_bn False\n",
            "81 block4a_activation False\n",
            "82 block4a_se_squeeze False\n",
            "83 block4a_se_reshape False\n",
            "84 block4a_se_reduce False\n",
            "85 block4a_se_expand False\n",
            "86 block4a_se_excite False\n",
            "87 block4a_project_conv False\n",
            "88 block4a_project_bn False\n",
            "89 block4b_expand_conv False\n",
            "90 block4b_expand_bn False\n",
            "91 block4b_expand_activation False\n",
            "92 block4b_dwconv False\n",
            "93 block4b_bn False\n",
            "94 block4b_activation False\n",
            "95 block4b_se_squeeze False\n",
            "96 block4b_se_reshape False\n",
            "97 block4b_se_reduce False\n",
            "98 block4b_se_expand False\n",
            "99 block4b_se_excite False\n",
            "100 block4b_project_conv False\n",
            "101 block4b_project_bn False\n",
            "102 block4b_drop False\n",
            "103 block4b_add False\n",
            "104 block4c_expand_conv False\n",
            "105 block4c_expand_bn False\n",
            "106 block4c_expand_activation False\n",
            "107 block4c_dwconv False\n",
            "108 block4c_bn False\n",
            "109 block4c_activation False\n",
            "110 block4c_se_squeeze False\n",
            "111 block4c_se_reshape False\n",
            "112 block4c_se_reduce False\n",
            "113 block4c_se_expand False\n",
            "114 block4c_se_excite False\n",
            "115 block4c_project_conv False\n",
            "116 block4c_project_bn False\n",
            "117 block4c_drop False\n",
            "118 block4c_add False\n",
            "119 block5a_expand_conv False\n",
            "120 block5a_expand_bn False\n",
            "121 block5a_expand_activation False\n",
            "122 block5a_dwconv False\n",
            "123 block5a_bn False\n",
            "124 block5a_activation False\n",
            "125 block5a_se_squeeze False\n",
            "126 block5a_se_reshape False\n",
            "127 block5a_se_reduce False\n",
            "128 block5a_se_expand False\n",
            "129 block5a_se_excite False\n",
            "130 block5a_project_conv False\n",
            "131 block5a_project_bn False\n",
            "132 block5b_expand_conv False\n",
            "133 block5b_expand_bn False\n",
            "134 block5b_expand_activation False\n",
            "135 block5b_dwconv False\n",
            "136 block5b_bn False\n",
            "137 block5b_activation False\n",
            "138 block5b_se_squeeze False\n",
            "139 block5b_se_reshape False\n",
            "140 block5b_se_reduce False\n",
            "141 block5b_se_expand False\n",
            "142 block5b_se_excite False\n",
            "143 block5b_project_conv False\n",
            "144 block5b_project_bn False\n",
            "145 block5b_drop False\n",
            "146 block5b_add False\n",
            "147 block5c_expand_conv False\n",
            "148 block5c_expand_bn False\n",
            "149 block5c_expand_activation False\n",
            "150 block5c_dwconv False\n",
            "151 block5c_bn False\n",
            "152 block5c_activation False\n",
            "153 block5c_se_squeeze False\n",
            "154 block5c_se_reshape False\n",
            "155 block5c_se_reduce False\n",
            "156 block5c_se_expand False\n",
            "157 block5c_se_excite False\n",
            "158 block5c_project_conv False\n",
            "159 block5c_project_bn False\n",
            "160 block5c_drop False\n",
            "161 block5c_add False\n",
            "162 block6a_expand_conv False\n",
            "163 block6a_expand_bn False\n",
            "164 block6a_expand_activation False\n",
            "165 block6a_dwconv_pad False\n",
            "166 block6a_dwconv False\n",
            "167 block6a_bn False\n",
            "168 block6a_activation False\n",
            "169 block6a_se_squeeze False\n",
            "170 block6a_se_reshape False\n",
            "171 block6a_se_reduce False\n",
            "172 block6a_se_expand False\n",
            "173 block6a_se_excite False\n",
            "174 block6a_project_conv False\n",
            "175 block6a_project_bn False\n",
            "176 block6b_expand_conv False\n",
            "177 block6b_expand_bn False\n",
            "178 block6b_expand_activation False\n",
            "179 block6b_dwconv False\n",
            "180 block6b_bn False\n",
            "181 block6b_activation False\n",
            "182 block6b_se_squeeze False\n",
            "183 block6b_se_reshape False\n",
            "184 block6b_se_reduce False\n",
            "185 block6b_se_expand False\n",
            "186 block6b_se_excite False\n",
            "187 block6b_project_conv False\n",
            "188 block6b_project_bn False\n",
            "189 block6b_drop False\n",
            "190 block6b_add False\n",
            "191 block6c_expand_conv False\n",
            "192 block6c_expand_bn False\n",
            "193 block6c_expand_activation False\n",
            "194 block6c_dwconv False\n",
            "195 block6c_bn False\n",
            "196 block6c_activation False\n",
            "197 block6c_se_squeeze False\n",
            "198 block6c_se_reshape False\n",
            "199 block6c_se_reduce False\n",
            "200 block6c_se_expand False\n",
            "201 block6c_se_excite False\n",
            "202 block6c_project_conv False\n",
            "203 block6c_project_bn False\n",
            "204 block6c_drop False\n",
            "205 block6c_add False\n",
            "206 block6d_expand_conv False\n",
            "207 block6d_expand_bn False\n",
            "208 block6d_expand_activation False\n",
            "209 block6d_dwconv False\n",
            "210 block6d_bn False\n",
            "211 block6d_activation False\n",
            "212 block6d_se_squeeze False\n",
            "213 block6d_se_reshape False\n",
            "214 block6d_se_reduce False\n",
            "215 block6d_se_expand False\n",
            "216 block6d_se_excite False\n",
            "217 block6d_project_conv False\n",
            "218 block6d_project_bn False\n",
            "219 block6d_drop False\n",
            "220 block6d_add False\n",
            "221 block7a_expand_conv False\n",
            "222 block7a_expand_bn False\n",
            "223 block7a_expand_activation False\n",
            "224 block7a_dwconv False\n",
            "225 block7a_bn False\n",
            "226 block7a_activation False\n",
            "227 block7a_se_squeeze False\n",
            "228 block7a_se_reshape False\n",
            "229 block7a_se_reduce False\n",
            "230 block7a_se_expand False\n",
            "231 block7a_se_excite False\n",
            "232 block7a_project_conv False\n",
            "233 block7a_project_bn False\n",
            "234 top_conv False\n",
            "235 top_bn False\n",
            "236 top_activation False\n"
          ],
          "name": "stdout"
        }
      ]
    },
    {
      "cell_type": "code",
      "metadata": {
        "colab": {
          "base_uri": "https://localhost:8080/"
        },
        "id": "GZvIeCS0WV56",
        "outputId": "d7fdf379-eaeb-4d38-cd61-f38d0252c975"
      },
      "source": [
        "# how many trainable variables in our base model\n",
        "print(model_2.layers[2].trainable_variables)"
      ],
      "execution_count": null,
      "outputs": [
        {
          "output_type": "stream",
          "text": [
            "[<tf.Variable 'block7a_se_reduce/kernel:0' shape=(1, 1, 1152, 48) dtype=float32, numpy=\n",
            "array([[[[-0.05485657,  0.07178846,  0.01534605, ..., -0.09284662,\n",
            "           0.0104828 , -0.02693838],\n",
            "         [-0.03157939,  0.02819107, -0.05579546, ...,  0.00487578,\n",
            "           0.12001809, -0.06901816],\n",
            "         [-0.07792544,  0.12601745,  0.03935236, ...,  0.03086486,\n",
            "          -0.01581392,  0.1306234 ],\n",
            "         ...,\n",
            "         [-0.07692936,  0.19920062,  0.17471024, ...,  0.03312391,\n",
            "          -0.04528928, -0.09214652],\n",
            "         [ 0.01010198,  0.06855008,  0.05820991, ...,  0.00131649,\n",
            "          -0.08952942, -0.00476829],\n",
            "         [ 0.03583075, -0.01228165,  0.04561347, ..., -0.00822134,\n",
            "          -0.07354517, -0.06507882]]]], dtype=float32)>, <tf.Variable 'block7a_se_reduce/bias:0' shape=(48,) dtype=float32, numpy=\n",
            "array([-0.10886215, -0.13624744, -0.15257476,  0.14799541, -0.08512902,\n",
            "       -0.12059905, -0.08779966, -0.08187538, -0.06925284, -0.12518929,\n",
            "       -0.0819265 , -0.1259736 , -0.09993652, -0.10109923, -0.13398036,\n",
            "       -0.09867296, -0.09382621, -0.11011569, -0.1063069 , -0.09003814,\n",
            "       -0.04766154, -0.06743164, -0.13778378, -0.10579358, -0.10130141,\n",
            "       -0.13948615,  0.13246794, -0.03255463, -0.11809722, -0.04813838,\n",
            "       -0.13148174, -0.05429332, -0.0448516 , -0.11129897, -0.08523702,\n",
            "       -0.13361962, -0.07146074, -0.13821687, -0.0614575 , -0.02393492,\n",
            "       -0.08265438, -0.13204956, -0.10251977, -0.12446474, -0.1350065 ,\n",
            "       -0.06927117, -0.07627591, -0.08064308], dtype=float32)>, <tf.Variable 'block7a_se_expand/kernel:0' shape=(1, 1, 48, 1152) dtype=float32, numpy=\n",
            "array([[[[ 0.01703347, -0.09556078, -0.12866898, ..., -0.11176323,\n",
            "          -0.12041699,  0.07214174],\n",
            "         [ 0.11851509,  0.09440814, -0.07513665, ..., -0.10720892,\n",
            "           0.15331012,  0.00920153],\n",
            "         [-0.03525457, -0.05621038,  0.03370081, ...,  0.0058019 ,\n",
            "           0.08038238,  0.02380909],\n",
            "         ...,\n",
            "         [-0.16428104,  0.14296436, -0.07728611, ..., -0.03546136,\n",
            "           0.03369582, -0.19963196],\n",
            "         [-0.01133208, -0.0060606 ,  0.10776694, ...,  0.01572948,\n",
            "          -0.06349678, -0.05537278],\n",
            "         [-0.09189203, -0.05271737, -0.08292874, ..., -0.03266691,\n",
            "          -0.15144289, -0.13922407]]]], dtype=float32)>, <tf.Variable 'block7a_se_expand/bias:0' shape=(1152,) dtype=float32, numpy=\n",
            "array([ 0.04515592,  0.0518708 ,  0.08215576, ..., -0.02809454,\n",
            "        0.06679371,  0.14091711], dtype=float32)>, <tf.Variable 'block7a_project_conv/kernel:0' shape=(1, 1, 1152, 320) dtype=float32, numpy=\n",
            "array([[[[ 0.04719412, -0.03508057,  0.18866068, ...,  0.00667723,\n",
            "           0.01607844, -0.06703078],\n",
            "         [-0.10309057,  0.01945817,  0.03923143, ..., -0.09136088,\n",
            "           0.07520416,  0.09395675],\n",
            "         [-0.0786793 ,  0.02817695, -0.03047303, ...,  0.01593926,\n",
            "           0.13013661, -0.05727762],\n",
            "         ...,\n",
            "         [ 0.01056576, -0.02389853,  0.15035501, ...,  0.04682408,\n",
            "           0.03543943, -0.0752975 ],\n",
            "         [-0.06144901, -0.0928897 ,  0.05499939, ...,  0.16682369,\n",
            "           0.08615127, -0.02209447],\n",
            "         [-0.04315694,  0.1413447 ,  0.00528443, ..., -0.00220996,\n",
            "           0.1894294 , -0.11107358]]]], dtype=float32)>, <tf.Variable 'block7a_project_bn/gamma:0' shape=(320,) dtype=float32, numpy=\n",
            "array([2.6341524, 3.6408505, 2.6395326, 2.6145833, 2.6313312, 2.6202953,\n",
            "       2.5319185, 2.5870585, 2.688308 , 2.6000342, 2.9978335, 2.537907 ,\n",
            "       2.6381385, 2.716591 , 2.558281 , 2.4929833, 2.644765 , 2.462597 ,\n",
            "       2.6660817, 2.5237637, 2.6011422, 2.824746 , 2.5168786, 2.5305552,\n",
            "       2.7185206, 2.7899334, 2.682837 , 2.5672472, 2.4950414, 2.607678 ,\n",
            "       2.6045194, 2.5780609, 2.63664  , 2.5805535, 2.5575125, 2.5273108,\n",
            "       2.5634987, 2.7832053, 2.6418092, 2.604934 , 2.5325363, 2.6006708,\n",
            "       2.6354814, 2.5668874, 2.7951095, 2.646076 , 3.0281844, 2.6361535,\n",
            "       3.1250885, 2.635435 , 2.5462308, 2.6689003, 2.5725474, 2.5831702,\n",
            "       2.5835443, 2.656816 , 2.5504594, 2.6580045, 2.642674 , 2.548922 ,\n",
            "       2.5658593, 2.5088289, 2.8326697, 2.6741598, 2.724444 , 2.6740642,\n",
            "       2.6301656, 2.6501355, 2.5464098, 2.584042 , 2.5088935, 2.6053326,\n",
            "       2.548359 , 2.742098 , 2.6033902, 2.5825214, 2.6483955, 2.685057 ,\n",
            "       2.6903856, 2.7595356, 2.6767306, 2.650072 , 2.6561706, 2.6387742,\n",
            "       2.5386903, 2.6601446, 2.585036 , 2.581829 , 2.493314 , 2.5478692,\n",
            "       2.7056026, 2.5470285, 2.6166646, 2.7911394, 2.5091803, 2.5457087,\n",
            "       2.4962032, 2.616603 , 2.8938844, 2.5239155, 2.5611029, 2.5762894,\n",
            "       2.6258383, 2.7690558, 2.6246526, 2.573153 , 2.63151  , 2.6664348,\n",
            "       2.5510879, 2.633915 , 2.5973866, 2.6333516, 2.5894468, 2.5375085,\n",
            "       2.7006404, 2.6648164, 2.5562012, 2.6261616, 2.5598128, 2.515569 ,\n",
            "       2.643523 , 2.6532161, 2.7102292, 2.5004933, 2.8885357, 2.5730307,\n",
            "       2.6309655, 2.5566099, 2.542208 , 2.5430515, 2.95321  , 2.530806 ,\n",
            "       2.6387343, 2.610428 , 2.580837 , 2.6031556, 2.668818 , 2.549356 ,\n",
            "       2.6471393, 2.5472634, 2.669148 , 2.59522  , 2.6507857, 2.4828112,\n",
            "       2.601118 , 2.593023 , 2.549623 , 2.534933 , 2.7077003, 2.5183656,\n",
            "       2.6026828, 2.985571 , 2.6405106, 2.7155428, 2.5788558, 2.6546528,\n",
            "       2.5677054, 2.4542222, 2.7947254, 2.5911338, 2.6567724, 2.5698543,\n",
            "       2.50019  , 2.5938528, 2.6083398, 2.5553062, 2.5281339, 2.5907693,\n",
            "       2.5921338, 2.6407883, 2.5940228, 2.6011744, 2.6939318, 2.5788543,\n",
            "       2.611848 , 2.5353673, 2.5492253, 2.6692536, 2.5442774, 2.6057358,\n",
            "       2.545667 , 2.699785 , 2.5898273, 2.6510255, 2.6357298, 2.5392187,\n",
            "       3.0744135, 2.5465763, 2.62727  , 2.8991907, 2.6765053, 2.5408316,\n",
            "       2.6696007, 2.663587 , 2.6330073, 2.6307907, 2.557663 , 2.6597102,\n",
            "       2.7168522, 3.0360131, 2.4636025, 2.5911775, 2.6008296, 2.6731155,\n",
            "       2.6936364, 2.716485 , 2.680393 , 2.7018907, 2.7021012, 2.5174494,\n",
            "       2.604642 , 2.6076188, 2.6755745, 2.5452864, 2.5664885, 2.8462067,\n",
            "       2.7362747, 2.666304 , 2.5056198, 2.5951312, 2.5824764, 2.6146016,\n",
            "       2.642559 , 2.5692267, 2.792615 , 2.6337516, 2.4910922, 2.6466959,\n",
            "       2.6380413, 2.5529966, 2.565908 , 2.5560148, 2.640346 , 2.6173239,\n",
            "       2.6475196, 2.6759052, 3.218808 , 2.5925794, 2.5743115, 2.6601744,\n",
            "       2.6724327, 2.631072 , 2.562081 , 2.5806832, 2.512028 , 2.6604302,\n",
            "       2.5478892, 2.5730498, 2.6972325, 2.5915775, 2.6661477, 2.6339667,\n",
            "       2.6636207, 2.5320785, 2.6257393, 2.622644 , 2.508248 , 2.6330373,\n",
            "       2.599642 , 2.6596751, 2.6126783, 2.6051974, 2.652374 , 2.6319253,\n",
            "       2.8959923, 2.6422274, 2.6246538, 2.4762268, 2.631236 , 2.4831147,\n",
            "       2.6260679, 2.519754 , 2.619554 , 2.8796465, 2.614829 , 2.58701  ,\n",
            "       2.5688565, 2.6110027, 2.6058009, 2.5786552, 2.6547408, 2.5492873,\n",
            "       2.6010828, 2.8261983, 2.5328765, 2.689091 , 2.5229828, 2.5879102,\n",
            "       2.7365847, 2.7272425, 2.6959665, 2.6330662, 2.5203118, 2.688423 ,\n",
            "       2.5512888, 3.3626828, 2.5781293, 2.50825  , 2.5737724, 2.621484 ,\n",
            "       2.6324031, 2.6176171, 2.5813835, 2.5144784, 2.633849 , 2.8199816,\n",
            "       2.6682093, 2.599474 , 2.6375234, 2.684862 , 2.525223 , 2.6976318,\n",
            "       2.6058314, 2.5276728, 2.4987195, 2.572669 , 2.5587776, 2.5677974,\n",
            "       2.838972 , 2.619664 ], dtype=float32)>, <tf.Variable 'block7a_project_bn/beta:0' shape=(320,) dtype=float32, numpy=\n",
            "array([ 2.72746431e-04, -4.64200834e-03,  1.81363500e-03, -1.35792862e-03,\n",
            "       -1.83621727e-04,  7.23875011e-04, -7.06277788e-04, -3.28818336e-04,\n",
            "       -1.00322848e-03,  5.77372033e-04, -3.32189701e-03, -8.64792033e-04,\n",
            "        1.79181120e-03, -8.18454195e-04, -1.69087423e-03,  2.51508714e-03,\n",
            "       -1.26882526e-03, -3.69476293e-05, -2.75014690e-03, -3.24349292e-03,\n",
            "        2.12383200e-03, -9.11651237e-04, -2.34528631e-03, -1.68305065e-03,\n",
            "       -7.17351562e-04,  2.03338059e-04, -1.06290297e-03, -1.05257204e-03,\n",
            "        7.56997324e-04,  8.66741582e-04,  4.24314709e-03,  5.80201682e-04,\n",
            "       -1.42630236e-03,  3.64625268e-03,  1.12341705e-03,  1.69936311e-03,\n",
            "        1.08880980e-03,  4.06244246e-04,  1.67966017e-03, -3.07304901e-04,\n",
            "        2.56448926e-04, -2.74889544e-03, -2.60693108e-04,  6.29616028e-04,\n",
            "        5.18684392e-04,  5.06498793e-04, -1.75745424e-03, -2.50845333e-03,\n",
            "        3.29580111e-03,  2.34114681e-03,  1.78862875e-03, -1.96675933e-03,\n",
            "       -2.85300863e-04,  2.95514881e-04,  1.76551077e-03,  2.14295986e-04,\n",
            "       -2.74702528e-04, -4.98560366e-05, -2.33496467e-05,  6.49673748e-05,\n",
            "        3.62340477e-04, -9.65728366e-04, -2.40365812e-03, -3.28422553e-04,\n",
            "        1.72259891e-03, -9.60275298e-04, -1.24948169e-03, -1.23629603e-03,\n",
            "       -4.82999487e-04,  1.66278379e-03, -1.42891321e-03, -8.51270393e-04,\n",
            "        2.50486657e-03,  1.03739847e-03,  4.44977719e-04, -4.01280500e-04,\n",
            "       -6.51122653e-04,  7.47022335e-04, -1.48657290e-03,  5.63821697e-04,\n",
            "       -2.27600569e-03,  1.02134841e-03,  1.50884001e-03, -4.78561968e-04,\n",
            "       -2.13380903e-04,  3.12323740e-04,  1.69344270e-03,  7.68164638e-04,\n",
            "       -1.42305926e-03, -1.06511544e-03,  8.57689520e-05, -1.03630626e-03,\n",
            "       -5.28990058e-04, -6.56761054e-04, -1.05450675e-03,  1.19510374e-03,\n",
            "       -3.83046397e-04, -2.39993151e-05, -6.99702534e-04, -1.11313257e-03,\n",
            "        1.15426502e-03, -3.16569209e-03,  1.56251244e-05, -5.30554564e-04,\n",
            "       -1.35117490e-03, -1.99875431e-04, -1.27230806e-03,  3.45696841e-04,\n",
            "       -1.73765479e-03,  8.10689293e-04, -7.09120708e-04,  1.19463378e-03,\n",
            "       -1.29504187e-03, -1.42769760e-03, -2.05490855e-03,  3.33959106e-05,\n",
            "       -9.67560452e-04,  2.18152488e-03,  2.38515713e-05,  4.46808335e-05,\n",
            "       -2.04296876e-03, -1.20915414e-03, -9.56242220e-05,  4.59675764e-04,\n",
            "        3.40061216e-03,  2.13403418e-03, -5.79986838e-04,  1.29770138e-03,\n",
            "       -1.09179609e-03,  9.54744522e-04, -8.50354671e-04, -1.00062031e-03,\n",
            "        1.42553748e-04,  3.43387743e-04, -5.74955542e-04, -2.38789900e-04,\n",
            "       -1.63314794e-03,  1.01994854e-04,  2.63368245e-03,  1.79869402e-03,\n",
            "       -1.25590130e-03, -2.92626093e-03,  9.38380021e-04, -3.11836222e-04,\n",
            "       -4.31053893e-04, -1.59043982e-03,  1.84826949e-03,  1.48812158e-03,\n",
            "       -2.77693220e-03, -8.86596739e-04, -2.36758046e-04, -7.58587732e-04,\n",
            "        1.39371923e-03, -4.49905143e-04,  5.05587144e-04, -9.97542636e-04,\n",
            "        1.03000528e-03,  2.86184740e-03, -1.79313810e-03, -6.55176118e-04,\n",
            "       -2.65727611e-03,  7.20865792e-04,  1.30724453e-03, -4.23565325e-05,\n",
            "        6.62169245e-04, -4.66128025e-04,  2.81012943e-03,  1.82552508e-03,\n",
            "        5.87477058e-04, -4.03790065e-04,  8.74075748e-04,  7.78581234e-05,\n",
            "        1.90386223e-03, -1.54897827e-03,  2.25501688e-04,  5.10995567e-04,\n",
            "        2.55123922e-03,  8.13688268e-04, -7.14337279e-04, -5.06902405e-04,\n",
            "        2.85416422e-03,  7.83873023e-04, -1.10656860e-04,  9.32446972e-04,\n",
            "        2.40951893e-03, -6.86718326e-04, -2.52255704e-03,  2.18124787e-05,\n",
            "        1.05487206e-05,  8.27186217e-04, -1.75172405e-03, -1.25424110e-03,\n",
            "        8.82197171e-04, -5.65536728e-04, -1.00640114e-03, -3.75324744e-04,\n",
            "        1.51518488e-03, -1.22928934e-04,  8.04806245e-04,  4.69992170e-04,\n",
            "       -5.85276866e-04, -1.16747025e-04, -3.51934647e-03,  1.32238166e-03,\n",
            "        1.72750279e-03,  2.94423138e-04,  2.98701430e-04,  4.09114582e-04,\n",
            "       -5.18784160e-04, -2.73050228e-03,  1.59792858e-03,  2.05026925e-04,\n",
            "        7.29332387e-04, -8.44324881e-04,  1.73368491e-03, -1.31481164e-03,\n",
            "       -1.38368423e-03,  3.16325552e-03,  1.51809235e-03,  8.39646265e-04,\n",
            "        6.18721606e-05, -2.25067860e-03, -1.54738067e-04,  7.56336085e-04,\n",
            "       -1.71400257e-03,  6.03145338e-04, -5.99783496e-04,  9.78035154e-04,\n",
            "       -2.15801597e-03,  9.26407811e-04,  6.17332407e-04,  2.00839248e-03,\n",
            "        3.08294198e-03, -7.05075916e-04,  3.08018411e-03, -2.07686680e-03,\n",
            "       -3.42484983e-03,  8.07445089e-04, -1.29282055e-03, -1.24681287e-03,\n",
            "        6.63550978e-04,  1.38722942e-03, -1.00464269e-03,  2.45917181e-04,\n",
            "       -1.47426047e-03, -2.40818423e-04,  2.99509428e-03,  1.09945354e-03,\n",
            "        8.59148684e-04,  1.50627500e-06, -1.17584574e-03,  4.68704355e-04,\n",
            "        8.43120288e-05,  1.58117816e-03,  1.44869217e-03, -1.08577078e-03,\n",
            "       -9.88185639e-04,  2.09095539e-03,  1.32484653e-03, -1.08445913e-03,\n",
            "       -8.18771659e-04, -1.73332344e-03, -6.66451058e-04, -1.59535231e-03,\n",
            "        3.21470387e-03,  1.90356874e-03,  7.54604407e-04, -2.53299979e-04,\n",
            "        1.34878664e-03, -1.87308283e-03,  1.15370855e-03, -1.05404225e-03,\n",
            "       -1.19788572e-03,  1.14590931e-03,  1.14154675e-04, -5.62238798e-04,\n",
            "        1.96290808e-03,  8.19200242e-04, -1.13923859e-03, -1.30361354e-03,\n",
            "        1.50869356e-03, -1.18403800e-03, -2.32256460e-03,  1.89215309e-04,\n",
            "       -4.54480432e-05, -1.98359881e-03,  1.85492670e-03, -2.23364055e-04,\n",
            "       -8.34366656e-04,  2.03655963e-03,  1.67561357e-03,  1.62004714e-03,\n",
            "       -3.21354310e-04,  3.61894118e-03, -5.57434803e-04, -1.67479762e-03,\n",
            "        1.03459624e-03,  4.82435600e-04, -2.24323105e-03, -1.16618583e-03,\n",
            "        1.39774487e-03, -3.93694296e-04,  1.31923391e-03, -8.33242026e-04,\n",
            "       -1.68927254e-05, -2.22254661e-03, -4.09675704e-04,  2.92616361e-03,\n",
            "       -1.78410482e-04, -1.21830043e-03,  3.88241722e-03,  7.66222889e-04,\n",
            "       -1.43284255e-04, -1.88554521e-03,  8.52050260e-04,  1.40042137e-03,\n",
            "        2.37329234e-03,  7.15036993e-04, -2.30495381e-04,  3.50229093e-03],\n",
            "      dtype=float32)>, <tf.Variable 'top_conv/kernel:0' shape=(1, 1, 320, 1280) dtype=float32, numpy=\n",
            "array([[[[ 0.010654  ,  0.04302309, -0.05814039, ...,  0.07820047,\n",
            "           0.09309781,  0.13512692],\n",
            "         [ 0.18291403,  0.0635317 ,  0.1210966 , ...,  0.10852515,\n",
            "           0.09180524,  0.25709218],\n",
            "         [-0.01965742,  0.02730735,  0.02497241, ...,  0.10817309,\n",
            "           0.11124102,  0.03874104],\n",
            "         ...,\n",
            "         [ 0.16707249,  0.0034612 , -0.04011405, ...,  0.07070784,\n",
            "          -0.03778364,  0.04866563],\n",
            "         [-0.03250833, -0.03533007, -0.08403775, ..., -0.04473848,\n",
            "          -0.06186406,  0.05368444],\n",
            "         [ 0.14157134, -0.01509961, -0.20079431, ..., -0.10574265,\n",
            "          -0.04939263,  0.04458737]]]], dtype=float32)>, <tf.Variable 'top_bn/gamma:0' shape=(1280,) dtype=float32, numpy=\n",
            "array([2.656564 , 2.543096 , 2.3632998, ..., 2.7232573, 2.503377 ,\n",
            "       2.161115 ], dtype=float32)>, <tf.Variable 'top_bn/beta:0' shape=(1280,) dtype=float32, numpy=\n",
            "array([-2.2949498, -2.3487396, -2.0764754, ..., -2.4685047, -2.2737474,\n",
            "       -1.4324068], dtype=float32)>]\n"
          ],
          "name": "stdout"
        }
      ]
    },
    {
      "cell_type": "code",
      "metadata": {
        "colab": {
          "base_uri": "https://localhost:8080/"
        },
        "id": "xhW_9ks1xIVV",
        "outputId": "75300fa8-72a1-447c-c5e9-69e75852c621"
      },
      "source": [
        "# to begin fine tuning lets begin by setting the last 10 layers of our base_model.trainable = True\n",
        "base_model.trainable = True\n",
        "\n",
        "# Freeze all the layers expect for last 10 layers\n",
        "for layers in base_model.layers[:-10]:\n",
        "  layers.trainable = False\n",
        "\n",
        "# recompile (we have to recompile everytime we make a change)\n",
        "model_2.compile(\n",
        "    loss = tf.keras.losses.CategoricalCrossentropy(),\n",
        "    optimizer = tf.keras.optimizers.Adam(lr=0.0001), # when fine tunind you typically want to lower the learning rate 10x tims (recommended)\n",
        "    metrics = [\"accuracy\"]\n",
        ")\n"
      ],
      "execution_count": null,
      "outputs": [
        {
          "output_type": "stream",
          "text": [
            "/usr/local/lib/python3.7/dist-packages/keras/optimizer_v2/optimizer_v2.py:356: UserWarning: The `lr` argument is deprecated, use `learning_rate` instead.\n",
            "  \"The `lr` argument is deprecated, use `learning_rate` instead.\")\n"
          ],
          "name": "stderr"
        }
      ]
    },
    {
      "cell_type": "markdown",
      "metadata": {
        "id": "qdJP_1Kl0bgD"
      },
      "source": [
        "> **Note** when using fine tuning its best practice to lower your learning rate by some amount. how much? this is a hyper-parameter you can tune but a good rule of thumb is at least 10x"
      ]
    },
    {
      "cell_type": "code",
      "metadata": {
        "colab": {
          "base_uri": "https://localhost:8080/"
        },
        "id": "F-WfLJsl086I",
        "outputId": "2d9b5f73-7f86-46d7-f69a-a66d9cb830e5"
      },
      "source": [
        "# check which layers are tuneable\n",
        "for i, layer in enumerate(model_2.layers[2].layers):\n",
        "  print(i, layer.name, layer.trainable)"
      ],
      "execution_count": null,
      "outputs": [
        {
          "output_type": "stream",
          "text": [
            "0 input_3 False\n",
            "1 rescaling_2 False\n",
            "2 normalization_2 False\n",
            "3 stem_conv_pad False\n",
            "4 stem_conv False\n",
            "5 stem_bn False\n",
            "6 stem_activation False\n",
            "7 block1a_dwconv False\n",
            "8 block1a_bn False\n",
            "9 block1a_activation False\n",
            "10 block1a_se_squeeze False\n",
            "11 block1a_se_reshape False\n",
            "12 block1a_se_reduce False\n",
            "13 block1a_se_expand False\n",
            "14 block1a_se_excite False\n",
            "15 block1a_project_conv False\n",
            "16 block1a_project_bn False\n",
            "17 block2a_expand_conv False\n",
            "18 block2a_expand_bn False\n",
            "19 block2a_expand_activation False\n",
            "20 block2a_dwconv_pad False\n",
            "21 block2a_dwconv False\n",
            "22 block2a_bn False\n",
            "23 block2a_activation False\n",
            "24 block2a_se_squeeze False\n",
            "25 block2a_se_reshape False\n",
            "26 block2a_se_reduce False\n",
            "27 block2a_se_expand False\n",
            "28 block2a_se_excite False\n",
            "29 block2a_project_conv False\n",
            "30 block2a_project_bn False\n",
            "31 block2b_expand_conv False\n",
            "32 block2b_expand_bn False\n",
            "33 block2b_expand_activation False\n",
            "34 block2b_dwconv False\n",
            "35 block2b_bn False\n",
            "36 block2b_activation False\n",
            "37 block2b_se_squeeze False\n",
            "38 block2b_se_reshape False\n",
            "39 block2b_se_reduce False\n",
            "40 block2b_se_expand False\n",
            "41 block2b_se_excite False\n",
            "42 block2b_project_conv False\n",
            "43 block2b_project_bn False\n",
            "44 block2b_drop False\n",
            "45 block2b_add False\n",
            "46 block3a_expand_conv False\n",
            "47 block3a_expand_bn False\n",
            "48 block3a_expand_activation False\n",
            "49 block3a_dwconv_pad False\n",
            "50 block3a_dwconv False\n",
            "51 block3a_bn False\n",
            "52 block3a_activation False\n",
            "53 block3a_se_squeeze False\n",
            "54 block3a_se_reshape False\n",
            "55 block3a_se_reduce False\n",
            "56 block3a_se_expand False\n",
            "57 block3a_se_excite False\n",
            "58 block3a_project_conv False\n",
            "59 block3a_project_bn False\n",
            "60 block3b_expand_conv False\n",
            "61 block3b_expand_bn False\n",
            "62 block3b_expand_activation False\n",
            "63 block3b_dwconv False\n",
            "64 block3b_bn False\n",
            "65 block3b_activation False\n",
            "66 block3b_se_squeeze False\n",
            "67 block3b_se_reshape False\n",
            "68 block3b_se_reduce False\n",
            "69 block3b_se_expand False\n",
            "70 block3b_se_excite False\n",
            "71 block3b_project_conv False\n",
            "72 block3b_project_bn False\n",
            "73 block3b_drop False\n",
            "74 block3b_add False\n",
            "75 block4a_expand_conv False\n",
            "76 block4a_expand_bn False\n",
            "77 block4a_expand_activation False\n",
            "78 block4a_dwconv_pad False\n",
            "79 block4a_dwconv False\n",
            "80 block4a_bn False\n",
            "81 block4a_activation False\n",
            "82 block4a_se_squeeze False\n",
            "83 block4a_se_reshape False\n",
            "84 block4a_se_reduce False\n",
            "85 block4a_se_expand False\n",
            "86 block4a_se_excite False\n",
            "87 block4a_project_conv False\n",
            "88 block4a_project_bn False\n",
            "89 block4b_expand_conv False\n",
            "90 block4b_expand_bn False\n",
            "91 block4b_expand_activation False\n",
            "92 block4b_dwconv False\n",
            "93 block4b_bn False\n",
            "94 block4b_activation False\n",
            "95 block4b_se_squeeze False\n",
            "96 block4b_se_reshape False\n",
            "97 block4b_se_reduce False\n",
            "98 block4b_se_expand False\n",
            "99 block4b_se_excite False\n",
            "100 block4b_project_conv False\n",
            "101 block4b_project_bn False\n",
            "102 block4b_drop False\n",
            "103 block4b_add False\n",
            "104 block4c_expand_conv False\n",
            "105 block4c_expand_bn False\n",
            "106 block4c_expand_activation False\n",
            "107 block4c_dwconv False\n",
            "108 block4c_bn False\n",
            "109 block4c_activation False\n",
            "110 block4c_se_squeeze False\n",
            "111 block4c_se_reshape False\n",
            "112 block4c_se_reduce False\n",
            "113 block4c_se_expand False\n",
            "114 block4c_se_excite False\n",
            "115 block4c_project_conv False\n",
            "116 block4c_project_bn False\n",
            "117 block4c_drop False\n",
            "118 block4c_add False\n",
            "119 block5a_expand_conv False\n",
            "120 block5a_expand_bn False\n",
            "121 block5a_expand_activation False\n",
            "122 block5a_dwconv False\n",
            "123 block5a_bn False\n",
            "124 block5a_activation False\n",
            "125 block5a_se_squeeze False\n",
            "126 block5a_se_reshape False\n",
            "127 block5a_se_reduce False\n",
            "128 block5a_se_expand False\n",
            "129 block5a_se_excite False\n",
            "130 block5a_project_conv False\n",
            "131 block5a_project_bn False\n",
            "132 block5b_expand_conv False\n",
            "133 block5b_expand_bn False\n",
            "134 block5b_expand_activation False\n",
            "135 block5b_dwconv False\n",
            "136 block5b_bn False\n",
            "137 block5b_activation False\n",
            "138 block5b_se_squeeze False\n",
            "139 block5b_se_reshape False\n",
            "140 block5b_se_reduce False\n",
            "141 block5b_se_expand False\n",
            "142 block5b_se_excite False\n",
            "143 block5b_project_conv False\n",
            "144 block5b_project_bn False\n",
            "145 block5b_drop False\n",
            "146 block5b_add False\n",
            "147 block5c_expand_conv False\n",
            "148 block5c_expand_bn False\n",
            "149 block5c_expand_activation False\n",
            "150 block5c_dwconv False\n",
            "151 block5c_bn False\n",
            "152 block5c_activation False\n",
            "153 block5c_se_squeeze False\n",
            "154 block5c_se_reshape False\n",
            "155 block5c_se_reduce False\n",
            "156 block5c_se_expand False\n",
            "157 block5c_se_excite False\n",
            "158 block5c_project_conv False\n",
            "159 block5c_project_bn False\n",
            "160 block5c_drop False\n",
            "161 block5c_add False\n",
            "162 block6a_expand_conv False\n",
            "163 block6a_expand_bn False\n",
            "164 block6a_expand_activation False\n",
            "165 block6a_dwconv_pad False\n",
            "166 block6a_dwconv False\n",
            "167 block6a_bn False\n",
            "168 block6a_activation False\n",
            "169 block6a_se_squeeze False\n",
            "170 block6a_se_reshape False\n",
            "171 block6a_se_reduce False\n",
            "172 block6a_se_expand False\n",
            "173 block6a_se_excite False\n",
            "174 block6a_project_conv False\n",
            "175 block6a_project_bn False\n",
            "176 block6b_expand_conv False\n",
            "177 block6b_expand_bn False\n",
            "178 block6b_expand_activation False\n",
            "179 block6b_dwconv False\n",
            "180 block6b_bn False\n",
            "181 block6b_activation False\n",
            "182 block6b_se_squeeze False\n",
            "183 block6b_se_reshape False\n",
            "184 block6b_se_reduce False\n",
            "185 block6b_se_expand False\n",
            "186 block6b_se_excite False\n",
            "187 block6b_project_conv False\n",
            "188 block6b_project_bn False\n",
            "189 block6b_drop False\n",
            "190 block6b_add False\n",
            "191 block6c_expand_conv False\n",
            "192 block6c_expand_bn False\n",
            "193 block6c_expand_activation False\n",
            "194 block6c_dwconv False\n",
            "195 block6c_bn False\n",
            "196 block6c_activation False\n",
            "197 block6c_se_squeeze False\n",
            "198 block6c_se_reshape False\n",
            "199 block6c_se_reduce False\n",
            "200 block6c_se_expand False\n",
            "201 block6c_se_excite False\n",
            "202 block6c_project_conv False\n",
            "203 block6c_project_bn False\n",
            "204 block6c_drop False\n",
            "205 block6c_add False\n",
            "206 block6d_expand_conv False\n",
            "207 block6d_expand_bn False\n",
            "208 block6d_expand_activation False\n",
            "209 block6d_dwconv False\n",
            "210 block6d_bn False\n",
            "211 block6d_activation False\n",
            "212 block6d_se_squeeze False\n",
            "213 block6d_se_reshape False\n",
            "214 block6d_se_reduce False\n",
            "215 block6d_se_expand False\n",
            "216 block6d_se_excite False\n",
            "217 block6d_project_conv False\n",
            "218 block6d_project_bn False\n",
            "219 block6d_drop False\n",
            "220 block6d_add False\n",
            "221 block7a_expand_conv False\n",
            "222 block7a_expand_bn False\n",
            "223 block7a_expand_activation False\n",
            "224 block7a_dwconv False\n",
            "225 block7a_bn False\n",
            "226 block7a_activation False\n",
            "227 block7a_se_squeeze True\n",
            "228 block7a_se_reshape True\n",
            "229 block7a_se_reduce True\n",
            "230 block7a_se_expand True\n",
            "231 block7a_se_excite True\n",
            "232 block7a_project_conv True\n",
            "233 block7a_project_bn True\n",
            "234 top_conv True\n",
            "235 top_bn True\n",
            "236 top_activation True\n"
          ],
          "name": "stdout"
        }
      ]
    },
    {
      "cell_type": "code",
      "metadata": {
        "colab": {
          "base_uri": "https://localhost:8080/"
        },
        "id": "SuQN9f5A1Vk4",
        "outputId": "45b7dd15-4e08-40c2-bc20-b1ca42a5ecc5"
      },
      "source": [
        "len(model_2.trainable_variables)"
      ],
      "execution_count": null,
      "outputs": [
        {
          "output_type": "execute_result",
          "data": {
            "text/plain": [
              "12"
            ]
          },
          "metadata": {},
          "execution_count": 65
        }
      ]
    },
    {
      "cell_type": "code",
      "metadata": {
        "colab": {
          "base_uri": "https://localhost:8080/"
        },
        "id": "nVr28_yy3Bwd",
        "outputId": "21c0ff63-f380-4750-aae9-4f2e10a806ea"
      },
      "source": [
        "initial_epochs = 5\n",
        "\n",
        "# fine tune for another 5 epochs\n",
        "fine_tune_epoch = initial_epochs + 5\n",
        "\n",
        "# fit the model (same as model_2 expect for more trainable layers)\n",
        "model_2_history_fine_tune = model_2.fit(train_data,\n",
        "                                        epochs=fine_tune_epoch,\n",
        "                                        steps_per_epoch=len(train_data),\n",
        "                                        validation_data=test_data,\n",
        "                                        validation_steps=(0.25*len(test_data)),\n",
        "                                        initial_epoch=model_2_history.epoch[-1], # start at the last epoch\n",
        "                                        callbacks=tensorboard_callback(\"tensorboard_hub\",\n",
        "                                                                       \"model_3_fine_tune\")) "
      ],
      "execution_count": null,
      "outputs": [
        {
          "output_type": "stream",
          "text": [
            "Saving model logs to tensorboard_hub/model_3_fine_tune/210824 - Aug081629804414\n",
            "Epoch 5/10\n",
            "24/24 [==============================] - 26s 726ms/step - loss: 0.6911 - accuracy: 0.8067 - val_loss: 0.6007 - val_accuracy: 0.8000\n",
            "Epoch 6/10\n",
            "24/24 [==============================] - 15s 595ms/step - loss: 0.5952 - accuracy: 0.8213 - val_loss: 0.5399 - val_accuracy: 0.8156\n",
            "Epoch 7/10\n",
            "24/24 [==============================] - 13s 505ms/step - loss: 0.5176 - accuracy: 0.8427 - val_loss: 0.5587 - val_accuracy: 0.7969\n",
            "Epoch 8/10\n",
            "24/24 [==============================] - 14s 598ms/step - loss: 0.4713 - accuracy: 0.8507 - val_loss: 0.5627 - val_accuracy: 0.8047\n",
            "Epoch 9/10\n",
            "24/24 [==============================] - 15s 589ms/step - loss: 0.4523 - accuracy: 0.8613 - val_loss: 0.5555 - val_accuracy: 0.8047\n",
            "Epoch 10/10\n",
            "24/24 [==============================] - 13s 547ms/step - loss: 0.4073 - accuracy: 0.8800 - val_loss: 0.5575 - val_accuracy: 0.8016\n"
          ],
          "name": "stdout"
        }
      ]
    },
    {
      "cell_type": "code",
      "metadata": {
        "colab": {
          "base_uri": "https://localhost:8080/"
        },
        "id": "0IWixFRQ6cCq",
        "outputId": "73172f32-ad29-4cfe-d513-9a19324ce30f"
      },
      "source": [
        "model_3_fine_tune_result = model_2.evaluate(test_data)"
      ],
      "execution_count": null,
      "outputs": [
        {
          "output_type": "stream",
          "text": [
            "79/79 [==============================] - 11s 128ms/step - loss: 0.4918 - accuracy: 0.8368\n"
          ],
          "name": "stdout"
        }
      ]
    },
    {
      "cell_type": "code",
      "metadata": {
        "colab": {
          "base_uri": "https://localhost:8080/",
          "height": 404
        },
        "id": "-mqWamQY7RlK",
        "outputId": "98eb1624-1f92-49f2-f2ca-39c5ca2cdda0"
      },
      "source": [
        "plot_loss_curve(model_2_history_fine_tune)"
      ],
      "execution_count": null,
      "outputs": [
        {
          "output_type": "display_data",
          "data": {
            "image/png": "[encoded data removed]",
            "text/plain": [
              "<Figure size 864x432 with 2 Axes>"
            ]
          },
          "metadata": {
            "needs_background": "light"
          }
        }
      ]
    },
    {
      "cell_type": "markdown",
      "metadata": {
        "id": "yYg7PinB_kvV"
      },
      "source": [
        "## Compare_history()"
      ]
    },
    {
      "cell_type": "code",
      "metadata": {
        "id": "5JVV92u47oXN"
      },
      "source": [
        "def compare_histroy(original_history, new_history, initial_epochs=5):\n",
        "  \"\"\"\n",
        "  Compares the history of original model and the fine tunned modl\n",
        "  \"\"\"\n",
        "\n",
        "  acc = original_history.history[\"accuracy\"]\n",
        "  loss = original_history.history[\"loss\"]\n",
        "  val_acc = original_history.history[\"val_accuracy\"]\n",
        "  val_loss = original_history.history[\"val_loss\"]\n",
        "\n",
        "  total_acc = acc + new_history.history[\"accuracy\"]\n",
        "  total_loss = loss + new_history.history[\"loss\"]\n",
        "  total_val_loss = val_loss + new_history.history[\"val_loss\"]\n",
        "  total_val_acc = val_acc + new_history.history[\"val_accuracy\"]\n",
        "\n",
        "  plt.figure(figsize=(8,8))\n",
        "  # Make accuracy plot\n",
        "  plt.subplot(2,1,1)\n",
        "  plt.plot(total_acc, label=\"accuracy\")\n",
        "  plt.plot(total_val_acc, label=\"val_acc\")\n",
        "  plt.plot([initial_epochs-1, initial_epochs-1], plt.ylim(), label=\"Start Fine Tune\")\n",
        "  plt.legend(loc=\"lower right\")\n",
        "  plt.title(\"Accuracy Curve\")\n",
        "\n",
        "  # Make loss plot\n",
        "  plt.subplot(2,1,2)\n",
        "  plt.plot(total_loss, label=\"loss\")\n",
        "  plt.plot(total_val_loss, label=\"val_loss\")\n",
        "  plt.plot([initial_epochs-1, initial_epochs-1], plt.ylim(), label=\"Start Fine Tune\")\n",
        "  plt.legend(loc=\"upper right\")\n",
        "  plt.title(\"Loss Curve\")"
      ],
      "execution_count": null,
      "outputs": []
    },
    {
      "cell_type": "code",
      "metadata": {
        "colab": {
          "base_uri": "https://localhost:8080/",
          "height": 499
        },
        "id": "_m3Wh3V4BwE_",
        "outputId": "239d762c-ec1d-4380-ae2f-dc01810495e3"
      },
      "source": [
        "compare_histroy(model_2_history,\n",
        "                model_2_history_fine_tune,\n",
        "                initial_epochs=5)"
      ],
      "execution_count": null,
      "outputs": [
        {
          "output_type": "display_data",
          "data": {
            "image/png": "[encoded data removed]",
            "text/plain": [
              "<Figure size 576x576 with 2 Axes>"
            ]
          },
          "metadata": {
            "needs_background": "light"
          }
        }
      ]
    },
    {
      "cell_type": "markdown",
      "metadata": {
        "id": "VdIAZMMHD-Xz"
      },
      "source": [
        "## 169).`model_4`: use fine-tuning transfer learning on 100% of the training data and data augmentation "
      ]
    },
    {
      "cell_type": "code",
      "metadata": {
        "colab": {
          "base_uri": "https://localhost:8080/"
        },
        "id": "D6dwy_z5FrQr",
        "outputId": "629d2738-6099-46b3-c5f0-b063d5242592"
      },
      "source": [
        "!wget https://storage.googleapis.com/ztm_tf_course/food_vision/10_food_classes_all_data.zip"
      ],
      "execution_count": null,
      "outputs": [
        {
          "output_type": "stream",
          "text": [
            "--2021-08-24 12:16:10--  https://storage.googleapis.com/ztm_tf_course/food_vision/10_food_classes_all_data.zip\n",
            "Resolving storage.googleapis.com (storage.googleapis.com)... 74.125.203.128, 74.125.204.128, 64.233.189.128, ...\n",
            "Connecting to storage.googleapis.com (storage.googleapis.com)|74.125.203.128|:443... connected.\n",
            "HTTP request sent, awaiting response... 200 OK\n",
            "Length: 519183241 (495M) [application/zip]\n",
            "Saving to: ‘10_food_classes_all_data.zip.1’\n",
            "\n",
            "10_food_classes_all 100%[===================>] 495.13M  70.1MB/s    in 7.5s    \n",
            "\n",
            "2021-08-24 12:16:18 (65.7 MB/s) - ‘10_food_classes_all_data.zip.1’ saved [519183241/519183241]\n",
            "\n"
          ],
          "name": "stdout"
        }
      ]
    },
    {
      "cell_type": "code",
      "metadata": {
        "id": "VFxx_3oTFtw1"
      },
      "source": [
        "unzip_file(\"10_food_classes_all_data.zip\")"
      ],
      "execution_count": null,
      "outputs": []
    },
    {
      "cell_type": "code",
      "metadata": {
        "colab": {
          "base_uri": "https://localhost:8080/"
        },
        "id": "218ZvtS2FxMF",
        "outputId": "3e11bd84-64f2-4f44-a453-b6388f53ba12"
      },
      "source": [
        "# walk throught the directories\n",
        "wallk_through(\"10_food_classes_all_data\")"
      ],
      "execution_count": null,
      "outputs": [
        {
          "output_type": "stream",
          "text": [
            "There are 0 imaegs in '10_food_classes_all_data'\n",
            "There are 0 imaegs in '10_food_classes_all_data/train'\n",
            "There are 750 imaegs in '10_food_classes_all_data/train/pizza'\n",
            "There are 750 imaegs in '10_food_classes_all_data/train/fried_rice'\n",
            "There are 750 imaegs in '10_food_classes_all_data/train/grilled_salmon'\n",
            "There are 750 imaegs in '10_food_classes_all_data/train/steak'\n",
            "There are 750 imaegs in '10_food_classes_all_data/train/sushi'\n",
            "There are 750 imaegs in '10_food_classes_all_data/train/chicken_curry'\n",
            "There are 750 imaegs in '10_food_classes_all_data/train/hamburger'\n",
            "There are 750 imaegs in '10_food_classes_all_data/train/ramen'\n",
            "There are 750 imaegs in '10_food_classes_all_data/train/chicken_wings'\n",
            "There are 750 imaegs in '10_food_classes_all_data/train/ice_cream'\n",
            "There are 0 imaegs in '10_food_classes_all_data/test'\n",
            "There are 250 imaegs in '10_food_classes_all_data/test/pizza'\n",
            "There are 250 imaegs in '10_food_classes_all_data/test/fried_rice'\n",
            "There are 250 imaegs in '10_food_classes_all_data/test/grilled_salmon'\n",
            "There are 250 imaegs in '10_food_classes_all_data/test/steak'\n",
            "There are 250 imaegs in '10_food_classes_all_data/test/sushi'\n",
            "There are 250 imaegs in '10_food_classes_all_data/test/chicken_curry'\n",
            "There are 250 imaegs in '10_food_classes_all_data/test/hamburger'\n",
            "There are 250 imaegs in '10_food_classes_all_data/test/ramen'\n",
            "There are 250 imaegs in '10_food_classes_all_data/test/chicken_wings'\n",
            "There are 250 imaegs in '10_food_classes_all_data/test/ice_cream'\n"
          ],
          "name": "stdout"
        }
      ]
    },
    {
      "cell_type": "code",
      "metadata": {
        "id": "LRwkWxM_F57B"
      },
      "source": [
        "# setup train and test dir\n",
        "train_dir = \"10_food_classes_all_data/train\"\n",
        "test_data = \"10_food_classes_all_data/test\""
      ],
      "execution_count": null,
      "outputs": []
    },
    {
      "cell_type": "code",
      "metadata": {
        "colab": {
          "base_uri": "https://localhost:8080/",
          "height": 249
        },
        "id": "bH6RmkXHGAz-",
        "outputId": "d1216e20-1d10-4347-8be3-d03a8178bea5"
      },
      "source": [
        "# setup train and test data loader\n",
        "IMAGE_SIZE = (224,224)\n",
        "BATCH_SIZE = 32\n",
        "\n",
        "all_train_data = tf.keras.preprocessing.image_dataset_from_directory(train_dir,\n",
        "                                                                 image_size=IMAGE_SIZE,\n",
        "                                                                 batch_size=BATCH_SIZE,\n",
        "                                                                 label_mode=\"categorical\")\n",
        "all_test_data = tf.keras.preprocessing.image_dataset_from_directory(test_dir,\n",
        "                                                                image_size=IMAGE_SIZE,\n",
        "                                                                batch_size=BATCH_SIZE,\n",
        "                                                                label_mode=\"categorical\")"
      ],
      "execution_count": null,
      "outputs": [
        {
          "output_type": "error",
          "ename": "NameError",
          "evalue": "ignored",
          "traceback": [
            "\u001b[0;31m---------------------------------------------------------------------------\u001b[0m",
            "\u001b[0;31mNameError\u001b[0m                                 Traceback (most recent call last)",
            "\u001b[0;32m<ipython-input-1-0cc7207d5025>\u001b[0m in \u001b[0;36m<module>\u001b[0;34m()\u001b[0m\n\u001b[1;32m      3\u001b[0m \u001b[0mBATCH_SIZE\u001b[0m \u001b[0;34m=\u001b[0m \u001b[0;36m32\u001b[0m\u001b[0;34m\u001b[0m\u001b[0;34m\u001b[0m\u001b[0m\n\u001b[1;32m      4\u001b[0m \u001b[0;34m\u001b[0m\u001b[0m\n\u001b[0;32m----> 5\u001b[0;31m all_train_data = tf.keras.preprocessing.image_dataset_from_directory(train_dir,\n\u001b[0m\u001b[1;32m      6\u001b[0m                                                                  \u001b[0mimage_size\u001b[0m\u001b[0;34m=\u001b[0m\u001b[0mIMAGE_SIZE\u001b[0m\u001b[0;34m,\u001b[0m\u001b[0;34m\u001b[0m\u001b[0;34m\u001b[0m\u001b[0m\n\u001b[1;32m      7\u001b[0m                                                                  \u001b[0mbatch_size\u001b[0m\u001b[0;34m=\u001b[0m\u001b[0mBATCH_SIZE\u001b[0m\u001b[0;34m,\u001b[0m\u001b[0;34m\u001b[0m\u001b[0;34m\u001b[0m\u001b[0m\n",
            "\u001b[0;31mNameError\u001b[0m: name 'tf' is not defined"
          ]
        }
      ]
    },
    {
      "cell_type": "markdown",
      "metadata": {
        "id": "puO2svWUJG5Y"
      },
      "source": [
        "To train a fine_tuning model(model_2) we have to revert the model_2 back to its feature extraction weights.\n",
        "\n",
        ">How to revert our model back?\n",
        "\n",
        "Using the model checkpoint that we have saved"
      ]
    },
    {
      "cell_type": "code",
      "metadata": {
        "id": "Gyh2EYdIKn_-"
      },
      "source": [
        "model_3_fine_tune_result"
      ],
      "execution_count": null,
      "outputs": []
    },
    {
      "cell_type": "code",
      "metadata": {
        "id": "1NYzXTGwHQ2Q"
      },
      "source": [
        "# load weights from model checkpoint\n",
        "model_2.load_weights(checkpoint_path)"
      ],
      "execution_count": null,
      "outputs": []
    },
    {
      "cell_type": "code",
      "metadata": {
        "id": "mV3JBwanJ-xX"
      },
      "source": [
        "model_2.evaluate(test_data)"
      ],
      "execution_count": null,
      "outputs": []
    },
    {
      "cell_type": "markdown",
      "metadata": {
        "id": "jN7NPPNzb4S_"
      },
      "source": [
        "1. Train a feature extraction model for 5 epochs on 10% of the data with data augmentation(model_2) and we saved the model weights using `Checkpoint` callback\n",
        "2. fine tuned the same model on the same 10% of the data for a further 5 epochs with the top 10 layers of the base_model unfrozen(model_3).\n",
        "3. Saved the results and training logs each time\n",
        "4. Reload the model from step 1 to do the same steps as step 2 except this time we are going to use all the data(model_4)."
      ]
    },
    {
      "cell_type": "code",
      "metadata": {
        "id": "clhtdLoGdPt1"
      },
      "source": [
        "# check which layer are tuneable in the whole model\n",
        "for i, layer in enumerate(model_2.layers):\n",
        "  print(i, layer_n)"
      ],
      "execution_count": null,
      "outputs": []
    }
  ]
}