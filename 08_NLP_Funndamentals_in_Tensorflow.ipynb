{
  "cells": [
    {
      "cell_type": "markdown",
      "metadata": {
        "id": "view-in-github",
        "colab_type": "text"
      },
      "source": [
        "<a href=\"https://colab.research.google.com/github/MalikHasnat1999/ZTM_Tensorflow/blob/master/08_NLP_Funndamentals_in_Tensorflow.ipynb\" target=\"_parent\"><img src=\"https://colab.research.google.com/assets/colab-badge.svg\" alt=\"Open In Colab\"/></a>"
      ]
    },
    {
      "cell_type": "markdown",
      "metadata": {
        "id": "vVxPzKRa618S"
      },
      "source": [
        "# NLP \n",
        "NLP has the goal of driving information out of natural language (could be sequence of text or speech).\n",
        "\n",
        "Another common term for NLP problems is sequence to sequence problems(seq2seq)."
      ]
    },
    {
      "cell_type": "markdown",
      "metadata": {
        "id": "eJ-l_T1188RO"
      },
      "source": [
        "# Import Libraries"
      ]
    },
    {
      "cell_type": "code",
      "execution_count": null,
      "metadata": {
        "id": "Bv7RLTCC8_u-"
      },
      "outputs": [],
      "source": [
        "import tensorflow as tf\n",
        "import pandas as pd\n",
        "import numpy as np\n",
        "import datetime"
      ]
    },
    {
      "cell_type": "markdown",
      "metadata": {
        "id": "SMHESm_r7hBQ"
      },
      "source": [
        "# Check for GPU"
      ]
    },
    {
      "cell_type": "code",
      "execution_count": null,
      "metadata": {
        "colab": {
          "base_uri": "https://localhost:8080/"
        },
        "id": "SYfj9g_77lHz",
        "outputId": "63be1d89-fefa-4fc0-c00e-a820fcc51fe8"
      },
      "outputs": [
        {
          "name": "stdout",
          "output_type": "stream",
          "text": [
            "GPU 0: Tesla K80 (UUID: GPU-660b7fb1-131d-2f2e-46b0-a3207a7b9d65)\n"
          ]
        }
      ],
      "source": [
        "!nvidia-smi -L"
      ]
    },
    {
      "cell_type": "markdown",
      "metadata": {
        "id": "Nfbm2TPB7bQj"
      },
      "source": [
        "# Get Helper Functions"
      ]
    },
    {
      "cell_type": "code",
      "execution_count": null,
      "metadata": {
        "id": "j2pbUlVh6RYC"
      },
      "outputs": [],
      "source": [
        "def unzip_file(file_name):\n",
        "  import zipfile\n",
        "\n",
        "  zip_ref = zipfile.ZipFile(file_name)\n",
        "  zip_ref.extractall()\n",
        "  zip_ref.close()\n",
        "\n",
        "def create_tensorboard_callback(dir_name, experiment_name):\n",
        "  \"\"\"\n",
        "  \"\"\"\n",
        "  log_dir = dir_name + \"/\" + experiment_name + \"/\" + datetime.datetime.now().strftime(\"%D%M%Y-%h%m%s\")\n",
        "  create_tensorboard_callback = tf.keras.callbacks.TensorBoard(log_dir=log_dir)\n",
        "\n",
        "  return create_tensorboard_callback"
      ]
    },
    {
      "cell_type": "markdown",
      "metadata": {
        "id": "Ek35-A5h7fQ3"
      },
      "source": [
        "# Get a Text Dataset\n",
        "\n",
        "The dataset we are going to use is Kaggle's introduction to NLP dataset (text sample of Tweets labeled as disaster or not disaster)\n"
      ]
    },
    {
      "cell_type": "code",
      "execution_count": null,
      "metadata": {
        "colab": {
          "base_uri": "https://localhost:8080/"
        },
        "id": "FqEqzK3972S4",
        "outputId": "1c8c5c80-4ea4-47c6-9a85-685413bbd01f"
      },
      "outputs": [
        {
          "name": "stdout",
          "output_type": "stream",
          "text": [
            "--2021-09-13 12:27:31--  https://storage.googleapis.com/ztm_tf_course/nlp_getting_started.zip\n",
            "Resolving storage.googleapis.com (storage.googleapis.com)... 108.177.112.128, 74.125.124.128, 172.217.212.128, ...\n",
            "Connecting to storage.googleapis.com (storage.googleapis.com)|108.177.112.128|:443... connected.\n",
            "HTTP request sent, awaiting response... 200 OK\n",
            "Length: 607343 (593K) [application/zip]\n",
            "Saving to: ‘nlp_getting_started.zip’\n",
            "\n",
            "nlp_getting_started 100%[===================>] 593.11K  --.-KB/s    in 0.007s  \n",
            "\n",
            "2021-09-13 12:27:32 (86.2 MB/s) - ‘nlp_getting_started.zip’ saved [607343/607343]\n",
            "\n"
          ]
        }
      ],
      "source": [
        "!wget https://storage.googleapis.com/ztm_tf_course/nlp_getting_started.zip"
      ]
    },
    {
      "cell_type": "code",
      "execution_count": null,
      "metadata": {
        "id": "5Zzy0eFe8uKS"
      },
      "outputs": [],
      "source": [
        "unzip_file(\"nlp_getting_started.zip\")"
      ]
    },
    {
      "cell_type": "markdown",
      "metadata": {
        "id": "CSKI04RgGAlm"
      },
      "source": [
        "# Become one with the Data\n",
        "\n",
        "Visualize, Visualize, Visualize\n",
        "\n",
        "To Visulize our text samples, we first have to read them in, one way to do so would be python \n",
        "\n",
        "But i prefer to get viusal starting away.\n",
        "\n",
        "So, another way to do this is to use **Pandas**"
      ]
    },
    {
      "cell_type": "code",
      "execution_count": null,
      "metadata": {
        "colab": {
          "base_uri": "https://localhost:8080/",
          "height": 206
        },
        "id": "LrSPmycfGIj9",
        "outputId": "8fdb4755-de2d-4b2a-a636-304ed7d1d51e"
      },
      "outputs": [
        {
          "data": {
            "text/html": [
              "<div>\n",
              "<style scoped>\n",
              "    .dataframe tbody tr th:only-of-type {\n",
              "        vertical-align: middle;\n",
              "    }\n",
              "\n",
              "    .dataframe tbody tr th {\n",
              "        vertical-align: top;\n",
              "    }\n",
              "\n",
              "    .dataframe thead th {\n",
              "        text-align: right;\n",
              "    }\n",
              "</style>\n",
              "<table border=\"1\" class=\"dataframe\">\n",
              "  <thead>\n",
              "    <tr style=\"text-align: right;\">\n",
              "      <th></th>\n",
              "      <th>id</th>\n",
              "      <th>keyword</th>\n",
              "      <th>location</th>\n",
              "      <th>text</th>\n",
              "      <th>target</th>\n",
              "    </tr>\n",
              "  </thead>\n",
              "  <tbody>\n",
              "    <tr>\n",
              "      <th>0</th>\n",
              "      <td>1</td>\n",
              "      <td>NaN</td>\n",
              "      <td>NaN</td>\n",
              "      <td>Our Deeds are the Reason of this #earthquake M...</td>\n",
              "      <td>1</td>\n",
              "    </tr>\n",
              "    <tr>\n",
              "      <th>1</th>\n",
              "      <td>4</td>\n",
              "      <td>NaN</td>\n",
              "      <td>NaN</td>\n",
              "      <td>Forest fire near La Ronge Sask. Canada</td>\n",
              "      <td>1</td>\n",
              "    </tr>\n",
              "    <tr>\n",
              "      <th>2</th>\n",
              "      <td>5</td>\n",
              "      <td>NaN</td>\n",
              "      <td>NaN</td>\n",
              "      <td>All residents asked to 'shelter in place' are ...</td>\n",
              "      <td>1</td>\n",
              "    </tr>\n",
              "    <tr>\n",
              "      <th>3</th>\n",
              "      <td>6</td>\n",
              "      <td>NaN</td>\n",
              "      <td>NaN</td>\n",
              "      <td>13,000 people receive #wildfires evacuation or...</td>\n",
              "      <td>1</td>\n",
              "    </tr>\n",
              "    <tr>\n",
              "      <th>4</th>\n",
              "      <td>7</td>\n",
              "      <td>NaN</td>\n",
              "      <td>NaN</td>\n",
              "      <td>Just got sent this photo from Ruby #Alaska as ...</td>\n",
              "      <td>1</td>\n",
              "    </tr>\n",
              "  </tbody>\n",
              "</table>\n",
              "</div>"
            ],
            "text/plain": [
              "   id keyword  ...                                               text target\n",
              "0   1     NaN  ...  Our Deeds are the Reason of this #earthquake M...      1\n",
              "1   4     NaN  ...             Forest fire near La Ronge Sask. Canada      1\n",
              "2   5     NaN  ...  All residents asked to 'shelter in place' are ...      1\n",
              "3   6     NaN  ...  13,000 people receive #wildfires evacuation or...      1\n",
              "4   7     NaN  ...  Just got sent this photo from Ruby #Alaska as ...      1\n",
              "\n",
              "[5 rows x 5 columns]"
            ]
          },
          "execution_count": 6,
          "metadata": {},
          "output_type": "execute_result"
        }
      ],
      "source": [
        "train_df = pd.read_csv(\"train.csv\")\n",
        "test_df = pd.read_csv(\"test.csv\")\n",
        "\n",
        "train_df.head()"
      ]
    },
    {
      "cell_type": "code",
      "execution_count": null,
      "metadata": {
        "colab": {
          "base_uri": "https://localhost:8080/",
          "height": 36
        },
        "id": "w_zBQNpNH9Ee",
        "outputId": "c8202be7-84fa-4b52-d975-2db97e39b390"
      },
      "outputs": [
        {
          "data": {
            "application/vnd.google.colaboratory.intrinsic+json": {
              "type": "string"
            },
            "text/plain": [
              "'Our Deeds are the Reason of this #earthquake May ALLAH Forgive us all'"
            ]
          },
          "execution_count": 7,
          "metadata": {},
          "output_type": "execute_result"
        }
      ],
      "source": [
        "train_df[\"text\"][0]"
      ]
    },
    {
      "cell_type": "code",
      "execution_count": null,
      "metadata": {
        "colab": {
          "base_uri": "https://localhost:8080/",
          "height": 206
        },
        "id": "EsCzB3AnIGYT",
        "outputId": "59e6f45f-3940-4158-b104-f69b7b399579"
      },
      "outputs": [
        {
          "data": {
            "text/html": [
              "<div>\n",
              "<style scoped>\n",
              "    .dataframe tbody tr th:only-of-type {\n",
              "        vertical-align: middle;\n",
              "    }\n",
              "\n",
              "    .dataframe tbody tr th {\n",
              "        vertical-align: top;\n",
              "    }\n",
              "\n",
              "    .dataframe thead th {\n",
              "        text-align: right;\n",
              "    }\n",
              "</style>\n",
              "<table border=\"1\" class=\"dataframe\">\n",
              "  <thead>\n",
              "    <tr style=\"text-align: right;\">\n",
              "      <th></th>\n",
              "      <th>id</th>\n",
              "      <th>keyword</th>\n",
              "      <th>location</th>\n",
              "      <th>text</th>\n",
              "      <th>target</th>\n",
              "    </tr>\n",
              "  </thead>\n",
              "  <tbody>\n",
              "    <tr>\n",
              "      <th>2644</th>\n",
              "      <td>3796</td>\n",
              "      <td>destruction</td>\n",
              "      <td>NaN</td>\n",
              "      <td>So you have a new weapon that can cause un-ima...</td>\n",
              "      <td>1</td>\n",
              "    </tr>\n",
              "    <tr>\n",
              "      <th>2227</th>\n",
              "      <td>3185</td>\n",
              "      <td>deluge</td>\n",
              "      <td>NaN</td>\n",
              "      <td>The f$&amp;amp;@ing things I do for #GISHWHES Just...</td>\n",
              "      <td>0</td>\n",
              "    </tr>\n",
              "    <tr>\n",
              "      <th>5448</th>\n",
              "      <td>7769</td>\n",
              "      <td>police</td>\n",
              "      <td>UK</td>\n",
              "      <td>DT @georgegalloway: RT @Galloway4Mayor: ÛÏThe...</td>\n",
              "      <td>1</td>\n",
              "    </tr>\n",
              "    <tr>\n",
              "      <th>132</th>\n",
              "      <td>191</td>\n",
              "      <td>aftershock</td>\n",
              "      <td>NaN</td>\n",
              "      <td>Aftershock back to school kick off was great. ...</td>\n",
              "      <td>0</td>\n",
              "    </tr>\n",
              "    <tr>\n",
              "      <th>6845</th>\n",
              "      <td>9810</td>\n",
              "      <td>trauma</td>\n",
              "      <td>Montgomery County, MD</td>\n",
              "      <td>in response to trauma Children of Addicts deve...</td>\n",
              "      <td>0</td>\n",
              "    </tr>\n",
              "  </tbody>\n",
              "</table>\n",
              "</div>"
            ],
            "text/plain": [
              "        id  ... target\n",
              "2644  3796  ...      1\n",
              "2227  3185  ...      0\n",
              "5448  7769  ...      1\n",
              "132    191  ...      0\n",
              "6845  9810  ...      0\n",
              "\n",
              "[5 rows x 5 columns]"
            ]
          },
          "execution_count": 8,
          "metadata": {},
          "output_type": "execute_result"
        }
      ],
      "source": [
        "# Shuffle the training dataframe so that our model does not learn any order from it\n",
        "train_df_shuffled = train_df.sample(frac=1, random_state=42)\n",
        "train_df_shuffled.head()"
      ]
    },
    {
      "cell_type": "code",
      "execution_count": null,
      "metadata": {
        "colab": {
          "base_uri": "https://localhost:8080/",
          "height": 206
        },
        "id": "L-8xu-bOJAgq",
        "outputId": "9fcda8d6-d9c1-4e11-b90e-17e122b3a193"
      },
      "outputs": [
        {
          "data": {
            "text/html": [
              "<div>\n",
              "<style scoped>\n",
              "    .dataframe tbody tr th:only-of-type {\n",
              "        vertical-align: middle;\n",
              "    }\n",
              "\n",
              "    .dataframe tbody tr th {\n",
              "        vertical-align: top;\n",
              "    }\n",
              "\n",
              "    .dataframe thead th {\n",
              "        text-align: right;\n",
              "    }\n",
              "</style>\n",
              "<table border=\"1\" class=\"dataframe\">\n",
              "  <thead>\n",
              "    <tr style=\"text-align: right;\">\n",
              "      <th></th>\n",
              "      <th>id</th>\n",
              "      <th>keyword</th>\n",
              "      <th>location</th>\n",
              "      <th>text</th>\n",
              "    </tr>\n",
              "  </thead>\n",
              "  <tbody>\n",
              "    <tr>\n",
              "      <th>0</th>\n",
              "      <td>0</td>\n",
              "      <td>NaN</td>\n",
              "      <td>NaN</td>\n",
              "      <td>Just happened a terrible car crash</td>\n",
              "    </tr>\n",
              "    <tr>\n",
              "      <th>1</th>\n",
              "      <td>2</td>\n",
              "      <td>NaN</td>\n",
              "      <td>NaN</td>\n",
              "      <td>Heard about #earthquake is different cities, s...</td>\n",
              "    </tr>\n",
              "    <tr>\n",
              "      <th>2</th>\n",
              "      <td>3</td>\n",
              "      <td>NaN</td>\n",
              "      <td>NaN</td>\n",
              "      <td>there is a forest fire at spot pond, geese are...</td>\n",
              "    </tr>\n",
              "    <tr>\n",
              "      <th>3</th>\n",
              "      <td>9</td>\n",
              "      <td>NaN</td>\n",
              "      <td>NaN</td>\n",
              "      <td>Apocalypse lighting. #Spokane #wildfires</td>\n",
              "    </tr>\n",
              "    <tr>\n",
              "      <th>4</th>\n",
              "      <td>11</td>\n",
              "      <td>NaN</td>\n",
              "      <td>NaN</td>\n",
              "      <td>Typhoon Soudelor kills 28 in China and Taiwan</td>\n",
              "    </tr>\n",
              "  </tbody>\n",
              "</table>\n",
              "</div>"
            ],
            "text/plain": [
              "   id keyword location                                               text\n",
              "0   0     NaN      NaN                 Just happened a terrible car crash\n",
              "1   2     NaN      NaN  Heard about #earthquake is different cities, s...\n",
              "2   3     NaN      NaN  there is a forest fire at spot pond, geese are...\n",
              "3   9     NaN      NaN           Apocalypse lighting. #Spokane #wildfires\n",
              "4  11     NaN      NaN      Typhoon Soudelor kills 28 in China and Taiwan"
            ]
          },
          "execution_count": 9,
          "metadata": {},
          "output_type": "execute_result"
        }
      ],
      "source": [
        "# what does our test data look like\n",
        "# Test data doesn't have any labels (Target)\n",
        "test_df.head()"
      ]
    },
    {
      "cell_type": "code",
      "execution_count": null,
      "metadata": {
        "colab": {
          "base_uri": "https://localhost:8080/"
        },
        "id": "mB3L7qhNJN2A",
        "outputId": "ea1efdfe-043b-4669-ba57-c3a0a6b8f2ed"
      },
      "outputs": [
        {
          "data": {
            "text/plain": [
              "0    4342\n",
              "1    3271\n",
              "Name: target, dtype: int64"
            ]
          },
          "execution_count": 10,
          "metadata": {},
          "output_type": "execute_result"
        }
      ],
      "source": [
        "# how much examples of each class of target (target-> positive, Negative)\n",
        "train_df.target.value_counts()"
      ]
    },
    {
      "cell_type": "code",
      "execution_count": null,
      "metadata": {
        "colab": {
          "base_uri": "https://localhost:8080/"
        },
        "id": "pErjidAFJmOx",
        "outputId": "33698601-3dcf-48d7-fc02-be4f7e6399ab"
      },
      "outputs": [
        {
          "data": {
            "text/plain": [
              "(7613, 3263)"
            ]
          },
          "execution_count": 11,
          "metadata": {},
          "output_type": "execute_result"
        }
      ],
      "source": [
        "# how many total samples\n",
        "len(train_df), len(test_df)"
      ]
    },
    {
      "cell_type": "markdown",
      "metadata": {
        "id": "R6S5HE-jaQDy"
      },
      "source": [
        "## i).Random Training Examples"
      ]
    },
    {
      "cell_type": "code",
      "execution_count": null,
      "metadata": {
        "colab": {
          "base_uri": "https://localhost:8080/"
        },
        "id": "cDyQGu-tNv5s",
        "outputId": "70ff8848-a884-48d5-c5ed-b4e5c5e1eebd"
      },
      "outputs": [
        {
          "name": "stdout",
          "output_type": "stream",
          "text": [
            "Disaster\n",
            "\n",
            "Tweet : If this ATL to San Fran flight goes down in a  desolate square state it's been real Twitter.\n",
            "-------\n",
            "\n",
            "Disaster\n",
            "\n",
            "Tweet : Does This Prepare Us? HHS Selects 9 Regional Special #Pathogen Treatment Centers #Bioterrorism #Infectious #Ebola http://t.co/Qmo1TxxDkj\n",
            "-------\n",
            "\n",
            "Not Disaster\n",
            "\n",
            "Tweet : Thunder lightening torrential rain and a power cut!\n",
            "-------\n",
            "\n",
            "Disaster\n",
            "\n",
            "Tweet : @wisdc &amp; obama supports  death2USA .. http://t.co/serARcNrbY\n",
            "-------\n",
            "\n",
            "Disaster\n",
            "\n",
            "Tweet : @troylercraft YEAH ITS NOT WORTH IT BC HE ALREADY HAS SO MANY SPAMMERS &amp; HIS TWITTER IS PROBABLY BLOWN UP EVERY SECOND\n",
            "-------\n",
            "\n"
          ]
        }
      ],
      "source": [
        "# Lets Visualize some random training examples\n",
        "import random\n",
        "\n",
        "random_index = random.randint(0, len(train_df)-3)\n",
        "for row in train_df_shuffled[[\"text\", \"target\"]][random_index:random_index+5].itertuples():\n",
        "  _, text, target = row\n",
        "  print(\"Disaster\\n\" if target==0 else \"Not Disaster\\n\")\n",
        "  print(f\"Tweet : {text}\\n-------\\n\")"
      ]
    },
    {
      "cell_type": "markdown",
      "metadata": {
        "id": "XnsXwyS7aWKp"
      },
      "source": [
        "## ii).Split data into Training and Validation sets"
      ]
    },
    {
      "cell_type": "code",
      "execution_count": null,
      "metadata": {
        "id": "raoIKUd7RoL1"
      },
      "outputs": [],
      "source": [
        "# import train_test_split \n",
        "from sklearn.model_selection import train_test_split"
      ]
    },
    {
      "cell_type": "code",
      "execution_count": null,
      "metadata": {
        "id": "pXOHTBCBbEso"
      },
      "outputs": [],
      "source": [
        "# using train_test_split to split data\n",
        "train_sentences, val_sentences, train_labels, val_labels = train_test_split(train_df_shuffled[\"text\"].to_numpy(),\n",
        "                                                                            train_df_shuffled[\"target\"].to_numpy(),\n",
        "                                                                            test_size=0.1, # use 10% of training data for validation\n",
        "                                                                            random_state=42)"
      ]
    },
    {
      "cell_type": "code",
      "execution_count": null,
      "metadata": {
        "colab": {
          "base_uri": "https://localhost:8080/"
        },
        "id": "14SnySXQf79A",
        "outputId": "9f160036-4779-45f3-d827-8c489c5523ca"
      },
      "outputs": [
        {
          "data": {
            "text/plain": [
              "(6851, 6851, 762, 762)"
            ]
          },
          "execution_count": 15,
          "metadata": {},
          "output_type": "execute_result"
        }
      ],
      "source": [
        "len(train_sentences), len(train_labels), len(val_sentences), len(val_labels)"
      ]
    },
    {
      "cell_type": "code",
      "execution_count": null,
      "metadata": {
        "colab": {
          "base_uri": "https://localhost:8080/"
        },
        "id": "uJpt4XpBgIL_",
        "outputId": "558669e1-4290-4e4d-f398-52ecd2630f0d"
      },
      "outputs": [
        {
          "data": {
            "text/plain": [
              "7613"
            ]
          },
          "execution_count": 16,
          "metadata": {},
          "output_type": "execute_result"
        }
      ],
      "source": [
        "\n",
        "len(train_df)"
      ]
    },
    {
      "cell_type": "code",
      "execution_count": null,
      "metadata": {
        "colab": {
          "base_uri": "https://localhost:8080/"
        },
        "id": "H6xA2sZvgTKq",
        "outputId": "b5f15c40-5fa1-4da5-aaf6-ace88e6a7c66"
      },
      "outputs": [
        {
          "data": {
            "text/plain": [
              "(array(['@mogacola @zamtriossu i screamed after hitting tweet',\n",
              "        'Imagine getting flattened by Kurt Zouma',\n",
              "        '@Gurmeetramrahim #MSGDoing111WelfareWorks Green S welfare force ke appx 65000 members har time disaster victim ki help ke liye tyar hai....',\n",
              "        \"@shakjn @C7 @Magnums im shaking in fear he's gonna hack the planet\",\n",
              "        'Somehow find you and I collide http://t.co/Ee8RpOahPk',\n",
              "        '@EvaHanderek @MarleyKnysh great times until the bus driver held us hostage in the mall parking lot lmfao',\n",
              "        'destroy the free fandom honestly',\n",
              "        'Weapons stolen from National Guard Armory in New Albany still missing #Gunsense http://t.co/lKNU8902JE',\n",
              "        '@wfaaweather Pete when will the heat wave pass? Is it really going to be mid month? Frisco Boy Scouts have a canoe trip in Okla.',\n",
              "        'Patient-reported outcomes in long-term survivors of metastatic colorectal cancer - British Journal of Surgery http://t.co/5Yl4DC1Tqt'],\n",
              "       dtype=object), array([0, 0, 1, 0, 0, 1, 1, 0, 1, 1]))"
            ]
          },
          "execution_count": 17,
          "metadata": {},
          "output_type": "execute_result"
        }
      ],
      "source": [
        "\n",
        "train_sentences[:10], train_labels[:10]"
      ]
    },
    {
      "cell_type": "markdown",
      "metadata": {
        "id": "JhYdr1fMhKGn"
      },
      "source": [
        "we need to convert our text data into numbers so that it can be fed to the RNN(Recurrent Neural Network)"
      ]
    },
    {
      "cell_type": "code",
      "execution_count": null,
      "metadata": {
        "colab": {
          "base_uri": "https://localhost:8080/",
          "height": 1000
        },
        "id": "2a1aZHvtqNWM",
        "outputId": "645f9528-14c1-4668-dc77-faffbfc79bdd"
      },
      "outputs": [
        {
          "data": {
            "text/html": [
              "<div>\n",
              "<style scoped>\n",
              "    .dataframe tbody tr th:only-of-type {\n",
              "        vertical-align: middle;\n",
              "    }\n",
              "\n",
              "    .dataframe tbody tr th {\n",
              "        vertical-align: top;\n",
              "    }\n",
              "\n",
              "    .dataframe thead th {\n",
              "        text-align: right;\n",
              "    }\n",
              "</style>\n",
              "<table border=\"1\" class=\"dataframe\">\n",
              "  <thead>\n",
              "    <tr style=\"text-align: right;\">\n",
              "      <th></th>\n",
              "      <th>text</th>\n",
              "      <th>target</th>\n",
              "    </tr>\n",
              "  </thead>\n",
              "  <tbody>\n",
              "    <tr>\n",
              "      <th>0</th>\n",
              "      <td>@mogacola @zamtriossu i screamed after hitting...</td>\n",
              "      <td>0</td>\n",
              "    </tr>\n",
              "    <tr>\n",
              "      <th>1</th>\n",
              "      <td>Imagine getting flattened by Kurt Zouma</td>\n",
              "      <td>0</td>\n",
              "    </tr>\n",
              "    <tr>\n",
              "      <th>2</th>\n",
              "      <td>@Gurmeetramrahim #MSGDoing111WelfareWorks Gree...</td>\n",
              "      <td>1</td>\n",
              "    </tr>\n",
              "    <tr>\n",
              "      <th>3</th>\n",
              "      <td>@shakjn @C7 @Magnums im shaking in fear he's g...</td>\n",
              "      <td>0</td>\n",
              "    </tr>\n",
              "    <tr>\n",
              "      <th>4</th>\n",
              "      <td>Somehow find you and I collide http://t.co/Ee8...</td>\n",
              "      <td>0</td>\n",
              "    </tr>\n",
              "    <tr>\n",
              "      <th>5</th>\n",
              "      <td>@EvaHanderek @MarleyKnysh great times until th...</td>\n",
              "      <td>1</td>\n",
              "    </tr>\n",
              "    <tr>\n",
              "      <th>6</th>\n",
              "      <td>destroy the free fandom honestly</td>\n",
              "      <td>1</td>\n",
              "    </tr>\n",
              "    <tr>\n",
              "      <th>7</th>\n",
              "      <td>Weapons stolen from National Guard Armory in N...</td>\n",
              "      <td>0</td>\n",
              "    </tr>\n",
              "    <tr>\n",
              "      <th>8</th>\n",
              "      <td>@wfaaweather Pete when will the heat wave pass...</td>\n",
              "      <td>1</td>\n",
              "    </tr>\n",
              "    <tr>\n",
              "      <th>9</th>\n",
              "      <td>Patient-reported outcomes in long-term survivo...</td>\n",
              "      <td>1</td>\n",
              "    </tr>\n",
              "    <tr>\n",
              "      <th>10</th>\n",
              "      <td>Lava Dragon Breeder! I just bred a Lava Dragon...</td>\n",
              "      <td>0</td>\n",
              "    </tr>\n",
              "    <tr>\n",
              "      <th>11</th>\n",
              "      <td>@BehindAShield @Wars_Goddess Sweet Lord.  (I c...</td>\n",
              "      <td>0</td>\n",
              "    </tr>\n",
              "    <tr>\n",
              "      <th>12</th>\n",
              "      <td>Several wild fires have burned a lot of land i...</td>\n",
              "      <td>1</td>\n",
              "    </tr>\n",
              "    <tr>\n",
              "      <th>13</th>\n",
              "      <td>1st wk of Rainier Diet and my street Seward Pa...</td>\n",
              "      <td>0</td>\n",
              "    </tr>\n",
              "    <tr>\n",
              "      <th>14</th>\n",
              "      <td>Madhya Pradesh Train Derailment: Village Youth...</td>\n",
              "      <td>1</td>\n",
              "    </tr>\n",
              "    <tr>\n",
              "      <th>15</th>\n",
              "      <td>Fair enough we have two of the best attacking ...</td>\n",
              "      <td>0</td>\n",
              "    </tr>\n",
              "    <tr>\n",
              "      <th>16</th>\n",
              "      <td>@AlexeiVolkov1 @McFaul\\nAnd in an equal spirit...</td>\n",
              "      <td>0</td>\n",
              "    </tr>\n",
              "    <tr>\n",
              "      <th>17</th>\n",
              "      <td>SOOOO PUMPED FOR ABLAZE ???? @southridgelife</td>\n",
              "      <td>0</td>\n",
              "    </tr>\n",
              "    <tr>\n",
              "      <th>18</th>\n",
              "      <td>Ready for this storm</td>\n",
              "      <td>1</td>\n",
              "    </tr>\n",
              "    <tr>\n",
              "      <th>19</th>\n",
              "      <td>WHEN U BOMBED AND U TRY 2 GET HOME FOR CURFEW ...</td>\n",
              "      <td>0</td>\n",
              "    </tr>\n",
              "    <tr>\n",
              "      <th>20</th>\n",
              "      <td>Don't get burned twice by the same flame.</td>\n",
              "      <td>0</td>\n",
              "    </tr>\n",
              "    <tr>\n",
              "      <th>21</th>\n",
              "      <td>@Blizzard_draco GIVE ME FREE ART KAMON</td>\n",
              "      <td>0</td>\n",
              "    </tr>\n",
              "    <tr>\n",
              "      <th>22</th>\n",
              "      <td>@HoneyBunzGem @primalkitchen I feel like me do...</td>\n",
              "      <td>0</td>\n",
              "    </tr>\n",
              "    <tr>\n",
              "      <th>23</th>\n",
              "      <td>Louis Vuitton Monogram Sophie Limited Edition ...</td>\n",
              "      <td>0</td>\n",
              "    </tr>\n",
              "    <tr>\n",
              "      <th>24</th>\n",
              "      <td>Magnetic and electrostatic nuclear fusion reac...</td>\n",
              "      <td>0</td>\n",
              "    </tr>\n",
              "    <tr>\n",
              "      <th>25</th>\n",
              "      <td>Investigators have said a Virgin Galactic spac...</td>\n",
              "      <td>1</td>\n",
              "    </tr>\n",
              "    <tr>\n",
              "      <th>26</th>\n",
              "      <td>@freddiedeboer @Thucydiplease then you have ri...</td>\n",
              "      <td>1</td>\n",
              "    </tr>\n",
              "    <tr>\n",
              "      <th>27</th>\n",
              "      <td>Fear has a way of making us see danger where t...</td>\n",
              "      <td>0</td>\n",
              "    </tr>\n",
              "    <tr>\n",
              "      <th>28</th>\n",
              "      <td>Police: Gunman reported dead at Nashville area...</td>\n",
              "      <td>1</td>\n",
              "    </tr>\n",
              "    <tr>\n",
              "      <th>29</th>\n",
              "      <td>@b24fowler I see that! Crazy how this line ble...</td>\n",
              "      <td>0</td>\n",
              "    </tr>\n",
              "    <tr>\n",
              "      <th>30</th>\n",
              "      <td>I think that none of us know the impact we hav...</td>\n",
              "      <td>0</td>\n",
              "    </tr>\n",
              "    <tr>\n",
              "      <th>31</th>\n",
              "      <td>@thetimepast @saalon I have childhood trauma m...</td>\n",
              "      <td>0</td>\n",
              "    </tr>\n",
              "    <tr>\n",
              "      <th>32</th>\n",
              "      <td>@_chelsdelong12 @kendra_leigh13 I'll crash it</td>\n",
              "      <td>1</td>\n",
              "    </tr>\n",
              "    <tr>\n",
              "      <th>33</th>\n",
              "      <td>@KatRamsland Yes I'm a bleeding heart liberal.</td>\n",
              "      <td>1</td>\n",
              "    </tr>\n",
              "    <tr>\n",
              "      <th>34</th>\n",
              "      <td>If you're reading this go accidentally fall of...</td>\n",
              "      <td>0</td>\n",
              "    </tr>\n",
              "    <tr>\n",
              "      <th>35</th>\n",
              "      <td>A [small] flood with bigåÊconsequences https:/...</td>\n",
              "      <td>1</td>\n",
              "    </tr>\n",
              "    <tr>\n",
              "      <th>36</th>\n",
              "      <td>#tubestrike derailed you? Our #robertwelch cut...</td>\n",
              "      <td>0</td>\n",
              "    </tr>\n",
              "    <tr>\n",
              "      <th>37</th>\n",
              "      <td>cPanel Crash Course http://t.co/bIRKbje23e #co...</td>\n",
              "      <td>0</td>\n",
              "    </tr>\n",
              "    <tr>\n",
              "      <th>38</th>\n",
              "      <td>Enugu Government to demolish illegal structure...</td>\n",
              "      <td>1</td>\n",
              "    </tr>\n",
              "    <tr>\n",
              "      <th>39</th>\n",
              "      <td>According to a 2011 Gallup poll the more money...</td>\n",
              "      <td>0</td>\n",
              "    </tr>\n",
              "    <tr>\n",
              "      <th>40</th>\n",
              "      <td>People are finally panicking about cable TV ht...</td>\n",
              "      <td>0</td>\n",
              "    </tr>\n",
              "    <tr>\n",
              "      <th>41</th>\n",
              "      <td>How a little studio in the middle of nowhere i...</td>\n",
              "      <td>0</td>\n",
              "    </tr>\n",
              "    <tr>\n",
              "      <th>42</th>\n",
              "      <td>@david_hurn @ToKTeacher Why is there something...</td>\n",
              "      <td>0</td>\n",
              "    </tr>\n",
              "    <tr>\n",
              "      <th>43</th>\n",
              "      <td>Fire hazard associated with installation of no...</td>\n",
              "      <td>0</td>\n",
              "    </tr>\n",
              "    <tr>\n",
              "      <th>44</th>\n",
              "      <td>What's up man?</td>\n",
              "      <td>0</td>\n",
              "    </tr>\n",
              "    <tr>\n",
              "      <th>45</th>\n",
              "      <td>RT alisonannyoung: EXCLUSIVE: FedEx no longer ...</td>\n",
              "      <td>0</td>\n",
              "    </tr>\n",
              "    <tr>\n",
              "      <th>46</th>\n",
              "      <td>Aannnnd - 'Reddit Will Now Quarantine Offensiv...</td>\n",
              "      <td>0</td>\n",
              "    </tr>\n",
              "    <tr>\n",
              "      <th>47</th>\n",
              "      <td>...//..// whao.. 12000 Nigerian refugees repat...</td>\n",
              "      <td>1</td>\n",
              "    </tr>\n",
              "    <tr>\n",
              "      <th>48</th>\n",
              "      <td>All of this energy</td>\n",
              "      <td>0</td>\n",
              "    </tr>\n",
              "    <tr>\n",
              "      <th>49</th>\n",
              "      <td>California School Bus Hijacker Parole Stands h...</td>\n",
              "      <td>1</td>\n",
              "    </tr>\n",
              "  </tbody>\n",
              "</table>\n",
              "</div>"
            ],
            "text/plain": [
              "                                                 text  target\n",
              "0   @mogacola @zamtriossu i screamed after hitting...       0\n",
              "1             Imagine getting flattened by Kurt Zouma       0\n",
              "2   @Gurmeetramrahim #MSGDoing111WelfareWorks Gree...       1\n",
              "3   @shakjn @C7 @Magnums im shaking in fear he's g...       0\n",
              "4   Somehow find you and I collide http://t.co/Ee8...       0\n",
              "5   @EvaHanderek @MarleyKnysh great times until th...       1\n",
              "6                    destroy the free fandom honestly       1\n",
              "7   Weapons stolen from National Guard Armory in N...       0\n",
              "8   @wfaaweather Pete when will the heat wave pass...       1\n",
              "9   Patient-reported outcomes in long-term survivo...       1\n",
              "10  Lava Dragon Breeder! I just bred a Lava Dragon...       0\n",
              "11  @BehindAShield @Wars_Goddess Sweet Lord.  (I c...       0\n",
              "12  Several wild fires have burned a lot of land i...       1\n",
              "13  1st wk of Rainier Diet and my street Seward Pa...       0\n",
              "14  Madhya Pradesh Train Derailment: Village Youth...       1\n",
              "15  Fair enough we have two of the best attacking ...       0\n",
              "16  @AlexeiVolkov1 @McFaul\\nAnd in an equal spirit...       0\n",
              "17       SOOOO PUMPED FOR ABLAZE ???? @southridgelife       0\n",
              "18                               Ready for this storm       1\n",
              "19  WHEN U BOMBED AND U TRY 2 GET HOME FOR CURFEW ...       0\n",
              "20          Don't get burned twice by the same flame.       0\n",
              "21             @Blizzard_draco GIVE ME FREE ART KAMON       0\n",
              "22  @HoneyBunzGem @primalkitchen I feel like me do...       0\n",
              "23  Louis Vuitton Monogram Sophie Limited Edition ...       0\n",
              "24  Magnetic and electrostatic nuclear fusion reac...       0\n",
              "25  Investigators have said a Virgin Galactic spac...       1\n",
              "26  @freddiedeboer @Thucydiplease then you have ri...       1\n",
              "27  Fear has a way of making us see danger where t...       0\n",
              "28  Police: Gunman reported dead at Nashville area...       1\n",
              "29  @b24fowler I see that! Crazy how this line ble...       0\n",
              "30  I think that none of us know the impact we hav...       0\n",
              "31  @thetimepast @saalon I have childhood trauma m...       0\n",
              "32      @_chelsdelong12 @kendra_leigh13 I'll crash it       1\n",
              "33     @KatRamsland Yes I'm a bleeding heart liberal.       1\n",
              "34  If you're reading this go accidentally fall of...       0\n",
              "35  A [small] flood with bigåÊconsequences https:/...       1\n",
              "36  #tubestrike derailed you? Our #robertwelch cut...       0\n",
              "37  cPanel Crash Course http://t.co/bIRKbje23e #co...       0\n",
              "38  Enugu Government to demolish illegal structure...       1\n",
              "39  According to a 2011 Gallup poll the more money...       0\n",
              "40  People are finally panicking about cable TV ht...       0\n",
              "41  How a little studio in the middle of nowhere i...       0\n",
              "42  @david_hurn @ToKTeacher Why is there something...       0\n",
              "43  Fire hazard associated with installation of no...       0\n",
              "44                                     What's up man?       0\n",
              "45  RT alisonannyoung: EXCLUSIVE: FedEx no longer ...       0\n",
              "46  Aannnnd - 'Reddit Will Now Quarantine Offensiv...       0\n",
              "47  ...//..// whao.. 12000 Nigerian refugees repat...       1\n",
              "48                                 All of this energy       0\n",
              "49  California School Bus Hijacker Parole Stands h...       1"
            ]
          },
          "execution_count": 18,
          "metadata": {},
          "output_type": "execute_result"
        }
      ],
      "source": [
        "pd.DataFrame({\"text\": train_sentences,\n",
        "              \"target\": train_labels}).head(50)"
      ]
    },
    {
      "cell_type": "markdown",
      "metadata": {
        "id": "EIHk1vSqhEOS"
      },
      "source": [
        "# Convert Text into numbers\n",
        "\n",
        "When Dealing with the text problem, one of the first thing you will have to do before you can build a model is to convert your text into numbers \n",
        "\n",
        "There are few ways to do this namely:\n",
        "* Tokenization: direct mapping of token (a token could be a word or character) to number\n",
        "* Embedding: create a matrix of feature vector for each token (the size of the feature vector can be defined and this embedding can be learned)"
      ]
    },
    {
      "cell_type": "markdown",
      "metadata": {
        "id": "6FvZ_P1ioBDX"
      },
      "source": [
        "## i).Text vectorization(Tokenization)"
      ]
    },
    {
      "cell_type": "code",
      "execution_count": null,
      "metadata": {
        "colab": {
          "base_uri": "https://localhost:8080/"
        },
        "id": "j0WRxoltoInF",
        "outputId": "54b5d4ef-94e3-4455-be87-c0c5a46efe78"
      },
      "outputs": [
        {
          "data": {
            "text/plain": [
              "array(['@mogacola @zamtriossu i screamed after hitting tweet',\n",
              "       'Imagine getting flattened by Kurt Zouma',\n",
              "       '@Gurmeetramrahim #MSGDoing111WelfareWorks Green S welfare force ke appx 65000 members har time disaster victim ki help ke liye tyar hai....'],\n",
              "      dtype=object)"
            ]
          },
          "execution_count": 19,
          "metadata": {},
          "output_type": "execute_result"
        }
      ],
      "source": [
        "# how our dataset looks like\n",
        "train_sentences[:3]"
      ]
    },
    {
      "cell_type": "code",
      "execution_count": null,
      "metadata": {
        "id": "KG_0e4V-ph2i"
      },
      "outputs": [],
      "source": [
        "# use the default TextVectoriztion layer parameters\n",
        "text_vectorizer = tf.keras.layers.TextVectorization(max_tokens=None, # how many word in the vocabulary (automatically adds token that looks like this <OOV>)\n",
        "                                                    standardize=\"lower_and_strip_punctuation\",\n",
        "                                                    split=\"whitespace\",\n",
        "                                                    ngrams=None,  # create groups of n-words?\n",
        "                                                    output_mode=\"int\",  # how to map tokens to numbers\n",
        "                                                    output_sequence_length=None, # how long do you want your sequence to be?\n",
        "                                                    pad_to_max_tokens=False)"
      ]
    },
    {
      "cell_type": "code",
      "execution_count": null,
      "metadata": {
        "colab": {
          "base_uri": "https://localhost:8080/"
        },
        "id": "mV77c33KOrw4",
        "outputId": "d71b60aa-617c-4501-93ed-72fcbd7fa8d6"
      },
      "outputs": [
        {
          "data": {
            "text/plain": [
              "['@mogacola', '@zamtriossu', 'i', 'screamed', 'after', 'hitting', 'tweet']"
            ]
          },
          "execution_count": 21,
          "metadata": {},
          "output_type": "execute_result"
        }
      ],
      "source": [
        "train_sentences[0].split()"
      ]
    },
    {
      "cell_type": "code",
      "execution_count": null,
      "metadata": {
        "colab": {
          "base_uri": "https://localhost:8080/"
        },
        "id": "yCPDFB9HPM6A",
        "outputId": "c5d3fc69-e4ab-4b1f-ba27-89abed073d22"
      },
      "outputs": [
        {
          "data": {
            "text/plain": [
              "7"
            ]
          },
          "execution_count": 22,
          "metadata": {},
          "output_type": "execute_result"
        }
      ],
      "source": [
        "len(train_sentences[0].split())"
      ]
    },
    {
      "cell_type": "code",
      "execution_count": null,
      "metadata": {
        "colab": {
          "base_uri": "https://localhost:8080/"
        },
        "id": "5nMa2zjqPPk3",
        "outputId": "aa441ffb-fc16-4722-f5eb-5a98ca54aad4"
      },
      "outputs": [
        {
          "data": {
            "text/plain": [
              "102087"
            ]
          },
          "execution_count": 23,
          "metadata": {},
          "output_type": "execute_result"
        }
      ],
      "source": [
        "# find the total number of tokens in training tweets\n",
        "sum([len(i.split()) for i in train_sentences])"
      ]
    },
    {
      "cell_type": "code",
      "execution_count": null,
      "metadata": {
        "colab": {
          "base_uri": "https://localhost:8080/"
        },
        "id": "SS7e1LHfSn5p",
        "outputId": "091616f4-cebd-44a6-d580-59ea0370db22"
      },
      "outputs": [
        {
          "data": {
            "text/plain": [
              "14.901036345059115"
            ]
          },
          "execution_count": 24,
          "metadata": {},
          "output_type": "execute_result"
        }
      ],
      "source": [
        "# find the average number of tokens in training tweets\n",
        "sum([len(i.split()) for i in train_sentences]) / len(train_sentences)"
      ]
    },
    {
      "cell_type": "code",
      "execution_count": null,
      "metadata": {
        "id": "TGmDJlYQP6Y-"
      },
      "outputs": [],
      "source": [
        "# setup text vectorization variables\n",
        "max_vocab_length = 10000  # max numbers to have in our vocabulary\n",
        "max_length = 15  # max length our sequences will be (e.g how mnay words from Tweet does a model see?)\n",
        "\n",
        "text_vectorizer = tf.keras.layers.TextVectorization(max_tokens=max_vocab_length,\n",
        "                                                    output_mode=\"int\",\n",
        "                                                    output_sequence_length=max_length)"
      ]
    },
    {
      "cell_type": "code",
      "execution_count": null,
      "metadata": {
        "colab": {
          "base_uri": "https://localhost:8080/"
        },
        "id": "iVdyk7eVUa9K",
        "outputId": "da99f252-e85e-427d-85ae-05b8597a01db"
      },
      "outputs": [
        {
          "data": {
            "text/plain": [
              "<keras.layers.preprocessing.text_vectorization.TextVectorization at 0x7f515e659650>"
            ]
          },
          "execution_count": 26,
          "metadata": {},
          "output_type": "execute_result"
        }
      ],
      "source": [
        "text_vectorizer"
      ]
    },
    {
      "cell_type": "code",
      "execution_count": null,
      "metadata": {
        "id": "IEKNhNJhUnv3"
      },
      "outputs": [],
      "source": [
        "# fit the text_vectorizer to traininig data\n",
        "text_vectorizer.adapt(train_sentences)"
      ]
    },
    {
      "cell_type": "code",
      "execution_count": null,
      "metadata": {
        "colab": {
          "base_uri": "https://localhost:8080/"
        },
        "id": "vK5QixUkJeyj",
        "outputId": "05a88460-70d4-44cc-d20c-b4ef3ef16d57"
      },
      "outputs": [
        {
          "data": {
            "text/plain": [
              "<tf.Tensor: shape=(1, 15), dtype=int64, numpy=\n",
              "array([[290, 244,  50, 913,   0,   0,   0,   0,   0,   0,   0,   0,   0,\n",
              "          0,   0]])>"
            ]
          },
          "execution_count": 28,
          "metadata": {},
          "output_type": "execute_result"
        }
      ],
      "source": [
        "# Let's take a simple examople\n",
        "sample_sentence = \"earthquake hit new york\"\n",
        "text_vectorizer([sample_sentence])"
      ]
    },
    {
      "cell_type": "code",
      "execution_count": null,
      "metadata": {
        "colab": {
          "base_uri": "https://localhost:8080/"
        },
        "id": "VG2nAun6J53-",
        "outputId": "91996826-491e-40d2-f640-f6517bc4433d"
      },
      "outputs": [
        {
          "name": "stdout",
          "output_type": "stream",
          "text": [
            "Original:\n",
            " Tried orange aftershock today. My life will never be the same\n",
            "Tokenized: \n",
            " [[1055 3555  966  124   13  129   38  192   21    2  726    0    0    0\n",
            "     0]]\n"
          ]
        }
      ],
      "source": [
        "# choose a ranodm sentence from training sentences and tokenize it\n",
        "random_sample = random.choice(train_sentences)\n",
        "print(f\"Original:\\n {random_sample}\")\n",
        "print(f\"Tokenized: \\n {text_vectorizer([random_sample])}\")"
      ]
    },
    {
      "cell_type": "code",
      "execution_count": null,
      "metadata": {
        "colab": {
          "base_uri": "https://localhost:8080/"
        },
        "id": "dZB4y1FZLCOX",
        "outputId": "c6301450-2bff-453c-86ef-0cb8f8719c44"
      },
      "outputs": [
        {
          "name": "stdout",
          "output_type": "stream",
          "text": [
            "Total words in Vocabulary : 10000\n",
            "Top 5 unique Words : ['', '[UNK]', 'the', 'a', 'in']\n",
            "Least unique Words : ['pages', 'paeds', 'pads', 'padres', 'paddytomlinson1']\n"
          ]
        }
      ],
      "source": [
        "# Get unique words in the vocabulary\n",
        "words_in_vocab = text_vectorizer.get_vocabulary() # get all the unique words in the training data\n",
        "top_5_words = words_in_vocab[:5]\n",
        "bottom_5_words = words_in_vocab[-5:]\n",
        "print(f\"Total words in Vocabulary : {len(words_in_vocab)}\")\n",
        "print(f\"Top 5 unique Words : {top_5_words}\")\n",
        "print(f\"Least unique Words : {bottom_5_words}\")"
      ]
    },
    {
      "cell_type": "markdown",
      "metadata": {
        "id": "UPAhIEl8W1R2"
      },
      "source": [
        "## ii).Embedding using Embedding Layer\n",
        "\n",
        "The paremeters we care about the most for our embedding layer are:\n",
        "* `input_dim` = the size of our vocabulary\n",
        "* `output_dim` = the size of the output embedding vector, for example the value of 100 would mean each token gets represented by 100 long vector\n",
        "* `input_length` = length of the sequences being passed to the embedding layer"
      ]
    },
    {
      "cell_type": "code",
      "execution_count": null,
      "metadata": {
        "colab": {
          "base_uri": "https://localhost:8080/"
        },
        "id": "V6xr2z4JNWtp",
        "outputId": "3f21984e-2283-4ed1-9e79-b745c957ea96"
      },
      "outputs": [
        {
          "data": {
            "text/plain": [
              "<keras.layers.embeddings.Embedding at 0x7f515055bf90>"
            ]
          },
          "execution_count": 31,
          "metadata": {},
          "output_type": "execute_result"
        }
      ],
      "source": [
        "# create a embedding layer\n",
        "embedding = tf.keras.layers.Embedding(input_dim=max_vocab_length, # input shape\n",
        "                                      output_dim=128, # ouput shape\n",
        "                                      input_length=max_length) # how long is each input (15)\n",
        "embedding"
      ]
    },
    {
      "cell_type": "code",
      "execution_count": null,
      "metadata": {
        "colab": {
          "base_uri": "https://localhost:8080/"
        },
        "id": "OwZPN22cZ-5C",
        "outputId": "ff2183fe-b34b-46f9-8bf4-d6043c0ea411"
      },
      "outputs": [
        {
          "data": {
            "text/plain": [
              "(10000, 15)"
            ]
          },
          "execution_count": 32,
          "metadata": {},
          "output_type": "execute_result"
        }
      ],
      "source": [
        "max_vocab_length, max_length"
      ]
    },
    {
      "cell_type": "markdown",
      "metadata": {
        "id": "DGhU-qTQ34Jt"
      },
      "source": [
        "interger values must be passed through the embedding layer\n",
        "\n",
        "first vecotrize the train_sentences than pass through the embedding layer."
      ]
    },
    {
      "cell_type": "code",
      "execution_count": null,
      "metadata": {
        "colab": {
          "base_uri": "https://localhost:8080/"
        },
        "id": "4qljFAjRaCP5",
        "outputId": "d9ffe644-9cf7-41c3-b6bc-26ba241c03cc"
      },
      "outputs": [
        {
          "name": "stdout",
          "output_type": "stream",
          "text": [
            "Original : \n",
            " Three Israeli soldiers wounded in West Bank terrorist attack - Haaretz http://t.co/u4gSBNU8wc\n",
            "\n",
            "Embedded : \n",
            " shape : (1, 15, 128)\n",
            "[[-2.4106860e-02 -4.2147063e-02 -4.0294886e-02 ... -4.5796525e-02\n",
            "  -9.4424933e-05  4.4030014e-02]\n",
            " [ 1.5396152e-02 -4.4888210e-02  4.9112502e-02 ... -3.3556975e-02\n",
            "   1.3128016e-02 -1.6140234e-02]\n",
            " [ 1.7540064e-02 -3.2345213e-02  2.8380360e-02 ...  4.3540429e-02\n",
            "   6.3191280e-03 -2.3861861e-02]\n",
            " ...\n",
            " [-2.2711866e-03 -4.8646107e-03 -4.7869362e-02 ...  7.5520985e-03\n",
            "   2.9317055e-02  4.1870404e-02]\n",
            " [-2.2711866e-03 -4.8646107e-03 -4.7869362e-02 ...  7.5520985e-03\n",
            "   2.9317055e-02  4.1870404e-02]\n",
            " [-2.2711866e-03 -4.8646107e-03 -4.7869362e-02 ...  7.5520985e-03\n",
            "   2.9317055e-02  4.1870404e-02]]\n"
          ]
        }
      ],
      "source": [
        "# Get a random sentence from the training data\n",
        "random_sample = random.choice(train_sentences)\n",
        "print(f\"Original : \\n {random_sample}\\n\")\n",
        "print(f\"Embedded : \\n shape : {embedding(text_vectorizer([random_sample])).shape}\\n{embedding(text_vectorizer(random_sample))}\")"
      ]
    },
    {
      "cell_type": "markdown",
      "metadata": {
        "id": "jGt98RkthEeu"
      },
      "source": [
        "# Modeling a text dataset (running a series of experiment)\n",
        "Now that we have got a way to turn our text into numbers, its time to start building a series of modelling experiments\n",
        "\n",
        "We will start from baseline and move on from there\n",
        "* Model 0: Naive Bayes(baseline), this is from [sk-learn ML map](https://scikit-learn.org/stable/tutorial/machine_learning_map/index.html)\n",
        "* Model 1: feed-forward neural network (Dense model)\n",
        "* Model 2: LSTM model (RNN)\n",
        "* Model 3: GRU model (RNN)\n",
        "* Model 4: Bidirectional-LSTM model (RNN)\n",
        "* Model 5: 1D Convolutional Neural Network (CNN)\n",
        "* Model 6: Tensorflow Hub pretrained Feature Extractor(using transfer learning for NLP)\n",
        "* Model 7: same as model 6 with 10% of training data\n",
        "\n",
        "Now how are we going to approach these?\n",
        "\n",
        "Use the standard step in modelling with tensorflow\n",
        "* Create a Model\n",
        "* Build a Model\n",
        "* Fit a Model\n",
        "* Evaluate our Model"
      ]
    },
    {
      "cell_type": "markdown",
      "metadata": {
        "id": "XLRWyIR9Cv7G"
      },
      "source": [
        "# Creating a Evaluation function for our model experiments\n",
        "\n",
        "We could evaluate all of our model predictions with different metrics everytime\n",
        "\n",
        "Lets create a function that compare our ground truth labels with the predicted values\n",
        "* Accurcy\n",
        "* Precision\n",
        "* Recall\n",
        "* F1-score\n",
        "\n",
        "For the deep understanding of model evaluation [read this](https://scikit-learn.org/stable/modules/model_evaluation.html)"
      ]
    },
    {
      "cell_type": "code",
      "execution_count": null,
      "metadata": {
        "id": "OMGTLoiTCvti"
      },
      "outputs": [],
      "source": [
        "from sklearn.metrics import accuracy_score, precision_recall_fscore_support\n",
        "\n",
        "def evaluate_model(y_true, y_pred):\n",
        "  \"\"\"\n",
        "  Returns:\n",
        "    Model Evaluation Dictionary.\n",
        "  \"\"\"\n",
        "  # calculate the model accuracy_score\n",
        "  model_accuracy = accuracy_score(y_true, y_pred) * 100\n",
        "  # calculate model precision, recall and f1-score using \"weighted\" average\n",
        "  model_precision, model_recall, model_f1,_ = precision_recall_fscore_support(y_true, y_pred, average=\"weighted\")\n",
        "  model_results = {\n",
        "      \"accuracy\": model_accuracy,\n",
        "      \"precision\": model_precision,\n",
        "      \"recall\": model_recall,\n",
        "      \"f1\": model_f1\n",
        "  }\n",
        "\n",
        "  return model_results"
      ]
    },
    {
      "cell_type": "markdown",
      "metadata": {
        "id": "6dpqNwwupi6w"
      },
      "source": [
        "# Model 0: Naive Bayes (Baseline model)\n",
        "As with all machine learning modelling experiments, its important to create basline model so that you have a benchmark for future experiments to build upon.\n",
        "\n",
        "To create our baseline we'll use Sklearn's **Naive bayes** using the **TF-IDF** formula to convert our words into text\n",
        "\n",
        "> **Note:** it is a common practice to use Non-Deep-Learning algorithms as a baseline because of their speed and later using the Deep Learning to see if you can improve on them "
      ]
    },
    {
      "cell_type": "code",
      "execution_count": null,
      "metadata": {
        "colab": {
          "base_uri": "https://localhost:8080/"
        },
        "id": "a0RMFWcopitM",
        "outputId": "a494cfd3-3d74-4e12-ba1e-fd544673ecbc"
      },
      "outputs": [
        {
          "data": {
            "text/plain": [
              "Pipeline(memory=None,\n",
              "         steps=[('tfidf',\n",
              "                 TfidfVectorizer(analyzer='word', binary=False,\n",
              "                                 decode_error='strict',\n",
              "                                 dtype=<class 'numpy.float64'>,\n",
              "                                 encoding='utf-8', input='content',\n",
              "                                 lowercase=True, max_df=1.0, max_features=None,\n",
              "                                 min_df=1, ngram_range=(1, 1), norm='l2',\n",
              "                                 preprocessor=None, smooth_idf=True,\n",
              "                                 stop_words=None, strip_accents=None,\n",
              "                                 sublinear_tf=False,\n",
              "                                 token_pattern='(?u)\\\\b\\\\w\\\\w+\\\\b',\n",
              "                                 tokenizer=None, use_idf=True,\n",
              "                                 vocabulary=None)),\n",
              "                ('clf',\n",
              "                 MultinomialNB(alpha=1.0, class_prior=None, fit_prior=True))],\n",
              "         verbose=False)"
            ]
          },
          "execution_count": 35,
          "metadata": {},
          "output_type": "execute_result"
        }
      ],
      "source": [
        "from sklearn.feature_extraction.text import TfidfVectorizer\n",
        "from sklearn.naive_bayes import MultinomialNB\n",
        "from sklearn.pipeline import Pipeline\n",
        "\n",
        "# create Tokenization and modelling pipline\n",
        "model_0 = Pipeline([\n",
        "                (\"tfidf\",TfidfVectorizer()), # convert words to numbers using tfidf\n",
        "                (\"clf\", MultinomialNB()) # model the text\n",
        "])\n",
        "\n",
        "# fit the pipline to training data\n",
        "model_0.fit(train_sentences, train_labels)"
      ]
    },
    {
      "cell_type": "code",
      "execution_count": null,
      "metadata": {
        "colab": {
          "base_uri": "https://localhost:8080/"
        },
        "id": "qPYn9j7h7MI9",
        "outputId": "f3cc93be-9ef1-4592-988f-f442a8665ecf"
      },
      "outputs": [
        {
          "data": {
            "text/plain": [
              "0.7926509186351706"
            ]
          },
          "execution_count": 36,
          "metadata": {},
          "output_type": "execute_result"
        }
      ],
      "source": [
        "# Evaluate the base model\n",
        "baseline_score = model_0.score(val_sentences, val_labels)\n",
        "baseline_score"
      ]
    },
    {
      "cell_type": "code",
      "execution_count": null,
      "metadata": {
        "colab": {
          "base_uri": "https://localhost:8080/"
        },
        "id": "POQL4wAO7bMk",
        "outputId": "bc659926-aa12-4584-cee7-eb8d7e855127"
      },
      "outputs": [
        {
          "data": {
            "text/plain": [
              "array([1, 1, 1, 0, 0, 1, 1, 1, 1, 0, 0, 1, 0, 0, 0, 0, 0, 0, 0, 1])"
            ]
          },
          "execution_count": 37,
          "metadata": {},
          "output_type": "execute_result"
        }
      ],
      "source": [
        "# Make prediction\n",
        "baseline_pred = model_0.predict(val_sentences)\n",
        "baseline_pred[:20]"
      ]
    },
    {
      "cell_type": "code",
      "execution_count": null,
      "metadata": {
        "colab": {
          "base_uri": "https://localhost:8080/"
        },
        "id": "qEs8d6SXBhnj",
        "outputId": "d737046b-8c17-4a30-a528-f5f590186353"
      },
      "outputs": [
        {
          "data": {
            "text/plain": [
              "{'accuracy': 79.26509186351706,\n",
              " 'f1': 0.7862189758049549,\n",
              " 'precision': 0.8111390004213173,\n",
              " 'recall': 0.7926509186351706}"
            ]
          },
          "execution_count": 38,
          "metadata": {},
          "output_type": "execute_result"
        }
      ],
      "source": [
        "# Evaluate the model 0\n",
        "model_0_results = evaluate_model(val_labels, baseline_pred)\n",
        "model_0_results"
      ]
    },
    {
      "cell_type": "markdown",
      "metadata": {
        "id": "HHH7IwbDLbuz"
      },
      "source": [
        "# Model 1: Feed-Forward Neural Network (Dense Model)"
      ]
    },
    {
      "cell_type": "code",
      "execution_count": null,
      "metadata": {
        "id": "r78L5RZWLK5V"
      },
      "outputs": [],
      "source": [
        "# create TensorBoard callback (need to create a new one for each model"
      ]
    },
    {
      "cell_type": "code",
      "execution_count": null,
      "metadata": {
        "id": "F-TYU6g3O4I5"
      },
      "outputs": [],
      "source": [
        "# Build Model with Functional API (more Flexible)\n",
        "\n",
        "inputs = tf.keras.layers.Input(shape=(1,), dtype=tf.string) # inputs are 1D string \n",
        "x = text_vectorizer(inputs)  # turn text into numbers\n",
        "x = embedding(x) # create embedding of numberized inputs\n",
        "x = tf.keras.layers.GlobalAveragePooling1D()(x) # condence the feature vector for each token to one vector\n",
        "# x = tf.keras.layers.GlobalMaxPool1D()(x)\n",
        "outputs = tf.keras.layers.Dense(1, activation=\"sigmoid\")(x)\n",
        "\n",
        "# create Model using inputs and outputs\n",
        "model_1 = tf.keras.Model(inputs, outputs, name=\"model_1_dense\")"
      ]
    },
    {
      "cell_type": "code",
      "execution_count": null,
      "metadata": {
        "colab": {
          "base_uri": "https://localhost:8080/"
        },
        "id": "UEbHWrc5QCO1",
        "outputId": "f4152041-7800-47a4-eeb9-d11c798125f7"
      },
      "outputs": [
        {
          "name": "stdout",
          "output_type": "stream",
          "text": [
            "Model: \"model_1_dense\"\n",
            "_________________________________________________________________\n",
            "Layer (type)                 Output Shape              Param #   \n",
            "=================================================================\n",
            "input_1 (InputLayer)         [(None, 1)]               0         \n",
            "_________________________________________________________________\n",
            "text_vectorization_1 (TextVe (None, 15)                0         \n",
            "_________________________________________________________________\n",
            "embedding (Embedding)        (None, 15, 128)           1280000   \n",
            "_________________________________________________________________\n",
            "global_average_pooling1d (Gl (None, 128)               0         \n",
            "_________________________________________________________________\n",
            "dense (Dense)                (None, 1)                 129       \n",
            "=================================================================\n",
            "Total params: 1,280,129\n",
            "Trainable params: 1,280,129\n",
            "Non-trainable params: 0\n",
            "_________________________________________________________________\n"
          ]
        }
      ],
      "source": [
        "model_1.summary()"
      ]
    },
    {
      "cell_type": "code",
      "execution_count": null,
      "metadata": {
        "colab": {
          "base_uri": "https://localhost:8080/"
        },
        "id": "rHioOoarQG5Z",
        "outputId": "ad567cf6-bdd6-4b11-c157-91378eb22bc2"
      },
      "outputs": [
        {
          "name": "stdout",
          "output_type": "stream",
          "text": [
            "Epoch 1/5\n",
            "215/215 [==============================] - 5s 10ms/step - loss: 0.6127 - accuracy: 0.6930 - val_loss: 0.5386 - val_accuracy: 0.7546\n",
            "Epoch 2/5\n",
            "215/215 [==============================] - 1s 7ms/step - loss: 0.4421 - accuracy: 0.8175 - val_loss: 0.4720 - val_accuracy: 0.7848\n",
            "Epoch 3/5\n",
            "215/215 [==============================] - 1s 7ms/step - loss: 0.3472 - accuracy: 0.8605 - val_loss: 0.4612 - val_accuracy: 0.7913\n",
            "Epoch 4/5\n",
            "215/215 [==============================] - 2s 7ms/step - loss: 0.2847 - accuracy: 0.8901 - val_loss: 0.4628 - val_accuracy: 0.7900\n",
            "Epoch 5/5\n",
            "215/215 [==============================] - 1s 7ms/step - loss: 0.2379 - accuracy: 0.9085 - val_loss: 0.4800 - val_accuracy: 0.7887\n"
          ]
        },
        {
          "data": {
            "text/plain": [
              "<keras.callbacks.History at 0x7f51167e1310>"
            ]
          },
          "execution_count": 42,
          "metadata": {},
          "output_type": "execute_result"
        }
      ],
      "source": [
        "# compile the model\n",
        "model_1.compile(\n",
        "    loss=tf.keras.losses.BinaryCrossentropy(),\n",
        "    optimizer=tf.keras.optimizers.Adam(),\n",
        "    metrics=[\"accuracy\"]\n",
        ")\n",
        "\n",
        "# fit the model\n",
        "model_1.fit(x=train_sentences, y=train_labels,\n",
        "            epochs=5,\n",
        "            validation_data=(val_sentences, val_labels),\n",
        "            callbacks=[create_tensorboard_callback(\"models\",\n",
        "                                                   \"model_1_feed-forward Neural Network\")])"
      ]
    },
    {
      "cell_type": "code",
      "execution_count": null,
      "metadata": {
        "colab": {
          "base_uri": "https://localhost:8080/"
        },
        "id": "JxlvAri1Uke0",
        "outputId": "d7aec86c-2f75-49b2-925d-b01317b3bff6"
      },
      "outputs": [
        {
          "name": "stdout",
          "output_type": "stream",
          "text": [
            "24/24 [==============================] - 0s 4ms/step - loss: 0.4800 - accuracy: 0.7887\n"
          ]
        },
        {
          "data": {
            "text/plain": [
              "[0.47998911142349243, 0.7887139320373535]"
            ]
          },
          "execution_count": 43,
          "metadata": {},
          "output_type": "execute_result"
        }
      ],
      "source": [
        "# evaluate the model\n",
        "model_1.evaluate(val_sentences, val_labels)"
      ]
    },
    {
      "cell_type": "code",
      "execution_count": null,
      "metadata": {
        "colab": {
          "base_uri": "https://localhost:8080/"
        },
        "id": "-xy5O7kyU6yB",
        "outputId": "8d98eb7b-70cb-4162-b4f7-919463db1c21"
      },
      "outputs": [
        {
          "data": {
            "text/plain": [
              "(762, 1)"
            ]
          },
          "execution_count": 44,
          "metadata": {},
          "output_type": "execute_result"
        }
      ],
      "source": [
        "# Make some prediction and evaluate those\n",
        "model_1_pred_probs = model_1.predict(val_sentences)\n",
        "model_1_pred_probs.shape "
      ]
    },
    {
      "cell_type": "code",
      "execution_count": null,
      "metadata": {
        "colab": {
          "base_uri": "https://localhost:8080/"
        },
        "id": "fQvDSfutXyke",
        "outputId": "6f469d47-1f07-4dfb-b6b5-52afcd6086a0"
      },
      "outputs": [
        {
          "data": {
            "text/plain": [
              "762"
            ]
          },
          "execution_count": 45,
          "metadata": {},
          "output_type": "execute_result"
        }
      ],
      "source": [
        "len(val_sentences)"
      ]
    },
    {
      "cell_type": "code",
      "execution_count": null,
      "metadata": {
        "colab": {
          "base_uri": "https://localhost:8080/"
        },
        "id": "n3iM4lQ8VNUT",
        "outputId": "9d0bfe3a-5dd5-46f8-9d44-031f05677d31"
      },
      "outputs": [
        {
          "data": {
            "text/plain": [
              "array([0.34871614], dtype=float32)"
            ]
          },
          "execution_count": 46,
          "metadata": {},
          "output_type": "execute_result"
        }
      ],
      "source": [
        "model_1_pred_probs[0]"
      ]
    },
    {
      "cell_type": "code",
      "execution_count": null,
      "metadata": {
        "colab": {
          "base_uri": "https://localhost:8080/"
        },
        "id": "xE6G0wcpVWMP",
        "outputId": "a8f08e61-dbdd-44ba-905f-254532e68e55"
      },
      "outputs": [
        {
          "data": {
            "text/plain": [
              "<tf.Tensor: shape=(10,), dtype=float32, numpy=array([0., 1., 1., 0., 0., 1., 1., 1., 1., 0.], dtype=float32)>"
            ]
          },
          "execution_count": 47,
          "metadata": {},
          "output_type": "execute_result"
        }
      ],
      "source": [
        "# convert model prediction probabilites to label format\n",
        "model_1_preds = tf.squeeze(tf.round(model_1_pred_probs)) \n",
        "model_1_preds[:10]"
      ]
    },
    {
      "cell_type": "code",
      "execution_count": null,
      "metadata": {
        "colab": {
          "base_uri": "https://localhost:8080/"
        },
        "id": "nMhXot2vlKEn",
        "outputId": "f37ad394-904f-4039-dde3-def52481d9e6"
      },
      "outputs": [
        {
          "data": {
            "text/plain": [
              "{'accuracy': 78.87139107611549,\n",
              " 'f1': 0.7852145092095362,\n",
              " 'precision': 0.7953441303708004,\n",
              " 'recall': 0.7887139107611548}"
            ]
          },
          "execution_count": 48,
          "metadata": {},
          "output_type": "execute_result"
        }
      ],
      "source": [
        "model_1_results = evaluate_model(y_true=val_labels,\n",
        "                                 y_pred=model_1_preds)\n",
        "model_1_results"
      ]
    },
    {
      "cell_type": "code",
      "execution_count": null,
      "metadata": {
        "colab": {
          "base_uri": "https://localhost:8080/"
        },
        "id": "0eJLcg1AlkWZ",
        "outputId": "06b0b17a-a281-45bb-acb1-35901f493cc9"
      },
      "outputs": [
        {
          "data": {
            "text/plain": [
              "{'accuracy': 79.26509186351706,\n",
              " 'f1': 0.7862189758049549,\n",
              " 'precision': 0.8111390004213173,\n",
              " 'recall': 0.7926509186351706}"
            ]
          },
          "execution_count": 49,
          "metadata": {},
          "output_type": "execute_result"
        }
      ],
      "source": [
        "model_0_results"
      ]
    },
    {
      "cell_type": "markdown",
      "metadata": {
        "id": "ujV5PASNrcJI"
      },
      "source": [
        "## Visualize Learned Embedding"
      ]
    },
    {
      "cell_type": "code",
      "execution_count": null,
      "metadata": {
        "colab": {
          "base_uri": "https://localhost:8080/"
        },
        "id": "_58tOBAhloDn",
        "outputId": "56537b1d-f282-45b6-d5d6-d8420702fdf7"
      },
      "outputs": [
        {
          "data": {
            "text/plain": [
              "(10000, ['', '[UNK]', 'the', 'a', 'in'])"
            ]
          },
          "execution_count": 50,
          "metadata": {},
          "output_type": "execute_result"
        }
      ],
      "source": [
        "# get the word from the text vectorizer vocabulary\n",
        "words_in_vocab = text_vectorizer.get_vocabulary()\n",
        "len(words_in_vocab), words_in_vocab[:5]"
      ]
    },
    {
      "cell_type": "code",
      "execution_count": null,
      "metadata": {
        "colab": {
          "base_uri": "https://localhost:8080/"
        },
        "id": "MFNxJ8Kesi58",
        "outputId": "24fd140c-8bc0-4998-d9f6-7c7db264f7f4"
      },
      "outputs": [
        {
          "name": "stdout",
          "output_type": "stream",
          "text": [
            "Model: \"model_1_dense\"\n",
            "_________________________________________________________________\n",
            "Layer (type)                 Output Shape              Param #   \n",
            "=================================================================\n",
            "input_1 (InputLayer)         [(None, 1)]               0         \n",
            "_________________________________________________________________\n",
            "text_vectorization_1 (TextVe (None, 15)                0         \n",
            "_________________________________________________________________\n",
            "embedding (Embedding)        (None, 15, 128)           1280000   \n",
            "_________________________________________________________________\n",
            "global_average_pooling1d (Gl (None, 128)               0         \n",
            "_________________________________________________________________\n",
            "dense (Dense)                (None, 1)                 129       \n",
            "=================================================================\n",
            "Total params: 1,280,129\n",
            "Trainable params: 1,280,129\n",
            "Non-trainable params: 0\n",
            "_________________________________________________________________\n"
          ]
        }
      ],
      "source": [
        "model_1.summary()"
      ]
    },
    {
      "cell_type": "code",
      "execution_count": null,
      "metadata": {
        "colab": {
          "base_uri": "https://localhost:8080/"
        },
        "id": "NWA72PcWr_z0",
        "outputId": "a5737fe5-2758-45d2-837c-f6def3131d28"
      },
      "outputs": [
        {
          "data": {
            "text/plain": [
              "(10000, 128)"
            ]
          },
          "execution_count": 52,
          "metadata": {},
          "output_type": "execute_result"
        }
      ],
      "source": [
        "# get the weighted matrix of the embedding layer\n",
        "# (These are numerical representation of each token (word) in our training data)\n",
        "embedding_weights = model_1.get_layer(\"embedding\").get_weights()[0]\n",
        "embedding_weights.shape # same size as our vocab_size and embedding_dims"
      ]
    },
    {
      "cell_type": "markdown",
      "metadata": {
        "id": "50qtXEqqtgWb"
      },
      "source": [
        "Now that we have got the embedding matrix our model has learned to represent our tokens, lets see how we can visualize it\n",
        "\n",
        "To do so Tensorflow has handy tool called [TensorFlow Projector](https://projector.tensorflow.org/)"
      ]
    },
    {
      "cell_type": "code",
      "execution_count": null,
      "metadata": {
        "id": "X8EG_XXZs0i4"
      },
      "outputs": [],
      "source": [
        "# (ALL of this code is copied)\n",
        "import io\n",
        "\n",
        "# Create embedding files (we got this from tensorflow's word embedding documentation )\n",
        "out_v = io.open('vectors.tsv', 'w', encoding='utf-8')\n",
        "out_m = io.open('metadata.tsv', 'w', encoding='utf-8')\n",
        "\n",
        "for index, word in enumerate(words_in_vocab):\n",
        "  if index == 0:\n",
        "    continue  # skip 0, it's padding.\n",
        "  vec = embedding_weights[index]\n",
        "  out_v.write('\\t'.join([str(x) for x in vec]) + \"\\n\")\n",
        "  out_m.write(word + \"\\n\")\n",
        "out_v.close()\n",
        "out_m.close()\n"
      ]
    },
    {
      "cell_type": "code",
      "execution_count": null,
      "metadata": {
        "id": "T0T-kl0M2Im1"
      },
      "outputs": [],
      "source": [
        "# # Download files from colab to upload to projector\n",
        "# try:\n",
        "#   from google.colab import files\n",
        "#   files.download('vectors.tsv')\n",
        "#   files.download('metadata.tsv')\n",
        "# except Exception:\n",
        "#   pass"
      ]
    },
    {
      "cell_type": "markdown",
      "metadata": {
        "id": "WnYJKsiBP4ZV"
      },
      "source": [
        "Downloading the files above we can visualize them using TensorFlow Projector and Clicking the \"Load\" Button \n",
        "\n",
        "> ***Resources:*** If you would like to know more about Embedding, I'd encourage you to Check out \n",
        "* Jay Alammars visualized word2vec post \n",
        "* TensorFlow Word Embeddings guide\n"
      ]
    },
    {
      "cell_type": "markdown",
      "metadata": {
        "id": "6tD1dIiMR0e2"
      },
      "source": [
        "# Q:Recurrent Neural Networks (RNN)\n",
        "\n",
        "RNN are useful for sequence data.\n",
        "\n",
        "The premise of a Recurrent Neural Network is to use the *representation of previous input to aid the representation of a later input*.\n",
        "\n",
        "> ***Resources:*** If you want an overview of internal of a recurrent neural network, see the following,\n",
        "* MIT's sequence modelling lectures\n",
        "* Chris Olah's intro to LSTMs\n",
        "* Andrej Karpathys the unresonable effectiveness of recurrent neural networks"
      ]
    },
    {
      "cell_type": "markdown",
      "metadata": {
        "id": "6vE35_vom0qR"
      },
      "source": [
        "# Model 2: LSTM (RNN)\n",
        "\n",
        "LSTM = Long Short Term Memory (on of the most popular LSTM)\n",
        "\n",
        "Our typical architecture of RNN looks like this:\n",
        "\n",
        "`Input(text) -> Tokenize -> Embedding -> Layer(RNN) -> Ouput (label Probability)`"
      ]
    },
    {
      "cell_type": "code",
      "execution_count": null,
      "metadata": {
        "id": "pdnO3GP045eo"
      },
      "outputs": [],
      "source": [
        "# create LSTM model\n",
        "inputs = tf.keras.Input(shape=(1,), dtype=tf.string, name=\"input_layer\")\n",
        "x = text_vectorizer(inputs)\n",
        "x = embedding(x)\n",
        "# x = tf.keras.layers.LSTM(64, return_sequences=True) # When you are stacking RNN cells together, you need to return_sequences=True\n",
        "x = tf.keras.layers.LSTM(64)(x) # Units=64, Multiple of 8\n",
        "outputs = tf.keras.layers.Dense(1, activation=\"sigmoid\", name=\"output_layer\")(x)\n",
        "\n",
        "# create Model using inputs and outputs\n",
        "model_2 = tf.keras.Model(inputs, outputs, name=\"model_2_LSTM\")"
      ]
    },
    {
      "cell_type": "code",
      "execution_count": null,
      "metadata": {
        "colab": {
          "base_uri": "https://localhost:8080/"
        },
        "id": "qF9hL8VvtfAw",
        "outputId": "9172c85f-2b5b-47bf-a197-7bbe6a5db6d2"
      },
      "outputs": [
        {
          "name": "stdout",
          "output_type": "stream",
          "text": [
            "Model: \"model_2_LSTM\"\n",
            "_________________________________________________________________\n",
            "Layer (type)                 Output Shape              Param #   \n",
            "=================================================================\n",
            "input_layer (InputLayer)     [(None, 1)]               0         \n",
            "_________________________________________________________________\n",
            "text_vectorization_1 (TextVe (None, 15)                0         \n",
            "_________________________________________________________________\n",
            "embedding (Embedding)        (None, 15, 128)           1280000   \n",
            "_________________________________________________________________\n",
            "lstm (LSTM)                  (None, 64)                49408     \n",
            "_________________________________________________________________\n",
            "output_layer (Dense)         (None, 1)                 65        \n",
            "=================================================================\n",
            "Total params: 1,329,473\n",
            "Trainable params: 1,329,473\n",
            "Non-trainable params: 0\n",
            "_________________________________________________________________\n"
          ]
        }
      ],
      "source": [
        "model_2.summary()"
      ]
    },
    {
      "cell_type": "code",
      "execution_count": null,
      "metadata": {
        "colab": {
          "base_uri": "https://localhost:8080/"
        },
        "id": "XGXmcfv0uJ9d",
        "outputId": "3c429e5a-576e-499a-a2e7-7415476a7dca"
      },
      "outputs": [
        {
          "name": "stdout",
          "output_type": "stream",
          "text": [
            "Epoch 1/5\n",
            "215/215 [==============================] - 8s 15ms/step - loss: 0.2255 - accuracy: 0.9206 - val_loss: 0.5464 - val_accuracy: 0.7874\n",
            "Epoch 2/5\n",
            "215/215 [==============================] - 2s 10ms/step - loss: 0.1569 - accuracy: 0.9447 - val_loss: 0.6581 - val_accuracy: 0.7913\n",
            "Epoch 3/5\n",
            "215/215 [==============================] - 2s 10ms/step - loss: 0.1277 - accuracy: 0.9511 - val_loss: 0.6459 - val_accuracy: 0.7782\n",
            "Epoch 4/5\n",
            "215/215 [==============================] - 2s 10ms/step - loss: 0.1047 - accuracy: 0.9593 - val_loss: 0.7873 - val_accuracy: 0.7808\n",
            "Epoch 5/5\n",
            "215/215 [==============================] - 2s 10ms/step - loss: 0.0852 - accuracy: 0.9667 - val_loss: 0.8510 - val_accuracy: 0.7835\n"
          ]
        }
      ],
      "source": [
        "# Compile the model\n",
        "model_2.compile(\n",
        "    loss = tf.keras.losses.BinaryCrossentropy(),\n",
        "    optimizer = tf.keras.optimizers.Adam(),\n",
        "    metrics=[\"accuracy\"]\n",
        ")\n",
        "\n",
        "# fit the model\n",
        "model_2_history = model_2.fit(x=train_sentences, y=train_labels,\n",
        "                              epochs=5,\n",
        "                              validation_data=(val_sentences,val_labels),\n",
        "                              callbacks=[create_tensorboard_callback(\"models\",\n",
        "                                                                     \"model_2_LSTM(RNN)\")])"
      ]
    },
    {
      "cell_type": "code",
      "execution_count": null,
      "metadata": {
        "colab": {
          "base_uri": "https://localhost:8080/"
        },
        "id": "rjRTmF-Yvxgp",
        "outputId": "a81145b8-d6dc-4ec7-d7d9-8d4d2edda817"
      },
      "outputs": [
        {
          "name": "stdout",
          "output_type": "stream",
          "text": [
            "24/24 [==============================] - 0s 5ms/step - loss: 0.8510 - accuracy: 0.7835\n"
          ]
        },
        {
          "data": {
            "text/plain": [
              "[0.8510134816169739, 0.7834645509719849]"
            ]
          },
          "execution_count": 58,
          "metadata": {},
          "output_type": "execute_result"
        }
      ],
      "source": [
        "# evaluate the model\n",
        "model_2.evaluate(val_sentences, val_labels)"
      ]
    },
    {
      "cell_type": "code",
      "execution_count": null,
      "metadata": {
        "colab": {
          "base_uri": "https://localhost:8080/"
        },
        "id": "91ImATFC3925",
        "outputId": "6f0c52b3-b7b8-4dce-9929-039853c4885b"
      },
      "outputs": [
        {
          "data": {
            "text/plain": [
              "((762, 1), array([[9.6324645e-03],\n",
              "        [9.3918818e-01],\n",
              "        [9.9977094e-01],\n",
              "        [1.2832579e-01],\n",
              "        [5.9300015e-04],\n",
              "        [9.9739146e-01],\n",
              "        [7.2118652e-01],\n",
              "        [9.9977463e-01],\n",
              "        [9.9958283e-01],\n",
              "        [7.8552318e-01]], dtype=float32))"
            ]
          },
          "execution_count": 59,
          "metadata": {},
          "output_type": "execute_result"
        }
      ],
      "source": [
        "# Make predictions\n",
        "model_2_pred_probs = model_2.predict(val_sentences)\n",
        "model_2_pred_probs.shape, model_2_pred_probs[:10]"
      ]
    },
    {
      "cell_type": "code",
      "execution_count": null,
      "metadata": {
        "colab": {
          "base_uri": "https://localhost:8080/"
        },
        "id": "JjPgl6PI4V-Q",
        "outputId": "dd55952f-d6dc-4bfb-c83e-3b0c092eed67"
      },
      "outputs": [
        {
          "data": {
            "text/plain": [
              "<tf.Tensor: shape=(10,), dtype=float32, numpy=array([0., 1., 1., 0., 0., 1., 1., 1., 1., 1.], dtype=float32)>"
            ]
          },
          "execution_count": 60,
          "metadata": {},
          "output_type": "execute_result"
        }
      ],
      "source": [
        "y_pred = tf.squeeze(tf.round(model_2_pred_probs))\n",
        "y_pred[:10]"
      ]
    },
    {
      "cell_type": "code",
      "execution_count": null,
      "metadata": {
        "colab": {
          "base_uri": "https://localhost:8080/"
        },
        "id": "VC6sw-6f3uGh",
        "outputId": "0fd10281-a11f-47d6-cb29-f050a8590f12"
      },
      "outputs": [
        {
          "data": {
            "text/plain": [
              "{'accuracy': 78.34645669291339,\n",
              " 'f1': 0.782225309795662,\n",
              " 'precision': 0.7839822035668361,\n",
              " 'recall': 0.7834645669291339}"
            ]
          },
          "execution_count": 61,
          "metadata": {},
          "output_type": "execute_result"
        }
      ],
      "source": [
        "# use evaluate_model()\n",
        "model_2_results = evaluate_model(val_labels,\n",
        "                                 y_pred)\n",
        "model_2_results"
      ]
    },
    {
      "cell_type": "code",
      "execution_count": null,
      "metadata": {
        "colab": {
          "base_uri": "https://localhost:8080/"
        },
        "id": "HH7u47Ek4kMv",
        "outputId": "d424f943-6675-4f3a-a2a3-8e5659a4a167"
      },
      "outputs": [
        {
          "data": {
            "text/plain": [
              "{'accuracy': 79.26509186351706,\n",
              " 'f1': 0.7862189758049549,\n",
              " 'precision': 0.8111390004213173,\n",
              " 'recall': 0.7926509186351706}"
            ]
          },
          "execution_count": 62,
          "metadata": {},
          "output_type": "execute_result"
        }
      ],
      "source": [
        "# Baseline model\n",
        "model_0_results"
      ]
    },
    {
      "cell_type": "markdown",
      "metadata": {
        "id": "rbjLZurR4sDU"
      },
      "source": [
        "Our Baseline model is still doing far batter then the LSTM model"
      ]
    },
    {
      "cell_type": "markdown",
      "metadata": {
        "id": "PSaPUVVQAhW0"
      },
      "source": [
        "# Model 3: GRU (RNN)\n",
        "\n",
        "Another popular and effective RNN is GRU or Gated Recurrent Unit\n",
        "\n",
        "The GRU cell has similar features as LSTM but less parameters\n",
        "\n",
        "``"
      ]
    },
    {
      "cell_type": "code",
      "execution_count": null,
      "metadata": {
        "id": "rhht00Ne4oyi"
      },
      "outputs": [],
      "source": [
        "# Build the GRU (RNN) model\n",
        "inputs = tf.keras.Input(shape=(1,), dtype=tf.string, name=\"input_layer\")\n",
        "x = text_vectorizer(inputs)\n",
        "x = embedding(x)\n",
        "x = tf.keras.layers.GRU(units=64)(x)\n",
        "outputs= tf.keras.layers.Dense(1, activation=\"sigmoid\", name=\"output_layer\")(x)\n",
        "\n",
        "# create model using inputs and outputs\n",
        "model_3 = tf.keras.Model(inputs, outputs, name=\"model_3_GRU\")"
      ]
    },
    {
      "cell_type": "code",
      "execution_count": null,
      "metadata": {
        "colab": {
          "base_uri": "https://localhost:8080/"
        },
        "id": "6qlicpk2GRa2",
        "outputId": "bed6d340-b823-4678-ddd0-31da99b6eaa4"
      },
      "outputs": [
        {
          "name": "stdout",
          "output_type": "stream",
          "text": [
            "Model: \"model_3_GRU\"\n",
            "_________________________________________________________________\n",
            "Layer (type)                 Output Shape              Param #   \n",
            "=================================================================\n",
            "input_layer (InputLayer)     [(None, 1)]               0         \n",
            "_________________________________________________________________\n",
            "text_vectorization_1 (TextVe (None, 15)                0         \n",
            "_________________________________________________________________\n",
            "embedding (Embedding)        (None, 15, 128)           1280000   \n",
            "_________________________________________________________________\n",
            "gru (GRU)                    (None, 64)                37248     \n",
            "_________________________________________________________________\n",
            "output_layer (Dense)         (None, 1)                 65        \n",
            "=================================================================\n",
            "Total params: 1,317,313\n",
            "Trainable params: 1,317,313\n",
            "Non-trainable params: 0\n",
            "_________________________________________________________________\n"
          ]
        }
      ],
      "source": [
        "model_3.summary()"
      ]
    },
    {
      "cell_type": "code",
      "execution_count": null,
      "metadata": {
        "colab": {
          "base_uri": "https://localhost:8080/"
        },
        "id": "WpBgnEFoGWuM",
        "outputId": "53f1afd0-269f-4a9b-dcf0-4f850a1d5d72"
      },
      "outputs": [
        {
          "name": "stdout",
          "output_type": "stream",
          "text": [
            "Epoch 1/5\n",
            "215/215 [==============================] - 5s 15ms/step - loss: 0.1522 - accuracy: 0.9438 - val_loss: 0.7145 - val_accuracy: 0.7756\n",
            "Epoch 2/5\n",
            "215/215 [==============================] - 2s 10ms/step - loss: 0.0846 - accuracy: 0.9702 - val_loss: 0.8262 - val_accuracy: 0.7808\n",
            "Epoch 3/5\n",
            "215/215 [==============================] - 2s 10ms/step - loss: 0.0762 - accuracy: 0.9702 - val_loss: 0.8017 - val_accuracy: 0.7756\n",
            "Epoch 4/5\n",
            "215/215 [==============================] - 2s 10ms/step - loss: 0.0656 - accuracy: 0.9749 - val_loss: 1.0180 - val_accuracy: 0.7769\n",
            "Epoch 5/5\n",
            "215/215 [==============================] - 2s 10ms/step - loss: 0.0589 - accuracy: 0.9747 - val_loss: 1.1735 - val_accuracy: 0.7730\n"
          ]
        }
      ],
      "source": [
        "# compile the model\n",
        "model_3.compile(\n",
        "    loss=tf.keras.losses.BinaryCrossentropy(),\n",
        "    optimizer=tf.keras.optimizers.Adam(),\n",
        "    metrics=[\"accuracy\"]\n",
        ")\n",
        "\n",
        "# fit the model\n",
        "model_3_history = model_3.fit(x=train_sentences, y=train_labels,\n",
        "                              epochs=5,\n",
        "                              validation_data=(val_sentences, val_labels),\n",
        "                              callbacks=[create_tensorboard_callback(\"models\",\n",
        "                                                                     \"model_3_GRU(RNN)\")])"
      ]
    },
    {
      "cell_type": "code",
      "execution_count": null,
      "metadata": {
        "colab": {
          "base_uri": "https://localhost:8080/"
        },
        "id": "gO9wEBEPGvNZ",
        "outputId": "b946c03c-e9fc-4890-81a0-b08896a787f1"
      },
      "outputs": [
        {
          "name": "stdout",
          "output_type": "stream",
          "text": [
            "24/24 [==============================] - 0s 5ms/step - loss: 1.1735 - accuracy: 0.7730\n"
          ]
        },
        {
          "data": {
            "text/plain": [
              "[1.1735069751739502, 0.7729659080505371]"
            ]
          },
          "execution_count": 66,
          "metadata": {},
          "output_type": "execute_result"
        }
      ],
      "source": [
        "# evaluate the model\n",
        "model_3.evaluate(val_sentences, val_labels)"
      ]
    },
    {
      "cell_type": "code",
      "execution_count": null,
      "metadata": {
        "colab": {
          "base_uri": "https://localhost:8080/"
        },
        "id": "FFLwCgVQH-AE",
        "outputId": "39b526c8-e7ed-4b10-c331-5d35a0a3d3fe"
      },
      "outputs": [
        {
          "data": {
            "text/plain": [
              "((762, 1), array([[1.3788575e-03],\n",
              "        [9.1079819e-01],\n",
              "        [9.9988055e-01],\n",
              "        [3.9532606e-02],\n",
              "        [8.3788276e-05],\n",
              "        [9.9954802e-01],\n",
              "        [8.4820747e-01],\n",
              "        [9.9994183e-01],\n",
              "        [9.9986696e-01],\n",
              "        [8.9491904e-01]], dtype=float32))"
            ]
          },
          "execution_count": 67,
          "metadata": {},
          "output_type": "execute_result"
        }
      ],
      "source": [
        "# Make prediction\n",
        "model_3_pred_probs = model_3.predict(val_sentences)\n",
        "model_3_pred_probs.shape, model_3_pred_probs[:10]"
      ]
    },
    {
      "cell_type": "code",
      "execution_count": null,
      "metadata": {
        "colab": {
          "base_uri": "https://localhost:8080/"
        },
        "id": "jEno0RukIfxa",
        "outputId": "b8e33421-61f7-4730-e655-988c123d6e52"
      },
      "outputs": [
        {
          "data": {
            "text/plain": [
              "<tf.Tensor: shape=(10,), dtype=float32, numpy=array([0., 1., 1., 0., 0., 1., 1., 1., 1., 1.], dtype=float32)>"
            ]
          },
          "execution_count": 68,
          "metadata": {},
          "output_type": "execute_result"
        }
      ],
      "source": [
        "model_3_pred = tf.squeeze(tf.round(model_3_pred_probs))\n",
        "model_3_pred[:10]"
      ]
    },
    {
      "cell_type": "code",
      "execution_count": null,
      "metadata": {
        "colab": {
          "base_uri": "https://localhost:8080/"
        },
        "id": "IN88TLGwItA8",
        "outputId": "887fa9d5-eb34-4226-f484-db4943028cea"
      },
      "outputs": [
        {
          "data": {
            "text/plain": [
              "{'accuracy': 77.29658792650919,\n",
              " 'f1': 0.7704381702262061,\n",
              " 'precision': 0.775649278370019,\n",
              " 'recall': 0.7729658792650919}"
            ]
          },
          "execution_count": 69,
          "metadata": {},
          "output_type": "execute_result"
        }
      ],
      "source": [
        "# use the evaluate_model()\n",
        "model_3_results = evaluate_model(val_labels,\n",
        "                                 model_3_pred)\n",
        "model_3_results"
      ]
    },
    {
      "cell_type": "code",
      "execution_count": null,
      "metadata": {
        "colab": {
          "base_uri": "https://localhost:8080/"
        },
        "id": "XN269vK8JAwQ",
        "outputId": "c17cc5ce-53b4-4da2-afe7-30467050b8ae"
      },
      "outputs": [
        {
          "data": {
            "text/plain": [
              "{'accuracy': 79.26509186351706,\n",
              " 'f1': 0.7862189758049549,\n",
              " 'precision': 0.8111390004213173,\n",
              " 'recall': 0.7926509186351706}"
            ]
          },
          "execution_count": 70,
          "metadata": {},
          "output_type": "execute_result"
        }
      ],
      "source": [
        "# Baseline model\n",
        "model_0_results"
      ]
    },
    {
      "cell_type": "markdown",
      "metadata": {
        "id": "V2zrtL7oJHv5"
      },
      "source": [
        "# Model 4: Bidirectional-LSTM (RNN)\n",
        "\n",
        "Normal RNN are uni-directional, they go from left to right while the bidirectional RNN goes from left to rigth as well as from right to left."
      ]
    },
    {
      "cell_type": "code",
      "execution_count": null,
      "metadata": {
        "id": "ERbyvopVJF2l"
      },
      "outputs": [],
      "source": [
        "# Build the bidirectionl-LSTM\n",
        "inputs = tf.keras.Input(shape=(1,), dtype=tf.string, name=\"input_layer\")\n",
        "x = text_vectorizer(inputs)\n",
        "x = embedding(x)\n",
        "x = tf.keras.layers.Bidirectional(tf.keras.layers.LSTM(64))(x)\n",
        "outputs = tf.keras.layers.Dense(1, activation=\"sigmoid\", name=\"output_layer\")(x)\n",
        "\n",
        "# create the model\n",
        "model_4 = tf.keras.Model(inputs, outputs, name=\"model_4_bidirectional\")"
      ]
    },
    {
      "cell_type": "code",
      "execution_count": null,
      "metadata": {
        "colab": {
          "base_uri": "https://localhost:8080/"
        },
        "id": "vTSX_lMshdoK",
        "outputId": "299e95f0-b754-4013-9725-88be20a98c4b"
      },
      "outputs": [
        {
          "name": "stdout",
          "output_type": "stream",
          "text": [
            "Model: \"model_4_bidirectional\"\n",
            "_________________________________________________________________\n",
            "Layer (type)                 Output Shape              Param #   \n",
            "=================================================================\n",
            "input_layer (InputLayer)     [(None, 1)]               0         \n",
            "_________________________________________________________________\n",
            "text_vectorization_1 (TextVe (None, 15)                0         \n",
            "_________________________________________________________________\n",
            "embedding (Embedding)        (None, 15, 128)           1280000   \n",
            "_________________________________________________________________\n",
            "bidirectional (Bidirectional (None, 128)               98816     \n",
            "_________________________________________________________________\n",
            "output_layer (Dense)         (None, 1)                 129       \n",
            "=================================================================\n",
            "Total params: 1,378,945\n",
            "Trainable params: 1,378,945\n",
            "Non-trainable params: 0\n",
            "_________________________________________________________________\n"
          ]
        }
      ],
      "source": [
        "model_4.summary()"
      ]
    },
    {
      "cell_type": "markdown",
      "metadata": {
        "id": "BaTI4gn5jmzE"
      },
      "source": [
        "Bidirectional has **128** dims cause it is bidirectional **left-to-right (64)**, **right-to-left (64)**\n",
        "\n",
        "\n"
      ]
    },
    {
      "cell_type": "code",
      "execution_count": null,
      "metadata": {
        "colab": {
          "base_uri": "https://localhost:8080/"
        },
        "id": "uyivN-lPhgsu",
        "outputId": "2e2581a4-bf24-45bd-a882-d6cd762cc139"
      },
      "outputs": [
        {
          "name": "stdout",
          "output_type": "stream",
          "text": [
            "Epoch 1/5\n",
            "215/215 [==============================] - 8s 22ms/step - loss: 0.0996 - accuracy: 0.9712 - val_loss: 0.9717 - val_accuracy: 0.7756\n",
            "Epoch 2/5\n",
            "215/215 [==============================] - 3s 14ms/step - loss: 0.0527 - accuracy: 0.9764 - val_loss: 1.2747 - val_accuracy: 0.7835\n",
            "Epoch 3/5\n",
            "215/215 [==============================] - 3s 14ms/step - loss: 0.0457 - accuracy: 0.9778 - val_loss: 1.1200 - val_accuracy: 0.7703\n",
            "Epoch 4/5\n",
            "215/215 [==============================] - 3s 14ms/step - loss: 0.0462 - accuracy: 0.9793 - val_loss: 1.4732 - val_accuracy: 0.7703\n",
            "Epoch 5/5\n",
            "215/215 [==============================] - 3s 15ms/step - loss: 0.0405 - accuracy: 0.9810 - val_loss: 1.4286 - val_accuracy: 0.7664\n"
          ]
        }
      ],
      "source": [
        "# compile the model\n",
        "model_4.compile(\n",
        "    loss=tf.keras.losses.BinaryCrossentropy(),\n",
        "    optimizer=tf.keras.optimizers.Adam(),\n",
        "    metrics=[\"accuracy\"]\n",
        ")\n",
        "\n",
        "# fit the model\n",
        "model_4_history = model_4.fit(train_sentences, train_labels,\n",
        "                              epochs=5,\n",
        "                              validation_data=(val_sentences, val_labels),\n",
        "                              callbacks=[create_tensorboard_callback(\"models\",\n",
        "                                                                    \"model_4_bidirectional(RNN)\")])"
      ]
    },
    {
      "cell_type": "code",
      "execution_count": null,
      "metadata": {
        "colab": {
          "base_uri": "https://localhost:8080/"
        },
        "id": "glXVnCANiOh9",
        "outputId": "274332a3-61d4-48c6-be5a-26225b7b738e"
      },
      "outputs": [
        {
          "name": "stdout",
          "output_type": "stream",
          "text": [
            "24/24 [==============================] - 0s 7ms/step - loss: 1.4286 - accuracy: 0.7664\n"
          ]
        },
        {
          "data": {
            "text/plain": [
              "[1.4285907745361328, 0.7664042115211487]"
            ]
          },
          "execution_count": 74,
          "metadata": {},
          "output_type": "execute_result"
        }
      ],
      "source": [
        "# Evaluate the model\n",
        "model_4.evaluate(val_sentences, val_labels)"
      ]
    },
    {
      "cell_type": "code",
      "execution_count": null,
      "metadata": {
        "colab": {
          "base_uri": "https://localhost:8080/"
        },
        "id": "5xkFTSUfiWAE",
        "outputId": "0d471c85-a641-43ef-9df1-dee1794310be"
      },
      "outputs": [
        {
          "data": {
            "text/plain": [
              "((762, 1), array([[2.0957952e-04],\n",
              "        [7.3945612e-01],\n",
              "        [9.9998236e-01],\n",
              "        [1.7897531e-01],\n",
              "        [3.3122433e-05],\n",
              "        [9.9943942e-01],\n",
              "        [8.5111350e-01],\n",
              "        [9.9998748e-01],\n",
              "        [9.9997723e-01],\n",
              "        [9.9791926e-01]], dtype=float32))"
            ]
          },
          "execution_count": 75,
          "metadata": {},
          "output_type": "execute_result"
        }
      ],
      "source": [
        "# Make predictions\n",
        "model_4_pred_probs = model_4.predict(val_sentences)\n",
        "model_4_pred_probs.shape, model_4_pred_probs[:10]"
      ]
    },
    {
      "cell_type": "code",
      "execution_count": null,
      "metadata": {
        "colab": {
          "base_uri": "https://localhost:8080/"
        },
        "id": "s_t3tiqXihOS",
        "outputId": "c08dd63b-73ed-419c-e0a2-75bfb0f585c8"
      },
      "outputs": [
        {
          "data": {
            "text/plain": [
              "<tf.Tensor: shape=(10,), dtype=float32, numpy=array([0., 1., 1., 0., 0., 1., 1., 1., 1., 1.], dtype=float32)>"
            ]
          },
          "execution_count": 76,
          "metadata": {},
          "output_type": "execute_result"
        }
      ],
      "source": [
        "model_4_pred = tf.squeeze(tf.round(model_4_pred_probs))\n",
        "model_4_pred[:10]"
      ]
    },
    {
      "cell_type": "code",
      "execution_count": null,
      "metadata": {
        "colab": {
          "base_uri": "https://localhost:8080/"
        },
        "id": "U6HwwY2SkMLW",
        "outputId": "f8f1707a-e384-493f-f65b-7c2495a8f534"
      },
      "outputs": [
        {
          "data": {
            "text/plain": [
              "{'accuracy': 76.64041994750657,\n",
              " 'f1': 0.7640154753782149,\n",
              " 'precision': 0.7684333697179313,\n",
              " 'recall': 0.7664041994750657}"
            ]
          },
          "execution_count": 77,
          "metadata": {},
          "output_type": "execute_result"
        }
      ],
      "source": [
        "# use evaluate_model()\n",
        "model_4_results = evaluate_model(val_labels,\n",
        "                                 model_4_pred)\n",
        "model_4_results"
      ]
    },
    {
      "cell_type": "code",
      "execution_count": null,
      "metadata": {
        "colab": {
          "base_uri": "https://localhost:8080/"
        },
        "id": "urCm208qkfRE",
        "outputId": "490cda28-964d-42d9-cfc7-787e45d066d1"
      },
      "outputs": [
        {
          "data": {
            "text/plain": [
              "{'accuracy': 77.29658792650919,\n",
              " 'f1': 0.7704381702262061,\n",
              " 'precision': 0.775649278370019,\n",
              " 'recall': 0.7729658792650919}"
            ]
          },
          "execution_count": 78,
          "metadata": {},
          "output_type": "execute_result"
        }
      ],
      "source": [
        "# GRU(RNN) results\n",
        "model_3_results"
      ]
    },
    {
      "cell_type": "markdown",
      "metadata": {
        "id": "gfA7EsQFko-e"
      },
      "source": [
        "Bidrectional Model is doing far worse than any other RNN model"
      ]
    },
    {
      "cell_type": "markdown",
      "metadata": {
        "id": "5TeILoaDlcmJ"
      },
      "source": [
        "# Convolutional Neural Network for Text (and other type of sequences)\n",
        "\n",
        "We have used CNN for images but images are 2D... However our text data is 1D\n",
        "\n",
        "The typical structure of Conv1D layer for sequences (in our case text)\n",
        "\n",
        "`\n",
        "Inputs(text) -> Tokenization -> Embedding -> (Conv1D + Pooling) -> Outputs(class probabilites)\n",
        "`\n",
        "\n",
        "For different explaination of parameters see:\n",
        "* Diffence b/w 'same' and 'valid' padding: https://stackoverflow.com/questions/37674306/what-is-the-difference-between-same-and-valid-padding-in-tf-nn-max-pool-of-t "
      ]
    },
    {
      "cell_type": "code",
      "execution_count": null,
      "metadata": {
        "colab": {
          "base_uri": "https://localhost:8080/"
        },
        "id": "o4Sxzo-gKAqU",
        "outputId": "0d5d9ece-8a41-42e1-9fc9-21eb208f3ef5"
      },
      "outputs": [
        {
          "data": {
            "text/plain": [
              "(TensorShape([1, 15, 128]), TensorShape([1, 15, 64]), TensorShape([1, 64]))"
            ]
          },
          "execution_count": 79,
          "metadata": {},
          "output_type": "execute_result"
        }
      ],
      "source": [
        "# Test out out embedding layer, Conv1D layer and max pooling layer\n",
        "embedding_layer = embedding(text_vectorizer([\"This is a testing sentence\"]))\n",
        "conv1d_layer = tf.keras.layers.Conv1D(filters=64,\n",
        "                                      kernel_size=5, # ngram of 5 words\n",
        "                                      strides=1,\n",
        "                                      activation=\"relu\",\n",
        "                                      padding=\"same\") # default \"valid\" output is smaller than the input shape, \"same\" meaning ouput and input are same\n",
        "\n",
        "conv1d_output = conv1d_layer(embedding_layer)\n",
        "max_pool = tf.keras.layers.GlobalMaxPool1D()\n",
        "max_pool_output = max_pool(conv1d_output)\n",
        "\n",
        "embedding_layer.shape, conv1d_output.shape, max_pool_output.shape"
      ]
    },
    {
      "cell_type": "code",
      "execution_count": null,
      "metadata": {
        "id": "_auCr22M4POT"
      },
      "outputs": [],
      "source": [
        "#embedding_layer"
      ]
    },
    {
      "cell_type": "code",
      "execution_count": null,
      "metadata": {
        "id": "kiw1HR9A4RGm"
      },
      "outputs": [],
      "source": [
        "#conv1d_output"
      ]
    },
    {
      "cell_type": "code",
      "execution_count": null,
      "metadata": {
        "id": "2E9RSyoN4UOX"
      },
      "outputs": [],
      "source": [
        "#max_pool_output"
      ]
    },
    {
      "cell_type": "markdown",
      "metadata": {
        "id": "aRu1zWS2k96X"
      },
      "source": [
        "# Model 5: 1D Convolutional Neural Network"
      ]
    },
    {
      "cell_type": "code",
      "execution_count": null,
      "metadata": {
        "id": "rEDwJrF9km_y"
      },
      "outputs": [],
      "source": [
        "# Build the model\n",
        "inputs = tf.keras.Input(shape=(1,), dtype=tf.string, name=\"input_layer\")\n",
        "x = text_vectorizer(inputs)\n",
        "x = embedding(x)\n",
        "x = tf.keras.layers.Conv1D(filters=64, kernel_size=5, strides=1, padding=\"valid\")(x)\n",
        "x = tf.keras.layers.GlobalMaxPool1D()(x)\n",
        "outputs = tf.keras.layers.Dense(1, activation=\"sigmoid\", name=\"output_layer\")(x)\n",
        "\n",
        "# create the model\n",
        "model_5 = tf.keras.Model(inputs, outputs, name=\"model_5_conv1d\")"
      ]
    },
    {
      "cell_type": "code",
      "execution_count": null,
      "metadata": {
        "colab": {
          "base_uri": "https://localhost:8080/"
        },
        "id": "4bB2WYuCBeMp",
        "outputId": "8f18fde3-9679-4fa0-821a-bef427e290aa"
      },
      "outputs": [
        {
          "name": "stdout",
          "output_type": "stream",
          "text": [
            "Model: \"model_5_conv1d\"\n",
            "_________________________________________________________________\n",
            "Layer (type)                 Output Shape              Param #   \n",
            "=================================================================\n",
            "input_layer (InputLayer)     [(None, 1)]               0         \n",
            "_________________________________________________________________\n",
            "text_vectorization_1 (TextVe (None, 15)                0         \n",
            "_________________________________________________________________\n",
            "embedding (Embedding)        (None, 15, 128)           1280000   \n",
            "_________________________________________________________________\n",
            "conv1d_1 (Conv1D)            (None, 11, 64)            41024     \n",
            "_________________________________________________________________\n",
            "global_max_pooling1d_1 (Glob (None, 64)                0         \n",
            "_________________________________________________________________\n",
            "output_layer (Dense)         (None, 1)                 65        \n",
            "=================================================================\n",
            "Total params: 1,321,089\n",
            "Trainable params: 1,321,089\n",
            "Non-trainable params: 0\n",
            "_________________________________________________________________\n"
          ]
        }
      ],
      "source": [
        "model_5.summary()"
      ]
    },
    {
      "cell_type": "code",
      "execution_count": null,
      "metadata": {
        "colab": {
          "base_uri": "https://localhost:8080/"
        },
        "id": "Ex219k6AB8qH",
        "outputId": "39e3385c-b195-4bcf-dd34-d5974e04cfdd"
      },
      "outputs": [
        {
          "name": "stdout",
          "output_type": "stream",
          "text": [
            "Epoch 1/5\n",
            "215/215 [==============================] - 4s 11ms/step - loss: 0.1230 - accuracy: 0.9587 - val_loss: 0.9548 - val_accuracy: 0.7782\n",
            "Epoch 2/5\n",
            "215/215 [==============================] - 2s 8ms/step - loss: 0.0742 - accuracy: 0.9724 - val_loss: 1.0612 - val_accuracy: 0.7717\n",
            "Epoch 3/5\n",
            "215/215 [==============================] - 2s 8ms/step - loss: 0.0626 - accuracy: 0.9750 - val_loss: 1.1523 - val_accuracy: 0.7585\n",
            "Epoch 4/5\n",
            "215/215 [==============================] - 2s 8ms/step - loss: 0.0555 - accuracy: 0.9771 - val_loss: 1.2438 - val_accuracy: 0.7651\n",
            "Epoch 5/5\n",
            "215/215 [==============================] - 2s 8ms/step - loss: 0.0519 - accuracy: 0.9783 - val_loss: 1.2522 - val_accuracy: 0.7546\n"
          ]
        }
      ],
      "source": [
        "# Compile the model\n",
        "model_5.compile(\n",
        "    loss = tf.keras.losses.BinaryCrossentropy(),\n",
        "    optimizer = tf.keras.optimizers.Adam(),\n",
        "    metrics=[\"accuracy\"]\n",
        ")\n",
        "\n",
        "# fit the model\n",
        "model_5_history = model_5.fit(x=train_sentences, y=train_labels,\n",
        "                              epochs=5,\n",
        "                              validation_data=(val_sentences, val_labels),\n",
        "                              callbacks=[create_tensorboard_callback(\"models\",\n",
        "                                                                     \"model_5_conv1D\")])"
      ]
    },
    {
      "cell_type": "code",
      "execution_count": null,
      "metadata": {
        "colab": {
          "base_uri": "https://localhost:8080/"
        },
        "id": "6rrYLJ9bBv3M",
        "outputId": "db6bc67a-500c-490c-c606-bbd8fd3877ae"
      },
      "outputs": [
        {
          "name": "stdout",
          "output_type": "stream",
          "text": [
            "24/24 [==============================] - 0s 4ms/step - loss: 1.2522 - accuracy: 0.7546\n"
          ]
        },
        {
          "data": {
            "text/plain": [
              "[1.2521549463272095, 0.7545931935310364]"
            ]
          },
          "execution_count": 86,
          "metadata": {},
          "output_type": "execute_result"
        }
      ],
      "source": [
        "model_5.evaluate(val_sentences, val_labels)"
      ]
    },
    {
      "cell_type": "code",
      "execution_count": null,
      "metadata": {
        "colab": {
          "base_uri": "https://localhost:8080/"
        },
        "id": "YKnx8u3wB4EQ",
        "outputId": "63e92831-744c-41df-da7f-c510dec8e809"
      },
      "outputs": [
        {
          "data": {
            "text/plain": [
              "array([[2.31015813e-02],\n",
              "       [8.51560295e-01],\n",
              "       [9.99871731e-01],\n",
              "       [1.21280536e-01],\n",
              "       [3.03315062e-07],\n",
              "       [9.94029880e-01],\n",
              "       [8.70250404e-01],\n",
              "       [9.99840975e-01],\n",
              "       [9.99999762e-01],\n",
              "       [9.42246318e-01]], dtype=float32)"
            ]
          },
          "execution_count": 87,
          "metadata": {},
          "output_type": "execute_result"
        }
      ],
      "source": [
        "# Make predictions\n",
        "model_5_pred_probs = model_5.predict(val_sentences)\n",
        "model_5_pred_probs[:10]"
      ]
    },
    {
      "cell_type": "code",
      "execution_count": null,
      "metadata": {
        "colab": {
          "base_uri": "https://localhost:8080/"
        },
        "id": "QurH2L7dCthi",
        "outputId": "a119a5b7-a7a9-4acb-dac9-db423505f102"
      },
      "outputs": [
        {
          "data": {
            "text/plain": [
              "<tf.Tensor: shape=(10,), dtype=float32, numpy=array([0., 1., 1., 0., 0., 1., 1., 1., 1., 1.], dtype=float32)>"
            ]
          },
          "execution_count": 88,
          "metadata": {},
          "output_type": "execute_result"
        }
      ],
      "source": [
        "model_5_preds = tf.squeeze(tf.round(model_5_pred_probs))\n",
        "model_5_preds[:10]"
      ]
    },
    {
      "cell_type": "code",
      "execution_count": null,
      "metadata": {
        "colab": {
          "base_uri": "https://localhost:8080/"
        },
        "id": "jrc9pQ6DC7gz",
        "outputId": "a3290b8a-72e0-48ac-df6e-db6f755a8368"
      },
      "outputs": [
        {
          "data": {
            "text/plain": [
              "{'accuracy': 75.45931758530183,\n",
              " 'f1': 0.7529524951810874,\n",
              " 'precision': 0.7549417854127627,\n",
              " 'recall': 0.7545931758530183}"
            ]
          },
          "execution_count": 89,
          "metadata": {},
          "output_type": "execute_result"
        }
      ],
      "source": [
        "# use evaluate_model()\n",
        "model_5_results = evaluate_model(val_labels,\n",
        "                                 model_5_preds)\n",
        "model_5_results"
      ]
    },
    {
      "cell_type": "code",
      "execution_count": null,
      "metadata": {
        "colab": {
          "base_uri": "https://localhost:8080/"
        },
        "id": "cgt1sCi7DN4V",
        "outputId": "b656a83e-e4b6-4276-bfef-4c7702fe0348"
      },
      "outputs": [
        {
          "data": {
            "text/plain": [
              "{'accuracy': 79.26509186351706,\n",
              " 'f1': 0.7862189758049549,\n",
              " 'precision': 0.8111390004213173,\n",
              " 'recall': 0.7926509186351706}"
            ]
          },
          "execution_count": 90,
          "metadata": {},
          "output_type": "execute_result"
        }
      ],
      "source": [
        "# baseline model\n",
        "model_0_results"
      ]
    },
    {
      "cell_type": "markdown",
      "metadata": {
        "id": "yAwHpjQDlSHh"
      },
      "source": [
        "# Model 6: TensorFlow Hub Pretrained Sentence Encoder\n"
      ]
    },
    {
      "cell_type": "code",
      "execution_count": null,
      "metadata": {
        "colab": {
          "base_uri": "https://localhost:8080/",
          "height": 36
        },
        "id": "zjl7ptvHqY-S",
        "outputId": "c56bbffe-7dec-4da5-e41f-7ff55ef64709"
      },
      "outputs": [
        {
          "data": {
            "application/vnd.google.colaboratory.intrinsic+json": {
              "type": "string"
            },
            "text/plain": [
              "'earthquake hit new york'"
            ]
          },
          "execution_count": 91,
          "metadata": {},
          "output_type": "execute_result"
        }
      ],
      "source": [
        "sample_sentence"
      ]
    },
    {
      "cell_type": "code",
      "execution_count": null,
      "metadata": {
        "id": "c5JQS_88DRts"
      },
      "outputs": [],
      "source": [
        "import tensorflow_hub as hub\n",
        "\n",
        "embed = hub.load(\"https://tfhub.dev/google/universal-sentence-encoder/4\")\n",
        "embed_sample = embed([sample_sentence])"
      ]
    },
    {
      "cell_type": "code",
      "execution_count": null,
      "metadata": {
        "colab": {
          "base_uri": "https://localhost:8080/"
        },
        "id": "Rqfgh3l2ob1o",
        "outputId": "298e2a45-7560-41fb-bd51-11557162c2d1"
      },
      "outputs": [
        {
          "data": {
            "text/plain": [
              "<tf.Tensor: shape=(50,), dtype=float32, numpy=\n",
              "array([-0.0064649 , -0.01758436, -0.01333718, -0.00351964,  0.06985105,\n",
              "        0.04407538, -0.05760734, -0.04750454,  0.04691634,  0.06398599,\n",
              "        0.01446668,  0.03338726, -0.00163113, -0.06856813,  0.061738  ,\n",
              "       -0.03786888,  0.00372992, -0.07559349,  0.04492008, -0.01313149,\n",
              "       -0.01929411, -0.05176137,  0.05398419,  0.07122506, -0.07073363,\n",
              "        0.0048399 , -0.02142002, -0.03635834, -0.00241713, -0.06495362,\n",
              "       -0.02936422, -0.05900885, -0.05008752, -0.02869363, -0.07126758,\n",
              "        0.04351207, -0.03947387,  0.0784016 , -0.01701517, -0.05543587,\n",
              "       -0.06472812,  0.04734172, -0.06061318, -0.05577688, -0.07139776,\n",
              "        0.04298637, -0.00562776, -0.02409728, -0.05772136, -0.04314713],\n",
              "      dtype=float32)>"
            ]
          },
          "execution_count": 93,
          "metadata": {},
          "output_type": "execute_result"
        }
      ],
      "source": [
        "embed_sample[0][:50]"
      ]
    },
    {
      "cell_type": "code",
      "execution_count": null,
      "metadata": {
        "colab": {
          "base_uri": "https://localhost:8080/"
        },
        "id": "aoWfxjNxn2OU",
        "outputId": "c0df1328-1beb-458a-9326-7ccdaa2a18bd"
      },
      "outputs": [
        {
          "data": {
            "text/plain": [
              "TensorShape([512])"
            ]
          },
          "execution_count": 94,
          "metadata": {},
          "output_type": "execute_result"
        }
      ],
      "source": [
        "embed_sample[0].shape"
      ]
    },
    {
      "cell_type": "code",
      "execution_count": null,
      "metadata": {
        "id": "ZJxs3GQbtIgj"
      },
      "outputs": [],
      "source": [
        "sentence_encoder_layer = hub.KerasLayer(\"https://tfhub.dev/google/universal-sentence-encoder/4\",\n",
        "                                        trainable=False,\n",
        "                                        dtype=tf.string,\n",
        "                                        input_shape=[])"
      ]
    },
    {
      "cell_type": "code",
      "execution_count": null,
      "metadata": {
        "colab": {
          "base_uri": "https://localhost:8080/"
        },
        "id": "MAm_LRl1oCz-",
        "outputId": "ae23651e-2307-425b-95d5-e220f8e15cc8"
      },
      "outputs": [
        {
          "name": "stdout",
          "output_type": "stream",
          "text": [
            "Model: \"model_6_USE\"\n",
            "_________________________________________________________________\n",
            "Layer (type)                 Output Shape              Param #   \n",
            "=================================================================\n",
            "keras_layer (KerasLayer)     (None, 512)               256797824 \n",
            "_________________________________________________________________\n",
            "dense_1 (Dense)              (None, 64)                32832     \n",
            "_________________________________________________________________\n",
            "output_layer (Dense)         (None, 1)                 65        \n",
            "=================================================================\n",
            "Total params: 256,830,721\n",
            "Trainable params: 32,897\n",
            "Non-trainable params: 256,797,824\n",
            "_________________________________________________________________\n"
          ]
        }
      ],
      "source": [
        "# create the sequential model\n",
        "model_6 = tf.keras.Sequential([\n",
        "              sentence_encoder_layer,\n",
        "              tf.keras.layers.Dense(64, activation=\"relu\"),\n",
        "              tf.keras.layers.Dense(1, activation=\"sigmoid\", name=\"output_layer\")              \n",
        "], name=\"model_6_USE\")\n",
        "\n",
        "# Compile the model\n",
        "model_6.compile(\n",
        "    loss=tf.keras.losses.BinaryCrossentropy(),\n",
        "    optimizer=tf.keras.optimizers.Adam(),\n",
        "    metrics=[\"accuracy\"]\n",
        ")\n",
        "\n",
        "model_6.summary()"
      ]
    },
    {
      "cell_type": "code",
      "execution_count": null,
      "metadata": {
        "colab": {
          "base_uri": "https://localhost:8080/"
        },
        "id": "-w3mwcyeugp3",
        "outputId": "26509a60-c51f-422f-f5b7-c0374b866ef9"
      },
      "outputs": [
        {
          "name": "stdout",
          "output_type": "stream",
          "text": [
            "Epoch 1/5\n",
            "215/215 [==============================] - 10s 32ms/step - loss: 0.5092 - accuracy: 0.7787 - val_loss: 0.4495 - val_accuracy: 0.8018\n",
            "Epoch 2/5\n",
            "215/215 [==============================] - 4s 20ms/step - loss: 0.4141 - accuracy: 0.8181 - val_loss: 0.4396 - val_accuracy: 0.8084\n",
            "Epoch 3/5\n",
            "215/215 [==============================] - 4s 20ms/step - loss: 0.4009 - accuracy: 0.8221 - val_loss: 0.4363 - val_accuracy: 0.8097\n",
            "Epoch 4/5\n",
            "215/215 [==============================] - 4s 20ms/step - loss: 0.3925 - accuracy: 0.8253 - val_loss: 0.4278 - val_accuracy: 0.8150\n",
            "Epoch 5/5\n",
            "215/215 [==============================] - 4s 20ms/step - loss: 0.3852 - accuracy: 0.8308 - val_loss: 0.4309 - val_accuracy: 0.8150\n"
          ]
        }
      ],
      "source": [
        "# fit the model\n",
        "model_6_history = model_6.fit(x=train_sentences, y=train_labels,\n",
        "                              epochs=5,\n",
        "                              validation_data=(val_sentences, val_labels),\n",
        "                              callbacks=[create_tensorboard_callback(\"models\",\n",
        "                                                                     \"model_6_USE\")])"
      ]
    },
    {
      "cell_type": "code",
      "execution_count": null,
      "metadata": {
        "colab": {
          "base_uri": "https://localhost:8080/"
        },
        "id": "upNcsAv4vL9X",
        "outputId": "abc6d961-06b1-4763-a4d8-cc74c4cf354f"
      },
      "outputs": [
        {
          "name": "stdout",
          "output_type": "stream",
          "text": [
            "24/24 [==============================] - 0s 17ms/step - loss: 0.4309 - accuracy: 0.8150\n"
          ]
        },
        {
          "data": {
            "text/plain": [
              "[0.43087512254714966, 0.8149606585502625]"
            ]
          },
          "execution_count": 98,
          "metadata": {},
          "output_type": "execute_result"
        }
      ],
      "source": [
        "# Evaluate the model\n",
        "model_6.evaluate(val_sentences, val_labels)"
      ]
    },
    {
      "cell_type": "code",
      "execution_count": null,
      "metadata": {
        "colab": {
          "base_uri": "https://localhost:8080/"
        },
        "id": "od9RU2elvaWp",
        "outputId": "08daafff-d435-41f8-92e3-2715ad2c0ca4"
      },
      "outputs": [
        {
          "data": {
            "text/plain": [
              "array([[0.1516359 ],\n",
              "       [0.75027746],\n",
              "       [0.9863188 ],\n",
              "       [0.21617892],\n",
              "       [0.6869952 ],\n",
              "       [0.7023173 ],\n",
              "       [0.9781174 ],\n",
              "       [0.97687143],\n",
              "       [0.91773325],\n",
              "       [0.09283023]], dtype=float32)"
            ]
          },
          "execution_count": 99,
          "metadata": {},
          "output_type": "execute_result"
        }
      ],
      "source": [
        "# Make predictions\n",
        "model_6_pred_probs = model_6.predict(val_sentences)\n",
        "model_6_pred_probs[:10]"
      ]
    },
    {
      "cell_type": "code",
      "execution_count": null,
      "metadata": {
        "colab": {
          "base_uri": "https://localhost:8080/"
        },
        "id": "XrEAHIOkvk17",
        "outputId": "33f2ac0f-e13b-4496-cd03-43b3db23d9bc"
      },
      "outputs": [
        {
          "data": {
            "text/plain": [
              "<tf.Tensor: shape=(10,), dtype=float32, numpy=array([0., 1., 1., 0., 1., 1., 1., 1., 1., 0.], dtype=float32)>"
            ]
          },
          "execution_count": 100,
          "metadata": {},
          "output_type": "execute_result"
        }
      ],
      "source": [
        "model_6_preds = tf.squeeze(tf.round(model_6_pred_probs))\n",
        "model_6_preds[:10]"
      ]
    },
    {
      "cell_type": "code",
      "execution_count": null,
      "metadata": {
        "colab": {
          "base_uri": "https://localhost:8080/"
        },
        "id": "Z1XKjkiHvtKP",
        "outputId": "69d5dcda-ed9d-4e0b-9cff-6623de43636b"
      },
      "outputs": [
        {
          "data": {
            "text/plain": [
              "{'accuracy': 81.49606299212599,\n",
              " 'f1': 0.813013156274745,\n",
              " 'precision': 0.8186374796992019,\n",
              " 'recall': 0.8149606299212598}"
            ]
          },
          "execution_count": 101,
          "metadata": {},
          "output_type": "execute_result"
        }
      ],
      "source": [
        "# use evaluate_model()\n",
        "model_6_results = evaluate_model(val_labels,\n",
        "                                 model_6_preds)\n",
        "model_6_results"
      ]
    },
    {
      "cell_type": "code",
      "execution_count": null,
      "metadata": {
        "colab": {
          "base_uri": "https://localhost:8080/"
        },
        "id": "OrphqIz_v-pN",
        "outputId": "a86644db-510b-412d-8ea5-991b73f339c4"
      },
      "outputs": [
        {
          "data": {
            "text/plain": [
              "{'accuracy': 79.26509186351706,\n",
              " 'f1': 0.7862189758049549,\n",
              " 'precision': 0.8111390004213173,\n",
              " 'recall': 0.7926509186351706}"
            ]
          },
          "execution_count": 102,
          "metadata": {},
          "output_type": "execute_result"
        }
      ],
      "source": [
        "# Baseline model\n",
        "model_0_results"
      ]
    },
    {
      "cell_type": "markdown",
      "metadata": {
        "id": "0eNNSYUiwDr6"
      },
      "source": [
        "Finally our Transfer Learning Model Beats the Baseline Model"
      ]
    },
    {
      "cell_type": "markdown",
      "metadata": {
        "id": "bVrXFx5pzGrL"
      },
      "source": [
        "# Model 7: TF Hub Pretrained USE but with 10% of Training Data\n",
        "\n",
        "Transfer Learning is really useful when you have small amount of data.\n",
        "\n",
        "To see how out model do on small datasets we will replicate the `model_6` but with only 10% of the training data"
      ]
    },
    {
      "cell_type": "code",
      "execution_count": null,
      "metadata": {
        "id": "R5sl2q2zwCeh"
      },
      "outputs": [],
      "source": [
        "# The below partition of data causes the DATA LEAKAGE\n",
        "\n",
        "# # Create subsets of the training data\n",
        "# train_10_precent = train_df_shuffled[[\"text\", \"target\"]].sample(frac=0.1, random_state=42)\n",
        "\n",
        "# # Now divde the 10% data into features and labels\n",
        "# train_sentences_10 = train_10_precent[\"text\"].to_numpy()\n",
        "# train_labels_10 = train_10_precent[\"target\"].to_numpy()\n",
        "\n",
        "# len(train_sentences_10), len(train_labels_10)"
      ]
    },
    {
      "cell_type": "markdown",
      "metadata": {
        "id": "uvSQlTP8fuqX"
      },
      "source": [
        "**Note:** Be *very* careful when creating a train/val/ test_splits that you dont leak the data across datasets, otherwise your model evaluation matrix will be wrong. If somthing looks too good to be true (a model trained on 10% of the dataset outperforms the model trained on 100% of dataset) trust you gut and go back through to find where the error may lie"
      ]
    },
    {
      "cell_type": "code",
      "execution_count": null,
      "metadata": {
        "colab": {
          "base_uri": "https://localhost:8080/"
        },
        "id": "l0hxZmPdctpZ",
        "outputId": "bec68f88-56a1-4cea-c868-07cc1f3c5d20"
      },
      "outputs": [
        {
          "data": {
            "text/plain": [
              "(685, 685)"
            ]
          },
          "execution_count": 104,
          "metadata": {},
          "output_type": "execute_result"
        }
      ],
      "source": [
        "# Spliting the data so it does not creates Data Leakages\n",
        "\n",
        "split_10_precent = int(0.1 * len(train_sentences))\n",
        "\n",
        "train_sentences_10_percent = train_sentences[:split_10_precent]\n",
        "train_labels_10_percent = train_labels[:split_10_precent]\n",
        "\n",
        "len(train_sentences_10_percent), len(train_labels_10_percent)"
      ]
    },
    {
      "cell_type": "code",
      "execution_count": null,
      "metadata": {
        "colab": {
          "base_uri": "https://localhost:8080/"
        },
        "id": "FiuOqH91eJxV",
        "outputId": "44582728-fe8c-48cb-dc76-e1504d606d37"
      },
      "outputs": [
        {
          "data": {
            "text/plain": [
              "0    406\n",
              "1    279\n",
              "dtype: int64"
            ]
          },
          "execution_count": 105,
          "metadata": {},
          "output_type": "execute_result"
        }
      ],
      "source": [
        "pd.Series(train_labels_10_percent).value_counts()"
      ]
    },
    {
      "cell_type": "code",
      "execution_count": null,
      "metadata": {
        "colab": {
          "base_uri": "https://localhost:8080/"
        },
        "id": "VVzoPFop1A6T",
        "outputId": "bb637fe5-2078-498d-f350-2130f1a8665f"
      },
      "outputs": [
        {
          "name": "stdout",
          "output_type": "stream",
          "text": [
            "Model: \"model_6_USE\"\n",
            "_________________________________________________________________\n",
            "Layer (type)                 Output Shape              Param #   \n",
            "=================================================================\n",
            "keras_layer (KerasLayer)     (None, 512)               256797824 \n",
            "_________________________________________________________________\n",
            "dense_1 (Dense)              (None, 64)                32832     \n",
            "_________________________________________________________________\n",
            "output_layer (Dense)         (None, 1)                 65        \n",
            "=================================================================\n",
            "Total params: 256,830,721\n",
            "Trainable params: 32,897\n",
            "Non-trainable params: 256,797,824\n",
            "_________________________________________________________________\n"
          ]
        }
      ],
      "source": [
        "# Lets build a model same as model 6\n",
        "model_7 = tf.keras.models.clone_model(model_6)\n",
        "\n",
        "# Compile the model\n",
        "model_7.compile(\n",
        "    loss = tf.keras.losses.BinaryCrossentropy(),\n",
        "    optimizer = tf.keras.optimizers.Adam(),\n",
        "    metrics=[\"accuracy\"]\n",
        ")\n",
        "\n",
        "model_7.summary()"
      ]
    },
    {
      "cell_type": "code",
      "execution_count": null,
      "metadata": {
        "colab": {
          "base_uri": "https://localhost:8080/"
        },
        "id": "DJEHV6wy-DkI",
        "outputId": "58186471-00c5-492e-baa8-9ecb242af553"
      },
      "outputs": [
        {
          "name": "stdout",
          "output_type": "stream",
          "text": [
            "Epoch 1/5\n",
            "22/22 [==============================] - 6s 135ms/step - loss: 0.6675 - accuracy: 0.6847 - val_loss: 0.6443 - val_accuracy: 0.7388\n",
            "Epoch 2/5\n",
            "22/22 [==============================] - 1s 48ms/step - loss: 0.5932 - accuracy: 0.7956 - val_loss: 0.5838 - val_accuracy: 0.7598\n",
            "Epoch 3/5\n",
            "22/22 [==============================] - 1s 34ms/step - loss: 0.5161 - accuracy: 0.8131 - val_loss: 0.5335 - val_accuracy: 0.7730\n",
            "Epoch 4/5\n",
            "22/22 [==============================] - 1s 34ms/step - loss: 0.4588 - accuracy: 0.8234 - val_loss: 0.5007 - val_accuracy: 0.7769\n",
            "Epoch 5/5\n",
            "22/22 [==============================] - 1s 36ms/step - loss: 0.4168 - accuracy: 0.8321 - val_loss: 0.4919 - val_accuracy: 0.7835\n"
          ]
        }
      ],
      "source": [
        "# fit the model\n",
        "model_7_history = model_7.fit(x=train_sentences_10_percent, y=train_labels_10_percent,\n",
        "                              epochs=5,\n",
        "                              validation_data=(val_sentences, val_labels),\n",
        "                              callbacks=[create_tensorboard_callback(\"models\",\n",
        "                                                                     \"model_7_USE_10_precent\")])"
      ]
    },
    {
      "cell_type": "code",
      "execution_count": null,
      "metadata": {
        "colab": {
          "base_uri": "https://localhost:8080/"
        },
        "id": "w4i_W1sR-ow8",
        "outputId": "52a93d8b-d41a-468c-e780-3a3adafbd146"
      },
      "outputs": [
        {
          "name": "stdout",
          "output_type": "stream",
          "text": [
            "24/24 [==============================] - 0s 16ms/step - loss: 0.4919 - accuracy: 0.7835\n"
          ]
        },
        {
          "data": {
            "text/plain": [
              "[0.49190956354141235, 0.7834645509719849]"
            ]
          },
          "execution_count": 108,
          "metadata": {},
          "output_type": "execute_result"
        }
      ],
      "source": [
        "# evaluate the model\n",
        "model_7.evaluate(val_sentences, val_labels)"
      ]
    },
    {
      "cell_type": "code",
      "execution_count": null,
      "metadata": {
        "colab": {
          "base_uri": "https://localhost:8080/"
        },
        "id": "7MjugBkT-yet",
        "outputId": "702308e8-79cb-4417-f0ee-031cbec5c545"
      },
      "outputs": [
        {
          "data": {
            "text/plain": [
              "array([[0.20795245],\n",
              "       [0.5906349 ],\n",
              "       [0.91695184],\n",
              "       [0.3896327 ],\n",
              "       [0.5357386 ],\n",
              "       [0.6472138 ],\n",
              "       [0.87392986],\n",
              "       [0.8026783 ],\n",
              "       [0.8516532 ],\n",
              "       [0.14175704]], dtype=float32)"
            ]
          },
          "execution_count": 109,
          "metadata": {},
          "output_type": "execute_result"
        }
      ],
      "source": [
        "# Make predictions\n",
        "model_7_pred_probs = model_7.predict(val_sentences)\n",
        "model_7_pred_probs[:10]"
      ]
    },
    {
      "cell_type": "code",
      "execution_count": null,
      "metadata": {
        "colab": {
          "base_uri": "https://localhost:8080/"
        },
        "id": "B6hfzeuR-_oi",
        "outputId": "38ae4c63-91a0-4bb2-a896-3836eb2d5901"
      },
      "outputs": [
        {
          "data": {
            "text/plain": [
              "<tf.Tensor: shape=(10,), dtype=float32, numpy=array([0., 1., 1., 0., 1., 1., 1., 1., 1., 0.], dtype=float32)>"
            ]
          },
          "execution_count": 110,
          "metadata": {},
          "output_type": "execute_result"
        }
      ],
      "source": [
        "model_7_preds = tf.squeeze(tf.round(model_7_pred_probs))\n",
        "model_7_preds[:10]"
      ]
    },
    {
      "cell_type": "code",
      "execution_count": null,
      "metadata": {
        "colab": {
          "base_uri": "https://localhost:8080/"
        },
        "id": "hTR_PfAk_JW_",
        "outputId": "78388326-38fd-4080-a07e-9d440062a68f"
      },
      "outputs": [
        {
          "data": {
            "text/plain": [
              "{'accuracy': 78.34645669291339,\n",
              " 'f1': 0.7820169075127241,\n",
              " 'precision': 0.7843463033230456,\n",
              " 'recall': 0.7834645669291339}"
            ]
          },
          "execution_count": 111,
          "metadata": {},
          "output_type": "execute_result"
        }
      ],
      "source": [
        "# use evaluate_model()\n",
        "model_7_results = evaluate_model(val_labels,\n",
        "                                 model_7_preds)\n",
        "model_7_results"
      ]
    },
    {
      "cell_type": "code",
      "execution_count": null,
      "metadata": {
        "colab": {
          "base_uri": "https://localhost:8080/"
        },
        "id": "lnhbSqba_Uhf",
        "outputId": "67c73dea-893c-4bf1-cb0a-245216ec0338"
      },
      "outputs": [
        {
          "data": {
            "text/plain": [
              "{'accuracy': 81.49606299212599,\n",
              " 'f1': 0.813013156274745,\n",
              " 'precision': 0.8186374796992019,\n",
              " 'recall': 0.8149606299212598}"
            ]
          },
          "execution_count": 112,
          "metadata": {},
          "output_type": "execute_result"
        }
      ],
      "source": [
        "model_6_results"
      ]
    },
    {
      "cell_type": "markdown",
      "metadata": {
        "id": "W5eYlSecOl1Y"
      },
      "source": [
        "#Compare all models Results"
      ]
    },
    {
      "cell_type": "code",
      "execution_count": null,
      "metadata": {
        "colab": {
          "base_uri": "https://localhost:8080/",
          "height": 143
        },
        "id": "nKHDtfuR_dE-",
        "outputId": "23646343-dca9-4c1b-da9b-3b4a98cba81a"
      },
      "outputs": [
        {
          "data": {
            "text/html": [
              "<div>\n",
              "<style scoped>\n",
              "    .dataframe tbody tr th:only-of-type {\n",
              "        vertical-align: middle;\n",
              "    }\n",
              "\n",
              "    .dataframe tbody tr th {\n",
              "        vertical-align: top;\n",
              "    }\n",
              "\n",
              "    .dataframe thead th {\n",
              "        text-align: right;\n",
              "    }\n",
              "</style>\n",
              "<table border=\"1\" class=\"dataframe\">\n",
              "  <thead>\n",
              "    <tr style=\"text-align: right;\">\n",
              "      <th></th>\n",
              "      <th>0_baseline</th>\n",
              "      <th>1_simple_dense</th>\n",
              "      <th>2_lstm</th>\n",
              "      <th>3_gru</th>\n",
              "      <th>4_bidirectional</th>\n",
              "      <th>5_conv1d</th>\n",
              "      <th>6_use</th>\n",
              "      <th>7_use_10_percent</th>\n",
              "    </tr>\n",
              "  </thead>\n",
              "  <tbody>\n",
              "    <tr>\n",
              "      <th>accuracy</th>\n",
              "      <td>79.265092</td>\n",
              "      <td>78.871391</td>\n",
              "      <td>78.346457</td>\n",
              "      <td>77.296588</td>\n",
              "      <td>76.640420</td>\n",
              "      <td>75.459318</td>\n",
              "      <td>81.496063</td>\n",
              "      <td>78.346457</td>\n",
              "    </tr>\n",
              "    <tr>\n",
              "      <th>precision</th>\n",
              "      <td>0.811139</td>\n",
              "      <td>0.795344</td>\n",
              "      <td>0.783982</td>\n",
              "      <td>0.775649</td>\n",
              "      <td>0.768433</td>\n",
              "      <td>0.754942</td>\n",
              "      <td>0.818637</td>\n",
              "      <td>0.784346</td>\n",
              "    </tr>\n",
              "    <tr>\n",
              "      <th>recall</th>\n",
              "      <td>0.792651</td>\n",
              "      <td>0.788714</td>\n",
              "      <td>0.783465</td>\n",
              "      <td>0.772966</td>\n",
              "      <td>0.766404</td>\n",
              "      <td>0.754593</td>\n",
              "      <td>0.814961</td>\n",
              "      <td>0.783465</td>\n",
              "    </tr>\n",
              "  </tbody>\n",
              "</table>\n",
              "</div>"
            ],
            "text/plain": [
              "           0_baseline  1_simple_dense  ...      6_use  7_use_10_percent\n",
              "accuracy    79.265092       78.871391  ...  81.496063         78.346457\n",
              "precision    0.811139        0.795344  ...   0.818637          0.784346\n",
              "recall       0.792651        0.788714  ...   0.814961          0.783465\n",
              "\n",
              "[3 rows x 8 columns]"
            ]
          },
          "execution_count": 113,
          "metadata": {},
          "output_type": "execute_result"
        }
      ],
      "source": [
        "all_model_results = pd.DataFrame({\"0_baseline\": model_0_results,\n",
        "                                 \"1_simple_dense\": model_1_results,\n",
        "                                 \"2_lstm\": model_2_results,\n",
        "                                 \"3_gru\": model_3_results,\n",
        "                                 \"4_bidirectional\": model_4_results,\n",
        "                                 \"5_conv1d\": model_5_results,\n",
        "                                 \"6_use\": model_6_results,\n",
        "                                 \"7_use_10_percent\": model_7_results})\n",
        "all_model_results.head(3)"
      ]
    },
    {
      "cell_type": "code",
      "execution_count": null,
      "metadata": {
        "colab": {
          "base_uri": "https://localhost:8080/",
          "height": 300
        },
        "id": "GHCNOezJodjo",
        "outputId": "91914844-087f-4604-ace3-0be1a1a17b6e"
      },
      "outputs": [
        {
          "data": {
            "text/html": [
              "<div>\n",
              "<style scoped>\n",
              "    .dataframe tbody tr th:only-of-type {\n",
              "        vertical-align: middle;\n",
              "    }\n",
              "\n",
              "    .dataframe tbody tr th {\n",
              "        vertical-align: top;\n",
              "    }\n",
              "\n",
              "    .dataframe thead th {\n",
              "        text-align: right;\n",
              "    }\n",
              "</style>\n",
              "<table border=\"1\" class=\"dataframe\">\n",
              "  <thead>\n",
              "    <tr style=\"text-align: right;\">\n",
              "      <th></th>\n",
              "      <th>accuracy</th>\n",
              "      <th>precision</th>\n",
              "      <th>recall</th>\n",
              "      <th>f1</th>\n",
              "    </tr>\n",
              "  </thead>\n",
              "  <tbody>\n",
              "    <tr>\n",
              "      <th>0_baseline</th>\n",
              "      <td>79.265092</td>\n",
              "      <td>0.811139</td>\n",
              "      <td>0.792651</td>\n",
              "      <td>0.786219</td>\n",
              "    </tr>\n",
              "    <tr>\n",
              "      <th>1_simple_dense</th>\n",
              "      <td>78.871391</td>\n",
              "      <td>0.795344</td>\n",
              "      <td>0.788714</td>\n",
              "      <td>0.785215</td>\n",
              "    </tr>\n",
              "    <tr>\n",
              "      <th>2_lstm</th>\n",
              "      <td>78.346457</td>\n",
              "      <td>0.783982</td>\n",
              "      <td>0.783465</td>\n",
              "      <td>0.782225</td>\n",
              "    </tr>\n",
              "    <tr>\n",
              "      <th>3_gru</th>\n",
              "      <td>77.296588</td>\n",
              "      <td>0.775649</td>\n",
              "      <td>0.772966</td>\n",
              "      <td>0.770438</td>\n",
              "    </tr>\n",
              "    <tr>\n",
              "      <th>4_bidirectional</th>\n",
              "      <td>76.640420</td>\n",
              "      <td>0.768433</td>\n",
              "      <td>0.766404</td>\n",
              "      <td>0.764015</td>\n",
              "    </tr>\n",
              "    <tr>\n",
              "      <th>5_conv1d</th>\n",
              "      <td>75.459318</td>\n",
              "      <td>0.754942</td>\n",
              "      <td>0.754593</td>\n",
              "      <td>0.752952</td>\n",
              "    </tr>\n",
              "    <tr>\n",
              "      <th>6_use</th>\n",
              "      <td>81.496063</td>\n",
              "      <td>0.818637</td>\n",
              "      <td>0.814961</td>\n",
              "      <td>0.813013</td>\n",
              "    </tr>\n",
              "    <tr>\n",
              "      <th>7_use_10_percent</th>\n",
              "      <td>78.346457</td>\n",
              "      <td>0.784346</td>\n",
              "      <td>0.783465</td>\n",
              "      <td>0.782017</td>\n",
              "    </tr>\n",
              "  </tbody>\n",
              "</table>\n",
              "</div>"
            ],
            "text/plain": [
              "                   accuracy  precision    recall        f1\n",
              "0_baseline        79.265092   0.811139  0.792651  0.786219\n",
              "1_simple_dense    78.871391   0.795344  0.788714  0.785215\n",
              "2_lstm            78.346457   0.783982  0.783465  0.782225\n",
              "3_gru             77.296588   0.775649  0.772966  0.770438\n",
              "4_bidirectional   76.640420   0.768433  0.766404  0.764015\n",
              "5_conv1d          75.459318   0.754942  0.754593  0.752952\n",
              "6_use             81.496063   0.818637  0.814961  0.813013\n",
              "7_use_10_percent  78.346457   0.784346  0.783465  0.782017"
            ]
          },
          "execution_count": 114,
          "metadata": {},
          "output_type": "execute_result"
        }
      ],
      "source": [
        "all_model_results = all_model_results.transpose()\n",
        "all_model_results"
      ]
    },
    {
      "cell_type": "code",
      "execution_count": null,
      "metadata": {
        "colab": {
          "base_uri": "https://localhost:8080/",
          "height": 300
        },
        "id": "vC1CiXcmovCi",
        "outputId": "e997062c-8ae8-4753-fd82-39260d65c87a"
      },
      "outputs": [
        {
          "data": {
            "text/html": [
              "<div>\n",
              "<style scoped>\n",
              "    .dataframe tbody tr th:only-of-type {\n",
              "        vertical-align: middle;\n",
              "    }\n",
              "\n",
              "    .dataframe tbody tr th {\n",
              "        vertical-align: top;\n",
              "    }\n",
              "\n",
              "    .dataframe thead th {\n",
              "        text-align: right;\n",
              "    }\n",
              "</style>\n",
              "<table border=\"1\" class=\"dataframe\">\n",
              "  <thead>\n",
              "    <tr style=\"text-align: right;\">\n",
              "      <th></th>\n",
              "      <th>accuracy</th>\n",
              "      <th>precision</th>\n",
              "      <th>recall</th>\n",
              "      <th>f1</th>\n",
              "    </tr>\n",
              "  </thead>\n",
              "  <tbody>\n",
              "    <tr>\n",
              "      <th>0_baseline</th>\n",
              "      <td>0.792651</td>\n",
              "      <td>0.811139</td>\n",
              "      <td>0.792651</td>\n",
              "      <td>0.786219</td>\n",
              "    </tr>\n",
              "    <tr>\n",
              "      <th>1_simple_dense</th>\n",
              "      <td>0.788714</td>\n",
              "      <td>0.795344</td>\n",
              "      <td>0.788714</td>\n",
              "      <td>0.785215</td>\n",
              "    </tr>\n",
              "    <tr>\n",
              "      <th>2_lstm</th>\n",
              "      <td>0.783465</td>\n",
              "      <td>0.783982</td>\n",
              "      <td>0.783465</td>\n",
              "      <td>0.782225</td>\n",
              "    </tr>\n",
              "    <tr>\n",
              "      <th>3_gru</th>\n",
              "      <td>0.772966</td>\n",
              "      <td>0.775649</td>\n",
              "      <td>0.772966</td>\n",
              "      <td>0.770438</td>\n",
              "    </tr>\n",
              "    <tr>\n",
              "      <th>4_bidirectional</th>\n",
              "      <td>0.766404</td>\n",
              "      <td>0.768433</td>\n",
              "      <td>0.766404</td>\n",
              "      <td>0.764015</td>\n",
              "    </tr>\n",
              "    <tr>\n",
              "      <th>5_conv1d</th>\n",
              "      <td>0.754593</td>\n",
              "      <td>0.754942</td>\n",
              "      <td>0.754593</td>\n",
              "      <td>0.752952</td>\n",
              "    </tr>\n",
              "    <tr>\n",
              "      <th>6_use</th>\n",
              "      <td>0.814961</td>\n",
              "      <td>0.818637</td>\n",
              "      <td>0.814961</td>\n",
              "      <td>0.813013</td>\n",
              "    </tr>\n",
              "    <tr>\n",
              "      <th>7_use_10_percent</th>\n",
              "      <td>0.783465</td>\n",
              "      <td>0.784346</td>\n",
              "      <td>0.783465</td>\n",
              "      <td>0.782017</td>\n",
              "    </tr>\n",
              "  </tbody>\n",
              "</table>\n",
              "</div>"
            ],
            "text/plain": [
              "                  accuracy  precision    recall        f1\n",
              "0_baseline        0.792651   0.811139  0.792651  0.786219\n",
              "1_simple_dense    0.788714   0.795344  0.788714  0.785215\n",
              "2_lstm            0.783465   0.783982  0.783465  0.782225\n",
              "3_gru             0.772966   0.775649  0.772966  0.770438\n",
              "4_bidirectional   0.766404   0.768433  0.766404  0.764015\n",
              "5_conv1d          0.754593   0.754942  0.754593  0.752952\n",
              "6_use             0.814961   0.818637  0.814961  0.813013\n",
              "7_use_10_percent  0.783465   0.784346  0.783465  0.782017"
            ]
          },
          "execution_count": 115,
          "metadata": {},
          "output_type": "execute_result"
        }
      ],
      "source": [
        "# make accuracy to same scale as the rest of metrics\n",
        "all_model_results[\"accuracy\"] = all_model_results[\"accuracy\"] / 100\n",
        "all_model_results"
      ]
    },
    {
      "cell_type": "markdown",
      "metadata": {
        "id": "TaqN6H7FpwWE"
      },
      "source": [
        "## i).Plot all the model results"
      ]
    },
    {
      "cell_type": "code",
      "execution_count": null,
      "metadata": {
        "colab": {
          "base_uri": "https://localhost:8080/",
          "height": 527
        },
        "id": "jmRal8fopMT6",
        "outputId": "557f6a83-5904-4b6b-a894-323696c42e6e"
      },
      "outputs": [
        {
          "data": {
            "text/plain": [
              "<matplotlib.legend.Legend at 0x7f50a24e1390>"
            ]
          },
          "execution_count": 116,
          "metadata": {},
          "output_type": "execute_result"
        },
        {
          "data": {
            "image/png": "[encoded data removed]",
            "text/plain": [
              "<Figure size 720x504 with 1 Axes>"
            ]
          },
          "metadata": {},
          "output_type": "display_data"
        }
      ],
      "source": [
        "# plot and compare all the model results\n",
        "all_model_results.plot(kind=\"bar\", figsize=(10,7)).legend(bbox_to_anchor=(1.0, 1.0))"
      ]
    },
    {
      "cell_type": "code",
      "execution_count": null,
      "metadata": {
        "colab": {
          "base_uri": "https://localhost:8080/",
          "height": 527
        },
        "id": "y2p_2IpVqbh0",
        "outputId": "b93b8c58-72af-4634-e3c9-5c6b0b263010"
      },
      "outputs": [
        {
          "data": {
            "text/plain": [
              "<matplotlib.axes._subplots.AxesSubplot at 0x7f50a24e13d0>"
            ]
          },
          "execution_count": 117,
          "metadata": {},
          "output_type": "execute_result"
        },
        {
          "data": {
            "image/png": "[encoded data removed]",
            "text/plain": [
              "<Figure size 720x504 with 1 Axes>"
            ]
          },
          "metadata": {},
          "output_type": "display_data"
        }
      ],
      "source": [
        "# sort model results by f1-scores\n",
        "all_model_results.sort_values(\"f1\", ascending=False)[\"f1\"].plot(kind=\"bar\", figsize=(10,7))"
      ]
    },
    {
      "cell_type": "markdown",
      "metadata": {
        "id": "qcvJ2ZbbrYLM"
      },
      "source": [
        "# Uploading our Training Logs to TensorBoard.dev\n",
        "\n"
      ]
    },
    {
      "cell_type": "code",
      "execution_count": null,
      "metadata": {
        "colab": {
          "background_save": true,
          "base_uri": "https://localhost:8080/"
        },
        "id": "K67mrmPC2ICA",
        "outputId": "63653bed-584c-4d43-fbde-d4919a3120cd"
      },
      "outputs": [
        {
          "name": "stdout",
          "output_type": "stream",
          "text": [
            "2021-09-13 12:31:29.242838: I tensorflow/stream_executor/cuda/cuda_gpu_executor.cc:937] successful NUMA node read from SysFS had negative value (-1), but there must be at least one NUMA node, so returning NUMA node zero\n",
            "2021-09-13 12:31:29.269040: I tensorflow/stream_executor/cuda/cuda_gpu_executor.cc:937] successful NUMA node read from SysFS had negative value (-1), but there must be at least one NUMA node, so returning NUMA node zero\n",
            "2021-09-13 12:31:29.269620: I tensorflow/stream_executor/cuda/cuda_gpu_executor.cc:937] successful NUMA node read from SysFS had negative value (-1), but there must be at least one NUMA node, so returning NUMA node zero\n",
            "\n",
            "***** TensorBoard Uploader *****\n",
            "\n",
            "This will upload your TensorBoard logs to https://tensorboard.dev/ from\n",
            "the following directory:\n",
            "\n",
            "./models/\n",
            "\n",
            "This TensorBoard will be visible to everyone. Do not upload sensitive\n",
            "data.\n",
            "\n",
            "Your use of this service is subject to Google's Terms of Service\n",
            "<https://policies.google.com/terms> and Privacy Policy\n",
            "<https://policies.google.com/privacy>, and TensorBoard.dev's Terms of Service\n",
            "<https://tensorboard.dev/policy/terms/>.\n",
            "\n",
            "This notice will not be shown again while you are logged into the uploader.\n",
            "To log out, run `tensorboard dev auth revoke`.\n",
            "\n",
            "Continue? (yes/NO) "
          ]
        }
      ],
      "source": [
        "# Upload the TensorBoard dev records\n",
        "! tensorboard dev upload  --logdir ./models/ \\\n",
        "  --name \"NLP Modelling Experiments\" \\\n",
        "  --one_shot # Exit the uploader once uploading is finished"
      ]
    },
    {
      "cell_type": "markdown",
      "metadata": {
        "id": "UF1SrPCC1itL"
      },
      "source": [
        "**Resources:** TensorBoard is great for quickly tracking experiment but for larger scale experiment and whole bunch of tracking options, check out [Weight and Biases](https://wandb.ai/home)"
      ]
    },
    {
      "cell_type": "markdown",
      "metadata": {
        "id": "HpOoScBCsG6Q"
      },
      "source": [
        "# Finding the most Wrong Prediction\n",
        "\n",
        "* If our best model still isn't perfect, what examples is it getting wrong\n",
        "* And of these wrong examples which ones is getting *most* wrong (those will prediction probabilites closest to the opposite class)\n",
        "\n",
        "For example if a class should have a label of 0 but out model predicts a prediction probability of 0.999 (really close to one) or vice versa."
      ]
    },
    {
      "cell_type": "code",
      "execution_count": null,
      "metadata": {
        "id": "W7MKRvcp2oEZ"
      },
      "outputs": [],
      "source": [
        "# Download the pretrained model\n",
        "! wget https://storage.googleapis.com/ztm_tf_course/08_model_6_USE_feature_extractor.zip"
      ]
    },
    {
      "cell_type": "code",
      "execution_count": null,
      "metadata": {
        "id": "hntOBSkXvFM6"
      },
      "outputs": [],
      "source": [
        "unzip_file('08_model_6_USE_feature_extractor.zip')"
      ]
    },
    {
      "cell_type": "code",
      "execution_count": null,
      "metadata": {
        "id": "oJJOXYYDu5PB"
      },
      "outputs": [],
      "source": [
        "# Load the pretrained model\n",
        "pretrained_model = tf.keras.models.load_model(\"08_model_6_USE_feature_extractor\")\n",
        "pretrained_model.evaluate(val_sentences, val_labels)"
      ]
    },
    {
      "cell_type": "code",
      "execution_count": null,
      "metadata": {
        "id": "TydJiCphwp41"
      },
      "outputs": [],
      "source": [
        "# Make predictions\n",
        "pretrained_model_pred_probs = pretrained_model.predict(val_sentences)\n",
        "pretrained_model_pred = tf.squeeze(tf.round(pretrained_model_pred_probs))\n",
        "pretrained_model_pred[:10]"
      ]
    },
    {
      "cell_type": "code",
      "execution_count": null,
      "metadata": {
        "id": "pDh6t2U5xniz"
      },
      "outputs": [],
      "source": [
        "pretrained_model_pred_probs.shape"
      ]
    },
    {
      "cell_type": "code",
      "execution_count": null,
      "metadata": {
        "id": "IMxV_BiuvgJW"
      },
      "outputs": [],
      "source": [
        "# Create DataFrame with validation sentences and best performing model prediction\n",
        "val_df = pd.DataFrame({\"text\": val_sentences,\n",
        "                       \"target\": val_labels,\n",
        "                       \"pred\": pretrained_model_pred,\n",
        "                       \"pred_probs\": tf.squeeze(pretrained_model_pred_probs)})\n",
        "val_df[:10]"
      ]
    },
    {
      "cell_type": "code",
      "execution_count": null,
      "metadata": {
        "id": "jGg4YycLxjGD"
      },
      "outputs": [],
      "source": [
        "# Find the wrong prediction and sort according to pred_probs\n",
        "most_wrong = val_df[val_df[\"pred\"] != val_df[\"target\"]].sort_values(\"pred_probs\", ascending=False)\n",
        "most_wrong.head() # These are False positive"
      ]
    },
    {
      "cell_type": "code",
      "execution_count": null,
      "metadata": {
        "id": "r6x1fO6ayIhN"
      },
      "outputs": [],
      "source": [
        "most_wrong.tail() # These are False Negative"
      ]
    },
    {
      "cell_type": "markdown",
      "metadata": {
        "id": "2n0qifor-fXx"
      },
      "source": [
        "## i).Check False Positive"
      ]
    },
    {
      "cell_type": "code",
      "execution_count": null,
      "metadata": {
        "id": "-I4D3zo_yga0"
      },
      "outputs": [],
      "source": [
        "# Check the Fasle positive (Predicted 1 True 0)\n",
        "for row in most_wrong[:10].itertuples():\n",
        "  _,text, target, pred, pred_probs = row\n",
        "  print(f\"Target: {target}, Prediction: {pred}, pred_probs: {pred_probs}\")\n",
        "  print(f\"\\n{text}\")\n",
        "  print(f\"\\n\\n-----\")"
      ]
    },
    {
      "cell_type": "markdown",
      "metadata": {
        "id": "0N1bUBlP-kaE"
      },
      "source": [
        "## ii).Check False Negative"
      ]
    },
    {
      "cell_type": "code",
      "execution_count": null,
      "metadata": {
        "id": "ByMjeRNt9M1y"
      },
      "outputs": [],
      "source": [
        "# Check the false Negative (predicted 0 predicted 1)\n",
        "for row in most_wrong[-10:].itertuples():\n",
        "  _, text, target, pred, pred_probs = row\n",
        "  print(f\"Tareget: {target}, Prediction: {pred}, Pred_Probs: {pred_probs}\")\n",
        "  print(f\"\\n{text}\")\n",
        "  print(f\"\\n\\n-----\")"
      ]
    },
    {
      "cell_type": "markdown",
      "metadata": {
        "id": "D7JNowkjYstH"
      },
      "source": [
        "# Make Prediction on Test Dataset"
      ]
    },
    {
      "cell_type": "code",
      "execution_count": null,
      "metadata": {
        "id": "4f0EMTwH-XRu"
      },
      "outputs": [],
      "source": [
        "# Making Prediction on Test dataset and visualizing them \n",
        "test_sentences = test_df[\"text\"].to_list()\n",
        "test_samples = random.sample(test_sentences, 10)\n",
        "for sample in test_samples:\n",
        "  pred_prob = tf.squeeze(pretrained_model.predict([sample]))\n",
        "  pred = tf.round(pred_prob)\n",
        "  print(f\"Pred: {int(pred)}, Prob: {pred_prob}\")\n",
        "  print(f\"{sample}\")\n",
        "  print(f\"\\n------\")"
      ]
    },
    {
      "cell_type": "markdown",
      "metadata": {
        "id": "MM1LaQRNxmqn"
      },
      "source": [
        "# The Speed/Score Trade off"
      ]
    },
    {
      "cell_type": "code",
      "execution_count": null,
      "metadata": {
        "id": "kzCyzC06aHnL"
      },
      "outputs": [],
      "source": [
        "# Lets make a function to measure the time of prediction\n",
        "import time\n",
        "\n",
        "def pred_timer(model, sample):\n",
        "  \"\"\"\n",
        "  Times how long a model takes to make predictions\n",
        "  \"\"\"\n",
        "  start_time = time.perf_counter()\n",
        "  model.predict(sample)\n",
        "  end_time = time.perf_counter()\n",
        "  total_time = end_time-start_time\n",
        "  time_per_pred = total_time/len(sample)\n",
        "\n",
        "  return total_time, time_per_pred"
      ]
    },
    {
      "cell_type": "code",
      "execution_count": null,
      "metadata": {
        "id": "7ziMPdWNzjxY"
      },
      "outputs": [],
      "source": [
        "# Calculate TF Hub Sentence Encoder time per pred\n",
        "model_6_total_time, model_6_time_per_pred = pred_timer(model=model_6,\n",
        "                                                       sample=val_sentences)\n",
        "model_6_total_time, model_6_time_per_pred"
      ]
    },
    {
      "cell_type": "code",
      "execution_count": null,
      "metadata": {
        "id": "MaHxZS-g1kLW"
      },
      "outputs": [],
      "source": [
        "# Calculate out baseline model times per pred\n",
        "baseline_total_time, baseline_time_per_pred = pred_timer(model=baseline,\n",
        "                                                          sample=val_senteces)\n",
        "baseline_total_time, baseline_time_per_pred"
      ]
    },
    {
      "cell_type": "code",
      "execution_count": null,
      "metadata": {
        "id": "yWGk1wY029uQ"
      },
      "outputs": [],
      "source": [
        "import matplotlib.pyplot as plt\n",
        "\n",
        "plt.figure(figsize=(10, 7))\n",
        "plt.scatter(baseline_time_per_pred, baseline_results[\"f1\"], label=\"baseline\")\n",
        "plt.scatter(model_6_time_per_pred, model_6_results[\"f1\"], label=\"baseline\")\n",
        "plt.legend()\n",
        "plt.title(\"F1 score vs time per prediction\")\n",
        "plt.xlabel(\"Time Per Prediction\")\n",
        "plt.ylabel(\"f1-score\")"
      ]
    },
    {
      "cell_type": "markdown",
      "metadata": {
        "id": "zF-VRQ3SoUtY"
      },
      "source": [
        "# > **Finding 101** <\n",
        "\n",
        "#  The Formation of the traning data is very important in modelling. \n",
        "\n",
        "Data experts warn that even an insignificant error possesses a substantial negative impact.\n",
        "\n",
        " The data is biased. When bias gets into the data used by machine learning for training, data integrity is compromised, and predictions become inaccurate."
      ]
    },
    {
      "cell_type": "markdown",
      "metadata": {
        "id": "I6Vq_mNV6190"
      },
      "source": [
        "-----\n",
        "# ***Exercise***"
      ]
    },
    {
      "cell_type": "code",
      "execution_count": null,
      "metadata": {
        "id": "evozdXjdvBr4"
      },
      "outputs": [],
      "source": [
        "import tensorflow as tf\n",
        "import pandas as pd\n",
        "import numpy as np\n",
        "import zipfile"
      ]
    },
    {
      "cell_type": "markdown",
      "metadata": {
        "id": "7A2RLO41vqJI"
      },
      "source": [
        "Get Helper Functions"
      ]
    },
    {
      "cell_type": "code",
      "execution_count": null,
      "metadata": {
        "id": "j8QMkuY2vLnN"
      },
      "outputs": [],
      "source": [
        "def unzip_file(file_name):\n",
        "  import zipfile\n",
        "\n",
        "  zip_ref = zipfile.ZipFile(file_name)\n",
        "  zip_ref.extractall()\n",
        "  zip_ref.close()\n",
        "\n",
        "def create_tensorboard_callback(dir_name, experiment_name):\n",
        "  \"\"\"\n",
        "  \"\"\"\n",
        "  log_dir = dir_name + \"/\" + experiment_name + \"/\" + datetime.datetime.now().strftime(\"%D%M%Y-%h%m%s\")\n",
        "  create_tensorboard_callback = tf.keras.callbacks.TensorBoard(log_dir=log_dir)\n",
        "\n",
        "  return create_tensorboard_callback"
      ]
    },
    {
      "cell_type": "markdown",
      "metadata": {
        "id": "Fq4t0_F7vpkq"
      },
      "source": [
        "Imort The Data and preprocess it for Training"
      ]
    },
    {
      "cell_type": "code",
      "execution_count": null,
      "metadata": {
        "id": "GQh6Y8eEvo7H"
      },
      "outputs": [],
      "source": [
        "!wget https://storage.googleapis.com/ztm_tf_course/nlp_getting_started.zip"
      ]
    },
    {
      "cell_type": "code",
      "execution_count": null,
      "metadata": {
        "id": "mPbptjAvv8UF"
      },
      "outputs": [],
      "source": [
        "unzip_file(\"nlp_getting_started.zip\")"
      ]
    },
    {
      "cell_type": "code",
      "execution_count": null,
      "metadata": {
        "id": "ZNJfUdg6wJDh"
      },
      "outputs": [],
      "source": [
        "train_df = pd.read_csv(\"train.csv\")\n",
        "test_df = pd.read_csv(\"test.csv\")\n",
        "test_df.head()"
      ]
    },
    {
      "cell_type": "code",
      "execution_count": null,
      "metadata": {
        "id": "At6W_PZcwJc8"
      },
      "outputs": [],
      "source": [
        "train_data = train_df[[\"text\",\"target\"]]\n",
        "test_data = test_df[[\"text\"]]\n",
        "train_data.head()"
      ]
    },
    {
      "cell_type": "markdown",
      "metadata": {
        "id": "UwIR31mKFfL_"
      },
      "source": [
        "Use train_test_split to Divide the data (shuffled automatically so model doesn't learn any patterns)"
      ]
    },
    {
      "cell_type": "code",
      "execution_count": null,
      "metadata": {
        "id": "V42vYBtSFsPk"
      },
      "outputs": [],
      "source": [
        "from sklearn.model_selection import train_test_split\n",
        "\n",
        "train_sentences, val_sentences, train_labels, val_labels = train_test_split(train_data[\"text\"].to_numpy(),\n",
        "                                                                            train_data[\"target\"].to_numpy(),\n",
        "                                                                            test_size=0.1,\n",
        "                                                                            random_state=42) "
      ]
    },
    {
      "cell_type": "code",
      "execution_count": null,
      "metadata": {
        "id": "sKLq8LisIVBJ"
      },
      "outputs": [],
      "source": [
        "len(train_sentences), len(train_labels), len(val_sentences), len(val_labels)"
      ]
    },
    {
      "cell_type": "code",
      "execution_count": null,
      "metadata": {
        "id": "PoKKlOTPLaHz"
      },
      "outputs": [],
      "source": [
        "\n",
        "pd.DataFrame({\"text\": train_sentences,\n",
        "              \"target\": train_labels}).head(50)"
      ]
    },
    {
      "cell_type": "code",
      "execution_count": null,
      "metadata": {
        "id": "2lRbo6aFUlf7"
      },
      "outputs": [],
      "source": [
        "train_data"
      ]
    },
    {
      "cell_type": "code",
      "execution_count": null,
      "metadata": {
        "id": "RrryXVuUspCQ"
      },
      "outputs": [],
      "source": [
        "train_df.target.value_counts()"
      ]
    },
    {
      "cell_type": "code",
      "execution_count": null,
      "metadata": {
        "id": "sk1fN6GFr-pC"
      },
      "outputs": [],
      "source": [
        "# how much examples of each class of target (target-> positive, Negative)\n",
        "pd.DataFrame({\"target\": train_labels}).target.value_counts()"
      ]
    },
    {
      "cell_type": "code",
      "execution_count": null,
      "metadata": {
        "id": "cnz--6j1szWL"
      },
      "outputs": [],
      "source": [
        "pd.DataFrame({\"target\": val_labels}).target.value_counts()"
      ]
    },
    {
      "cell_type": "markdown",
      "metadata": {
        "id": "aT8k08ls640Z"
      },
      "source": [
        "## **Q-1**\n",
        "\n",
        "> Rebuild, compile and train `model_1`, `model_2` and `model_5` using the Keras Sequential API instead of the Functional API."
      ]
    },
    {
      "cell_type": "markdown",
      "metadata": {
        "id": "I01y3xSIvj2P"
      },
      "source": [
        "model_1 Feed-Forward Neural Network"
      ]
    },
    {
      "cell_type": "code",
      "execution_count": null,
      "metadata": {
        "id": "R9CRFMQ9KVHP"
      },
      "outputs": [],
      "source": [
        "max_vocabulary = sum([len(i.split()) for i in train_sentences])\n",
        "average_vocab_size = int(sum([len(i.split()) for i in train_sentences]) / len(train_sentences))\n",
        "\n",
        "max_vocabulary, average_vocab_size"
      ]
    },
    {
      "cell_type": "code",
      "execution_count": null,
      "metadata": {
        "id": "VVCdNk8qJF2j"
      },
      "outputs": [],
      "source": [
        "# Create Vectorizor Layer\n",
        "text_vectorizor = tf.keras.layers.TextVectorization(max_tokens=10000,\n",
        "                                                        standardize=\"lower_and_strip_punctuation\",\n",
        "                                                        ngrams=None,\n",
        "                                                        output_mode=\"int\",\n",
        "                                                        output_sequence_length=15)"
      ]
    },
    {
      "cell_type": "code",
      "execution_count": null,
      "metadata": {
        "id": "aMYuy9iFJFh6"
      },
      "outputs": [],
      "source": [
        "text_vectorizor.adapt(train_sentences)"
      ]
    },
    {
      "cell_type": "code",
      "execution_count": null,
      "metadata": {
        "id": "G62jmtoKO9xH"
      },
      "outputs": [],
      "source": [
        "# create Embedding layer\n",
        "embedding = tf.keras.layers.Embedding(input_dim=10000,\n",
        "                                      output_dim=128,\n",
        "                                      input_length=15)"
      ]
    },
    {
      "cell_type": "code",
      "execution_count": null,
      "metadata": {
        "id": "i_WPk9yF3J1a"
      },
      "outputs": [],
      "source": [
        "# Build the sequential model\n",
        "model_1 = tf.keras.Sequential([\n",
        "         text_vectorizor,\n",
        "         embedding,\n",
        "         tf.keras.layers.GlobalAveragePooling1D(),\n",
        "         tf.keras.layers.Dense(1, activation=\"sigmoid\", name=\"output_layer\")                     \n",
        "])"
      ]
    },
    {
      "cell_type": "code",
      "execution_count": null,
      "metadata": {
        "id": "bCzUB8MNQwnJ"
      },
      "outputs": [],
      "source": [
        "model_1.summary()"
      ]
    },
    {
      "cell_type": "code",
      "execution_count": null,
      "metadata": {
        "id": "zGB6_I3pR6mU"
      },
      "outputs": [],
      "source": [
        "# Compile the model\n",
        "model_1.compile(\n",
        "    loss=tf.keras.losses.BinaryCrossentropy(),\n",
        "    optimizer=tf.keras.optimizers.Adam(),\n",
        "    metrics=[\"accuracy\"]\n",
        ")\n",
        "\n",
        "# fit the model\n",
        "model_1.fit(x=train_sentences, y=train_labels,\n",
        "            epochs=5,\n",
        "            validation_data=(val_sentences, val_labels))"
      ]
    },
    {
      "cell_type": "code",
      "execution_count": null,
      "metadata": {
        "id": "DgSPkiiYS7M-"
      },
      "outputs": [],
      "source": [
        "model_1.evaluate(val_sentences, val_labels)"
      ]
    },
    {
      "cell_type": "markdown",
      "metadata": {
        "id": "4OUXAbFgce6O"
      },
      "source": [
        "model_2"
      ]
    },
    {
      "cell_type": "code",
      "execution_count": null,
      "metadata": {
        "id": "U3keRj5ycejB"
      },
      "outputs": [],
      "source": [
        "# create the LSTM model\n",
        "model_2 = tf.keras.Sequential([\n",
        "      tf.keras.layers.Input(shape=(1,), dtype=tf.string),\n",
        "      text_vectorizor,\n",
        "      embedding,\n",
        "      tf.keras.layers.LSTM(64),\n",
        "      tf.keras.layers.Dense(1, activation=\"sigmoid\")\n",
        "])\n",
        "\n",
        "model_2.summary()"
      ]
    },
    {
      "cell_type": "code",
      "execution_count": null,
      "metadata": {
        "id": "XHS8FsrcTrqG"
      },
      "outputs": [],
      "source": [
        "# compile the model\n",
        "model_2.compile(\n",
        "    loss=tf.keras.losses.BinaryCrossentropy(),\n",
        "    optimizer=tf.keras.optimizers.Adam(),\n",
        "    metrics=[\"accuracy\"]\n",
        ")\n",
        "\n",
        "# fit the model\n",
        "model_2.fit(x=train_sentences, y=train_labels,\n",
        "            epochs=5,\n",
        "            validation_data=(val_sentences, val_labels))"
      ]
    },
    {
      "cell_type": "code",
      "execution_count": null,
      "metadata": {
        "id": "VWjRhXWzeDV_"
      },
      "outputs": [],
      "source": [
        "model_2.evaluate(val_sentences, val_labels)"
      ]
    },
    {
      "cell_type": "markdown",
      "metadata": {
        "id": "xmut02n0eMVl"
      },
      "source": [
        "model_5"
      ]
    },
    {
      "cell_type": "code",
      "execution_count": null,
      "metadata": {
        "id": "VOjlIFmteLd4"
      },
      "outputs": [],
      "source": [
        "# create the model\n",
        "model_5 = tf.keras.Sequential([\n",
        "      tf.keras.layers.Input(shape=(1,), dtype=tf.string),\n",
        "      text_vectorizor,\n",
        "      embedding,\n",
        "      tf.keras.layers.Conv1D(filters=64,\n",
        "                             kernel_size=5,\n",
        "                             strides=1,\n",
        "                             padding=\"valid\"),\n",
        "      tf.keras.layers.GlobalMaxPool1D(),\n",
        "      tf.keras.layers.Dense(1, activation=\"sigmoid\")\n",
        "])\n",
        "\n",
        "model_5.summary()"
      ]
    },
    {
      "cell_type": "code",
      "execution_count": null,
      "metadata": {
        "id": "_nLtxZTbi0BP"
      },
      "outputs": [],
      "source": [
        "# compile the model\n",
        "model_5.compile(\n",
        "    loss=tf.keras.losses.BinaryCrossentropy(),\n",
        "    optimizer=tf.keras.optimizers.Adam(),\n",
        "    metrics=[\"accuracy\"]\n",
        ")\n",
        "\n",
        "# fit the model\n",
        "model_5.fit(x=train_sentences, y=train_labels,\n",
        "            epochs=5,\n",
        "            validation_data=(val_sentences, val_labels))\n"
      ]
    },
    {
      "cell_type": "code",
      "execution_count": null,
      "metadata": {
        "id": "BWEky2IKj_3A"
      },
      "outputs": [],
      "source": [
        "model_5.evaluate(val_sentences, val_labels)"
      ]
    },
    {
      "cell_type": "markdown",
      "metadata": {
        "id": "Bbp_HPrMmpC7"
      },
      "source": [
        "## **Q-2**\n",
        "\n",
        ">Retrain the baseline model with 10% of the training data. How does perform compared to the Universal Sentence Encoder model with 10% of the training data?"
      ]
    },
    {
      "cell_type": "code",
      "execution_count": null,
      "metadata": {
        "id": "NjOJmoyrks_n"
      },
      "outputs": [],
      "source": [
        "# Make 10% training and val data\n",
        "import random\n",
        "\n",
        "split_10_per = int(0.1 * len(train_sentences))\n",
        "\n",
        "train_sentences_10 = train_sentences[:split_10_per]\n",
        "train_labels_10 = train_labels[:split_10_per]\n",
        "\n",
        "len(train_sentences_10), len(train_labels_10)"
      ]
    },
    {
      "cell_type": "code",
      "execution_count": null,
      "metadata": {
        "id": "xyEd-RuvwISi"
      },
      "outputs": [],
      "source": [
        "# Build the naive bayes model\n",
        "\n",
        "from sklearn.feature_extraction.text import TfidfVectorizer\n",
        "from sklearn.naive_bayes import MultinomialNB\n",
        "from sklearn.pipeline import Pipeline\n",
        "\n",
        "baseline = Pipeline([\n",
        "    \n",
        "    (\"tfidf\", TfidfVectorizer()),\n",
        "    (\"NB\", MultinomialNB())\n",
        "])\n",
        "\n",
        "baseline.fit(train_sentences_10,\n",
        "             train_labels_10)"
      ]
    },
    {
      "cell_type": "code",
      "execution_count": null,
      "metadata": {
        "id": "_V68ddRrxU8b"
      },
      "outputs": [],
      "source": [
        "baseline.score(val_sentences, val_labels)"
      ]
    },
    {
      "cell_type": "markdown",
      "metadata": {
        "id": "x1rbEpKi1UHB"
      },
      "source": [
        "## **Q-3**\n",
        "\n",
        ">Try fine-tuning the TF Hub Universal Sentence Encoder model by setting training=True when instantiating it as a Keras layer."
      ]
    },
    {
      "cell_type": "code",
      "execution_count": null,
      "metadata": {
        "id": "GRnvW4S0zyff"
      },
      "outputs": [],
      "source": [
        "import tensorflow_hub as hub\n",
        "\n",
        "sentence_encoder_layer = hub.KerasLayer(\"https://tfhub.dev/google/universal-sentence-encoder/4\",\n",
        "                                        trainable=True,\n",
        "                                        input_shape=[],\n",
        "                                        dtype=tf.string)"
      ]
    },
    {
      "cell_type": "code",
      "execution_count": null,
      "metadata": {
        "id": "qK-I-N5A1xBt"
      },
      "outputs": [],
      "source": [
        "# Build the model\n",
        "model = tf.keras.Sequential([\n",
        "                  sentence_encoder_layer,\n",
        "                  tf.keras.layers.Dense(1, activation=\"sigmoid\")\n",
        "])\n",
        "\n",
        "model.summary()"
      ]
    },
    {
      "cell_type": "code",
      "execution_count": null,
      "metadata": {
        "id": "OIK9PPmZ2cDL"
      },
      "outputs": [],
      "source": [
        "# compile the model\n",
        "model.compile(\n",
        "    loss=tf.keras.losses.BinaryCrossentropy(),\n",
        "    optimizer=tf.keras.optimizers.Adam(),\n",
        "    metrics=[\"accuracy\"]\n",
        ")\n",
        "\n",
        "# fit the model\n",
        "model.fit(x=train_sentences, y=train_labels,\n",
        "          epochs=5,\n",
        "          validation_data=(val_sentences, val_labels))"
      ]
    },
    {
      "cell_type": "code",
      "execution_count": null,
      "metadata": {
        "id": "MmFjlHSm23FV"
      },
      "outputs": [],
      "source": [
        "model.evaluate(val_sentences, val_labels)"
      ]
    },
    {
      "cell_type": "markdown",
      "metadata": {
        "id": "7z6A0givJDFr"
      },
      "source": [
        "## **Q-4**\n",
        "\n",
        "> Retrain the best model you've got so far on the whole training set (no validation split). Then use this trained model to make predictions on the test dataset and format the predictions into the same format as the sample_submission.csv file from Kaggle (see the Files tab in Colab for what the sample_submission.csv file looks like). Once you've done this, make a submission to the Kaggle competition, how did your model perform?"
      ]
    },
    {
      "cell_type": "code",
      "execution_count": null,
      "metadata": {
        "id": "TD8EXSTgRGwY"
      },
      "outputs": [],
      "source": [
        "# Shuffle the original Training Data\n",
        "train_data_shuffled = train_data.sample(frac=1, random_state=42)"
      ]
    },
    {
      "cell_type": "code",
      "execution_count": null,
      "metadata": {
        "id": "IHaruaYlNmaH"
      },
      "outputs": [],
      "source": [
        "# Extract text and target from the shuffled training data\n",
        "train_seq = train_data_shuffled[\"text\"].to_numpy()\n",
        "train_lab = train_data_shuffled[\"target\"].to_numpy()\n",
        "\n",
        "# conver the pandas DataFrame into numpy array\n",
        "test_ds = test_data.to_numpy()\n",
        "# remove (1,) dimension from test_ds\n",
        "test_ds = np.array(tf.squeeze(test_ds))\n",
        "\n",
        "test_ds,train_seq"
      ]
    },
    {
      "cell_type": "code",
      "execution_count": null,
      "metadata": {
        "id": "cS5bkOCISC69"
      },
      "outputs": [],
      "source": [
        "train_lab[:10]"
      ]
    },
    {
      "cell_type": "code",
      "execution_count": null,
      "metadata": {
        "id": "lPKZEvn4PhUA"
      },
      "outputs": [],
      "source": [
        "train_seq.shape, train_seq.shape, test_ds.shape"
      ]
    },
    {
      "cell_type": "code",
      "execution_count": null,
      "metadata": {
        "id": "m9jIZmMuNKOh"
      },
      "outputs": [],
      "source": [
        "# Make USE (Universal Sequence Encoder) Layer \n",
        "import tensorflow_hub as hub\n",
        "\n",
        "sentence_encoder_layer = hub.KerasLayer(\"https://tfhub.dev/google/universal-sentence-encoder/4\",\n",
        "                                        trainable=True,\n",
        "                                        input_shape=[],\n",
        "                                        dtype=tf.string)"
      ]
    },
    {
      "cell_type": "code",
      "execution_count": null,
      "metadata": {
        "id": "3vfYArFoNNFJ"
      },
      "outputs": [],
      "source": [
        "# Build the model\n",
        "model = tf.keras.Sequential([\n",
        "                  sentence_encoder_layer,\n",
        "                  tf.keras.layers.Dense(1, activation=\"sigmoid\")\n",
        "])\n",
        "\n",
        "# Get model summary\n",
        "model.summary()"
      ]
    },
    {
      "cell_type": "code",
      "execution_count": null,
      "metadata": {
        "id": "DLnP9JYwNPKN"
      },
      "outputs": [],
      "source": [
        "# compile the model\n",
        "model.compile(\n",
        "    loss=tf.keras.losses.BinaryCrossentropy(),\n",
        "    optimizer=tf.keras.optimizers.Adam(),\n",
        "    metrics=[\"accuracy\"]\n",
        ")\n",
        "\n",
        "# fit the model\n",
        "model.fit(train_seq, train_lab,\n",
        "          epochs=5)"
      ]
    },
    {
      "cell_type": "code",
      "execution_count": null,
      "metadata": {
        "id": "_FTErP9zQNmf"
      },
      "outputs": [],
      "source": [
        "# Make predictions\n",
        "y_pred_probs = model.predict(test_ds)"
      ]
    },
    {
      "cell_type": "code",
      "execution_count": null,
      "metadata": {
        "id": "yuNlCWPdQg2y"
      },
      "outputs": [],
      "source": [
        "y_pred_probs[:10]"
      ]
    },
    {
      "cell_type": "code",
      "execution_count": null,
      "metadata": {
        "id": "nnYYzGMQQljW"
      },
      "outputs": [],
      "source": [
        "# remove dimension and round off the prediction probabilites\n",
        "y_pred = tf.squeeze(tf.round(y_pred_probs))"
      ]
    },
    {
      "cell_type": "code",
      "execution_count": null,
      "metadata": {
        "id": "qH_lPLthUehV"
      },
      "outputs": [],
      "source": [
        "y_pred[:10]"
      ]
    },
    {
      "cell_type": "code",
      "execution_count": null,
      "metadata": {
        "id": "eHv618JYJC0n"
      },
      "outputs": [],
      "source": [
        "# conver the submission.csv file into pandas DataFrame\n",
        "sub = pd.read_csv(\"sample_submission.csv\")"
      ]
    },
    {
      "cell_type": "code",
      "execution_count": null,
      "metadata": {
        "id": "H8YDcaQ4JLkI"
      },
      "outputs": [],
      "source": [
        "# Visualize the submission pattern\n",
        "sub.head()"
      ]
    },
    {
      "cell_type": "code",
      "execution_count": null,
      "metadata": {
        "id": "aGhjngg3NVnI"
      },
      "outputs": [],
      "source": [
        "# Make the submission DataFrame\n",
        "submission = pd.DataFrame({\"id\": sub[\"id\"],\n",
        "                           \"target\": y_pred})"
      ]
    },
    {
      "cell_type": "code",
      "execution_count": null,
      "metadata": {
        "id": "oBafSCEGVlDn"
      },
      "outputs": [],
      "source": [
        "submission.head()"
      ]
    },
    {
      "cell_type": "code",
      "execution_count": null,
      "metadata": {
        "id": "oO-fhRxXVrCk"
      },
      "outputs": [],
      "source": [
        "# Convert submission DataFrame into csv file\n",
        "submission.to_csv(\"my_submission.csv\")"
      ]
    },
    {
      "cell_type": "markdown",
      "metadata": {
        "id": "4rmaeX6xZjhQ"
      },
      "source": [
        "## **Q-5**\n",
        "\n",
        "> Combine the ensemble predictions using the majority vote (also known as Hard voting), how does this perform compare to averaging the prediction probabilities of each model?"
      ]
    },
    {
      "cell_type": "code",
      "execution_count": null,
      "metadata": {
        "id": "IoESZdrDZYzm"
      },
      "outputs": [],
      "source": [
        "from sklearn.ensemble import VotingClassifier"
      ]
    },
    {
      "cell_type": "code",
      "execution_count": null,
      "metadata": {
        "id": "LuQj-RahZi4N"
      },
      "outputs": [],
      "source": [
        "# # Get voting ensemble of models\n",
        "# def get_voting():\n",
        "#   models = ()\n",
        "#   models.append((\"naive_bayes\", model_0))\n",
        "#   models.append((\"feed-forward\", model_1))\n",
        "#   models.append((\"lstm\", model_2))\n",
        "#   models.append((\"gru\", model_3))\n",
        "#   models.append((\"bidirectional\", model_4))\n",
        "#   models.append((\"conv1d\", model_5))\n",
        "#   models.append((\"use\", model_6))\n",
        "\n",
        "#   ensemble_result = VotingClassifier(estimators=models,\n",
        "#                                     voting=\"hard\",\n",
        "#                                     flatten_transform=True # works with soft voting only\n",
        "#                                     )\n",
        " \n",
        "#   return ensemble_result"
      ]
    },
    {
      "cell_type": "markdown",
      "metadata": {
        "id": "hsHpRANRnX9z"
      },
      "source": [
        "## **Q-6**\n",
        "\n",
        "> Make a confusion matrix with the best performing model's predictions on the validation set and the validation ground truth labels.\n",
        "\n",
        "\n"
      ]
    },
    {
      "cell_type": "code",
      "execution_count": null,
      "metadata": {
        "id": "B2sfDK_XncWF"
      },
      "outputs": [],
      "source": [
        "from sklearn.metrics import confusion_matrix\n",
        "\n",
        "def plot_confusion_matrix_2(y_test, y_pred):\n",
        "\n",
        "  \"\"\"\n",
        "  Plots the confusion matrix\n",
        "  \"\"\"\n",
        "\n",
        "  import itertools\n",
        "  import tensorflow as tf\n",
        "  import matplotlib.pyplot as plt\n",
        "  import numpy as np\n",
        "  from sklearn.metrics import confusion_matrix\n",
        "\n",
        "  # create the confusion matrix\n",
        "  cm = confusion_matrix(y_test, y_pred)\n",
        "  # normalize the confusion matrix\n",
        "  cm_normal = cm.astype(\"float\") / cm.sum(axis=1)[:, np.newaxis]\n",
        "  classes = cm.shape[0]\n",
        "\n",
        "  # Lets create a pretty graph\n",
        "  fg, ax = plt.subplots(figsize=(10,10))\n",
        "  cax = ax.matshow(cm, cmap=plt.cm.Blues)\n",
        "  fg.colorbar(cax)\n",
        "\n",
        "  # Labeling our graph\n",
        "  ax.set(title=\"Confusion Matrix\",\n",
        "         xlabel=\"Predicted Label\",\n",
        "         ylabel=\"Truth Label\",\n",
        "         xticks=np.arange(classes),\n",
        "         yticks=np.arange(classes),\n",
        "         xticklabels=np.arange(classes),\n",
        "         yticklabels=np.arange(classes))\n",
        "\n",
        "  # set xticks and xtickslabels to bottom\n",
        "  ax.xaxis.tick_bottom()\n",
        "  ax.xaxis.set_label_position(\"bottom\")\n",
        "\n",
        "  # set the labels size\n",
        "  ax.xaxis.label.set_size(18)\n",
        "  ax.yaxis.label.set_size(18)\n",
        "  ax.title.set_size(20)\n",
        "\n",
        "  # printing values on the grah\n",
        "  # setting the threshold value for different colors\n",
        "  threshold = (cm.max() + cm.min()) / 2\n",
        "  for i, j in itertools.product(range(cm.shape[0]), range(cm.shape[1])):\n",
        "    plt.text(j,i, f\"{cm[i,j]}({cm_normal[i,j]*100:.1f}%)\",\n",
        "             horizontalalignment=\"center\",\n",
        "             color=\"white\" if cm[i,j] > threshold else \"black\",\n",
        "             size=15)"
      ]
    },
    {
      "cell_type": "code",
      "execution_count": null,
      "metadata": {
        "id": "OWlgi8xGq7p8"
      },
      "outputs": [],
      "source": [
        "plot_confusion_matrix_2(tf.constant(val_labels), model_6_preds)"
      ]
    },
    {
      "cell_type": "markdown",
      "metadata": {
        "id": "w2DIbO6czCR0"
      },
      "source": [
        "Our model is confused on **False Negative** (true=0, pred=1) **23%** and on **True Negative 14%**\n",
        "\n",
        "\n",
        "------"
      ]
    }
  ],
  "metadata": {
    "accelerator": "GPU",
    "colab": {
      "collapsed_sections": [
        "6tD1dIiMR0e2"
      ],
      "name": "08_NLP_Funndamentals_in_Tensorflow.ipynb",
      "provenance": [],
      "authorship_tag": "ABX9TyM1+Op//mXB0CCQO4/Mrfuy",
      "include_colab_link": true
    },
    "kernelspec": {
      "display_name": "Python 3",
      "name": "python3"
    },
    "language_info": {
      "name": "python"
    }
  },
  "nbformat": 4,
  "nbformat_minor": 0
}