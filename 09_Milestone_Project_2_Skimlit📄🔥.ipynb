{
  "nbformat": 4,
  "nbformat_minor": 0,
  "metadata": {
    "colab": {
      "name": "09_Milestone_Project_2 : Skimlit📄🔥.ipynb",
      "provenance": [],
      "collapsed_sections": [],
      "authorship_tag": "ABX9TyMBvAbr4mRI/54VjnZndo6r",
      "include_colab_link": true
    },
    "kernelspec": {
      "name": "python3",
      "display_name": "Python 3"
    },
    "language_info": {
      "name": "python"
    },
    "accelerator": "GPU"
  },
  "cells": [
    {
      "cell_type": "markdown",
      "metadata": {
        "id": "view-in-github",
        "colab_type": "text"
      },
      "source": [
        "<a href=\"https://colab.research.google.com/github/MalikHasnat1999/ZTM_Tensorflow/blob/master/09_Milestone_Project_2_Skimlit%F0%9F%93%84%F0%9F%94%A5.ipynb\" target=\"_parent\"><img src=\"https://colab.research.google.com/assets/colab-badge.svg\" alt=\"Open In Colab\"/></a>"
      ]
    },
    {
      "cell_type": "markdown",
      "metadata": {
        "id": "MuAtwy2s0Oo_"
      },
      "source": [
        "# Skimlit📄🔥\n",
        "\n",
        "The purpose of this notebook is to build a NLP model to make reading medical abstracts easier.\n",
        "\n",
        "The paper we are replicating is available here: https://arxiv.org/abs/1710.06071\n",
        "\n",
        "And reading through the paper above, we see that the model architecture that they use to achieve their best results is available here: https://arxiv.org/abs/1612.05251\n",
        "\n"
      ]
    },
    {
      "cell_type": "markdown",
      "metadata": {
        "id": "Nz60Vq4EfGd-"
      },
      "source": [
        "# Import Libraries"
      ]
    },
    {
      "cell_type": "code",
      "metadata": {
        "id": "liIKkRB0fFmm"
      },
      "source": [
        "import tensorflow as tf\n",
        "import pandas as pd\n",
        "import numpy as np\n",
        "import matplotlib.pyplot as plt\n",
        "import os"
      ],
      "execution_count": null,
      "outputs": []
    },
    {
      "cell_type": "markdown",
      "metadata": {
        "id": "oS19HrJA1dkx"
      },
      "source": [
        "# Confirm GPU"
      ]
    },
    {
      "cell_type": "code",
      "metadata": {
        "colab": {
          "base_uri": "https://localhost:8080/"
        },
        "id": "KzlgEEhu1cwt",
        "outputId": "3b5552da-8381-46cb-fc6c-5adcc9817a50"
      },
      "source": [
        "! nvidia-smi -L "
      ],
      "execution_count": null,
      "outputs": [
        {
          "output_type": "stream",
          "name": "stdout",
          "text": [
            "GPU 0: Tesla K80 (UUID: GPU-d9dc9a69-a102-dfb9-6647-ae26247c1d30)\n"
          ]
        }
      ]
    },
    {
      "cell_type": "markdown",
      "metadata": {
        "id": "m_jNjgOH1FKy"
      },
      "source": [
        "# Helper Functions"
      ]
    },
    {
      "cell_type": "code",
      "metadata": {
        "id": "XUujrdqn1IKw"
      },
      "source": [
        "\n",
        "def evaluate_model(y_true, y_pred):\n",
        "  \"\"\"\n",
        "  Returns:\n",
        "    Model Evaluation Dictionary.\n",
        "  \"\"\"\n",
        "  from sklearn.metrics import accuracy_score, precision_recall_fscore_support\n",
        "  \n",
        "  # calculate the model accuracy_score\n",
        "  model_accuracy = accuracy_score(y_true, y_pred) * 100\n",
        "  # calculate model precision, recall and f1-score using \"weighted\" average\n",
        "  model_precision, model_recall, model_f1,_ = precision_recall_fscore_support(y_true, y_pred, average=\"weighted\")\n",
        "  model_results = {\n",
        "      \"accuracy\": model_accuracy,\n",
        "      \"precision\": model_precision,\n",
        "      \"recall\": model_recall,\n",
        "      \"f1\": model_f1\n",
        "  }\n",
        "\n",
        "  return model_results"
      ],
      "execution_count": null,
      "outputs": []
    },
    {
      "cell_type": "markdown",
      "metadata": {
        "id": "oVFUP8yF1l5y"
      },
      "source": [
        "# Get the Data\n",
        "\n",
        "Since we will be replicating the paper above (PubMed200k RCT), lets download the dataset they used.\n",
        "\n",
        "We can do so from Authors Github repository: https://github.com/Franck-Dernoncourt/pubmed-rct.git"
      ]
    },
    {
      "cell_type": "code",
      "metadata": {
        "colab": {
          "base_uri": "https://localhost:8080/"
        },
        "id": "vFeskdIxeaeC",
        "outputId": "0e0691b4-9290-4022-d017-22cab8a30eee"
      },
      "source": [
        "! git clone https://github.com/Franck-Dernoncourt/pubmed-rct.git"
      ],
      "execution_count": null,
      "outputs": [
        {
          "output_type": "stream",
          "name": "stdout",
          "text": [
            "Cloning into 'pubmed-rct'...\n",
            "remote: Enumerating objects: 33, done.\u001b[K\n",
            "remote: Counting objects: 100% (3/3), done.\u001b[K\n",
            "remote: Compressing objects: 100% (3/3), done.\u001b[K\n",
            "remote: Total 33 (delta 0), reused 0 (delta 0), pack-reused 30\u001b[K\n",
            "Unpacking objects: 100% (33/33), done.\n"
          ]
        }
      ]
    },
    {
      "cell_type": "code",
      "metadata": {
        "colab": {
          "base_uri": "https://localhost:8080/"
        },
        "id": "unnmZil02E0m",
        "outputId": "94169c1a-c108-43d4-a3f4-642273fefe31"
      },
      "source": [
        "# list the pubmed-rct\n",
        "!ls pubmed-rct"
      ],
      "execution_count": null,
      "outputs": [
        {
          "output_type": "stream",
          "name": "stdout",
          "text": [
            "PubMed_200k_RCT\n",
            "PubMed_200k_RCT_numbers_replaced_with_at_sign\n",
            "PubMed_20k_RCT\n",
            "PubMed_20k_RCT_numbers_replaced_with_at_sign\n",
            "README.md\n"
          ]
        }
      ]
    },
    {
      "cell_type": "code",
      "metadata": {
        "colab": {
          "base_uri": "https://localhost:8080/"
        },
        "id": "tRjWfR1J2QvQ",
        "outputId": "60ec8e45-e178-43ec-80ad-ae7957d24611"
      },
      "source": [
        "! ls pubmed-rct/PubMed_20k_RCT_numbers_replaced_with_at_sign"
      ],
      "execution_count": null,
      "outputs": [
        {
          "output_type": "stream",
          "name": "stdout",
          "text": [
            "dev.txt  test.txt  train.txt\n"
          ]
        }
      ]
    },
    {
      "cell_type": "code",
      "metadata": {
        "id": "C3u8Z4e62jeg"
      },
      "source": [
        "# Start our experiment using the 20k dataset with numbers relplaced by \"@\" sign \n",
        "data_dir = \"pubmed-rct/PubMed_20k_RCT_numbers_replaced_with_at_sign\""
      ],
      "execution_count": null,
      "outputs": []
    },
    {
      "cell_type": "code",
      "metadata": {
        "colab": {
          "base_uri": "https://localhost:8080/"
        },
        "id": "smUZBjyV3RhZ",
        "outputId": "ec4c0c33-94d9-48fc-d8a5-53a7026d35f2"
      },
      "source": [
        "# check all the filenames in target directory\n",
        "for filenames in os.listdir(data_dir):\n",
        "  print(data_dir + \"/\" + filenames)"
      ],
      "execution_count": null,
      "outputs": [
        {
          "output_type": "stream",
          "name": "stdout",
          "text": [
            "pubmed-rct/PubMed_20k_RCT_numbers_replaced_with_at_sign/test.txt\n",
            "pubmed-rct/PubMed_20k_RCT_numbers_replaced_with_at_sign/dev.txt\n",
            "pubmed-rct/PubMed_20k_RCT_numbers_replaced_with_at_sign/train.txt\n"
          ]
        }
      ]
    },
    {
      "cell_type": "markdown",
      "metadata": {
        "id": "mSnVtDE_4MIY"
      },
      "source": [
        "# Become one with the Data\n",
        "\n",
        "> Visualize, visualize, visualize!\n",
        "\n",
        "Lets create a function to read in the lines of the .txt doucuments"
      ]
    },
    {
      "cell_type": "code",
      "metadata": {
        "id": "GZNFxVc13x-6"
      },
      "source": [
        "def get_lines(filename):\n",
        "  \"\"\"\n",
        "  Read file name and return the line of text as a list \n",
        "  Args:\n",
        "    filename: string containg the target file\n",
        "  Returns:\n",
        "    A list of strin with one string per line from target filename \n",
        "  \"\"\"\n",
        "  with open(filename, 'r') as f:\n",
        "    return f.readlines()"
      ],
      "execution_count": null,
      "outputs": []
    },
    {
      "cell_type": "code",
      "metadata": {
        "colab": {
          "base_uri": "https://localhost:8080/"
        },
        "id": "5gyKfr4T708s",
        "outputId": "6e6a0969-966d-4882-8497-f1a82dd35d56"
      },
      "source": [
        "# lets read in the training line\n",
        "train_lines = get_lines(data_dir + \"/train.txt\")\n",
        "train_lines[:20]"
      ],
      "execution_count": null,
      "outputs": [
        {
          "output_type": "execute_result",
          "data": {
            "text/plain": [
              "['###24293578\\n',\n",
              " 'OBJECTIVE\\tTo investigate the efficacy of @ weeks of daily low-dose oral prednisolone in improving pain , mobility , and systemic low-grade inflammation in the short term and whether the effect would be sustained at @ weeks in older adults with moderate to severe knee osteoarthritis ( OA ) .\\n',\n",
              " 'METHODS\\tA total of @ patients with primary knee OA were randomized @:@ ; @ received @ mg/day of prednisolone and @ received placebo for @ weeks .\\n',\n",
              " 'METHODS\\tOutcome measures included pain reduction and improvement in function scores and systemic inflammation markers .\\n',\n",
              " 'METHODS\\tPain was assessed using the visual analog pain scale ( @-@ mm ) .\\n',\n",
              " 'METHODS\\tSecondary outcome measures included the Western Ontario and McMaster Universities Osteoarthritis Index scores , patient global assessment ( PGA ) of the severity of knee OA , and @-min walk distance ( @MWD ) .\\n',\n",
              " 'METHODS\\tSerum levels of interleukin @ ( IL-@ ) , IL-@ , tumor necrosis factor ( TNF ) - , and high-sensitivity C-reactive protein ( hsCRP ) were measured .\\n',\n",
              " 'RESULTS\\tThere was a clinically relevant reduction in the intervention group compared to the placebo group for knee pain , physical function , PGA , and @MWD at @ weeks .\\n',\n",
              " 'RESULTS\\tThe mean difference between treatment arms ( @ % CI ) was @ ( @-@ @ ) , p < @ ; @ ( @-@ @ ) , p < @ ; @ ( @-@ @ ) , p < @ ; and @ ( @-@ @ ) , p < @ , respectively .\\n',\n",
              " 'RESULTS\\tFurther , there was a clinically relevant reduction in the serum levels of IL-@ , IL-@ , TNF - , and hsCRP at @ weeks in the intervention group when compared to the placebo group .\\n',\n",
              " 'RESULTS\\tThese differences remained significant at @ weeks .\\n',\n",
              " 'RESULTS\\tThe Outcome Measures in Rheumatology Clinical Trials-Osteoarthritis Research Society International responder rate was @ % in the intervention group and @ % in the placebo group ( p < @ ) .\\n',\n",
              " 'CONCLUSIONS\\tLow-dose oral prednisolone had both a short-term and a longer sustained effect resulting in less knee pain , better physical function , and attenuation of systemic inflammation in older patients with knee OA ( ClinicalTrials.gov identifier NCT@ ) .\\n',\n",
              " '\\n',\n",
              " '###24854809\\n',\n",
              " 'BACKGROUND\\tEmotional eating is associated with overeating and the development of obesity .\\n',\n",
              " 'BACKGROUND\\tYet , empirical evidence for individual ( trait ) differences in emotional eating and cognitive mechanisms that contribute to eating during sad mood remain equivocal .\\n',\n",
              " 'OBJECTIVE\\tThe aim of this study was to test if attention bias for food moderates the effect of self-reported emotional eating during sad mood ( vs neutral mood ) on actual food intake .\\n',\n",
              " 'OBJECTIVE\\tIt was expected that emotional eating is predictive of elevated attention for food and higher food intake after an experimentally induced sad mood and that attentional maintenance on food predicts food intake during a sad versus a neutral mood .\\n',\n",
              " 'METHODS\\tParticipants ( N = @ ) were randomly assigned to one of the two experimental mood induction conditions ( sad/neutral ) .\\n']"
            ]
          },
          "metadata": {},
          "execution_count": 11
        }
      ]
    },
    {
      "cell_type": "markdown",
      "metadata": {
        "id": "pa0YDtcC8OBS"
      },
      "source": [
        "Lets think how we want our data to look \n",
        "\n",
        "```\n",
        "[{\n",
        "  'line_number' : 0,\n",
        "  'target' : 'BACKGROUND',\n",
        "  'text' : 'Emotional eating is associated with overeating and the development of obesity .\\n',\n",
        "  'total_lines' : 11\n",
        "}]\n",
        "```"
      ]
    },
    {
      "cell_type": "markdown",
      "metadata": {
        "id": "IUyCs5Vx7HKs"
      },
      "source": [
        "## i).preprocess_text_with_line_numbers()\n",
        "\n",
        "Lets write a function that convert each of our dataset into above format"
      ]
    },
    {
      "cell_type": "code",
      "metadata": {
        "id": "xgVtEfaU8E5A"
      },
      "source": [
        "def preprocess_text_with_line_numbers(filename):\n",
        "  \"\"\"\n",
        "  Returns a list of dictionaries of abstract line data.\n",
        "\n",
        "  Takes in a filename, reads its content and sort through each line,\n",
        "  extracting things like the target label, the text of the sentence,\n",
        "  how many sentences are in the current abstract and what sentences number \n",
        "  the target line is:\n",
        "  \"\"\"\n",
        "\n",
        "  input_lines = get_lines(filename) # get all lines from the filename\n",
        "  abstract_lines = \"\"               # create an empty abstract\n",
        "  abstract_samples = []             # create an empty list of abstract\n",
        "\n",
        "  # Loop through the each line in the abastract\n",
        "  for line in input_lines:\n",
        "    if line.startswith(\"###\"):\n",
        "      abstract_id = line\n",
        "      abstract_lines = \"\"     # reset the abstract string if line is a 1D line\n",
        "    elif line.isspace():     # check to see is the line is the new line\n",
        "      abstract_line_split = abstract_lines.splitlines() # make a list of seprate lines at eact '\\n'\n",
        "      # Iterate through each line in a single abstract and count them at the same time\n",
        "      for i, abstract_line in enumerate(abstract_line_split):\n",
        "        line_dict = {}      # create an empty dict for each line\n",
        "        target_text_split = abstract_line.split(\"\\t\") # split target and text\n",
        "        line_dict[\"target\"] = target_text_split[0]  # get target label\n",
        "        line_dict[\"text\"] = target_text_split[1].lower()   \n",
        "        line_dict[\"line_number\"] = i\n",
        "        line_dict[\"total_lines\"] = len(abstract_line_split) - 1 # cause starts at 0\n",
        "        abstract_samples.append(line_dict)  \n",
        "\n",
        "    else: # if the above conditions aren't fulfilled, the  line contains a sentence\n",
        "      abstract_lines = abstract_lines + line\n",
        "\n",
        "  return abstract_samples\n",
        "      "
      ],
      "execution_count": null,
      "outputs": []
    },
    {
      "cell_type": "code",
      "metadata": {
        "colab": {
          "base_uri": "https://localhost:8080/"
        },
        "id": "XrJhj85JIYs8",
        "outputId": "9f0fe99b-7206-459e-fcf5-c093d0f0b477"
      },
      "source": [
        "# get data from file and preprocess it \n",
        "%%time\n",
        "train_samples = preprocess_text_with_line_numbers(data_dir+\"/train.txt\")\n",
        "val_samples = preprocess_text_with_line_numbers(data_dir + \"/dev.txt\")\n",
        "test_samples = preprocess_text_with_line_numbers(data_dir + \"/test.txt\")\n",
        "print(len(train_samples), len(val_samples), len(test_samples))"
      ],
      "execution_count": null,
      "outputs": [
        {
          "output_type": "stream",
          "name": "stdout",
          "text": [
            "180040 30212 30135\n",
            "CPU times: user 498 ms, sys: 106 ms, total: 603 ms\n",
            "Wall time: 606 ms\n"
          ]
        }
      ]
    },
    {
      "cell_type": "code",
      "metadata": {
        "colab": {
          "base_uri": "https://localhost:8080/"
        },
        "id": "fkA2_VEJ1vRz",
        "outputId": "21543fa5-633d-4efe-bdbb-b1df07b4d32f"
      },
      "source": [
        "test_samples"
      ],
      "execution_count": null,
      "outputs": [
        {
          "output_type": "execute_result",
          "data": {
            "text/plain": [
              "[{'line_number': 0,\n",
              "  'target': 'BACKGROUND',\n",
              "  'text': 'this study analyzed liver function abnormalities in heart failure patients admitted with severe acute decompensated heart failure ( adhf ) .',\n",
              "  'total_lines': 8},\n",
              " {'line_number': 1,\n",
              "  'target': 'RESULTS',\n",
              "  'text': 'a post hoc analysis was conducted with the use of data from the evaluation study of congestive heart failure and pulmonary artery catheterization effectiveness ( escape ) .',\n",
              "  'total_lines': 8},\n",
              " {'line_number': 2,\n",
              "  'target': 'RESULTS',\n",
              "  'text': 'liver function tests ( lfts ) were measured at @ time points from baseline , at discharge , and up to @ months follow-up .',\n",
              "  'total_lines': 8},\n",
              " {'line_number': 3,\n",
              "  'target': 'RESULTS',\n",
              "  'text': 'survival analyses were used to assess the association between admission model of end-stage liver disease excluding international normalized ratio ( meld-xi ) scores and patient outcome.there was a high prevalence of abnormal baseline ( admission ) lfts ( albumin @ % , aspartate transaminase @ % , alanine transaminase @ % , and total bilirubin @ % ) .',\n",
              "  'total_lines': 8},\n",
              " {'line_number': 4,\n",
              "  'target': 'RESULTS',\n",
              "  'text': \"the percentage of patients with abnormal lfts decreased significantly from baseline to @-months ' follow-up .\",\n",
              "  'total_lines': 8},\n",
              " {'line_number': 5,\n",
              "  'target': 'RESULTS',\n",
              "  'text': 'when mean hemodynamic profiles were compared in patients with abnormal versus normal lfts , elevated total bilirubin was associated with a significantly lower cardiac index ( @ vs @ ; p < @ ) and higher central venous pressure ( @ vs @ ; p = @ ) .',\n",
              "  'total_lines': 8},\n",
              " {'line_number': 6,\n",
              "  'target': 'RESULTS',\n",
              "  'text': 'multivariable analyses revealed that patients with elevated meld-xi scores ( @ ) had a @-fold ( hazard ratio@ @ , @ % confidence interval @-@ @ ) increased risk of death , rehospitalization , or transplantation after adjusting for baseline lfts , age , sex , race , body mass index , diabetes , and systolic blood pressure .',\n",
              "  'total_lines': 8},\n",
              " {'line_number': 7,\n",
              "  'target': 'CONCLUSIONS',\n",
              "  'text': 'abnormal lfts are common in the adhf population and are a dynamic marker of an impaired hemodynamic state .',\n",
              "  'total_lines': 8},\n",
              " {'line_number': 8,\n",
              "  'target': 'CONCLUSIONS',\n",
              "  'text': 'elevated meld-xi scores are associated with poor outcomes among patients admitted with adhf .',\n",
              "  'total_lines': 8},\n",
              " {'line_number': 0,\n",
              "  'target': 'BACKGROUND',\n",
              "  'text': 'minimally invasive endovascular aneurysm repair ( evar ) could be a surgical technique that improves outcome of patients with ruptured abdominal aortic aneurysm ( raaa ) .',\n",
              "  'total_lines': 12},\n",
              " {'line_number': 1,\n",
              "  'target': 'BACKGROUND',\n",
              "  'text': 'the aim of this study was to analyse the cost-effectiveness and cost-utility of evar compared with standard open repair ( or ) in the treatment of raaa , with costs per @-day and @-month survivor as outcome parameters .',\n",
              "  'total_lines': 12},\n",
              " {'line_number': 2,\n",
              "  'target': 'METHODS',\n",
              "  'text': 'resource use was determined from the amsterdam acute aneurysm ( ajax ) trial , a multicentre randomized trial comparing evar with or in patients with raaa .',\n",
              "  'total_lines': 12},\n",
              " {'line_number': 3,\n",
              "  'target': 'METHODS',\n",
              "  'text': 'the analysis was performed from a provider perspective .',\n",
              "  'total_lines': 12},\n",
              " {'line_number': 4,\n",
              "  'target': 'METHODS',\n",
              "  'text': 'all costs were calculated as if all patients had been treated in the same hospital ( onze lieve vrouwe gasthuis , teaching hospital ) .',\n",
              "  'total_lines': 12},\n",
              " {'line_number': 5,\n",
              "  'target': 'RESULTS',\n",
              "  'text': 'a total of @ patients were randomized .',\n",
              "  'total_lines': 12},\n",
              " {'line_number': 6,\n",
              "  'target': 'RESULTS',\n",
              "  'text': 'the @-day mortality rate was @ per cent after evar and @ per cent for or : absolute risk reduction ( arr ) @ ( @ per cent confidence interval ( c.i. ) -@ to @ ) per cent .',\n",
              "  'total_lines': 12},\n",
              " {'line_number': 7,\n",
              "  'target': 'RESULTS',\n",
              "  'text': 'at @months , the total mortality rate for evar was @ per cent , compared with @ per cent among those assigned to or : arr @ ( -@ to @ ) per cent .',\n",
              "  'total_lines': 12},\n",
              " {'line_number': 8,\n",
              "  'target': 'RESULTS',\n",
              "  'text': 'the mean cost difference between evar and or was @ ( @ per cent c.i. -@ to @,@ ) at @days and @,@ ( -@ to @,@ ) at @months .',\n",
              "  'total_lines': 12},\n",
              " {'line_number': 9,\n",
              "  'target': 'RESULTS',\n",
              "  'text': 'the incremental cost-effectiveness ratio per prevented death was @,@ at @days and @,@ at @months .',\n",
              "  'total_lines': 12},\n",
              " {'line_number': 10,\n",
              "  'target': 'RESULTS',\n",
              "  'text': 'there was no significant difference in quality of life between evar and or .',\n",
              "  'total_lines': 12},\n",
              " {'line_number': 11,\n",
              "  'target': 'RESULTS',\n",
              "  'text': 'nor was evar superior regarding cost-utility .',\n",
              "  'total_lines': 12},\n",
              " {'line_number': 12,\n",
              "  'target': 'CONCLUSIONS',\n",
              "  'text': 'evar may be more effective for raaa , but its increased costs mean that it is unaffordable based on current standards of societal willingness-to-pay for health gains .',\n",
              "  'total_lines': 12},\n",
              " {'line_number': 0,\n",
              "  'target': 'BACKGROUND',\n",
              "  'text': 'evidence suggests that individuals with social anxiety demonstrate vigilance to social threat , whilst the peptide hormone oxytocin is widely accepted as supporting affiliative behaviour in humans .',\n",
              "  'total_lines': 8},\n",
              " {'line_number': 1,\n",
              "  'target': 'METHODS',\n",
              "  'text': 'this study investigated whether oxytocin can affect attentional bias in social anxiety .',\n",
              "  'total_lines': 8},\n",
              " {'line_number': 2,\n",
              "  'target': 'METHODS',\n",
              "  'text': 'in a double-blind , randomized , placebo-controlled , within-group study design , @ healthy and @ highly socially anxious ( hsa ) male volunteers ( within the hsa group , @ were diagnosed with generalized social anxiety disorder ) were administered @ iu of oxytocin or placebo to investigate attentional processing in social anxiety .',\n",
              "  'total_lines': 8},\n",
              " {'line_number': 3,\n",
              "  'target': 'METHODS',\n",
              "  'text': 'attentional bias was assessed using the dot-probe paradigm with angry , fearful , happy and neutral face stimuli .',\n",
              "  'total_lines': 8},\n",
              " {'line_number': 4,\n",
              "  'target': 'RESULTS',\n",
              "  'text': 'in the baseline placebo condition , the hsa group showed greater attentional bias for emotional faces than healthy individuals .',\n",
              "  'total_lines': 8},\n",
              " {'line_number': 5,\n",
              "  'target': 'RESULTS',\n",
              "  'text': 'oxytocin reduced the difference between hsa and non-socially anxious individuals in attentional bias for emotional faces .',\n",
              "  'total_lines': 8},\n",
              " {'line_number': 6,\n",
              "  'target': 'RESULTS',\n",
              "  'text': 'moreover , it appeared to normalize attentional bias in hsa individuals to levels seen in the healthy population in the baseline condition .',\n",
              "  'total_lines': 8},\n",
              " {'line_number': 7,\n",
              "  'target': 'RESULTS',\n",
              "  'text': 'the biological mechanisms by which oxytocin may be exerting these effects are discussed .',\n",
              "  'total_lines': 8},\n",
              " {'line_number': 8,\n",
              "  'target': 'CONCLUSIONS',\n",
              "  'text': 'these results , coupled with previous research , could indicate a potential therapeutic use of this hormone in treatment for social anxiety .',\n",
              "  'total_lines': 8},\n",
              " {'line_number': 0,\n",
              "  'target': 'BACKGROUND',\n",
              "  'text': 'exposure to diesel exhaust causes inflammatory responses .',\n",
              "  'total_lines': 12},\n",
              " {'line_number': 1,\n",
              "  'target': 'BACKGROUND',\n",
              "  'text': 'previous controlled exposure studies at a concentration of @ g/m ( @ ) of diesel exhaust particles mainly lasted for @ h.',\n",
              "  'total_lines': 12},\n",
              " {'line_number': 2,\n",
              "  'target': 'BACKGROUND',\n",
              "  'text': 'we prolonged the exposure period and investigated how quickly diesel exhaust can induce respiratory and systemic effects .',\n",
              "  'total_lines': 12},\n",
              " {'line_number': 3,\n",
              "  'target': 'METHODS',\n",
              "  'text': 'eighteen healthy volunteers were exposed twice to diluted diesel exhaust ( pm@ ~ @ g/m ( @ ) ) and twice to filtered air ( pm@ ~ @ g/m ( @ ) ) for @ h , seated , in a chamber with a double-blind set-up .',\n",
              "  'total_lines': 12},\n",
              " {'line_number': 4,\n",
              "  'target': 'METHODS',\n",
              "  'text': 'immediately before and after exposure , we performed a medical examination , spirometry , rhinometry , nasal lavage and blood sampling .',\n",
              "  'total_lines': 12},\n",
              " {'line_number': 5,\n",
              "  'target': 'METHODS',\n",
              "  'text': 'nasal lavage and blood samples were collected again @ h post-exposure .',\n",
              "  'total_lines': 12},\n",
              " {'line_number': 6,\n",
              "  'target': 'METHODS',\n",
              "  'text': 'symptom scores and peak expiratory flow ( pef ) were assessed before exposure , and at @ , @ , and @ min of exposure .',\n",
              "  'total_lines': 12},\n",
              " {'line_number': 7,\n",
              "  'target': 'RESULTS',\n",
              "  'text': 'self-rated throat irritation was higher during diesel exhaust than filtered air exposure .',\n",
              "  'total_lines': 12},\n",
              " {'line_number': 8,\n",
              "  'target': 'RESULTS',\n",
              "  'text': 'clinical signs of irritation in the upper airways were also significantly more common after diesel exhaust exposure ( odds ratio = @ , p < @ ) .',\n",
              "  'total_lines': 12},\n",
              " {'line_number': 9,\n",
              "  'target': 'RESULTS',\n",
              "  'text': 'pef increased during filtered air , but decreased during diesel exhaust exposure , with a statistically significant difference at @ min ( +@ l/min vs. -@ l/min , p = @ ) .',\n",
              "  'total_lines': 12},\n",
              " {'line_number': 10,\n",
              "  'target': 'RESULTS',\n",
              "  'text': 'monocyte and total leukocyte counts in peripheral blood were higher after exposure to diesel exhaust than filtered air @ h post-exposure , and a trend ( p = @ ) towards increased serum il-@ concentrations was also observed @ h post-exposure .',\n",
              "  'total_lines': 12},\n",
              " {'line_number': 11,\n",
              "  'target': 'CONCLUSIONS',\n",
              "  'text': 'diesel exhaust induced acute adverse effects such as symptoms and signs of irritation , decreased pef , inflammatory markers in healthy volunteers .',\n",
              "  'total_lines': 12},\n",
              " {'line_number': 12,\n",
              "  'target': 'CONCLUSIONS',\n",
              "  'text': 'the effects were first seen at @ min of exposure .',\n",
              "  'total_lines': 12},\n",
              " {'line_number': 0,\n",
              "  'target': 'OBJECTIVE',\n",
              "  'text': 'depressive disorders are one of the leading components of the global burden of disease with a prevalence of up to @ % in the general population .',\n",
              "  'total_lines': 13},\n",
              " {'line_number': 1,\n",
              "  'target': 'OBJECTIVE',\n",
              "  'text': 'numerous studies have demonstrated that pharmacotherapy combined with non-pharmacological measures offer the best treatment approach .',\n",
              "  'total_lines': 13},\n",
              " {'line_number': 2,\n",
              "  'target': 'OBJECTIVE',\n",
              "  'text': 'psycho-education as an intervention has been studied mostly in disorders such as schizophrenia and dementia , less so in depressive disorders .',\n",
              "  'total_lines': 13},\n",
              " {'line_number': 3,\n",
              "  'target': 'OBJECTIVE',\n",
              "  'text': 'the present study aimed to assess the impact of psycho-education of patients and their caregivers on the outcome of depression .',\n",
              "  'total_lines': 13},\n",
              " {'line_number': 4,\n",
              "  'target': 'METHODS',\n",
              "  'text': 'a total of @ eligible depressed subjects were recruited and randomised into @ groups .',\n",
              "  'total_lines': 13},\n",
              " {'line_number': 5,\n",
              "  'target': 'METHODS',\n",
              "  'text': 'the study group involved an eligible family member and all were offered individual structured psycho-educational modules .',\n",
              "  'total_lines': 13},\n",
              " {'line_number': 6,\n",
              "  'target': 'METHODS',\n",
              "  'text': 'another group ( controls ) received routine counselling .',\n",
              "  'total_lines': 13},\n",
              " {'line_number': 7,\n",
              "  'target': 'METHODS',\n",
              "  'text': 'the subjects in both groups also received routine pharmacotherapy and counselling from the treating clinician and were assessed at baseline , @ , @ , @ , and @ weeks using the hamilton depression rating scale ( hdrs ) , global assessment of functioning ( gaf ) , and psychological general well-being index ( pgwbi ) .',\n",
              "  'total_lines': 13},\n",
              " {'line_number': 8,\n",
              "  'target': 'METHODS',\n",
              "  'text': \"results from both groups were compared using statistical methods including chi-square test , fisher 's exact test , student 's t test , pearson 's correlation coefficient , as well as univariate and multiple regression analyses .\",\n",
              "  'total_lines': 13},\n",
              " {'line_number': 9,\n",
              "  'target': 'RESULTS',\n",
              "  'text': 'baseline socio-demographic and assessment measures were similar in both groups .',\n",
              "  'total_lines': 13},\n",
              " {'line_number': 10,\n",
              "  'target': 'RESULTS',\n",
              "  'text': 'the study group had consistent improvement in terms of outcome measures with hdrs , gaf , and pgwbi scores showing respective mean change of -@ , @ , and @ over @ weeks .',\n",
              "  'total_lines': 13},\n",
              " {'line_number': 11,\n",
              "  'target': 'RESULTS',\n",
              "  'text': 'the comparable respective changes in the controls were -@ , @ , and @ .',\n",
              "  'total_lines': 13},\n",
              " {'line_number': 12,\n",
              "  'target': 'CONCLUSIONS',\n",
              "  'text': 'structured psycho-education combined with pharmacotherapy is an effective intervention for people with depressive disorders .',\n",
              "  'total_lines': 13},\n",
              " {'line_number': 13,\n",
              "  'target': 'CONCLUSIONS',\n",
              "  'text': 'psycho-education optimises the pharmacological treatment of depression in terms of faster recovery , reduction in severity of depression , and improvement in subjective wellbeing and social functioning .',\n",
              "  'total_lines': 13},\n",
              " {'line_number': 0,\n",
              "  'target': 'OBJECTIVE',\n",
              "  'text': 'a pharmacokinetic substudy was conducted within a phase @ clinical trial that evaluated the efficacy and safety of two leuprolide acetate @-month depot formulations in children with central precocious puberty ( cpp ) , where the pharmacokinetics of leuprolide and the exposure-response relationship between leuprolide concentration and the probability of luteinizing hormone ( lh ) suppression were assessed .',\n",
              "  'total_lines': 10},\n",
              " {'line_number': 1,\n",
              "  'target': 'METHODS',\n",
              "  'text': 'children diagnosed with cpp ( n = @ in each dosing cohort ) , who were treatment nave or previously treated , received a total of two intramuscular injections of either leuprolide acetate depot @ or @ mg formulations administered @ months apart .',\n",
              "  'total_lines': 10},\n",
              " {'line_number': 2,\n",
              "  'target': 'METHODS',\n",
              "  'text': 'serial blood samples were collected for leuprolide concentration determination in a subset of subjects ( n = @ in each cohort ) .',\n",
              "  'total_lines': 10},\n",
              " {'line_number': 3,\n",
              "  'target': 'METHODS',\n",
              "  'text': 'one-way analysis of covariance was used to assess dose proportionality .',\n",
              "  'total_lines': 10},\n",
              " {'line_number': 4,\n",
              "  'target': 'METHODS',\n",
              "  'text': 'the probability of lh suppression ( peak-stimulated lh concentrations < @ miu/ml ) exposure-response relationship was modelled using repeated measures logistic regression .',\n",
              "  'total_lines': 10},\n",
              " {'line_number': 5,\n",
              "  'target': 'METHODS',\n",
              "  'text': 'the predicted probability of lh suppression and the corresponding @ % confidence interval at the mean leuprolide concentration of each dose group and at each time of measurement were computed .',\n",
              "  'total_lines': 10},\n",
              " {'line_number': 6,\n",
              "  'target': 'RESULTS',\n",
              "  'text': 'mean leuprolide concentrations between weeks @ and @ for @ and @ mg doses were relatively constant and dose proportional , with no accumulation of leuprolide upon repeated administration .',\n",
              "  'total_lines': 10},\n",
              " {'line_number': 7,\n",
              "  'target': 'RESULTS',\n",
              "  'text': 'body weight and age were not found to be significant covariates on leuprolide pharmacokinetics .',\n",
              "  'total_lines': 10},\n",
              " {'line_number': 8,\n",
              "  'target': 'RESULTS',\n",
              "  'text': 'higher leuprolide concentrations were associated with higher probability of lh suppression and both doses provided lh suppression levels < @ miu/ml .',\n",
              "  'total_lines': 10},\n",
              " {'line_number': 9,\n",
              "  'target': 'CONCLUSIONS',\n",
              "  'text': 'leuprolide pharmacokinetics were characterized for @ and @ mg @-month depot injections .',\n",
              "  'total_lines': 10},\n",
              " {'line_number': 10,\n",
              "  'target': 'CONCLUSIONS',\n",
              "  'text': 'an exposure-response model was developed to link leuprolide concentrations and probability of peak-stimulated lh suppression .',\n",
              "  'total_lines': 10},\n",
              " {'line_number': 0,\n",
              "  'target': 'OBJECTIVE',\n",
              "  'text': 'to determine whether alcohol consumption is causally associated with cognitive impairment in older men as predicted by mendelian randomization .',\n",
              "  'total_lines': 11},\n",
              " {'line_number': 1,\n",
              "  'target': 'METHODS',\n",
              "  'text': 'retrospective analysis of a cohort study of @,@ community-dwelling men aged @ to @ years followed for @ years .',\n",
              "  'total_lines': 11},\n",
              " {'line_number': 2,\n",
              "  'target': 'METHODS',\n",
              "  'text': 'cognitive impairment was established by a mini-mental state examination score of @ or less .',\n",
              "  'total_lines': 11},\n",
              " {'line_number': 3,\n",
              "  'target': 'METHODS',\n",
              "  'text': 'participants provided detailed information about their use of alcohol during the preceding year and were classified as abstainers , occasional drinkers , and regular drinkers : mild ( < @ drinks/wk ) , moderate ( @-@ drinks/wk ) , heavy ( @-@ drinks/wk ) , and abusers ( @ drinks/wk ) .',\n",
              "  'total_lines': 11},\n",
              " {'line_number': 4,\n",
              "  'target': 'METHODS',\n",
              "  'text': 'we genotyped the rs@ ga variant of the alcohol dehydrogenase @b ( adh@b ) gene , which is associated with lower prevalence of alcohol abuse and dependence .',\n",
              "  'total_lines': 11},\n",
              " {'line_number': 5,\n",
              "  'target': 'METHODS',\n",
              "  'text': 'other measures included age , education , marital status , smoking and physical activity , body mass index , diabetes , hypertension , and cardiovascular diseases .',\n",
              "  'total_lines': 11},\n",
              " {'line_number': 6,\n",
              "  'target': 'RESULTS',\n",
              "  'text': 'at study entry , rs@ ga polymorphism was associated with lower prevalence of regular use of alcohol and decreased consumption among regular users .',\n",
              "  'total_lines': 11},\n",
              " {'line_number': 7,\n",
              "  'target': 'RESULTS',\n",
              "  'text': 'six years later , @ men ( @ % ) showed evidence of cognitive impairment .',\n",
              "  'total_lines': 11},\n",
              " {'line_number': 8,\n",
              "  'target': 'RESULTS',\n",
              "  'text': 'abstainers and irregular drinkers had higher odds of cognitive impairment than regular drinkers ( odds ratio -lsb- or -rsb- = @ , @ % confidence interval -lsb- ci -rsb- = @-@ @ , after adjustment for other measured factors ) .',\n",
              "  'total_lines': 11},\n",
              " {'line_number': 9,\n",
              "  'target': 'RESULTS',\n",
              "  'text': 'the rs@ ga polymorphism did not decrease the odds of cognitive impairment ( aa/gg or = @ , @ % ci = @-@ @ ; ga/gg or = @ , @ % ci = @-@ @ ) .',\n",
              "  'total_lines': 11},\n",
              " {'line_number': 10,\n",
              "  'target': 'CONCLUSIONS',\n",
              "  'text': 'alcohol consumption , including heavy regular drinking and abuse , is not a direct cause of cognitive impairment in later life .',\n",
              "  'total_lines': 11},\n",
              " {'line_number': 11,\n",
              "  'target': 'CONCLUSIONS',\n",
              "  'text': 'our results are consistent with the possibility , but do not prove , that regular moderate drinking decreases the risk of cognitive impairment in older men .',\n",
              "  'total_lines': 11},\n",
              " {'line_number': 0,\n",
              "  'target': 'BACKGROUND',\n",
              "  'text': 'detoxification with psychosocial counseling remains a standard opioid-use disorder treatment practice but is associated with poor outcomes .',\n",
              "  'total_lines': 12},\n",
              " {'line_number': 1,\n",
              "  'target': 'BACKGROUND',\n",
              "  'text': 'this study tested the efficacy of a newly developed psychosocial intervention , community reinforcement approach and family training for treatment retention ( craft-t ) , relative to psychosocial treatment as usual ( tau ) , for improving treatment outcomes .',\n",
              "  'total_lines': 12},\n",
              " {'line_number': 2,\n",
              "  'target': 'METHODS',\n",
              "  'text': 'a randomized , @-week trial with follow-up visits at @ and @ months post-randomization conducted at two substance use disorder ( sud ) treatment programs .',\n",
              "  'total_lines': 12},\n",
              " {'line_number': 3,\n",
              "  'target': 'METHODS',\n",
              "  'text': 'opioid-dependent adults ( i.e. , identified patient - ip ) enrolled in a residential buprenorphine-detoxification program and their identified concerned significant other ( cso ) was randomized to craft-t ( n = @ dyads ) or tau ( n = @ dyads ) .',\n",
              "  'total_lines': 12},\n",
              " {'line_number': 4,\n",
              "  'target': 'METHODS',\n",
              "  'text': 'craft-t consisted of two sessions with the ip and cso together and @ with the cso alone , over @ weeks .',\n",
              "  'total_lines': 12},\n",
              " {'line_number': 5,\n",
              "  'target': 'METHODS',\n",
              "  'text': 'tau for the csos was primarily educational and referral to self-help .',\n",
              "  'total_lines': 12},\n",
              " {'line_number': 6,\n",
              "  'target': 'METHODS',\n",
              "  'text': 'all ips received treatment as usually provided by the sud program in which they were enrolled .',\n",
              "  'total_lines': 12},\n",
              " {'line_number': 7,\n",
              "  'target': 'METHODS',\n",
              "  'text': 'the primary outcome was time to first ip drop from treatment lasting @ days or more .',\n",
              "  'total_lines': 12},\n",
              " {'line_number': 8,\n",
              "  'target': 'METHODS',\n",
              "  'text': 'opioid and other drug use were key secondary outcomes .',\n",
              "  'total_lines': 12},\n",
              " {'line_number': 9,\n",
              "  'target': 'RESULTS',\n",
              "  'text': 'craft-t resulted in a moderate but non-significant effect on treatment retention ( p = @ , hazard ratio = @ ) .',\n",
              "  'total_lines': 12},\n",
              " {'line_number': 10,\n",
              "  'target': 'RESULTS',\n",
              "  'text': 'when the cso was parental family , craft-t had a large and significant effect on treatment retention ( p < @ , hazard ratio = @ ) .',\n",
              "  'total_lines': 12},\n",
              " {'line_number': 11,\n",
              "  'target': 'RESULTS',\n",
              "  'text': 'craft-t had a significant positive effect on ip opioid and other drug use ( p < @ ) .',\n",
              "  'total_lines': 12},\n",
              " {'line_number': 12,\n",
              "  'target': 'CONCLUSIONS',\n",
              "  'text': 'craft-t is a promising treatment for opioid use disorder but replication is needed to confirm these results .',\n",
              "  'total_lines': 12},\n",
              " {'line_number': 0,\n",
              "  'target': 'BACKGROUND',\n",
              "  'text': 'characterization of the variations in the metabolomic profiles of elderly people is a necessary step to understand changes associated with aging .',\n",
              "  'total_lines': 6},\n",
              " {'line_number': 1,\n",
              "  'target': 'BACKGROUND',\n",
              "  'text': 'this study assessed whether diets with different fat quality and supplementation with coenzyme q@ ( coq ) affect the metabolomic profile in urine analyzed by proton nuclear magnetic resonance spectroscopy from elderly people .',\n",
              "  'total_lines': 6},\n",
              " {'line_number': 2,\n",
              "  'target': 'METHODS',\n",
              "  'text': 'ten participants received , in a cross-over design , four isocaloric diets for @-week periods each : mediterranean diet supplemented with coq ( med + coq diet ) ; mediterranean diet ; western diet rich in saturated fat diet ; low-fat , high-carbohydrate diet enriched in n-@ polyunsaturated fat .',\n",
              "  'total_lines': 6},\n",
              " {'line_number': 3,\n",
              "  'target': 'RESULTS',\n",
              "  'text': 'multivariate analysis showed differences between diets when comparing med + coq diet and saturated fat diet , with greater hippurate urine levels after med + coq diet and higher phenylacetylglycine levels after saturated fat diet in women .',\n",
              "  'total_lines': 6},\n",
              " {'line_number': 4,\n",
              "  'target': 'RESULTS',\n",
              "  'text': 'following consumption of med + coq , hippurate excretion was positively correlated with coq and - carotene plasma levels and inversely related to nrf@ , thioredoxin , superoxide dismutase @ , and gp@ ( phox ) subunit of nadph oxidase gene expression .',\n",
              "  'total_lines': 6},\n",
              " {'line_number': 5,\n",
              "  'target': 'RESULTS',\n",
              "  'text': 'after saturated fat diet consumption , phenylacetylglycine excretion was inversely related to coq plasma level and positively correlated with isoprostanes urinary level .',\n",
              "  'total_lines': 6},\n",
              " {'line_number': 6,\n",
              "  'target': 'CONCLUSIONS',\n",
              "  'text': 'the association between hippurate excretion and antioxidant biomarkers along with the relationship between phenylacetylglycine excretion and oxidant biomarkers suggests that the long-term consumption of a med + coq diet could be beneficial for healthy aging and a promising challenge in the prevention of processes related to chronic oxidative stress , such as cardiovascular and neurodegenerative disease .',\n",
              "  'total_lines': 6},\n",
              " {'line_number': 0,\n",
              "  'target': 'OBJECTIVE',\n",
              "  'text': 'to compare the differences in the efficacy on lower limb motor function in children with spastic cerebral palsy between the combined therapeutic program of jin three-needle therapy and motomed intelligent motor training and the simple motomed .',\n",
              "  'total_lines': 11},\n",
              " {'line_number': 1,\n",
              "  'target': 'METHODS',\n",
              "  'text': 'eighty children with spastic cerebral palsy were randomized into an observation group and a control group , @ cases in each group .',\n",
              "  'total_lines': 11},\n",
              " {'line_number': 2,\n",
              "  'target': 'METHODS',\n",
              "  'text': 'in the observation group , jin three-needle therapy was used at four mind points , three brain points , three intelligent points , three temporal points , three knee points and three foot points , as well as chengjin ( bl @ ) , chengshen ( bl @ ) and the other .',\n",
              "  'total_lines': 11},\n",
              " {'line_number': 3,\n",
              "  'target': 'METHODS',\n",
              "  'text': 'additionally , motomed was given in assistance with conventional rehabilitation training .',\n",
              "  'total_lines': 11},\n",
              " {'line_number': 4,\n",
              "  'target': 'METHODS',\n",
              "  'text': 'in the control group , motomed and the conventional rehabilitation training were adopted .',\n",
              "  'total_lines': 11},\n",
              " {'line_number': 5,\n",
              "  'target': 'METHODS',\n",
              "  'text': 'in the two groups , the treatment was given once a day , @ treatments made one session and there were @ to @ days at interval between the two sessions .',\n",
              "  'total_lines': 11},\n",
              " {'line_number': 6,\n",
              "  'target': 'METHODS',\n",
              "  'text': 'the efficacy evaluation was performed after continuous @ sessions of treatment .',\n",
              "  'total_lines': 11},\n",
              " {'line_number': 7,\n",
              "  'target': 'METHODS',\n",
              "  'text': 'the gross motor function measure ( gmfm ) and modified ashworth scale ( mas ) were applied for the evaluation before and after treatment in the two groups .',\n",
              "  'total_lines': 11},\n",
              " {'line_number': 8,\n",
              "  'target': 'RESULTS',\n",
              "  'text': 'after @ sessions of treatment , gmfm score was increased apparently as compared with that before treatment in the two groups ( p < @ , p < @ ) .',\n",
              "  'total_lines': 11},\n",
              " {'line_number': 9,\n",
              "  'target': 'RESULTS',\n",
              "  'text': 'after treatment , gmfm score in the observation group was increased more remarkably than that in the control group ( @ + / - @ vs @ + / - @ , p < @ ) .',\n",
              "  'total_lines': 11},\n",
              " {'line_number': 10,\n",
              "  'target': 'RESULTS',\n",
              "  'text': 'after treatment , the total effective rate of gastrocnemius ashworth spasm grade -lsb- @ % ( @/@ ) -rsb- in the observation group was better apparently than -lsb- @ % ( @/@ ) -rsb- in the control group ( p < @ ) .',\n",
              "  'total_lines': 11},\n",
              " {'line_number': 11,\n",
              "  'target': 'CONCLUSIONS',\n",
              "  'text': 'the combined therapeutic program of jin three-needle therapy and motomet intelligent motor training improves the lower limb motor function of the children with spastic cerebral palsy and its efficacy is better than simple motomed .',\n",
              "  'total_lines': 11},\n",
              " {'line_number': 0,\n",
              "  'target': 'BACKGROUND',\n",
              "  'text': 'stenting is an alternative to endarterectomy for treatment of carotid artery stenosis , but long-term efficacy is uncertain .',\n",
              "  'total_lines': 15},\n",
              " {'line_number': 1,\n",
              "  'target': 'BACKGROUND',\n",
              "  'text': 'we report long-term data from the randomised international carotid stenting study comparison of these treatments .',\n",
              "  'total_lines': 15},\n",
              " {'line_number': 2,\n",
              "  'target': 'METHODS',\n",
              "  'text': 'patients with symptomatic carotid stenosis were randomly assigned @:@ to open treatment with stenting or endarterectomy at @ centres worldwide .',\n",
              "  'total_lines': 15},\n",
              " {'line_number': 3,\n",
              "  'target': 'METHODS',\n",
              "  'text': 'randomisation was computer generated centrally and allocated by telephone call or fax .',\n",
              "  'total_lines': 15},\n",
              " {'line_number': 4,\n",
              "  'target': 'METHODS',\n",
              "  'text': 'major outcomes were assessed by an independent endpoint committee unaware of treatment assignment .',\n",
              "  'total_lines': 15},\n",
              " {'line_number': 5,\n",
              "  'target': 'METHODS',\n",
              "  'text': 'the primary endpoint was fatal or disabling stroke in any territory after randomisation to the end of follow-up .',\n",
              "  'total_lines': 15},\n",
              " {'line_number': 6,\n",
              "  'target': 'METHODS',\n",
              "  'text': 'analysis was by intention to treat ( -lsb- itt -rsb- all patients ) and per protocol from @ days after treatment ( all patients in whom assigned treatment was completed ) .',\n",
              "  'total_lines': 15},\n",
              " {'line_number': 7,\n",
              "  'target': 'METHODS',\n",
              "  'text': 'functional ability was rated with the modified rankin scale .',\n",
              "  'total_lines': 15},\n",
              " {'line_number': 8,\n",
              "  'target': 'METHODS',\n",
              "  'text': 'this study is registered , number isrctn@ .',\n",
              "  'total_lines': 15},\n",
              " {'line_number': 9,\n",
              "  'target': 'RESULTS',\n",
              "  'text': '@ patients were assigned to stenting ( n = @ ) or endarterectomy ( n = @ ) and followed up for a median of @ years ( iqr @-@ , maximum @ ) .',\n",
              "  'total_lines': 15},\n",
              " {'line_number': 10,\n",
              "  'target': 'RESULTS',\n",
              "  'text': 'three patients withdrew immediately and , therefore , the itt population comprised @ patients .',\n",
              "  'total_lines': 15},\n",
              " {'line_number': 11,\n",
              "  'target': 'RESULTS',\n",
              "  'text': 'the number of fatal or disabling strokes ( @ vs @ ) and cumulative @-year risk did not differ significantly between the stenting and endarterectomy groups ( @ % vs @ % ; hazard ratio -lsb- hr -rsb- @ , @ % ci @-@ , p = @ ) .',\n",
              "  'total_lines': 15},\n",
              " {'line_number': 12,\n",
              "  'target': 'RESULTS',\n",
              "  'text': 'any stroke was more frequent in the stenting group than in the endarterectomy group ( @ vs @ events ; itt population , @-year cumulative risk @ % vs @ % , hr @ , @ % ci @-@ , p < @ ; per-protocol population , @-year cumulative risk @ % vs @ % , @ , @-@ , p = @ ) , but were mainly non-disabling strokes .',\n",
              "  'total_lines': 15},\n",
              " {'line_number': 13,\n",
              "  'target': 'RESULTS',\n",
              "  'text': 'the distribution of modified rankin scale scores at @ year , @ years , or final follow-up did not differ significantly between treatment groups .',\n",
              "  'total_lines': 15},\n",
              " {'line_number': 14,\n",
              "  'target': 'CONCLUSIONS',\n",
              "  'text': 'long-term functional outcome and risk of fatal or disabling stroke are similar for stenting and endarterectomy for symptomatic carotid stenosis .',\n",
              "  'total_lines': 15},\n",
              " {'line_number': 15,\n",
              "  'target': 'BACKGROUND',\n",
              "  'text': 'medical research council , stroke association , sanofi-synthlabo , european union .',\n",
              "  'total_lines': 15},\n",
              " {'line_number': 0,\n",
              "  'target': 'OBJECTIVE',\n",
              "  'text': 'to investigate the effect of central venous blood oxygen saturation ( scvo@ ) and venous-arterial pco@ ( p ( cv-a ) co@ ) guided fluid therapy on tissue perfusion , gastrointestinal function recovering and outcome of the patients who undergoing open gastrointestinal surgery .',\n",
              "  'total_lines': 8},\n",
              " {'line_number': 1,\n",
              "  'target': 'METHODS',\n",
              "  'text': 'forty patients undergoing open gastrointestinal surgery were randomly divided into @ groups ( n = @ each ) : scvo@ guided fluid therapy ( group s ) and p ( cv-a ) co@ guided fluid therapy ( group p ) .',\n",
              "  'total_lines': 8},\n",
              " {'line_number': 2,\n",
              "  'target': 'METHODS',\n",
              "  'text': \"all the patients were infused @ ml/kg lactated ringer 's ( lr ) solution before anesthesia induction , they were all also given a continuous lactated ringer 's ( lr ) solution 's infusion at the speed of @ mlkg ( -@ ) h ( -@ ) during the operation .\",\n",
              "  'total_lines': 8},\n",
              " {'line_number': 3,\n",
              "  'target': 'METHODS',\n",
              "  'text': \"while , @ % hes @/@ @ ( free flex @ % hes @/@ @ , fresenius kabi ) infusion was different between the @ groups , when the patients of group s 's central venous blood oxygen saturation < @ % or venous-arterial pco@ in the patients of p group @ mm hg , then infused @ % hes @/@ @ .\",\n",
              "  'total_lines': 8},\n",
              " {'line_number': 4,\n",
              "  'target': 'METHODS',\n",
              "  'text': 'arterial and central venous blood gas analyses were performed every @ minutes after skin incision , measure the venous and arterial lactate value , and record the anal exhaust time after surgery , postoperative complications and mortality in @ days .',\n",
              "  'total_lines': 8},\n",
              " {'line_number': 5,\n",
              "  'target': 'RESULTS',\n",
              "  'text': 'compared with group s , the arterial lactate value in t@ ( after operation began @ min ) were significantly decreased in group p ( p = @ ) , and venous lactate value in t@ ( after operation began @ min ) were also lower ( p = @ ) , other lactate value were not different ( p > @ ) .',\n",
              "  'total_lines': 8},\n",
              " {'line_number': 6,\n",
              "  'target': 'RESULTS',\n",
              "  'text': 'the anal exhaust time was not different between the two groups ( p = @ ) .',\n",
              "  'total_lines': 8},\n",
              " {'line_number': 7,\n",
              "  'target': 'RESULTS',\n",
              "  'text': 'all the patients were survival , and there were no obvious postoperative complications .',\n",
              "  'total_lines': 8},\n",
              " {'line_number': 8,\n",
              "  'target': 'CONCLUSIONS',\n",
              "  'text': 'compared to group s , there was a transient improvement in tissue perfusion in group p , but there were no difference in complications and mortality .',\n",
              "  'total_lines': 8},\n",
              " {'line_number': 0,\n",
              "  'target': 'OBJECTIVE',\n",
              "  'text': 'the study aim was to compare the efficacy and safety of ultrasound-guided intra-articular injections of hyaluronic acid and betamethasone in the management of patients with osteoarthritis of the thumb .',\n",
              "  'total_lines': 11},\n",
              " {'line_number': 1,\n",
              "  'target': 'METHODS',\n",
              "  'text': 'eighty-eight evaluable patients diagnosed with osteoarthritis of the thumb ( kellgren-lawrence grade ii-iii ) received ultrasound-guided intra-articular treatment with hyaluronic acid ( @ ) or betamethasone ( @ ) .',\n",
              "  'total_lines': 11},\n",
              " {'line_number': 2,\n",
              "  'target': 'METHODS',\n",
              "  'text': 'in total , @ local injections were scheduled at @-day intervals .',\n",
              "  'total_lines': 11},\n",
              " {'line_number': 3,\n",
              "  'target': 'METHODS',\n",
              "  'text': 'assessments were performed at baseline and at @ , @ , @ , @ , and @ days .',\n",
              "  'total_lines': 11},\n",
              " {'line_number': 4,\n",
              "  'target': 'RESULTS',\n",
              "  'text': 'in both study groups , the pain visual analogue scale and functional index for hand osteoarthritis scores decreased significantly during follow-up compared to baseline .',\n",
              "  'total_lines': 11},\n",
              " {'line_number': 5,\n",
              "  'target': 'RESULTS',\n",
              "  'text': 'there were no significant differences between the groups .',\n",
              "  'total_lines': 11},\n",
              " {'line_number': 6,\n",
              "  'target': 'RESULTS',\n",
              "  'text': 'however , at @ days , the functional score showed a trend towards greater clinical improvement in the hyaluronic acid group ( p @ ) .',\n",
              "  'total_lines': 11},\n",
              " {'line_number': 7,\n",
              "  'target': 'RESULTS',\n",
              "  'text': 'a subanalysis of patients with functional index score@ and visual analogue scale score@ at baseline showed a significantly higher median functionality score in the hyaluronic acid group ( p @ at @ days and p @ at @ days ) .',\n",
              "  'total_lines': 11},\n",
              " {'line_number': 8,\n",
              "  'target': 'RESULTS',\n",
              "  'text': 'further limiting analysis to a baseline pain score@ showed significantly greater improvement in functionality score ( p @ at @ days ) , which was already apparent after the second intra-articular injection at @ days ( p @ ) .',\n",
              "  'total_lines': 11},\n",
              " {'line_number': 9,\n",
              "  'target': 'RESULTS',\n",
              "  'text': 'in this patient subset , the mean pain score also improved significantly at @ days ( p @ ) .',\n",
              "  'total_lines': 11},\n",
              " {'line_number': 10,\n",
              "  'target': 'CONCLUSIONS',\n",
              "  'text': 'both hyaluronic acid and betamethasone were effective and well-tolerated for the management of rhizarthrosis .',\n",
              "  'total_lines': 11},\n",
              " {'line_number': 11,\n",
              "  'target': 'CONCLUSIONS',\n",
              "  'text': 'hyaluronic acid was more effective over time and more efficiently improved functionality and pain in patients with more severe symptoms .',\n",
              "  'total_lines': 11},\n",
              " {'line_number': 0,\n",
              "  'target': 'BACKGROUND',\n",
              "  'text': 'the management of recurrent malignant pleural effusions ( mpe ) can be challenging .',\n",
              "  'total_lines': 15},\n",
              " {'line_number': 1,\n",
              "  'target': 'BACKGROUND',\n",
              "  'text': 'various options are available , with the most efficacious and widely used being talc pleurodesis .',\n",
              "  'total_lines': 15},\n",
              " {'line_number': 2,\n",
              "  'target': 'BACKGROUND',\n",
              "  'text': 'talc can either be applied via a chest drain in the form of slurry , or at medical thoracoscopy using poudrage .',\n",
              "  'total_lines': 15},\n",
              " {'line_number': 3,\n",
              "  'target': 'BACKGROUND',\n",
              "  'text': 'current evidence regarding which method is most effective is conflicting and often methodologically flawed .',\n",
              "  'total_lines': 15},\n",
              " {'line_number': 4,\n",
              "  'target': 'BACKGROUND',\n",
              "  'text': 'the tapps trial is a suitably powered , multicentre , open-label , randomised controlled trial designed to compare the pleurodesis success rate of medical thoracoscopy and talc poudrage with chest drain insertion and talc slurry .',\n",
              "  'total_lines': 15},\n",
              " {'line_number': 5,\n",
              "  'target': 'METHODS',\n",
              "  'text': '@ patients with a confirmed mpe requiring intervention will be recruited from uk hospitals .',\n",
              "  'total_lines': 15},\n",
              " {'line_number': 6,\n",
              "  'target': 'METHODS',\n",
              "  'text': 'patients will be randomised ( @:@ ) to undergo either small bore ( < @fr ) seldinger chest drain insertion followed by instillation of sterile talc ( @g ) , or to undergo medical thoracoscopy and simultaneous poudrage ( @g ) .',\n",
              "  'total_lines': 15},\n",
              " {'line_number': 7,\n",
              "  'target': 'METHODS',\n",
              "  'text': 'the allocated procedure will be performed as an inpatient within @days of randomisation taking place .',\n",
              "  'total_lines': 15},\n",
              " {'line_number': 8,\n",
              "  'target': 'METHODS',\n",
              "  'text': 'following discharge , patients will be followed up at regular intervals for @months .',\n",
              "  'total_lines': 15},\n",
              " {'line_number': 9,\n",
              "  'target': 'METHODS',\n",
              "  'text': 'the primary outcome measure is pleurodesis failure rates at @months .',\n",
              "  'total_lines': 15},\n",
              " {'line_number': 10,\n",
              "  'target': 'METHODS',\n",
              "  'text': 'pleurodesis failure is defined as the need for further pleural intervention for fluid management on the side of the trial intervention .',\n",
              "  'total_lines': 15},\n",
              " {'line_number': 11,\n",
              "  'target': 'BACKGROUND',\n",
              "  'text': 'the trial has received ethical approval from the national research ethics service committee north west-preston ( @/nw/@ ) .',\n",
              "  'total_lines': 15},\n",
              " {'line_number': 12,\n",
              "  'target': 'BACKGROUND',\n",
              "  'text': 'there is a trial steering committee which includes independent members and a patient and public representative .',\n",
              "  'total_lines': 15},\n",
              " {'line_number': 13,\n",
              "  'target': 'BACKGROUND',\n",
              "  'text': 'the trial results will be published in a peer-reviewed journal and presented at international conferences , as well as being disseminated via local and national charities and patient groups .',\n",
              "  'total_lines': 15},\n",
              " {'line_number': 14,\n",
              "  'target': 'BACKGROUND',\n",
              "  'text': 'all participants who wish to know the study results will also be contacted directly on their publication .',\n",
              "  'total_lines': 15},\n",
              " {'line_number': 15,\n",
              "  'target': 'BACKGROUND',\n",
              "  'text': 'isrctn@ .',\n",
              "  'total_lines': 15},\n",
              " {'line_number': 0,\n",
              "  'target': 'BACKGROUND',\n",
              "  'text': 'reference values for plasma pth assessment were generally established on small samples of apparently healthy subjects , without considering their @-hydroxyvitamin d ( @ohd ) status or other potential modifiers of pth concentration .',\n",
              "  'total_lines': 9},\n",
              " {'line_number': 1,\n",
              "  'target': 'OBJECTIVE',\n",
              "  'text': 'our objective was to assess ranges of plasma pth concentration in a large sample of adults , stratifying by @ohd status , age , gender , weight status , and calcium intake .',\n",
              "  'total_lines': 9},\n",
              " {'line_number': 2,\n",
              "  'target': 'METHODS',\n",
              "  'text': 'this cross-sectional survey is based on @ middle-aged caucasian adults from the supplmentation en vitamines et minraux antioxydants study ( @ ) .',\n",
              "  'total_lines': 9},\n",
              " {'line_number': 3,\n",
              "  'target': 'METHODS',\n",
              "  'text': 'plasma pth and @ohd concentrations were measured by an electrochemoluminescent immunoassay .',\n",
              "  'total_lines': 9},\n",
              " {'line_number': 4,\n",
              "  'target': 'METHODS',\n",
              "  'text': 'extreme percentiles of plasma pth concentrations were assessed specifically in subjects who had plasmatic values of @ohd of @ ng/ml or greater and @ ng/ml or greater .',\n",
              "  'total_lines': 9},\n",
              " {'line_number': 5,\n",
              "  'target': 'RESULTS',\n",
              "  'text': 'among subjects with @ohd status of @ ng/ml or greater , the @ th percentile of plasma pth concentration was @ ng/l .',\n",
              "  'total_lines': 9},\n",
              " {'line_number': 6,\n",
              "  'target': 'RESULTS',\n",
              "  'text': 'by using this value as a reference , @ % of the subjects with plasma @ohd less than @ nmol/l had a high plasma pth level , reflecting secondary hyperparathyroidism .',\n",
              "  'total_lines': 9},\n",
              " {'line_number': 7,\n",
              "  'target': 'RESULTS',\n",
              "  'text': 'among vitamin d-replete subjects ( @ohd status of @ ng/ml or greater ) , the @ th percentile of plasma pth was higher in overweight/obese subjects ( @ vs @ ng/l among normal weight subjects ) .',\n",
              "  'total_lines': 9},\n",
              " {'line_number': 8,\n",
              "  'target': 'CONCLUSIONS',\n",
              "  'text': 'the reference value for plasma pth defined in this vitamin d-replete population was far below the value currently provided by the manufacturer ( @ ng/l ) and varied according to overweight status .',\n",
              "  'total_lines': 9},\n",
              " {'line_number': 9,\n",
              "  'target': 'CONCLUSIONS',\n",
              "  'text': 'these results may contribute to improve the diagnosis of primary and secondary hyperparathyroidism and subsequent therapeutic indication .',\n",
              "  'total_lines': 9},\n",
              " {'line_number': 0,\n",
              "  'target': 'BACKGROUND',\n",
              "  'text': 'cytokine responses accompanying sublingual immunotherapy ( slit ) responder phenotypes have not previously been reported .',\n",
              "  'total_lines': 12},\n",
              " {'line_number': 1,\n",
              "  'target': 'OBJECTIVE',\n",
              "  'text': 'to investigate clinical and cytokine responses of house dust mite ( hdm ) sensitive patients with allergic rhinitis receiving hdm slit or placebo for @ years .',\n",
              "  'total_lines': 12},\n",
              " {'line_number': 2,\n",
              "  'target': 'METHODS',\n",
              "  'text': 'sixty adults were randomized to receive slit or placebo .',\n",
              "  'total_lines': 12},\n",
              " {'line_number': 3,\n",
              "  'target': 'METHODS',\n",
              "  'text': 'clinical symptoms were measured using the total @ symptom score ( tss@ ) and juniper rhinitis quality of life questionnaire .',\n",
              "  'total_lines': 12},\n",
              " {'line_number': 4,\n",
              "  'target': 'METHODS',\n",
              "  'text': 'hdm specific ige , igg , skin prick tests , and hdm-stimulated release of interleukin ( il ) @ and interferon ( ifn - ) in peripheral blood mononuclear cells was studied at @ , @ , @ , and @ months and il-@ , il-@ , and il-@ at @ and @ months .',\n",
              "  'total_lines': 12},\n",
              " {'line_number': 5,\n",
              "  'target': 'RESULTS',\n",
              "  'text': 'a total of @ of @ slit and @ of @ placebo patients completed the study .',\n",
              "  'total_lines': 12},\n",
              " {'line_number': 6,\n",
              "  'target': 'RESULTS',\n",
              "  'text': 'there was significant clinical improvement in both the slit and placebo groups .',\n",
              "  'total_lines': 12},\n",
              " {'line_number': 7,\n",
              "  'target': 'RESULTS',\n",
              "  'text': 'median t@ss decreased from @ to @ in the slit group ( p < @ ) and @ to @ in the placebo group ( p = @ ) .',\n",
              "  'total_lines': 12},\n",
              " {'line_number': 8,\n",
              "  'target': 'RESULTS',\n",
              "  'text': 'the median quality-of-life score also decreased in the slit group ( p < @ ) and the placebo group ( p < @ ) .',\n",
              "  'total_lines': 12},\n",
              " {'line_number': 9,\n",
              "  'target': 'RESULTS',\n",
              "  'text': 'a subgroup analysis of patients found a @ % or greater improvement ( on the t@ss and the juniper rhinitis quality of life questionnaire ) in the good responders group and a @ % to @ % improvement or no improvement in the intermediate responders group .',\n",
              "  'total_lines': 12},\n",
              " {'line_number': 10,\n",
              "  'target': 'RESULTS',\n",
              "  'text': 'this subgroup analysis also found more good responders in the slit group ( @ % ) compared with the placebo group ( @ % ; p = @ ) .',\n",
              "  'total_lines': 12},\n",
              " {'line_number': 11,\n",
              "  'target': 'RESULTS',\n",
              "  'text': 'significant decreases in the il-@ / ifn - ( p < @ ) , il-@ / ifn - ( p < @ ) , and il-@ / ifn - ( p = @ ) ratios were found in the combined good clinical improvement group at @ months .',\n",
              "  'total_lines': 12},\n",
              " {'line_number': 12,\n",
              "  'target': 'CONCLUSIONS',\n",
              "  'text': 'a good clinical response ( @ % improvement in both tss@ and quality of life ) is associated with significant decreases in il-@ , il-@ , and il-@ relative to ifn - during @ years of slit therapy for hdms .',\n",
              "  'total_lines': 12},\n",
              " {'line_number': 0,\n",
              "  'target': 'OBJECTIVE',\n",
              "  'text': 'the effects of combined oxycodone/naloxone prolonged release tablets ( oxn pr ) were investigated in patients with moderate-to-severe chronic cancer-related or non-cancer pain .',\n",
              "  'total_lines': 14},\n",
              " {'line_number': 1,\n",
              "  'target': 'OBJECTIVE',\n",
              "  'text': 'all patients had opioid-induced constipation ( oic ) which persisted despite substantial laxative therapy .',\n",
              "  'total_lines': 14},\n",
              " {'line_number': 2,\n",
              "  'target': 'METHODS',\n",
              "  'text': 'this pooled analysis included @ patients with oic at study entry that was refractory to at least two laxatives with different modes of action .',\n",
              "  'total_lines': 14},\n",
              " {'line_number': 3,\n",
              "  'target': 'METHODS',\n",
              "  'text': 'patients completed randomized , double-blind treatment with oxn pr @-@mg / day for either @ weeks ( oxn @ : non-cancer pain study ) or @ weeks ( oxn @ : cancer-related pain study ) .',\n",
              "  'total_lines': 14},\n",
              " {'line_number': 4,\n",
              "  'target': 'METHODS',\n",
              "  'text': 'analgesia and bowel function were assessed using the brief pain inventory short form and bowel function index ( bfi ) , respectively .',\n",
              "  'total_lines': 14},\n",
              " {'line_number': 5,\n",
              "  'target': 'METHODS',\n",
              "  'text': 'use of laxative medication and safety were assessed throughout the studies .',\n",
              "  'total_lines': 14},\n",
              " {'line_number': 6,\n",
              "  'target': 'BACKGROUND',\n",
              "  'text': 'nct@ , eudract @-@-@ , eudract @-@-@ .',\n",
              "  'total_lines': 14},\n",
              " {'line_number': 7,\n",
              "  'target': 'RESULTS',\n",
              "  'text': 'statistically and clinically significant improvements in bowel function were observed following double-blind treatment with oxn pr .',\n",
              "  'total_lines': 14},\n",
              " {'line_number': 8,\n",
              "  'target': 'RESULTS',\n",
              "  'text': 'mean ( sd ) reduction in bfi score was @ ( @ ) and comparable in patients with cancer-related ( @ -lsb- @ -rsb- ) and non-cancer pain ( @ .',\n",
              "  'total_lines': 14},\n",
              " {'line_number': 9,\n",
              "  'target': 'RESULTS',\n",
              "  'text': '-lsb- @ -rsb- ; p@ @ ) .',\n",
              "  'total_lines': 14},\n",
              " {'line_number': 10,\n",
              "  'target': 'RESULTS',\n",
              "  'text': 'furthermore , the proportion of patients with a bfi score within normal range ( @ ) increased from @ % at screening to @ % at day @ of oxn pr .',\n",
              "  'total_lines': 14},\n",
              " {'line_number': 11,\n",
              "  'target': 'RESULTS',\n",
              "  'text': 'while all patients used @ laxatives of different classes at screening , during study treatment @ % stopped using laxatives ( p < @ ) .',\n",
              "  'total_lines': 14},\n",
              " {'line_number': 12,\n",
              "  'target': 'RESULTS',\n",
              "  'text': 'oxn pr provided effective analgesia , evidenced by stable pain scores during study treatment , and there were no unanticipated adverse events .',\n",
              "  'total_lines': 14},\n",
              " {'line_number': 13,\n",
              "  'target': 'CONCLUSIONS',\n",
              "  'text': 'oxn pr significantly improved bowel function and reduced the use of laxatives in patients with oic , previously unresponsive to at least two different classes of laxatives .',\n",
              "  'total_lines': 14},\n",
              " {'line_number': 14,\n",
              "  'target': 'CONCLUSIONS',\n",
              "  'text': 'oxn also provided effective analgesia for patients with moderate-to-severe cancer-related pain and non-cancer-related pain .',\n",
              "  'total_lines': 14},\n",
              " {'line_number': 0,\n",
              "  'target': 'OBJECTIVE',\n",
              "  'text': 'to observe the difference in the clinical efficacy on oculomotor impairment between electroacupuncture and acupuncture and explore the best therapeutic method in the treatment of this disease .',\n",
              "  'total_lines': 9},\n",
              " {'line_number': 1,\n",
              "  'target': 'METHODS',\n",
              "  'text': 'sixty cases of oculomotor impairment were randomized into an electroacupuncture group and an acupuncture group , @ cases in each one .',\n",
              "  'total_lines': 9},\n",
              " {'line_number': 2,\n",
              "  'target': 'METHODS',\n",
              "  'text': 'in the electroacupuncture group , the points were selected on extraocular muscles , the internal needling technique in the eye was used in combination of electroacupuncture therapy .',\n",
              "  'total_lines': 9},\n",
              " {'line_number': 3,\n",
              "  'target': 'METHODS',\n",
              "  'text': 'in the acupuncture group , the points and needling technique were same as the electroacupuncture group , but without electric stimulation applied .',\n",
              "  'total_lines': 9},\n",
              " {'line_number': 4,\n",
              "  'target': 'METHODS',\n",
              "  'text': 'the treatment was given @ times a week , @ treatments made one session .',\n",
              "  'total_lines': 9},\n",
              " {'line_number': 5,\n",
              "  'target': 'METHODS',\n",
              "  'text': 'after @ sessions of treatment , the clinical efficacy , palpebral fissure size , pupil size , oculomotor range and the recovery in diplopia were compared before and after treatment in the two groups .',\n",
              "  'total_lines': 9},\n",
              " {'line_number': 6,\n",
              "  'target': 'RESULTS',\n",
              "  'text': 'in the electroacupuncture group , the palpebral fissure size was ( @ + / -@ ) mm and the eyeball shifting distance was ( @ + / -@ ) mm , which were hig-her than ( @ + / -@ ) mm and ( @ + / -@ ) mm respectively in the acupuncture group .',\n",
              "  'total_lines': 9},\n",
              " {'line_number': 7,\n",
              "  'target': 'RESULTS',\n",
              "  'text': 'in the electroacupuncture group , the pupil diameter was ( @ + / -@ ) mm , which was less than ( @ + / - @ ) mm in the acupuncture group , indicating the significant difference ( all p < @ ) .',\n",
              "  'total_lines': 9},\n",
              " {'line_number': 8,\n",
              "  'target': 'RESULTS',\n",
              "  'text': 'the cured rate was @ % ( @/@ ) and the total effective rate was @ % ( @/@ ) in the electroacupuncture group , which was better than @ % ( @/@ ) and @ ( @/@ ) in the acupuncture group separately , indicating the significant difference ( all p < @ ) .',\n",
              "  'total_lines': 9},\n",
              " {'line_number': 9,\n",
              "  'target': 'CONCLUSIONS',\n",
              "  'text': 'electroacupuncture presents the obvious advantages in the treatment of oculomotor impairment , characterized as quick and high effect , short duration of treatment and remarkable improvements in clinical symptoms , there are important significance for the improvement of survival quality of patients .',\n",
              "  'total_lines': 9},\n",
              " {'line_number': 0,\n",
              "  'target': 'BACKGROUND',\n",
              "  'text': 'in this multi-country cluster-randomized behavioural intervention trial promoting exclusive breastfeeding ( ebf ) in africa , we compared growth of infants up to @months of age living in communities where peer counsellors promoted ebf with growth in those infants living in control communities .',\n",
              "  'total_lines': 13},\n",
              " {'line_number': 1,\n",
              "  'target': 'METHODS',\n",
              "  'text': 'a total of @ clusters in burkina faso , uganda and south africa were randomised to either the intervention or the control arm .',\n",
              "  'total_lines': 13},\n",
              " {'line_number': 2,\n",
              "  'target': 'METHODS',\n",
              "  'text': 'feeding data and anthropometric measurements were collected at visits scheduled @ , @ , @ and @weeks post-partum .',\n",
              "  'total_lines': 13},\n",
              " {'line_number': 3,\n",
              "  'target': 'METHODS',\n",
              "  'text': 'we calculated weight-for-length ( wlz ) , length-for-age ( laz ) and weight-for-age ( waz ) z-scores .',\n",
              "  'total_lines': 13},\n",
              " {'line_number': 4,\n",
              "  'target': 'METHODS',\n",
              "  'text': 'country specific adjusted least squares means with @ % confidence intervals ( ci ) based on a longitudinal analysis are reported .',\n",
              "  'total_lines': 13},\n",
              " {'line_number': 5,\n",
              "  'target': 'METHODS',\n",
              "  'text': 'prevalence ratios ( pr ) for the association between peer counselling for ebf and wasting ( wlz < -@ ) , stunting ( laz < -@ ) and underweight ( waz < -@ ) were calculated at each data collection point .',\n",
              "  'total_lines': 13},\n",
              " {'line_number': 6,\n",
              "  'target': 'RESULTS',\n",
              "  'text': 'the study included a total of @,@ children .',\n",
              "  'total_lines': 13},\n",
              " {'line_number': 7,\n",
              "  'target': 'RESULTS',\n",
              "  'text': 'adjusting for socio-economic status , the mean wlz at @weeks were in burkina faso -@ ( @ % ci -@ to -@ ) and in uganda -@ ( @ % ci -@ to -@ ) lower in the intervention than in the control arm .',\n",
              "  'total_lines': 13},\n",
              " {'line_number': 8,\n",
              "  'target': 'RESULTS',\n",
              "  'text': 'in south africa the mean wlz at @weeks was @ ( @ % ci @ to @ ) greater in the intervention than in the control arm .',\n",
              "  'total_lines': 13},\n",
              " {'line_number': 9,\n",
              "  'target': 'RESULTS',\n",
              "  'text': 'differences in laz between the study arms were small and not statistically significant .',\n",
              "  'total_lines': 13},\n",
              " {'line_number': 10,\n",
              "  'target': 'RESULTS',\n",
              "  'text': 'in uganda , infants in the intervention arm were more likely to be wasted compared to those in the control arm at @weeks ( pr @ ; @ % ci @ to @ ) .',\n",
              "  'total_lines': 13},\n",
              " {'line_number': 11,\n",
              "  'target': 'RESULTS',\n",
              "  'text': 'differences in wasting in south africa and burkina faso and stunting and underweight in all three countries were small and not significantly different .',\n",
              "  'total_lines': 13},\n",
              " {'line_number': 12,\n",
              "  'target': 'CONCLUSIONS',\n",
              "  'text': 'there were small differences in mean anthropometric indicators between the intervention and control arms in the study , but in uganda and burkina faso , a tendency to slightly lower ponderal growth ( weight-for-length z-scores ) was found in the intervention arms .',\n",
              "  'total_lines': 13},\n",
              " {'line_number': 13,\n",
              "  'target': 'BACKGROUND',\n",
              "  'text': 'clinicaltrials.gov : nct@ .',\n",
              "  'total_lines': 13},\n",
              " {'line_number': 0,\n",
              "  'target': 'BACKGROUND',\n",
              "  'text': 'dietary nitrate , which is in green leafy vegetables and beetroot , decreases blood pressure through the enterosalivary nitrate-nitrite-nitric oxide pathway in healthy individuals .',\n",
              "  'total_lines': 9},\n",
              " {'line_number': 1,\n",
              "  'target': 'BACKGROUND',\n",
              "  'text': 'whether similar effects would occur in individuals with treated hypertension and , therefore , at increased risk of cardiovascular disease is unclear .',\n",
              "  'total_lines': 9},\n",
              " {'line_number': 2,\n",
              "  'target': 'OBJECTIVE',\n",
              "  'text': 'we assessed whether increased dietary nitrate intake by using beetroot juice for @ wk lowers blood pressure in treated hypertensive men and women .',\n",
              "  'total_lines': 9},\n",
              " {'line_number': 3,\n",
              "  'target': 'METHODS',\n",
              "  'text': 'participants ( n = @ ) were recruited to a randomized , placebo-controlled , double-blind crossover trial .',\n",
              "  'total_lines': 9},\n",
              " {'line_number': 4,\n",
              "  'target': 'METHODS',\n",
              "  'text': 'the effect of @-wk intake of nitrate-rich beetroot juice was compared with @-wk intake of nitrate-depleted beetroot juice ( placebo ) .',\n",
              "  'total_lines': 9},\n",
              " {'line_number': 5,\n",
              "  'target': 'METHODS',\n",
              "  'text': 'the primary outcome was blood pressure assessed by measuring home blood pressure during the intervention and @-h ambulatory blood pressure on day @ of the intervention .',\n",
              "  'total_lines': 9},\n",
              " {'line_number': 6,\n",
              "  'target': 'METHODS',\n",
              "  'text': 'other outcomes included nitrate metabolism assessed by measuring nitrate and nitrite in plasma , saliva , and urine .',\n",
              "  'total_lines': 9},\n",
              " {'line_number': 7,\n",
              "  'target': 'RESULTS',\n",
              "  'text': 'relative to the placebo , @-wk intake of nitrate-rich beetroot juice resulted in a @-fold increase in plasma nitrite and nitrate , a @-fold increase in salivary nitrite , an @-fold higher salivary nitrate , and a @-fold increase in both urinary nitrite and nitrate ( p < @ ) .',\n",
              "  'total_lines': 9},\n",
              " {'line_number': 8,\n",
              "  'target': 'RESULTS',\n",
              "  'text': 'however , no differences in home blood pressure and @-h ambulatory blood pressure were observed with @-wk intake of nitrate-rich beetroot juice in comparison with the placebo .',\n",
              "  'total_lines': 9},\n",
              " {'line_number': 9,\n",
              "  'target': 'CONCLUSIONS',\n",
              "  'text': 'an increase in dietary nitrate intake may not be an effective short-term approach to further lower blood pressure in treated hypertensive subjects .',\n",
              "  'total_lines': 9},\n",
              " {'line_number': 0,\n",
              "  'target': 'BACKGROUND',\n",
              "  'text': 'the oxymizer is a special nasal cannula that provides a higher luminal diameter in combination with an incorporated oxygen ( o@ ) reservoir .',\n",
              "  'total_lines': 10},\n",
              " {'line_number': 1,\n",
              "  'target': 'BACKGROUND',\n",
              "  'text': 'it is assumed that a higher o@ concentration can be delivered breath by breath in order to increase oxygenation .',\n",
              "  'total_lines': 10},\n",
              " {'line_number': 2,\n",
              "  'target': 'OBJECTIVE',\n",
              "  'text': 'we aimed to investigate the effects of the oxymizer on endurance time in comparison to a conventional nasal cannula ( cnc ) .',\n",
              "  'total_lines': 10},\n",
              " {'line_number': 3,\n",
              "  'target': 'METHODS',\n",
              "  'text': 'forty-three patients with severe chronic obstructive pulmonary disease ( copd , age @ @ years , fev@ @ @ % pred . )',\n",
              "  'total_lines': 10},\n",
              " {'line_number': 4,\n",
              "  'target': 'METHODS',\n",
              "  'text': 'and indications for ltot were recruited during pulmonary rehabilitation for this cross-over study .',\n",
              "  'total_lines': 10},\n",
              " {'line_number': 5,\n",
              "  'target': 'METHODS',\n",
              "  'text': 'after an initial maximal incremental cycle test , all patients performed @ cycling endurance time tests at @ % of their peak work rate ( twice with the oxymizer and twice with a cnc , in reverse order ) .',\n",
              "  'total_lines': 10},\n",
              " {'line_number': 6,\n",
              "  'target': 'RESULTS',\n",
              "  'text': 'the endurance time was significantly higher when patients cycled while using the oxymizer in comparison to while using the cnc -lsb- @ @ vs. @ @ s ; between-group difference @ s ( @ % confidence interval @-@ ) , p < @ -rsb- .',\n",
              "  'total_lines': 10},\n",
              " {'line_number': 7,\n",
              "  'target': 'RESULTS',\n",
              "  'text': 'in addition to a longer cycling duration , o@ saturation at isotime was significantly higher with the oxymizer ( @ @ vs. @ @ % ; p = @ ) .',\n",
              "  'total_lines': 10},\n",
              " {'line_number': 8,\n",
              "  'target': 'RESULTS',\n",
              "  'text': 'furthermore , there was a positive correlation ( r = @ , p = @ ) between the o@ flow rate and improvements in the constant work rate test , showing greater improvements in favor of the oxymizer in patients with a higher demand for o@ ( @ liters/min ) .',\n",
              "  'total_lines': 10},\n",
              " {'line_number': 9,\n",
              "  'target': 'CONCLUSIONS',\n",
              "  'text': 'we show that o@ delivery via the oxymizer is superior to a cnc with regard to endurance capacity and oxygenation during exercise in patients with severe copd .',\n",
              "  'total_lines': 10},\n",
              " {'line_number': 10,\n",
              "  'target': 'CONCLUSIONS',\n",
              "  'text': 'it seems that patients with a higher demand for o@ ( @ liters/min ) , in particular , may benefit more from the use of the oxymizer .',\n",
              "  'total_lines': 10},\n",
              " {'line_number': 0,\n",
              "  'target': 'BACKGROUND',\n",
              "  'text': 'while acute-phase antipsychotic response has been attributed to @ % -@ % dopamine d receptor blockade , the degree of occupancy for relapse prevention in the maintenance treatment of schizophrenia remains unknown .',\n",
              "  'total_lines': 11},\n",
              " {'line_number': 1,\n",
              "  'target': 'METHODS',\n",
              "  'text': 'in this secondary study of an open-label , @-week , randomized , controlled trial conducted between april @ and august @ , clinically stable patients with schizophrenia ( dsm-iv ) treated with risperidone or olanzapine were randomly assigned to the reduction group ( dose reduced by @ % ) or maintenance group ( dose kept constant ) .',\n",
              "  'total_lines': 11},\n",
              " {'line_number': 2,\n",
              "  'target': 'METHODS',\n",
              "  'text': 'plasma antipsychotic concentrations at peak and trough before and after dose reduction were estimated with population pharmacokinetic techniques , using @ collected plasma samples .',\n",
              "  'total_lines': 11},\n",
              " {'line_number': 3,\n",
              "  'target': 'METHODS',\n",
              "  'text': 'corresponding dopamine d occupancy levels were then estimated using the model we developed .',\n",
              "  'total_lines': 11},\n",
              " {'line_number': 4,\n",
              "  'target': 'METHODS',\n",
              "  'text': 'relapse was defined as worsening in @ positive and negative syndrome scale-positive subscale items : delusion , conceptual disorganization , hallucinatory behavior , and suspiciousness .',\n",
              "  'total_lines': 11},\n",
              " {'line_number': 5,\n",
              "  'target': 'RESULTS',\n",
              "  'text': 'plasma antipsychotic concentrations were available for @ and @ patients in the reduction and maintenance groups , respectively .',\n",
              "  'total_lines': 11},\n",
              " {'line_number': 6,\n",
              "  'target': 'RESULTS',\n",
              "  'text': 'estimated dopamine d occupancy ( mean sd ) decreased following dose reduction from @ % @ % to @ % @ % at peak and @ % @ % to @ % @ % at trough .',\n",
              "  'total_lines': 11},\n",
              " {'line_number': 7,\n",
              "  'target': 'RESULTS',\n",
              "  'text': 'in the reduction group , @ patients ( @ % ) did not demonstrate continuous d receptor blockade above @ % ( ie , < @ % at trough ) after dose reduction ; furthermore , @ patients ( @ % ) did not achieve a threshold of @ % occupancy even at peak .',\n",
              "  'total_lines': 11},\n",
              " {'line_number': 8,\n",
              "  'target': 'RESULTS',\n",
              "  'text': 'nonetheless , only @ patient met our relapse criteria after dose reduction during the @ months of the study .',\n",
              "  'total_lines': 11},\n",
              " {'line_number': 9,\n",
              "  'target': 'CONCLUSIONS',\n",
              "  'text': 'the results suggest that the therapeutic threshold regarding dopamine d occupancy may be lower for those who are stable in antipsychotic maintenance versus acute-phase treatment .',\n",
              "  'total_lines': 11},\n",
              " {'line_number': 10,\n",
              "  'target': 'CONCLUSIONS',\n",
              "  'text': 'positron emission tomography studies are warranted to further test our preliminary findings .',\n",
              "  'total_lines': 11},\n",
              " {'line_number': 11,\n",
              "  'target': 'BACKGROUND',\n",
              "  'text': 'umin clinical trials registry identifier : umin@ .',\n",
              "  'total_lines': 11},\n",
              " {'line_number': 0,\n",
              "  'target': 'OBJECTIVE',\n",
              "  'text': 'to determine the prevalence of , risk factors for , and visual acuity ( va ) correlations with outer retinal tubulation ( ort ) seen on spectral-domain optical coherence tomography ( sd oct ) in eyes with neovascular age-related macular degeneration ( amd ) after anti-vascular endothelial growth factor ( vegf ) therapy .',\n",
              "  'total_lines': 16},\n",
              " {'line_number': 1,\n",
              "  'target': 'METHODS',\n",
              "  'text': 'prospective cohort study within a randomized clinical trial .',\n",
              "  'total_lines': 16},\n",
              " {'line_number': 2,\n",
              "  'target': 'METHODS',\n",
              "  'text': 'patients with sd oct images at weeks @ and @ in the comparison of amd treatments trials ( catt ) .',\n",
              "  'total_lines': 16},\n",
              " {'line_number': 3,\n",
              "  'target': 'METHODS',\n",
              "  'text': 'participants in the catt were assigned randomly to ranibizumab ( @ mg ) or bevacizumab ( @ mg ) treatment and to a monthly or pro re nata ( prn ) injection-dosing regimen .',\n",
              "  'total_lines': 16},\n",
              " {'line_number': 4,\n",
              "  'target': 'METHODS',\n",
              "  'text': 'a subset of eyes was imaged with sd oct beginning at week @ .',\n",
              "  'total_lines': 16},\n",
              " {'line_number': 5,\n",
              "  'target': 'METHODS',\n",
              "  'text': 'cirrus @ or spectralis @ volume cube scan protocols were used to acquire sd oct images .',\n",
              "  'total_lines': 16},\n",
              " {'line_number': 6,\n",
              "  'target': 'METHODS',\n",
              "  'text': 'two independent readers at the catt oct reading center graded scans , and a senior reader arbitrated discrepant grades .',\n",
              "  'total_lines': 16},\n",
              " {'line_number': 7,\n",
              "  'target': 'METHODS',\n",
              "  'text': 'the prevalence of ort , identified as tubular structures seen on at least @ consecutive cirrus b scans or @ consecutive spectralis b scans , was determined .',\n",
              "  'total_lines': 16},\n",
              " {'line_number': 8,\n",
              "  'target': 'METHODS',\n",
              "  'text': 'the associations of patient-specific and ocular features at baseline and follow-up with ort were evaluated by univariate and multivariate analyses .',\n",
              "  'total_lines': 16},\n",
              " {'line_number': 9,\n",
              "  'target': 'METHODS',\n",
              "  'text': 'outer retinal tubulations .',\n",
              "  'total_lines': 16},\n",
              " {'line_number': 10,\n",
              "  'target': 'RESULTS',\n",
              "  'text': 'seven of @ eyes ( @ % ) at @ weeks and @ of @ eyes ( @ % ) at week @ had orts .',\n",
              "  'total_lines': 16},\n",
              " {'line_number': 11,\n",
              "  'target': 'RESULTS',\n",
              "  'text': 'absence of diabetes , poor va , blocked fluorescence , geographic atrophy , greater lesion size , and presence of subretinal hyperreflective material at baseline were associated independently with greater risk of ort at @ weeks ( p < @ ) .',\n",
              "  'total_lines': 16},\n",
              " {'line_number': 12,\n",
              "  'target': 'RESULTS',\n",
              "  'text': 'neither drug nor dosing regimen were associated significantly with ort .',\n",
              "  'total_lines': 16},\n",
              " {'line_number': 13,\n",
              "  'target': 'RESULTS',\n",
              "  'text': 'the mean va of eyes with ort at week @ ( @ early treatment diabetic retinopathy study letters ) was worse than the mean va of eyes without ort ( @ letters ; p < @ ) .',\n",
              "  'total_lines': 16},\n",
              " {'line_number': 14,\n",
              "  'target': 'CONCLUSIONS',\n",
              "  'text': 'at @ years after initiation of anti-vegf therapy for neovascular amd , orts are present in a substantial proportion of eyes .',\n",
              "  'total_lines': 16},\n",
              " {'line_number': 15,\n",
              "  'target': 'CONCLUSIONS',\n",
              "  'text': 'we identified baseline features that independently predict orts .',\n",
              "  'total_lines': 16},\n",
              " {'line_number': 16,\n",
              "  'target': 'CONCLUSIONS',\n",
              "  'text': 'it is important to identify orts because eyes with orts have worse va outcomes than those without this finding .',\n",
              "  'total_lines': 16},\n",
              " {'line_number': 0,\n",
              "  'target': 'OBJECTIVE',\n",
              "  'text': 'patients with type @ diabetes are generally treated in primary care setting and as a final treatment step to obtain good glycaemic control , multiple daily insulin injections ( mdi ) are generally used .',\n",
              "  'total_lines': 9},\n",
              " {'line_number': 1,\n",
              "  'target': 'OBJECTIVE',\n",
              "  'text': 'the aim of this study is to evaluate the effect of glp-@ analogue liraglutide on glycaemic control in patients with type @ diabetes treated with mdi with inadequate glycaemic control .',\n",
              "  'total_lines': 9},\n",
              " {'line_number': 2,\n",
              "  'target': 'METHODS',\n",
              "  'text': 'overweight and obese patients with type @ diabetes and impaired glycaemic control treated with mdi were randomised to liraglutide or placebo over @ weeks .',\n",
              "  'total_lines': 9},\n",
              " {'line_number': 3,\n",
              "  'target': 'METHODS',\n",
              "  'text': 'masked continuous glucose monitoring was performed at baseline and during the trial .',\n",
              "  'total_lines': 9},\n",
              " {'line_number': 4,\n",
              "  'target': 'METHODS',\n",
              "  'text': 'the primary endpoint was the change in haemoglobin a@c from baseline to week @ .',\n",
              "  'total_lines': 9},\n",
              " {'line_number': 5,\n",
              "  'target': 'METHODS',\n",
              "  'text': 'additional endpoints include changes in weight , fasting glucose , glycaemic variability , treatment satisfaction , insulin dose , hypoglycaemias , blood pressure and blood lipid levels .',\n",
              "  'total_lines': 9},\n",
              " {'line_number': 6,\n",
              "  'target': 'RESULTS',\n",
              "  'text': 'recruitment occurred between february @ and february @ .',\n",
              "  'total_lines': 9},\n",
              " {'line_number': 7,\n",
              "  'target': 'RESULTS',\n",
              "  'text': 'a total of @ patients were randomised .',\n",
              "  'total_lines': 9},\n",
              " {'line_number': 8,\n",
              "  'target': 'RESULTS',\n",
              "  'text': 'study completion is anticipated in august @ .',\n",
              "  'total_lines': 9},\n",
              " {'line_number': 9,\n",
              "  'target': 'CONCLUSIONS',\n",
              "  'text': 'it is expected that the results of this study will establish whether adding liraglutide to patients with type @ diabetes treated with mdi will improve glycaemic control , lower body weight , and influence glycaemic variability .',\n",
              "  'total_lines': 9},\n",
              " {'line_number': 0,\n",
              "  'target': 'BACKGROUND',\n",
              "  'text': 'standard first-line antiretroviral therapy for hiv-@ infection includes two nucleoside or nucleotide reverse transcriptase inhibitors ( ntrtis ) , but these drugs have limitations .',\n",
              "  'total_lines': 11},\n",
              " {'line_number': 1,\n",
              "  'target': 'BACKGROUND',\n",
              "  'text': 'we assessed the @ week efficacy and safety of an ntrti-sparing regimen .',\n",
              "  'total_lines': 11},\n",
              " {'line_number': 2,\n",
              "  'target': 'METHODS',\n",
              "  'text': 'between august , @ , and september , @ , we enrolled treatment-naive adults into this randomised , open-label , non-inferiority trial in treatment-naive adults in @ european countries .',\n",
              "  'total_lines': 11},\n",
              " {'line_number': 3,\n",
              "  'target': 'METHODS',\n",
              "  'text': 'the composite primary outcome was change to randomised treatment before week @ because of insufficient virological response , no virological response by week @ , hiv-@ rna concentration @ copies per ml or higher at any time after week @ ; death from any cause ; any new or recurrent aids event ; or any serious non-aids event .',\n",
              "  'total_lines': 11},\n",
              " {'line_number': 4,\n",
              "  'target': 'METHODS',\n",
              "  'text': 'patients were randomised in a @:@ ratio to receive oral treatment with @ mg raltegravir twice daily plus @ mg darunavir and @ mg ritonavir once daily ( ntrti-sparing regimen ) or tenofovir-emtricitabine in a @ mg and @ mg fixed-dose combination once daily , plus @ mg darunavir and @ mg ritonavir once daily ( standard regimen ) .',\n",
              "  'total_lines': 11},\n",
              " {'line_number': 5,\n",
              "  'target': 'METHODS',\n",
              "  'text': 'this trial was registered with clinicaltrials.gov , number nct@ .',\n",
              "  'total_lines': 11},\n",
              " {'line_number': 6,\n",
              "  'target': 'RESULTS',\n",
              "  'text': 'of @ patients enrolled , @ received the ntrti-sparing regimen and @ the standard regimen , with median follow-up of @ weeks ( iqr @-@ ) .',\n",
              "  'total_lines': 11},\n",
              " {'line_number': 7,\n",
              "  'target': 'RESULTS',\n",
              "  'text': 'treatment failure was seen in @ ( @ % ) in the ntrti-sparing group and @ ( @ % ) in the standard group .',\n",
              "  'total_lines': 11},\n",
              " {'line_number': 8,\n",
              "  'target': 'RESULTS',\n",
              "  'text': 'kaplan-meier estimated proportions of treatment failure by week @ were @ % and @ % , respectively ( difference @ % , @ % ci -@ to @ ) .',\n",
              "  'total_lines': 11},\n",
              " {'line_number': 9,\n",
              "  'target': 'RESULTS',\n",
              "  'text': 'the frequency of serious or treatment-modifying adverse events were similar ( @ vs @ per @ person-years and @ vs @ per @ person-years , respectively ) .',\n",
              "  'total_lines': 11},\n",
              " {'line_number': 10,\n",
              "  'target': 'CONCLUSIONS',\n",
              "  'text': 'our ntrti-sparing regimen was non-inferior to standard treatment and represents a treatment option for patients with cd@ cell counts higher than @ cells per l.',\n",
              "  'total_lines': 11},\n",
              " {'line_number': 11,\n",
              "  'target': 'BACKGROUND',\n",
              "  'text': 'european union sixth framework programme , inserm-anrs , gilead sciences , janssen pharmaceuticals , merck laboratories .',\n",
              "  'total_lines': 11},\n",
              " {'line_number': 0,\n",
              "  'target': 'BACKGROUND',\n",
              "  'text': 'higher-risk patients may not receive evidence-based therapy because of limited life expectancy , which is a composite measure that encompasses many patient factors , including age , frailty , and comorbidities .',\n",
              "  'total_lines': 10},\n",
              " {'line_number': 1,\n",
              "  'target': 'BACKGROUND',\n",
              "  'text': 'in this study , we evaluated the extent to which treatment care gaps can be explained by a difference in projected life expectancy .',\n",
              "  'total_lines': 10},\n",
              " {'line_number': 2,\n",
              "  'target': 'RESULTS',\n",
              "  'text': 'an observational cohort study was conducted on acute myocardial infarction patients hospitalized in ontario , canada .',\n",
              "  'total_lines': 10},\n",
              " {'line_number': 3,\n",
              "  'target': 'RESULTS',\n",
              "  'text': 'projected life expectancy was estimated using actual survival data with extrapolation using proportional hazard models adjusting for important covariates .',\n",
              "  'total_lines': 10},\n",
              " {'line_number': 4,\n",
              "  'target': 'RESULTS',\n",
              "  'text': 'the relationship between projected life expectancy with statins and reperfusion therapy was examined using generalized linear models .',\n",
              "  'total_lines': 10},\n",
              " {'line_number': 5,\n",
              "  'target': 'RESULTS',\n",
              "  'text': 'among the @ acute myocardial infarction patients , @ % were prescribed statins and @ % were treated with reperfusion therapy .',\n",
              "  'total_lines': 10},\n",
              " {'line_number': 6,\n",
              "  'target': 'RESULTS',\n",
              "  'text': 'when projected life expectancy was < @ years , the likelihood of receiving either treatment declined progressively with reduction in life expectancy ( p < @ ) .',\n",
              "  'total_lines': 10},\n",
              " {'line_number': 7,\n",
              "  'target': 'RESULTS',\n",
              "  'text': 'at the @th percentile of projected life expectancies , the likelihood of receiving a statin decreased by @ % ( @ % confidence interval , @-@ @ % ) , and acute reperfusion therapy decreased by @ % ( @ % confidence interval , @-@ @ % ) for each year decline in projected life expectancy .',\n",
              "  'total_lines': 10},\n",
              " {'line_number': 8,\n",
              "  'target': 'CONCLUSIONS',\n",
              "  'text': 'life expectancy of a patient strongly influences evidence-based treatment in acute myocardial infarction .',\n",
              "  'total_lines': 10},\n",
              " {'line_number': 9,\n",
              "  'target': 'CONCLUSIONS',\n",
              "  'text': 'it was seen not only among patients with limited life expectancies but also among those with many years to live .',\n",
              "  'total_lines': 10},\n",
              " {'line_number': 10,\n",
              "  'target': 'CONCLUSIONS',\n",
              "  'text': \"treatment care gaps may reflect clinicians ' synthesis about frailty and life-expectancy gains .\",\n",
              "  'total_lines': 10},\n",
              " {'line_number': 0,\n",
              "  'target': 'OBJECTIVE',\n",
              "  'text': 'to compare the bioavailability and safety profile of crushed ticagrelor tablets suspended in water and administered orally or via nasogastric tube , with that of whole tablets administered orally .',\n",
              "  'total_lines': 9},\n",
              " {'line_number': 1,\n",
              "  'target': 'METHODS',\n",
              "  'text': 'in this single-center , open-label , randomized , three-treatment crossover study , @ healthy volunteers were randomized to receive a single @-mg dose of ticagrelor administered orally as a whole tablet or as crushed tablets suspended in water and given orally or via a nasogastric tube into the stomach , with a minimum @-day wash-out between treatments .',\n",
              "  'total_lines': 9},\n",
              " {'line_number': 2,\n",
              "  'target': 'METHODS',\n",
              "  'text': 'plasma concentrations of ticagrelor and ar-c@xx were assessed at @ , @ , @ , @ , @ , @ , @ , @ , @ , @ , @ , @ , @ , and @ hours post-ticagrelor dose for pharmacokinetic analyses .',\n",
              "  'total_lines': 9},\n",
              " {'line_number': 3,\n",
              "  'target': 'METHODS',\n",
              "  'text': 'safety and tolerability was assessed throughout the study .',\n",
              "  'total_lines': 9},\n",
              " {'line_number': 4,\n",
              "  'target': 'RESULTS',\n",
              "  'text': 'at @ hours postdose , plasma concentrations of ticagrelor and ar-c@xx were higher with crushed tablets administered orally ( @ ng/ml and @ ng/ml , respectively ) or via nasogastric tube ( @ ng/ml and @ ng/ml , respectively ) compared with whole-tablet administration ( @ ng/ml and @ ng/ml , respectively ) .',\n",
              "  'total_lines': 9},\n",
              " {'line_number': 5,\n",
              "  'target': 'RESULTS',\n",
              "  'text': 'a similar trend was observed at @ hour postdose .',\n",
              "  'total_lines': 9},\n",
              " {'line_number': 6,\n",
              "  'target': 'RESULTS',\n",
              "  'text': 'ticagrelor tmax was shorter following crushed vs. whole-tablet administration ( @ vs. @ hours , respectively ) .',\n",
              "  'total_lines': 9},\n",
              " {'line_number': 7,\n",
              "  'target': 'RESULTS',\n",
              "  'text': 'geometric mean ratios between treatments for auc and cmax were contained within the bioequivalence limits of @-@ % for ticagrelor and ar-c@xx .',\n",
              "  'total_lines': 9},\n",
              " {'line_number': 8,\n",
              "  'target': 'RESULTS',\n",
              "  'text': 'all treatments were generally well tolerated .',\n",
              "  'total_lines': 9},\n",
              " {'line_number': 9,\n",
              "  'target': 'CONCLUSIONS',\n",
              "  'text': 'ticagrelor administered as a crushed tablet is bioequivalent to whole-tablet administration , independent of mode of administration ( oral or via nasogastric tube ) , and resulted in increased plasma concentrations of ticagrelor and arc@xx at early timepoints .',\n",
              "  'total_lines': 9},\n",
              " {'line_number': 0,\n",
              "  'target': 'BACKGROUND',\n",
              "  'text': 'preterm birth leads to an estimated @ % of neonatal deaths worldwide .',\n",
              "  'total_lines': 7},\n",
              " {'line_number': 1,\n",
              "  'target': 'BACKGROUND',\n",
              "  'text': 'our study analyses neonatal mortality risks among preterm births in rural bangladesh .',\n",
              "  'total_lines': 7},\n",
              " {'line_number': 2,\n",
              "  'target': 'METHODS',\n",
              "  'text': 'trained community health workers ( chw ) prospectively collected data between june @ and september @ .',\n",
              "  'total_lines': 7},\n",
              " {'line_number': 3,\n",
              "  'target': 'RESULTS',\n",
              "  'text': 'among @ livebirths , @ % were preterm ( delivered at < @ weeks gestation ) and almost half ( @ % ) of all neonatal deaths occurred among preterm babies .',\n",
              "  'total_lines': 7},\n",
              " {'line_number': 4,\n",
              "  'target': 'RESULTS',\n",
              "  'text': 'preterm babies who were born as the first child -lcb- -lsb- risk ratio ( rr ) @ ; @ % confidence interval ( ci ) @ , @ -rsb- -rcb- and in the poorest households -lsb- rr @ ; @ % ci @ , @ -rsb- were at higher mortality risk .',\n",
              "  'total_lines': 7},\n",
              " {'line_number': 5,\n",
              "  'target': 'RESULTS',\n",
              "  'text': 'birth and newborn care preparedness was associated with lower risk of mortality -lsb- rr @ ; @ % ci @ , @ -rsb- while preterm infants who had symptoms of infection -lsb- rr @ ; @ % ci @ , @ -rsb- or whose mother suffered antenatal complications -lsb- rr @ ; @ % ci @ , @ -rsb- were at higher mortality risk .',\n",
              "  'total_lines': 7},\n",
              " {'line_number': 6,\n",
              "  'target': 'RESULTS',\n",
              "  'text': 'elimination of excess neonatal deaths caused by preterm would decrease population-level neonatal mortality rate by @ % -lsb- @ % ci @ % , @ % -rsb- .',\n",
              "  'total_lines': 7},\n",
              " {'line_number': 7,\n",
              "  'target': 'CONCLUSIONS',\n",
              "  'text': 'given that @ % of preterm births and @ % of preterm deaths were in late or moderate preterm infants , and that @ % preterm babies received a visit from chw within third day of life , a home-based essential care package delivered by chws for sick preterm infants , specifically focused on birth preparedness , skin-to-skin care , immediate breast feeding , early recognition of danger signs , and linked through referral to intensive and quality care in health facilities , could be an effective approach in low resource settings .',\n",
              "  'total_lines': 7},\n",
              " {'line_number': 0,\n",
              "  'target': 'BACKGROUND',\n",
              "  'text': 'the braf inhibitors vemurafenib and dabrafenib have shown efficacy as monotherapies in patients with previously untreated metastatic melanoma with braf v@e or v@k mutations .',\n",
              "  'total_lines': 11},\n",
              " {'line_number': 1,\n",
              "  'target': 'BACKGROUND',\n",
              "  'text': 'combining dabrafenib and the mek inhibitor trametinib , as compared with dabrafenib alone , enhanced antitumor activity in this population of patients .',\n",
              "  'total_lines': 11},\n",
              " {'line_number': 2,\n",
              "  'target': 'METHODS',\n",
              "  'text': 'in this open-label , phase @ trial , we randomly assigned @ patients with metastatic melanoma with a braf v@ mutation to receive either a combination of dabrafenib ( @ mg twice daily ) and trametinib ( @ mg once daily ) or vemurafenib ( @ mg twice daily ) orally as first-line therapy .',\n",
              "  'total_lines': 11},\n",
              " {'line_number': 3,\n",
              "  'target': 'METHODS',\n",
              "  'text': 'the primary end point was overall survival .',\n",
              "  'total_lines': 11},\n",
              " {'line_number': 4,\n",
              "  'target': 'RESULTS',\n",
              "  'text': 'at the preplanned interim overall survival analysis , which was performed after @ % of the total number of expected events occurred , the overall survival rate at @ months was @ % ( @ % confidence interval -lsb- ci -rsb- , @ to @ ) in the combination-therapy group and @ % ( @ % ci , @ to @ ) in the vemurafenib group ( hazard ratio for death in the combination-therapy group , @ ; @ % ci , @ to @ ; p = @ ) .',\n",
              "  'total_lines': 11},\n",
              " {'line_number': 5,\n",
              "  'target': 'RESULTS',\n",
              "  'text': 'the prespecified interim stopping boundary was crossed , and the study was stopped for efficacy in july @ .',\n",
              "  'total_lines': 11},\n",
              " {'line_number': 6,\n",
              "  'target': 'RESULTS',\n",
              "  'text': 'median progression-free survival was @ months in the combination-therapy group and @ months in the vemurafenib group ( hazard ratio , @ ; @ % ci , @ to @ ; p < @ ) .',\n",
              "  'total_lines': 11},\n",
              " {'line_number': 7,\n",
              "  'target': 'RESULTS',\n",
              "  'text': 'the objective response rate was @ % in the combination-therapy group and @ % in the vemurafenib group ( p < @ ) .',\n",
              "  'total_lines': 11},\n",
              " {'line_number': 8,\n",
              "  'target': 'RESULTS',\n",
              "  'text': 'rates of severe adverse events and study-drug discontinuations were similar in the two groups .',\n",
              "  'total_lines': 11},\n",
              " {'line_number': 9,\n",
              "  'target': 'RESULTS',\n",
              "  'text': 'cutaneous squamous-cell carcinoma and keratoacanthoma occurred in @ % of patients in the combination-therapy group and @ % of those in the vemurafenib group .',\n",
              "  'total_lines': 11},\n",
              " {'line_number': 10,\n",
              "  'target': 'CONCLUSIONS',\n",
              "  'text': 'dabrafenib plus trametinib , as compared with vemurafenib monotherapy , significantly improved overall survival in previously untreated patients with metastatic melanoma with braf v@e or v@k mutations , without increased overall toxicity .',\n",
              "  'total_lines': 11},\n",
              " {'line_number': 11,\n",
              "  'target': 'CONCLUSIONS',\n",
              "  'text': '( funded by glaxosmithkline ; clinicaltrials.gov number , nct@ . )',\n",
              "  'total_lines': 11},\n",
              " {'line_number': 0,\n",
              "  'target': 'OBJECTIVE',\n",
              "  'text': 'this phase @ trial evaluated the efficacy , safety , and tolerability of low - and high-dose cariprazine in patients meeting dsm-iv-tr criteria for acute manic or mixed episodes associated with bipolar i disorder .',\n",
              "  'total_lines': 12},\n",
              " {'line_number': 1,\n",
              "  'target': 'METHODS',\n",
              "  'text': 'this multicenter , randomized , double-blind , placebo-controlled , parallel-group , fixed/flexible-dose study was conducted from february @ to december @ .',\n",
              "  'total_lines': 12},\n",
              " {'line_number': 2,\n",
              "  'target': 'METHODS',\n",
              "  'text': 'patients were randomly assigned to placebo , cariprazine @-@ mg/d , or cariprazine @-@ mg/d for @ weeks of double-blind treatment .',\n",
              "  'total_lines': 12},\n",
              " {'line_number': 3,\n",
              "  'target': 'METHODS',\n",
              "  'text': 'primary and secondary efficacy parameters were change from baseline to week @ in young mania rating scale ( ymrs ) total score and clinical global impressions-severity of illness ( cgi-s ) score , respectively .',\n",
              "  'total_lines': 12},\n",
              " {'line_number': 4,\n",
              "  'target': 'METHODS',\n",
              "  'text': 'post hoc analysis examined change from baseline to week @ in ymrs single items .',\n",
              "  'total_lines': 12},\n",
              " {'line_number': 5,\n",
              "  'target': 'RESULTS',\n",
              "  'text': 'a total of @ patients were randomized ; @ % completed the study .',\n",
              "  'total_lines': 12},\n",
              " {'line_number': 6,\n",
              "  'target': 'RESULTS',\n",
              "  'text': 'the least squares mean difference ( lsmd ) for change from baseline to week @ in ymrs total score was statistically significant in favor of both cariprazine groups versus placebo ( lsmd -lsb- @ % ci -rsb- : @-@ mg/d , -@ -lsb- -@ to -@ -rsb- ; @-@ mg/d , -@ -lsb- -@ , -@ -rsb- ; p < @ -lsb- both -rsb- ) .',\n",
              "  'total_lines': 12},\n",
              " {'line_number': 7,\n",
              "  'target': 'RESULTS',\n",
              "  'text': 'both cariprazine treatment groups showed statistically significant superiority to placebo on all @ ymrs single items ( all comparisons , p < @ ) .',\n",
              "  'total_lines': 12},\n",
              " {'line_number': 8,\n",
              "  'target': 'RESULTS',\n",
              "  'text': 'change from baseline in cgi-s scores was statistically significantly greater in both cariprazine groups compared with placebo ( lsmd -lsb- @ % ci -rsb- : @-@ mg/d , -@ -lsb- -@ to -@ -rsb- ; @-@ mg/d , -@ -lsb- -@ to -@ -rsb- ; p < @ -lsb- both -rsb- ) .',\n",
              "  'total_lines': 12},\n",
              " {'line_number': 9,\n",
              "  'target': 'RESULTS',\n",
              "  'text': 'the most common ( @ % and twice the rate of placebo ) treatment-related adverse events for cariprazine were akathisia ( both groups ) and nausea , constipation , and tremor ( @-@ mg/d only ) .',\n",
              "  'total_lines': 12},\n",
              " {'line_number': 10,\n",
              "  'target': 'CONCLUSIONS',\n",
              "  'text': 'results of this study demonstrated that both low - and high-dose cariprazine were more effective than placebo in the treatment of acute manic or mixed episodes associated with bipolar i disorder .',\n",
              "  'total_lines': 12},\n",
              " {'line_number': 11,\n",
              "  'target': 'CONCLUSIONS',\n",
              "  'text': 'cariprazine was generally well tolerated , although the incidence of akathisia was greater with cariprazine than with placebo .',\n",
              "  'total_lines': 12},\n",
              " {'line_number': 12,\n",
              "  'target': 'BACKGROUND',\n",
              "  'text': 'clinicaltrials.gov identifier : nct@ .',\n",
              "  'total_lines': 12},\n",
              " {'line_number': 0,\n",
              "  'target': 'BACKGROUND',\n",
              "  'text': 'although neoadjuvant chemotherapy ( nac ) for locally advanced breast cancer can improve operability and local disease control , there is a lack of reliable biomarkers that predict response to chemotherapy or long-term survival .',\n",
              "  'total_lines': 17},\n",
              " {'line_number': 1,\n",
              "  'target': 'BACKGROUND',\n",
              "  'text': 'since expression of aldehyde dehydrogenase-@ ( aldh@ ) is associated with the stem-like properties of self-renewal and innate chemoresistance in breast cancer , we asked whether expression in serial tumor samples treated with nac could identify women more likely to benefit from this therapy .',\n",
              "  'total_lines': 17},\n",
              " {'line_number': 2,\n",
              "  'target': 'METHODS',\n",
              "  'text': 'women with locally advanced breast cancer were randomly assigned to receive four cycles of anthracycline-based chemotherapy , followed by four cycles of taxane therapy ( arm a ) , or the same regimen in reverse order ( arm b ) .',\n",
              "  'total_lines': 17},\n",
              " {'line_number': 3,\n",
              "  'target': 'METHODS',\n",
              "  'text': 'tumor specimens were collected at baseline , after four cycles , and then at surgical resection .',\n",
              "  'total_lines': 17},\n",
              " {'line_number': 4,\n",
              "  'target': 'METHODS',\n",
              "  'text': \"aldh@ expression was determined by immunohistochemistry and correlated with tumor response using fisher 's exact test while kaplan-meier method was used to calculate survival .\",\n",
              "  'total_lines': 17},\n",
              " {'line_number': 5,\n",
              "  'target': 'RESULTS',\n",
              "  'text': 'a hundred and nineteen women were enrolled into the study .',\n",
              "  'total_lines': 17},\n",
              " {'line_number': 6,\n",
              "  'target': 'RESULTS',\n",
              "  'text': 'fifty seven ( @ % ) were randomized to arm a and @ ( @ % ) to arm b. most of the women ( @ % ) had ductal carcinoma and @ % had lobular carcinoma .',\n",
              "  'total_lines': 17},\n",
              " {'line_number': 7,\n",
              "  'target': 'RESULTS',\n",
              "  'text': 'of these , @ ( @ % ) achieved a pathological complete response ( pcr ) after nac .',\n",
              "  'total_lines': 17},\n",
              " {'line_number': 8,\n",
              "  'target': 'RESULTS',\n",
              "  'text': 'there was no correlation between baseline aldh@ expression and tumor grade , stage , hormone receptor , human epidermal growth factor receptor @ ( her@ ) status and ki@ index .',\n",
              "  'total_lines': 17},\n",
              " {'line_number': 9,\n",
              "  'target': 'RESULTS',\n",
              "  'text': 'aldh@ negativity at baseline was significantly associated with pcr ( p = @ ) .',\n",
              "  'total_lines': 17},\n",
              " {'line_number': 10,\n",
              "  'target': 'RESULTS',\n",
              "  'text': 'the presence of aldh@ ( + ) cells in the residual tumor cells in non-responding women was strongly predictive of worse overall survival ( p = @ ) .',\n",
              "  'total_lines': 17},\n",
              " {'line_number': 11,\n",
              "  'target': 'RESULTS',\n",
              "  'text': 'moreover , serial analysis of specimens from non-responders showed a marked increase in tumor-specific aldh@ expression ( p = @ ) .',\n",
              "  'total_lines': 17},\n",
              " {'line_number': 12,\n",
              "  'target': 'RESULTS',\n",
              "  'text': 'overall , there was no survival difference according to the chemotherapy sequence .',\n",
              "  'total_lines': 17},\n",
              " {'line_number': 13,\n",
              "  'target': 'RESULTS',\n",
              "  'text': 'however , poorly responding tumours from women receiving docetaxel chemotherapy showed an unexpected significant increase in aldh@ expression .',\n",
              "  'total_lines': 17},\n",
              " {'line_number': 14,\n",
              "  'target': 'CONCLUSIONS',\n",
              "  'text': 'aldh@ expression is a useful predictor of chemoresistance .',\n",
              "  'total_lines': 17},\n",
              " {'line_number': 15,\n",
              "  'target': 'CONCLUSIONS',\n",
              "  'text': 'the up-regulation of aldh@ after nac predicts poor survival in locally advanced breast cancer .',\n",
              "  'total_lines': 17},\n",
              " {'line_number': 16,\n",
              "  'target': 'CONCLUSIONS',\n",
              "  'text': 'although the chemotherapy sequence had no effect on overall prognosis , our results suggest that anthracycline-based chemotherapy may be more effective at targeting aldh@ ( + ) breast cancer cells .',\n",
              "  'total_lines': 17},\n",
              " {'line_number': 17,\n",
              "  'target': 'BACKGROUND',\n",
              "  'text': 'actrn@ .',\n",
              "  'total_lines': 17},\n",
              " {'line_number': 0,\n",
              "  'target': 'OBJECTIVE',\n",
              "  'text': 'there have been several studies of atrial fibrillation ( af ) over the past decades ; however , data from chinese patients are scarce .',\n",
              "  'total_lines': 13},\n",
              " {'line_number': 1,\n",
              "  'target': 'OBJECTIVE',\n",
              "  'text': 'the aim of the study was therefore to describe the patient characteristics , risk profile and management strategies for chinese af patients presenting to emergency department ( ed ) .',\n",
              "  'total_lines': 13},\n",
              " {'line_number': 2,\n",
              "  'target': 'METHODS',\n",
              "  'text': 'we conducted a prospective , multicentre registry of patients with af or atrial flutter ( afl ) in china .',\n",
              "  'total_lines': 13},\n",
              " {'line_number': 3,\n",
              "  'target': 'METHODS',\n",
              "  'text': 'participants were enrolled at @ eds , then data regarding baseline characteristics and treatment in eds were collected .',\n",
              "  'total_lines': 13},\n",
              " {'line_number': 4,\n",
              "  'target': 'RESULTS',\n",
              "  'text': 'of the @ chinese patients , @ ( @ % ) were female .',\n",
              "  'total_lines': 13},\n",
              " {'line_number': 5,\n",
              "  'target': 'RESULTS',\n",
              "  'text': 'six hundred eighteen ( @ % ) had paroxysmal af , @ ( @ % ) had persistent af and @ ( @ % ) had permanent af .',\n",
              "  'total_lines': 13},\n",
              " {'line_number': 6,\n",
              "  'target': 'RESULTS',\n",
              "  'text': 'the most common comorbidity was hypertension ( @ % ) , followed by coronary artery disease ( @ % ) and heart failure ( hf , @ % ) .',\n",
              "  'total_lines': 13},\n",
              " {'line_number': 7,\n",
              "  'target': 'RESULTS',\n",
              "  'text': 'the prevalence of concomitant cardiovascular risk factors , such as hf and valvular heart disease , increased as af progressed .',\n",
              "  'total_lines': 13},\n",
              " {'line_number': 8,\n",
              "  'target': 'RESULTS',\n",
              "  'text': 'among the patients with non-valvular af , @ ( @ % ) of those with chads@ ( congestive hf , hypertension , age of @ years and greater , diabetes mellitus and history of stroke ) @ were prescribed oral anticoagulants ( oac ) , while @ ( @ % ) of those with chads@ < @ received such agents .',\n",
              "  'total_lines': 13},\n",
              " {'line_number': 9,\n",
              "  'target': 'RESULTS',\n",
              "  'text': 'among the @ patients with valvular af , @ ( @ % ) actually were treated with oac .',\n",
              "  'total_lines': 13},\n",
              " {'line_number': 10,\n",
              "  'target': 'RESULTS',\n",
              "  'text': 'the international normalised ratio value was within the target range ( @-@ @ ) in @ patients only ( @ % ) .',\n",
              "  'total_lines': 13},\n",
              " {'line_number': 11,\n",
              "  'target': 'RESULTS',\n",
              "  'text': 'moreover , a total of @ % of the patients received @ anti-arrhythmic agents , whereas rate control agents were used more frequently ( @ % ) .',\n",
              "  'total_lines': 13},\n",
              " {'line_number': 12,\n",
              "  'target': 'CONCLUSIONS',\n",
              "  'text': 'according to the present study , the risk profile and management of chinese patients with af/afl differed from that observed in previous studies .',\n",
              "  'total_lines': 13},\n",
              " {'line_number': 13,\n",
              "  'target': 'CONCLUSIONS',\n",
              "  'text': 'the use of oac inadequately deviate from current guidelines .',\n",
              "  'total_lines': 13},\n",
              " {'line_number': 0,\n",
              "  'target': 'OBJECTIVE',\n",
              "  'text': 'the acosog ( american college of surgeons oncology group ) z@ ( alliance ) study , a randomized , placebo-controlled trial , demonstrated that @ year of adjuvant imatinib prolonged recurrence-free survival ( rfs ) after resection of primary gi stromal tumor ( gist ) .',\n",
              "  'total_lines': 11},\n",
              " {'line_number': 1,\n",
              "  'target': 'OBJECTIVE',\n",
              "  'text': 'we sought to determine the pathologic and molecular factors associated with patient outcome .',\n",
              "  'total_lines': 11},\n",
              " {'line_number': 2,\n",
              "  'target': 'METHODS',\n",
              "  'text': 'there were @ patients assigned to the placebo arm and @ to the imatinib arm .',\n",
              "  'total_lines': 11},\n",
              " {'line_number': 3,\n",
              "  'target': 'METHODS',\n",
              "  'text': 'median patient follow-up was @ months .',\n",
              "  'total_lines': 11},\n",
              " {'line_number': 4,\n",
              "  'target': 'METHODS',\n",
              "  'text': 'there were @ tumor specimens available for mitotic rate or mutation analysis .',\n",
              "  'total_lines': 11},\n",
              " {'line_number': 5,\n",
              "  'target': 'RESULTS',\n",
              "  'text': 'rfs remained superior in the imatinib arm ( hazard ratio , @ ; @ % ci , @ to @ ; cox model-adjusted p < @ ) .',\n",
              "  'total_lines': 11},\n",
              " {'line_number': 6,\n",
              "  'target': 'RESULTS',\n",
              "  'text': 'on multivariable analysis of patients in the placebo arm , large tumor size , small bowel location , and high mitotic rate were associated with lower rfs , whereas tumor genotype was not significantly associated with rfs .',\n",
              "  'total_lines': 11},\n",
              " {'line_number': 7,\n",
              "  'target': 'RESULTS',\n",
              "  'text': 'multivariable analysis of patients in the imatinib arm yielded similar findings .',\n",
              "  'total_lines': 11},\n",
              " {'line_number': 8,\n",
              "  'target': 'RESULTS',\n",
              "  'text': 'when comparing the two arms , imatinib therapy was associated with higher rfs in patients with a kit exon @ deletion of any type , but not a kit exon @ insertion or point mutation , kit exon @ mutation , pdgfra mutation , or wild-type tumor , although some of these patient groups were small .',\n",
              "  'total_lines': 11},\n",
              " {'line_number': 9,\n",
              "  'target': 'RESULTS',\n",
              "  'text': 'adjuvant imatinib did not seem to alter overall survival .',\n",
              "  'total_lines': 11},\n",
              " {'line_number': 10,\n",
              "  'target': 'CONCLUSIONS',\n",
              "  'text': 'our findings show that tumor size , location , and mitotic rate , but not tumor genotype , are associated with the natural history of gist .',\n",
              "  'total_lines': 11},\n",
              " {'line_number': 11,\n",
              "  'target': 'CONCLUSIONS',\n",
              "  'text': 'patients with kit exon @ deletions assigned to @ year of adjuvant imatinib had a longer rfs .',\n",
              "  'total_lines': 11},\n",
              " {'line_number': 0,\n",
              "  'target': 'BACKGROUND',\n",
              "  'text': 'nausea and vomiting are two of the most frequently experienced postoperative side effects complicating one third of the cases .',\n",
              "  'total_lines': 9},\n",
              " {'line_number': 1,\n",
              "  'target': 'BACKGROUND',\n",
              "  'text': 'the objective of this study was to determine the effectiveness of gastric decompression in reducing the incidence and complications associated with post-tonsillectomy vomiting in children .',\n",
              "  'total_lines': 9},\n",
              " {'line_number': 2,\n",
              "  'target': 'METHODS',\n",
              "  'text': 'this was a randomised control study conducted at the ent department , ayub teaching hospital abbottabad from january to june @ .',\n",
              "  'total_lines': 9},\n",
              " {'line_number': 3,\n",
              "  'target': 'METHODS',\n",
              "  'text': 'patients included in this study were divided into two groups , group a undergoing gastric aspiration and group b not undergoing gastric aspiration .',\n",
              "  'total_lines': 9},\n",
              " {'line_number': 4,\n",
              "  'target': 'METHODS',\n",
              "  'text': 'gastric aspiration was done with an oro-gastric tube placed under direct visualisation while the patient was still under general anaesthesia .',\n",
              "  'total_lines': 9},\n",
              " {'line_number': 5,\n",
              "  'target': 'METHODS',\n",
              "  'text': 'the incidence of vomiting , episodes of vomiting and the need for rescue anti-emetic prophylaxis were noted .',\n",
              "  'total_lines': 9},\n",
              " {'line_number': 6,\n",
              "  'target': 'RESULTS',\n",
              "  'text': 'a total of @ patients were included in the study .',\n",
              "  'total_lines': 9},\n",
              " {'line_number': 7,\n",
              "  'target': 'RESULTS',\n",
              "  'text': 'their ages ranged from @ to @ years with mean age @ + / - @ years .',\n",
              "  'total_lines': 9},\n",
              " {'line_number': 8,\n",
              "  'target': 'RESULTS',\n",
              "  'text': 'no statistically significant difference ( p > @ ) was noted between the two groups for the patients experiencing vomiting ( @ % vs @ % , p = @ ) , the mean number of episodes of vomiting ( @ vs @ , p = @ ) , and patients requiring rescue anti-emetics ( @ % vs @ % , p = @ ) .',\n",
              "  'total_lines': 9},\n",
              " {'line_number': 9,\n",
              "  'target': 'CONCLUSIONS',\n",
              "  'text': 'gastric aspiration during tonsillectomy is not useful in reducing post-tonsillectomy vomiting .',\n",
              "  'total_lines': 9},\n",
              " {'line_number': 0,\n",
              "  'target': 'OBJECTIVE',\n",
              "  'text': 'this study evaluated the efficacy and safety of atl@ , an antisense oligonucleotide that selectively targets the rna for human cd@d , the subunit of very late antigen @ , in patients with relapsing-remitting multiple sclerosis ( rrms ) .',\n",
              "  'total_lines': 10},\n",
              " {'line_number': 1,\n",
              "  'target': 'METHODS',\n",
              "  'text': 'in a multicenter , double-blind , placebo-controlled randomized phase ii trial , @ patients with rrms were treated with @ mg of atl@ subcutaneously injected @ times in the first week and twice weekly for @ weeks or placebo and monitored for a further @ weeks .',\n",
              "  'total_lines': 10},\n",
              " {'line_number': 2,\n",
              "  'target': 'METHODS',\n",
              "  'text': 'mri scans were taken at baseline and weeks @ , @ , @ , and @ .',\n",
              "  'total_lines': 10},\n",
              " {'line_number': 3,\n",
              "  'target': 'METHODS',\n",
              "  'text': 'the primary endpoint was the cumulative number of new active lesions ( either new gadolinium-enhancing t@ lesions or nonenhancing new or enlarging t@ lesions ) at weeks @ , @ , and @ .',\n",
              "  'total_lines': 10},\n",
              " {'line_number': 4,\n",
              "  'target': 'RESULTS',\n",
              "  'text': 'a total of @ patients completed the study and @ intention-to-treat patients were assessed .',\n",
              "  'total_lines': 10},\n",
              " {'line_number': 5,\n",
              "  'target': 'RESULTS',\n",
              "  'text': 'atl@ significantly reduced the cumulative number of new active lesions by @ % compared to placebo ( mean @ -lsb- sd @ -rsb- vs @ -lsb- @ -rsb- , p = @ ) .',\n",
              "  'total_lines': 10},\n",
              " {'line_number': 6,\n",
              "  'target': 'RESULTS',\n",
              "  'text': 'the cumulative number of new gadolinium-enhancing t@ lesions was reduced by @ % compared to placebo ( p = @ ) .',\n",
              "  'total_lines': 10},\n",
              " {'line_number': 7,\n",
              "  'target': 'RESULTS',\n",
              "  'text': 'treatment-emergent adverse events included mild to moderate injection site erythema and decrease in platelet counts that returned to within the normal range after dosing .',\n",
              "  'total_lines': 10},\n",
              " {'line_number': 8,\n",
              "  'target': 'CONCLUSIONS',\n",
              "  'text': 'in patients with rrms , atl@ significantly reduced disease activity after @ weeks of treatment and was generally well-tolerated .',\n",
              "  'total_lines': 10},\n",
              " {'line_number': 9,\n",
              "  'target': 'CONCLUSIONS',\n",
              "  'text': 'this trial provides evidence for the first time that antisense oligonucleotides may be used as a therapeutic approach in neuroimmunologic disorders .',\n",
              "  'total_lines': 10},\n",
              " {'line_number': 10,\n",
              "  'target': 'METHODS',\n",
              "  'text': 'this study provides class i evidence that for patients with rrms , the antisense oligonucleotide atl@ reduces the number of new active head mri lesions .',\n",
              "  'total_lines': 10},\n",
              " {'line_number': 0,\n",
              "  'target': 'OBJECTIVE',\n",
              "  'text': 'to compare bipolar with standard monopolar transurethral resection of the prostate ( turp ) .',\n",
              "  'total_lines': 11},\n",
              " {'line_number': 1,\n",
              "  'target': 'METHODS',\n",
              "  'text': 'a prospectively randomized study was conducted between january @ and september @ .',\n",
              "  'total_lines': 11},\n",
              " {'line_number': 2,\n",
              "  'target': 'METHODS',\n",
              "  'text': 'primary end points studied were efficacy ( maximum flow rate -lsb- qmax -rsb- , international prostate symptom score ) and safety ( adverse events , decline in postoperative serum sodium -lsb- na + -rsb- and haemoglobin -lsb- hb -rsb- levels ) .',\n",
              "  'total_lines': 11},\n",
              " {'line_number': 3,\n",
              "  'target': 'METHODS',\n",
              "  'text': 'secondary end points were operation time and duration of irrigation , catheterization , and hospitalization .',\n",
              "  'total_lines': 11},\n",
              " {'line_number': 4,\n",
              "  'target': 'RESULTS',\n",
              "  'text': 'sixty consecutive patients were randomized and completed the study , with @ patients in the monopolar turp group and @ in the turis group .',\n",
              "  'total_lines': 11},\n",
              " {'line_number': 5,\n",
              "  'target': 'RESULTS',\n",
              "  'text': 'at baseline , the two groups were comparable in age , prostate volume , mean prostate-specific antigen value , international prostate symptom score , and they had at least @ months of follow-up .',\n",
              "  'total_lines': 11},\n",
              " {'line_number': 6,\n",
              "  'target': 'RESULTS',\n",
              "  'text': 'declines in the mean postoperative serum na + for bipolar and monopolar turp groups were @ and @ mmol/l , respectively .',\n",
              "  'total_lines': 11},\n",
              " {'line_number': 7,\n",
              "  'target': 'RESULTS',\n",
              "  'text': 'however , there was no statistical difference in the decline in postoperative hb between the two groups .',\n",
              "  'total_lines': 11},\n",
              " {'line_number': 8,\n",
              "  'target': 'RESULTS',\n",
              "  'text': 'the mean catheterization time was @ and @ hours in the bipolar and standard groups , respectively .',\n",
              "  'total_lines': 11},\n",
              " {'line_number': 9,\n",
              "  'target': 'RESULTS',\n",
              "  'text': 'this difference was statistically significant as was the difference in the time to hospital discharge .',\n",
              "  'total_lines': 11},\n",
              " {'line_number': 10,\n",
              "  'target': 'RESULTS',\n",
              "  'text': 'the ipss and qmax improvements were comparable between the two groups at @ months of follow-up .',\n",
              "  'total_lines': 11},\n",
              " {'line_number': 11,\n",
              "  'target': 'CONCLUSIONS',\n",
              "  'text': 'no clinically relevant differences in short-term efficacy are existed between the two techniques , but bipolar turp is preferable due to a more favorable safety profile and shorter catheterization duration .',\n",
              "  'total_lines': 11},\n",
              " {'line_number': 0,\n",
              "  'target': 'OBJECTIVE',\n",
              "  'text': 'larger biopsy specimens or increasing the number of biopsies may improve the diagnostic accuracy of gastric epithelial neoplasia ( gen ) .',\n",
              "  'total_lines': 8},\n",
              " {'line_number': 1,\n",
              "  'target': 'OBJECTIVE',\n",
              "  'text': 'the aims of this study was to compare the diagnostic accuracies between conventional and jumbo forceps biopsy of gen before endoscopic submucosal dissection ( esd ) and to confirm that increasing the number of biopsies is useful for the diagnosis of gen.',\n",
              "  'total_lines': 8},\n",
              " {'line_number': 2,\n",
              "  'target': 'RESULTS',\n",
              "  'text': 'the concordance rate between efb and esd specimens was not significantly different between the two groups -lsb- @ % ( @/@ ) in jg vs. @ % ( @/@ ) in cg -rsb- .',\n",
              "  'total_lines': 8},\n",
              " {'line_number': 3,\n",
              "  'target': 'RESULTS',\n",
              "  'text': 'on multivariate analyses , two or four efbs significantly increased the cumulating concordance rate -lsb- coefficients ; twice : @ ( p = @ ) , four times : @ ( p = @ ) -rsb- .',\n",
              "  'total_lines': 8},\n",
              " {'line_number': 4,\n",
              "  'target': 'RESULTS',\n",
              "  'text': 'but , the concordance rate was decreased in high grade dysplasia ( coefficient -@ , p = @ ) .',\n",
              "  'total_lines': 8},\n",
              " {'line_number': 5,\n",
              "  'target': 'METHODS',\n",
              "  'text': 'one hundred and sixty gens from @ patients were randomized into two groups and finally @ gens in @ patients and @ gens in @ patients were allocated to the conventional group ( cg ) or jumbo group ( jg ) , respectively .',\n",
              "  'total_lines': 8},\n",
              " {'line_number': 6,\n",
              "  'target': 'METHODS',\n",
              "  'text': 'four endoscopic forceps biopsy ( efb ) specimens were obtained from each lesion with conventional ( @ mm ) forceps or jumbo ( @ mm ) forceps .',\n",
              "  'total_lines': 8},\n",
              " {'line_number': 7,\n",
              "  'target': 'METHODS',\n",
              "  'text': 'the histological concordance rate between @ efb specimens and esd specimens was investigated in the two groups .',\n",
              "  'total_lines': 8},\n",
              " {'line_number': 8,\n",
              "  'target': 'CONCLUSIONS',\n",
              "  'text': 'before esd , the diagnostic accuracy of gens was significantly increased not by the use of jumbo forceps biopsy but by increasing the number of biopsies .',\n",
              "  'total_lines': 8},\n",
              " {'line_number': 0,\n",
              "  'target': 'OBJECTIVE',\n",
              "  'text': 'prospective trials specifically designed for elderly patients with advanced non-small-cell lung cancer demonstrating the benefit of platinum-based therapies are still lacking .',\n",
              "  'total_lines': 10},\n",
              " {'line_number': 1,\n",
              "  'target': 'OBJECTIVE',\n",
              "  'text': 'this trial was designed to clarify whether the addition of cisplatin to monotherapy could improve survival for elderly patients .',\n",
              "  'total_lines': 10},\n",
              " {'line_number': 2,\n",
              "  'target': 'METHODS',\n",
              "  'text': 'elderly patients ( age @ years , ecog performance status @-@ ) with advanced non-small-cell lung cancer were randomized to receive docetaxel @ mg/m ( @ ) plus cisplatin @ mg/m ( @ ) on day @ , @ and @ ( docetaxel plus cisplatin ) or docetaxel @ mg/m ( @ ) on the same schedule ( docetaxel ) .',\n",
              "  'total_lines': 10},\n",
              " {'line_number': 3,\n",
              "  'target': 'METHODS',\n",
              "  'text': 'both regimens were repeated every @ weeks until disease progression .',\n",
              "  'total_lines': 10},\n",
              " {'line_number': 4,\n",
              "  'target': 'RESULTS',\n",
              "  'text': 'one hundred and twenty-six patients were enrolled .',\n",
              "  'total_lines': 10},\n",
              " {'line_number': 5,\n",
              "  'target': 'RESULTS',\n",
              "  'text': 'sixty-three were randomly assigned docetaxel plus cisplatin and @ docetaxel monotherapy .',\n",
              "  'total_lines': 10},\n",
              " {'line_number': 6,\n",
              "  'target': 'RESULTS',\n",
              "  'text': 'median age was @ years ( range @-@ ) .',\n",
              "  'total_lines': 10},\n",
              " {'line_number': 7,\n",
              "  'target': 'RESULTS',\n",
              "  'text': 'the second planned interim analysis was performed on @ assessable patients ( docetaxel/docetaxel plus cisplatin : @/@ ) .',\n",
              "  'total_lines': 10},\n",
              " {'line_number': 8,\n",
              "  'target': 'RESULTS',\n",
              "  'text': 'although the formal criterion for stopping the trial was not met , the data and safety monitoring committee recommended study termination on ethical grounds based on the interaction ( two-sided p = @ , hazard ratios for @/@ : @ / @ ) between age and subgroup and treatment arm , which suggested that docetaxel may not represent an adequate control arm regimen for the age subgroup of @-@ years .',\n",
              "  'total_lines': 10},\n",
              " {'line_number': 9,\n",
              "  'target': 'CONCLUSIONS',\n",
              "  'text': 'the interpretation of study results is limited due to early stopping .',\n",
              "  'total_lines': 10},\n",
              " {'line_number': 10,\n",
              "  'target': 'CONCLUSIONS',\n",
              "  'text': 'further study is needed to confirm survival benefit of platinum-based chemotherapy for elderly non-small-cell lung cancer -lsb- umin-ctr ( www.umin.ac.jp/ctr/ ) id : c@ -rsb- .',\n",
              "  'total_lines': 10},\n",
              " {'line_number': 0,\n",
              "  'target': 'BACKGROUND',\n",
              "  'text': 'recommended therapy duration for patients hospitalized with cellulitis is @-@ days .',\n",
              "  'total_lines': 11},\n",
              " {'line_number': 1,\n",
              "  'target': 'BACKGROUND',\n",
              "  'text': 'unnecessary use of antibiotics is one of the key factors driving resistance .',\n",
              "  'total_lines': 11},\n",
              " {'line_number': 2,\n",
              "  'target': 'BACKGROUND',\n",
              "  'text': 'recent studies have shown that antibiotic therapy for cellulitis in outpatients can safely be shortened , despite residual inflammation .',\n",
              "  'total_lines': 11},\n",
              " {'line_number': 3,\n",
              "  'target': 'BACKGROUND',\n",
              "  'text': 'this study will compare in hospitalized patients the safety and effectiveness of shortening antibiotic therapy for cellulitis from @ to @ days .',\n",
              "  'total_lines': 11},\n",
              " {'line_number': 4,\n",
              "  'target': 'METHODS',\n",
              "  'text': 'in a multicenter , randomized , double-blind , non-inferiority trial , adult patients admitted with cellulitis will be included .',\n",
              "  'total_lines': 11},\n",
              " {'line_number': 5,\n",
              "  'target': 'METHODS',\n",
              "  'text': 'cellulitis is defined as warmth , erythema , and induration of the skin and/or subcutaneous tissue , with or without pain ( including erysipelas ) .',\n",
              "  'total_lines': 11},\n",
              " {'line_number': 6,\n",
              "  'target': 'METHODS',\n",
              "  'text': 'all patients will initially be treated with intravenous flucloxacillin , and will be evaluated after @-@ days .',\n",
              "  'total_lines': 11},\n",
              " {'line_number': 7,\n",
              "  'target': 'METHODS',\n",
              "  'text': 'those who have improved substantially ( defined as being afebrile , and having a lower cellulitis severity score ) will be randomized at day @ between additional @ days of oral flucloxacillin ( n = @ ) or placebo ( n = @ ) .',\n",
              "  'total_lines': 11},\n",
              " {'line_number': 8,\n",
              "  'target': 'METHODS',\n",
              "  'text': 'treatment success is defined as resolution of cellulitis on day @ ( disappearance of warmth and tenderness , improvement of erythema and edema ) , without the need of additional antibiotics for cellulitis by day @ .',\n",
              "  'total_lines': 11},\n",
              " {'line_number': 9,\n",
              "  'target': 'METHODS',\n",
              "  'text': 'secondary endpoints are relapse rate ( up to day @ ) , speed of recovery ( using a cellulitis severity score until day @ , and vas scores on pain and swelling until day @ ) , quality of life ( using the sf-@ and eq-@d questionnaires ) and costs ( associated with total antibiotic use and health-care resource utilization up to day @ ) .',\n",
              "  'total_lines': 11},\n",
              " {'line_number': 10,\n",
              "  'target': 'CONCLUSIONS',\n",
              "  'text': 'inclusion is planned to start in q@ @ .',\n",
              "  'total_lines': 11},\n",
              " {'line_number': 11,\n",
              "  'target': 'BACKGROUND',\n",
              "  'text': 'clinicaltrials.gov ( nct@ ) and the netherlands trial register ( ntr@ ) .',\n",
              "  'total_lines': 11},\n",
              " {'line_number': 0,\n",
              "  'target': 'BACKGROUND',\n",
              "  'text': 'injection opioid use plays a significant role in the transmission of hiv infection in many communities and several regions of the world .',\n",
              "  'total_lines': 13},\n",
              " {'line_number': 1,\n",
              "  'target': 'BACKGROUND',\n",
              "  'text': 'access to evidence-based treatments for opioid use disorders is extremely limited .',\n",
              "  'total_lines': 13},\n",
              " {'line_number': 2,\n",
              "  'target': 'METHODS',\n",
              "  'text': 'hiv prevention trials network @ ( hptn @ ) was a randomized controlled trial designed to compare the impact of @ medication-assisted treatment ( mat ) strategies on hiv incidence or death among opioid-dependent people who inject drugs ( pwid ) .',\n",
              "  'total_lines': 13},\n",
              " {'line_number': 3,\n",
              "  'target': 'METHODS',\n",
              "  'text': 'hiv-negative opioid-dependent pwid were recruited from @ communities in thailand and china with historically high prevalence of hiv among pwid .',\n",
              "  'total_lines': 13},\n",
              " {'line_number': 4,\n",
              "  'target': 'METHODS',\n",
              "  'text': 'a total of @ participants were randomly assigned to either ( @ ) a @-year intervention consisting of @ opportunities for a @-day detoxification with buprenorphine/naloxone ( bup/nx ) combined with up to @ sessions of behavioral drug and risk counseling -lsb- short-term medication-assisted treatment ( st-mat ) -rsb- or ( @ ) thrice-weekly dosing for @ weeks with bup/nx and up to @ counseling sessions -lsb- long-term medication-assisted treatment ( lt-mat ) -rsb- followed by dose tapering .',\n",
              "  'total_lines': 13},\n",
              " {'line_number': 5,\n",
              "  'target': 'METHODS',\n",
              "  'text': 'all participants were followed for @ weeks after treatment completion to assess durability of impact .',\n",
              "  'total_lines': 13},\n",
              " {'line_number': 6,\n",
              "  'target': 'RESULTS',\n",
              "  'text': 'although the study was stopped early due to lower than expected occurrence of the primary end points , sufficient data were available to assess the impact of the interventions on drug use and injection-related risk behavior .',\n",
              "  'total_lines': 13},\n",
              " {'line_number': 7,\n",
              "  'target': 'RESULTS',\n",
              "  'text': 'at week @ , @ % of st-mat participants had negative urinalyses for opioids compared with @ % in the lt-mat ( p < @ ) .',\n",
              "  'total_lines': 13},\n",
              " {'line_number': 8,\n",
              "  'target': 'RESULTS',\n",
              "  'text': 'differences disappeared in the year after treatment : at week @ , @ % in st-mat and @ % in the lt-mat had negative urinalyses .',\n",
              "  'total_lines': 13},\n",
              " {'line_number': 9,\n",
              "  'target': 'RESULTS',\n",
              "  'text': 'injection-related risk behaviors were significantly reduced in both groups after randomization .',\n",
              "  'total_lines': 13},\n",
              " {'line_number': 10,\n",
              "  'target': 'CONCLUSIONS',\n",
              "  'text': 'participants receiving bup/nx @ times weekly were more likely to reduce opioid injection while on active treatment .',\n",
              "  'total_lines': 13},\n",
              " {'line_number': 11,\n",
              "  'target': 'CONCLUSIONS',\n",
              "  'text': 'both treatment strategies were considered safe and associated with reductions in injection-related risk behavior .',\n",
              "  'total_lines': 13},\n",
              " {'line_number': 12,\n",
              "  'target': 'CONCLUSIONS',\n",
              "  'text': 'these data support the use of thrice-weekly bup/nx as a way to reduce exposure to hiv risk .',\n",
              "  'total_lines': 13},\n",
              " {'line_number': 13,\n",
              "  'target': 'CONCLUSIONS',\n",
              "  'text': 'continued access to bup/nx may be required to sustain reductions in opioid use .',\n",
              "  'total_lines': 13},\n",
              " {'line_number': 0,\n",
              "  'target': 'BACKGROUND',\n",
              "  'text': 'medication use is a potentially modifiable risk factor for falling ; psychotropic and cardiovascular drugs have been indicated as main drug groups that increase fall risk .',\n",
              "  'total_lines': 13},\n",
              " {'line_number': 1,\n",
              "  'target': 'BACKGROUND',\n",
              "  'text': 'however , evidence is mainly based on studies that recorded falls retrospectively and/or did not determine medication use at the time of the fall .',\n",
              "  'total_lines': 13},\n",
              " {'line_number': 2,\n",
              "  'target': 'BACKGROUND',\n",
              "  'text': 'therefore , we investigated the associations indicated in the literature between medication use and falls , using prospectively recorded falls and medication use determined at the time of the fall .',\n",
              "  'total_lines': 13},\n",
              " {'line_number': 3,\n",
              "  'target': 'METHODS',\n",
              "  'text': 'data from the b-proof ( b-vitamins for the prevention of osteoporotic fractures ) study were used , concerning community-dwelling elderly aged @ years .',\n",
              "  'total_lines': 13},\n",
              " {'line_number': 4,\n",
              "  'target': 'METHODS',\n",
              "  'text': 'we included @,@ participants with pharmacy dispensing records .',\n",
              "  'total_lines': 13},\n",
              " {'line_number': 5,\n",
              "  'target': 'METHODS',\n",
              "  'text': 'during the @ - to @-year follow-up , participants recorded falls using a fall calendar .',\n",
              "  'total_lines': 13},\n",
              " {'line_number': 6,\n",
              "  'target': 'METHODS',\n",
              "  'text': 'cox proportional hazard models were applied , adjusting for potential confounders including age , sex , health status variables and concomitant medication use .',\n",
              "  'total_lines': 13},\n",
              " {'line_number': 7,\n",
              "  'target': 'RESULTS',\n",
              "  'text': 'during follow-up , @,@ participants experienced at least one fall .',\n",
              "  'total_lines': 13},\n",
              " {'line_number': 8,\n",
              "  'target': 'RESULTS',\n",
              "  'text': 'users of anti-arrhythmic medication had an increased fall risk ( hazard ratio -lsb- hr -rsb- @ ; @ % confidence interval -lsb- ci -rsb- @-@ @ ) compared with non-users .',\n",
              "  'total_lines': 13},\n",
              " {'line_number': 9,\n",
              "  'target': 'RESULTS',\n",
              "  'text': 'similarly , non-selective beta-blocker use was associated with an increased fall risk ( hr @ -lsb- @ % ci @-@ @ -rsb- ) , while statin use was associated with a lower risk ( hr @ -lsb- @ % ci @-@ @ -rsb- ) .',\n",
              "  'total_lines': 13},\n",
              " {'line_number': 10,\n",
              "  'target': 'RESULTS',\n",
              "  'text': 'benzodiazepine use ( hr @ -lsb- @ % ci @-@ @ -rsb- ) , and antidepressant use ( hr @ -lsb- @ % ci @-@ @ -rsb- ) were associated with an increased fall risk .',\n",
              "  'total_lines': 13},\n",
              " {'line_number': 11,\n",
              "  'target': 'RESULTS',\n",
              "  'text': 'use of other cardiovascular and psychotropic medication was not associated with fall risk .',\n",
              "  'total_lines': 13},\n",
              " {'line_number': 12,\n",
              "  'target': 'CONCLUSIONS',\n",
              "  'text': 'our results strengthen the evidence for an increased fall risk in community-dwelling elderly during the use of anti-arrhythmics , non-selective beta-blockers , benzodiazepines , and antidepressant medication .',\n",
              "  'total_lines': 13},\n",
              " {'line_number': 13,\n",
              "  'target': 'CONCLUSIONS',\n",
              "  'text': 'clinicians should prescribe these drugs cautiously and if possible choose safer alternatives for older patients .',\n",
              "  'total_lines': 13},\n",
              " {'line_number': 0,\n",
              "  'target': 'BACKGROUND',\n",
              "  'text': 'patients with end-stage renal disease are at a high risk of adverse cardiovascular events .',\n",
              "  'total_lines': 10},\n",
              " {'line_number': 1,\n",
              "  'target': 'BACKGROUND',\n",
              "  'text': 'elevated level of homocysteine is an important risk factor for cardiovascular morbidity and mortality in dialysis patients .',\n",
              "  'total_lines': 10},\n",
              " {'line_number': 2,\n",
              "  'target': 'BACKGROUND',\n",
              "  'text': 'there are some strategies for reduction of serum homocysteine level in these patients , including folate and vitamin supplementation .',\n",
              "  'total_lines': 10},\n",
              " {'line_number': 3,\n",
              "  'target': 'BACKGROUND',\n",
              "  'text': 'the aim of the present study was to evaluate the effect of omega-@ supplementation on serum homocysteine level in patients on hemodialysis .',\n",
              "  'total_lines': 10},\n",
              " {'line_number': 4,\n",
              "  'target': 'METHODS',\n",
              "  'text': 'in a randomized controlled trial , @ hemodialysis patients were assigned into two groups to receive omega-@ ( oral capsule , @ g/d ) or placebo for @ months .',\n",
              "  'total_lines': 10},\n",
              " {'line_number': 5,\n",
              "  'target': 'METHODS',\n",
              "  'text': 'complete blood count , blood urea nitrogen , serum creatinine , serum lipids , and serum homocysteine levels were measured before the study and after @ months at the end of study .',\n",
              "  'total_lines': 10},\n",
              " {'line_number': 6,\n",
              "  'target': 'RESULTS',\n",
              "  'text': 'of @ patients , @ in each group were excluded , and @ patients in each group completed the study .',\n",
              "  'total_lines': 10},\n",
              " {'line_number': 7,\n",
              "  'target': 'RESULTS',\n",
              "  'text': 'there were no significant differences regarding the age , sex , and the number of dialysis sessions per week between the two groups .',\n",
              "  'total_lines': 10},\n",
              " {'line_number': 8,\n",
              "  'target': 'RESULTS',\n",
              "  'text': 'no difference was observed between the two groups in the laboratory investigations at the end of the study , except for a significant reduction in serum homocysteine level in the omega-@ group as compared to the placebo group ( p = @ ) .',\n",
              "  'total_lines': 10},\n",
              " {'line_number': 9,\n",
              "  'target': 'CONCLUSIONS',\n",
              "  'text': 'our study showed a significant reduction regulated by omega-@ supplementation in serum homocysteine level which is a cardiovascular risk factor among hemodialysis patients .',\n",
              "  'total_lines': 10},\n",
              " {'line_number': 10,\n",
              "  'target': 'CONCLUSIONS',\n",
              "  'text': 'omega-@ can be considered as another homocysteine-reducing agent in this population .',\n",
              "  'total_lines': 10},\n",
              " {'line_number': 0,\n",
              "  'target': 'BACKGROUND',\n",
              "  'text': 'intra-articular corticosteroids are a mainstay in the treatment of knee osteoarthritis , and in clinical trials , they demonstrate a large initial analgesic effect that wanes over one to four weeks with the rapid efflux of drug from the joint .',\n",
              "  'total_lines': 10},\n",
              " {'line_number': 1,\n",
              "  'target': 'BACKGROUND',\n",
              "  'text': 'the present study was undertaken to determine if fx@ , an extended-release formulation of triamcinolone acetonide , can provide pain relief that is superior to the current standard of care , immediate-release triamcinolone acetonide .',\n",
              "  'total_lines': 10},\n",
              " {'line_number': 2,\n",
              "  'target': 'METHODS',\n",
              "  'text': 'in this phase-@ , double-blind , multicenter study , @ patients with moderate to severe knee osteoarthritis pain were randomized to a single intra-articular injection of fx@ ( containing @ , @ , or @ mg of triamcinolone acetonide ) or @ mg of immediate-release triamcinolone acetonide .',\n",
              "  'total_lines': 10},\n",
              " {'line_number': 3,\n",
              "  'target': 'METHODS',\n",
              "  'text': 'data on the mean daily pain on the @-point numeric rating scale were collected over twelve weeks ; the primary efficacy end point was the change from baseline to each of eight , ten , and twelve weeks in the weekly mean of the mean daily pain intensity scores analyzed with a longitudinal mixed-effects model .',\n",
              "  'total_lines': 10},\n",
              " {'line_number': 4,\n",
              "  'target': 'RESULTS',\n",
              "  'text': 'the @-mg dose of fx@ produced pain relief that was improved relative to immediate-release triamcinolone acetonide at two through twelve weeks , although the difference in pain relief was not significant ( p @ ) .',\n",
              "  'total_lines': 10},\n",
              " {'line_number': 5,\n",
              "  'target': 'RESULTS',\n",
              "  'text': 'the @-mg dose of fx@ produced pain relief that was improved at two through twelve weeks and was significantly superior to immediate-release triamcinolone acetonide at five to ten weeks ( p < @ at each time point ) .',\n",
              "  'total_lines': 10},\n",
              " {'line_number': 6,\n",
              "  'target': 'RESULTS',\n",
              "  'text': 'at the @-mg dose of fx@ , prespecified secondary analyses , including responder analyses and all western ontario and mcmaster universities subscales , were significantly superior ( p < @ ) to immediate-release triamcinolone acetonide at eight weeks , and the time-weighted mean pain relief ( assessed with mean daily pain intensity scores ) was significantly superior to immediate-release triamcinolone acetonide over one to twelve weeks ( p = @ ) .',\n",
              "  'total_lines': 10},\n",
              " {'line_number': 7,\n",
              "  'target': 'RESULTS',\n",
              "  'text': 'the @-mg dose did not provide additional improvement relative to the @-mg dose .',\n",
              "  'total_lines': 10},\n",
              " {'line_number': 8,\n",
              "  'target': 'RESULTS',\n",
              "  'text': 'adverse events were generally mild and similar across all treatments .',\n",
              "  'total_lines': 10},\n",
              " {'line_number': 9,\n",
              "  'target': 'CONCLUSIONS',\n",
              "  'text': 'intra-articular injection of fx@ , an extended-release formulation of triamcinolone acetonide , provided a clinically relevant improvement in pain relief in patients with knee osteoarthritis relative to immediate-release triamcinolone acetonide , the current standard of care .',\n",
              "  'total_lines': 10},\n",
              " {'line_number': 10,\n",
              "  'target': 'METHODS',\n",
              "  'text': 'therapeutic level i. see instructions for authors for a complete description of levels of evidence .',\n",
              "  'total_lines': 10},\n",
              " {'line_number': 0,\n",
              "  'target': 'BACKGROUND',\n",
              "  'text': 'the mitraclip realism ( abbott vascular , menlo park , ca ) trial included several inclusion criteria to identify patients at high risk for conventional mitral valve ( mv ) surgery .',\n",
              "  'total_lines': 11},\n",
              " {'line_number': 1,\n",
              "  'target': 'BACKGROUND',\n",
              "  'text': 'this study evaluated contemporary surgical outcomes for high-risk surgical patients who met these defined criteria to serve as a benchmark to evaluate appropriateness in treatment allocation between surgical and percutaneous mv repair .',\n",
              "  'total_lines': 11},\n",
              " {'line_number': 2,\n",
              "  'target': 'METHODS',\n",
              "  'text': 'a statewide society for thoracic surgeons ( sts ) database was queried for patients undergoing isolated mitral valve surgery over a @-year study period from @ different hospitals .',\n",
              "  'total_lines': 11},\n",
              " {'line_number': 3,\n",
              "  'target': 'METHODS',\n",
              "  'text': 'patients were stratified into high-risk ( hr ) versus non-high-risk ( non-hr ) cohorts based upon clinical criteria similar to those utilized in the realism trial .',\n",
              "  'total_lines': 11},\n",
              " {'line_number': 4,\n",
              "  'target': 'METHODS',\n",
              "  'text': 'mixed effects multivariable regression modeling was used to evaluate study endpoints including mortality , morbidity , and resource utilization .',\n",
              "  'total_lines': 11},\n",
              " {'line_number': 5,\n",
              "  'target': 'RESULTS',\n",
              "  'text': 'of @,@ isolated mitral operations , @ % ( n = @ ) were hr per realism criteria .',\n",
              "  'total_lines': 11},\n",
              " {'line_number': 6,\n",
              "  'target': 'RESULTS',\n",
              "  'text': 'median sts predicted risk of mortality ( prom ) for hr patients was @ % compared with @ % for non-hr patients ( p < @ ) .',\n",
              "  'total_lines': 11},\n",
              " {'line_number': 7,\n",
              "  'target': 'RESULTS',\n",
              "  'text': 'the hr patients more commonly underwent mv replacement as well as urgent ( @ % vs @ % , p < @ ) operations .',\n",
              "  'total_lines': 11},\n",
              " {'line_number': 8,\n",
              "  'target': 'RESULTS',\n",
              "  'text': 'high-risk patients incurred higher morbidity and mortality ( @ % vs @ % ) with longer intensive care unit ( @ vs @ hours ) and hospital stays ( @ vs @ days , all p < @ ) .',\n",
              "  'total_lines': 11},\n",
              " {'line_number': 9,\n",
              "  'target': 'RESULTS',\n",
              "  'text': 'among realism criteria , sts prom @ % or greater and high-risk sts criteria were the only criteria associated with mortality .',\n",
              "  'total_lines': 11},\n",
              " {'line_number': 10,\n",
              "  'target': 'CONCLUSIONS',\n",
              "  'text': 'select realism criteria , including reoperation with patent grafts and functional mr with ejection fraction less than @ , may not identify patients truly at high risk of death with surgery .',\n",
              "  'total_lines': 11},\n",
              " {'line_number': 11,\n",
              "  'target': 'CONCLUSIONS',\n",
              "  'text': 'in addition to conventional sts criteria , risk assessment by surgeons is essential to direct appropriate treatment allocation for high-risk mitral disease .',\n",
              "  'total_lines': 11},\n",
              " {'line_number': 0,\n",
              "  'target': 'OBJECTIVE',\n",
              "  'text': 'identification of pretreatment patient characteristics predictive of psychotherapy outcome could help to guide treatment choices .',\n",
              "  'total_lines': 8},\n",
              " {'line_number': 1,\n",
              "  'target': 'OBJECTIVE',\n",
              "  'text': \"this study evaluates patients ' initial level of immature defense style as a predictor of the outcome of short-term versus long-term psychotherapy .\",\n",
              "  'total_lines': 8},\n",
              " {'line_number': 2,\n",
              "  'target': 'METHODS',\n",
              "  'text': 'in the helsinki psychotherapy study , @ adult outpatients with mood or anxiety disorder were randomized to individual short-term ( psychodynamic or solution-focused ) or long-term ( psychodynamic ) psychotherapy .',\n",
              "  'total_lines': 8},\n",
              " {'line_number': 3,\n",
              "  'target': 'METHODS',\n",
              "  'text': 'their defense style was assessed at baseline using the @-item defense style questionnaire and classified as low or high around the median value of the respective score .',\n",
              "  'total_lines': 8},\n",
              " {'line_number': 4,\n",
              "  'target': 'METHODS',\n",
              "  'text': 'both specific ( beck depression inventory -lsb- bdi -rsb- , hamilton depression rating scale -lsb- hdrs -rsb- , symptom check list anxiety scale -lsb- scl-@-anx -rsb- , hamilton anxiety rating scale -lsb- hars -rsb- ) and global ( symptom check list global severity index -lsb- scl-@-gsi -rsb- , global assessment of functioning scale -lsb- gaf -rsb- ) psychiatric symptoms were measured at baseline and @-@ times during a @-year follow-up .',\n",
              "  'total_lines': 8},\n",
              " {'line_number': 5,\n",
              "  'target': 'RESULTS',\n",
              "  'text': 'patients with high use of immature defense style experienced greater symptom reduction in long-term than in short-term psychotherapy by the end of the @-year follow-up ( @ % vs. @ % ) .',\n",
              "  'total_lines': 8},\n",
              " {'line_number': 6,\n",
              "  'target': 'RESULTS',\n",
              "  'text': 'patients with low use of immature defense style experienced faster symptom reduction in short-term than in long-term psychotherapy during the first year of follow-up ( @ % vs. @ % ) .',\n",
              "  'total_lines': 8},\n",
              " {'line_number': 7,\n",
              "  'target': 'CONCLUSIONS',\n",
              "  'text': \"knowledge of patients ' initial level of immature defense style may potentially be utilized in tailoring treatments .\",\n",
              "  'total_lines': 8},\n",
              " {'line_number': 8,\n",
              "  'target': 'CONCLUSIONS',\n",
              "  'text': 'further research on defense styles as outcome predictors in psychotherapies of different types is needed .',\n",
              "  'total_lines': 8},\n",
              " {'line_number': 0,\n",
              "  'target': 'OBJECTIVE',\n",
              "  'text': 'the purpose of this study was to compare once-daily tacrolimus with twice-daily tacrolimus in terms of safety , efficacy , and patient satisfaction .',\n",
              "  'total_lines': 8},\n",
              " {'line_number': 1,\n",
              "  'target': 'METHODS',\n",
              "  'text': 'this prospective , randomized , open-label , multicenter study was conducted at three institutes .',\n",
              "  'total_lines': 8},\n",
              " {'line_number': 2,\n",
              "  'target': 'METHODS',\n",
              "  'text': 'patients in the investigational group were converted from tacrolimus twice daily to the same dose of extended-release tacrolimus once daily at @ month post-transplantation , while patients in the control group were maintained on tacrolimus twice daily .',\n",
              "  'total_lines': 8},\n",
              " {'line_number': 3,\n",
              "  'target': 'METHODS',\n",
              "  'text': 'the efficacies , safeties , and patient satisfaction for the two drugs at @ months post-transplantation were compared .',\n",
              "  'total_lines': 8},\n",
              " {'line_number': 4,\n",
              "  'target': 'RESULTS',\n",
              "  'text': 'sixty patients were enrolled and randomized to the investigational group ( @ of @ patients completed the study ) or the control group ( @ of @ patients completed the study ) .',\n",
              "  'total_lines': 8},\n",
              " {'line_number': 5,\n",
              "  'target': 'RESULTS',\n",
              "  'text': 'at @ months post-transplantation , composite efficacy failure rates including the incidences of biopsy-confirmed acute rejection in the investigational and control groups were @ % and @ % , respectively ; patient survival was @ % in each group .',\n",
              "  'total_lines': 8},\n",
              " {'line_number': 6,\n",
              "  'target': 'RESULTS',\n",
              "  'text': 'no difference in estimated glomerular filtration rate values were observed at @ months post-transplantation ( p = @ ) .',\n",
              "  'total_lines': 8},\n",
              " {'line_number': 7,\n",
              "  'target': 'RESULTS',\n",
              "  'text': 'the safety and satisfaction profile ( immunosuppressant therapy barrier scale ) of once-daily tacrolimus was comparable with that of twice-daily tacrolimus ( p = @ ) .',\n",
              "  'total_lines': 8},\n",
              " {'line_number': 8,\n",
              "  'target': 'CONCLUSIONS',\n",
              "  'text': 'conversion from twice-daily tacrolimus to once-daily tacrolimus one month after transplantation is safe and effective .',\n",
              "  'total_lines': 8},\n",
              " {'line_number': 0,\n",
              "  'target': 'BACKGROUND',\n",
              "  'text': 'serelaxin is a promising therapy for acute heart failure .',\n",
              "  'total_lines': 13},\n",
              " {'line_number': 1,\n",
              "  'target': 'BACKGROUND',\n",
              "  'text': 'the renal hemodynamic effects of serelaxin in patients with chronic heart failure are unknown .',\n",
              "  'total_lines': 13},\n",
              " {'line_number': 2,\n",
              "  'target': 'RESULTS',\n",
              "  'text': 'in this double-blind , randomized , placebo-controlled , multicenter study , patients with new york heart association class ii to iii chronic heart failure , left ventricular ejection fraction @ % , and estimated glomerular filtration rate ( gfr ) @ to @ ml/min per @ m ( @ ) received intravenous serelaxin @ g/kg per day or placebo for @ hours .',\n",
              "  'total_lines': 13},\n",
              " {'line_number': 3,\n",
              "  'target': 'RESULTS',\n",
              "  'text': 'primarily , we assessed the difference between serelaxin and placebo on renal plasma flow ( para-aminohippuric acid clearance ) and gfr ( iothalamate clearance ) over @ to @ hours .',\n",
              "  'total_lines': 13},\n",
              " {'line_number': 4,\n",
              "  'target': 'RESULTS',\n",
              "  'text': 'all @ patients from @ clinical site were excluded from primary analyses before unblinding because of implausible measurements .',\n",
              "  'total_lines': 13},\n",
              " {'line_number': 5,\n",
              "  'target': 'RESULTS',\n",
              "  'text': 'the primary analysis comprised @ patients , mean age was @ ( @ ) years , @ % were male , mean estimated gfr was @ ( @ ) ml/min per @ m ( @ ) , and @ % had new york heart association class iii symptoms .',\n",
              "  'total_lines': 13},\n",
              " {'line_number': 6,\n",
              "  'target': 'RESULTS',\n",
              "  'text': 'renal plasma flow increased by @ % with serelaxin and @ % with placebo ( @ % relative increase with serelaxin ; p = @ ) , whereas gfr changes did not differ significantly during @ to @ hours .',\n",
              "  'total_lines': 13},\n",
              " {'line_number': 7,\n",
              "  'target': 'RESULTS',\n",
              "  'text': 'filtration fraction increased by @ % with serelaxin and @ % with placebo ( @ % relative decrease with serelaxin ; p = @ ) during @ to @ hours .',\n",
              "  'total_lines': 13},\n",
              " {'line_number': 8,\n",
              "  'target': 'RESULTS',\n",
              "  'text': 'changes in systolic blood pressure were largely similar , and creatinine clearance did not differ between groups .',\n",
              "  'total_lines': 13},\n",
              " {'line_number': 9,\n",
              "  'target': 'RESULTS',\n",
              "  'text': 'adverse event rates were similar with serelaxin ( @ % ) and placebo ( @ % ) .',\n",
              "  'total_lines': 13},\n",
              " {'line_number': 10,\n",
              "  'target': 'CONCLUSIONS',\n",
              "  'text': 'in patients with chronic heart failure , serelaxin increased renal plasma flow and reduced the increase in filtration fraction compared with placebo , but did not affect gfr .',\n",
              "  'total_lines': 13},\n",
              " {'line_number': 11,\n",
              "  'target': 'CONCLUSIONS',\n",
              "  'text': 'these results suggest beneficial renal hemodynamic effects in patients with chronic heart failure .',\n",
              "  'total_lines': 13},\n",
              " {'line_number': 12,\n",
              "  'target': 'BACKGROUND',\n",
              "  'text': 'http://www.clinicaltrials.gov .',\n",
              "  'total_lines': 13},\n",
              " {'line_number': 13,\n",
              "  'target': 'BACKGROUND',\n",
              "  'text': 'unique identifier : nct@ .',\n",
              "  'total_lines': 13},\n",
              " {'line_number': 0,\n",
              "  'target': 'BACKGROUND',\n",
              "  'text': 'low-income and racial/ethnic minority populations experience disproportionate colorectal cancer ( crc ) burden and poorer survival .',\n",
              "  'total_lines': 12},\n",
              " {'line_number': 1,\n",
              "  'target': 'BACKGROUND',\n",
              "  'text': 'novel behavioral strategies are needed to improve screening rates in these groups .',\n",
              "  'total_lines': 12},\n",
              " {'line_number': 2,\n",
              "  'target': 'BACKGROUND',\n",
              "  'text': \"the study aimed to test a theoretically based `` implementation intentions '' intervention for improving crc screening among unscreened adults in urban safety-net clinics .\",\n",
              "  'total_lines': 12},\n",
              " {'line_number': 3,\n",
              "  'target': 'METHODS',\n",
              "  'text': 'randomized controlled trial .',\n",
              "  'total_lines': 12},\n",
              " {'line_number': 4,\n",
              "  'target': 'METHODS',\n",
              "  'text': 'adults ( n = @ ) aged @ years , due for crc screening , from urban safety-net clinics were recruited .',\n",
              "  'total_lines': 12},\n",
              " {'line_number': 5,\n",
              "  'target': 'METHODS',\n",
              "  'text': 'the intervention ( conducted in @-@ ) was delivered via touchscreen computers that tailored informational messages to decisional stage and screening barriers .',\n",
              "  'total_lines': 12},\n",
              " {'line_number': 6,\n",
              "  'target': 'METHODS',\n",
              "  'text': \"the computer then randomized participants to generic health information on diet and exercise ( comparison group ) or `` implementation intentions '' questions and planning ( experimental group ) specific to the crc screening test chosen ( fecal immunochemical test or colonoscopy ) .\",\n",
              "  'total_lines': 12},\n",
              " {'line_number': 7,\n",
              "  'target': 'METHODS',\n",
              "  'text': 'the primary study outcome was completion of crc screening at @ weeks based on test reports ( analysis conducted in @-@ ) .',\n",
              "  'total_lines': 12},\n",
              " {'line_number': 8,\n",
              "  'target': 'RESULTS',\n",
              "  'text': 'the study population had a mean age of @ years and was @ % non-hispanic african american , @ % non-hispanic white , and @ % hispanic .',\n",
              "  'total_lines': 12},\n",
              " {'line_number': 9,\n",
              "  'target': 'RESULTS',\n",
              "  'text': 'those receiving the implementation intentions-based intervention had higher odds ( aor = @ , @ % ci = @ , @ ) of completing crc screening than the comparison group .',\n",
              "  'total_lines': 12},\n",
              " {'line_number': 10,\n",
              "  'target': 'RESULTS',\n",
              "  'text': \"those with higher self-efficacy for screening ( aor = @ , @ % ci = @ , @ ) , history of asthma ( aor = @ , @ % ci = @ , @ ) , no history of diabetes ( aor = @ , @ % ci = @ , @ ) , and reporting they had never heard that `` cutting on cancer '' makes it spread ( aor = @ , @ % ci = @ , @ ) were more likely to complete crc screening .\",\n",
              "  'total_lines': 12},\n",
              " {'line_number': 11,\n",
              "  'target': 'CONCLUSIONS',\n",
              "  'text': 'the results of this study suggest that programs incorporating an implementation intentions approach can contribute to successful completion of crc screening even among very low-income and diverse primary care populations .',\n",
              "  'total_lines': 12},\n",
              " {'line_number': 12,\n",
              "  'target': 'CONCLUSIONS',\n",
              "  'text': 'future initiatives to reduce crc incidence and mortality disparities may be able to employ implementation intentions in large-scale efforts to encourage screening and prevention behaviors .',\n",
              "  'total_lines': 12},\n",
              " {'line_number': 0,\n",
              "  'target': 'OBJECTIVE',\n",
              "  'text': 'increased utilization of online medical information seeking demands investigation of potentially detrimental effects of these activities .',\n",
              "  'total_lines': 8},\n",
              " {'line_number': 1,\n",
              "  'target': 'OBJECTIVE',\n",
              "  'text': 'the present study investigated whether viewing medical websites may adversely affect anxiety sensitivity ( as ) , a well-established risk factor for the development of psychopathology .',\n",
              "  'total_lines': 8},\n",
              " {'line_number': 2,\n",
              "  'target': 'METHODS',\n",
              "  'text': 'participants ( n = @ ) were randomly assigned to view medical symptom related websites or general health and wellness control websites .',\n",
              "  'total_lines': 8},\n",
              " {'line_number': 3,\n",
              "  'target': 'METHODS',\n",
              "  'text': 'as was measured before and after the website viewing .',\n",
              "  'total_lines': 8},\n",
              " {'line_number': 4,\n",
              "  'target': 'RESULTS',\n",
              "  'text': 'individuals in the medical website group reported higher as compared to the control group at post-manipulation after controlling for baseline health anxiety and baseline as .',\n",
              "  'total_lines': 8},\n",
              " {'line_number': 5,\n",
              "  'target': 'RESULTS',\n",
              "  'text': 'additionally , intolerance of uncertainty ( iu ) , an individual difference variable assessing negative beliefs about uncertainty , significantly moderated this effect such that medical website viewing only affected as in participants with high iu but not in participants with low iu .',\n",
              "  'total_lines': 8},\n",
              " {'line_number': 6,\n",
              "  'target': 'CONCLUSIONS',\n",
              "  'text': 'the limitations of the current study include the lack of individualization of the website viewing and the short duration of the website viewing .',\n",
              "  'total_lines': 8},\n",
              " {'line_number': 7,\n",
              "  'target': 'CONCLUSIONS',\n",
              "  'text': 'the results of this study provide initial evidence that exposure to online medical information could increase risk for anxiety psychopathology in individuals with elevated iu .',\n",
              "  'total_lines': 8},\n",
              " {'line_number': 8,\n",
              "  'target': 'CONCLUSIONS',\n",
              "  'text': 'additionally , these results provide support for a learning based model of the etiology of as .',\n",
              "  'total_lines': 8},\n",
              " {'line_number': 0,\n",
              "  'target': 'BACKGROUND',\n",
              "  'text': 'miglitol is an - glucosidase inhibitor ( agi ) used as an antihyperglycemic agent in the treatment of type @ diabetes mellitus .',\n",
              "  'total_lines': 19},\n",
              " {'line_number': 1,\n",
              "  'target': 'BACKGROUND',\n",
              "  'text': 'the mechanism is that miglitol binds to and inhibits the - glucosidase reversibly in the proximal intestine .',\n",
              "  'total_lines': 19},\n",
              " {'line_number': 2,\n",
              "  'target': 'BACKGROUND',\n",
              "  'text': 'thus , carbohydrates not digested in the upper small intestine are transported to the lower intestine where they are eventually digested .',\n",
              "  'total_lines': 19},\n",
              " {'line_number': 3,\n",
              "  'target': 'OBJECTIVE',\n",
              "  'text': 'this study was performed for the subsequent marketing of the test miglitol formulation in korea .',\n",
              "  'total_lines': 19},\n",
              " {'line_number': 4,\n",
              "  'target': 'OBJECTIVE',\n",
              "  'text': 'we evaluated the comparative bioavailability and tolerability of the test and reference formulations in healthy male adult volunteers .',\n",
              "  'total_lines': 19},\n",
              " {'line_number': 5,\n",
              "  'target': 'METHODS',\n",
              "  'text': 'a total of @ healthy adult subjects were enrolled in this single-dose , randomized , open-label , @-period , @-sequence , crossover bioequivalence study .',\n",
              "  'total_lines': 19},\n",
              " {'line_number': 6,\n",
              "  'target': 'METHODS',\n",
              "  'text': 'during each period , subjects received @ mg of miglitol test or reference .',\n",
              "  'total_lines': 19},\n",
              " {'line_number': 7,\n",
              "  'target': 'METHODS',\n",
              "  'text': 'blood samples from the subjects were obtained before dosing at @ , @ , @ , @ , @ , @ , @ , @ , @ , @ , and @ hours after oral drug administration .',\n",
              "  'total_lines': 19},\n",
              " {'line_number': 8,\n",
              "  'target': 'METHODS',\n",
              "  'text': 'plasma concentrations were determined by using liquid chromatography/mass spectrometry/mass spectrometry ( lc-ms/ms ) .',\n",
              "  'total_lines': 19},\n",
              " {'line_number': 9,\n",
              "  'target': 'METHODS',\n",
              "  'text': 'the pk parameters including auct , auc , cmax , and tmax were measured and all treatment-emergent adverse events ( teaes ) and their relationships to study these medications were recorded throughout the entire study .',\n",
              "  'total_lines': 19},\n",
              " {'line_number': 10,\n",
              "  'target': 'RESULTS',\n",
              "  'text': 'a total of @ healthy adult male korean subjects were enrolled in the study and randomized into two treatment groups .',\n",
              "  'total_lines': 19},\n",
              " {'line_number': 11,\n",
              "  'target': 'RESULTS',\n",
              "  'text': 'ultimately , @ subjects completed the study .',\n",
              "  'total_lines': 19},\n",
              " {'line_number': 12,\n",
              "  'target': 'RESULTS',\n",
              "  'text': 'during each treatment period , blood samples were collected at specific time intervals from @ to @ hours after administration of a single drug dose .',\n",
              "  'total_lines': 19},\n",
              " {'line_number': 13,\n",
              "  'target': 'RESULTS',\n",
              "  'text': 'the pk parameters including auct , auc , cmax , and tmax were calculated and the @ % cis of the ratio ( test/reference ) of the parameters were obtained by analysis of variance ( anova ) on logarithmically transformed data .',\n",
              "  'total_lines': 19},\n",
              " {'line_number': 14,\n",
              "  'target': 'RESULTS',\n",
              "  'text': 'the @ % cis of the geometric mean ratios for the test to reference formulations were as follows : @ ( @ - @ ) for auct and @ ( @ - @ ) for cmax .',\n",
              "  'total_lines': 19},\n",
              " {'line_number': 15,\n",
              "  'target': 'RESULTS',\n",
              "  'text': 'statistical analysis confirmed that the @ % cis for these pk parameters were within the commonly accepted bioequivalence range of @ - @ .',\n",
              "  'total_lines': 19},\n",
              " {'line_number': 16,\n",
              "  'target': 'RESULTS',\n",
              "  'text': 'there were no serious or unexpected teaes during the study .',\n",
              "  'total_lines': 19},\n",
              " {'line_number': 17,\n",
              "  'target': 'CONCLUSIONS',\n",
              "  'text': 'in the healthy adult korean subjects , the test and reference formulations had similar pk parameters and similar plasma concentration-time profiles .',\n",
              "  'total_lines': 19},\n",
              " {'line_number': 18,\n",
              "  'target': 'CONCLUSIONS',\n",
              "  'text': 'the test formulation of miglitol met the korean regulatory criteria ( auct and cmax ) for assuming bioequivalence and both formulations were generally well-tolerated .',\n",
              "  'total_lines': 19},\n",
              " {'line_number': 19,\n",
              "  'target': 'CONCLUSIONS',\n",
              "  'text': 'the cris identifiers : kct@ .',\n",
              "  'total_lines': 19},\n",
              " {'line_number': 0,\n",
              "  'target': 'OBJECTIVE',\n",
              "  'text': \"to compare clerkship medical students ' confidence in performing a simulated normal vaginal delivery ( nvd ) after participating in a simulation training session using two different models .\",\n",
              "  'total_lines': 13},\n",
              " {'line_number': 1,\n",
              "  'target': 'METHODS',\n",
              "  'text': 'medical students were randomized to participate in a simulated nvd session using either an obstetrics mannequin or a birthing pelvis model .',\n",
              "  'total_lines': 13},\n",
              " {'line_number': 2,\n",
              "  'target': 'METHODS',\n",
              "  'text': 'questionnaires were used to assess confidence and evaluate the simulation before and immediately after the session and on the last day of the obstetrics clerkship rotation .',\n",
              "  'total_lines': 13},\n",
              " {'line_number': 3,\n",
              "  'target': 'RESULTS',\n",
              "  'text': 'one hundred ten students were randomized .',\n",
              "  'total_lines': 13},\n",
              " {'line_number': 4,\n",
              "  'target': 'RESULTS',\n",
              "  'text': 'at the start of the clerkship , both groups had similar obstetrics exposure and confidence levels .',\n",
              "  'total_lines': 13},\n",
              " {'line_number': 5,\n",
              "  'target': 'RESULTS',\n",
              "  'text': 'only @ students ( @ % ) agreed they were ready to attempt a nvd with minimal supervision or independently .',\n",
              "  'total_lines': 13},\n",
              " {'line_number': 6,\n",
              "  'target': 'RESULTS',\n",
              "  'text': 'this increased significantly to @ students ( @ % ) immediately after the session .',\n",
              "  'total_lines': 13},\n",
              " {'line_number': 7,\n",
              "  'target': 'RESULTS',\n",
              "  'text': 'at the end of the clerkship , @ of @ responding students ( @ % ) were confident that they could attempt a nvd with minimal supervision or independently .',\n",
              "  'total_lines': 13},\n",
              " {'line_number': 8,\n",
              "  'target': 'RESULTS',\n",
              "  'text': 'there were no significant differences noted between simulator groups at any point .',\n",
              "  'total_lines': 13},\n",
              " {'line_number': 9,\n",
              "  'target': 'RESULTS',\n",
              "  'text': 'the sessions were rated as equally useful and realistic , and this remained unchanged at the end of the clerkship .',\n",
              "  'total_lines': 13},\n",
              " {'line_number': 10,\n",
              "  'target': 'CONCLUSIONS',\n",
              "  'text': 'simulated nvd training using either an obstetrics mannequin or a birthing pelvis model provides clerkship students with a positive experience and increases confidence immediately .',\n",
              "  'total_lines': 13},\n",
              " {'line_number': 11,\n",
              "  'target': 'CONCLUSIONS',\n",
              "  'text': \"it should be implemented early in the rotation , as it appears the clerkship experience also plays a large role in terms of students ' confidence .\",\n",
              "  'total_lines': 13},\n",
              " {'line_number': 12,\n",
              "  'target': 'CONCLUSIONS',\n",
              "  'text': 'despite this , students maintain this type of learning is useful .',\n",
              "  'total_lines': 13},\n",
              " {'line_number': 13,\n",
              "  'target': 'CONCLUSIONS',\n",
              "  'text': 'effective simulation training can easily be incorporated into clerkship training .',\n",
              "  'total_lines': 13},\n",
              " {'line_number': 0,\n",
              "  'target': 'OBJECTIVE',\n",
              "  'text': 'pulmonary rehabilitation ( pr ) provides benefit for patients with chronic obstructive pulmonary disease ( copd ) in terms of quality of life ( qol ) and exercise capacity ; however , the effects diminish over time .',\n",
              "  'total_lines': 13},\n",
              " {'line_number': 1,\n",
              "  'target': 'OBJECTIVE',\n",
              "  'text': 'our aim was to evaluate a maintenance programme for patients who had completed pr .',\n",
              "  'total_lines': 13},\n",
              " {'line_number': 2,\n",
              "  'target': 'METHODS',\n",
              "  'text': 'primary and secondary care pr programmes in norfolk .',\n",
              "  'total_lines': 13},\n",
              " {'line_number': 3,\n",
              "  'target': 'METHODS',\n",
              "  'text': '@ patients with copd who had completed at least @ % of a standard pr programme were randomised and data are available for @ patients .',\n",
              "  'total_lines': 13},\n",
              " {'line_number': 4,\n",
              "  'target': 'METHODS',\n",
              "  'text': 'patients had greater than @ pack year smoking history and less than @ % predicted forced expiratory volume in @s but no other significant disease or recent respiratory tract infection .',\n",
              "  'total_lines': 13},\n",
              " {'line_number': 5,\n",
              "  'target': 'METHODS',\n",
              "  'text': 'patients were randomised to receive a maintenance programme or standard care .',\n",
              "  'total_lines': 13},\n",
              " {'line_number': 6,\n",
              "  'target': 'METHODS',\n",
              "  'text': 'the maintenance programme consisted of @h ( @h individually tailored exercise training and @h education programme ) every @months for @year .',\n",
              "  'total_lines': 13},\n",
              " {'line_number': 7,\n",
              "  'target': 'METHODS',\n",
              "  'text': 'the chronic respiratory questionnaire ( crq ) ( primary outcome ) , endurance shuttle walk test ( eswt ) , euroqol ( eq@d ) , hospital anxiety and depression score ( hads ) , body mass index ( bmi ) , body fat , activity levels ( overall score and activity diary ) and exacerbations were assessed before and after @months .',\n",
              "  'total_lines': 13},\n",
              " {'line_number': 8,\n",
              "  'target': 'RESULTS',\n",
              "  'text': 'there was no statistically significant difference between the groups for the change in crq dyspnoea score ( primary end point ) at @months which amounted to @ ( -@ to @ ) units or other domains of the crq .',\n",
              "  'total_lines': 13},\n",
              " {'line_number': 9,\n",
              "  'target': 'RESULTS',\n",
              "  'text': 'there was no difference in the eswt duration ( -@ ( -@ to @ ) seconds ) , bmi , body fat , eq@d , met-minutes , activity rating , hads , exacerbations or admissions .',\n",
              "  'total_lines': 13},\n",
              " {'line_number': 10,\n",
              "  'target': 'CONCLUSIONS',\n",
              "  'text': 'a maintenance programme of three monthly @h sessions does not improve outcomes in patients with copd after @months .',\n",
              "  'total_lines': 13},\n",
              " {'line_number': 11,\n",
              "  'target': 'CONCLUSIONS',\n",
              "  'text': 'we do not recommend that our maintenance programme is adopted .',\n",
              "  'total_lines': 13},\n",
              " {'line_number': 12,\n",
              "  'target': 'CONCLUSIONS',\n",
              "  'text': 'other methods of sustaining the benefits of pr are required .',\n",
              "  'total_lines': 13},\n",
              " {'line_number': 13,\n",
              "  'target': 'BACKGROUND',\n",
              "  'text': 'nct@ .',\n",
              "  'total_lines': 13},\n",
              " {'line_number': 0,\n",
              "  'target': 'BACKGROUND',\n",
              "  'text': 'only few randomized trials comparing sustained effects of short - and long-term psychotherapies in personality functioning are available .',\n",
              "  'total_lines': 11},\n",
              " {'line_number': 1,\n",
              "  'target': 'BACKGROUND',\n",
              "  'text': \"in this study we compared the effects of two short-term therapies and long-term psychodynamic psychotherapy on patients ' personality functioning during a @-year follow-up .\",\n",
              "  'total_lines': 11},\n",
              " {'line_number': 2,\n",
              "  'target': 'METHODS',\n",
              "  'text': 'altogether @ patients of the helsinki psychotherapy study , with anxiety or mood disorder , were randomly assigned to either short-term psychotherapy of about six months ( solution-focused therapy ( sft , n = @ ) or short-term psychodynamic psychotherapy ( spp , n = @ ) ) , or to long-term psychodynamic psychotherapy ( lpp , n = @ ) , lasting on average three years .',\n",
              "  'total_lines': 11},\n",
              " {'line_number': 3,\n",
              "  'target': 'METHODS',\n",
              "  'text': 'outcomes in personality functioning ( i.e. , self-concept , defense style , interpersonal problems , and level of personality organization ) were assessed five to seven times using , respectively , questionnaires ( sasb , dsq , iip ) and interview ( lpo ) during the @-year follow-up from randomization .',\n",
              "  'total_lines': 11},\n",
              " {'line_number': 4,\n",
              "  'target': 'RESULTS',\n",
              "  'text': 'personality functioning improved in all therapy groups .',\n",
              "  'total_lines': 11},\n",
              " {'line_number': 5,\n",
              "  'target': 'RESULTS',\n",
              "  'text': 'both short-term therapies fared better than lpp during the first year of follow-up , by faster improvement in self-concept and decrease in immature defense style .',\n",
              "  'total_lines': 11},\n",
              " {'line_number': 6,\n",
              "  'target': 'RESULTS',\n",
              "  'text': 'sft also showed more early reduction of interpersonal problems .',\n",
              "  'total_lines': 11},\n",
              " {'line_number': 7,\n",
              "  'target': 'RESULTS',\n",
              "  'text': 'however , lpp thereafter showed larger and more sustained benefits than sft and spp , through greater changes in self-concept .',\n",
              "  'total_lines': 11},\n",
              " {'line_number': 8,\n",
              "  'target': 'RESULTS',\n",
              "  'text': 'additionally , lpp outperformed sft at the end of the follow-up in iip and lpo , after adjustment for auxiliary treatment .',\n",
              "  'total_lines': 11},\n",
              " {'line_number': 9,\n",
              "  'target': 'RESULTS',\n",
              "  'text': 'no differences were noted between the short-term therapies at any measurement point .',\n",
              "  'total_lines': 11},\n",
              " {'line_number': 10,\n",
              "  'target': 'CONCLUSIONS',\n",
              "  'text': 'auxiliary treatment was used relatively widely which limits generalization to exclusive use of short - or long-term therapy .',\n",
              "  'total_lines': 11},\n",
              " {'line_number': 11,\n",
              "  'target': 'CONCLUSIONS',\n",
              "  'text': 'lpp seems to be somewhat more effective than short-term therapies in facilitating longterm changes in personality functioning .',\n",
              "  'total_lines': 11},\n",
              " {'line_number': 0,\n",
              "  'target': 'OBJECTIVE',\n",
              "  'text': 'acute oral tyrosine administration has been associated with increased constant-load , submaximal exercise capacity in the heat .',\n",
              "  'total_lines': 8},\n",
              " {'line_number': 1,\n",
              "  'target': 'OBJECTIVE',\n",
              "  'text': 'this study sought to determine whether self-paced exercise performance in the heat is enhanced with the same tyrosine dosage .',\n",
              "  'total_lines': 8},\n",
              " {'line_number': 2,\n",
              "  'target': 'METHODS',\n",
              "  'text': 'after familiarization , seven male endurance-trained volunteers , unacclimated to exercise in the heat , performed two experimental trials in @c ( @ % relative humidity ) in a crossover fashion separated by at least @ d. subjects ingested @ mgkg ( -@ ) body mass tyrosine ( tyr ) or an isocaloric quantity of whey powder ( pla ) in @ ml of sugar-free flavored water in a randomized , double-blind fashion .',\n",
              "  'total_lines': 8},\n",
              " {'line_number': 3,\n",
              "  'target': 'METHODS',\n",
              "  'text': 'sixty minutes after drink ingestion , the subjects cycled for @ min at @ % @ % peak oxygen uptake ( vo@peak ) and then performed a simulated cycling time trial requiring completion of an individualized target work quantity ( @ @ kj ) .',\n",
              "  'total_lines': 8},\n",
              " {'line_number': 4,\n",
              "  'target': 'RESULTS',\n",
              "  'text': 'the ratio of plasma tyrosine plus phenylalanine ( tyrosine precursor ) to amino acids competing for brain uptake ( free-tryptophan , leucine , isoleucine , valine , methionine , threonine , and lysine ) increased @-fold from rest in tyr and remained elevated throughout exercise ( p < @ ) , whereas it declined in pla from rest to preexercise ( p = @ ) .',\n",
              "  'total_lines': 8},\n",
              " {'line_number': 5,\n",
              "  'target': 'RESULTS',\n",
              "  'text': 'time-trial power output ( p = @ ) and performance ( @ @ and @ @ min in tyr and pla , respectively ; p = @ ) were similar between trials .',\n",
              "  'total_lines': 8},\n",
              " {'line_number': 6,\n",
              "  'target': 'RESULTS',\n",
              "  'text': 'thermal sensation ( p > @ ) , rpe ( p > @ ) , core temperature ( p = @ ) , skin temperature ( p = @ ) , and heart rate ( p = @ ) did not differ between trials .',\n",
              "  'total_lines': 8},\n",
              " {'line_number': 7,\n",
              "  'target': 'CONCLUSIONS',\n",
              "  'text': 'these data indicate that acute tyrosine administration did not influence self-paced endurance exercise performance in the heat .',\n",
              "  'total_lines': 8},\n",
              " {'line_number': 8,\n",
              "  'target': 'CONCLUSIONS',\n",
              "  'text': 'plasma tyrosine availability is apparently not a key determinant of fatigue processes under these conditions .',\n",
              "  'total_lines': 8},\n",
              " {'line_number': 0,\n",
              "  'target': 'OBJECTIVE',\n",
              "  'text': 'the aim of this study was to investigate the effects of gonadotropin releasing hormone analog ( gnrha ) therapy on normalized testicular atrophy index ( tain ) using gonadorelin before and after orchiopexy .',\n",
              "  'total_lines': 6},\n",
              " {'line_number': 1,\n",
              "  'target': 'METHODS',\n",
              "  'text': '@ infants with @ undescended testes ( udt ) were prospectively assigned to two homogeneous groups according to age , position of udt and tain .',\n",
              "  'total_lines': 6},\n",
              " {'line_number': 2,\n",
              "  'target': 'METHODS',\n",
              "  'text': 'the patients were randomized to receive either orchiopexy alone or orchiopexy combined with gnrha as nasal spray at @ mg daily for @ weeks before surgery and @ weeks after surgery .',\n",
              "  'total_lines': 6},\n",
              " {'line_number': 3,\n",
              "  'target': 'METHODS',\n",
              "  'text': 'surgical approaches were relative to the position of the udt : shoemakers technique in proximal-udt and bianchi technique in distal-udt .',\n",
              "  'total_lines': 6},\n",
              " {'line_number': 4,\n",
              "  'target': 'METHODS',\n",
              "  'text': 'all the patients were evaluated clinically and sonographically @ month before surgery , at the time of surgery , @ month , @ months and @ years after surgery .',\n",
              "  'total_lines': 6},\n",
              " {'line_number': 5,\n",
              "  'target': 'RESULTS',\n",
              "  'text': 'ultrasound data in our study have shown a statistically significant decrease of tain in children given additional ht only after @ years of follow-up , in unilateral cases and in the entirety of treated patients ; in bilateral cases this difference was not statistically significant .',\n",
              "  'total_lines': 6},\n",
              " {'line_number': 6,\n",
              "  'target': 'CONCLUSIONS',\n",
              "  'text': 'patients with a tain > @ % treated with preoperative and post-operative gnrha therapy have a significant increase in testicular volume after @ years of follow-up , as shown by the relative reduction of tain values .',\n",
              "  'total_lines': 6},\n",
              " {'line_number': 0,\n",
              "  'target': 'BACKGROUND',\n",
              "  'text': 'to improve the translation of public health evidence into practice , there is a need to increase practitioner involvement in initiative development , to place greater emphasis on contextual knowledge , and to address intervention processes and outcomes .',\n",
              "  'total_lines': 15},\n",
              " {'line_number': 1,\n",
              "  'target': 'BACKGROUND',\n",
              "  'text': 'evidence that demonstrates the need to reduce childhood fire-related injuries is compelling but its translation into practice is inconsistent and limited .',\n",
              "  'total_lines': 15},\n",
              " {'line_number': 2,\n",
              "  'target': 'BACKGROUND',\n",
              "  'text': \"with this knowledge the keeping children safe programme developed an `` injury prevention briefing ( ipb ) '' using a @ step process to combine scientific evidence with practitioner contextual knowledge .\",\n",
              "  'total_lines': 15},\n",
              " {'line_number': 3,\n",
              "  'target': 'BACKGROUND',\n",
              "  'text': \"the ipb was designed specifically for children 's centres ( ccs ) to support delivery of key fire safety messages to parents .\",\n",
              "  'total_lines': 15},\n",
              " {'line_number': 4,\n",
              "  'target': 'BACKGROUND',\n",
              "  'text': 'this paper reports the findings of a nested qualitative study within a clustered randomised controlled trial of the ipb , in which staff described their experiences of ipb implementation to aid understanding of why or how the intervention worked .',\n",
              "  'total_lines': 15},\n",
              " {'line_number': 5,\n",
              "  'target': 'METHODS',\n",
              "  'text': 'interviews were conducted with key staff at @ ccs participating in the two intervention arms : @ ) ipb supplemented by initial training and regular facilitation ; @ ) ipb sent by post with no facilitation .',\n",
              "  'total_lines': 15},\n",
              " {'line_number': 6,\n",
              "  'target': 'METHODS',\n",
              "  'text': 'framework analysis was applied to these interview data to explore intervention adherence including ; exposure or dose ; quality of delivery ; participant responsiveness ; programme differentiation ; and staff experience of ipb implementation .',\n",
              "  'total_lines': 15},\n",
              " {'line_number': 7,\n",
              "  'target': 'METHODS',\n",
              "  'text': 'this included barriers , facilitators and suggested improvements .',\n",
              "  'total_lines': 15},\n",
              " {'line_number': 8,\n",
              "  'target': 'RESULTS',\n",
              "  'text': '@ % of ccs regarded the ipb as a simple , accessible tool which raised awareness , and stimulated discussion and behaviour change .',\n",
              "  'total_lines': 15},\n",
              " {'line_number': 9,\n",
              "  'target': 'RESULTS',\n",
              "  'text': '@ ccs suggested minor modifications to format and content .',\n",
              "  'total_lines': 15},\n",
              " {'line_number': 10,\n",
              "  'target': 'RESULTS',\n",
              "  'text': 'four levels of implementation were identified according to content , frequency , duration and coverage .',\n",
              "  'total_lines': 15},\n",
              " {'line_number': 11,\n",
              "  'target': 'RESULTS',\n",
              "  'text': \"most ccs ( @ % ) achieved ` extended ' or ` essential ' ipb implementation .\",\n",
              "  'total_lines': 15},\n",
              " {'line_number': 12,\n",
              "  'target': 'RESULTS',\n",
              "  'text': 'three universal factors affected all ccs : organisational change and resourcing ; working with hard to engage groups ; additional demands of participating in a research study .',\n",
              "  'total_lines': 15},\n",
              " {'line_number': 13,\n",
              "  'target': 'RESULTS',\n",
              "  'text': 'six specific factors were associated with the implementation level achieved : staff engagement and training ; staff continuity ; adaptability and flexibility ; other agency support ; conflicting priorities ; facilitation .',\n",
              "  'total_lines': 15},\n",
              " {'line_number': 14,\n",
              "  'target': 'RESULTS',\n",
              "  'text': 'ccs achieving high implementation levels increased from @ % ( no facilitation ) to @ % with facilitation .',\n",
              "  'total_lines': 15},\n",
              " {'line_number': 15,\n",
              "  'target': 'CONCLUSIONS',\n",
              "  'text': 'incorporating service provider perspectives and scientific evidence into health education initiatives enhances potential for successful implementation , particularly when supplemented by ongoing training and facilitation .',\n",
              "  'total_lines': 15},\n",
              " {'line_number': 0,\n",
              "  'target': 'METHODS',\n",
              "  'text': 'to determine whether the insulin resistance that exists in metabolic syndrome ( mets ) patients is modulated by dietary fat composition .',\n",
              "  'total_lines': 7},\n",
              " {'line_number': 1,\n",
              "  'target': 'RESULTS',\n",
              "  'text': 'seventy-five patients were randomly assigned to one of four diets for @ wk : high-saturated fatty acids ( hsfas ) , high-mufa ( hmufa ) , and two low-fat , high-complex carbohydrate ( lfhcc ) diets supplemented with long-chain n-@ ( lfhcc n-@ ) pufa or placebo .',\n",
              "  'total_lines': 7},\n",
              " {'line_number': 2,\n",
              "  'target': 'RESULTS',\n",
              "  'text': 'at the end of intervention , the lfhcc n-@ diet reduced plasma insulin , homeostasis model assessment of insulin resistance , and nonsterified fatty acid concentration ( p < @ ) as compared to baseline spanish habitual ( bsh ) diet .',\n",
              "  'total_lines': 7},\n",
              " {'line_number': 3,\n",
              "  'target': 'RESULTS',\n",
              "  'text': 'subcutaneous white adipose tissue ( wat ) analysis revealed decreased eh-domain containing-@ mrna levels and increased cbl-associated protein gene expression with the lfhcc n-@ compared to hsfa and hmufa diets , respectively ( p < @ ) .',\n",
              "  'total_lines': 7},\n",
              " {'line_number': 4,\n",
              "  'target': 'RESULTS',\n",
              "  'text': 'moreover , the lfhcc n-@ decreased gene expression of glyceraldehyde-@-phosphate dehydrogenase with respect to hmufa and bsh diets ( p < @ ) .',\n",
              "  'total_lines': 7},\n",
              " {'line_number': 5,\n",
              "  'target': 'RESULTS',\n",
              "  'text': 'finally , proteomic characterization of subcutaneous wat identified three proteins of glucose metabolism downregulated by the lfhcc n-@ diet , including annexin a@ .',\n",
              "  'total_lines': 7},\n",
              " {'line_number': 6,\n",
              "  'target': 'RESULTS',\n",
              "  'text': 'rt-pcr analysis confirmed the decrease of annexin a@ ( p = @ ) after this diet .',\n",
              "  'total_lines': 7},\n",
              " {'line_number': 7,\n",
              "  'target': 'CONCLUSIONS',\n",
              "  'text': 'our data suggest that the lfhcc n-@ diet reduces systemic insulin resistance and improves insulin signaling in subcutaneous wat of mets patients compared to hsfa and bsh diets consumption .',\n",
              "  'total_lines': 7},\n",
              " {'line_number': 0,\n",
              "  'target': 'BACKGROUND',\n",
              "  'text': 'the outcomes of acute cardiovascular symptom presentations are potentially modifiable with the use of biomarkers to accelerate accurate diagnosis .',\n",
              "  'total_lines': 13},\n",
              " {'line_number': 1,\n",
              "  'target': 'BACKGROUND',\n",
              "  'text': 'this randomized trial tested troponin and b-type natriuretic peptide before hospital guidance in patients with acute cardiovascular symptoms .',\n",
              "  'total_lines': 13},\n",
              " {'line_number': 2,\n",
              "  'target': 'METHODS',\n",
              "  'text': 'patients with either chest pain or shortness of breath were randomized to usual care or biomarkers analyzed using a point-of-care device in the ambulance .',\n",
              "  'total_lines': 13},\n",
              " {'line_number': 3,\n",
              "  'target': 'METHODS',\n",
              "  'text': 'the primary end point was time to final disposition ( discharge from the emergency department or admission to hospital ) .',\n",
              "  'total_lines': 13},\n",
              " {'line_number': 4,\n",
              "  'target': 'METHODS',\n",
              "  'text': 'the trial was stopped prematurely because of less than expected enrollment of patients of interest and no difference in the primary end point .',\n",
              "  'total_lines': 13},\n",
              " {'line_number': 5,\n",
              "  'target': 'RESULTS',\n",
              "  'text': 'we randomized @ patients ; @ formed the final cohort .',\n",
              "  'total_lines': 13},\n",
              " {'line_number': 6,\n",
              "  'target': 'RESULTS',\n",
              "  'text': 'patients were @ % male ; median age @ years ; @ % had previous acute coronary syndrome ; and @ % diabetes .',\n",
              "  'total_lines': 13},\n",
              " {'line_number': 7,\n",
              "  'target': 'RESULTS',\n",
              "  'text': 'the b-type natriuretic peptide level before hospital arrival was @ pg/ml in @ % .',\n",
              "  'total_lines': 13},\n",
              " {'line_number': 8,\n",
              "  'target': 'RESULTS',\n",
              "  'text': 'troponin was > @ ng/ml in @ % ; @ % had troponin > @ ng/ml .',\n",
              "  'total_lines': 13},\n",
              " {'line_number': 9,\n",
              "  'target': 'RESULTS',\n",
              "  'text': 'after adjudication , @ % had acute coronary syndrome , @ % acute heart failure , @ % angina , and @ % another diagnosis .',\n",
              "  'total_lines': 13},\n",
              " {'line_number': 10,\n",
              "  'target': 'RESULTS',\n",
              "  'text': 'the primary end point was @ ( interquartile range , @-@ @ ) hours in the biomarker group and @ ( interquartile range , @-@ @ ) hours in the usual care group ( p = @ ) .',\n",
              "  'total_lines': 13},\n",
              " {'line_number': 11,\n",
              "  'target': 'RESULTS',\n",
              "  'text': 'none died in the ambulance or in the emergency department : all-cause @-day mortality was @ % ( usual care ) and @ % ( biomarker ) .',\n",
              "  'total_lines': 13},\n",
              " {'line_number': 12,\n",
              "  'target': 'CONCLUSIONS',\n",
              "  'text': 'to our knowledge , this is the first randomized trial of biomarkers before hospital arrival to guide emergency management of suspected acute cardiovascular disease which showed no benefit and was terminated early because of futility .',\n",
              "  'total_lines': 13},\n",
              " {'line_number': 13,\n",
              "  'target': 'CONCLUSIONS',\n",
              "  'text': 'the results have important implications for the use of biomarkers in emergency management of heart disease and for the design of future randomized trials on this important topic .',\n",
              "  'total_lines': 13},\n",
              " {'line_number': 0,\n",
              "  'target': 'BACKGROUND',\n",
              "  'text': 'medication-overuse headache ( moh ) is a common problem in primary care .',\n",
              "  'total_lines': 14},\n",
              " {'line_number': 1,\n",
              "  'target': 'BACKGROUND',\n",
              "  'text': 'brief intervention ( bi ) has successfully been used for detoxification from overuse of alcohol and drugs .',\n",
              "  'total_lines': 14},\n",
              " {'line_number': 2,\n",
              "  'target': 'BACKGROUND',\n",
              "  'text': 'the aim of this pilot study was to develop and test methodology , acceptability and logistics for a bi for moh in primary care .',\n",
              "  'total_lines': 14},\n",
              " {'line_number': 3,\n",
              "  'target': 'RESULTS',\n",
              "  'text': 'observational feasibility study of an intervention in a norwegian general practice population.six general practitioners ( gps ) were recruited .',\n",
              "  'total_lines': 14},\n",
              " {'line_number': 4,\n",
              "  'target': 'RESULTS',\n",
              "  'text': 'a screening questionnaire for moh was sent to all @-@ year old patients on these gps ` list .',\n",
              "  'total_lines': 14},\n",
              " {'line_number': 5,\n",
              "  'target': 'RESULTS',\n",
              "  'text': 'gps were taught bi , which was applied to moh patients as follows : severity of dependence scale ( sds ) scores were collected and individual feedback was given of the relationship between the sds , medication overuse and headache .',\n",
              "  'total_lines': 14},\n",
              " {'line_number': 6,\n",
              "  'target': 'RESULTS',\n",
              "  'text': 'finally , advice to reduce medication was given .',\n",
              "  'total_lines': 14},\n",
              " {'line_number': 7,\n",
              "  'target': 'RESULTS',\n",
              "  'text': 'patients were invited to a headache interview three months after the bi .',\n",
              "  'total_lines': 14},\n",
              " {'line_number': 8,\n",
              "  'target': 'RESULTS',\n",
              "  'text': 'main outcomes were feedback from gps/patients about the feasibility and logistics of the study design , screening/recruitment process , bi and headache interviews .',\n",
              "  'total_lines': 14},\n",
              " {'line_number': 9,\n",
              "  'target': 'RESULTS',\n",
              "  'text': 'efficacy and patient-related outcomes were not focused .',\n",
              "  'total_lines': 14},\n",
              " {'line_number': 10,\n",
              "  'target': 'RESULTS',\n",
              "  'text': 'the patients reported a high degree of acceptability of the methodology .',\n",
              "  'total_lines': 14},\n",
              " {'line_number': 11,\n",
              "  'target': 'RESULTS',\n",
              "  'text': 'the gps reported the bi to be feasible to implement within a busy practice and to represent a new and improved instrument for communication with moh patients .',\n",
              "  'total_lines': 14},\n",
              " {'line_number': 12,\n",
              "  'target': 'RESULTS',\n",
              "  'text': 'the bi requires further testing in a randomised controlled trial ( rct ) in order to provide evidence of efficacy .',\n",
              "  'total_lines': 14},\n",
              " {'line_number': 13,\n",
              "  'target': 'CONCLUSIONS',\n",
              "  'text': 'this feasibility study will be used to improve the bi for moh and the design of a cluster-rct .',\n",
              "  'total_lines': 14},\n",
              " {'line_number': 14,\n",
              "  'target': 'BACKGROUND',\n",
              "  'text': 'clinicaltrials.gov : nct@ ( initially registered as controlled efficacy trial but changed to observational study ) .',\n",
              "  'total_lines': 14},\n",
              " {'line_number': 0,\n",
              "  'target': 'OBJECTIVE',\n",
              "  'text': 'to observe the effects of intra-operative combined dosing of dezoxine and dexmedetomidine on sedation , analgesia and the incidence of untoward events during and after surgery in teenagers undergoing horizontal concomitant strabismus surgery .',\n",
              "  'total_lines': 14},\n",
              " {'line_number': 1,\n",
              "  'target': 'METHODS',\n",
              "  'text': 'for this prospective and randomized trial , approval was obtained from the ethical committee and informed consent from their parents .',\n",
              "  'total_lines': 14},\n",
              " {'line_number': 2,\n",
              "  'target': 'METHODS',\n",
              "  'text': 'a total of @ patients aged @-@ years undergoing strabismus surgery at second affiliated hospital from september to december @ were collected .',\n",
              "  'total_lines': 14},\n",
              " {'line_number': 3,\n",
              "  'target': 'METHODS',\n",
              "  'text': 'the treatment group received an intravenous dose of dezoxine @ mgkg ( -@ ) at @ minutes before surgery .',\n",
              "  'total_lines': 14},\n",
              " {'line_number': 4,\n",
              "  'target': 'METHODS',\n",
              "  'text': 'and another intravenous injection of dexmedetomidine was administered at @ gkg ( -@ ) h ( -@ ) until the end of the first ocular muscle correcting .',\n",
              "  'total_lines': 14},\n",
              " {'line_number': 5,\n",
              "  'target': 'METHODS',\n",
              "  'text': 'the control group received the same volume of normal saline .',\n",
              "  'total_lines': 14},\n",
              " {'line_number': 6,\n",
              "  'target': 'METHODS',\n",
              "  'text': 'observational parameters including visual analogue scale ( vas ) , ramsay scores , self-rating anxiety scale ( sas ) , heart rate ( hr ) , blood pressure and the incidence of untoward events such as nausea and vomiting or arrhythmia were recorded .',\n",
              "  'total_lines': 14},\n",
              " {'line_number': 7,\n",
              "  'target': 'RESULTS',\n",
              "  'text': 'the vas pain scores in the treatment group at t@-t@ decreased significantly versus the control group ( p < @ ) .',\n",
              "  'total_lines': 14},\n",
              " {'line_number': 8,\n",
              "  'target': 'RESULTS',\n",
              "  'text': 'the ramsay scores in the treatment group at t@-t@ increased and significantly differences existed with the control group ( p < @ ) .',\n",
              "  'total_lines': 14},\n",
              " {'line_number': 9,\n",
              "  'target': 'RESULTS',\n",
              "  'text': 'sas scores showed significant differences between pre-operative and post-operative periods in the treatment group ( p < @ ) .',\n",
              "  'total_lines': 14},\n",
              " {'line_number': 10,\n",
              "  'target': 'RESULTS',\n",
              "  'text': 'the treatment group has shorter operative duration with @ cases of dragging pain in the treatment group versus @ in the control group ( p < @ ) .',\n",
              "  'total_lines': 14},\n",
              " {'line_number': 11,\n",
              "  'target': 'RESULTS',\n",
              "  'text': 'during dragging reflex , hr was lower in the control group at t@ and t@ .',\n",
              "  'total_lines': 14},\n",
              " {'line_number': 12,\n",
              "  'target': 'RESULTS',\n",
              "  'text': 'there were significant differences with the control group ( p < @ ) .',\n",
              "  'total_lines': 14},\n",
              " {'line_number': 13,\n",
              "  'target': 'CONCLUSIONS',\n",
              "  'text': 'a combination of dezoxine and dexmedetomidine provide multiple benefits for patients undergoing strabismus surgery .',\n",
              "  'total_lines': 14},\n",
              " {'line_number': 14,\n",
              "  'target': 'CONCLUSIONS',\n",
              "  'text': 'compared with simple local anesthesia , it effectively attenuates pain and anxiety and provides mild sedation and better cooperation during strabismus surgery .',\n",
              "  'total_lines': 14},\n",
              " {'line_number': 0,\n",
              "  'target': 'OBJECTIVE',\n",
              "  'text': 'eicosapentaenoic acid ( epa ) , which may reduce the risk for coronary heart disease ( chd ) , can be synthesized at low rates from - linolenic acid ( ala ) .',\n",
              "  'total_lines': 11},\n",
              " {'line_number': 1,\n",
              "  'target': 'OBJECTIVE',\n",
              "  'text': 'the rate-limiting step for this conversion is the @-desaturation of ala into stearidonic acid ( sda ) .',\n",
              "  'total_lines': 11},\n",
              " {'line_number': 2,\n",
              "  'target': 'OBJECTIVE',\n",
              "  'text': 'thus providing oils rich in sda may increase endogenous synthesis of epa , which may subsequently lower serum triacylglycerol concentrations , an effect frequently observed after epa supplementation .',\n",
              "  'total_lines': 11},\n",
              " {'line_number': 3,\n",
              "  'target': 'OBJECTIVE',\n",
              "  'text': 'we therefore studied the effects of echium oil on serum triacylglycerol concentrations and the omega-@ index , which correlate negatively with the risk for chd .',\n",
              "  'total_lines': 11},\n",
              " {'line_number': 4,\n",
              "  'target': 'METHODS',\n",
              "  'text': 'a randomized , double-blind , placebo-controlled crossover trial was conducted , in which @ healthy overweight and slightly obese subjects daily received @ g of echium oil ( providing @ g of sda ) or a high oleic acid sunflower oil ( hoso ) as control for @ weeks , with a washout period of at least @ days .',\n",
              "  'total_lines': 11},\n",
              " {'line_number': 5,\n",
              "  'target': 'METHODS',\n",
              "  'text': 'four subjects dropped out .',\n",
              "  'total_lines': 11},\n",
              " {'line_number': 6,\n",
              "  'target': 'METHODS',\n",
              "  'text': 'differences between periods were tested for statistical significance ( p < @ ) using a paired t-test .',\n",
              "  'total_lines': 11},\n",
              " {'line_number': 7,\n",
              "  'target': 'RESULTS',\n",
              "  'text': 'serum triacylglycerol and other lipid concentrations were not significantly affected by consumption of echium oil compared with hoso .',\n",
              "  'total_lines': 11},\n",
              " {'line_number': 8,\n",
              "  'target': 'RESULTS',\n",
              "  'text': 'echium oil significantly increased percentage of epa in red blood cell ( rbc ) membranes with @ @ % ( mean s.d. ) compared with hoso ( p = @ ) .',\n",
              "  'total_lines': 11},\n",
              " {'line_number': 9,\n",
              "  'target': 'RESULTS',\n",
              "  'text': 'no significant effects on docosahexaenoic acid in rbc membranes or on the omega-@ index were found .',\n",
              "  'total_lines': 11},\n",
              " {'line_number': 10,\n",
              "  'target': 'CONCLUSIONS',\n",
              "  'text': 'in healthy overweight and slightly obese subjects , an increased intake of sda from echium oil does not lower serum triacylglycerol concentrations .',\n",
              "  'total_lines': 11},\n",
              " {'line_number': 11,\n",
              "  'target': 'CONCLUSIONS',\n",
              "  'text': 'despite an increase in the percentage of epa in rbc membranes , the omega-@ index was not changed .',\n",
              "  'total_lines': 11},\n",
              " {'line_number': 0,\n",
              "  'target': 'OBJECTIVE',\n",
              "  'text': 'huai qi huang ( hqh ) is a compound chinese herbal medicine that contains trametes robiniophila murr , wolfberry fruit , and polygonatum .',\n",
              "  'total_lines': 12},\n",
              " {'line_number': 1,\n",
              "  'target': 'OBJECTIVE',\n",
              "  'text': 'in the present study , we investigated the effects of hqh on patients with mild immunoglobulin a nephropathy ( igan ) through a prospective randomized controlled study .',\n",
              "  'total_lines': 12},\n",
              " {'line_number': 2,\n",
              "  'target': 'METHODS',\n",
              "  'text': 'forty-five adults diagnosed with igan according to renal pathology , who had hematuria or/and proteinuria ( @ g/day ) , were randomly assigned to receive hqh or no treatment for @ weeks .',\n",
              "  'total_lines': 12},\n",
              " {'line_number': 3,\n",
              "  'target': 'METHODS',\n",
              "  'text': 'twenty-four hour urinary protein excretion and hematuria were measured at weeks @ , @ , @ , and @ .',\n",
              "  'total_lines': 12},\n",
              " {'line_number': 4,\n",
              "  'target': 'METHODS',\n",
              "  'text': 'the rate of complete remission of proteinuria and hematuria was evaluated .',\n",
              "  'total_lines': 12},\n",
              " {'line_number': 5,\n",
              "  'target': 'METHODS',\n",
              "  'text': 'any adverse events induced by hqh were also observed during the treatment period .',\n",
              "  'total_lines': 12},\n",
              " {'line_number': 6,\n",
              "  'target': 'RESULTS',\n",
              "  'text': 'twenty-four hour urinary protein excretion was significantly reduced by hqh treatment compared with that in the control group at weeks @ and @ .',\n",
              "  'total_lines': 12},\n",
              " {'line_number': 7,\n",
              "  'target': 'RESULTS',\n",
              "  'text': 'a much higher rate of complete remission of proteinuria was observed in the hqh group than in control group at week @ .',\n",
              "  'total_lines': 12},\n",
              " {'line_number': 8,\n",
              "  'target': 'RESULTS',\n",
              "  'text': 'hqh administration also obviously reduced the extent of hematuria compared with that in the control group at week @ .',\n",
              "  'total_lines': 12},\n",
              " {'line_number': 9,\n",
              "  'target': 'RESULTS',\n",
              "  'text': 'hqh treatment dramatically increased the rate of complete remission of hematuria compared with that in control group at weeks @ and @ .',\n",
              "  'total_lines': 12},\n",
              " {'line_number': 10,\n",
              "  'target': 'RESULTS',\n",
              "  'text': 'no obvious adverse events caused by hqh were observed .',\n",
              "  'total_lines': 12},\n",
              " {'line_number': 11,\n",
              "  'target': 'CONCLUSIONS',\n",
              "  'text': 'hqh could be a new conservative therapy for igan patients who can not tolerate steroids and immunosuppressive agents .',\n",
              "  'total_lines': 12},\n",
              " {'line_number': 12,\n",
              "  'target': 'CONCLUSIONS',\n",
              "  'text': 'the relapse rate after discontinuing treatment still needs further investigation .',\n",
              "  'total_lines': 12},\n",
              " {'line_number': 0,\n",
              "  'target': 'BACKGROUND',\n",
              "  'text': 'extracranial carotid and vertebral artery dissection is an important cause of stroke , especially in young people .',\n",
              "  'total_lines': 21},\n",
              " {'line_number': 1,\n",
              "  'target': 'BACKGROUND',\n",
              "  'text': 'in some observational studies it has been associated with a high risk of recurrent stroke .',\n",
              "  'total_lines': 21},\n",
              " {'line_number': 2,\n",
              "  'target': 'BACKGROUND',\n",
              "  'text': 'both antiplatelet drugs and anticoagulant drugs are used to reduce risk of stroke but whether one treatment strategy is more effective than the other is unknown .',\n",
              "  'total_lines': 21},\n",
              " {'line_number': 3,\n",
              "  'target': 'BACKGROUND',\n",
              "  'text': 'we compared their efficacy in the cervical artery dissection in stroke study ( cadiss ) , with the additional aim of establishing the true risk of recurrent stroke .',\n",
              "  'total_lines': 21},\n",
              " {'line_number': 4,\n",
              "  'target': 'METHODS',\n",
              "  'text': 'we did this randomised trial at hospitals with specialised stroke or neurology services ( @ in the uk and seven in australia ) .',\n",
              "  'total_lines': 21},\n",
              " {'line_number': 5,\n",
              "  'target': 'METHODS',\n",
              "  'text': 'we included patients with extracranial carotid and vertebral dissection with onset of symptoms within the past @ days .',\n",
              "  'total_lines': 21},\n",
              " {'line_number': 6,\n",
              "  'target': 'METHODS',\n",
              "  'text': 'patients were randomly assigned ( @:@ ) by an automated telephone randomisation service to receive antiplatelet drugs or anticoagulant drugs ( specific treatment decided by the local clinician ) for @ months .',\n",
              "  'total_lines': 21},\n",
              " {'line_number': 7,\n",
              "  'target': 'METHODS',\n",
              "  'text': 'patients and clinicians were not masked to allocation , but investigators assessing endpoints were .',\n",
              "  'total_lines': 21},\n",
              " {'line_number': 8,\n",
              "  'target': 'METHODS',\n",
              "  'text': 'the primary endpoint was ipsilateral stroke or death in the intention-to-treat population .',\n",
              "  'total_lines': 21},\n",
              " {'line_number': 9,\n",
              "  'target': 'METHODS',\n",
              "  'text': 'the trial was registered with eudract ( @-@-@ ) and isrn ( ctn@ ) .',\n",
              "  'total_lines': 21},\n",
              " {'line_number': 10,\n",
              "  'target': 'RESULTS',\n",
              "  'text': 'we enrolled @ participants ( @ carotid , @ vertebral ) .',\n",
              "  'total_lines': 21},\n",
              " {'line_number': 11,\n",
              "  'target': 'RESULTS',\n",
              "  'text': 'mean time to randomisation was @ days ( sd @ ) .',\n",
              "  'total_lines': 21},\n",
              " {'line_number': 12,\n",
              "  'target': 'RESULTS',\n",
              "  'text': \"the major presenting symptoms were stroke or transient ischaemic attack ( n = @ ) and local symptoms ( headache , neck pain , or horner 's syndrome ; n = @ ) .\",\n",
              "  'total_lines': 21},\n",
              " {'line_number': 13,\n",
              "  'target': 'RESULTS',\n",
              "  'text': '@ participants were assigned to antiplatelet treatment versus @ to anticoagulant treatment .',\n",
              "  'total_lines': 21},\n",
              " {'line_number': 14,\n",
              "  'target': 'RESULTS',\n",
              "  'text': 'overall , four ( @ % ) of @ patients had stroke recurrence ( all ipsilateral ) .',\n",
              "  'total_lines': 21},\n",
              " {'line_number': 15,\n",
              "  'target': 'RESULTS',\n",
              "  'text': 'stroke or death occurred in three ( @ % ) of @ patients versus one ( @ % ) of @ ( odds ratio -lsb- or -rsb- @ , @ % ci @-@ ; p = @ ) .',\n",
              "  'total_lines': 21},\n",
              " {'line_number': 16,\n",
              "  'target': 'RESULTS',\n",
              "  'text': 'there were no deaths , but one major bleeding ( subarachnoid haemorrhage ) in the anticoagulant group .',\n",
              "  'total_lines': 21},\n",
              " {'line_number': 17,\n",
              "  'target': 'RESULTS',\n",
              "  'text': 'central review of imaging failed to confirm dissection in @ patients .',\n",
              "  'total_lines': 21},\n",
              " {'line_number': 18,\n",
              "  'target': 'RESULTS',\n",
              "  'text': 'preplanned per-protocol analysis excluding these patients showed stroke or death in three ( @ % ) of @ patients in the antiplatelet group versus one ( @ % ) of @ patients in the anticoagulant group ( or @ , @ % ci @-@ ; p = @ ) .',\n",
              "  'total_lines': 21},\n",
              " {'line_number': 19,\n",
              "  'target': 'CONCLUSIONS',\n",
              "  'text': 'we found no difference in efficacy of antiplatelet and anticoagulant drugs at preventing stroke and death in patients with symptomatic carotid and vertebral artery dissection but stroke was rare in both groups , and much rarer than reported in some observational studies .',\n",
              "  'total_lines': 21},\n",
              " {'line_number': 20,\n",
              "  'target': 'CONCLUSIONS',\n",
              "  'text': 'diagnosis of dissection was not confirmed after review in many cases , suggesting that radiographic criteria are not always correctly applied in routine clinical practice .',\n",
              "  'total_lines': 21},\n",
              " {'line_number': 21,\n",
              "  'target': 'BACKGROUND',\n",
              "  'text': 'stroke association .',\n",
              "  'total_lines': 21},\n",
              " {'line_number': 0,\n",
              "  'target': 'BACKGROUND',\n",
              "  'text': 'the purpose of this study was to investigate the efficacy of eyelid cooling to reduce postoperative pain , edema , erythema , and hematoma after upper blepharoplasty .',\n",
              "  'total_lines': 10},\n",
              " {'line_number': 1,\n",
              "  'target': 'METHODS',\n",
              "  'text': 'after bilateral upper blepharoplasty in @ consecutive patients , one eyelid per patient was randomized for cooling with an ice pack , and the other eyelid was left uncooled .',\n",
              "  'total_lines': 10},\n",
              " {'line_number': 2,\n",
              "  'target': 'METHODS',\n",
              "  'text': 'pain was scored by the patients using a visual analogue scale ( @ to @ ) @ hour and @ day after surgery .',\n",
              "  'total_lines': 10},\n",
              " {'line_number': 3,\n",
              "  'target': 'METHODS',\n",
              "  'text': 'degree of edema , erythema , and hematoma were scored by the patients on a four-point rating scale ( no , minimal , moderate , or severe ) @ hour , @ day , @ week , and @ months after surgery .',\n",
              "  'total_lines': 10},\n",
              " {'line_number': 4,\n",
              "  'target': 'METHODS',\n",
              "  'text': 'light photography was obtained @ week after surgery for scoring the degree of bruising on a four-point rating scale by a blinded observer .',\n",
              "  'total_lines': 10},\n",
              " {'line_number': 5,\n",
              "  'target': 'RESULTS',\n",
              "  'text': 'pain did not differ between cooled and uncooled eyelids on the day of surgery .',\n",
              "  'total_lines': 10},\n",
              " {'line_number': 6,\n",
              "  'target': 'RESULTS',\n",
              "  'text': 'however , pain in cooled eyelids was significantly lower @ day after surgery ( p = @ ) , yet absolute pain scores were low ( median , @ and @ , on a scale of @ ) .',\n",
              "  'total_lines': 10},\n",
              " {'line_number': 7,\n",
              "  'target': 'RESULTS',\n",
              "  'text': 'edema , erythema , or hematoma did not differ between cooled and uncooled eyelids on any of the time points studied .',\n",
              "  'total_lines': 10},\n",
              " {'line_number': 8,\n",
              "  'target': 'CONCLUSIONS',\n",
              "  'text': 'cooling of eyelids after upper blepharoplasty does not reduce edema , erythema , or hematoma of the eyelids , but reduces pain @ day after surgery .',\n",
              "  'total_lines': 10},\n",
              " {'line_number': 9,\n",
              "  'target': 'CONCLUSIONS',\n",
              "  'text': 'however , because the degree of pain seems clinically irrelevant and because the majority of patients indicate that they have no preference for cooling over noncooling , eyelid cooling after upper blepharoplasty as a rule of thumb can be abandoned .',\n",
              "  'total_lines': 10},\n",
              " {'line_number': 10,\n",
              "  'target': 'METHODS',\n",
              "  'text': 'therapeutic , ii .',\n",
              "  'total_lines': 10},\n",
              " {'line_number': 0,\n",
              "  'target': 'BACKGROUND',\n",
              "  'text': 'there is limited evidence to support the use of facemasks in preventing infection for primary care professionals .',\n",
              "  'total_lines': 15},\n",
              " {'line_number': 1,\n",
              "  'target': 'BACKGROUND',\n",
              "  'text': 'negative effects on communication has been suggested when the physician wears a facemask .',\n",
              "  'total_lines': 15},\n",
              " {'line_number': 2,\n",
              "  'target': 'BACKGROUND',\n",
              "  'text': \"as communication skills and doctor patient relationship are essential to primary care consultations , the effects of doctor 's facemask wearing were explored .\",\n",
              "  'total_lines': 15},\n",
              " {'line_number': 3,\n",
              "  'target': 'METHODS',\n",
              "  'text': \"a randomised controlled study was conducted in primary care to explore the effects of doctors wearing facemasks on patients ' perception of doctors ' empathy , patient enablement and patient satisfaction .\",\n",
              "  'total_lines': 15},\n",
              " {'line_number': 4,\n",
              "  'target': 'METHODS',\n",
              "  'text': 'primary care doctors were randomized to mask wearing and non mask wearing clinical consultations in public primary care clinics in hong kong .',\n",
              "  'total_lines': 15},\n",
              " {'line_number': 5,\n",
              "  'target': 'METHODS',\n",
              "  'text': \"patients ' views were gathered using the consultation and relational empathy ( care ) measure , patient enablement instrument ( pei ) and an overall satisfaction rating scale .\",\n",
              "  'total_lines': 15},\n",
              " {'line_number': 6,\n",
              "  'target': 'METHODS',\n",
              "  'text': 'the effects of face mask wearing were investigated using multilevel ( hierarchical ) modelling .',\n",
              "  'total_lines': 15},\n",
              " {'line_number': 7,\n",
              "  'target': 'RESULTS',\n",
              "  'text': '@,@ patients were randomised to doctor-mask wearing consultations ( n = @ ) and non mask wearing consultations ( n = @ ) .',\n",
              "  'total_lines': 15},\n",
              " {'line_number': 8,\n",
              "  'target': 'RESULTS',\n",
              "  'text': \"a significant and negative effect was found in the patients ' perception of the doctors ' empathy ( care score reduction -@ , p-value = @ ) .\",\n",
              "  'total_lines': 15},\n",
              " {'line_number': 9,\n",
              "  'target': 'RESULTS',\n",
              "  'text': \"in the more established doctor-patient relationship , the effect of doctors ' mask wearing was more pronounced ( care score reduction -@ , p-value = @ ) .\",\n",
              "  'total_lines': 15},\n",
              " {'line_number': 10,\n",
              "  'target': 'CONCLUSIONS',\n",
              "  'text': \"this study demonstrates that when doctors wearing a facemask during consultations , this has a significant negative impact on the patient 's perceived empathy and diminish the positive effects of relational continuity .\",\n",
              "  'total_lines': 15},\n",
              " {'line_number': 11,\n",
              "  'target': 'CONCLUSIONS',\n",
              "  'text': 'consideration should be taken in planning appropriate use of facemasks in infectious disease policy for primary care and other healthcare professionals at a national , local or practice level .',\n",
              "  'total_lines': 15},\n",
              " {'line_number': 12,\n",
              "  'target': 'BACKGROUND',\n",
              "  'text': 'this trial was registered on chinese clinical trial register ( chictr ) .',\n",
              "  'total_lines': 15},\n",
              " {'line_number': 13,\n",
              "  'target': 'BACKGROUND',\n",
              "  'text': 'registration no. : chictr-ttrcc-@ .',\n",
              "  'total_lines': 15},\n",
              " {'line_number': 14,\n",
              "  'target': 'BACKGROUND',\n",
              "  'text': 'url : http://www.chictr.org/en/proj/show.aspx?proj=@ .',\n",
              "  'total_lines': 15},\n",
              " {'line_number': 15,\n",
              "  'target': 'BACKGROUND',\n",
              "  'text': 'due to administrative error , registration of trial did not take place until after the trial started on @st august @ and registration number was released on @st september @ .',\n",
              "  'total_lines': 15},\n",
              " {'line_number': 0,\n",
              "  'target': 'BACKGROUND',\n",
              "  'text': 'limited ankle joint dorsiflexion passive range of motion ( prom ) has been associated with common chronic lower extremity conditions , and clinicians often instruct patients in stretching exercises to increase dorsiflexion .',\n",
              "  'total_lines': 9},\n",
              " {'line_number': 1,\n",
              "  'target': 'BACKGROUND',\n",
              "  'text': 'however , little is known about how subtalar joint ( stj ) position affects dorsiflexion at the midfoot/forefoot versus ankle/rearfoot during gastrocnemius stretching .',\n",
              "  'total_lines': 9},\n",
              " {'line_number': 2,\n",
              "  'target': 'BACKGROUND',\n",
              "  'text': 'the purpose of this study was to determine if more dorsiflexion occurs at the ankle/rearfoot and less at the midfoot/forefoot during gastrocnemius stretching with the stj positioned in supination versus pronation .',\n",
              "  'total_lines': 9},\n",
              " {'line_number': 3,\n",
              "  'target': 'METHODS',\n",
              "  'text': 'in this repeated measures design , @ participants ( @ females , @ males ; mean age = @ years , sd = @ ) with current or recent history of lower extremity chronic conditions and less than @ degrees ankle dorsiflexion measured with the knee in extension on the involved side ( s ) performed five @-second gastrocnemius stretching trials in pronation and supination on each side in a randomly determined sequence .',\n",
              "  'total_lines': 9},\n",
              " {'line_number': 4,\n",
              "  'target': 'METHODS',\n",
              "  'text': 'a @-camera vicon motion analysis system and an amti force plate were used to measure midfoot/forefoot dorsiflexion , ankle/rearfoot dorsiflexion , knee extension , and normalized vertical ground reaction force .',\n",
              "  'total_lines': 9},\n",
              " {'line_number': 5,\n",
              "  'target': 'RESULTS',\n",
              "  'text': 'two-way repeated measures anova revealed a significant increase in midfoot/forefoot dorsiflexion when stretching in pronation compared to supination ( p < @ ) .',\n",
              "  'total_lines': 9},\n",
              " {'line_number': 6,\n",
              "  'target': 'RESULTS',\n",
              "  'text': 'anovas also demonstrated significantly more extension of the knee when stretching in supination compared to pronation ( p < @ ) , and increased normalized vertical ground reaction force when stretching in supination compared to pronation ( p = @ ) .',\n",
              "  'total_lines': 9},\n",
              " {'line_number': 7,\n",
              "  'target': 'RESULTS',\n",
              "  'text': 'with the numbers available , no significant difference in ankle/rearfoot dorsiflexion when stretching in supination compared to pronation could be detected ( p > @ ) .',\n",
              "  'total_lines': 9},\n",
              " {'line_number': 8,\n",
              "  'target': 'CONCLUSIONS',\n",
              "  'text': 'gastrocnemius stretching in pronation resulted in more dorsiflexion at the midfoot/forefoot than stretching in supination .',\n",
              "  'total_lines': 9},\n",
              " {'line_number': 9,\n",
              "  'target': 'CONCLUSIONS',\n",
              "  'text': 'clinicians may want to consider stj position during gastrocnemius stretching to either facilitate or limit recruitment of dorsiflexion motion at the midfoot/forefoot .',\n",
              "  'total_lines': 9},\n",
              " {'line_number': 0,\n",
              "  'target': 'BACKGROUND',\n",
              "  'text': 'cryptococcal meningitis is the most common cause of adult meningitis in sub-saharan africa .',\n",
              "  'total_lines': 14},\n",
              " {'line_number': 1,\n",
              "  'target': 'BACKGROUND',\n",
              "  'text': 'raised intracranial pressure ( icp ) is common in cryptococcosis .',\n",
              "  'total_lines': 14},\n",
              " {'line_number': 2,\n",
              "  'target': 'BACKGROUND',\n",
              "  'text': 'prior studies suggest elevated icp is associated with mortality , and guidelines recommend frequent lumbar punctures ( lps ) to control icp .',\n",
              "  'total_lines': 14},\n",
              " {'line_number': 3,\n",
              "  'target': 'BACKGROUND',\n",
              "  'text': 'however , the magnitude of the impact of lps on cryptococcal-related mortality is unknown .',\n",
              "  'total_lines': 14},\n",
              " {'line_number': 4,\n",
              "  'target': 'METHODS',\n",
              "  'text': 'in sum , @ individuals with human immunodeficiency virus ( hiv ) - associated cryptococcal meningitis , screened for the cryptococcal optimal art timing ( coat ) trial in uganda and south africa , were observed .',\n",
              "  'total_lines': 14},\n",
              " {'line_number': 5,\n",
              "  'target': 'METHODS',\n",
              "  'text': 'individuals received an lp to diagnose meningitis , and subsequent therapeutic lps were recommended for elevated icp ( > @ mmh@o ) or new symptoms .',\n",
              "  'total_lines': 14},\n",
              " {'line_number': 6,\n",
              "  'target': 'METHODS',\n",
              "  'text': 'we compared survival , through @ days , between individuals receiving at least @ therapeutic lp with individuals not receiving therapeutic lps .',\n",
              "  'total_lines': 14},\n",
              " {'line_number': 7,\n",
              "  'target': 'METHODS',\n",
              "  'text': 'the coat trial randomized subjects at @-@ days ; thus , follow-up stopped at time of death , randomization , or @ days .',\n",
              "  'total_lines': 14},\n",
              " {'line_number': 8,\n",
              "  'target': 'RESULTS',\n",
              "  'text': 'seventy-five ( @ % ) individuals had at least @ therapeutic lp .',\n",
              "  'total_lines': 14},\n",
              " {'line_number': 9,\n",
              "  'target': 'RESULTS',\n",
              "  'text': 'individuals receiving therapeutic lps had higher cerebrospinal fluid ( csf ) opening pressures , higher csf fungal burdens , and were more likely to have altered mental status at baseline than those with no therapeutic lps .',\n",
              "  'total_lines': 14},\n",
              " {'line_number': 10,\n",
              "  'target': 'RESULTS',\n",
              "  'text': 'thirty-one deaths ( @ % ) occurred among @ individuals without a therapeutic lp and @ deaths ( @ % ) among @ with at least @ therapeutic lp .',\n",
              "  'total_lines': 14},\n",
              " {'line_number': 11,\n",
              "  'target': 'RESULTS',\n",
              "  'text': 'the adjusted relative risk of mortality was @ ( @ % confidence interval : @ -@ ) .',\n",
              "  'total_lines': 14},\n",
              " {'line_number': 12,\n",
              "  'target': 'RESULTS',\n",
              "  'text': 'the association was observed regardless of opening pressure at baseline .',\n",
              "  'total_lines': 14},\n",
              " {'line_number': 13,\n",
              "  'target': 'CONCLUSIONS',\n",
              "  'text': 'therapeutic lps were associated with a @ % relative improvement in survival , regardless of initial intracranial pressure .',\n",
              "  'total_lines': 14},\n",
              " {'line_number': 14,\n",
              "  'target': 'CONCLUSIONS',\n",
              "  'text': 'the role of therapeutic lps should be reevaluated .',\n",
              "  'total_lines': 14},\n",
              " {'line_number': 0,\n",
              "  'target': 'BACKGROUND',\n",
              "  'text': 'angiotensin-converting enzyme inhibitors ( aceis ) are currently used to control proteinuria in dogs with chronic kidney disease .',\n",
              "  'total_lines': 12},\n",
              " {'line_number': 1,\n",
              "  'target': 'BACKGROUND',\n",
              "  'text': 'renal diets ( rds ) have beneficial effects in the management of azotemic dogs , but its role in proteinuric non-azotemic ( pnaz ) dogs has been poorly documented .',\n",
              "  'total_lines': 12},\n",
              " {'line_number': 2,\n",
              "  'target': 'OBJECTIVE',\n",
              "  'text': 'administration of a rd to pnaz dogs treated with benazepril ( be ) improves proteinuria control compared with the administration of a maintenance diet ( md ) .',\n",
              "  'total_lines': 12},\n",
              " {'line_number': 3,\n",
              "  'target': 'METHODS',\n",
              "  'text': 'twenty-two pnaz ( urine protein/creatinine ratio -lsb- upc -rsb- > @ ) dogs .',\n",
              "  'total_lines': 12},\n",
              " {'line_number': 4,\n",
              "  'target': 'METHODS',\n",
              "  'text': 'randomized open label clinical trial design .',\n",
              "  'total_lines': 12},\n",
              " {'line_number': 5,\n",
              "  'target': 'METHODS',\n",
              "  'text': 'dogs were assigned to group-md ( @ g protein/@ kcal me ) / be or to group-rd ( @ g protein/@ kcal me ) / be group during @ days .',\n",
              "  'total_lines': 12},\n",
              " {'line_number': 6,\n",
              "  'target': 'METHODS',\n",
              "  'text': 'dogs with serum albumin ( alb ) < @ g/dl received aspirin ( @ mg/kg/@ hours ) .',\n",
              "  'total_lines': 12},\n",
              " {'line_number': 7,\n",
              "  'target': 'METHODS',\n",
              "  'text': 'a physical examination , systolic blood pressure ( sbp ) measurement , complete blood count ( cbc ) , biochemistry panel , urinalysis , and upc were performed at day @ ( d@ ) and day @ ( d@ ) .',\n",
              "  'total_lines': 12},\n",
              " {'line_number': 8,\n",
              "  'target': 'RESULTS',\n",
              "  'text': 'at d@ , there were no significant differences between groups in the evaluated variables .',\n",
              "  'total_lines': 12},\n",
              " {'line_number': 9,\n",
              "  'target': 'RESULTS',\n",
              "  'text': 'during the study , logupc ( geometric mean ( @ % ci ) and sbp ( meansd mmhg ) significantly decreased ( paired t-test , p = @ ) in group-rd ( logupc ( d@ ) = @ -lsb- @-@ @ -rsb- ; upc ( d@ ) = @ -lsb- @-@ @ -rsb- ; sbp ( d@ ) = @ @ ; sbp ( d@ ) = @ @ ) , but not in group-md ( upc ( d@ ) = @ -lsb- @-@ @ -rsb- ; upc ( d@ ) = @ -lsb- @-@ @ -rsb- ; sbp ( d@ ) = @ @ ; sbp ( d@ ) = @ @ ) .',\n",
              "  'total_lines': 12},\n",
              " {'line_number': 10,\n",
              "  'target': 'RESULTS',\n",
              "  'text': 'however , rm-anova test did not confirm that changes were consequence of dietary modification .',\n",
              "  'total_lines': 12},\n",
              " {'line_number': 11,\n",
              "  'target': 'RESULTS',\n",
              "  'text': 'weight and alb concentration did not change significantly in any group .',\n",
              "  'total_lines': 12},\n",
              " {'line_number': 12,\n",
              "  'target': 'CONCLUSIONS',\n",
              "  'text': 'the administration of a rd to pnaz dogs treated with be might help to control proteinuria and sbp compared with the administration of a md , without inducing clinically detectable malnutrition , but more studies are warranted .',\n",
              "  'total_lines': 12},\n",
              " {'line_number': 0,\n",
              "  'target': 'BACKGROUND',\n",
              "  'text': 'to assess the temporal patterns of late gastrointestinal ( gi ) and genitourinary ( gu ) radiotherapy toxicity and resolution rates in a randomised controlled trial ( all-ireland cooperative oncology research group @-@ ) assessing duration of neo-adjuvant ( na ) hormone therapy for localised prostate cancer .',\n",
              "  'total_lines': 11},\n",
              " {'line_number': 1,\n",
              "  'target': 'METHODS',\n",
              "  'text': 'node negative patients with > @ of : psa > @ ng/ml , gleason score @ , and stage t@ or more , were included .',\n",
              "  'total_lines': 11},\n",
              " {'line_number': 2,\n",
              "  'target': 'METHODS',\n",
              "  'text': 'follow-up , including toxicity assessment , was three-monthly in the early stages and yearly thereafter .',\n",
              "  'total_lines': 11},\n",
              " {'line_number': 3,\n",
              "  'target': 'RESULTS',\n",
              "  'text': 'median follow-up from the end of rt was @ years .',\n",
              "  'total_lines': 11},\n",
              " {'line_number': 4,\n",
              "  'target': 'RESULTS',\n",
              "  'text': 'in the interval between @ days following the end of rt and the last toxicity assessment , gi and gu toxicity ( any grade ) was found in @ % and @ % of @ and @ patients , respectively .',\n",
              "  'total_lines': 11},\n",
              " {'line_number': 5,\n",
              "  'target': 'RESULTS',\n",
              "  'text': 'for those who did develop toxicity , the median time from end of rt until the first development of any grade gi or gu toxicity was @ years and @ years , respectively , whilst median time to final resolution was @ years and @ years , respectively .',\n",
              "  'total_lines': 11},\n",
              " {'line_number': 6,\n",
              "  'target': 'RESULTS',\n",
              "  'text': 'grade @ ( g@ ) or greater gi and gu toxicity occurred in @ ( @ % ) and @ ( @ % ) patients , respectively .',\n",
              "  'total_lines': 11},\n",
              " {'line_number': 7,\n",
              "  'target': 'RESULTS',\n",
              "  'text': 'the proportion with unresolved g@ + gi and gu toxicity was @ % and @ % , respectively , in year @ , @ % and @ % in year @ , @ % and @ % in year @ and @ % and @ % in year @ .',\n",
              "  'total_lines': 11},\n",
              " {'line_number': 8,\n",
              "  'target': 'CONCLUSIONS',\n",
              "  'text': 'long-term toxicities continue to occur many years after na hormone therapy and rt. .',\n",
              "  'total_lines': 11},\n",
              " {'line_number': 9,\n",
              "  'target': 'CONCLUSIONS',\n",
              "  'text': 'the rate of occurrence does not appear to reduce within the time frame during which our patients were followed .',\n",
              "  'total_lines': 11},\n",
              " {'line_number': 10,\n",
              "  'target': 'CONCLUSIONS',\n",
              "  'text': 'the percentage of patients suffering from g@ + toxicity at any time is however low .',\n",
              "  'total_lines': 11},\n",
              " {'line_number': 11,\n",
              "  'target': 'CONCLUSIONS',\n",
              "  'text': 'resolution of these toxicities continues for the duration of the follow-up .',\n",
              "  'total_lines': 11},\n",
              " {'line_number': 0,\n",
              "  'target': 'BACKGROUND',\n",
              "  'text': 'a novel therapeutic management of osteoarthritis ( oa ) of the knee was assessed .',\n",
              "  'total_lines': 12},\n",
              " {'line_number': 1,\n",
              "  'target': 'BACKGROUND',\n",
              "  'text': 'the study aimed to evaluate the effect of monthly sodium bicarbonate with a single ( sbcg@ ) or double dose ( sbcg@ ) of calcium gluconate injections on oa of the knee ; as well as the efficacy and safety of both sbcg interventions in the long term .',\n",
              "  'total_lines': 12},\n",
              " {'line_number': 2,\n",
              "  'target': 'METHODS',\n",
              "  'text': 'a double-blind parallel-group clinical trial with @ knee oa patients was performed during @months , both sbcg interventions were followed-up for another @mo after intervention .',\n",
              "  'total_lines': 12},\n",
              " {'line_number': 3,\n",
              "  'target': 'METHODS',\n",
              "  'text': \"the outcome variables were the western ontario-mcmaster university osteoarthritis index ( womac ) , the lequesne 's functional index and joint-space width changes from serial radiographs .\",\n",
              "  'total_lines': 12},\n",
              " {'line_number': 4,\n",
              "  'target': 'RESULTS',\n",
              "  'text': 'after @months , group sbcg@ decreased -@ ( @ % ci : -@ , -@ ) and group sbcg@ decreased -@ ( -@ , -@ ) in the global womac score , the mean changes represent @ % and @ % lessened pain , respectively .',\n",
              "  'total_lines': 12},\n",
              " {'line_number': 5,\n",
              "  'target': 'RESULTS',\n",
              "  'text': 'in the lequesne functional index scale , sbcg@ decreased -@ ( -@ , -@ ) and sbcg@ decreased -@ ( -@ , -@ ) , representing @ and @ % of improvement .',\n",
              "  'total_lines': 12},\n",
              " {'line_number': 6,\n",
              "  'target': 'RESULTS',\n",
              "  'text': 'both mean scores were maintained after intervention discontinued .',\n",
              "  'total_lines': 12},\n",
              " {'line_number': 7,\n",
              "  'target': 'RESULTS',\n",
              "  'text': \"sbcg@ improved the knees ' joint space width more than sbcg@ at @ and @months .\",\n",
              "  'total_lines': 12},\n",
              " {'line_number': 8,\n",
              "  'target': 'RESULTS',\n",
              "  'text': 'both sbcg interventions were well tolerated after @months of treatment',\n",
              "  'total_lines': 12},\n",
              " {'line_number': 9,\n",
              "  'target': 'CONCLUSIONS',\n",
              "  'text': 'a solution of sodium bicarbonate and calcium gluconate is effective on reducing the symptoms associated with oa .',\n",
              "  'total_lines': 12},\n",
              " {'line_number': 10,\n",
              "  'target': 'CONCLUSIONS',\n",
              "  'text': 'its beneficial effect is maintained for one year of continuous monthly administration and at least for @months after the administration is discontinued .',\n",
              "  'total_lines': 12},\n",
              " {'line_number': 11,\n",
              "  'target': 'CONCLUSIONS',\n",
              "  'text': 'when the dose of calcium gluconate is increased , it prevents further narrowing of joint-space .',\n",
              "  'total_lines': 12},\n",
              " {'line_number': 12,\n",
              "  'target': 'BACKGROUND',\n",
              "  'text': 'clinicaltrials.gov nct@ september @ , @ .',\n",
              "  'total_lines': 12},\n",
              " {'line_number': 0,\n",
              "  'target': 'BACKGROUND',\n",
              "  'text': 'deprivation of parents might decrease self-esteem ( se ) and result in affective and social incompatibility .',\n",
              "  'total_lines': 10},\n",
              " {'line_number': 1,\n",
              "  'target': 'BACKGROUND',\n",
              "  'text': 'in this randomized control trial , we examined the effect of aerobics exercise on se among female adolescents living with no natural family .',\n",
              "  'total_lines': 10},\n",
              " {'line_number': 2,\n",
              "  'target': 'METHODS',\n",
              "  'text': 'the sample consisted of all female adolescents aged @ to @ years ( n : @ ) who were covered by isfahan welfare organization .',\n",
              "  'total_lines': 10},\n",
              " {'line_number': 3,\n",
              "  'target': 'METHODS',\n",
              "  'text': 'participants were assigned into intervention and control groups by matched random sampling .',\n",
              "  'total_lines': 10},\n",
              " {'line_number': 4,\n",
              "  'target': 'METHODS',\n",
              "  'text': 'intervention included @ weeks of aerobics exercise .',\n",
              "  'total_lines': 10},\n",
              " {'line_number': 5,\n",
              "  'target': 'METHODS',\n",
              "  'text': 'coppersmith se inventory was administered before and after intervention as well as after one month follow-up .',\n",
              "  'total_lines': 10},\n",
              " {'line_number': 6,\n",
              "  'target': 'RESULTS',\n",
              "  'text': 'no significant difference was seen between pre-se scores of intervention ( @ @ ) and control ( @ @ ) groups ( t = @ , p = @ ) .',\n",
              "  'total_lines': 10},\n",
              " {'line_number': 7,\n",
              "  'target': 'RESULTS',\n",
              "  'text': 'a significant difference was obtained in post-se scores ( @ @ versus @ @ , t = @ , p = @ ) and in one month follow-up scores ( @ @ versus @ @ , t = @ , p = @ ) .',\n",
              "  'total_lines': 10},\n",
              " {'line_number': 8,\n",
              "  'target': 'CONCLUSIONS',\n",
              "  'text': 'the results demonstrated a low level of pre-se in both groups .',\n",
              "  'total_lines': 10},\n",
              " {'line_number': 9,\n",
              "  'target': 'CONCLUSIONS',\n",
              "  'text': 'however , a significant improvement was seen in posttest of intervention group which persisted even one month after intervention .',\n",
              "  'total_lines': 10},\n",
              " {'line_number': 10,\n",
              "  'target': 'CONCLUSIONS',\n",
              "  'text': 'it supports the use of aerobics for female adolescents deprived from family life .',\n",
              "  'total_lines': 10},\n",
              " {'line_number': 0,\n",
              "  'target': 'OBJECTIVE',\n",
              "  'text': 'to evaluate the effect of oral supplementation with omega-@ ( -@ ) fatty acids ( fas ) in improving contrast sensitivity ( cs ) of patients with moderate meibomian gland dysfunction ( mgd ) .',\n",
              "  'total_lines': 9},\n",
              " {'line_number': 1,\n",
              "  'target': 'METHODS',\n",
              "  'text': 'in this prospective study , @ patients with moderate mgd were allocated alternately to treatment and control groups .',\n",
              "  'total_lines': 9},\n",
              " {'line_number': 2,\n",
              "  'target': 'METHODS',\n",
              "  'text': 'both groups received warm compresses , lid massage , and artificial tear substitutes .',\n",
              "  'total_lines': 9},\n",
              " {'line_number': 3,\n",
              "  'target': 'METHODS',\n",
              "  'text': 'the treatment group also received oral supplements of @ g -@ fas per day .',\n",
              "  'total_lines': 9},\n",
              " {'line_number': 4,\n",
              "  'target': 'METHODS',\n",
              "  'text': 'all parameters were recorded at baseline and at @ weeks and included ocular surface disease index scores , cs testing at @ , @ , @ , and @ cycles per degree ( cpd ) , tear break-up time , schirmer test i without anesthesia , corneal and conjunctival staining scores , and meibum quality and expressibility .',\n",
              "  'total_lines': 9},\n",
              " {'line_number': 5,\n",
              "  'target': 'RESULTS',\n",
              "  'text': 'at the end of @ weeks , significant improvement in cs was seen in the treatment group in @ of the @ testing conditions ( @ , @ , @ , and @ cpd photopic and @ , @ , and @ cpd mesopic ) , whereas in the placebo group , significant improvement was seen only in @ of the @ testing conditions ( @ cpd photopic , @ and @ cpd mesopic ) .',\n",
              "  'total_lines': 9},\n",
              " {'line_number': 6,\n",
              "  'target': 'RESULTS',\n",
              "  'text': 'ocular surface disease index , tear break-up time , ocular surface staining , and meibum quality and expressibility improved significantly in both groups , but more so in the treatment group .',\n",
              "  'total_lines': 9},\n",
              " {'line_number': 7,\n",
              "  'target': 'RESULTS',\n",
              "  'text': 'schirmer scores showed no significant improvement in either group .',\n",
              "  'total_lines': 9},\n",
              " {'line_number': 8,\n",
              "  'target': 'CONCLUSIONS',\n",
              "  'text': 'oral supplementation with -@ fas significantly improved cs under both photopic and mesopic testing conditions in patients with moderate mgd .',\n",
              "  'total_lines': 9},\n",
              " {'line_number': 9,\n",
              "  'target': 'CONCLUSIONS',\n",
              "  'text': 'tear film stability also improved significantly , whereas no effect was seen on aqueous tear production .',\n",
              "  'total_lines': 9},\n",
              " {'line_number': 0,\n",
              "  'target': 'OBJECTIVE',\n",
              "  'text': 'concern about pain during placement of an intrauterine device ( iud ) represents a barrier to use , especially among nulliparous women .',\n",
              "  'total_lines': 12},\n",
              " {'line_number': 1,\n",
              "  'target': 'OBJECTIVE',\n",
              "  'text': 'we hypothesized that nitroglycerin gel applied vaginally @ min prior to iud placement would reduce insertion-related pain .',\n",
              "  'total_lines': 12},\n",
              " {'line_number': 2,\n",
              "  'target': 'METHODS',\n",
              "  'text': 'we designed a randomized , double-blinded , placebo-controlled pilot study to evaluate the efficacy and tolerability of @-mg nitroglycerin gel ( @ ml ) or identical placebo gel applied vaginally in nulliparous women @ min prior to iud placement .',\n",
              "  'total_lines': 12},\n",
              " {'line_number': 3,\n",
              "  'target': 'METHODS',\n",
              "  'text': 'the study was limited to women who opted for the levonorgestrel-releasing intrauterine system .',\n",
              "  'total_lines': 12},\n",
              " {'line_number': 4,\n",
              "  'target': 'METHODS',\n",
              "  'text': 'subjects completed a series of @-mm visual analogue scales at several time points .',\n",
              "  'total_lines': 12},\n",
              " {'line_number': 5,\n",
              "  'target': 'METHODS',\n",
              "  'text': 'the primary outcome was subject-reported pain with passage of the iud through the cervix .',\n",
              "  'total_lines': 12},\n",
              " {'line_number': 6,\n",
              "  'target': 'METHODS',\n",
              "  'text': 'secondary outcomes included subject-reported pain at other time points , provider-reported ease of insertion , side effects , adverse events and need for additional dilation .',\n",
              "  'total_lines': 12},\n",
              " {'line_number': 7,\n",
              "  'target': 'RESULTS',\n",
              "  'text': 'a total of @ women were randomized .',\n",
              "  'total_lines': 12},\n",
              " {'line_number': 8,\n",
              "  'target': 'RESULTS',\n",
              "  'text': 'baseline characteristics were similar between groups .',\n",
              "  'total_lines': 12},\n",
              " {'line_number': 9,\n",
              "  'target': 'RESULTS',\n",
              "  'text': 'the mean pain score with iud deployment was @ mm -lsb- standard deviation ( sd ) = @ mm -rsb- in the placebo group and @ mm ( sd @ mm ) in the nitroglycerin group ( p = @ ) .',\n",
              "  'total_lines': 12},\n",
              " {'line_number': 10,\n",
              "  'target': 'RESULTS',\n",
              "  'text': 'there was no difference in ease of insertion reported by providers .',\n",
              "  'total_lines': 12},\n",
              " {'line_number': 11,\n",
              "  'target': 'RESULTS',\n",
              "  'text': 'two subjects required dilation , one in each group .',\n",
              "  'total_lines': 12},\n",
              " {'line_number': 12,\n",
              "  'target': 'CONCLUSIONS',\n",
              "  'text': 'vaginal administration of @-mg nitroglycerin gel @ min prior to iud placement does not appear to decrease patient-reported procedural pain among nulliparous women or ease of insertion for providers .',\n",
              "  'total_lines': 12},\n",
              " {'line_number': 0,\n",
              "  'target': 'BACKGROUND',\n",
              "  'text': 'long-term clinical outcomes of everolimus-eluting stent ( ees ) compared with sirolimus-eluting stent ( ses ) have not been evaluated fully yet , especially whether ees implantation could positively affect late adverse events reported after ses implantation occurring > @ year .',\n",
              "  'total_lines': 10},\n",
              " {'line_number': 1,\n",
              "  'target': 'RESULTS',\n",
              "  'text': 'in this all-comer prospective multicenter randomized open-label trial , @ patients were assigned randomly to implant either ees ( n = @ ) or ses ( n = @ ) .',\n",
              "  'total_lines': 10},\n",
              " {'line_number': 2,\n",
              "  'target': 'RESULTS',\n",
              "  'text': 'at @ years , ees was noninferior to ses on the primary safety end point ( all-cause death or myocardial infarction ; @ % versus @ % ; noninferiority p < @ ; and superiority p = @ ) .',\n",
              "  'total_lines': 10},\n",
              " {'line_number': 3,\n",
              "  'target': 'RESULTS',\n",
              "  'text': 'cumulative incidence of definite stent thrombosis was low and was not significantly different between the @ groups ( @ % versus @ % ; p = @ ) .',\n",
              "  'total_lines': 10},\n",
              " {'line_number': 4,\n",
              "  'target': 'RESULTS',\n",
              "  'text': 'there was no significant difference in the efficacy end point of target-lesion revascularization between the ees and ses groups ( @ % versus @ % ; p = @ ) .',\n",
              "  'total_lines': 10},\n",
              " {'line_number': 5,\n",
              "  'target': 'RESULTS',\n",
              "  'text': 'however , the cumulative incidence of target-lesion failure ( cardiac death/target-vessel myocardial infarction/ischemia-driven target-lesion revascularization ) was significantly lower in the ees group than in the ses group ( @ % versus @ % ; p = @ ) .',\n",
              "  'total_lines': 10},\n",
              " {'line_number': 6,\n",
              "  'target': 'RESULTS',\n",
              "  'text': 'by a landmark analysis at @ year , the cumulative incidence of very late stent thrombosis and late target-lesion revascularization was not significantly different between the @ groups ( @ % versus @ % ; p = @ and @ % versus @ % ; p = @ , respectively ) .',\n",
              "  'total_lines': 10},\n",
              " {'line_number': 7,\n",
              "  'target': 'CONCLUSIONS',\n",
              "  'text': 'the efficacy and safety outcomes for this trial after ees implantation remained comparable with those after ses implantation through @-year follow-up .',\n",
              "  'total_lines': 10},\n",
              " {'line_number': 8,\n",
              "  'target': 'CONCLUSIONS',\n",
              "  'text': 'however , improvement of clinical outcome after ees implantation compared with ses implantation was suggested by the significantly lower cumulative incidences of target-lesion failure , which has been the most widely used primary end point in the stent-versus-stent trials .',\n",
              "  'total_lines': 10},\n",
              " {'line_number': 9,\n",
              "  'target': 'BACKGROUND',\n",
              "  'text': 'http://www.clinicaltrials.gov .',\n",
              "  'total_lines': 10},\n",
              " {'line_number': 10,\n",
              "  'target': 'BACKGROUND',\n",
              "  'text': 'unique identifier : nct@ .',\n",
              "  'total_lines': 10},\n",
              " {'line_number': 0,\n",
              "  'target': 'BACKGROUND',\n",
              "  'text': 'metamizole use has been limited because of its risk of agranulocytosis .',\n",
              "  'total_lines': 12},\n",
              " {'line_number': 1,\n",
              "  'target': 'BACKGROUND',\n",
              "  'text': 'however , more recent literature seems to support its safety .',\n",
              "  'total_lines': 12},\n",
              " {'line_number': 2,\n",
              "  'target': 'BACKGROUND',\n",
              "  'text': 'this prospective , randomised , double-blind study was conducted to compare the analgesic effects of intravenous metamizole or intravenous paracetamol in combination with morphine pca during the first @h following total hip arthroplasty .',\n",
              "  'total_lines': 12},\n",
              " {'line_number': 3,\n",
              "  'target': 'METHODS',\n",
              "  'text': 'one hundred ten consecutive patients were selected for study .',\n",
              "  'total_lines': 12},\n",
              " {'line_number': 4,\n",
              "  'target': 'METHODS',\n",
              "  'text': 'the two study groups were ( a ) metamizole , ( b ) paracetamol .',\n",
              "  'total_lines': 12},\n",
              " {'line_number': 5,\n",
              "  'target': 'METHODS',\n",
              "  'text': 'postoperative pain therapy was provided by morphine pca pump .',\n",
              "  'total_lines': 12},\n",
              " {'line_number': 6,\n",
              "  'target': 'METHODS',\n",
              "  'text': 'in the first treatment group ( a group ) , all patients received intravenous metamizole @ g every @h during the first @ postoperative hours .',\n",
              "  'total_lines': 12},\n",
              " {'line_number': 7,\n",
              "  'target': 'METHODS',\n",
              "  'text': 'in the second treatment group ( b group ) , all patients received intravenous paracetamol @g every @h during the first @ postoperative hours .',\n",
              "  'total_lines': 12},\n",
              " {'line_number': 8,\n",
              "  'target': 'METHODS',\n",
              "  'text': 'postoperative pain intensity was measured @ , @ , @ , @ , @ , @ , @ , @ , @ , @h after the end of surgery by a vas .',\n",
              "  'total_lines': 12},\n",
              " {'line_number': 9,\n",
              "  'target': 'RESULTS',\n",
              "  'text': 'statistically significant differences in vas pain values favoring metamizole were reported at @-h ( p = @ ) , @-h ( p = @ ) , @-h ( p = @ ) , @-h ( p < @ ) and @-h ( p = @ ) post-baseline .',\n",
              "  'total_lines': 12},\n",
              " {'line_number': 10,\n",
              "  'target': 'RESULTS',\n",
              "  'text': 'mean cumulative pain values were @ for metamizole and @ for paracetamol .',\n",
              "  'total_lines': 12},\n",
              " {'line_number': 11,\n",
              "  'target': 'CONCLUSIONS',\n",
              "  'text': 'in this study , we have also shown excellent efficacy of paracetamol and metamizole combined with opioids , but metamizole proved to be a better analgesic than paracetamol .',\n",
              "  'total_lines': 12},\n",
              " {'line_number': 12,\n",
              "  'target': 'CONCLUSIONS',\n",
              "  'text': 'it is also necessary to mention the financial aspect considering that intravenous paracetamol is about ten times more expensive than an equivalent analgesic doses of intravenous metamizole .',\n",
              "  'total_lines': 12},\n",
              " {'line_number': 0,\n",
              "  'target': 'BACKGROUND',\n",
              "  'text': 'a malaria vaccine could be an important addition to current control strategies .',\n",
              "  'total_lines': 14},\n",
              " {'line_number': 1,\n",
              "  'target': 'BACKGROUND',\n",
              "  'text': 'we report the safety and vaccine efficacy ( ve ) of the rts , s/as@ vaccine during @ mo following vaccination at @ african sites with varying malaria transmission .',\n",
              "  'total_lines': 14},\n",
              " {'line_number': 2,\n",
              "  'target': 'RESULTS',\n",
              "  'text': '@,@ infants aged @-@ wk and @,@ children aged @-@ mo were randomized to receive three doses of rts , s/as@ or comparator vaccine .',\n",
              "  'total_lines': 14},\n",
              " {'line_number': 3,\n",
              "  'target': 'RESULTS',\n",
              "  'text': 've against clinical malaria in children during the @ mo after vaccine dose @ ( per protocol ) was @ % ( @ % ci @ % to @ % ) ( range @ % to @ % ; ve , p < @ across all sites ) .',\n",
              "  'total_lines': 14},\n",
              " {'line_number': 4,\n",
              "  'target': 'RESULTS',\n",
              "  'text': 've during the @ mo after vaccine dose @ ( intention to treat -lsb- itt -rsb- ) was @ % ( @ % ci @ % to @ % ) .',\n",
              "  'total_lines': 14},\n",
              " {'line_number': 5,\n",
              "  'target': 'RESULTS',\n",
              "  'text': 've against severe malaria , malaria hospitalization , and all-cause hospitalization was @ % ( @ % ci @ % to @ % ) , @ % ( @ % ci @ % to @ % ) , and @ % ( @ % ci @ % to @ % ) , respectively ( itt ) .',\n",
              "  'total_lines': 14},\n",
              " {'line_number': 6,\n",
              "  'target': 'RESULTS',\n",
              "  'text': 've against clinical malaria in infants was @ % ( @ % ci @ % to @ % , per protocol ; @ % -lsb- @ % ci @ % to @ % -rsb- , itt ) , with no significant protection against severe malaria , malaria hospitalization , or all-cause hospitalization .',\n",
              "  'total_lines': 14},\n",
              " {'line_number': 7,\n",
              "  'target': 'RESULTS',\n",
              "  'text': 'post-vaccination anti-circumsporozoite antibody geometric mean titer varied from @ to @ eu/ml across sites in children and from @ to @ eu/ml in infants ( per protocol ) .',\n",
              "  'total_lines': 14},\n",
              " {'line_number': 8,\n",
              "  'target': 'RESULTS',\n",
              "  'text': 've waned over time in both age categories ( schoenfeld residuals p < @ ) .',\n",
              "  'total_lines': 14},\n",
              " {'line_number': 9,\n",
              "  'target': 'RESULTS',\n",
              "  'text': 'the number of clinical and severe malaria cases averted per @,@ children vaccinated ranged across sites from @ to @,@ and from -@ to @ , respectively ; corresponding ranges among infants were -@ to @,@ and -@ to @ , respectively ( itt ) .',\n",
              "  'total_lines': 14},\n",
              " {'line_number': 10,\n",
              "  'target': 'RESULTS',\n",
              "  'text': 'meningitis was reported as a serious adverse event in @/@ ,@ and @/@ ,@ children and in @/@ ,@ and @/@ ,@ infants in the rts , s/as@ and control groups , respectively .',\n",
              "  'total_lines': 14},\n",
              " {'line_number': 11,\n",
              "  'target': 'CONCLUSIONS',\n",
              "  'text': 'rts , s/as@ prevented many cases of clinical and severe malaria over the @ mo after vaccine dose @ , with the highest impact in areas with the greatest malaria incidence .',\n",
              "  'total_lines': 14},\n",
              " {'line_number': 12,\n",
              "  'target': 'CONCLUSIONS',\n",
              "  'text': 've was higher in children than in infants , but even at modest levels of ve , the number of malaria cases averted was substantial .',\n",
              "  'total_lines': 14},\n",
              " {'line_number': 13,\n",
              "  'target': 'CONCLUSIONS',\n",
              "  'text': 'rts , s/as@ could be an important addition to current malaria control in africa .',\n",
              "  'total_lines': 14},\n",
              " {'line_number': 14,\n",
              "  'target': 'BACKGROUND',\n",
              "  'text': \"www.clinicaltrials.gov nct@ please see later in the article for the editors ' summary .\",\n",
              "  'total_lines': 14},\n",
              " {'line_number': 0,\n",
              "  'target': 'OBJECTIVE',\n",
              "  'text': 'the purpose of this study was to examine the osteotomy gap filling rate with new bone after open wedge high tibial osteotomy ( hto ) without bone graft and the effects of smoking , lateral hinge fracture , and early full weight bearing .',\n",
              "  'total_lines': 14},\n",
              " {'line_number': 1,\n",
              "  'target': 'METHODS',\n",
              "  'text': 'a prospective series ( n = @ ) of open wedge htos with the tomofix plate ( depuy synthes , umkirch , germany ) was performed .',\n",
              "  'total_lines': 14},\n",
              " {'line_number': 2,\n",
              "  'target': 'METHODS',\n",
              "  'text': 'radiologic follow-up examinations took place postoperatively , after @ and @ weeks , and after @ , @ , and @ months to measure osteotomy gap filling at each follow-up .',\n",
              "  'total_lines': 14},\n",
              " {'line_number': 3,\n",
              "  'target': 'METHODS',\n",
              "  'text': 'bone healing was compared in smokers versus nonsmokers who underwent open wedge htos with intact lateral hinges .',\n",
              "  'total_lines': 14},\n",
              " {'line_number': 4,\n",
              "  'target': 'METHODS',\n",
              "  'text': 'fractured lateral hinges were classified according to the takeuchi classification and separately analyzed regarding bone healing .',\n",
              "  'total_lines': 14},\n",
              " {'line_number': 5,\n",
              "  'target': 'METHODS',\n",
              "  'text': 'patients were randomly assigned to undergo early ( @ days ) or standard ( @ weeks ) full-weight-bearing rehabilitation .',\n",
              "  'total_lines': 14},\n",
              " {'line_number': 6,\n",
              "  'target': 'RESULTS',\n",
              "  'text': 'a delay in the osteotomy gap filling rate between smokers and nonsmokers could be observed at all follow-up periods , but differences were not significant .',\n",
              "  'total_lines': 14},\n",
              " {'line_number': 7,\n",
              "  'target': 'RESULTS',\n",
              "  'text': 'a fracture of the lateral hinge was found in @ % of the patients .',\n",
              "  'total_lines': 14},\n",
              " {'line_number': 8,\n",
              "  'target': 'RESULTS',\n",
              "  'text': 'a type i fracture was observed in @ % of patients , a type ii fracture was observed in @ % , and a type iii fracture was found in @ % .',\n",
              "  'total_lines': 14},\n",
              " {'line_number': 9,\n",
              "  'target': 'RESULTS',\n",
              "  'text': 'the highest increase in the osteotomy gap filling rate was observed between @ weeks and @ months after surgery in patients with intact lateral hinges .',\n",
              "  'total_lines': 14},\n",
              " {'line_number': 10,\n",
              "  'target': 'RESULTS',\n",
              "  'text': 'for patients with unstable type ii fractures , the highest increase in the gap filling rate was delayed until @ to @ months .',\n",
              "  'total_lines': 14},\n",
              " {'line_number': 11,\n",
              "  'target': 'RESULTS',\n",
              "  'text': 'early full weight bearing had no effect on the gap filling rate in any of the patient groups evaluated .',\n",
              "  'total_lines': 14},\n",
              " {'line_number': 12,\n",
              "  'target': 'CONCLUSIONS',\n",
              "  'text': 'this study shows that osteotomy gap filling after open wedge hto is delayed in smokers and in patients in whom opening of the gap resulted in unstable lateral hinge fractures .',\n",
              "  'total_lines': 14},\n",
              " {'line_number': 13,\n",
              "  'target': 'CONCLUSIONS',\n",
              "  'text': 'early full weight bearing did not have a significant effect on the gap filling rate .',\n",
              "  'total_lines': 14},\n",
              " {'line_number': 14,\n",
              "  'target': 'METHODS',\n",
              "  'text': 'level iii , prognostic study .',\n",
              "  'total_lines': 14},\n",
              " {'line_number': 0,\n",
              "  'target': 'OBJECTIVE',\n",
              "  'text': 'to compare @-day mortality rates and clinical outcomes in icu patients with ventilator-associated pneumonia according to the diagnostic strategy used .',\n",
              "  'total_lines': 10},\n",
              " {'line_number': 1,\n",
              "  'target': 'METHODS',\n",
              "  'text': 'this was a prospective randomized clinical trial .',\n",
              "  'total_lines': 10},\n",
              " {'line_number': 2,\n",
              "  'target': 'METHODS',\n",
              "  'text': 'of the @ patients included in the study , @ and @ were randomized to undergo bal or endotracheal aspiration ( ea ) , respectively .',\n",
              "  'total_lines': 10},\n",
              " {'line_number': 3,\n",
              "  'target': 'METHODS',\n",
              "  'text': 'antibiotic therapy was based on guidelines and was adjusted according to the results of quantitative cultures .',\n",
              "  'total_lines': 10},\n",
              " {'line_number': 4,\n",
              "  'target': 'RESULTS',\n",
              "  'text': 'the @-day mortality rate was similar in the bal and ea groups ( @ % and @ % , respectively ; p = @ ) .',\n",
              "  'total_lines': 10},\n",
              " {'line_number': 5,\n",
              "  'target': 'RESULTS',\n",
              "  'text': 'there were no differences between the groups regarding the duration of mechanical ventilation , antibiotic therapy , secondary complications , vap recurrence , or length of icu and hospital stay .',\n",
              "  'total_lines': 10},\n",
              " {'line_number': 6,\n",
              "  'target': 'RESULTS',\n",
              "  'text': 'initial antibiotic therapy was deemed appropriate in @ ( @ % ) and @ ( @ % ) of the patients in the bal and ea groups , respectively ( p = @ ) .',\n",
              "  'total_lines': 10},\n",
              " {'line_number': 7,\n",
              "  'target': 'RESULTS',\n",
              "  'text': 'the @-day mortality rate was not associated with the appropriateness of initial therapy in the bal and ea groups ( appropriate therapy : @ % vs. @ % ; p = @ ; and inappropriate therapy : @ % vs. @ % ; p = @ ) .',\n",
              "  'total_lines': 10},\n",
              " {'line_number': 8,\n",
              "  'target': 'RESULTS',\n",
              "  'text': 'previous use of antibiotics did not affect the culture yield in the ea or bal group ( p = @ and p = @ , respectively ) .',\n",
              "  'total_lines': 10},\n",
              " {'line_number': 9,\n",
              "  'target': 'CONCLUSIONS',\n",
              "  'text': 'in the context of this study , the management of vap patients , based on the results of quantitative endotracheal aspirate cultures , led to similar clinical outcomes to those obtained with the results of quantitative bal fluid cultures .',\n",
              "  'total_lines': 10},\n",
              " {'line_number': 10,\n",
              "  'target': 'CONCLUSIONS',\n",
              "  'text': '( brazilian registry of clinical trials -- rebec ; identification number rbr-@dcdx -lsb- http://www.ensaiosclinicos.gov.br] ) .',\n",
              "  'total_lines': 10},\n",
              " {'line_number': 0,\n",
              "  'target': 'OBJECTIVE',\n",
              "  'text': 'primary sjgren syndrome is a systemic autoimmune disease characterized by mouth and eye dryness , pain , and fatigue .',\n",
              "  'total_lines': 19},\n",
              " {'line_number': 1,\n",
              "  'target': 'OBJECTIVE',\n",
              "  'text': 'hydroxychloroquine is the most frequently prescribed immunosuppressant for the syndrome .',\n",
              "  'total_lines': 19},\n",
              " {'line_number': 2,\n",
              "  'target': 'OBJECTIVE',\n",
              "  'text': 'however , evidence regarding its efficacy is limited .',\n",
              "  'total_lines': 19},\n",
              " {'line_number': 3,\n",
              "  'target': 'OBJECTIVE',\n",
              "  'text': 'to evaluate the efficacy of hydroxychloroquine for the main symptoms of primary sjgren syndrome : dryness , pain , and fatigue .',\n",
              "  'total_lines': 19},\n",
              " {'line_number': 4,\n",
              "  'target': 'METHODS',\n",
              "  'text': 'from april @ to may @ , @ patients with primary sjgren syndrome according to american-european consensus group criteria from @ university hospitals in france were randomized in a double-blind , parallel-group , placebo-controlled trial .',\n",
              "  'total_lines': 19},\n",
              " {'line_number': 5,\n",
              "  'target': 'METHODS',\n",
              "  'text': 'participants were assessed at baseline , week @ , week @ ( primary outcome ) , and week @ .',\n",
              "  'total_lines': 19},\n",
              " {'line_number': 6,\n",
              "  'target': 'METHODS',\n",
              "  'text': 'the last follow-up date for the last patient was may @ , @ .',\n",
              "  'total_lines': 19},\n",
              " {'line_number': 7,\n",
              "  'target': 'METHODS',\n",
              "  'text': 'patients were randomized ( @:@ ) to receive hydroxychloroquine ( @ mg/d ) or placebo until week @ .',\n",
              "  'total_lines': 19},\n",
              " {'line_number': 8,\n",
              "  'target': 'METHODS',\n",
              "  'text': 'all patients were prescribed hydroxychloroquine between weeks @ and @ .',\n",
              "  'total_lines': 19},\n",
              " {'line_number': 9,\n",
              "  'target': 'METHODS',\n",
              "  'text': 'the primary end point was the proportion of patients with a @ % or greater reduction between weeks @ and @ in scores on @ of @ numeric analog scales ( from @ -lsb- best -rsb- to @ -lsb- worst -rsb- ) evaluating dryness , pain , and fatigue .',\n",
              "  'total_lines': 19},\n",
              " {'line_number': 10,\n",
              "  'target': 'RESULTS',\n",
              "  'text': 'at @ weeks , the proportion of patients meeting the primary end point was @ % ( @/@ ) in the hydroxychloroquine group and @ % ( @/@ ) in the placebo group ( odds ratio , @ ; @ % ci , @-@ @ ; p = @ ) .',\n",
              "  'total_lines': 19},\n",
              " {'line_number': 11,\n",
              "  'target': 'RESULTS',\n",
              "  'text': 'between weeks @ and @ , the mean ( sd ) numeric analog scale score for dryness changed from @ ( @ ) to @ ( @ ) in the placebo group and @ ( @ ) to @ ( @ ) in the hydroxychloroquine group .',\n",
              "  'total_lines': 19},\n",
              " {'line_number': 12,\n",
              "  'target': 'RESULTS',\n",
              "  'text': 'the mean ( sd ) numeric analog scale score for pain changed from @ ( @ ) to @ ( @ ) in the placebo group and @ ( @ ) to @ ( @ ) in the hydroxychloroquine group .',\n",
              "  'total_lines': 19},\n",
              " {'line_number': 13,\n",
              "  'target': 'RESULTS',\n",
              "  'text': 'the mean ( sd ) numeric analog scale for fatigue changed from @ ( @ ) to @ ( @ ) in the placebo group and @ ( @ ) to @ ( @ ) in the hydroxychloroquine group .',\n",
              "  'total_lines': 19},\n",
              " {'line_number': 14,\n",
              "  'target': 'RESULTS',\n",
              "  'text': 'all but @ patient in the hydroxychloroquine group had detectable blood levels of the drug .',\n",
              "  'total_lines': 19},\n",
              " {'line_number': 15,\n",
              "  'target': 'RESULTS',\n",
              "  'text': 'hydroxychloroquine had no efficacy in patients with anti-ssa autoantibodies , high igg levels , or systemic involvement .',\n",
              "  'total_lines': 19},\n",
              " {'line_number': 16,\n",
              "  'target': 'RESULTS',\n",
              "  'text': 'during the first @ weeks , there were @ serious adverse events in the hydroxychloroquine group and @ in the placebo group ; in the last @ weeks , there were @ serious adverse events in the hydroxychloroquine group and @ in the placebo group .',\n",
              "  'total_lines': 19},\n",
              " {'line_number': 17,\n",
              "  'target': 'CONCLUSIONS',\n",
              "  'text': 'among patients with primary sjgren syndrome , the use of hydroxychloroquine compared with placebo did not improve symptoms during @ weeks of treatment .',\n",
              "  'total_lines': 19},\n",
              " {'line_number': 18,\n",
              "  'target': 'CONCLUSIONS',\n",
              "  'text': 'further studies are needed to evaluate longer-term outcomes .',\n",
              "  'total_lines': 19},\n",
              " {'line_number': 19,\n",
              "  'target': 'BACKGROUND',\n",
              "  'text': 'clinicaltrials.gov identifier : nct@ .',\n",
              "  'total_lines': 19},\n",
              " {'line_number': 0,\n",
              "  'target': 'OBJECTIVE',\n",
              "  'text': 'to determine whether plasma sclerostin levels are affected by applying whole-body vibration treatments .',\n",
              "  'total_lines': 7},\n",
              " {'line_number': 1,\n",
              "  'target': 'METHODS',\n",
              "  'text': 'following a pilot study , the pretsent prospective , randomized , controlled single-blind study was performed on @ healthy volunteer women ( ages @ to @ years ) .',\n",
              "  'total_lines': 7},\n",
              " {'line_number': 2,\n",
              "  'target': 'METHODS',\n",
              "  'text': 'subjects were randomly divided into @ groups , and whole-body vibration was applied to the treatment group but not to the controls .',\n",
              "  'total_lines': 7},\n",
              " {'line_number': 3,\n",
              "  'target': 'METHODS',\n",
              "  'text': 'the plasma sclerostin levels were measured before the treatment and at the @th minute after whole-body vibration on the @st , @nd , and @th days of application .',\n",
              "  'total_lines': 7},\n",
              " {'line_number': 4,\n",
              "  'target': 'RESULTS',\n",
              "  'text': 'the plasma sclerostin level measured at @ min after the whole-body vibration treatment increased @ % ( p = @ ) on the @st day and decreased @ % ( p = @ ) on the @th day in the whole-body vibration group .',\n",
              "  'total_lines': 7},\n",
              " {'line_number': 5,\n",
              "  'target': 'RESULTS',\n",
              "  'text': 'in the control group , there was no change in the plasma sclerostin level at any time .',\n",
              "  'total_lines': 7},\n",
              " {'line_number': 6,\n",
              "  'target': 'RESULTS',\n",
              "  'text': 'a progressive increase in baseline plasma sclerostin levels during the @ days of vibration sessions was also found .',\n",
              "  'total_lines': 7},\n",
              " {'line_number': 7,\n",
              "  'target': 'CONCLUSIONS',\n",
              "  'text': 'our study demonstrated that whole-body vibration can change plasma sclerostin levels , and that this change is detectable @ min after whole-body vibration treatments .',\n",
              "  'total_lines': 7},\n",
              " {'line_number': 0,\n",
              "  'target': 'BACKGROUND',\n",
              "  'text': 'knowing family history is important for understanding cancer risk , yet communication within families is suboptimal .',\n",
              "  'total_lines': 15},\n",
              " {'line_number': 1,\n",
              "  'target': 'BACKGROUND',\n",
              "  'text': 'providing strategies to enhance communication may be useful .',\n",
              "  'total_lines': 15},\n",
              " {'line_number': 2,\n",
              "  'target': 'METHODS',\n",
              "  'text': \"four hundred ninety women were recruited from urban , safety-net , hospital-based primary care women 's health clinics .\",\n",
              "  'total_lines': 15},\n",
              " {'line_number': 3,\n",
              "  'target': 'METHODS',\n",
              "  'text': 'participants were randomized to receive the kinfact intervention or the control handout on lowering risks for breast/colon cancer and screening recommendations .',\n",
              "  'total_lines': 15},\n",
              " {'line_number': 4,\n",
              "  'target': 'METHODS',\n",
              "  'text': 'cancer family history was reviewed with all participants .',\n",
              "  'total_lines': 15},\n",
              " {'line_number': 5,\n",
              "  'target': 'METHODS',\n",
              "  'text': 'the @-minute kinfact intervention , based in communication and behavior theory , included reviewing individualized breast/colon cancer risks and an interactive presentation about cancer and communication .',\n",
              "  'total_lines': 15},\n",
              " {'line_number': 6,\n",
              "  'target': 'METHODS',\n",
              "  'text': 'study outcomes included whether participants reported collecting family history , shared cancer risk information with relatives , and the frequency of communication with relatives .',\n",
              "  'total_lines': 15},\n",
              " {'line_number': 7,\n",
              "  'target': 'METHODS',\n",
              "  'text': 'data were collected at baseline , @ , @ , and @ months .',\n",
              "  'total_lines': 15},\n",
              " {'line_number': 8,\n",
              "  'target': 'RESULTS',\n",
              "  'text': 'overall , intervention participants were significantly more likely to gather family cancer information at follow-up ( odds ratio -lsb- or -rsb- : @ ; @ % confidence interval -lsb- ci -rsb- : @ , @ ) and to share familial cancer information with relatives ( or : @ ; @ % ci : @ , @ ) .',\n",
              "  'total_lines': 15},\n",
              " {'line_number': 9,\n",
              "  'target': 'RESULTS',\n",
              "  'text': 'communication frequency ( @ = not at all ; @ = a lot ) was significantly increased at follow-up ( @ vs. @ ) .',\n",
              "  'total_lines': 15},\n",
              " {'line_number': 10,\n",
              "  'target': 'RESULTS',\n",
              "  'text': 'differences were not modified by age , race , education , or family history .',\n",
              "  'total_lines': 15},\n",
              " {'line_number': 11,\n",
              "  'target': 'RESULTS',\n",
              "  'text': 'however , effects were modified by pregnancy status and genetic literacy .',\n",
              "  'total_lines': 15},\n",
              " {'line_number': 12,\n",
              "  'target': 'RESULTS',\n",
              "  'text': 'intervention effects for information gathering and frequency were observed for nonpregnant women but not for pregnant women .',\n",
              "  'total_lines': 15},\n",
              " ...]"
            ]
          },
          "metadata": {},
          "execution_count": 14
        }
      ]
    },
    {
      "cell_type": "code",
      "metadata": {
        "colab": {
          "base_uri": "https://localhost:8080/"
        },
        "id": "EHt0FOdwMmLc",
        "outputId": "d6372755-5f34-4769-db0f-7a8bf47dffa9"
      },
      "source": [
        "# check our training samples\n",
        "train_samples[:5]"
      ],
      "execution_count": null,
      "outputs": [
        {
          "output_type": "execute_result",
          "data": {
            "text/plain": [
              "[{'line_number': 0,\n",
              "  'target': 'OBJECTIVE',\n",
              "  'text': 'to investigate the efficacy of @ weeks of daily low-dose oral prednisolone in improving pain , mobility , and systemic low-grade inflammation in the short term and whether the effect would be sustained at @ weeks in older adults with moderate to severe knee osteoarthritis ( oa ) .',\n",
              "  'total_lines': 11},\n",
              " {'line_number': 1,\n",
              "  'target': 'METHODS',\n",
              "  'text': 'a total of @ patients with primary knee oa were randomized @:@ ; @ received @ mg/day of prednisolone and @ received placebo for @ weeks .',\n",
              "  'total_lines': 11},\n",
              " {'line_number': 2,\n",
              "  'target': 'METHODS',\n",
              "  'text': 'outcome measures included pain reduction and improvement in function scores and systemic inflammation markers .',\n",
              "  'total_lines': 11},\n",
              " {'line_number': 3,\n",
              "  'target': 'METHODS',\n",
              "  'text': 'pain was assessed using the visual analog pain scale ( @-@ mm ) .',\n",
              "  'total_lines': 11},\n",
              " {'line_number': 4,\n",
              "  'target': 'METHODS',\n",
              "  'text': 'secondary outcome measures included the western ontario and mcmaster universities osteoarthritis index scores , patient global assessment ( pga ) of the severity of knee oa , and @-min walk distance ( @mwd ) .',\n",
              "  'total_lines': 11}]"
            ]
          },
          "metadata": {},
          "execution_count": 15
        }
      ]
    },
    {
      "cell_type": "markdown",
      "metadata": {
        "id": "gCVrulyOVN8z"
      },
      "source": [
        "## ii).Turn Data into DataFrames"
      ]
    },
    {
      "cell_type": "code",
      "metadata": {
        "colab": {
          "base_uri": "https://localhost:8080/",
          "height": 206
        },
        "id": "saH60nEMNnPc",
        "outputId": "8143ad13-591e-4744-e2b8-e01a874be4d6"
      },
      "source": [
        "train_df = pd.DataFrame(train_samples)\n",
        "val_df = pd.DataFrame(val_samples)\n",
        "test_df = pd.DataFrame(test_samples)\n",
        "\n",
        "train_df.head()"
      ],
      "execution_count": null,
      "outputs": [
        {
          "output_type": "execute_result",
          "data": {
            "text/html": [
              "<div>\n",
              "<style scoped>\n",
              "    .dataframe tbody tr th:only-of-type {\n",
              "        vertical-align: middle;\n",
              "    }\n",
              "\n",
              "    .dataframe tbody tr th {\n",
              "        vertical-align: top;\n",
              "    }\n",
              "\n",
              "    .dataframe thead th {\n",
              "        text-align: right;\n",
              "    }\n",
              "</style>\n",
              "<table border=\"1\" class=\"dataframe\">\n",
              "  <thead>\n",
              "    <tr style=\"text-align: right;\">\n",
              "      <th></th>\n",
              "      <th>target</th>\n",
              "      <th>text</th>\n",
              "      <th>line_number</th>\n",
              "      <th>total_lines</th>\n",
              "    </tr>\n",
              "  </thead>\n",
              "  <tbody>\n",
              "    <tr>\n",
              "      <th>0</th>\n",
              "      <td>OBJECTIVE</td>\n",
              "      <td>to investigate the efficacy of @ weeks of dail...</td>\n",
              "      <td>0</td>\n",
              "      <td>11</td>\n",
              "    </tr>\n",
              "    <tr>\n",
              "      <th>1</th>\n",
              "      <td>METHODS</td>\n",
              "      <td>a total of @ patients with primary knee oa wer...</td>\n",
              "      <td>1</td>\n",
              "      <td>11</td>\n",
              "    </tr>\n",
              "    <tr>\n",
              "      <th>2</th>\n",
              "      <td>METHODS</td>\n",
              "      <td>outcome measures included pain reduction and i...</td>\n",
              "      <td>2</td>\n",
              "      <td>11</td>\n",
              "    </tr>\n",
              "    <tr>\n",
              "      <th>3</th>\n",
              "      <td>METHODS</td>\n",
              "      <td>pain was assessed using the visual analog pain...</td>\n",
              "      <td>3</td>\n",
              "      <td>11</td>\n",
              "    </tr>\n",
              "    <tr>\n",
              "      <th>4</th>\n",
              "      <td>METHODS</td>\n",
              "      <td>secondary outcome measures included the wester...</td>\n",
              "      <td>4</td>\n",
              "      <td>11</td>\n",
              "    </tr>\n",
              "  </tbody>\n",
              "</table>\n",
              "</div>"
            ],
            "text/plain": [
              "      target  ... total_lines\n",
              "0  OBJECTIVE  ...          11\n",
              "1    METHODS  ...          11\n",
              "2    METHODS  ...          11\n",
              "3    METHODS  ...          11\n",
              "4    METHODS  ...          11\n",
              "\n",
              "[5 rows x 4 columns]"
            ]
          },
          "metadata": {},
          "execution_count": 16
        }
      ]
    },
    {
      "cell_type": "code",
      "metadata": {
        "colab": {
          "base_uri": "https://localhost:8080/"
        },
        "id": "oCDAgybUWQU-",
        "outputId": "d107e5f1-7a87-46fb-f4b5-5fc706c46726"
      },
      "source": [
        "# Distribution of labels in training data\n",
        "train_df.target.value_counts()"
      ],
      "execution_count": null,
      "outputs": [
        {
          "output_type": "execute_result",
          "data": {
            "text/plain": [
              "METHODS        59353\n",
              "RESULTS        57953\n",
              "CONCLUSIONS    27168\n",
              "BACKGROUND     21727\n",
              "OBJECTIVE      13839\n",
              "Name: target, dtype: int64"
            ]
          },
          "metadata": {},
          "execution_count": 17
        }
      ]
    },
    {
      "cell_type": "code",
      "metadata": {
        "colab": {
          "base_uri": "https://localhost:8080/"
        },
        "id": "3gEkbNorQ5sS",
        "outputId": "28bf8c18-8bc2-4f1e-928c-87cbdc8c5a71"
      },
      "source": [
        "# Let's check the length of different lines\n",
        "\n",
        "train_df.total_lines.value_counts()"
      ],
      "execution_count": null,
      "outputs": [
        {
          "output_type": "execute_result",
          "data": {
            "text/plain": [
              "11    24468\n",
              "10    23639\n",
              "12    22113\n",
              "9     19400\n",
              "13    18438\n",
              "14    14610\n",
              "8     12285\n",
              "15    10768\n",
              "7      7464\n",
              "16     7429\n",
              "17     5202\n",
              "6      3353\n",
              "18     3344\n",
              "19     2480\n",
              "20     1281\n",
              "5      1146\n",
              "21      770\n",
              "22      759\n",
              "23      264\n",
              "4       215\n",
              "24      200\n",
              "25      182\n",
              "26       81\n",
              "28       58\n",
              "3        32\n",
              "30       31\n",
              "27       28\n",
              "Name: total_lines, dtype: int64"
            ]
          },
          "metadata": {},
          "execution_count": 18
        }
      ]
    },
    {
      "cell_type": "code",
      "metadata": {
        "colab": {
          "base_uri": "https://localhost:8080/",
          "height": 284
        },
        "id": "RtkfaVwuWgqG",
        "outputId": "8f5a7d9f-a3d1-4f51-bc46-d692ce40053b"
      },
      "source": [
        "# Let's check the length of different lines\n",
        "train_df.total_lines.plot.hist(bins=27)"
      ],
      "execution_count": null,
      "outputs": [
        {
          "output_type": "execute_result",
          "data": {
            "text/plain": [
              "<matplotlib.axes._subplots.AxesSubplot at 0x7fcb01806250>"
            ]
          },
          "metadata": {},
          "execution_count": 19
        },
        {
          "output_type": "display_data",
          "data": {
            "image/png": "[encoded data removed]",
            "text/plain": [
              "<Figure size 432x288 with 1 Axes>"
            ]
          },
          "metadata": {
            "needs_background": "light"
          }
        }
      ]
    },
    {
      "cell_type": "markdown",
      "metadata": {
        "id": "bj92_xOhW7g9"
      },
      "source": [
        "## iii).Turn Data into Sentences"
      ]
    },
    {
      "cell_type": "code",
      "metadata": {
        "id": "NJEzgy59WyuJ"
      },
      "source": [
        "train_sentences = train_df[\"text\"].to_numpy()\n",
        "val_sentences = val_df[\"text\"].to_numpy()\n",
        "test_sentences = test_df[\"text\"].to_numpy()"
      ],
      "execution_count": null,
      "outputs": []
    },
    {
      "cell_type": "code",
      "metadata": {
        "colab": {
          "base_uri": "https://localhost:8080/"
        },
        "id": "VUsFSL_UmBIn",
        "outputId": "e3b021ab-9c95-47b4-d24d-16eb949c0ac3"
      },
      "source": [
        "train_sentences[:5]"
      ],
      "execution_count": null,
      "outputs": [
        {
          "output_type": "execute_result",
          "data": {
            "text/plain": [
              "array(['to investigate the efficacy of @ weeks of daily low-dose oral prednisolone in improving pain , mobility , and systemic low-grade inflammation in the short term and whether the effect would be sustained at @ weeks in older adults with moderate to severe knee osteoarthritis ( oa ) .',\n",
              "       'a total of @ patients with primary knee oa were randomized @:@ ; @ received @ mg/day of prednisolone and @ received placebo for @ weeks .',\n",
              "       'outcome measures included pain reduction and improvement in function scores and systemic inflammation markers .',\n",
              "       'pain was assessed using the visual analog pain scale ( @-@ mm ) .',\n",
              "       'secondary outcome measures included the western ontario and mcmaster universities osteoarthritis index scores , patient global assessment ( pga ) of the severity of knee oa , and @-min walk distance ( @mwd ) .'],\n",
              "      dtype=object)"
            ]
          },
          "metadata": {},
          "execution_count": 21
        }
      ]
    },
    {
      "cell_type": "markdown",
      "metadata": {
        "id": "ej8AwmnAo1wF"
      },
      "source": [
        "## iv).Make numeric labels (ML models require numeric labels)"
      ]
    },
    {
      "cell_type": "code",
      "metadata": {
        "colab": {
          "base_uri": "https://localhost:8080/"
        },
        "id": "cjGY-dWOmI40",
        "outputId": "cbaa6ede-6d9a-4526-f3b7-18585062b4ba"
      },
      "source": [
        "# One hot encode labels\n",
        "from sklearn.preprocessing import OneHotEncoder\n",
        "\n",
        "one_hot_encoder = OneHotEncoder(sparse=False)\n",
        "train_labels_one_hot = one_hot_encoder.fit_transform(train_df[\"target\"].to_numpy().reshape(-1,1))\n",
        "test_labels_one_hot = one_hot_encoder.transform(test_df[\"target\"].to_numpy().reshape(-1,1))\n",
        "val_labels_one_hot = one_hot_encoder.transform(val_df[\"target\"].to_numpy().reshape(-1,1))\n",
        "\n",
        "train_labels_one_hot"
      ],
      "execution_count": null,
      "outputs": [
        {
          "output_type": "execute_result",
          "data": {
            "text/plain": [
              "array([[0., 0., 0., 1., 0.],\n",
              "       [0., 0., 1., 0., 0.],\n",
              "       [0., 0., 1., 0., 0.],\n",
              "       ...,\n",
              "       [0., 0., 0., 0., 1.],\n",
              "       [0., 1., 0., 0., 0.],\n",
              "       [0., 1., 0., 0., 0.]])"
            ]
          },
          "metadata": {},
          "execution_count": 22
        }
      ]
    },
    {
      "cell_type": "code",
      "metadata": {
        "colab": {
          "base_uri": "https://localhost:8080/"
        },
        "id": "ddM8q3BfT7E5",
        "outputId": "a384ff04-f952-489b-ee46-3f4affb3e2ca"
      },
      "source": [
        "len(train_df[\"target\"].to_numpy())"
      ],
      "execution_count": null,
      "outputs": [
        {
          "output_type": "execute_result",
          "data": {
            "text/plain": [
              "180040"
            ]
          },
          "metadata": {},
          "execution_count": 23
        }
      ]
    },
    {
      "cell_type": "markdown",
      "metadata": {
        "id": "SfMDbfPasUQd"
      },
      "source": [
        "Let's encode Labels\n"
      ]
    },
    {
      "cell_type": "code",
      "metadata": {
        "colab": {
          "base_uri": "https://localhost:8080/"
        },
        "id": "LCy8M2Xxr89V",
        "outputId": "95c96793-91e3-4e14-b540-fb75d488af12"
      },
      "source": [
        "# Extract labels (\"target\" column) and encode them to integer\n",
        "from sklearn.preprocessing import LabelEncoder\n",
        "\n",
        "label_encoder = LabelEncoder()\n",
        "train_labels_encoded = label_encoder.fit_transform(train_df[\"target\"].to_numpy())\n",
        "val_labels_encoded  = label_encoder.transform(val_df[\"target\"].to_numpy())\n",
        "test_labels_encoded = label_encoder.transform(test_df[\"target\"].to_numpy())\n",
        "\n",
        "train_labels_encoded"
      ],
      "execution_count": null,
      "outputs": [
        {
          "output_type": "execute_result",
          "data": {
            "text/plain": [
              "array([3, 2, 2, ..., 4, 1, 1])"
            ]
          },
          "metadata": {},
          "execution_count": 24
        }
      ]
    },
    {
      "cell_type": "code",
      "metadata": {
        "id": "k7jSVen_SaUx"
      },
      "source": [
        "# # we can also do the above task like this\n",
        "\n",
        "# train_labels_encoded_2 = tf.argmax(train_labels_one_hot, axis=1)\n",
        "# train_labels_encoded_2"
      ],
      "execution_count": null,
      "outputs": []
    },
    {
      "cell_type": "markdown",
      "metadata": {
        "id": "G1EUTvVm1_KF"
      },
      "source": [
        "## v).Get classs names"
      ]
    },
    {
      "cell_type": "code",
      "metadata": {
        "colab": {
          "base_uri": "https://localhost:8080/"
        },
        "id": "IJFoM2jxtWEQ",
        "outputId": "143abbd7-c482-4317-ce3d-230577a23a77"
      },
      "source": [
        "# Get classes from LabelEncoder instance\n",
        "class_names = label_encoder.classes_\n",
        "class_names"
      ],
      "execution_count": null,
      "outputs": [
        {
          "output_type": "execute_result",
          "data": {
            "text/plain": [
              "array(['BACKGROUND', 'CONCLUSIONS', 'METHODS', 'OBJECTIVE', 'RESULTS'],\n",
              "      dtype=object)"
            ]
          },
          "metadata": {},
          "execution_count": 26
        }
      ]
    },
    {
      "cell_type": "markdown",
      "metadata": {
        "id": "b7oh7-iuzFg_"
      },
      "source": [
        "# Series of Experiments\n",
        "\n",
        "As usual we are going to be trying out a bunch of different models and see which one works best"
      ]
    },
    {
      "cell_type": "markdown",
      "metadata": {
        "id": "oo5IzVXEzMEj"
      },
      "source": [
        "## Model 0 : Baseline (Naive Bayes)"
      ]
    },
    {
      "cell_type": "code",
      "metadata": {
        "colab": {
          "base_uri": "https://localhost:8080/"
        },
        "id": "cfSCWZtOvtZY",
        "outputId": "88cd670e-1bb2-4570-a6a1-f6a16addcbe6"
      },
      "source": [
        "from sklearn.feature_extraction.text import TfidfVectorizer\n",
        "from sklearn.naive_bayes import MultinomialNB\n",
        "from sklearn.pipeline import Pipeline\n",
        "\n",
        "# create them model\n",
        "model_0 = Pipeline([\n",
        "          (\"tf-idf\", TfidfVectorizer()),\n",
        "          (\"NB\", MultinomialNB())\n",
        "])\n",
        "\n",
        "# fit the model\n",
        "model_0.fit(train_sentences,\n",
        "            train_labels_encoded)"
      ],
      "execution_count": null,
      "outputs": [
        {
          "output_type": "execute_result",
          "data": {
            "text/plain": [
              "Pipeline(memory=None,\n",
              "         steps=[('tf-idf',\n",
              "                 TfidfVectorizer(analyzer='word', binary=False,\n",
              "                                 decode_error='strict',\n",
              "                                 dtype=<class 'numpy.float64'>,\n",
              "                                 encoding='utf-8', input='content',\n",
              "                                 lowercase=True, max_df=1.0, max_features=None,\n",
              "                                 min_df=1, ngram_range=(1, 1), norm='l2',\n",
              "                                 preprocessor=None, smooth_idf=True,\n",
              "                                 stop_words=None, strip_accents=None,\n",
              "                                 sublinear_tf=False,\n",
              "                                 token_pattern='(?u)\\\\b\\\\w\\\\w+\\\\b',\n",
              "                                 tokenizer=None, use_idf=True,\n",
              "                                 vocabulary=None)),\n",
              "                ('NB',\n",
              "                 MultinomialNB(alpha=1.0, class_prior=None, fit_prior=True))],\n",
              "         verbose=False)"
            ]
          },
          "metadata": {},
          "execution_count": 35
        }
      ]
    },
    {
      "cell_type": "code",
      "metadata": {
        "colab": {
          "base_uri": "https://localhost:8080/"
        },
        "id": "sGKkyxMV0F5A",
        "outputId": "45fa702e-d647-4686-b44c-48ac713d7c12"
      },
      "source": [
        "# evaluate the model\n",
        "model_0.score(val_sentences,\n",
        "              val_labels_encoded)"
      ],
      "execution_count": null,
      "outputs": [
        {
          "output_type": "execute_result",
          "data": {
            "text/plain": [
              "0.7218323844829869"
            ]
          },
          "metadata": {},
          "execution_count": 36
        }
      ]
    },
    {
      "cell_type": "code",
      "metadata": {
        "colab": {
          "base_uri": "https://localhost:8080/"
        },
        "id": "l0VsVUTh0ksh",
        "outputId": "4bdb3bfe-8df4-4af0-fa0c-19d8dc3d3e25"
      },
      "source": [
        "# Make Predictions\n",
        "baseline_preds = model_0.predict(val_sentences)\n",
        "baseline_preds"
      ],
      "execution_count": null,
      "outputs": [
        {
          "output_type": "execute_result",
          "data": {
            "text/plain": [
              "array([4, 1, 3, ..., 4, 4, 1])"
            ]
          },
          "metadata": {},
          "execution_count": 37
        }
      ]
    },
    {
      "cell_type": "code",
      "metadata": {
        "colab": {
          "base_uri": "https://localhost:8080/"
        },
        "id": "YUXlMf7_080c",
        "outputId": "0b5e8c77-4bbb-4261-8f1e-c5232aca8551"
      },
      "source": [
        "baseline_results = evaluate_model(val_labels_encoded,\n",
        "                                  baseline_preds)\n",
        "baseline_results"
      ],
      "execution_count": null,
      "outputs": [
        {
          "output_type": "execute_result",
          "data": {
            "text/plain": [
              "{'accuracy': 72.1832384482987,\n",
              " 'f1': 0.6989250353450294,\n",
              " 'precision': 0.7186466952323352,\n",
              " 'recall': 0.7218323844829869}"
            ]
          },
          "metadata": {},
          "execution_count": 38
        }
      ]
    },
    {
      "cell_type": "markdown",
      "metadata": {
        "id": "K1i-FRp8kBw3"
      },
      "source": [
        "## Model 1 : Dense model"
      ]
    },
    {
      "cell_type": "markdown",
      "metadata": {
        "id": "6zzDsjxbkHZW"
      },
      "source": [
        "### Preparing data for Deep Sequence model\n",
        "\n",
        "Before we start building deeper models, we need to create Embedding and Vectorization layer"
      ]
    },
    {
      "cell_type": "code",
      "metadata": {
        "id": "Tv0BpVz517Pd",
        "colab": {
          "base_uri": "https://localhost:8080/"
        },
        "outputId": "f0daaf0f-f198-4a2c-b971-f0766d17dfe5"
      },
      "source": [
        "# how long is each sentenecs on average\n",
        "sent_len = [len(sentence.split()) for sentence in train_sentences]\n",
        "avg_sen_len = np.mean(sent_len)\n",
        "avg_sen_len"
      ],
      "execution_count": null,
      "outputs": [
        {
          "output_type": "execute_result",
          "data": {
            "text/plain": [
              "26.338269273494777"
            ]
          },
          "metadata": {},
          "execution_count": 31
        }
      ]
    },
    {
      "cell_type": "code",
      "metadata": {
        "colab": {
          "base_uri": "https://localhost:8080/",
          "height": 898
        },
        "id": "oE_QJk9llVR5",
        "outputId": "3002bbc4-e85a-4dae-f384-8a8cb1165624"
      },
      "source": [
        "# Whats the distribution looks like\n",
        "plt.hist(sent_len, bins=100)"
      ],
      "execution_count": null,
      "outputs": [
        {
          "output_type": "execute_result",
          "data": {
            "text/plain": [
              "(array([1.1050e+03, 3.5170e+03, 7.7850e+03, 1.3079e+04, 1.6589e+04,\n",
              "        1.8463e+04, 1.8770e+04, 1.7656e+04, 1.5580e+04, 1.3302e+04,\n",
              "        1.1002e+04, 9.0040e+03, 7.0390e+03, 5.5540e+03, 4.2780e+03,\n",
              "        3.3890e+03, 2.7020e+03, 2.1960e+03, 1.7050e+03, 9.5300e+02,\n",
              "        1.1780e+03, 9.0000e+02, 7.5000e+02, 6.0900e+02, 4.9400e+02,\n",
              "        4.0100e+02, 3.5000e+02, 2.5000e+02, 2.2900e+02, 2.1500e+02,\n",
              "        1.6700e+02, 1.2600e+02, 1.0200e+02, 1.0100e+02, 6.4000e+01,\n",
              "        6.1000e+01, 5.5000e+01, 4.5000e+01, 4.0000e+01, 2.5000e+01,\n",
              "        2.5000e+01, 2.4000e+01, 2.2000e+01, 1.4000e+01, 1.6000e+01,\n",
              "        1.0000e+01, 7.0000e+00, 1.6000e+01, 7.0000e+00, 5.0000e+00,\n",
              "        3.0000e+00, 5.0000e+00, 5.0000e+00, 6.0000e+00, 1.0000e+00,\n",
              "        3.0000e+00, 1.0000e+00, 4.0000e+00, 4.0000e+00, 0.0000e+00,\n",
              "        3.0000e+00, 0.0000e+00, 1.0000e+00, 2.0000e+00, 3.0000e+00,\n",
              "        3.0000e+00, 0.0000e+00, 2.0000e+00, 4.0000e+00, 1.0000e+00,\n",
              "        0.0000e+00, 3.0000e+00, 2.0000e+00, 1.0000e+00, 0.0000e+00,\n",
              "        0.0000e+00, 0.0000e+00, 2.0000e+00, 0.0000e+00, 0.0000e+00,\n",
              "        0.0000e+00, 1.0000e+00, 1.0000e+00, 1.0000e+00, 0.0000e+00,\n",
              "        0.0000e+00, 0.0000e+00, 0.0000e+00, 0.0000e+00, 0.0000e+00,\n",
              "        0.0000e+00, 0.0000e+00, 1.0000e+00, 0.0000e+00, 0.0000e+00,\n",
              "        0.0000e+00, 0.0000e+00, 0.0000e+00, 0.0000e+00, 1.0000e+00]),\n",
              " array([  1.  ,   3.95,   6.9 ,   9.85,  12.8 ,  15.75,  18.7 ,  21.65,\n",
              "         24.6 ,  27.55,  30.5 ,  33.45,  36.4 ,  39.35,  42.3 ,  45.25,\n",
              "         48.2 ,  51.15,  54.1 ,  57.05,  60.  ,  62.95,  65.9 ,  68.85,\n",
              "         71.8 ,  74.75,  77.7 ,  80.65,  83.6 ,  86.55,  89.5 ,  92.45,\n",
              "         95.4 ,  98.35, 101.3 , 104.25, 107.2 , 110.15, 113.1 , 116.05,\n",
              "        119.  , 121.95, 124.9 , 127.85, 130.8 , 133.75, 136.7 , 139.65,\n",
              "        142.6 , 145.55, 148.5 , 151.45, 154.4 , 157.35, 160.3 , 163.25,\n",
              "        166.2 , 169.15, 172.1 , 175.05, 178.  , 180.95, 183.9 , 186.85,\n",
              "        189.8 , 192.75, 195.7 , 198.65, 201.6 , 204.55, 207.5 , 210.45,\n",
              "        213.4 , 216.35, 219.3 , 222.25, 225.2 , 228.15, 231.1 , 234.05,\n",
              "        237.  , 239.95, 242.9 , 245.85, 248.8 , 251.75, 254.7 , 257.65,\n",
              "        260.6 , 263.55, 266.5 , 269.45, 272.4 , 275.35, 278.3 , 281.25,\n",
              "        284.2 , 287.15, 290.1 , 293.05, 296.  ]),\n",
              " <a list of 100 Patch objects>)"
            ]
          },
          "metadata": {},
          "execution_count": 32
        },
        {
          "output_type": "display_data",
          "data": {
            "image/png": "[encoded data removed]",
            "text/plain": [
              "<Figure size 432x288 with 1 Axes>"
            ]
          },
          "metadata": {
            "needs_background": "light"
          }
        }
      ]
    },
    {
      "cell_type": "code",
      "metadata": {
        "colab": {
          "base_uri": "https://localhost:8080/"
        },
        "id": "HMvNc4EWmQoN",
        "outputId": "28c0fe00-8834-4290-d5dd-719ebb40df4c"
      },
      "source": [
        "# how long of a sentence covers 95% of examples\n",
        "output_seq_len = int(np.percentile(sent_len, 95))\n",
        "output_seq_len"
      ],
      "execution_count": null,
      "outputs": [
        {
          "output_type": "execute_result",
          "data": {
            "text/plain": [
              "55"
            ]
          },
          "metadata": {},
          "execution_count": 33
        }
      ]
    },
    {
      "cell_type": "markdown",
      "metadata": {
        "id": "PiNXaMjoDs4s"
      },
      "source": [
        "### Vectorizer Layer\n",
        "\n",
        "We want to make a layer which map our texts from word to numbers\n"
      ]
    },
    {
      "cell_type": "code",
      "metadata": {
        "id": "jsqpzvKxnTRy"
      },
      "source": [
        "# how many words in out vocab? (from table-2 in pubmed200k)\n",
        "max_tokens = 68000"
      ],
      "execution_count": null,
      "outputs": []
    },
    {
      "cell_type": "code",
      "metadata": {
        "id": "HKiIR68ZEht5"
      },
      "source": [
        "text_vectorizer = tf.keras.layers.TextVectorization(max_tokens=max_tokens,\n",
        "                                                    standardize='lower_and_strip_punctuation',\n",
        "                                                    split=\"whitespace\",\n",
        "                                                    ngrams=None,\n",
        "                                                    output_mode='int',\n",
        "                                                    output_sequence_length=output_seq_len,)"
      ],
      "execution_count": null,
      "outputs": []
    },
    {
      "cell_type": "code",
      "metadata": {
        "id": "87ky5J3fEroH"
      },
      "source": [
        "# adapt the text_vectorizer layer to training data\n",
        "text_vectorizer.adapt(train_sentences)"
      ],
      "execution_count": null,
      "outputs": []
    },
    {
      "cell_type": "code",
      "metadata": {
        "colab": {
          "base_uri": "https://localhost:8080/"
        },
        "id": "yBWv3VO2GNoK",
        "outputId": "66a9486b-6f46-4014-bba1-a5eaab905299"
      },
      "source": [
        "# Testing our layer on random sentences\n",
        "import random\n",
        "\n",
        "target = random.choice(train_sentences)\n",
        "print(f\"Text:\\n{target}\\n\")\n",
        "print(f\"Length of sentence: {len(target.split())}\\n\")\n",
        "print(f\"Vectorized Text:\\n{text_vectorizer([target])}\")"
      ],
      "execution_count": null,
      "outputs": [
        {
          "output_type": "stream",
          "name": "stdout",
          "text": [
            "Text:\n",
            "based on @ % cis , total systemic exposure to mph-mlr @mg capsule/sprinkles was similar to that for ritalin ir @mg three times daily , but marked differences in cmax values indicated that mph-mlr regimens were not bioequivalent to ritalin .\n",
            "\n",
            "Length of sentence: 41\n",
            "\n",
            "Vectorized Text:\n",
            "[[  261    18  3040    76   670   455     6  8873    68 32280    10   150\n",
            "      6    28    11 16623  1916    68   134   361   161    72  2523   102\n",
            "      5  2071   334   808    28  8873   952     9    31  6830     6 16623\n",
            "      0     0     0     0     0     0     0     0     0     0     0     0\n",
            "      0     0     0     0     0     0     0]]\n"
          ]
        }
      ]
    },
    {
      "cell_type": "code",
      "metadata": {
        "colab": {
          "base_uri": "https://localhost:8080/"
        },
        "id": "NflXZLi6HC87",
        "outputId": "a6cb792f-22ac-4d12-c6fc-a726d6335324"
      },
      "source": [
        "# Get the config of our text_vectorizer\n",
        "text_vectorizer.get_config()"
      ],
      "execution_count": null,
      "outputs": [
        {
          "output_type": "execute_result",
          "data": {
            "text/plain": [
              "{'batch_input_shape': (None,),\n",
              " 'dtype': 'string',\n",
              " 'max_tokens': 68000,\n",
              " 'name': 'text_vectorization',\n",
              " 'ngrams': None,\n",
              " 'output_mode': 'int',\n",
              " 'output_sequence_length': 55,\n",
              " 'pad_to_max_tokens': False,\n",
              " 'split': 'whitespace',\n",
              " 'standardize': 'lower_and_strip_punctuation',\n",
              " 'trainable': True}"
            ]
          },
          "metadata": {},
          "execution_count": 38
        }
      ]
    },
    {
      "cell_type": "markdown",
      "metadata": {
        "id": "J1tqxMpqHyz6"
      },
      "source": [
        "### Embedding Layer"
      ]
    },
    {
      "cell_type": "code",
      "metadata": {
        "id": "DEMsIMDDHu4W"
      },
      "source": [
        "embedding = tf.keras.layers.Embedding(input_dim=max_tokens,\n",
        "                                      output_dim=128,  # Multiple of 8\n",
        "                                      mask_zero=True)  "
      ],
      "execution_count": null,
      "outputs": []
    },
    {
      "cell_type": "code",
      "metadata": {
        "id": "6UXfBBBpIhl8",
        "colab": {
          "base_uri": "https://localhost:8080/"
        },
        "outputId": "188caab2-9423-414c-815c-9841562d38c3"
      },
      "source": [
        "# Show Example Embedding\n",
        "print(f\"Text:\\n{target}\\n\")\n",
        "print(f\"Sentence Length: {len(target.split())}\\n\")\n",
        "print(f\"Vectorized:\\n{text_vectorizer([target])}\\n\")\n",
        "print(f\"Vectorized shape: {text_vectorizer([target]).shape}\\n\")\n",
        "print(f\"Embedding\\n{embedding(text_vectorizer(target))}\\n\")\n",
        "print(f\"Embedding Shape: {embedding(text_vectorizer(target)).shape}\")"
      ],
      "execution_count": null,
      "outputs": [
        {
          "output_type": "stream",
          "name": "stdout",
          "text": [
            "Text:\n",
            "based on @ % cis , total systemic exposure to mph-mlr @mg capsule/sprinkles was similar to that for ritalin ir @mg three times daily , but marked differences in cmax values indicated that mph-mlr regimens were not bioequivalent to ritalin .\n",
            "\n",
            "Sentence Length: 41\n",
            "\n",
            "Vectorized:\n",
            "[[  261    18  3040    76   670   455     6  8873    68 32280    10   150\n",
            "      6    28    11 16623  1916    68   134   361   161    72  2523   102\n",
            "      5  2071   334   808    28  8873   952     9    31  6830     6 16623\n",
            "      0     0     0     0     0     0     0     0     0     0     0     0\n",
            "      0     0     0     0     0     0     0]]\n",
            "\n",
            "Vectorized shape: (1, 55)\n",
            "\n",
            "Embedding\n",
            "[[ 0.00226709  0.00407405  0.00703359 ...  0.04091806 -0.01341343\n",
            "   0.0260651 ]\n",
            " [-0.03490198  0.04285165  0.00290704 ...  0.04100286 -0.00512488\n",
            "   0.00033581]\n",
            " [ 0.04239345  0.00434475  0.01111122 ...  0.03208053  0.0352968\n",
            "  -0.01385866]\n",
            " ...\n",
            " [ 0.03264118  0.04377762  0.01320325 ...  0.00066014  0.01416532\n",
            "   0.04348494]\n",
            " [ 0.03264118  0.04377762  0.01320325 ...  0.00066014  0.01416532\n",
            "   0.04348494]\n",
            " [ 0.03264118  0.04377762  0.01320325 ...  0.00066014  0.01416532\n",
            "   0.04348494]]\n",
            "\n",
            "Embedding Shape: (55, 128)\n"
          ]
        }
      ]
    },
    {
      "cell_type": "markdown",
      "metadata": {
        "id": "IlLe1q_giJIA"
      },
      "source": [
        "### Prefetch Dataset\n",
        "\n",
        "We are going to setup our data to run as fast possible with `tf.data` API\n",
        "\n",
        "Check out the tensorflow data pipeline"
      ]
    },
    {
      "cell_type": "code",
      "metadata": {
        "colab": {
          "base_uri": "https://localhost:8080/"
        },
        "id": "mi34KaOhdVkn",
        "outputId": "bb0b56e9-5221-42ac-9f4b-55f278ea873a"
      },
      "source": [
        "# Turn our Data into tensorflow dataset\n",
        "train_dataset = tf.data.Dataset.from_tensor_slices((train_sentences, train_labels_one_hot))\n",
        "val_dataset = tf.data.Dataset.from_tensor_slices((val_sentences, val_labels_one_hot))\n",
        "test_dataset = tf.data.Dataset.from_tensor_slices((test_sentences, test_labels_one_hot))\n",
        "\n",
        "train_dataset"
      ],
      "execution_count": null,
      "outputs": [
        {
          "output_type": "execute_result",
          "data": {
            "text/plain": [
              "<TensorSliceDataset shapes: ((), (5,)), types: (tf.string, tf.float64)>"
            ]
          },
          "metadata": {},
          "execution_count": 41
        }
      ]
    },
    {
      "cell_type": "code",
      "metadata": {
        "colab": {
          "base_uri": "https://localhost:8080/"
        },
        "id": "vPMz7XKyjq5m",
        "outputId": "e37975f2-af82-4e5c-ced6-be886718f314"
      },
      "source": [
        "# take TensorSliceDataset and turn them into prefetch dataset\n",
        "train_dataset = train_dataset.batch(32).prefetch(tf.data.AUTOTUNE)\n",
        "val_dataset = val_dataset.batch(32).prefetch(tf.data.AUTOTUNE)\n",
        "test_dataset = test_dataset.batch(32).prefetch(tf.data.AUTOTUNE)\n",
        "\n",
        "train_dataset"
      ],
      "execution_count": null,
      "outputs": [
        {
          "output_type": "execute_result",
          "data": {
            "text/plain": [
              "<PrefetchDataset shapes: ((None,), (None, 5)), types: (tf.string, tf.float64)>"
            ]
          },
          "metadata": {},
          "execution_count": 42
        }
      ]
    },
    {
      "cell_type": "markdown",
      "metadata": {
        "id": "nhazQ3--CbK4"
      },
      "source": [
        "### Conv1D Model"
      ]
    },
    {
      "cell_type": "code",
      "metadata": {
        "colab": {
          "base_uri": "https://localhost:8080/"
        },
        "id": "dcrICg9mkTg3",
        "outputId": "b9b42a11-201b-44f0-a87a-e004060b3474"
      },
      "source": [
        "# build the model\n",
        "inputs = tf.keras.Input(shape=(1,), dtype=tf.string)\n",
        "vectorizer = text_vectorizer(inputs)\n",
        "embed = embedding(vectorizer)\n",
        "x = tf.keras.layers.Conv1D(filters=64, kernel_size=5, activation=\"relu\")(embed)\n",
        "x = tf.keras.layers.GlobalAveragePooling1D()(x)\n",
        "outputs = tf.keras.layers.Dense(5, activation=\"softmax\")(x)\n",
        "\n",
        "# create the model\n",
        "model_1 = tf.keras.Model(inputs, outputs, name=\"Conv1D\")\n",
        "\n",
        "# compile the model\n",
        "model_1.compile(\n",
        "    loss = tf.keras.losses.CategoricalCrossentropy(),\n",
        "    optimizer = tf.keras.optimizers.Adam(),\n",
        "    metrics = [\"accuracy\"]\n",
        ")\n",
        "\n",
        "# get model summary\n",
        "model_1.summary()"
      ],
      "execution_count": null,
      "outputs": [
        {
          "output_type": "stream",
          "name": "stdout",
          "text": [
            "Model: \"Conv1D\"\n",
            "_________________________________________________________________\n",
            "Layer (type)                 Output Shape              Param #   \n",
            "=================================================================\n",
            "input_1 (InputLayer)         [(None, 1)]               0         \n",
            "_________________________________________________________________\n",
            "text_vectorization (TextVect (None, 55)                0         \n",
            "_________________________________________________________________\n",
            "embedding (Embedding)        (None, 55, 128)           8704000   \n",
            "_________________________________________________________________\n",
            "conv1d (Conv1D)              (None, 51, 64)            41024     \n",
            "_________________________________________________________________\n",
            "global_average_pooling1d (Gl (None, 64)                0         \n",
            "_________________________________________________________________\n",
            "dense (Dense)                (None, 5)                 325       \n",
            "=================================================================\n",
            "Total params: 8,745,349\n",
            "Trainable params: 8,745,349\n",
            "Non-trainable params: 0\n",
            "_________________________________________________________________\n"
          ]
        }
      ]
    },
    {
      "cell_type": "code",
      "metadata": {
        "colab": {
          "base_uri": "https://localhost:8080/"
        },
        "id": "AeL8VsuPEk5W",
        "outputId": "eac503f1-589b-46ba-a9c3-f7f8986f1a50"
      },
      "source": [
        "# fit the model\n",
        "model_1.fit(train_dataset,\n",
        "            epochs=3,\n",
        "            steps_per_epoch=(0.1 * len(train_dataset)),\n",
        "            validation_data=val_dataset,\n",
        "            validation_steps=(0.1 * len(val_dataset)))"
      ],
      "execution_count": null,
      "outputs": [
        {
          "output_type": "stream",
          "name": "stdout",
          "text": [
            "Epoch 1/3\n",
            "562/562 [==============================] - 40s 15ms/step - loss: 0.9448 - accuracy: 0.6270 - val_loss: 0.7213 - val_accuracy: 0.7230\n",
            "Epoch 2/3\n",
            "562/562 [==============================] - 8s 14ms/step - loss: 0.6872 - accuracy: 0.7432 - val_loss: 0.6641 - val_accuracy: 0.7602\n",
            "Epoch 3/3\n",
            "562/562 [==============================] - 8s 14ms/step - loss: 0.6421 - accuracy: 0.7659 - val_loss: 0.6179 - val_accuracy: 0.7740\n"
          ]
        },
        {
          "output_type": "execute_result",
          "data": {
            "text/plain": [
              "<keras.callbacks.History at 0x7f065c8e3090>"
            ]
          },
          "metadata": {},
          "execution_count": 52
        }
      ]
    },
    {
      "cell_type": "code",
      "metadata": {
        "colab": {
          "base_uri": "https://localhost:8080/"
        },
        "id": "iUI_cf8rFQQ4",
        "outputId": "ff371d74-c7cf-4c61-f93b-f9f747887dea"
      },
      "source": [
        "# evaluate the model\n",
        "model_1.evaluate(val_dataset)"
      ],
      "execution_count": null,
      "outputs": [
        {
          "output_type": "stream",
          "name": "stdout",
          "text": [
            "945/945 [==============================] - 4s 5ms/step - loss: 0.6186 - accuracy: 0.7791\n"
          ]
        },
        {
          "output_type": "execute_result",
          "data": {
            "text/plain": [
              "[0.6186031699180603, 0.7791274785995483]"
            ]
          },
          "metadata": {},
          "execution_count": 53
        }
      ]
    },
    {
      "cell_type": "code",
      "metadata": {
        "colab": {
          "base_uri": "https://localhost:8080/"
        },
        "id": "9nuBIWS4GZke",
        "outputId": "16b03d67-2661-4428-c8da-9d3e25f7af50"
      },
      "source": [
        "# Make Predictions\n",
        "model_1_pred_probs = model_1.predict(val_dataset)\n",
        "model_1_pred_probs, model_1_pred_probs.shape"
      ],
      "execution_count": null,
      "outputs": [
        {
          "output_type": "execute_result",
          "data": {
            "text/plain": [
              "(array([[4.24592435e-01, 1.91092059e-01, 7.41405413e-02, 2.83349782e-01,\n",
              "         2.68250946e-02],\n",
              "        [4.67805266e-01, 1.77618846e-01, 1.71489436e-02, 3.28688204e-01,\n",
              "         8.73873755e-03],\n",
              "        [1.77221373e-01, 1.53408134e-02, 4.87631653e-03, 8.02447438e-01,\n",
              "         1.13980306e-04],\n",
              "        ...,\n",
              "        [5.67189227e-06, 1.06452662e-03, 1.12541020e-03, 6.07454649e-06,\n",
              "         9.97798324e-01],\n",
              "        [6.06876314e-02, 4.65370268e-01, 1.14467151e-01, 9.61458161e-02,\n",
              "         2.63329089e-01],\n",
              "        [2.29835957e-01, 5.13336122e-01, 1.18465416e-01, 5.91717437e-02,\n",
              "         7.91908130e-02]], dtype=float32), (30212, 5))"
            ]
          },
          "metadata": {},
          "execution_count": 54
        }
      ]
    },
    {
      "cell_type": "code",
      "metadata": {
        "colab": {
          "base_uri": "https://localhost:8080/"
        },
        "id": "R-J8KWM-HBKI",
        "outputId": "2001fb64-b866-4bb6-a715-e90e040d2dcf"
      },
      "source": [
        "model_1_pred = tf.argmax(model_1_pred_probs, axis=1)\n",
        "model_1_pred"
      ],
      "execution_count": null,
      "outputs": [
        {
          "output_type": "execute_result",
          "data": {
            "text/plain": [
              "<tf.Tensor: shape=(30212,), dtype=int64, numpy=array([0, 0, 3, ..., 4, 1, 1])>"
            ]
          },
          "metadata": {},
          "execution_count": 55
        }
      ]
    },
    {
      "cell_type": "code",
      "metadata": {
        "colab": {
          "base_uri": "https://localhost:8080/"
        },
        "id": "HZVZfcO1HlMw",
        "outputId": "24f47156-7d0a-4fab-9e7e-1e4129796a27"
      },
      "source": [
        "val_labels_encoded"
      ],
      "execution_count": null,
      "outputs": [
        {
          "output_type": "execute_result",
          "data": {
            "text/plain": [
              "array([0, 0, 3, ..., 4, 1, 1])"
            ]
          },
          "metadata": {},
          "execution_count": 56
        }
      ]
    },
    {
      "cell_type": "code",
      "metadata": {
        "colab": {
          "base_uri": "https://localhost:8080/"
        },
        "id": "YhRA7mLQHJ2l",
        "outputId": "5847043f-8b7c-4a0c-f5b3-0c3d63d0f25c"
      },
      "source": [
        "# use evaluation model function\n",
        "model_1_results = evaluate_model(val_labels_encoded,\n",
        "                                 model_1_pred) \n",
        "model_1_results"
      ],
      "execution_count": null,
      "outputs": [
        {
          "output_type": "execute_result",
          "data": {
            "text/plain": [
              "{'accuracy': 77.91274990070171,\n",
              " 'f1': 0.7760064685630719,\n",
              " 'precision': 0.7757649662426414,\n",
              " 'recall': 0.779127499007017}"
            ]
          },
          "metadata": {},
          "execution_count": 57
        }
      ]
    },
    {
      "cell_type": "code",
      "metadata": {
        "colab": {
          "base_uri": "https://localhost:8080/"
        },
        "id": "KpfyJ0LmHrJD",
        "outputId": "fbb71264-fba7-4d62-a93e-0fa1bd4573e0"
      },
      "source": [
        "baseline_results"
      ],
      "execution_count": null,
      "outputs": [
        {
          "output_type": "execute_result",
          "data": {
            "text/plain": [
              "{'accuracy': 72.1832384482987,\n",
              " 'f1': 0.6989250353450294,\n",
              " 'precision': 0.7186466952323352,\n",
              " 'recall': 0.7218323844829869}"
            ]
          },
          "metadata": {},
          "execution_count": 58
        }
      ]
    },
    {
      "cell_type": "markdown",
      "metadata": {
        "id": "jdkefVXUIAPD"
      },
      "source": [
        "## Model 2 : Feature Extraction with Token Embedding USE\n",
        "\n",
        "Now lets use pretrained wrod embedding from tensorflow Hub more specifically Universal Sentence Encoder https://tfhub.dev/google/universal-sentence-encoder/4\n",
        "\n",
        "The paper originally used the GloVe but we are using the USE the later one"
      ]
    },
    {
      "cell_type": "code",
      "metadata": {
        "id": "Q7G7Kx5dHvfE"
      },
      "source": [
        "# Create Keras Layer of use\n",
        "import tensorflow_hub as hub\n",
        "\n",
        "USE_layer = hub.KerasLayer(handle=\"https://tfhub.dev/google/universal-sentence-encoder/4\",\n",
        "                           trainable=False,\n",
        "                           name=\"universal_sentence_encoder\",)"
      ],
      "execution_count": null,
      "outputs": []
    },
    {
      "cell_type": "code",
      "metadata": {
        "colab": {
          "base_uri": "https://localhost:8080/"
        },
        "id": "E9Nu05QGoy1C",
        "outputId": "7821230c-14c6-445f-8450-ba6f4ae736fb"
      },
      "source": [
        "# Test out the pretrained embedding on a random sentence\n",
        "target = random.choice(train_sentences)\n",
        "print(f\"Random Sentence:\\n{target}\\n\")\n",
        "print(f\"Sentence After Embedding:\\n{USE_layer([target])}\\n\")\n",
        "print(f\"Length of Sentence Embedding: {len(USE_layer([target]))}\\n\")"
      ],
      "execution_count": null,
      "outputs": [
        {
          "output_type": "stream",
          "name": "stdout",
          "text": [
            "Random Sentence:\n",
            "multidimensional evaluation of the app will also be conducted to assess usability and feasibility .\n",
            "\n",
            "Sentence After Embedding:\n",
            "[[ 0.05963954  0.00391734 -0.03644108 -0.02950873  0.04870702 -0.00387887\n",
            "  -0.05362897  0.04021939  0.04336936  0.0142516   0.01427909  0.07000203\n",
            "   0.03434391  0.07449558 -0.07585571 -0.01913788  0.07143342  0.04152056\n",
            "  -0.0631313   0.05504093  0.08407318  0.01714429 -0.0430626   0.0345786\n",
            "   0.00401454  0.084625   -0.04309194 -0.03195841 -0.03495083 -0.05517432\n",
            "  -0.00644747 -0.03270973  0.06406797 -0.03811426 -0.01648764  0.04316549\n",
            "  -0.06718496 -0.06167616  0.07042315  0.0151267   0.01344424 -0.01768938\n",
            "  -0.0639594  -0.00824364  0.01130941  0.04219564  0.04774864  0.00878358\n",
            "   0.04882371  0.02314849  0.00551716 -0.06960446 -0.01698327  0.04366244\n",
            "  -0.03768395 -0.04014648 -0.01991002 -0.04339366 -0.04417389  0.04663092\n",
            "   0.01464158 -0.00581259  0.01697167 -0.07990614 -0.01415283  0.04252266\n",
            "  -0.03720325 -0.02080763 -0.03883657 -0.03788008 -0.04514507  0.00234583\n",
            "   0.06150829 -0.04403617 -0.04130004  0.00841116 -0.02692541 -0.06605373\n",
            "   0.04171797  0.02968865 -0.07478272 -0.04055024  0.00581646 -0.07147555\n",
            "  -0.0180479   0.04743463 -0.0378851  -0.07313127 -0.01784078 -0.03765747\n",
            "   0.06885141  0.00882555 -0.01501111  0.06025627  0.02327102 -0.0679362\n",
            "  -0.038454    0.03496761 -0.06729303  0.04851633 -0.06598595  0.04493383\n",
            "   0.06260146  0.01176168  0.01578293  0.06651233 -0.02259011  0.0549218\n",
            "  -0.04669075 -0.02429623 -0.02413858 -0.00556206 -0.02482067  0.00095691\n",
            "   0.02213843 -0.06077419 -0.05615204  0.01541484 -0.02606832  0.05283249\n",
            "   0.08119543  0.02876597 -0.02316174  0.00819689 -0.07616599 -0.00830509\n",
            "  -0.07852963  0.02622072  0.03558648  0.05687495  0.02359071  0.0458375\n",
            "  -0.04884349  0.04117489  0.04810025  0.04069851  0.03065466  0.00921361\n",
            "   0.05564781 -0.05362108 -0.01024091 -0.04885391  0.03763411 -0.01333701\n",
            "   0.01926143  0.03368119  0.01077722  0.00837559 -0.04954507 -0.02454614\n",
            "   0.06913643 -0.00708098 -0.04049721 -0.01404967 -0.00548471  0.07761665\n",
            "   0.07893571  0.00218286 -0.05729105 -0.04320274  0.06669545  0.01343779\n",
            "   0.06807642 -0.04312462  0.01120521 -0.01656861  0.04927146 -0.0456113\n",
            "  -0.01240633 -0.01892964  0.03161414  0.06902029 -0.02746242  0.03725078\n",
            "   0.02665893 -0.06007142  0.03447261 -0.00920976  0.04463034  0.07287001\n",
            "   0.02790637  0.01894262  0.05661706 -0.08499724  0.0136063   0.02466014\n",
            "  -0.03304998 -0.03475385  0.05724112  0.03314649  0.07371407 -0.07519684\n",
            "  -0.0007636  -0.03988731 -0.00907076  0.01077388  0.0195672   0.0667922\n",
            "   0.06823947 -0.05695929  0.01348276  0.0078578  -0.04743474  0.03295704\n",
            "   0.03217825 -0.08443546  0.08028951 -0.02469666  0.0695324  -0.04899687\n",
            "   0.06616756  0.0187649   0.03026134 -0.05774387  0.06889746 -0.0263401\n",
            "   0.02292883  0.04675616  0.03348698 -0.00573427 -0.00924504 -0.03985833\n",
            "  -0.02914728 -0.02373331 -0.06512562  0.04297315 -0.04907988  0.00921098\n",
            "  -0.01931904  0.03621055  0.02340805 -0.072607   -0.0412722   0.02019351\n",
            "  -0.05483635 -0.00617858 -0.07243138 -0.02765761  0.06539986  0.01197864\n",
            "  -0.00691169  0.04590975  0.00274131 -0.04101513  0.00018823  0.02114997\n",
            "   0.00851144 -0.08705679 -0.05083174  0.01423719 -0.06510971 -0.00154978\n",
            "  -0.0437612   0.01372455 -0.06287286 -0.00463386  0.00729274 -0.00277768\n",
            "   0.00520651  0.057095   -0.02057763  0.01055995 -0.06413946 -0.02359535\n",
            "   0.00854714 -0.07510915 -0.04731257  0.01244906  0.0509465   0.02422562\n",
            "  -0.01234226 -0.02453078 -0.01952284 -0.04039071 -0.07665458  0.04533418\n",
            "  -0.03553181 -0.06569146  0.05942887 -0.07183481 -0.08346814 -0.05884665\n",
            "   0.03314023  0.01542935  0.03019639 -0.02539325  0.00892533  0.04888073\n",
            "  -0.03167606  0.05293042 -0.05221275  0.04899707  0.06730965  0.03000516\n",
            "   0.03137375  0.03131355 -0.01195107  0.00663518  0.03064687  0.00863151\n",
            "   0.03131686  0.04730548  0.04208419  0.00614211 -0.0203317   0.02895943\n",
            "  -0.00951597  0.01737525 -0.03306792 -0.0797901  -0.00921765  0.05674461\n",
            "  -0.0357274   0.05815965 -0.05282972 -0.03126872  0.02814879  0.02244717\n",
            "  -0.07733345 -0.01390453  0.03121551 -0.0762349  -0.04571678  0.01228618\n",
            "  -0.0377039   0.00050669  0.05613887  0.07889767 -0.05394427 -0.02771986\n",
            "  -0.01032699  0.03034267  0.04486711  0.05145804  0.01354339 -0.02758342\n",
            "  -0.01090261 -0.06489433  0.02556907  0.01901928 -0.06489579  0.05945776\n",
            "  -0.00150193  0.07156754 -0.07791612  0.03083281  0.04630877  0.06514905\n",
            "  -0.0767478   0.03077139 -0.01616907  0.08087374 -0.04582038 -0.03166281\n",
            "   0.06748469  0.00500938  0.07289892 -0.030548   -0.01853482 -0.02352403\n",
            "  -0.0521378   0.03971033 -0.06858548  0.01696344  0.04012132 -0.07694469\n",
            "   0.01997232  0.06650951 -0.0414788  -0.02498354  0.06620589 -0.04402284\n",
            "  -0.03513291  0.03742677 -0.06248209 -0.00645938 -0.01409015  0.01222438\n",
            "  -0.04691274  0.05602594  0.00261015  0.02633172  0.06897662 -0.05398317\n",
            "  -0.08613596 -0.05581942  0.02248352  0.01082566 -0.03557041 -0.06116115\n",
            "  -0.0828258   0.06473985  0.04764008 -0.05550352  0.01348754 -0.06489702\n",
            "   0.04100448 -0.07705583 -0.0065147   0.0553079  -0.03020907  0.04794914\n",
            "  -0.00659814 -0.02887382  0.06176053  0.07121392  0.06724282  0.02852285\n",
            "   0.02075606 -0.02400202  0.01378802  0.04020739 -0.0262849   0.05761487\n",
            "   0.00305264  0.00122958 -0.017704   -0.07258619 -0.03615849 -0.05276712\n",
            "   0.07606948 -0.02267283 -0.0025057   0.00461916  0.04335046 -0.05271797\n",
            "  -0.04714526 -0.04652262 -0.00647144 -0.03124847 -0.02835041  0.06522024\n",
            "  -0.01216962 -0.06524714  0.07293809  0.03033699 -0.04013165 -0.07000884\n",
            "   0.02266063  0.05022869 -0.04188052 -0.00566593 -0.02031299 -0.06452972\n",
            "   0.02864548  0.07742833  0.06013855 -0.07674932  0.04385832 -0.05096453\n",
            "   0.01493316  0.07407194 -0.01003464  0.04710991  0.00526055 -0.02514473\n",
            "  -0.0354494  -0.05100017  0.03744671 -0.0277519   0.04023385 -0.0157831\n",
            "   0.01974213 -0.02003375 -0.03268687  0.01103072  0.04439207 -0.02206456\n",
            "   0.06161044  0.03323016  0.0103093   0.07080476 -0.0405514   0.05386449\n",
            "  -0.02673458  0.03573567 -0.05392773 -0.01353813  0.02998277  0.01473029\n",
            "   0.03120342  0.07274581 -0.03525512  0.05004942 -0.02809896  0.04831175\n",
            "  -0.08325168 -0.0123337   0.02327142  0.05735081  0.07601229  0.02253895\n",
            "  -0.01906597 -0.04829202  0.02491387 -0.01022855 -0.07971876  0.01506274\n",
            "   0.01624683 -0.05234659  0.03525716 -0.02738331 -0.06076122  0.00565235\n",
            "   0.01989309 -0.02473212 -0.03312884  0.02426214  0.00575951  0.0306276\n",
            "   0.03305709 -0.07029931]]\n",
            "\n",
            "Length of Sentence Embedding: 1\n",
            "\n"
          ]
        }
      ]
    },
    {
      "cell_type": "code",
      "metadata": {
        "colab": {
          "base_uri": "https://localhost:8080/"
        },
        "id": "xmCZ9BlPpqV4",
        "outputId": "5c8f047b-8589-4a13-c7c0-6a58b2368af2"
      },
      "source": [
        "# Build the model\n",
        "inputs = tf.keras.Input(shape=[], dtype=tf.string)\n",
        "x = USE_layer(inputs)\n",
        "x = tf.keras.layers.Dense(128, activation=\"relu\")(x)\n",
        "outputs = tf.keras.layers.Dense(5, activation=\"softmax\")(x)\n",
        "\n",
        "# create the model\n",
        "model_2 = tf.keras.Model(inputs, outputs, name=\"pretrained_embedding\")\n",
        "\n",
        "# compile the model\n",
        "model_2.compile(\n",
        "    loss = tf.keras.losses.CategoricalCrossentropy(),\n",
        "    optimizer = tf.keras.optimizers.Adam(),\n",
        "    metrics = [\"accuracy\"]\n",
        ")\n",
        "\n",
        "# Get model summary\n",
        "model_2.summary()"
      ],
      "execution_count": null,
      "outputs": [
        {
          "output_type": "stream",
          "name": "stdout",
          "text": [
            "Model: \"pretrained_embedding\"\n",
            "_________________________________________________________________\n",
            "Layer (type)                 Output Shape              Param #   \n",
            "=================================================================\n",
            "input_2 (InputLayer)         [(None,)]                 0         \n",
            "_________________________________________________________________\n",
            "universal_sentence_encoder ( (None, 512)               256797824 \n",
            "_________________________________________________________________\n",
            "dense_1 (Dense)              (None, 128)               65664     \n",
            "_________________________________________________________________\n",
            "dense_2 (Dense)              (None, 5)                 645       \n",
            "=================================================================\n",
            "Total params: 256,864,133\n",
            "Trainable params: 66,309\n",
            "Non-trainable params: 256,797,824\n",
            "_________________________________________________________________\n"
          ]
        }
      ]
    },
    {
      "cell_type": "code",
      "metadata": {
        "colab": {
          "base_uri": "https://localhost:8080/"
        },
        "id": "8PV6yrZkOEqx",
        "outputId": "66261c30-a50b-4a6d-e892-1f45a04e69f3"
      },
      "source": [
        "# fit the model\n",
        "model_2.fit(train_dataset,\n",
        "            epochs=3,\n",
        "            steps_per_epoch=(0.1 * len(train_dataset)),\n",
        "            validation_data=val_dataset,\n",
        "            validation_steps=(0.1 * len(val_dataset)))"
      ],
      "execution_count": null,
      "outputs": [
        {
          "output_type": "stream",
          "name": "stdout",
          "text": [
            "Epoch 1/3\n",
            "562/562 [==============================] - 15s 21ms/step - loss: 0.9144 - accuracy: 0.6498 - val_loss: 0.8034 - val_accuracy: 0.6898\n",
            "Epoch 2/3\n",
            "545/562 [============================>.] - ETA: 0s - loss: 0.7703 - accuracy: 0.7018"
          ]
        }
      ]
    },
    {
      "cell_type": "code",
      "metadata": {
        "id": "j6_NK_58OyMP"
      },
      "source": [
        "# evaluate the model\n",
        "model_2.evaluate(val_dataset)"
      ],
      "execution_count": null,
      "outputs": []
    },
    {
      "cell_type": "code",
      "metadata": {
        "id": "8x5eKeY1Ox6t"
      },
      "source": [
        "# Make predictions\n",
        "model_2_pred_probs = model_2.predict(val_dataset)\n",
        "model_2_pred_probs[:10]"
      ],
      "execution_count": null,
      "outputs": []
    },
    {
      "cell_type": "code",
      "metadata": {
        "id": "BHQDXnq1PFm4"
      },
      "source": [
        "model_2_pred = tf.argmax(model_2_pred_probs, axis=1)\n",
        "model_2_pred"
      ],
      "execution_count": null,
      "outputs": []
    },
    {
      "cell_type": "code",
      "metadata": {
        "id": "CM7bqAzRP5Te"
      },
      "source": [
        "# use model evaluation function\n",
        "model_2_results = evaluate_model(val_labels_encoded,\n",
        "                                 model_2_pred)\n",
        "model_2_results"
      ],
      "execution_count": null,
      "outputs": []
    },
    {
      "cell_type": "code",
      "metadata": {
        "id": "z0ik7uLkQJ1q"
      },
      "source": [
        "baseline_results"
      ],
      "execution_count": null,
      "outputs": []
    },
    {
      "cell_type": "markdown",
      "metadata": {
        "id": "0ri6Y4JeoPxo"
      },
      "source": [
        "## Model 3 : Conv1D with character embedding\n",
        "\n",
        "The paper we are replicating states that they used combination of token and character-level embedding\n",
        "\n",
        "Previously we have token-level embedding but we'ill need to do similar steps for characters if we want to use character level embedding"
      ]
    },
    {
      "cell_type": "markdown",
      "metadata": {
        "id": "UUunGvbqyf_y"
      },
      "source": [
        "### Character-level Vectorizer"
      ]
    },
    {
      "cell_type": "code",
      "metadata": {
        "colab": {
          "base_uri": "https://localhost:8080/",
          "height": 92
        },
        "id": "ann6M0OlQSPN",
        "outputId": "92db9352-4873-44d5-fcd9-8c0c5c2fe7f8"
      },
      "source": [
        "# make function to split sentences into characters\n",
        "def split_chars(text):\n",
        "  return \" \".join(list(text))\n",
        "\n",
        "# text spliting non-character-level sequence into characters\n",
        "split_chars(target)"
      ],
      "execution_count": null,
      "outputs": [
        {
          "output_type": "execute_result",
          "data": {
            "application/vnd.google.colaboratory.intrinsic+json": {
              "type": "string"
            },
            "text/plain": [
              "'b a s e d   o n   @   %   c i s   ,   t o t a l   s y s t e m i c   e x p o s u r e   t o   m p h - m l r   @ m g   c a p s u l e / s p r i n k l e s   w a s   s i m i l a r   t o   t h a t   f o r   r i t a l i n   i r   @ m g   t h r e e   t i m e s   d a i l y   ,   b u t   m a r k e d   d i f f e r e n c e s   i n   c m a x   v a l u e s   i n d i c a t e d   t h a t   m p h - m l r   r e g i m e n s   w e r e   n o t   b i o e q u i v a l e n t   t o   r i t a l i n   .'"
            ]
          },
          "metadata": {},
          "execution_count": 43
        }
      ]
    },
    {
      "cell_type": "code",
      "metadata": {
        "colab": {
          "base_uri": "https://localhost:8080/"
        },
        "id": "P8zh_Ma2p_yB",
        "outputId": "ba92a467-6b3e-47c8-d503-45064c03c826"
      },
      "source": [
        "# split sequence-level data into character-level data splits\n",
        "train_chars = [split_chars(sentence) for sentence in train_sentences]\n",
        "val_chars = [split_chars(sentence) for sentence in val_sentences]\n",
        "test_chars = [split_chars(sentence) for sentence in test_sentences]\n",
        "\n",
        "train_chars[:5]"
      ],
      "execution_count": null,
      "outputs": [
        {
          "output_type": "execute_result",
          "data": {
            "text/plain": [
              "['t o   i n v e s t i g a t e   t h e   e f f i c a c y   o f   @   w e e k s   o f   d a i l y   l o w - d o s e   o r a l   p r e d n i s o l o n e   i n   i m p r o v i n g   p a i n   ,   m o b i l i t y   ,   a n d   s y s t e m i c   l o w - g r a d e   i n f l a m m a t i o n   i n   t h e   s h o r t   t e r m   a n d   w h e t h e r   t h e   e f f e c t   w o u l d   b e   s u s t a i n e d   a t   @   w e e k s   i n   o l d e r   a d u l t s   w i t h   m o d e r a t e   t o   s e v e r e   k n e e   o s t e o a r t h r i t i s   (   o a   )   .',\n",
              " 'a   t o t a l   o f   @   p a t i e n t s   w i t h   p r i m a r y   k n e e   o a   w e r e   r a n d o m i z e d   @ : @   ;   @   r e c e i v e d   @   m g / d a y   o f   p r e d n i s o l o n e   a n d   @   r e c e i v e d   p l a c e b o   f o r   @   w e e k s   .',\n",
              " 'o u t c o m e   m e a s u r e s   i n c l u d e d   p a i n   r e d u c t i o n   a n d   i m p r o v e m e n t   i n   f u n c t i o n   s c o r e s   a n d   s y s t e m i c   i n f l a m m a t i o n   m a r k e r s   .',\n",
              " 'p a i n   w a s   a s s e s s e d   u s i n g   t h e   v i s u a l   a n a l o g   p a i n   s c a l e   (   @ - @   m m   )   .',\n",
              " 's e c o n d a r y   o u t c o m e   m e a s u r e s   i n c l u d e d   t h e   w e s t e r n   o n t a r i o   a n d   m c m a s t e r   u n i v e r s i t i e s   o s t e o a r t h r i t i s   i n d e x   s c o r e s   ,   p a t i e n t   g l o b a l   a s s e s s m e n t   (   p g a   )   o f   t h e   s e v e r i t y   o f   k n e e   o a   ,   a n d   @ - m i n   w a l k   d i s t a n c e   (   @ m w d   )   .']"
            ]
          },
          "metadata": {},
          "execution_count": 44
        }
      ]
    },
    {
      "cell_type": "code",
      "metadata": {
        "colab": {
          "base_uri": "https://localhost:8080/"
        },
        "id": "SBGnvCtKrX2E",
        "outputId": "20155c06-907e-4191-be96-27fc7f6bc113"
      },
      "source": [
        "# whats the average character length \n",
        "char_len = [len(sentence) for sentence in train_sentences]\n",
        "mean_char_len = np.mean(char_len)\n",
        "mean_char_len"
      ],
      "execution_count": null,
      "outputs": [
        {
          "output_type": "execute_result",
          "data": {
            "text/plain": [
              "149.3662574983337"
            ]
          },
          "metadata": {},
          "execution_count": 45
        }
      ]
    },
    {
      "cell_type": "code",
      "metadata": {
        "colab": {
          "base_uri": "https://localhost:8080/",
          "height": 1000
        },
        "id": "Ku452DwhsZMj",
        "outputId": "c7298be0-07eb-40a4-d8c6-15b707f2289f"
      },
      "source": [
        "# check the distribuition of our sequences at character-level\n",
        "plt.hist(char_len, bins=100)"
      ],
      "execution_count": null,
      "outputs": [
        {
          "output_type": "execute_result",
          "data": {
            "text/plain": [
              "(array([6.7000e+02, 1.3900e+03, 4.0270e+03, 6.2540e+03, 9.7670e+03,\n",
              "        1.2155e+04, 1.2906e+04, 1.5233e+04, 1.5572e+04, 1.4717e+04,\n",
              "        1.3744e+04, 1.2475e+04, 1.1130e+04, 8.7230e+03, 7.8800e+03,\n",
              "        6.6120e+03, 5.3430e+03, 4.2990e+03, 3.5050e+03, 2.6320e+03,\n",
              "        2.2170e+03, 1.8000e+03, 1.4280e+03, 1.1320e+03, 8.7700e+02,\n",
              "        6.5700e+02, 4.7400e+02, 4.6100e+02, 3.4000e+02, 3.0300e+02,\n",
              "        2.4700e+02, 1.9900e+02, 1.4500e+02, 1.1100e+02, 1.0000e+02,\n",
              "        8.8000e+01, 7.1000e+01, 4.8000e+01, 4.4000e+01, 3.6000e+01,\n",
              "        2.9000e+01, 2.9000e+01, 1.8000e+01, 2.9000e+01, 1.3000e+01,\n",
              "        1.3000e+01, 1.4000e+01, 1.0000e+01, 5.0000e+00, 7.0000e+00,\n",
              "        9.0000e+00, 3.0000e+00, 5.0000e+00, 5.0000e+00, 7.0000e+00,\n",
              "        2.0000e+00, 3.0000e+00, 4.0000e+00, 2.0000e+00, 2.0000e+00,\n",
              "        2.0000e+00, 1.0000e+00, 2.0000e+00, 2.0000e+00, 1.0000e+00,\n",
              "        2.0000e+00, 1.0000e+00, 0.0000e+00, 1.0000e+00, 1.0000e+00,\n",
              "        0.0000e+00, 1.0000e+00, 0.0000e+00, 0.0000e+00, 0.0000e+00,\n",
              "        0.0000e+00, 1.0000e+00, 1.0000e+00, 0.0000e+00, 0.0000e+00,\n",
              "        0.0000e+00, 1.0000e+00, 0.0000e+00, 0.0000e+00, 0.0000e+00,\n",
              "        1.0000e+00, 0.0000e+00, 0.0000e+00, 0.0000e+00, 0.0000e+00,\n",
              "        0.0000e+00, 0.0000e+00, 0.0000e+00, 0.0000e+00, 0.0000e+00,\n",
              "        0.0000e+00, 0.0000e+00, 0.0000e+00, 0.0000e+00, 1.0000e+00]),\n",
              " array([1.00000e+00, 1.48500e+01, 2.87000e+01, 4.25500e+01, 5.64000e+01,\n",
              "        7.02500e+01, 8.41000e+01, 9.79500e+01, 1.11800e+02, 1.25650e+02,\n",
              "        1.39500e+02, 1.53350e+02, 1.67200e+02, 1.81050e+02, 1.94900e+02,\n",
              "        2.08750e+02, 2.22600e+02, 2.36450e+02, 2.50300e+02, 2.64150e+02,\n",
              "        2.78000e+02, 2.91850e+02, 3.05700e+02, 3.19550e+02, 3.33400e+02,\n",
              "        3.47250e+02, 3.61100e+02, 3.74950e+02, 3.88800e+02, 4.02650e+02,\n",
              "        4.16500e+02, 4.30350e+02, 4.44200e+02, 4.58050e+02, 4.71900e+02,\n",
              "        4.85750e+02, 4.99600e+02, 5.13450e+02, 5.27300e+02, 5.41150e+02,\n",
              "        5.55000e+02, 5.68850e+02, 5.82700e+02, 5.96550e+02, 6.10400e+02,\n",
              "        6.24250e+02, 6.38100e+02, 6.51950e+02, 6.65800e+02, 6.79650e+02,\n",
              "        6.93500e+02, 7.07350e+02, 7.21200e+02, 7.35050e+02, 7.48900e+02,\n",
              "        7.62750e+02, 7.76600e+02, 7.90450e+02, 8.04300e+02, 8.18150e+02,\n",
              "        8.32000e+02, 8.45850e+02, 8.59700e+02, 8.73550e+02, 8.87400e+02,\n",
              "        9.01250e+02, 9.15100e+02, 9.28950e+02, 9.42800e+02, 9.56650e+02,\n",
              "        9.70500e+02, 9.84350e+02, 9.98200e+02, 1.01205e+03, 1.02590e+03,\n",
              "        1.03975e+03, 1.05360e+03, 1.06745e+03, 1.08130e+03, 1.09515e+03,\n",
              "        1.10900e+03, 1.12285e+03, 1.13670e+03, 1.15055e+03, 1.16440e+03,\n",
              "        1.17825e+03, 1.19210e+03, 1.20595e+03, 1.21980e+03, 1.23365e+03,\n",
              "        1.24750e+03, 1.26135e+03, 1.27520e+03, 1.28905e+03, 1.30290e+03,\n",
              "        1.31675e+03, 1.33060e+03, 1.34445e+03, 1.35830e+03, 1.37215e+03,\n",
              "        1.38600e+03]),\n",
              " <a list of 100 Patch objects>)"
            ]
          },
          "metadata": {},
          "execution_count": 46
        },
        {
          "output_type": "display_data",
          "data": {
            "image/png": "[encoded data removed]",
            "text/plain": [
              "<Figure size 432x288 with 1 Axes>"
            ]
          },
          "metadata": {
            "needs_background": "light"
          }
        }
      ]
    },
    {
      "cell_type": "code",
      "metadata": {
        "colab": {
          "base_uri": "https://localhost:8080/"
        },
        "id": "6CE_Edt8s72k",
        "outputId": "a0911015-5a43-41cb-d66c-d7ebffb889a5"
      },
      "source": [
        "# find what character length covers the 95% of characters\n",
        "output_seq_char_len = int(np.percentile(char_len, 95))\n",
        "output_seq_char_len"
      ],
      "execution_count": null,
      "outputs": [
        {
          "output_type": "execute_result",
          "data": {
            "text/plain": [
              "290"
            ]
          },
          "metadata": {},
          "execution_count": 47
        }
      ]
    },
    {
      "cell_type": "code",
      "metadata": {
        "colab": {
          "base_uri": "https://localhost:8080/",
          "height": 36
        },
        "id": "bMOHYsgztXbr",
        "outputId": "2e48fde6-b482-4673-e48c-5180c2533a6c"
      },
      "source": [
        "# Get all keyboard characters\n",
        "import string\n",
        "alphabet = string.ascii_lowercase + string.digits + string.punctuation\n",
        "alphabet"
      ],
      "execution_count": null,
      "outputs": [
        {
          "output_type": "execute_result",
          "data": {
            "application/vnd.google.colaboratory.intrinsic+json": {
              "type": "string"
            },
            "text/plain": [
              "'abcdefghijklmnopqrstuvwxyz0123456789!\"#$%&\\'()*+,-./:;<=>?@[\\\\]^_`{|}~'"
            ]
          },
          "metadata": {},
          "execution_count": 48
        }
      ]
    },
    {
      "cell_type": "code",
      "metadata": {
        "id": "8MGcRJUlvL6k"
      },
      "source": [
        "# create character-level toek vectorizer\n",
        "num_char_tokkens = len(alphabet)\n",
        "char_vectorizer = tf.keras.layers.TextVectorization(max_tokens=num_char_tokkens,\n",
        "                                                    output_sequence_length=output_seq_char_len,\n",
        "                                                    name=\"char_vectorizer\")"
      ],
      "execution_count": null,
      "outputs": []
    },
    {
      "cell_type": "code",
      "metadata": {
        "id": "CjSFVLjPwEIR"
      },
      "source": [
        "# Adapt character vectorizer to training data\n",
        "char_vectorizer.adapt(train_chars)"
      ],
      "execution_count": null,
      "outputs": []
    },
    {
      "cell_type": "code",
      "metadata": {
        "colab": {
          "base_uri": "https://localhost:8080/"
        },
        "id": "wTIvl54QweSu",
        "outputId": "ab8485da-f647-47b9-b8ed-f1b0ea19c07e"
      },
      "source": [
        "# check character vocab stats\n",
        "char_vocab = char_vectorizer.get_vocabulary()\n",
        "print(f\"Number of character {len(char_vocab)}\")\n",
        "print(f\"5 most common character: {char_vocab[:5]}\")\n",
        "print(f\"5 most least character: {char_vocab[-5:]}\")"
      ],
      "execution_count": null,
      "outputs": [
        {
          "output_type": "stream",
          "name": "stdout",
          "text": [
            "Number of character 28\n",
            "5 most common character: ['', '[UNK]', 'e', 't', 'i']\n",
            "5 most least character: ['k', 'x', 'z', 'q', 'j']\n"
          ]
        }
      ]
    },
    {
      "cell_type": "code",
      "metadata": {
        "colab": {
          "base_uri": "https://localhost:8080/"
        },
        "id": "yzb8OIzdxJwT",
        "outputId": "9c2f9fee-c073-4f0c-8518-7761971571f1"
      },
      "source": [
        "# Test out character vectorizer\n",
        "target = random.choice(train_chars)\n",
        "print(f\"Text:\\n{target}\\n\")\n",
        "print(f\"Length of characters: {len(target)}\\n\")\n",
        "print(f\"Vectorized characters:\\n{char_vectorizer([target])}\")\n",
        "print(f\"Length Vectorized characters: {len(char_vectorizer([target]))}\")"
      ],
      "execution_count": null,
      "outputs": [
        {
          "output_type": "stream",
          "name": "stdout",
          "text": [
            "Text:\n",
            "t h i s   w i l l   b e   t h e   f i r s t   o b j e c t i v e   a n a l y s i s   o f   s u n   s a f e   b e h a v i o u r s   l e a d i n g   t o   a   p o l i c y - d r i v e n   i n t e r v e n t i o n   c o n d u c t e d   i n   a u s t r a l i a n   p r i m a r y   s c h o o l s   s i n c e   t h e   @ s   ,   a n d   w i l l   i n f o r m   t h e   f u t u r e   d i r e c t i o n   o f   s u n   s a f e t y   i n   o u r   s c h o o l s   .\n",
            "\n",
            "Length of characters: 453\n",
            "\n",
            "Vectorized characters:\n",
            "[[ 3 13  4  9 20  4 12 12 22  2  3 13  2 17  4  8  9  3  7 22 27  2 11  3\n",
            "   4 21  2  5  6  5 12 19  9  4  9  7 17  9 16  6  9  5 17  2 22  2 13  5\n",
            "  21  4  7 16  8  9 12  2  5 10  4  6 18  3  7  5 14  7 12  4 11 19 10  8\n",
            "   4 21  2  6  4  6  3  2  8 21  2  6  3  4  7  6 11  7  6 10 16 11  3  2\n",
            "  10  4  6  5 16  9  3  8  5 12  4  5  6 14  8  4 15  5  8 19  9 11 13  7\n",
            "   7 12  9  9  4  6 11  2  3 13  2  9  5  6 10 20  4 12 12  4  6 17  7  8\n",
            "  15  3 13  2 17 16  3 16  8  2 10  4  8  2 11  3  4  7  6  7 17  9 16  6\n",
            "   9  5 17  2  3 19  4  6  7 16  8  9 11 13  7  7 12  9  0  0  0  0  0  0\n",
            "   0  0  0  0  0  0  0  0  0  0  0  0  0  0  0  0  0  0  0  0  0  0  0  0\n",
            "   0  0  0  0  0  0  0  0  0  0  0  0  0  0  0  0  0  0  0  0  0  0  0  0\n",
            "   0  0  0  0  0  0  0  0  0  0  0  0  0  0  0  0  0  0  0  0  0  0  0  0\n",
            "   0  0  0  0  0  0  0  0  0  0  0  0  0  0  0  0  0  0  0  0  0  0  0  0\n",
            "   0  0]]\n",
            "Length Vectorized characters: 1\n"
          ]
        }
      ]
    },
    {
      "cell_type": "markdown",
      "metadata": {
        "id": "vqyG6tJ-y6Ch"
      },
      "source": [
        "### Character-level Embedding"
      ]
    },
    {
      "cell_type": "code",
      "metadata": {
        "id": "aLuPZHlbM0Gn"
      },
      "source": [
        "# create char embedding layer\n",
        "char_embed = tf.keras.layers.Embedding(input_dim=len(char_vocab), # length of vocabulary\n",
        "                                       output_dim=24,  # 25 taken from research paper, used 24 multiple as of 8\n",
        "                                       mask_zero=True,\n",
        "                                       name=\"char_embed\")"
      ],
      "execution_count": null,
      "outputs": []
    },
    {
      "cell_type": "code",
      "metadata": {
        "colab": {
          "base_uri": "https://localhost:8080/"
        },
        "id": "ezmtcNr9DRRn",
        "outputId": "34fd93ab-6f55-490a-b2dd-7e562c7585e9"
      },
      "source": [
        "# Test our character embedding layer\n",
        "print(f\"Text:\\n{target}\\n\")\n",
        "print(f\"Embedding characters:\\n{char_embed(char_vectorizer(target))}\\n\")\n",
        "print(f\"Embedding Shape: {char_embed(char_vectorizer(target)).shape}\")"
      ],
      "execution_count": null,
      "outputs": [
        {
          "output_type": "stream",
          "name": "stdout",
          "text": [
            "Text:\n",
            "t h i s   w i l l   b e   t h e   f i r s t   o b j e c t i v e   a n a l y s i s   o f   s u n   s a f e   b e h a v i o u r s   l e a d i n g   t o   a   p o l i c y - d r i v e n   i n t e r v e n t i o n   c o n d u c t e d   i n   a u s t r a l i a n   p r i m a r y   s c h o o l s   s i n c e   t h e   @ s   ,   a n d   w i l l   i n f o r m   t h e   f u t u r e   d i r e c t i o n   o f   s u n   s a f e t y   i n   o u r   s c h o o l s   .\n",
            "\n",
            "Embedding characters:\n",
            "[[ 0.03002555 -0.03922218  0.04068146 ... -0.04444505 -0.00160142\n",
            "  -0.0247511 ]\n",
            " [-0.03198107  0.03133556  0.00553123 ...  0.00135915  0.00363821\n",
            "   0.03369646]\n",
            " [-0.044704   -0.01329038  0.0137086  ... -0.03408175  0.04516408\n",
            "   0.01159532]\n",
            " ...\n",
            " [-0.03289469 -0.01117388 -0.04349428 ... -0.03682542  0.03859284\n",
            "   0.02528704]\n",
            " [-0.03289469 -0.01117388 -0.04349428 ... -0.03682542  0.03859284\n",
            "   0.02528704]\n",
            " [-0.03289469 -0.01117388 -0.04349428 ... -0.03682542  0.03859284\n",
            "   0.02528704]]\n",
            "\n",
            "Embedding Shape: (290, 24)\n"
          ]
        }
      ]
    },
    {
      "cell_type": "markdown",
      "metadata": {
        "id": "Ksuv0Cso8LHA"
      },
      "source": [
        "### Prefetch character data"
      ]
    },
    {
      "cell_type": "code",
      "metadata": {
        "id": "7_VFXS7DyDET",
        "colab": {
          "base_uri": "https://localhost:8080/"
        },
        "outputId": "b42a657e-9e79-4d0d-d971-0e05560b61d9"
      },
      "source": [
        "# create char level Dataset\n",
        "train_char_dataset = tf.data.Dataset.from_tensor_slices((train_chars, train_labels_one_hot)).batch(32).prefetch(tf.data.AUTOTUNE)\n",
        "val_char_dataset = tf.data.Dataset.from_tensor_slices((val_chars, val_labels_one_hot)).batch(32).prefetch(tf.data.AUTOTUNE)\n",
        "test_char_dataset = tf.data.Dataset.from_tensor_slices((test_chars, test_labels_one_hot)).batch(32).prefetch(tf.data.AUTOTUNE)\n",
        "\n",
        "train_char_dataset"
      ],
      "execution_count": null,
      "outputs": [
        {
          "output_type": "execute_result",
          "data": {
            "text/plain": [
              "<PrefetchDataset shapes: ((None,), (None, 5)), types: (tf.string, tf.float64)>"
            ]
          },
          "metadata": {},
          "execution_count": 55
        }
      ]
    },
    {
      "cell_type": "markdown",
      "metadata": {
        "id": "bEYNOYhwylhI"
      },
      "source": [
        "### Build the Model"
      ]
    },
    {
      "cell_type": "code",
      "metadata": {
        "id": "bOhMtkoXP-lW"
      },
      "source": [
        "# build the model\n",
        "inputs = tf.keras.Input(shape=(1,), dtype=tf.string)\n",
        "x = char_vectorizer(inputs)\n",
        "x = char_embed(x)\n",
        "x = tf.keras.layers.Conv1D(64, kernel_size=5, padding=\"same\", activation=\"relu\")(x)\n",
        "x = tf.keras.layers.GlobalMaxPool1D()(x)\n",
        "outputs = tf.keras.layers.Dense(5, activation=\"softmax\")(x)  \n",
        "\n",
        "# create the model\n",
        "model_3 = tf.keras.Model(inputs, outputs,\n",
        "                         name=\"char-level_conv1d\")\n",
        "\n",
        "# compile the model\n",
        "model_3.compile(\n",
        "    loss = tf.keras.losses.CategoricalCrossentropy(),\n",
        "    optimizer = tf.keras.optimizers.Adam(),\n",
        "    metrics = [\"accuracy\"]\n",
        ")\n",
        "\n",
        "# get model summary\n",
        "model_3.summary()"
      ],
      "execution_count": null,
      "outputs": []
    },
    {
      "cell_type": "code",
      "metadata": {
        "id": "VDi6tt69RLBA"
      },
      "source": [
        "# fit the model\n",
        "model_3.fit(train_char_dataset,\n",
        "            epochs=3,\n",
        "            steps_per_epoch=(0.1 * len(train_char_dataset)),\n",
        "            validation_data=val_char_dataset,\n",
        "            validation_steps=(0.1 * len(val_char_dataset)))"
      ],
      "execution_count": null,
      "outputs": []
    },
    {
      "cell_type": "code",
      "metadata": {
        "id": "apn1aANkSzGP"
      },
      "source": [
        "# evaluate the model\n",
        "model_3.evaluate(val_char_dataset)"
      ],
      "execution_count": null,
      "outputs": []
    },
    {
      "cell_type": "code",
      "metadata": {
        "id": "rAirhJGYRupP"
      },
      "source": [
        "# make predictions\n",
        "model_3_pred_probs =  model_3.predict(val_char_dataset)\n",
        "model_3_pred_probs"
      ],
      "execution_count": null,
      "outputs": []
    },
    {
      "cell_type": "code",
      "metadata": {
        "id": "9zzRxX19THCu"
      },
      "source": [
        "model_3_pred = tf.argmax(model_3_pred_probs, axis=1)\n",
        "model_3_pred"
      ],
      "execution_count": null,
      "outputs": []
    },
    {
      "cell_type": "code",
      "metadata": {
        "id": "W74pjgjjTU_F"
      },
      "source": [
        "# using evaluate_model function\n",
        "model_3_results = evaluate_model(val_labels_encoded,\n",
        "                                 model_3_pred)\n",
        "model_3_results"
      ],
      "execution_count": null,
      "outputs": []
    },
    {
      "cell_type": "code",
      "metadata": {
        "id": "SrsLJf6fTnBX"
      },
      "source": [
        "baseline_results"
      ],
      "execution_count": null,
      "outputs": []
    },
    {
      "cell_type": "markdown",
      "metadata": {
        "id": "4nI3OHpfUsuQ"
      },
      "source": [
        "## Model 4 : USE + Character Embedding (hybrid Layer)\n",
        "\n",
        "1. Create a token-level embedding model (similar `model_1`)\n",
        "2. Create character-level model (similar to model_3 with a slight modification)\n",
        "3. Combine 1 & 2 with a concatenate (`tf.layers.Concatenate`)\n",
        "4. Build a series of output layers on top of 3 similar to Figure 1 and section 4.2 of Research Paper\n",
        "5. Construct a model which takes token and character-level sequences as input and produces sequence label probabilites as output"
      ]
    },
    {
      "cell_type": "markdown",
      "metadata": {
        "id": "RV0eAEsHHkeW"
      },
      "source": [
        "### Model Architecture"
      ]
    },
    {
      "cell_type": "code",
      "metadata": {
        "id": "uLC9zKssUROy"
      },
      "source": [
        " # 1. Setup token inputs/model\n",
        " token_inputs = tf.keras.Input(shape=[], dtype=tf.string)\n",
        " token_embeddings = USE_layer(token_inputs) \n",
        " token_output = tf.keras.layers.Dense(128, activation=\"relu\")(token_embeddings)\n",
        " token_model = tf.keras.Model(token_inputs, token_output,\n",
        "                              name=\"token_model\")\n",
        " \n",
        " # 2. Setup char inputs/model\n",
        " char_inputs = tf.keras.layers.Input(shape=(1,), dtype=tf.string)\n",
        " char_vectors = char_vectorizer(char_inputs)\n",
        " char_embeddings = char_embed(char_vectors)\n",
        " char_bi_lstm = tf.keras.layers.Bidirectional(tf.keras.layers.LSTM(24))(char_embeddings) # 50 from paper changed to 25 -> 24 Left to right and R to L\n",
        " char_model = tf.keras.Model(char_inputs, char_bi_lstm)\n",
        "\n",
        "# 3. concatenate token and char model for inputs (create hybrid token embedding )\n",
        "token_char_concat = tf.keras.layers.Concatenate(name=\"token_char_hybrid\")([token_model.output,\n",
        "                                                                           char_model.output])\n",
        "\n",
        "# 4. Create output layers - adding in Dropout, discussed in section 4.2 of Research Paper\n",
        "combined_dropout = tf.keras.layers.Dropout(0.5)(token_char_concat)\n",
        "combined_dense = tf.keras.layers.Dense(128, activation=\"relu\")(combined_dropout)\n",
        "final_dropout = tf.keras.layers.Dropout(0.5)(combined_dense)\n",
        "output_layer = tf.keras.layers.Dense(5, activation=\"softmax\")(final_dropout)\n",
        "\n",
        "# 5. Construct model with char and token inputs\n",
        "model_4 = tf.keras.Model(inputs=[token_model.input, char_model.input],\n",
        "                         outputs=output_layer,\n",
        "                         name=\"model_4_token_and_char_embeddings\")"
      ],
      "execution_count": null,
      "outputs": []
    },
    {
      "cell_type": "code",
      "metadata": {
        "colab": {
          "base_uri": "https://localhost:8080/"
        },
        "id": "3dRAGaX8GyN8",
        "outputId": "0365de6a-3f76-41d6-b08e-e0d02e73858f"
      },
      "source": [
        "# get model summary()\n",
        "model_4.summary()"
      ],
      "execution_count": null,
      "outputs": [
        {
          "output_type": "stream",
          "name": "stdout",
          "text": [
            "Model: \"model_4_token_and_char_embeddings\"\n",
            "__________________________________________________________________________________________________\n",
            "Layer (type)                    Output Shape         Param #     Connected to                     \n",
            "==================================================================================================\n",
            "input_3 (InputLayer)            [(None, 1)]          0                                            \n",
            "__________________________________________________________________________________________________\n",
            "input_2 (InputLayer)            [(None,)]            0                                            \n",
            "__________________________________________________________________________________________________\n",
            "char_vectorizer (TextVectorizat (None, 290)          0           input_3[0][0]                    \n",
            "__________________________________________________________________________________________________\n",
            "universal_sentence_encoder (Ker (None, 512)          256797824   input_2[0][0]                    \n",
            "__________________________________________________________________________________________________\n",
            "char_embed (Embedding)          (None, 290, 24)      672         char_vectorizer[0][0]            \n",
            "__________________________________________________________________________________________________\n",
            "dense (Dense)                   (None, 128)          65664       universal_sentence_encoder[0][0] \n",
            "__________________________________________________________________________________________________\n",
            "bidirectional (Bidirectional)   (None, 48)           9408        char_embed[0][0]                 \n",
            "__________________________________________________________________________________________________\n",
            "token_char_hybrid (Concatenate) (None, 176)          0           dense[0][0]                      \n",
            "                                                                 bidirectional[0][0]              \n",
            "__________________________________________________________________________________________________\n",
            "dropout (Dropout)               (None, 176)          0           token_char_hybrid[0][0]          \n",
            "__________________________________________________________________________________________________\n",
            "dense_1 (Dense)                 (None, 128)          22656       dropout[0][0]                    \n",
            "__________________________________________________________________________________________________\n",
            "dropout_1 (Dropout)             (None, 128)          0           dense_1[0][0]                    \n",
            "__________________________________________________________________________________________________\n",
            "dense_2 (Dense)                 (None, 5)            645         dropout_1[0][0]                  \n",
            "==================================================================================================\n",
            "Total params: 256,896,869\n",
            "Trainable params: 99,045\n",
            "Non-trainable params: 256,797,824\n",
            "__________________________________________________________________________________________________\n"
          ]
        }
      ]
    },
    {
      "cell_type": "markdown",
      "metadata": {
        "id": "6NWduMfiReYO"
      },
      "source": [
        "### Model the Plot"
      ]
    },
    {
      "cell_type": "code",
      "metadata": {
        "colab": {
          "base_uri": "https://localhost:8080/",
          "height": 956
        },
        "id": "f75SHGvXG4Vi",
        "outputId": "7fe0aa09-c16c-49ed-9de0-fb1cc76a0bb0"
      },
      "source": [
        "# plot the model \n",
        "tf.keras.utils.plot_model(model_4, show_shapes=True)"
      ],
      "execution_count": null,
      "outputs": [
        {
          "output_type": "execute_result",
          "data": {
            "image/png": "[encoded data removed]",
            "text/plain": [
              "<IPython.core.display.Image object>"
            ]
          },
          "metadata": {},
          "execution_count": 74
        }
      ]
    },
    {
      "cell_type": "code",
      "metadata": {
        "id": "JJ991IH_PeLy"
      },
      "source": [
        "# compile the model\n",
        "model_4.compile(\n",
        "    loss = tf.keras.losses.CategoricalCrossentropy(),\n",
        "    optimizer = tf.keras.optimizers.Adam(), # Research Paper use SGD()\n",
        "    metrics = [\"accuracy\"] \n",
        ")\n"
      ],
      "execution_count": null,
      "outputs": []
    },
    {
      "cell_type": "markdown",
      "metadata": {
        "id": "GjJH3YjuRuvs"
      },
      "source": [
        "### Data Pipeline for Hybrid model\n",
        "\n",
        "Combining Token and Character data into `tf.data.Dataset`\n"
      ]
    },
    {
      "cell_type": "code",
      "metadata": {
        "id": "d7PdmAuqRWxP"
      },
      "source": [
        "# combine chars and token into a dataset \n",
        "train_char_token_data = tf.data.Dataset.from_tensor_slices((train_sentences, train_chars)) # data\n",
        "train_char_token_labels = tf.data.Dataset.from_tensor_slices(train_labels_one_hot) # labels\n",
        "train_char_token_dataset = tf.data.Dataset.zip((train_char_token_data, train_char_token_labels)) # concatenate data and labels\n",
        "train_char_token_dataset = train_char_token_dataset.batch(32).prefetch(tf.data.AUTOTUNE)"
      ],
      "execution_count": null,
      "outputs": []
    },
    {
      "cell_type": "code",
      "metadata": {
        "id": "zq4dI_ZNppwZ"
      },
      "source": [
        "# same as above for validation data\n",
        "val_char_token_data = tf.data.Dataset.from_tensor_slices((val_sentences, val_chars))\n",
        "val_char_token_labels = tf.data.Dataset.from_tensor_slices(val_labels_one_hot)\n",
        "val_char_token_dataset = tf.data.Dataset.zip((val_char_token_data, val_char_token_labels))\n",
        "val_char_token_dataset = val_char_token_dataset.batch(32).prefetch(tf.data.AUTOTUNE)"
      ],
      "execution_count": null,
      "outputs": []
    },
    {
      "cell_type": "markdown",
      "metadata": {
        "id": "HrWCT9aRqQN7"
      },
      "source": [
        "### Fit the model"
      ]
    },
    {
      "cell_type": "code",
      "metadata": {
        "id": "_Tu0dqZrt6K2"
      },
      "source": [
        "# fit the model\n",
        "model_4.fit(train_char_token_dataset,\n",
        "            epochs=3,\n",
        "            steps_per_epoch=(0.1 * len(train_char_token_dataset)),\n",
        "            validation_data=val_char_token_dataset,\n",
        "            validation_steps=(0.1 * len(val_char_token_dataset)))"
      ],
      "execution_count": null,
      "outputs": []
    },
    {
      "cell_type": "code",
      "metadata": {
        "id": "8oDi7So9ubtI"
      },
      "source": [
        "# evaluate the model\n",
        "model_4.evaluate(val_char_token_dataset)"
      ],
      "execution_count": null,
      "outputs": []
    },
    {
      "cell_type": "code",
      "metadata": {
        "id": "4_eGzaqM1ML4"
      },
      "source": [
        "# make predictions\n",
        "model_4_pred_probs =  model_4.predict(val_char_token_dataset)\n",
        "model_4_pred_probs[0]"
      ],
      "execution_count": null,
      "outputs": []
    },
    {
      "cell_type": "code",
      "metadata": {
        "id": "J9c9TTKj1ah8"
      },
      "source": [
        "model_4_pred = tf.argmax(model_4_pred_probs, axis=1)\n",
        "model_4_pred"
      ],
      "execution_count": null,
      "outputs": []
    },
    {
      "cell_type": "code",
      "metadata": {
        "id": "ixMOy7aj1z4K"
      },
      "source": [
        "val_labels_one_hot"
      ],
      "execution_count": null,
      "outputs": []
    },
    {
      "cell_type": "code",
      "metadata": {
        "id": "OdfoKiyN1l7d"
      },
      "source": [
        "model_4_results =  evaluate_model(val_labels_encoded,\n",
        "                                  model_4_pred)\n",
        "model_4_results"
      ],
      "execution_count": null,
      "outputs": []
    },
    {
      "cell_type": "code",
      "metadata": {
        "id": "mLKekmeK1wHq"
      },
      "source": [
        "model_1_results"
      ],
      "execution_count": null,
      "outputs": []
    },
    {
      "cell_type": "markdown",
      "metadata": {
        "id": "nFRPx1ZX2APk"
      },
      "source": [
        "## Model 5 : token embedding + character embedding + positional embedding"
      ]
    },
    {
      "cell_type": "code",
      "metadata": {
        "id": "QvYCB01816xZ",
        "colab": {
          "base_uri": "https://localhost:8080/",
          "height": 206
        },
        "outputId": "5c628b29-6090-4d1c-b612-10038345c12a"
      },
      "source": [
        "train_df.head()"
      ],
      "execution_count": null,
      "outputs": [
        {
          "output_type": "execute_result",
          "data": {
            "text/html": [
              "<div>\n",
              "<style scoped>\n",
              "    .dataframe tbody tr th:only-of-type {\n",
              "        vertical-align: middle;\n",
              "    }\n",
              "\n",
              "    .dataframe tbody tr th {\n",
              "        vertical-align: top;\n",
              "    }\n",
              "\n",
              "    .dataframe thead th {\n",
              "        text-align: right;\n",
              "    }\n",
              "</style>\n",
              "<table border=\"1\" class=\"dataframe\">\n",
              "  <thead>\n",
              "    <tr style=\"text-align: right;\">\n",
              "      <th></th>\n",
              "      <th>target</th>\n",
              "      <th>text</th>\n",
              "      <th>line_number</th>\n",
              "      <th>total_lines</th>\n",
              "    </tr>\n",
              "  </thead>\n",
              "  <tbody>\n",
              "    <tr>\n",
              "      <th>0</th>\n",
              "      <td>OBJECTIVE</td>\n",
              "      <td>to investigate the efficacy of @ weeks of dail...</td>\n",
              "      <td>0</td>\n",
              "      <td>11</td>\n",
              "    </tr>\n",
              "    <tr>\n",
              "      <th>1</th>\n",
              "      <td>METHODS</td>\n",
              "      <td>a total of @ patients with primary knee oa wer...</td>\n",
              "      <td>1</td>\n",
              "      <td>11</td>\n",
              "    </tr>\n",
              "    <tr>\n",
              "      <th>2</th>\n",
              "      <td>METHODS</td>\n",
              "      <td>outcome measures included pain reduction and i...</td>\n",
              "      <td>2</td>\n",
              "      <td>11</td>\n",
              "    </tr>\n",
              "    <tr>\n",
              "      <th>3</th>\n",
              "      <td>METHODS</td>\n",
              "      <td>pain was assessed using the visual analog pain...</td>\n",
              "      <td>3</td>\n",
              "      <td>11</td>\n",
              "    </tr>\n",
              "    <tr>\n",
              "      <th>4</th>\n",
              "      <td>METHODS</td>\n",
              "      <td>secondary outcome measures included the wester...</td>\n",
              "      <td>4</td>\n",
              "      <td>11</td>\n",
              "    </tr>\n",
              "  </tbody>\n",
              "</table>\n",
              "</div>"
            ],
            "text/plain": [
              "      target  ... total_lines\n",
              "0  OBJECTIVE  ...          11\n",
              "1    METHODS  ...          11\n",
              "2    METHODS  ...          11\n",
              "3    METHODS  ...          11\n",
              "4    METHODS  ...          11\n",
              "\n",
              "[5 rows x 4 columns]"
            ]
          },
          "metadata": {},
          "execution_count": 78
        }
      ]
    },
    {
      "cell_type": "markdown",
      "metadata": {
        "id": "NSCCFpBlZTfx"
      },
      "source": [
        "***Note:** Any engineered features used to train a model need to bbe available at test time. In our case, line number and total lines are available."
      ]
    },
    {
      "cell_type": "markdown",
      "metadata": {
        "id": "0abxxnzVcDY-"
      },
      "source": [
        "### Create positional embedding"
      ]
    },
    {
      "cell_type": "code",
      "metadata": {
        "colab": {
          "base_uri": "https://localhost:8080/"
        },
        "id": "2AgsqqEIYO8X",
        "outputId": "d3f73509-7539-49ce-c242-8e9fe4040bda"
      },
      "source": [
        "train_df.line_number.value_counts()"
      ],
      "execution_count": null,
      "outputs": [
        {
          "output_type": "execute_result",
          "data": {
            "text/plain": [
              "0     15000\n",
              "1     15000\n",
              "2     15000\n",
              "3     15000\n",
              "4     14992\n",
              "5     14949\n",
              "6     14758\n",
              "7     14279\n",
              "8     13346\n",
              "9     11981\n",
              "10    10041\n",
              "11     7892\n",
              "12     5853\n",
              "13     4152\n",
              "14     2835\n",
              "15     1861\n",
              "16     1188\n",
              "17      751\n",
              "18      462\n",
              "19      286\n",
              "20      162\n",
              "21      101\n",
              "22       66\n",
              "23       33\n",
              "24       22\n",
              "25       14\n",
              "26        7\n",
              "27        4\n",
              "28        3\n",
              "29        1\n",
              "30        1\n",
              "Name: line_number, dtype: int64"
            ]
          },
          "metadata": {},
          "execution_count": 79
        }
      ]
    },
    {
      "cell_type": "code",
      "metadata": {
        "colab": {
          "base_uri": "https://localhost:8080/",
          "height": 284
        },
        "id": "DuG5LjsIYVXK",
        "outputId": "1631c4a3-3beb-4039-a927-54cf29d53a4e"
      },
      "source": [
        "train_df.line_number.plot.hist(bins=30)"
      ],
      "execution_count": null,
      "outputs": [
        {
          "output_type": "execute_result",
          "data": {
            "text/plain": [
              "<matplotlib.axes._subplots.AxesSubplot at 0x7fe8f3eab510>"
            ]
          },
          "metadata": {},
          "execution_count": 80
        },
        {
          "output_type": "display_data",
          "data": {
            "image/png": "[encoded data removed]",
            "text/plain": [
              "<Figure size 432x288 with 1 Axes>"
            ]
          },
          "metadata": {
            "needs_background": "light"
          }
        }
      ]
    },
    {
      "cell_type": "code",
      "metadata": {
        "colab": {
          "base_uri": "https://localhost:8080/",
          "height": 284
        },
        "id": "5a3wf5N9aeuD",
        "outputId": "0f74d121-1f49-4078-a157-50aed209ab0a"
      },
      "source": [
        "val_df.line_number.plot.hist(bins=15)"
      ],
      "execution_count": null,
      "outputs": [
        {
          "output_type": "execute_result",
          "data": {
            "text/plain": [
              "<matplotlib.axes._subplots.AxesSubplot at 0x7fe8f556c4d0>"
            ]
          },
          "metadata": {},
          "execution_count": 81
        },
        {
          "output_type": "display_data",
          "data": {
            "image/png": "[encoded data removed]",
            "text/plain": [
              "<Figure size 432x288 with 1 Axes>"
            ]
          },
          "metadata": {
            "needs_background": "light"
          }
        }
      ]
    },
    {
      "cell_type": "code",
      "metadata": {
        "colab": {
          "base_uri": "https://localhost:8080/",
          "height": 284
        },
        "id": "zYF-N1MrarLI",
        "outputId": "ce9b2922-8563-4e00-f079-09a76b0fa3d7"
      },
      "source": [
        "test_df.line_number.plot.hist(bins=15)"
      ],
      "execution_count": null,
      "outputs": [
        {
          "output_type": "execute_result",
          "data": {
            "text/plain": [
              "<matplotlib.axes._subplots.AxesSubplot at 0x7fe8ee4d56d0>"
            ]
          },
          "metadata": {},
          "execution_count": 82
        },
        {
          "output_type": "display_data",
          "data": {
            "image/png": "[encoded data removed]",
            "text/plain": [
              "<Figure size 432x288 with 1 Axes>"
            ]
          },
          "metadata": {
            "needs_background": "light"
          }
        }
      ]
    },
    {
      "cell_type": "code",
      "metadata": {
        "colab": {
          "base_uri": "https://localhost:8080/"
        },
        "id": "J3W4A0m5YsuB",
        "outputId": "f75fbbd5-ec9d-400d-e010-806063a5e304"
      },
      "source": [
        "# One Hot the line numbers\n",
        "train_line_number_one_hot = tf.one_hot(train_df[\"line_number\"].to_numpy(), depth=15)\n",
        "val_line_number_one_hot = tf.one_hot(val_df[\"line_number\"].to_numpy(), depth=15)\n",
        "test_line_number_one_hot = tf.one_hot(test_df[\"line_number\"].to_numpy(), depth=15)\n",
        "\n",
        "train_line_number_one_hot, train_line_number_one_hot.shape"
      ],
      "execution_count": null,
      "outputs": [
        {
          "output_type": "execute_result",
          "data": {
            "text/plain": [
              "(<tf.Tensor: shape=(180040, 15), dtype=float32, numpy=\n",
              " array([[1., 0., 0., ..., 0., 0., 0.],\n",
              "        [0., 1., 0., ..., 0., 0., 0.],\n",
              "        [0., 0., 1., ..., 0., 0., 0.],\n",
              "        ...,\n",
              "        [0., 0., 0., ..., 0., 0., 0.],\n",
              "        [0., 0., 0., ..., 0., 0., 0.],\n",
              "        [0., 0., 0., ..., 0., 0., 0.]], dtype=float32)>,\n",
              " TensorShape([180040, 15]))"
            ]
          },
          "metadata": {},
          "execution_count": 83
        }
      ]
    },
    {
      "cell_type": "code",
      "metadata": {
        "colab": {
          "base_uri": "https://localhost:8080/"
        },
        "id": "XVJLuFN0bN6e",
        "outputId": "5a700386-b190-4966-da1e-919208c45394"
      },
      "source": [
        "train_df.total_lines.value_counts()"
      ],
      "execution_count": null,
      "outputs": [
        {
          "output_type": "execute_result",
          "data": {
            "text/plain": [
              "11    24468\n",
              "10    23639\n",
              "12    22113\n",
              "9     19400\n",
              "13    18438\n",
              "14    14610\n",
              "8     12285\n",
              "15    10768\n",
              "7      7464\n",
              "16     7429\n",
              "17     5202\n",
              "6      3353\n",
              "18     3344\n",
              "19     2480\n",
              "20     1281\n",
              "5      1146\n",
              "21      770\n",
              "22      759\n",
              "23      264\n",
              "4       215\n",
              "24      200\n",
              "25      182\n",
              "26       81\n",
              "28       58\n",
              "3        32\n",
              "30       31\n",
              "27       28\n",
              "Name: total_lines, dtype: int64"
            ]
          },
          "metadata": {},
          "execution_count": 84
        }
      ]
    },
    {
      "cell_type": "code",
      "metadata": {
        "colab": {
          "base_uri": "https://localhost:8080/",
          "height": 286
        },
        "id": "PdUMp6pi_MNe",
        "outputId": "eb5ea227-7dd5-4a71-b25f-21aafea68369"
      },
      "source": [
        "train_df.total_lines.plot.hist()"
      ],
      "execution_count": null,
      "outputs": [
        {
          "output_type": "execute_result",
          "data": {
            "text/plain": [
              "<matplotlib.axes._subplots.AxesSubplot at 0x7fe8ee467290>"
            ]
          },
          "metadata": {},
          "execution_count": 85
        },
        {
          "output_type": "display_data",
          "data": {
            "image/png": "[encoded data removed]",
            "text/plain": [
              "<Figure size 432x288 with 1 Axes>"
            ]
          },
          "metadata": {
            "needs_background": "light"
          }
        }
      ]
    },
    {
      "cell_type": "code",
      "metadata": {
        "colab": {
          "base_uri": "https://localhost:8080/"
        },
        "id": "mZt6mWrk_Us8",
        "outputId": "595bb678-9e90-47d9-a374-82da655c2ba6"
      },
      "source": [
        "# how many rows covers the 95% of data\n",
        "np.percentile(train_df[\"total_lines\"], 98)"
      ],
      "execution_count": null,
      "outputs": [
        {
          "output_type": "execute_result",
          "data": {
            "text/plain": [
              "20.0"
            ]
          },
          "metadata": {},
          "execution_count": 86
        }
      ]
    },
    {
      "cell_type": "code",
      "metadata": {
        "colab": {
          "base_uri": "https://localhost:8080/"
        },
        "id": "TyJOH1ft_nXo",
        "outputId": "0da14b10-d168-446d-e963-90085822186a"
      },
      "source": [
        "# One Hot the total lines\n",
        "train_total_lines_one_hot = tf.one_hot(train_df[\"total_lines\"], depth=20)\n",
        "val_total_lines_one_hot = tf.one_hot(val_df[\"total_lines\"], depth=20)\n",
        "test_total_lines_one_hot = tf.one_hot(test_df[\"total_lines\"], depth=20)\n",
        "\n",
        "train_total_lines_one_hot, train_total_lines_one_hot.shape"
      ],
      "execution_count": null,
      "outputs": [
        {
          "output_type": "execute_result",
          "data": {
            "text/plain": [
              "(<tf.Tensor: shape=(180040, 20), dtype=float32, numpy=\n",
              " array([[0., 0., 0., ..., 0., 0., 0.],\n",
              "        [0., 0., 0., ..., 0., 0., 0.],\n",
              "        [0., 0., 0., ..., 0., 0., 0.],\n",
              "        ...,\n",
              "        [0., 0., 0., ..., 0., 0., 0.],\n",
              "        [0., 0., 0., ..., 0., 0., 0.],\n",
              "        [0., 0., 0., ..., 0., 0., 0.]], dtype=float32)>,\n",
              " TensorShape([180040, 20]))"
            ]
          },
          "metadata": {},
          "execution_count": 87
        }
      ]
    },
    {
      "cell_type": "markdown",
      "metadata": {
        "id": "7V4Jt48PB_sV"
      },
      "source": [
        "### Model Architecture\n",
        "\n",
        "1. Create a token-level model\n",
        "2. Create a character-level model\n",
        "3. Create a model for the \"line_number\" feature\n",
        "4. Create a model for the \"total_lines\" feature\n",
        "5. Combine the outputs of 1 & 2 using `tf.keras.layers.Concatenate`\n",
        "6. Combine the outputs of 3,4,5 using `tf.keras.layers.Concatenate`\n",
        "7. Create an output layer to accept the tribrid embedding and output label probabilites\n",
        "8. Combine the inputs of 1,2,3,4 and outputs into `tf.keras.Model`"
      ]
    },
    {
      "cell_type": "code",
      "metadata": {
        "id": "qO1dEFZVAVmX"
      },
      "source": [
        "# 1. USE model (token-level model)\n",
        "token_inputs = tf.keras.layers.Input(shape=[], dtype=tf.string, name=\"token_inputs\")\n",
        "token_embeddings = USE_layer(token_inputs)\n",
        "token_outputs = tf.keras.layers.Dense(128, activation=\"relu\")(token_embeddings)\n",
        "token_model = tf.keras.Model(token_inputs, token_outputs,\n",
        "                             name=\"USE_model\")\n",
        "\n",
        "# 2. Bi-LSTM model (character-level model)\n",
        "char_inputs = tf.keras.layers.Input(shape=(1,), dtype=tf.string, name=\"char_inputs\")\n",
        "char_vectors = char_vectorizer(char_inputs)\n",
        "char_embeddings = char_embed(char_vectors)\n",
        "char_bi_lstm = tf.keras.layers.Bidirectional(tf.keras.layers.LSTM(24))(char_embeddings)\n",
        "char_model = tf.keras.Model(char_inputs, char_bi_lstm,\n",
        "                            name=\"bi-LSTM model\")\n",
        "\n",
        "# 3. line_number model\n",
        "line_number_inputs = tf.keras.layers.Input(shape=(15,), dtype=tf.float32, name=\"line_inputs\")\n",
        "x = tf.keras.layers.Dense(32, activation=\"relu\")(line_number_inputs)\n",
        "line_number_model = tf.keras.Model(line_number_inputs, x,\n",
        "                                   name=\"line_number model\")\n",
        "\n",
        "# 4. total_lines model\n",
        "total_lines_inputs = tf.keras.layers.Input(shape=(20,), dtype=tf.float32, name=\"total_lines_inputs\")\n",
        "y = tf.keras.layers.Dense(32, activation=\"relu\")(total_lines_inputs)\n",
        "total_lines_model = tf.keras.Model(total_lines_inputs, y, \n",
        "                                   name=\"total_lines model\")\n",
        "\n",
        "# 5. combine the outputs of 1 & 2 (hybrid embedding)\n",
        "hybrid_embeddings = tf.keras.layers.Concatenate(name=\"token_char_hybrid_model\")([token_model.output,\n",
        "                                                                                 char_model.output])\n",
        "# Passing inputs through the Dropout layer as per the Research paper                                                                                 \n",
        "z = tf.keras.layers.Dense(32, activation=\"relu\")(hybrid_embeddings)\n",
        "z = tf.keras.layers.Dropout(0.5)(z)\n",
        "\n",
        "# 6. Combine the outputs of 3,4,5 (Tribrid embedding)\n",
        "tribrid_embeddings = tf.keras.layers.Concatenate(name=\"token_char_positional_embedding\")([line_number_model.output,\n",
        "                                                                                         total_lines_model.output,\n",
        "                                                                                         z])\n",
        "# 7. create output layer\n",
        "output_layer = tf.keras.layers.Dense(5, activation=\"relu\", name=\"output_layer\")(tribrid_embeddings)                                                                                  \n",
        "\n",
        "# 8. put togetheer model with all kinds of inputs # Order is important \n",
        "model_5 = tf.keras.Model(inputs=[line_number_model.input,\n",
        "                                 total_lines_model.input,\n",
        "                                 token_model.input,\n",
        "                                 char_model.input],\n",
        "                         outputs=output_layer,\n",
        "                         name=\"tribrid_embedding_model\")\n"
      ],
      "execution_count": null,
      "outputs": []
    },
    {
      "cell_type": "code",
      "metadata": {
        "colab": {
          "base_uri": "https://localhost:8080/"
        },
        "id": "fpy4llGaSKjM",
        "outputId": "5dd6338a-958d-428a-912e-eb8be99ef96d"
      },
      "source": [
        "# get model's summary\n",
        "model_5.summary()"
      ],
      "execution_count": null,
      "outputs": [
        {
          "output_type": "stream",
          "name": "stdout",
          "text": [
            "Model: \"tribrid_embedding_model\"\n",
            "__________________________________________________________________________________________________\n",
            "Layer (type)                    Output Shape         Param #     Connected to                     \n",
            "==================================================================================================\n",
            "char_inputs (InputLayer)        [(None, 1)]          0                                            \n",
            "__________________________________________________________________________________________________\n",
            "token_inputs (InputLayer)       [(None,)]            0                                            \n",
            "__________________________________________________________________________________________________\n",
            "char_vectorizer (TextVectorizat (None, 290)          0           char_inputs[0][0]                \n",
            "__________________________________________________________________________________________________\n",
            "universal_sentence_encoder (Ker (None, 512)          256797824   token_inputs[0][0]               \n",
            "__________________________________________________________________________________________________\n",
            "char_embed (Embedding)          (None, 290, 24)      672         char_vectorizer[1][0]            \n",
            "__________________________________________________________________________________________________\n",
            "dense_3 (Dense)                 (None, 128)          65664       universal_sentence_encoder[1][0] \n",
            "__________________________________________________________________________________________________\n",
            "bidirectional_1 (Bidirectional) (None, 48)           9408        char_embed[1][0]                 \n",
            "__________________________________________________________________________________________________\n",
            "token_char_hybrid_model (Concat (None, 176)          0           dense_3[0][0]                    \n",
            "                                                                 bidirectional_1[0][0]            \n",
            "__________________________________________________________________________________________________\n",
            "line_inputs (InputLayer)        [(None, 15)]         0                                            \n",
            "__________________________________________________________________________________________________\n",
            "total_lines_inputs (InputLayer) [(None, 20)]         0                                            \n",
            "__________________________________________________________________________________________________\n",
            "dense_6 (Dense)                 (None, 32)           5664        token_char_hybrid_model[0][0]    \n",
            "__________________________________________________________________________________________________\n",
            "dense_4 (Dense)                 (None, 32)           512         line_inputs[0][0]                \n",
            "__________________________________________________________________________________________________\n",
            "dense_5 (Dense)                 (None, 32)           672         total_lines_inputs[0][0]         \n",
            "__________________________________________________________________________________________________\n",
            "dropout_2 (Dropout)             (None, 32)           0           dense_6[0][0]                    \n",
            "__________________________________________________________________________________________________\n",
            "token_char_positional_embedding (None, 96)           0           dense_4[0][0]                    \n",
            "                                                                 dense_5[0][0]                    \n",
            "                                                                 dropout_2[0][0]                  \n",
            "__________________________________________________________________________________________________\n",
            "output_layer (Dense)            (None, 5)            485         token_char_positional_embedding[0\n",
            "==================================================================================================\n",
            "Total params: 256,880,901\n",
            "Trainable params: 83,077\n",
            "Non-trainable params: 256,797,824\n",
            "__________________________________________________________________________________________________\n"
          ]
        }
      ]
    },
    {
      "cell_type": "markdown",
      "metadata": {
        "id": "y2AvcIZ9Z_Eo"
      },
      "source": [
        "### Plot the Model\n"
      ]
    },
    {
      "cell_type": "code",
      "metadata": {
        "colab": {
          "base_uri": "https://localhost:8080/",
          "height": 618
        },
        "id": "4ymBozKnZZ4O",
        "outputId": "146d2ebd-aabf-4a4a-cabd-5318080bbe1e"
      },
      "source": [
        "tf.keras.utils.plot_model(model_5, show_shapes=True)"
      ],
      "execution_count": null,
      "outputs": [
        {
          "output_type": "execute_result",
          "data": {
            "image/png": "[encoded data removed]",
            "text/plain": [
              "<IPython.core.display.Image object>"
            ]
          },
          "metadata": {},
          "execution_count": 90
        }
      ]
    },
    {
      "cell_type": "markdown",
      "metadata": {
        "id": "iTSIo183b-2r"
      },
      "source": [
        "**What is label smoothing?**\n",
        "\n",
        "For example, if our model gets too confident on a single class (e.g. its prediction probability is really high), it may get stuck on that class and not considre other classes...\n",
        "\n",
        "Really confident :`[0.0, 0.0, 1.0, 0.0]`\n",
        "\n",
        "What label smoothing does is it assigns some of the value from the highest pre prob to to other classes, in turn hopefully improving generalization : `[0.01, 0.01, 0.96, 0.01]`"
      ]
    },
    {
      "cell_type": "code",
      "metadata": {
        "id": "SOoBxCvgaF5Q"
      },
      "source": [
        "# compile the model\n",
        "model_5.compile(\n",
        "    loss = tf.keras.losses.CategoricalCrossentropy(label_smoothing=0.2),\n",
        "    optimizer = tf.keras.optimizers.Adam(),\n",
        "    metrics = [\"accuracy\"]\n",
        ")"
      ],
      "execution_count": null,
      "outputs": []
    },
    {
      "cell_type": "markdown",
      "metadata": {
        "id": "Alnj4ze20D4U"
      },
      "source": [
        "### Tribrid embedding Datasets"
      ]
    },
    {
      "cell_type": "code",
      "metadata": {
        "id": "xCV0Bzrh1tTZ"
      },
      "source": [
        " # Train dataset\n",
        "train_char_token_pos_data = tf.data.Dataset.from_tensor_slices((train_line_number_one_hot,\n",
        "                                                                train_total_lines_one_hot,\n",
        "                                                                train_sentences,\n",
        "                                                                train_chars))\n",
        "train_char_token_pos_labels = tf.data.Dataset.from_tensor_slices(train_labels_one_hot)\n",
        "train_char_token_pos_dataset = tf.data.Dataset.zip((train_char_token_pos_data, train_char_token_pos_labels))\n",
        "train_char_token_pos_dataset = train_char_token_pos_dataset.batch(32).prefetch(tf.data.AUTOTUNE)\n",
        "\n",
        "# validation dataset\n",
        "val_char_token_pos_data = tf.data.Dataset.from_tensor_slices((val_line_number_one_hot,\n",
        "                                                              val_total_lines_one_hot,\n",
        "                                                              val_sentences,\n",
        "                                                              val_chars))\n",
        "val_char_token_pos_labels = tf.data.Dataset.from_tensor_slices(val_labels_one_hot)\n",
        "val_char_token_pos_dataset = tf.data.Dataset.zip((val_char_token_pos_data, val_char_token_pos_labels))\n",
        "val_char_token_pos_dataset = val_char_token_pos_dataset.batch(32).prefetch(tf.data.AUTOTUNE)"
      ],
      "execution_count": null,
      "outputs": []
    },
    {
      "cell_type": "code",
      "metadata": {
        "colab": {
          "base_uri": "https://localhost:8080/"
        },
        "id": "HipHMdNHAQ-n",
        "outputId": "537ac0e4-f406-4783-eaba-788f0279a18a"
      },
      "source": [
        "# check char_token_pos_dataset\n",
        "train_char_token_pos_dataset"
      ],
      "execution_count": null,
      "outputs": [
        {
          "output_type": "execute_result",
          "data": {
            "text/plain": [
              "<PrefetchDataset shapes: (((None, 15), (None, 20), (None,), (None,)), (None, 5)), types: ((tf.float32, tf.float32, tf.string, tf.string), tf.float64)>"
            ]
          },
          "metadata": {},
          "execution_count": 98
        }
      ]
    },
    {
      "cell_type": "markdown",
      "metadata": {
        "id": "6t1RXcLVqI3_"
      },
      "source": [
        "### Fit the model"
      ]
    },
    {
      "cell_type": "code",
      "metadata": {
        "id": "TLMDuvO3A5z-"
      },
      "source": [
        "# fit the model\n",
        "model_5.fit(train_char_token_pos_dataset,\n",
        "            epochs=3,\n",
        "            steps_per_epoch=int(0.1 * len(train_char_token_pos_dataset)),\n",
        "            validation_data=val_char_token_pos_dataset,\n",
        "            validation_steps=int(0.1 * len(val_char_token_pos_dataset)))"
      ],
      "execution_count": null,
      "outputs": []
    },
    {
      "cell_type": "code",
      "metadata": {
        "id": "zLKHbu7VBqa0"
      },
      "source": [
        "# evaluate the model\n",
        "model_5.evaluate(val_char_token_pos_dataset)"
      ],
      "execution_count": null,
      "outputs": []
    },
    {
      "cell_type": "code",
      "metadata": {
        "id": "lsoD9iUgCMWN"
      },
      "source": [
        "# make predictions\n",
        "model_5_pred_probs = model_5.predict(val_char_token_pos_dataset)\n",
        "model_5_pred_probs"
      ],
      "execution_count": null,
      "outputs": []
    },
    {
      "cell_type": "code",
      "metadata": {
        "id": "jP-9jVxPCpzW"
      },
      "source": [
        "model_5_pred = tf.argmax(model_5_pred_probs, axis=1)\n",
        "model_5_pred"
      ],
      "execution_count": null,
      "outputs": []
    },
    {
      "cell_type": "code",
      "metadata": {
        "id": "1I8YZcI0C14K"
      },
      "source": [
        "model_5_results = evaluate_model(val_labels_encoded,\n",
        "                                 model_5_pred)\n",
        "model_5_results"
      ],
      "execution_count": null,
      "outputs": []
    },
    {
      "cell_type": "markdown",
      "metadata": {
        "id": "XWoldWnD9-Zt"
      },
      "source": [
        "# Compare Model results"
      ]
    },
    {
      "cell_type": "code",
      "metadata": {
        "id": "jaFgzvnjDr8i"
      },
      "source": [
        "results = pd.DataFrame({\"model_0\" : baseline_results,\n",
        "                        \"model_1\" : model_1_results,\n",
        "                        \"model_2\" : model_2_results,\n",
        "                        \"model_3\" : model_3_results,\n",
        "                        \"model_4\" : model_4_results,\n",
        "                        \"model_5\" : model_5_results,\n",
        "                       })\n",
        "results = results.transpose()\n",
        "results.head()"
      ],
      "execution_count": null,
      "outputs": []
    },
    {
      "cell_type": "code",
      "metadata": {
        "id": "9pr9EBdP-vbN"
      },
      "source": [
        "# reduce accuracy to same scale as other metrics\n",
        "results[\"accuracy\"] = results[\"accuracy\"]/100"
      ],
      "execution_count": null,
      "outputs": []
    },
    {
      "cell_type": "code",
      "metadata": {
        "id": "9B_Fz66q-zaz"
      },
      "source": [
        "# plot and compare all model results\n",
        "results.plot(kind=\"bat\", figsize=(10,7)).legend(bbox_to_anchor=(1.0, 1.0))"
      ],
      "execution_count": null,
      "outputs": []
    },
    {
      "cell_type": "code",
      "metadata": {
        "id": "HqbTCegv-zPk"
      },
      "source": [
        "# sort models by f1-score\n",
        "results.sort_values(\"f1\", ascending=True)[\"f1\"].plot(kind=\"bar\", figsize(10,7))"
      ],
      "execution_count": null,
      "outputs": []
    },
    {
      "cell_type": "markdown",
      "metadata": {
        "id": "5AyNOjPu__6M"
      },
      "source": [
        "# Load tribrid model "
      ]
    },
    {
      "cell_type": "code",
      "metadata": {
        "colab": {
          "base_uri": "https://localhost:8080/"
        },
        "id": "o-328P9wZIlY",
        "outputId": "069e0ed5-1e95-466c-8f64-ee20ebe92d09"
      },
      "source": [
        "! wget https://storage.googleapis.com/ztm_tf_course/skimlit/skimlit_tribrid_model.zip"
      ],
      "execution_count": null,
      "outputs": [
        {
          "output_type": "stream",
          "name": "stdout",
          "text": [
            "--2021-09-24 15:35:04--  https://storage.googleapis.com/ztm_tf_course/skimlit/skimlit_tribrid_model.zip\n",
            "Resolving storage.googleapis.com (storage.googleapis.com)... 173.194.194.128, 173.194.195.128, 173.194.197.128, ...\n",
            "Connecting to storage.googleapis.com (storage.googleapis.com)|173.194.194.128|:443... connected.\n",
            "HTTP request sent, awaiting response... 200 OK\n",
            "Length: 962561955 (918M) [application/zip]\n",
            "Saving to: ‘skimlit_tribrid_model.zip’\n",
            "\n",
            "skimlit_tribrid_mod 100%[===================>] 917.97M   188MB/s    in 4.9s    \n",
            "\n",
            "2021-09-24 15:35:09 (187 MB/s) - ‘skimlit_tribrid_model.zip’ saved [962561955/962561955]\n",
            "\n"
          ]
        }
      ]
    },
    {
      "cell_type": "code",
      "metadata": {
        "colab": {
          "base_uri": "https://localhost:8080/"
        },
        "id": "KT4CjQOxaSTW",
        "outputId": "96b6c8a7-e598-4d69-9de6-64c5a8802521"
      },
      "source": [
        "import zipfile\n",
        "\n",
        "zip_ref = zipfile.ZipFile(\"/content/skimlit_tribrid_model.zip\")\n",
        "zip_ref.extractall()\n",
        "zip_ref.close"
      ],
      "execution_count": null,
      "outputs": [
        {
          "output_type": "execute_result",
          "data": {
            "text/plain": [
              "<bound method ZipFile.close of <zipfile.ZipFile filename='/content/skimlit_tribrid_model.zip' mode='r'>>"
            ]
          },
          "metadata": {},
          "execution_count": 64
        }
      ]
    },
    {
      "cell_type": "code",
      "metadata": {
        "id": "pvQaikMHa6wE"
      },
      "source": [
        "loaded_model = tf.keras.models.load_model(\"/content/skimlit_tribrid_model\")"
      ],
      "execution_count": null,
      "outputs": []
    },
    {
      "cell_type": "code",
      "metadata": {
        "colab": {
          "base_uri": "https://localhost:8080/"
        },
        "id": "b9UsKCD8bEV0",
        "outputId": "db2bf695-51b9-4bca-fdfb-700ab83af921"
      },
      "source": [
        "loaded_model.evaluate(val_char_token_pos_dataset)"
      ],
      "execution_count": null,
      "outputs": [
        {
          "output_type": "stream",
          "name": "stdout",
          "text": [
            "945/945 [==============================] - 207s 216ms/step - loss: 0.9479 - accuracy: 0.8275\n"
          ]
        },
        {
          "output_type": "execute_result",
          "data": {
            "text/plain": [
              "[0.9478996396064758, 0.8274526596069336]"
            ]
          },
          "metadata": {},
          "execution_count": 66
        }
      ]
    },
    {
      "cell_type": "markdown",
      "metadata": {
        "id": "ooWJZSU4YRmX"
      },
      "source": [
        "#1.Turn the test data samples into `tf.data` Datasets and then evaluate the Tribrid model on the test samples."
      ]
    },
    {
      "cell_type": "code",
      "metadata": {
        "colab": {
          "base_uri": "https://localhost:8080/",
          "height": 206
        },
        "id": "W2B0xbTf-zIx",
        "outputId": "fe8c375a-95b1-4f61-8823-a275a56a1da9"
      },
      "source": [
        "test_df.head()"
      ],
      "execution_count": null,
      "outputs": [
        {
          "output_type": "execute_result",
          "data": {
            "text/html": [
              "<div>\n",
              "<style scoped>\n",
              "    .dataframe tbody tr th:only-of-type {\n",
              "        vertical-align: middle;\n",
              "    }\n",
              "\n",
              "    .dataframe tbody tr th {\n",
              "        vertical-align: top;\n",
              "    }\n",
              "\n",
              "    .dataframe thead th {\n",
              "        text-align: right;\n",
              "    }\n",
              "</style>\n",
              "<table border=\"1\" class=\"dataframe\">\n",
              "  <thead>\n",
              "    <tr style=\"text-align: right;\">\n",
              "      <th></th>\n",
              "      <th>target</th>\n",
              "      <th>text</th>\n",
              "      <th>line_number</th>\n",
              "      <th>total_lines</th>\n",
              "    </tr>\n",
              "  </thead>\n",
              "  <tbody>\n",
              "    <tr>\n",
              "      <th>0</th>\n",
              "      <td>BACKGROUND</td>\n",
              "      <td>this study analyzed liver function abnormaliti...</td>\n",
              "      <td>0</td>\n",
              "      <td>8</td>\n",
              "    </tr>\n",
              "    <tr>\n",
              "      <th>1</th>\n",
              "      <td>RESULTS</td>\n",
              "      <td>a post hoc analysis was conducted with the use...</td>\n",
              "      <td>1</td>\n",
              "      <td>8</td>\n",
              "    </tr>\n",
              "    <tr>\n",
              "      <th>2</th>\n",
              "      <td>RESULTS</td>\n",
              "      <td>liver function tests ( lfts ) were measured at...</td>\n",
              "      <td>2</td>\n",
              "      <td>8</td>\n",
              "    </tr>\n",
              "    <tr>\n",
              "      <th>3</th>\n",
              "      <td>RESULTS</td>\n",
              "      <td>survival analyses were used to assess the asso...</td>\n",
              "      <td>3</td>\n",
              "      <td>8</td>\n",
              "    </tr>\n",
              "    <tr>\n",
              "      <th>4</th>\n",
              "      <td>RESULTS</td>\n",
              "      <td>the percentage of patients with abnormal lfts ...</td>\n",
              "      <td>4</td>\n",
              "      <td>8</td>\n",
              "    </tr>\n",
              "  </tbody>\n",
              "</table>\n",
              "</div>"
            ],
            "text/plain": [
              "       target  ... total_lines\n",
              "0  BACKGROUND  ...           8\n",
              "1     RESULTS  ...           8\n",
              "2     RESULTS  ...           8\n",
              "3     RESULTS  ...           8\n",
              "4     RESULTS  ...           8\n",
              "\n",
              "[5 rows x 4 columns]"
            ]
          },
          "metadata": {},
          "execution_count": 69
        }
      ]
    },
    {
      "cell_type": "code",
      "metadata": {
        "colab": {
          "base_uri": "https://localhost:8080/"
        },
        "id": "KMdq-oF-e_nN",
        "outputId": "1c6981e1-5b2e-4037-e66d-cf70dee4712f"
      },
      "source": [
        "test_char_token_pos_data = tf.data.Dataset.from_tensor_slices((test_line_number_one_hot,\n",
        "                                                               test_total_lines_one_hot,\n",
        "                                                               test_sentences,\n",
        "                                                               test_chars))\n",
        "test_char_token_pos_labels = tf.data.Dataset.from_tensor_slices(test_labels_one_hot)\n",
        "test_char_token_pos_dataset = tf.data.Dataset.zip((test_char_token_pos_data, test_char_token_pos_labels))\n",
        "test_char_token_pos_dataset = test_char_token_pos_dataset.batch(32).prefetch(tf.data.AUTOTUNE)\n",
        "\n",
        "test_char_token_pos_dataset"
      ],
      "execution_count": null,
      "outputs": [
        {
          "output_type": "execute_result",
          "data": {
            "text/plain": [
              "<PrefetchDataset shapes: (((None, 15), (None, 20), (None,), (None,)), (None, 5)), types: ((tf.float32, tf.float32, tf.string, tf.string), tf.float64)>"
            ]
          },
          "metadata": {},
          "execution_count": 89
        }
      ]
    },
    {
      "cell_type": "code",
      "metadata": {
        "colab": {
          "base_uri": "https://localhost:8080/"
        },
        "id": "q5DEVbWbgCyC",
        "outputId": "64ddde35-947f-41fc-bb41-b215e4ba2e97"
      },
      "source": [
        "loaded_model.evaluate(test_char_token_pos_dataset)"
      ],
      "execution_count": null,
      "outputs": [
        {
          "output_type": "stream",
          "name": "stdout",
          "text": [
            "942/942 [==============================] - 213s 226ms/step - loss: 0.9558 - accuracy: 0.8240\n"
          ]
        },
        {
          "output_type": "execute_result",
          "data": {
            "text/plain": [
              "[0.9558374285697937, 0.8239588737487793]"
            ]
          },
          "metadata": {},
          "execution_count": 91
        }
      ]
    },
    {
      "cell_type": "code",
      "metadata": {
        "colab": {
          "base_uri": "https://localhost:8080/"
        },
        "id": "whGuTveQqpP3",
        "outputId": "51b7d9f7-86c9-4812-f0f5-55571d9ef319"
      },
      "source": [
        "# make predictions\n",
        "loaded_model_pred_probs = loaded_model.predict(test_char_token_pos_dataset)\n",
        "loaded_model_pred_probs"
      ],
      "execution_count": null,
      "outputs": [
        {
          "output_type": "execute_result",
          "data": {
            "text/plain": [
              "array([[0.29455352, 0.08479647, 0.04158431, 0.51307744, 0.06598823],\n",
              "       [0.28619692, 0.07009872, 0.29603702, 0.3105397 , 0.03712765],\n",
              "       [0.05511272, 0.02543881, 0.801705  , 0.08280668, 0.03493682],\n",
              "       ...,\n",
              "       [0.06925276, 0.07957347, 0.07673086, 0.04602826, 0.72841465],\n",
              "       [0.06247636, 0.07749142, 0.09398694, 0.04041789, 0.72562736],\n",
              "       [0.07519376, 0.47618854, 0.19286115, 0.0464907 , 0.2092658 ]],\n",
              "      dtype=float32)"
            ]
          },
          "metadata": {},
          "execution_count": 92
        }
      ]
    },
    {
      "cell_type": "code",
      "metadata": {
        "colab": {
          "base_uri": "https://localhost:8080/"
        },
        "id": "PE-UEQ9jqpGR",
        "outputId": "e9578eb3-108b-4913-8670-c4cd1d7c5b90"
      },
      "source": [
        "loaded_model_pred = tf.argmax(loaded_model_pred_probs, axis=1)\n",
        "loaded_model_pred"
      ],
      "execution_count": null,
      "outputs": [
        {
          "output_type": "execute_result",
          "data": {
            "text/plain": [
              "<tf.Tensor: shape=(30135,), dtype=int64, numpy=array([3, 3, 2, ..., 4, 4, 1])>"
            ]
          },
          "metadata": {},
          "execution_count": 93
        }
      ]
    },
    {
      "cell_type": "code",
      "metadata": {
        "id": "Cu9Aoug2qo6y"
      },
      "source": [
        ""
      ],
      "execution_count": null,
      "outputs": []
    },
    {
      "cell_type": "markdown",
      "metadata": {
        "id": "rdGTRkqBoehT"
      },
      "source": [
        "#2.Find the most wrong predictons from 1 (these are the samples where the model has predicted the wrong label with the highest prediction probability)"
      ]
    },
    {
      "cell_type": "code",
      "metadata": {
        "colab": {
          "base_uri": "https://localhost:8080/",
          "height": 206
        },
        "id": "WSHiou6lg-w_",
        "outputId": "c2c6099d-3add-4be0-98c9-0f5eab39cfa0"
      },
      "source": [
        "# make a dataframe of different parameters\n",
        "df = pd.DataFrame({\n",
        "    \"text\" : test_sentences,\n",
        "    \"y_true\" : test_labels_encoded,\n",
        "    \"y_pred\" : loaded_model_pred,\n",
        "    \"pred_probs\" : loaded_model_pred_probs.max(axis=1)\n",
        "})\n",
        "\n",
        "df.head()"
      ],
      "execution_count": null,
      "outputs": [
        {
          "output_type": "execute_result",
          "data": {
            "text/html": [
              "<div>\n",
              "<style scoped>\n",
              "    .dataframe tbody tr th:only-of-type {\n",
              "        vertical-align: middle;\n",
              "    }\n",
              "\n",
              "    .dataframe tbody tr th {\n",
              "        vertical-align: top;\n",
              "    }\n",
              "\n",
              "    .dataframe thead th {\n",
              "        text-align: right;\n",
              "    }\n",
              "</style>\n",
              "<table border=\"1\" class=\"dataframe\">\n",
              "  <thead>\n",
              "    <tr style=\"text-align: right;\">\n",
              "      <th></th>\n",
              "      <th>text</th>\n",
              "      <th>y_true</th>\n",
              "      <th>y_pred</th>\n",
              "      <th>pred_probs</th>\n",
              "    </tr>\n",
              "  </thead>\n",
              "  <tbody>\n",
              "    <tr>\n",
              "      <th>0</th>\n",
              "      <td>this study analyzed liver function abnormaliti...</td>\n",
              "      <td>0</td>\n",
              "      <td>3</td>\n",
              "      <td>0.513077</td>\n",
              "    </tr>\n",
              "    <tr>\n",
              "      <th>1</th>\n",
              "      <td>a post hoc analysis was conducted with the use...</td>\n",
              "      <td>4</td>\n",
              "      <td>3</td>\n",
              "      <td>0.310540</td>\n",
              "    </tr>\n",
              "    <tr>\n",
              "      <th>2</th>\n",
              "      <td>liver function tests ( lfts ) were measured at...</td>\n",
              "      <td>4</td>\n",
              "      <td>2</td>\n",
              "      <td>0.801705</td>\n",
              "    </tr>\n",
              "    <tr>\n",
              "      <th>3</th>\n",
              "      <td>survival analyses were used to assess the asso...</td>\n",
              "      <td>4</td>\n",
              "      <td>2</td>\n",
              "      <td>0.627319</td>\n",
              "    </tr>\n",
              "    <tr>\n",
              "      <th>4</th>\n",
              "      <td>the percentage of patients with abnormal lfts ...</td>\n",
              "      <td>4</td>\n",
              "      <td>4</td>\n",
              "      <td>0.718288</td>\n",
              "    </tr>\n",
              "  </tbody>\n",
              "</table>\n",
              "</div>"
            ],
            "text/plain": [
              "                                                text  ...  pred_probs\n",
              "0  this study analyzed liver function abnormaliti...  ...    0.513077\n",
              "1  a post hoc analysis was conducted with the use...  ...    0.310540\n",
              "2  liver function tests ( lfts ) were measured at...  ...    0.801705\n",
              "3  survival analyses were used to assess the asso...  ...    0.627319\n",
              "4  the percentage of patients with abnormal lfts ...  ...    0.718288\n",
              "\n",
              "[5 rows x 4 columns]"
            ]
          },
          "metadata": {},
          "execution_count": 107
        }
      ]
    },
    {
      "cell_type": "code",
      "metadata": {
        "colab": {
          "base_uri": "https://localhost:8080/",
          "height": 206
        },
        "id": "CdLIWiAKrKQr",
        "outputId": "4ab59a72-e7af-484f-d14a-01d28da4cd4e"
      },
      "source": [
        "# adding a column in dataframe that tells whether the predictions is true or not\n",
        "df[\"pred_correct\"] = df[\"y_true\"] == df[\"y_pred\"]\n",
        "df.head()"
      ],
      "execution_count": null,
      "outputs": [
        {
          "output_type": "execute_result",
          "data": {
            "text/html": [
              "<div>\n",
              "<style scoped>\n",
              "    .dataframe tbody tr th:only-of-type {\n",
              "        vertical-align: middle;\n",
              "    }\n",
              "\n",
              "    .dataframe tbody tr th {\n",
              "        vertical-align: top;\n",
              "    }\n",
              "\n",
              "    .dataframe thead th {\n",
              "        text-align: right;\n",
              "    }\n",
              "</style>\n",
              "<table border=\"1\" class=\"dataframe\">\n",
              "  <thead>\n",
              "    <tr style=\"text-align: right;\">\n",
              "      <th></th>\n",
              "      <th>text</th>\n",
              "      <th>y_true</th>\n",
              "      <th>y_pred</th>\n",
              "      <th>pred_probs</th>\n",
              "      <th>pred_correct</th>\n",
              "    </tr>\n",
              "  </thead>\n",
              "  <tbody>\n",
              "    <tr>\n",
              "      <th>0</th>\n",
              "      <td>this study analyzed liver function abnormaliti...</td>\n",
              "      <td>0</td>\n",
              "      <td>3</td>\n",
              "      <td>0.513077</td>\n",
              "      <td>False</td>\n",
              "    </tr>\n",
              "    <tr>\n",
              "      <th>1</th>\n",
              "      <td>a post hoc analysis was conducted with the use...</td>\n",
              "      <td>4</td>\n",
              "      <td>3</td>\n",
              "      <td>0.310540</td>\n",
              "      <td>False</td>\n",
              "    </tr>\n",
              "    <tr>\n",
              "      <th>2</th>\n",
              "      <td>liver function tests ( lfts ) were measured at...</td>\n",
              "      <td>4</td>\n",
              "      <td>2</td>\n",
              "      <td>0.801705</td>\n",
              "      <td>False</td>\n",
              "    </tr>\n",
              "    <tr>\n",
              "      <th>3</th>\n",
              "      <td>survival analyses were used to assess the asso...</td>\n",
              "      <td>4</td>\n",
              "      <td>2</td>\n",
              "      <td>0.627319</td>\n",
              "      <td>False</td>\n",
              "    </tr>\n",
              "    <tr>\n",
              "      <th>4</th>\n",
              "      <td>the percentage of patients with abnormal lfts ...</td>\n",
              "      <td>4</td>\n",
              "      <td>4</td>\n",
              "      <td>0.718288</td>\n",
              "      <td>True</td>\n",
              "    </tr>\n",
              "  </tbody>\n",
              "</table>\n",
              "</div>"
            ],
            "text/plain": [
              "                                                text  ...  pred_correct\n",
              "0  this study analyzed liver function abnormaliti...  ...         False\n",
              "1  a post hoc analysis was conducted with the use...  ...         False\n",
              "2  liver function tests ( lfts ) were measured at...  ...         False\n",
              "3  survival analyses were used to assess the asso...  ...         False\n",
              "4  the percentage of patients with abnormal lfts ...  ...          True\n",
              "\n",
              "[5 rows x 5 columns]"
            ]
          },
          "metadata": {},
          "execution_count": 108
        }
      ]
    },
    {
      "cell_type": "code",
      "metadata": {
        "colab": {
          "base_uri": "https://localhost:8080/",
          "height": 206
        },
        "id": "sH2lPtyZteuM",
        "outputId": "cfc0747b-003d-4deb-c66a-9c952f959a70"
      },
      "source": [
        "most_wrong_df = df[df[\"pred_correct\"] == False].sort_values(\"pred_probs\", ascending=False)\n",
        "most_wrong_df.head()"
      ],
      "execution_count": null,
      "outputs": [
        {
          "output_type": "execute_result",
          "data": {
            "text/html": [
              "<div>\n",
              "<style scoped>\n",
              "    .dataframe tbody tr th:only-of-type {\n",
              "        vertical-align: middle;\n",
              "    }\n",
              "\n",
              "    .dataframe tbody tr th {\n",
              "        vertical-align: top;\n",
              "    }\n",
              "\n",
              "    .dataframe thead th {\n",
              "        text-align: right;\n",
              "    }\n",
              "</style>\n",
              "<table border=\"1\" class=\"dataframe\">\n",
              "  <thead>\n",
              "    <tr style=\"text-align: right;\">\n",
              "      <th></th>\n",
              "      <th>text</th>\n",
              "      <th>y_true</th>\n",
              "      <th>y_pred</th>\n",
              "      <th>pred_probs</th>\n",
              "      <th>pred_correct</th>\n",
              "    </tr>\n",
              "  </thead>\n",
              "  <tbody>\n",
              "    <tr>\n",
              "      <th>16347</th>\n",
              "      <td>to evaluate the effects of the lactic acid bac...</td>\n",
              "      <td>0</td>\n",
              "      <td>3</td>\n",
              "      <td>0.944838</td>\n",
              "      <td>False</td>\n",
              "    </tr>\n",
              "    <tr>\n",
              "      <th>13874</th>\n",
              "      <td>symptom outcomes will be assessed and estimate...</td>\n",
              "      <td>1</td>\n",
              "      <td>2</td>\n",
              "      <td>0.941099</td>\n",
              "      <td>False</td>\n",
              "    </tr>\n",
              "    <tr>\n",
              "      <th>1221</th>\n",
              "      <td>data were collected prospectively for @ months...</td>\n",
              "      <td>4</td>\n",
              "      <td>2</td>\n",
              "      <td>0.928523</td>\n",
              "      <td>False</td>\n",
              "    </tr>\n",
              "    <tr>\n",
              "      <th>13598</th>\n",
              "      <td>-@ % vs. fish : -@ % vs. fish + s : -@ % ; p &lt;...</td>\n",
              "      <td>2</td>\n",
              "      <td>4</td>\n",
              "      <td>0.918107</td>\n",
              "      <td>False</td>\n",
              "    </tr>\n",
              "    <tr>\n",
              "      <th>21382</th>\n",
              "      <td>design , settings , participants , and interve...</td>\n",
              "      <td>3</td>\n",
              "      <td>2</td>\n",
              "      <td>0.918088</td>\n",
              "      <td>False</td>\n",
              "    </tr>\n",
              "  </tbody>\n",
              "</table>\n",
              "</div>"
            ],
            "text/plain": [
              "                                                    text  ...  pred_correct\n",
              "16347  to evaluate the effects of the lactic acid bac...  ...         False\n",
              "13874  symptom outcomes will be assessed and estimate...  ...         False\n",
              "1221   data were collected prospectively for @ months...  ...         False\n",
              "13598  -@ % vs. fish : -@ % vs. fish + s : -@ % ; p <...  ...         False\n",
              "21382  design , settings , participants , and interve...  ...         False\n",
              "\n",
              "[5 rows x 5 columns]"
            ]
          },
          "metadata": {},
          "execution_count": 110
        }
      ]
    },
    {
      "cell_type": "code",
      "metadata": {
        "colab": {
          "base_uri": "https://localhost:8080/"
        },
        "id": "dwlx18z-t9NU",
        "outputId": "7fd68ac7-d6a9-47a9-d07e-b4b30e6bce00"
      },
      "source": [
        "len(df), len(most_wrong_df)"
      ],
      "execution_count": null,
      "outputs": [
        {
          "output_type": "execute_result",
          "data": {
            "text/plain": [
              "(30135, 5305)"
            ]
          },
          "metadata": {},
          "execution_count": 111
        }
      ]
    },
    {
      "cell_type": "code",
      "metadata": {
        "colab": {
          "base_uri": "https://localhost:8080/"
        },
        "id": "LSPf3ZlQv00q",
        "outputId": "24c5bf19-608f-4b39-8220-ea9986566a54"
      },
      "source": [
        "random.choice(most_wrong_df.to_numpy())"
      ],
      "execution_count": null,
      "outputs": [
        {
          "output_type": "execute_result",
          "data": {
            "text/plain": [
              "array([\"panel inter-rater agreement and patient-panel correlation was assessed using kendall 's coefficient of concordance and spearman 's rank correlation tests respectively .\",\n",
              "       2, 4, 0.5267096161842346, False], dtype=object)"
            ]
          },
          "metadata": {},
          "execution_count": 118
        }
      ]
    },
    {
      "cell_type": "code",
      "metadata": {
        "colab": {
          "base_uri": "https://localhost:8080/"
        },
        "id": "pQIiTn8FvEqg",
        "outputId": "5696e3f3-7ab4-4e9b-d582-991b2ec99368"
      },
      "source": [
        "# visulaizing the wrong samples\n",
        "import random\n",
        "for i in range(3):\n",
        "  target = random.choice(most_wrong_df.to_numpy())\n",
        "  print(f\"Text:\\n{target[0]}\\n\")\n",
        "  print(f\"True_label: {class_names[target[1]]}\")\n",
        "  print(f\"Pred_label: {class_names[target[2]]}\")\n",
        "  print(\"---------------------\\n\")"
      ],
      "execution_count": null,
      "outputs": [
        {
          "output_type": "stream",
          "name": "stdout",
          "text": [
            "Text:\n",
            "the purpose of this study was to compare aroma-acupressure and aromatherapy with respect to their effects on agitation in patients with dementia .\n",
            "\n",
            "True_label: BACKGROUND\n",
            "Pred_label: OBJECTIVE\n",
            "---------------------\n",
            "\n",
            "Text:\n",
            "after iv administration of atropine ( @ mg/kg ) , anesthesia was induced with an infusion of dexmedetomidine ( @ g/kg ) over @ minutes for group d , whereas normal saline was infused for group p. propofol ( @ mg/kg ) was then injected iv over @ to @ seconds , followed by an infusion of remifentanil ( @ g/kg ) over @ minute for both groups .\n",
            "\n",
            "True_label: METHODS\n",
            "Pred_label: RESULTS\n",
            "---------------------\n",
            "\n",
            "Text:\n",
            "we hypothesise that the less invasive endoscopic step-up approach is superior to the surgical step-up approach in terms of clinical and economic outcomes .\n",
            "\n",
            "True_label: BACKGROUND\n",
            "Pred_label: CONCLUSIONS\n",
            "---------------------\n",
            "\n"
          ]
        }
      ]
    },
    {
      "cell_type": "markdown",
      "metadata": {
        "id": "JHXAvzanyeSd"
      },
      "source": [
        "# 3.Make example predictions (on RCT from the wild), you can go to PubMed.find and use our model to predict on 3-4 different abstracts from the wild"
      ]
    },
    {
      "cell_type": "markdown",
      "metadata": {
        "id": "Evp434Tg3NAG"
      },
      "source": [
        "#***Exercise***"
      ]
    },
    {
      "cell_type": "markdown",
      "metadata": {
        "id": "spwrzX3y4nUV"
      },
      "source": [
        "## Q-1\n",
        "> Train model_5 on all of the data in the training dataset for as many epochs until it stops improving. Since this might take a while, you might want to use:\n",
        "\n",
        "\n",
        "* `tf.keras.callbacks.ModelCheckpoint` to save the model's best weights only.\n",
        "* `tf.keras.callbacks.EarlyStopping ` to stop the model from training once the validation loss has stopped improving for ~3 epochs.\n"
      ]
    },
    {
      "cell_type": "code",
      "metadata": {
        "id": "0g7OLIM6jHml"
      },
      "source": [
        "# create model checkpoint callback\n",
        "file_path = \"model_Checkpoints/checkpoint.ckpt\"\n",
        "model_checkpoint = tf.keras.callbacks.ModelCheckpoint(filepath=file_path,\n",
        "                                                      save_best_only=True,\n",
        "                                                      save_weights_only=True)"
      ],
      "execution_count": null,
      "outputs": []
    },
    {
      "cell_type": "code",
      "metadata": {
        "id": "pRWdAKZbkWu8"
      },
      "source": [
        "# create early stopping callback\n",
        "early_stopping = tf.keras.callbacks.EarlyStopping(monitor='val_loss',\n",
        "                                                  patience=3)"
      ],
      "execution_count": null,
      "outputs": []
    },
    {
      "cell_type": "code",
      "metadata": {
        "colab": {
          "base_uri": "https://localhost:8080/"
        },
        "id": "LWGu-wrb3Shv",
        "outputId": "5c91a183-4afe-4e26-ee90-a49e5745d139"
      },
      "source": [
        "model_5.fit(train_char_token_pos_dataset,\n",
        "            epochs=20,\n",
        "            steps_per_epoch=len(train_char_token_pos_dataset),\n",
        "            validation_data=val_char_token_pos_dataset,\n",
        "            validation_steps=len(val_char_token_pos_dataset),\n",
        "            callbacks=[model_checkpoint,\n",
        "                       early_stopping])"
      ],
      "execution_count": null,
      "outputs": [
        {
          "output_type": "stream",
          "name": "stdout",
          "text": [
            "Epoch 1/20\n",
            "5627/5627 [==============================] - 730s 130ms/step - loss: 1.0643 - accuracy: 0.7379 - val_loss: 0.9810 - val_accuracy: 0.7860\n",
            "Epoch 2/20\n",
            "5627/5627 [==============================] - 722s 128ms/step - loss: 0.9886 - accuracy: 0.7747 - val_loss: 0.9517 - val_accuracy: 0.8029\n",
            "Epoch 3/20\n",
            "5627/5627 [==============================] - 725s 129ms/step - loss: 0.9626 - accuracy: 0.7956 - val_loss: 0.9369 - val_accuracy: 0.8183\n",
            "Epoch 4/20\n",
            "5627/5627 [==============================] - 727s 129ms/step - loss: 0.9483 - accuracy: 0.8049 - val_loss: 0.9289 - val_accuracy: 0.8219\n",
            "Epoch 5/20\n",
            "5627/5627 [==============================] - 721s 128ms/step - loss: 0.9358 - accuracy: 0.8125 - val_loss: 0.9300 - val_accuracy: 0.8217\n",
            "Epoch 6/20\n",
            "5627/5627 [==============================] - 732s 130ms/step - loss: 0.9283 - accuracy: 0.8195 - val_loss: 0.9232 - val_accuracy: 0.8247\n",
            "Epoch 7/20\n",
            "5627/5627 [==============================] - 740s 132ms/step - loss: 0.9173 - accuracy: 0.8296 - val_loss: 0.9200 - val_accuracy: 0.8268\n",
            "Epoch 8/20\n",
            "5627/5627 [==============================] - 733s 130ms/step - loss: 0.9090 - accuracy: 0.8375 - val_loss: 0.9194 - val_accuracy: 0.8271\n",
            "Epoch 9/20\n",
            "5627/5627 [==============================] - 721s 128ms/step - loss: 0.9026 - accuracy: 0.8421 - val_loss: 0.9167 - val_accuracy: 0.8285\n",
            "Epoch 10/20\n",
            "5627/5627 [==============================] - 721s 128ms/step - loss: 0.8972 - accuracy: 0.8461 - val_loss: 0.9157 - val_accuracy: 0.8306\n",
            "Epoch 11/20\n",
            "5627/5627 [==============================] - 721s 128ms/step - loss: 0.8956 - accuracy: 0.8469 - val_loss: 0.9146 - val_accuracy: 0.8320\n",
            "Epoch 12/20\n",
            "5627/5627 [==============================] - 727s 129ms/step - loss: 0.8906 - accuracy: 0.8504 - val_loss: 0.9152 - val_accuracy: 0.8305\n",
            "Epoch 13/20\n",
            "5627/5627 [==============================] - 725s 129ms/step - loss: 0.8874 - accuracy: 0.8522 - val_loss: 0.9174 - val_accuracy: 0.8315\n",
            "Epoch 14/20\n",
            "5627/5627 [==============================] - 730s 130ms/step - loss: 0.8839 - accuracy: 0.8555 - val_loss: 0.9179 - val_accuracy: 0.8320\n"
          ]
        },
        {
          "output_type": "execute_result",
          "data": {
            "text/plain": [
              "<keras.callbacks.History at 0x7fe8c3301390>"
            ]
          },
          "metadata": {},
          "execution_count": 106
        }
      ]
    },
    {
      "cell_type": "code",
      "metadata": {
        "colab": {
          "base_uri": "https://localhost:8080/"
        },
        "id": "ITekuSJ7SUeC",
        "outputId": "ac5a78e0-2b1e-4d8e-bdd1-fd5ca33329e8"
      },
      "source": [
        "all_data_result = model_5.evaluate(val_char_token_pos_dataset)\n",
        "all_data_result"
      ],
      "execution_count": null,
      "outputs": [
        {
          "output_type": "stream",
          "name": "stdout",
          "text": [
            "945/945 [==============================] - 52s 54ms/step - loss: 0.9179 - accuracy: 0.8320\n"
          ]
        },
        {
          "output_type": "execute_result",
          "data": {
            "text/plain": [
              "[0.9179132580757141, 0.8320204019546509]"
            ]
          },
          "metadata": {},
          "execution_count": 108
        }
      ]
    },
    {
      "cell_type": "markdown",
      "metadata": {
        "id": "uYIdzqowNKJW"
      },
      "source": [
        "## Q-2\n",
        ">Checkout the Keras guide on using pretrained GloVe embeddings. Can you get this working with one of our models?\n",
        "\n",
        "* Hint: You'll want to incorporate it with a custom token Embedding layer.\n",
        "* It's up to you whether or not you fine-tune the GloVe embeddings or leave them frozen."
      ]
    },
    {
      "cell_type": "code",
      "metadata": {
        "id": "O1NSgm_wrIG1"
      },
      "source": [
        ""
      ],
      "execution_count": null,
      "outputs": []
    },
    {
      "cell_type": "markdown",
      "metadata": {
        "id": "tBE0P3X8TSs3"
      },
      "source": [
        "## Q-3\n",
        ">Try replacing the TensorFlow Hub Universal Sentence Encoder pretrained embedding for the TensorFlow Hub BERT PubMed expert (a language model pretrained on PubMed texts) pretrained embedding. Does this effect results?\n",
        "\n",
        "* Note: Using the BERT PubMed expert pretrained embedding requires an extra preprocessing step for sequences (as detailed in the TensorFlow Hub guide).\n",
        "* Does the BERT model beat the results mentioned in this paper?"
      ]
    },
    {
      "cell_type": "code",
      "metadata": {
        "id": "XOeCofrCTbpC",
        "colab": {
          "base_uri": "https://localhost:8080/"
        },
        "outputId": "45c6d265-1ba9-4111-cdcc-7917251b46e2"
      },
      "source": [
        "!pip3 install --quiet tensorflow-text\n",
        "\n",
        "# Load the BERT encoder and preprocessing models\n",
        "import tensorflow_hub as hub\n",
        "import tensorflow_text as text # Imports TF ops for preprocessing.\n",
        "\n",
        "bert_layer = hub.KerasLayer(handle=\"https://tfhub.dev/google/experts/bert/pubmed/2\",\n",
        "                            trainable=False,\n",
        "                            name=\"BERT\")\n",
        "\n",
        "preprocess = hub.KerasLayer(handle=\"https://tfhub.dev/tensorflow/bert_en_uncased_preprocess/3\",\n",
        "                            trainable=False,\n",
        "                            name=\"preprocess\")"
      ],
      "execution_count": null,
      "outputs": [
        {
          "output_type": "stream",
          "name": "stdout",
          "text": [
            "\u001b[K     |████████████████████████████████| 4.4 MB 4.1 MB/s \n",
            "\u001b[?25h"
          ]
        }
      ]
    },
    {
      "cell_type": "code",
      "metadata": {
        "colab": {
          "base_uri": "https://localhost:8080/"
        },
        "id": "-3BEZRGd_dau",
        "outputId": "6525dead-d31b-4819-b0b5-b3e560e0e95e"
      },
      "source": [
        "# build the model\n",
        "inputs = tf.keras.Input(shape=(), dtype=tf.string)\n",
        "x = preprocess(inputs)\n",
        "x = bert_layer(x) # returns a dict \n",
        "outputs = tf.keras.layers.Dense(5, activation=\"softmax\")(x[\"pooled_output\"]) # get pool_output from dict\n",
        "# create the model\n",
        "bert_model = tf.keras.Model(inputs, outputs, name=\"Bert_model\")\n",
        "\n",
        "# get model summary()\n",
        "bert_model.summary()"
      ],
      "execution_count": null,
      "outputs": [
        {
          "output_type": "stream",
          "name": "stdout",
          "text": [
            "Model: \"Bert_model\"\n",
            "__________________________________________________________________________________________________\n",
            "Layer (type)                    Output Shape         Param #     Connected to                     \n",
            "==================================================================================================\n",
            "input_1 (InputLayer)            [(None,)]            0                                            \n",
            "__________________________________________________________________________________________________\n",
            "preprocess (KerasLayer)         {'input_word_ids': ( 0           input_1[0][0]                    \n",
            "__________________________________________________________________________________________________\n",
            "BERT (KerasLayer)               {'pooled_output': (N 109482241   preprocess[0][0]                 \n",
            "                                                                 preprocess[0][1]                 \n",
            "                                                                 preprocess[0][2]                 \n",
            "__________________________________________________________________________________________________\n",
            "dense (Dense)                   (None, 5)            3845        BERT[0][13]                      \n",
            "==================================================================================================\n",
            "Total params: 109,486,086\n",
            "Trainable params: 3,845\n",
            "Non-trainable params: 109,482,241\n",
            "__________________________________________________________________________________________________\n"
          ]
        }
      ]
    },
    {
      "cell_type": "code",
      "metadata": {
        "id": "9oEJV5z4JtNc"
      },
      "source": [
        "# compile the model \n",
        "bert_model.compile(\n",
        "    loss=tf.keras.losses.CategoricalCrossentropy(),\n",
        "    optimizer=tf.keras.optimizers.Adam(),\n",
        "    metrics=[\"accuracy\"]\n",
        ")"
      ],
      "execution_count": null,
      "outputs": []
    },
    {
      "cell_type": "code",
      "metadata": {
        "id": "JOii0DRnYMEI"
      },
      "source": [
        "# prefetech the training data\n",
        "train_dataset = tf.data.Dataset.from_tensor_slices((train_sentences, train_labels_one_hot))\n",
        "trian_dataset = train_dataset.batch(32).prefetch(tf.data.AUTOTUNE)\n",
        "\n",
        "# prefetch the validation data\n",
        "val_dataset = tf.data.Dataset.from_tensor_slices((val_sentences, val_labels_one_hot))\n",
        "val_dataset = val_dataset.batch(32).prefetch(tf.data.AUTOTUNE)"
      ],
      "execution_count": null,
      "outputs": []
    },
    {
      "cell_type": "code",
      "metadata": {
        "colab": {
          "base_uri": "https://localhost:8080/"
        },
        "id": "KW4loe1hZhWI",
        "outputId": "6b11d3b1-13dd-40c7-f1ba-736db0773a71"
      },
      "source": [
        "val_dataset"
      ],
      "execution_count": null,
      "outputs": [
        {
          "output_type": "execute_result",
          "data": {
            "text/plain": [
              "<PrefetchDataset shapes: ((None,), (None, 5)), types: (tf.string, tf.float64)>"
            ]
          },
          "metadata": {},
          "execution_count": 35
        }
      ]
    },
    {
      "cell_type": "code",
      "metadata": {
        "colab": {
          "base_uri": "https://localhost:8080/",
          "height": 1000
        },
        "id": "tiHeY_s3Xa1a",
        "outputId": "efdf1c56-09fe-4683-d3ce-155c891dd432"
      },
      "source": [
        "# fit the model \n",
        "bert_model.fit(train_dataset,\n",
        "               epochs=3)"
      ],
      "execution_count": null,
      "outputs": [
        {
          "output_type": "stream",
          "name": "stdout",
          "text": [
            "Epoch 1/3\n",
            "WARNING:tensorflow:Model was constructed with shape (None,) for input KerasTensor(type_spec=TensorSpec(shape=(None,), dtype=tf.string, name='input_1'), name='input_1', description=\"created by layer 'input_1'\"), but it was called on an input with incompatible shape ().\n"
          ]
        },
        {
          "output_type": "stream",
          "name": "stderr",
          "text": [
            "WARNING:tensorflow:Model was constructed with shape (None,) for input KerasTensor(type_spec=TensorSpec(shape=(None,), dtype=tf.string, name='input_1'), name='input_1', description=\"created by layer 'input_1'\"), but it was called on an input with incompatible shape ().\n"
          ]
        },
        {
          "output_type": "error",
          "ename": "ValueError",
          "evalue": "ignored",
          "traceback": [
            "\u001b[0;31m---------------------------------------------------------------------------\u001b[0m",
            "\u001b[0;31mValueError\u001b[0m                                Traceback (most recent call last)",
            "\u001b[0;32m<ipython-input-36-5d7c1f29ea77>\u001b[0m in \u001b[0;36m<module>\u001b[0;34m()\u001b[0m\n\u001b[1;32m      1\u001b[0m \u001b[0;31m# fit the model\u001b[0m\u001b[0;34m\u001b[0m\u001b[0;34m\u001b[0m\u001b[0;34m\u001b[0m\u001b[0m\n\u001b[1;32m      2\u001b[0m bert_model.fit(train_dataset,\n\u001b[0;32m----> 3\u001b[0;31m                epochs=3)\n\u001b[0m",
            "\u001b[0;32m/usr/local/lib/python3.7/dist-packages/keras/engine/training.py\u001b[0m in \u001b[0;36mfit\u001b[0;34m(self, x, y, batch_size, epochs, verbose, callbacks, validation_split, validation_data, shuffle, class_weight, sample_weight, initial_epoch, steps_per_epoch, validation_steps, validation_batch_size, validation_freq, max_queue_size, workers, use_multiprocessing)\u001b[0m\n\u001b[1;32m   1182\u001b[0m                 _r=1):\n\u001b[1;32m   1183\u001b[0m               \u001b[0mcallbacks\u001b[0m\u001b[0;34m.\u001b[0m\u001b[0mon_train_batch_begin\u001b[0m\u001b[0;34m(\u001b[0m\u001b[0mstep\u001b[0m\u001b[0;34m)\u001b[0m\u001b[0;34m\u001b[0m\u001b[0;34m\u001b[0m\u001b[0m\n\u001b[0;32m-> 1184\u001b[0;31m               \u001b[0mtmp_logs\u001b[0m \u001b[0;34m=\u001b[0m \u001b[0mself\u001b[0m\u001b[0;34m.\u001b[0m\u001b[0mtrain_function\u001b[0m\u001b[0;34m(\u001b[0m\u001b[0miterator\u001b[0m\u001b[0;34m)\u001b[0m\u001b[0;34m\u001b[0m\u001b[0;34m\u001b[0m\u001b[0m\n\u001b[0m\u001b[1;32m   1185\u001b[0m               \u001b[0;32mif\u001b[0m \u001b[0mdata_handler\u001b[0m\u001b[0;34m.\u001b[0m\u001b[0mshould_sync\u001b[0m\u001b[0;34m:\u001b[0m\u001b[0;34m\u001b[0m\u001b[0;34m\u001b[0m\u001b[0m\n\u001b[1;32m   1186\u001b[0m                 \u001b[0mcontext\u001b[0m\u001b[0;34m.\u001b[0m\u001b[0masync_wait\u001b[0m\u001b[0;34m(\u001b[0m\u001b[0;34m)\u001b[0m\u001b[0;34m\u001b[0m\u001b[0;34m\u001b[0m\u001b[0m\n",
            "\u001b[0;32m/usr/local/lib/python3.7/dist-packages/tensorflow/python/eager/def_function.py\u001b[0m in \u001b[0;36m__call__\u001b[0;34m(self, *args, **kwds)\u001b[0m\n\u001b[1;32m    883\u001b[0m \u001b[0;34m\u001b[0m\u001b[0m\n\u001b[1;32m    884\u001b[0m       \u001b[0;32mwith\u001b[0m \u001b[0mOptionalXlaContext\u001b[0m\u001b[0;34m(\u001b[0m\u001b[0mself\u001b[0m\u001b[0;34m.\u001b[0m\u001b[0m_jit_compile\u001b[0m\u001b[0;34m)\u001b[0m\u001b[0;34m:\u001b[0m\u001b[0;34m\u001b[0m\u001b[0;34m\u001b[0m\u001b[0m\n\u001b[0;32m--> 885\u001b[0;31m         \u001b[0mresult\u001b[0m \u001b[0;34m=\u001b[0m \u001b[0mself\u001b[0m\u001b[0;34m.\u001b[0m\u001b[0m_call\u001b[0m\u001b[0;34m(\u001b[0m\u001b[0;34m*\u001b[0m\u001b[0margs\u001b[0m\u001b[0;34m,\u001b[0m \u001b[0;34m**\u001b[0m\u001b[0mkwds\u001b[0m\u001b[0;34m)\u001b[0m\u001b[0;34m\u001b[0m\u001b[0;34m\u001b[0m\u001b[0m\n\u001b[0m\u001b[1;32m    886\u001b[0m \u001b[0;34m\u001b[0m\u001b[0m\n\u001b[1;32m    887\u001b[0m       \u001b[0mnew_tracing_count\u001b[0m \u001b[0;34m=\u001b[0m \u001b[0mself\u001b[0m\u001b[0;34m.\u001b[0m\u001b[0mexperimental_get_tracing_count\u001b[0m\u001b[0;34m(\u001b[0m\u001b[0;34m)\u001b[0m\u001b[0;34m\u001b[0m\u001b[0;34m\u001b[0m\u001b[0m\n",
            "\u001b[0;32m/usr/local/lib/python3.7/dist-packages/tensorflow/python/eager/def_function.py\u001b[0m in \u001b[0;36m_call\u001b[0;34m(self, *args, **kwds)\u001b[0m\n\u001b[1;32m    931\u001b[0m       \u001b[0;31m# This is the first call of __call__, so we have to initialize.\u001b[0m\u001b[0;34m\u001b[0m\u001b[0;34m\u001b[0m\u001b[0;34m\u001b[0m\u001b[0m\n\u001b[1;32m    932\u001b[0m       \u001b[0minitializers\u001b[0m \u001b[0;34m=\u001b[0m \u001b[0;34m[\u001b[0m\u001b[0;34m]\u001b[0m\u001b[0;34m\u001b[0m\u001b[0;34m\u001b[0m\u001b[0m\n\u001b[0;32m--> 933\u001b[0;31m       \u001b[0mself\u001b[0m\u001b[0;34m.\u001b[0m\u001b[0m_initialize\u001b[0m\u001b[0;34m(\u001b[0m\u001b[0margs\u001b[0m\u001b[0;34m,\u001b[0m \u001b[0mkwds\u001b[0m\u001b[0;34m,\u001b[0m \u001b[0madd_initializers_to\u001b[0m\u001b[0;34m=\u001b[0m\u001b[0minitializers\u001b[0m\u001b[0;34m)\u001b[0m\u001b[0;34m\u001b[0m\u001b[0;34m\u001b[0m\u001b[0m\n\u001b[0m\u001b[1;32m    934\u001b[0m     \u001b[0;32mfinally\u001b[0m\u001b[0;34m:\u001b[0m\u001b[0;34m\u001b[0m\u001b[0;34m\u001b[0m\u001b[0m\n\u001b[1;32m    935\u001b[0m       \u001b[0;31m# At this point we know that the initialization is complete (or less\u001b[0m\u001b[0;34m\u001b[0m\u001b[0;34m\u001b[0m\u001b[0;34m\u001b[0m\u001b[0m\n",
            "\u001b[0;32m/usr/local/lib/python3.7/dist-packages/tensorflow/python/eager/def_function.py\u001b[0m in \u001b[0;36m_initialize\u001b[0;34m(self, args, kwds, add_initializers_to)\u001b[0m\n\u001b[1;32m    758\u001b[0m     self._concrete_stateful_fn = (\n\u001b[1;32m    759\u001b[0m         self._stateful_fn._get_concrete_function_internal_garbage_collected(  # pylint: disable=protected-access\n\u001b[0;32m--> 760\u001b[0;31m             *args, **kwds))\n\u001b[0m\u001b[1;32m    761\u001b[0m \u001b[0;34m\u001b[0m\u001b[0m\n\u001b[1;32m    762\u001b[0m     \u001b[0;32mdef\u001b[0m \u001b[0minvalid_creator_scope\u001b[0m\u001b[0;34m(\u001b[0m\u001b[0;34m*\u001b[0m\u001b[0munused_args\u001b[0m\u001b[0;34m,\u001b[0m \u001b[0;34m**\u001b[0m\u001b[0munused_kwds\u001b[0m\u001b[0;34m)\u001b[0m\u001b[0;34m:\u001b[0m\u001b[0;34m\u001b[0m\u001b[0;34m\u001b[0m\u001b[0m\n",
            "\u001b[0;32m/usr/local/lib/python3.7/dist-packages/tensorflow/python/eager/function.py\u001b[0m in \u001b[0;36m_get_concrete_function_internal_garbage_collected\u001b[0;34m(self, *args, **kwargs)\u001b[0m\n\u001b[1;32m   3064\u001b[0m       \u001b[0margs\u001b[0m\u001b[0;34m,\u001b[0m \u001b[0mkwargs\u001b[0m \u001b[0;34m=\u001b[0m \u001b[0;32mNone\u001b[0m\u001b[0;34m,\u001b[0m \u001b[0;32mNone\u001b[0m\u001b[0;34m\u001b[0m\u001b[0;34m\u001b[0m\u001b[0m\n\u001b[1;32m   3065\u001b[0m     \u001b[0;32mwith\u001b[0m \u001b[0mself\u001b[0m\u001b[0;34m.\u001b[0m\u001b[0m_lock\u001b[0m\u001b[0;34m:\u001b[0m\u001b[0;34m\u001b[0m\u001b[0;34m\u001b[0m\u001b[0m\n\u001b[0;32m-> 3066\u001b[0;31m       \u001b[0mgraph_function\u001b[0m\u001b[0;34m,\u001b[0m \u001b[0m_\u001b[0m \u001b[0;34m=\u001b[0m \u001b[0mself\u001b[0m\u001b[0;34m.\u001b[0m\u001b[0m_maybe_define_function\u001b[0m\u001b[0;34m(\u001b[0m\u001b[0margs\u001b[0m\u001b[0;34m,\u001b[0m \u001b[0mkwargs\u001b[0m\u001b[0;34m)\u001b[0m\u001b[0;34m\u001b[0m\u001b[0;34m\u001b[0m\u001b[0m\n\u001b[0m\u001b[1;32m   3067\u001b[0m     \u001b[0;32mreturn\u001b[0m \u001b[0mgraph_function\u001b[0m\u001b[0;34m\u001b[0m\u001b[0;34m\u001b[0m\u001b[0m\n\u001b[1;32m   3068\u001b[0m \u001b[0;34m\u001b[0m\u001b[0m\n",
            "\u001b[0;32m/usr/local/lib/python3.7/dist-packages/tensorflow/python/eager/function.py\u001b[0m in \u001b[0;36m_maybe_define_function\u001b[0;34m(self, args, kwargs)\u001b[0m\n\u001b[1;32m   3461\u001b[0m \u001b[0;34m\u001b[0m\u001b[0m\n\u001b[1;32m   3462\u001b[0m           \u001b[0mself\u001b[0m\u001b[0;34m.\u001b[0m\u001b[0m_function_cache\u001b[0m\u001b[0;34m.\u001b[0m\u001b[0mmissed\u001b[0m\u001b[0;34m.\u001b[0m\u001b[0madd\u001b[0m\u001b[0;34m(\u001b[0m\u001b[0mcall_context_key\u001b[0m\u001b[0;34m)\u001b[0m\u001b[0;34m\u001b[0m\u001b[0;34m\u001b[0m\u001b[0m\n\u001b[0;32m-> 3463\u001b[0;31m           \u001b[0mgraph_function\u001b[0m \u001b[0;34m=\u001b[0m \u001b[0mself\u001b[0m\u001b[0;34m.\u001b[0m\u001b[0m_create_graph_function\u001b[0m\u001b[0;34m(\u001b[0m\u001b[0margs\u001b[0m\u001b[0;34m,\u001b[0m \u001b[0mkwargs\u001b[0m\u001b[0;34m)\u001b[0m\u001b[0;34m\u001b[0m\u001b[0;34m\u001b[0m\u001b[0m\n\u001b[0m\u001b[1;32m   3464\u001b[0m           \u001b[0mself\u001b[0m\u001b[0;34m.\u001b[0m\u001b[0m_function_cache\u001b[0m\u001b[0;34m.\u001b[0m\u001b[0mprimary\u001b[0m\u001b[0;34m[\u001b[0m\u001b[0mcache_key\u001b[0m\u001b[0;34m]\u001b[0m \u001b[0;34m=\u001b[0m \u001b[0mgraph_function\u001b[0m\u001b[0;34m\u001b[0m\u001b[0;34m\u001b[0m\u001b[0m\n\u001b[1;32m   3465\u001b[0m \u001b[0;34m\u001b[0m\u001b[0m\n",
            "\u001b[0;32m/usr/local/lib/python3.7/dist-packages/tensorflow/python/eager/function.py\u001b[0m in \u001b[0;36m_create_graph_function\u001b[0;34m(self, args, kwargs, override_flat_arg_shapes)\u001b[0m\n\u001b[1;32m   3306\u001b[0m             \u001b[0marg_names\u001b[0m\u001b[0;34m=\u001b[0m\u001b[0marg_names\u001b[0m\u001b[0;34m,\u001b[0m\u001b[0;34m\u001b[0m\u001b[0;34m\u001b[0m\u001b[0m\n\u001b[1;32m   3307\u001b[0m             \u001b[0moverride_flat_arg_shapes\u001b[0m\u001b[0;34m=\u001b[0m\u001b[0moverride_flat_arg_shapes\u001b[0m\u001b[0;34m,\u001b[0m\u001b[0;34m\u001b[0m\u001b[0;34m\u001b[0m\u001b[0m\n\u001b[0;32m-> 3308\u001b[0;31m             capture_by_value=self._capture_by_value),\n\u001b[0m\u001b[1;32m   3309\u001b[0m         \u001b[0mself\u001b[0m\u001b[0;34m.\u001b[0m\u001b[0m_function_attributes\u001b[0m\u001b[0;34m,\u001b[0m\u001b[0;34m\u001b[0m\u001b[0;34m\u001b[0m\u001b[0m\n\u001b[1;32m   3310\u001b[0m         \u001b[0mfunction_spec\u001b[0m\u001b[0;34m=\u001b[0m\u001b[0mself\u001b[0m\u001b[0;34m.\u001b[0m\u001b[0mfunction_spec\u001b[0m\u001b[0;34m,\u001b[0m\u001b[0;34m\u001b[0m\u001b[0;34m\u001b[0m\u001b[0m\n",
            "\u001b[0;32m/usr/local/lib/python3.7/dist-packages/tensorflow/python/framework/func_graph.py\u001b[0m in \u001b[0;36mfunc_graph_from_py_func\u001b[0;34m(name, python_func, args, kwargs, signature, func_graph, autograph, autograph_options, add_control_dependencies, arg_names, op_return_value, collections, capture_by_value, override_flat_arg_shapes, acd_record_initial_resource_uses)\u001b[0m\n\u001b[1;32m   1005\u001b[0m         \u001b[0m_\u001b[0m\u001b[0;34m,\u001b[0m \u001b[0moriginal_func\u001b[0m \u001b[0;34m=\u001b[0m \u001b[0mtf_decorator\u001b[0m\u001b[0;34m.\u001b[0m\u001b[0munwrap\u001b[0m\u001b[0;34m(\u001b[0m\u001b[0mpython_func\u001b[0m\u001b[0;34m)\u001b[0m\u001b[0;34m\u001b[0m\u001b[0;34m\u001b[0m\u001b[0m\n\u001b[1;32m   1006\u001b[0m \u001b[0;34m\u001b[0m\u001b[0m\n\u001b[0;32m-> 1007\u001b[0;31m       \u001b[0mfunc_outputs\u001b[0m \u001b[0;34m=\u001b[0m \u001b[0mpython_func\u001b[0m\u001b[0;34m(\u001b[0m\u001b[0;34m*\u001b[0m\u001b[0mfunc_args\u001b[0m\u001b[0;34m,\u001b[0m \u001b[0;34m**\u001b[0m\u001b[0mfunc_kwargs\u001b[0m\u001b[0;34m)\u001b[0m\u001b[0;34m\u001b[0m\u001b[0;34m\u001b[0m\u001b[0m\n\u001b[0m\u001b[1;32m   1008\u001b[0m \u001b[0;34m\u001b[0m\u001b[0m\n\u001b[1;32m   1009\u001b[0m       \u001b[0;31m# invariant: `func_outputs` contains only Tensors, CompositeTensors,\u001b[0m\u001b[0;34m\u001b[0m\u001b[0;34m\u001b[0m\u001b[0;34m\u001b[0m\u001b[0m\n",
            "\u001b[0;32m/usr/local/lib/python3.7/dist-packages/tensorflow/python/eager/def_function.py\u001b[0m in \u001b[0;36mwrapped_fn\u001b[0;34m(*args, **kwds)\u001b[0m\n\u001b[1;32m    666\u001b[0m         \u001b[0;31m# the function a weak reference to itself to avoid a reference cycle.\u001b[0m\u001b[0;34m\u001b[0m\u001b[0;34m\u001b[0m\u001b[0;34m\u001b[0m\u001b[0m\n\u001b[1;32m    667\u001b[0m         \u001b[0;32mwith\u001b[0m \u001b[0mOptionalXlaContext\u001b[0m\u001b[0;34m(\u001b[0m\u001b[0mcompile_with_xla\u001b[0m\u001b[0;34m)\u001b[0m\u001b[0;34m:\u001b[0m\u001b[0;34m\u001b[0m\u001b[0;34m\u001b[0m\u001b[0m\n\u001b[0;32m--> 668\u001b[0;31m           \u001b[0mout\u001b[0m \u001b[0;34m=\u001b[0m \u001b[0mweak_wrapped_fn\u001b[0m\u001b[0;34m(\u001b[0m\u001b[0;34m)\u001b[0m\u001b[0;34m.\u001b[0m\u001b[0m__wrapped__\u001b[0m\u001b[0;34m(\u001b[0m\u001b[0;34m*\u001b[0m\u001b[0margs\u001b[0m\u001b[0;34m,\u001b[0m \u001b[0;34m**\u001b[0m\u001b[0mkwds\u001b[0m\u001b[0;34m)\u001b[0m\u001b[0;34m\u001b[0m\u001b[0;34m\u001b[0m\u001b[0m\n\u001b[0m\u001b[1;32m    669\u001b[0m         \u001b[0;32mreturn\u001b[0m \u001b[0mout\u001b[0m\u001b[0;34m\u001b[0m\u001b[0;34m\u001b[0m\u001b[0m\n\u001b[1;32m    670\u001b[0m \u001b[0;34m\u001b[0m\u001b[0m\n",
            "\u001b[0;32m/usr/local/lib/python3.7/dist-packages/tensorflow/python/framework/func_graph.py\u001b[0m in \u001b[0;36mwrapper\u001b[0;34m(*args, **kwargs)\u001b[0m\n\u001b[1;32m    992\u001b[0m           \u001b[0;32mexcept\u001b[0m \u001b[0mException\u001b[0m \u001b[0;32mas\u001b[0m \u001b[0me\u001b[0m\u001b[0;34m:\u001b[0m  \u001b[0;31m# pylint:disable=broad-except\u001b[0m\u001b[0;34m\u001b[0m\u001b[0;34m\u001b[0m\u001b[0m\n\u001b[1;32m    993\u001b[0m             \u001b[0;32mif\u001b[0m \u001b[0mhasattr\u001b[0m\u001b[0;34m(\u001b[0m\u001b[0me\u001b[0m\u001b[0;34m,\u001b[0m \u001b[0;34m\"ag_error_metadata\"\u001b[0m\u001b[0;34m)\u001b[0m\u001b[0;34m:\u001b[0m\u001b[0;34m\u001b[0m\u001b[0;34m\u001b[0m\u001b[0m\n\u001b[0;32m--> 994\u001b[0;31m               \u001b[0;32mraise\u001b[0m \u001b[0me\u001b[0m\u001b[0;34m.\u001b[0m\u001b[0mag_error_metadata\u001b[0m\u001b[0;34m.\u001b[0m\u001b[0mto_exception\u001b[0m\u001b[0;34m(\u001b[0m\u001b[0me\u001b[0m\u001b[0;34m)\u001b[0m\u001b[0;34m\u001b[0m\u001b[0;34m\u001b[0m\u001b[0m\n\u001b[0m\u001b[1;32m    995\u001b[0m             \u001b[0;32melse\u001b[0m\u001b[0;34m:\u001b[0m\u001b[0;34m\u001b[0m\u001b[0;34m\u001b[0m\u001b[0m\n\u001b[1;32m    996\u001b[0m               \u001b[0;32mraise\u001b[0m\u001b[0;34m\u001b[0m\u001b[0;34m\u001b[0m\u001b[0m\n",
            "\u001b[0;31mValueError\u001b[0m: in user code:\n\n    /usr/local/lib/python3.7/dist-packages/keras/engine/training.py:853 train_function  *\n        return step_function(self, iterator)\n    /usr/local/lib/python3.7/dist-packages/tensorflow_hub/keras_layer.py:237 call  *\n        result = smart_cond.smart_cond(training,\n    /usr/local/lib/python3.7/dist-packages/tensorflow/python/saved_model/load.py:664 _call_attribute  **\n        return instance.__call__(*args, **kwargs)\n    /usr/local/lib/python3.7/dist-packages/tensorflow/python/eager/def_function.py:885 __call__\n        result = self._call(*args, **kwds)\n    /usr/local/lib/python3.7/dist-packages/tensorflow/python/eager/def_function.py:924 _call\n        results = self._stateful_fn(*args, **kwds)\n    /usr/local/lib/python3.7/dist-packages/tensorflow/python/eager/function.py:3038 __call__\n        filtered_flat_args) = self._maybe_define_function(args, kwargs)\n    /usr/local/lib/python3.7/dist-packages/tensorflow/python/eager/function.py:3463 _maybe_define_function\n        graph_function = self._create_graph_function(args, kwargs)\n    /usr/local/lib/python3.7/dist-packages/tensorflow/python/eager/function.py:3308 _create_graph_function\n        capture_by_value=self._capture_by_value),\n    /usr/local/lib/python3.7/dist-packages/tensorflow/python/framework/func_graph.py:1007 func_graph_from_py_func\n        func_outputs = python_func(*func_args, **func_kwargs)\n    /usr/local/lib/python3.7/dist-packages/tensorflow/python/eager/def_function.py:668 wrapped_fn\n        out = weak_wrapped_fn().__wrapped__(*args, **kwds)\n    /usr/local/lib/python3.7/dist-packages/tensorflow/python/saved_model/function_deserialization.py:294 restored_function_body\n        \"\\n\\n\".join(signature_descriptions)))\n\n    ValueError: Could not find matching function to call loaded from the SavedModel. Got:\n      Positional arguments (3 total):\n        * Tensor(\"inputs:0\", shape=(), dtype=string)\n        * False\n        * None\n      Keyword arguments: {}\n    \n    Expected these arguments to match one of the following 4 option(s):\n    \n    Option 1:\n      Positional arguments (3 total):\n        * TensorSpec(shape=(None,), dtype=tf.string, name='sentences')\n        * False\n        * None\n      Keyword arguments: {}\n    \n    Option 2:\n      Positional arguments (3 total):\n        * TensorSpec(shape=(None,), dtype=tf.string, name='sentences')\n        * True\n        * None\n      Keyword arguments: {}\n    \n    Option 3:\n      Positional arguments (3 total):\n        * TensorSpec(shape=(None,), dtype=tf.string, name='inputs')\n        * False\n        * None\n      Keyword arguments: {}\n    \n    Option 4:\n      Positional arguments (3 total):\n        * TensorSpec(shape=(None,), dtype=tf.string, name='inputs')\n        * True\n        * None\n      Keyword arguments: {}\n"
          ]
        }
      ]
    },
    {
      "cell_type": "code",
      "metadata": {
        "id": "SjATPUp1ZYFq",
        "colab": {
          "base_uri": "https://localhost:8080/"
        },
        "outputId": "22886dd9-0b10-4270-bc43-bb663430b3be"
      },
      "source": [
        "train_sentences[:5]"
      ],
      "execution_count": null,
      "outputs": [
        {
          "output_type": "execute_result",
          "data": {
            "text/plain": [
              "array(['to investigate the efficacy of @ weeks of daily low-dose oral prednisolone in improving pain , mobility , and systemic low-grade inflammation in the short term and whether the effect would be sustained at @ weeks in older adults with moderate to severe knee osteoarthritis ( oa ) .',\n",
              "       'a total of @ patients with primary knee oa were randomized @:@ ; @ received @ mg/day of prednisolone and @ received placebo for @ weeks .',\n",
              "       'outcome measures included pain reduction and improvement in function scores and systemic inflammation markers .',\n",
              "       'pain was assessed using the visual analog pain scale ( @-@ mm ) .',\n",
              "       'secondary outcome measures included the western ontario and mcmaster universities osteoarthritis index scores , patient global assessment ( pga ) of the severity of knee oa , and @-min walk distance ( @mwd ) .'],\n",
              "      dtype=object)"
            ]
          },
          "metadata": {},
          "execution_count": 30
        }
      ]
    },
    {
      "cell_type": "code",
      "metadata": {
        "id": "O73QB9jPg7qA"
      },
      "source": [
        ""
      ],
      "execution_count": null,
      "outputs": []
    }
  ]
}