{
  "cells": [
    {
      "cell_type": "markdown",
      "metadata": {
        "id": "view-in-github",
        "colab_type": "text"
      },
      "source": [
        "<a href=\"https://colab.research.google.com/github/MalikHasnat1999/ZTM_Tensorflow/blob/master/03_Computer_Vision_%26_CNN.ipynb\" target=\"_parent\"><img src=\"https://colab.research.google.com/assets/colab-badge.svg\" alt=\"Open In Colab\"/></a>"
      ]
    },
    {
      "cell_type": "markdown",
      "metadata": {
        "id": "mVzqTbThwP5H"
      },
      "source": [
        "> Computer vision is the practice of discovering patterns in visual data. Such as the camera of self driving car recognizing the car in front\n"
      ]
    },
    {
      "cell_type": "markdown",
      "metadata": {
        "id": "hNJqf0Hx4PUd"
      },
      "source": [
        "# Import the data"
      ]
    },
    {
      "cell_type": "code",
      "execution_count": null,
      "metadata": {
        "colab": {
          "background_save": true
        },
        "id": "hlm4CXe26f7M"
      },
      "outputs": [],
      "source": [
        "!wget https://storage.googleapis.com/ztm_tf_course/food_vision/pizza_steak.zip"
      ]
    },
    {
      "cell_type": "code",
      "execution_count": null,
      "metadata": {
        "colab": {
          "background_save": true
        },
        "id": "FZNNeauf44bo"
      },
      "outputs": [],
      "source": [
        "import zipfile\n",
        "\n",
        "# unzip the file\n",
        "unzip = zipfile.ZipFile(\"pizza_steak.zip\")\n",
        "unzip.extractall()\n",
        "unzip.close()"
      ]
    },
    {
      "cell_type": "markdown",
      "metadata": {
        "id": "RK3DOil3F75J"
      },
      "source": [
        "# 104.Inspect the data\n",
        "\n",
        "A very crucial step at the beginning of every machine learning problem is to becomme one with the data..\n",
        "\n",
        "and for computer vision project.. that usually means visualizing many samples of your data"
      ]
    },
    {
      "cell_type": "code",
      "execution_count": null,
      "metadata": {
        "colab": {
          "base_uri": "https://localhost:8080/"
        },
        "id": "LTC0k8PY773C",
        "outputId": "0d30d6b8-66bf-45fd-8ca5-65e4071abddb"
      },
      "outputs": [
        {
          "name": "stdout",
          "output_type": "stream",
          "text": [
            "test  train\n"
          ]
        }
      ],
      "source": [
        "!ls pizza_steak"
      ]
    },
    {
      "cell_type": "code",
      "execution_count": null,
      "metadata": {
        "colab": {
          "base_uri": "https://localhost:8080/"
        },
        "id": "xIo_tCdjFLLf",
        "outputId": "b983ef92-9200-405d-dec4-9ec685579b21"
      },
      "outputs": [
        {
          "name": "stdout",
          "output_type": "stream",
          "text": [
            "pizza  steak\n"
          ]
        }
      ],
      "source": [
        "!ls pizza_steak/train"
      ]
    },
    {
      "cell_type": "code",
      "execution_count": null,
      "metadata": {
        "colab": {
          "base_uri": "https://localhost:8080/"
        },
        "id": "CxoIitNKF16u",
        "outputId": "116337f7-7637-48b9-af50-b3f0cf4bde12"
      },
      "outputs": [
        {
          "name": "stdout",
          "output_type": "stream",
          "text": [
            "1008104.jpg  1638227.jpg  2235981.jpg  2774899.jpg  3464027.jpg  576236.jpg\n",
            "1008144.jpg  1646974.jpg  2236914.jpg  2775763.jpg  3464858.jpg  5764.jpg\n",
            "1008844.jpg  1649108.jpg  2241448.jpg  2778214.jpg  3473991.jpg  579691.jpg\n",
            "1008941.jpg  1649276.jpg  2247711.jpg  277963.jpg   3475936.jpg  593400.jpg\n",
            "1011404.jpg  1652943.jpg  2253670.jpg  2785084.jpg  3478964.jpg  59445.jpg\n",
            "102037.jpg   1654444.jpg  2255361.jpg  2793535.jpg  3479875.jpg  596494.jpg\n",
            "1026922.jpg  1660415.jpg  2274117.jpg  27963.jpg    3479936.jpg  598381.jpg\n",
            "1029698.jpg  1663749.jpg  2279642.jpg  2800325.jpg  3484590.jpg  604977.jpg\n",
            "1033251.jpg  1665654.jpg  2280345.jpg  2811032.jpg  3493457.jpg  608085.jpg\n",
            "1035854.jpg  166823.jpg   2285269.jpg  282013.jpg   349946.jpg\t 618021.jpg\n",
            "1038357.jpg  1670471.jpg  2285942.jpg  2821034.jpg  350358.jpg\t 61822.jpg\n",
            "1040878.jpg  1671531.jpg  228778.jpg   2821048.jpg  3505182.jpg  618348.jpg\n",
            "1044524.jpg  1678284.jpg  2291093.jpg  2827938.jpg  3512070.jpg  625687.jpg\n",
            "1044789.jpg  1681043.jpg  2292986.jpg  2831983.jpg  3514408.jpg  626170.jpg\n",
            "1047561.jpg  1686908.jpg  2293453.jpg  2844278.jpg  352051.jpg\t 626902.jpg\n",
            "1048649.jpg  1687681.jpg  2301105.jpg  2849924.jpg  3530210.jpg  63480.jpg\n",
            "1054420.jpg  168879.jpg   2304021.jpg  2852301.jpg  3536393.jpg  647215.jpg\n",
            "1055065.jpg  1688838.jpg  2312987.jpg  2855844.jpg  3546278.jpg  652004.jpg\n",
            "105910.jpg   169318.jpg   23199.jpg    287000.jpg   3549765.jpg  656817.jpg\n",
            "1065078.jpg  169720.jpg   2321465.jpg  2877565.jpg  3550805.jpg  662526.jpg\n",
            "1069629.jpg  1705747.jpg  232976.jpg   2881282.jpg  3554287.jpg  663285.jpg\n",
            "1075568.jpg  1705773.jpg  2330965.jpg  2885050.jpg  3555299.jpg  665900.jpg\n",
            "1076699.jpg  1708197.jpg  233143.jpg   2885796.jpg  3557127.jpg  667309.jpg\n",
            "1083380.jpg  1717790.jpg  2331467.jpg  2902766.jpg  3574192.jpg  668944.jpg\n",
            "1084888.jpg  1742542.jpg  2361973.jpg  2916034.jpg  358178.jpg\t 670201.jpg\n",
            "1088332.jpg  1743389.jpg  2365046.jpg  2922019.jpg  3589437.jpg  674188.jpg\n",
            "1089334.jpg  175626.jpg   2382016.jpg  2924941.jpg  3595758.jpg  676432.jpg\n",
            "1097980.jpg  1757288.jpg  238843.jpg   2933332.jpg  3597955.jpg  682201.jpg\n",
            "1098197.jpg  1761451.jpg  2397868.jpg  29417.jpg    3614525.jpg  68684.jpg\n",
            "1105700.jpg  1763205.jpg  2410138.jpg  2951831.jpg  3628930.jpg  698251.jpg\n",
            "1107714.jpg  1774438.jpg  2412237.jpg  2952219.jpg  3629996.jpg  702165.jpg\n",
            "111051.jpg   1778167.jpg  2412970.jpg  2959665.jpg  3644733.jpg  704161.jpg\n",
            "1110966.jpg  1786840.jpg  2421445.jpg  2965.jpg     3653528.jpg  709273.jpg\n",
            "1123386.jpg  179165.jpg   2426686.jpg  2967846.jpg  3653643.jpg  709947.jpg\n",
            "1137400.jpg  1795316.jpg  2428085.jpg  2980131.jpg  3660716.jpg  712149.jpg\n",
            "1138936.jpg  1806491.jpg  242813.jpg   2989328.jpg  3663580.jpg  714991.jpg\n",
            "1143057.jpg  1810844.jpg  2432061.jpg  2990023.jpg  3675128.jpg  715169.jpg\n",
            "1157438.jpg  1818014.jpg  2439992.jpg  2990186.jpg  3678290.jpg  717350.jpg\n",
            "1159797.jpg  1828050.jpg  2441328.jpg  2992084.jpg  368644.jpg\t 721383.jpg\n",
            "1165451.jpg  1836888.jpg  2443498.jpg  299535.jpg   369017.jpg\t 724445.jpg\n",
            "1173913.jpg  1839077.jpg  244505.jpg   2995731.jpg  3693710.jpg  72716.jpg\n",
            "1183278.jpg  1870865.jpg  2448844.jpg  2999507.jpg  3699992.jpg  739735.jpg\n",
            "1202925.jpg  1871498.jpg  2451169.jpg  3000535.jpg  3702863.jpg  740385.jpg\n",
            "1205154.jpg  1877103.jpg  2456207.jpg  300869.jpg   3703769.jpg  741491.jpg\n",
            "1207213.jpg  1878005.jpg  2462190.jpg  3018077.jpg  3704879.jpg  741883.jpg\n",
            "1209973.jpg  1881674.jpg  2467990.jpg  3020376.jpg  3705479.jpg  755968.jpg\n",
            "121834.jpg   1888911.jpg  2468499.jpg  3023774.jpg  370643.jpg\t 759025.jpg\n",
            "12301.jpg    1890444.jpg  2470671.jpg  302591.jpg   3712344.jpg  759873.jpg\n",
            "1234172.jpg  1895479.jpg  2471646.jpg  3039549.jpg  3713343.jpg  762788.jpg\n",
            "1243215.jpg  1897129.jpg  2473559.jpg  3042454.jpg  372275.jpg\t 764429.jpg\n",
            "1245628.jpg  1898723.jpg  2476468.jpg  3055697.jpg  3742272.jpg  765000.jpg\n",
            "1247645.jpg  1899562.jpg  2481333.jpg  3057192.jpg  3745884.jpg  765799.jpg\n",
            "1248346.jpg  1899785.jpg  248252.jpg   3063955.jpg  3749515.jpg  768276.jpg\n",
            "1248478.jpg  1900585.jpg  2486277.jpg  3066951.jpg  375401.jpg\t 771878.jpg\n",
            "1260554.jpg  1906287.jpg  2487039.jpg  307677.jpg   3763593.jpg  774142.jpg\n",
            "1267359.jpg  1907713.jpg  2490163.jpg  3082068.jpg  376417.jpg\t 77677.jpg\n",
            "1269960.jpg  1912976.jpg  2491110.jpg  3082443.jpg  3766053.jpg  786995.jpg\n",
            "1270986.jpg  1914969.jpg  2492287.jpg  3084957.jpg  3766476.jpg  790432.jpg\n",
            "12718.jpg    1915343.jpg  2493954.jpg  3102271.jpg  3767723.jpg  790841.jpg\n",
            "1284978.jpg  1916846.jpg  2501636.jpg  3105724.jpg  3767773.jpg  792093.jpg\n",
            "1285298.jpg  1934355.jpg  2501961.jpg  3109486.jpg  3772054.jpg  799874.jpg\n",
            "1287004.jpg  1944600.jpg  2502234.jpg  312479.jpg   3778801.jpg  803243.jpg\n",
            "1289139.jpg  1947572.jpg  2508157.jpg  3128495.jpg  3790235.jpg  807128.jpg\n",
            "129536.jpg   1950499.jpg  2511911.jpg  3148119.jpg  3793314.jpg  809024.jpg\n",
            "1312761.jpg  1951130.jpg  2516510.jpg  3164761.jpg  3798959.jpg  812349.jpg\n",
            "131561.jpg   1958364.jpg  2519291.jpg  3168266.jpg  3803596.jpg  816577.jpg\n",
            "132484.jpg   1964051.jpg  2529205.jpg  3170114.jpg  3821701.jpg  816729.jpg\n",
            "132554.jpg   1968947.jpg  253127.jpg   3173779.jpg  3822139.jpg  819547.jpg\n",
            "1325918.jpg  1973447.jpg  2534774.jpg  317861.jpg   3826377.jpg  823104.jpg\n",
            "1326065.jpg  1980167.jpg  2556273.jpg  3185774.jpg  382829.jpg\t 82578.jpg\n",
            "1327402.jpg  1981348.jpg  2557340.jpg  3191035.jpg  3830773.jpg  82772.jpg\n",
            "1336882.jpg  1984976.jpg  2560539.jpg  3193599.jpg  38349.jpg\t 829229.jpg\n",
            "134462.jpg   1987634.jpg  2569760.jpg  3196721.jpg  384215.jpg\t 83538.jpg\n",
            "1344966.jpg  1988629.jpg  2570329.jpg  32004.jpg    3845083.jpg  835833.jpg\n",
            "1351146.jpg  199019.jpg   2572958.jpg  320570.jpg   3860002.jpg  839461.jpg\n",
            "1351631.jpg  1998483.jpg  2574896.jpg  3207504.jpg  3862243.jpg  853441.jpg\n",
            "1370319.jpg  2005870.jpg  2576168.jpg  3214153.jpg  3864383.jpg  857888.jpg\n",
            "1383291.jpg  2010437.jpg  2577373.jpg  3256974.jpg  3871666.jpg  861771.jpg\n",
            "1384464.jpg  2014717.jpg  2577377.jpg  3264148.jpg  3873326.jpg  866834.jpg\n",
            "138855.jpg   2019441.jpg  2581276.jpg  32666.jpg    387697.jpg\t 868789.jpg\n",
            "1390308.jpg  2019583.jpg  2584745.jpg  326809.jpg   3882444.jpg  869763.jpg\n",
            "13983.jpg    2021516.jpg  2587918.jpg  3269634.jpg  3906901.jpg  872094.jpg\n",
            "1399531.jpg  2026009.jpg  2587921.jpg  327415.jpg   3910117.jpg  874288.jpg\n",
            "140031.jpg   2032236.jpg  259449.jpg   3281494.jpg  3913912.jpg  875262.jpg\n",
            "1403878.jpg  2035248.jpg  2602611.jpg  329302.jpg   3917951.jpg  875856.jpg\n",
            "1407753.jpg  203831.jpg   2605343.jpg  3297714.jpg  393658.jpg\t 877881.jpg\n",
            "1412034.jpg  2044732.jpg  2606727.jpg  3312584.jpg  394049.jpg\t 878377.jpg\n",
            "1413289.jpg  2077999.jpg  262133.jpg   3314176.jpg  394590.jpg\t 884986.jpg\n",
            "141507.jpg   2078141.jpg  2621534.jpg  3314535.jpg  395034.jpg\t 886505.jpg\n",
            "1423515.jpg  2078208.jpg  2622336.jpg  332231.jpg   395960.jpg\t 8917.jpg\n",
            "1425089.jpg  2091857.jpg  2639094.jpg  3324050.jpg  398565.jpg\t 893644.jpg\n",
            "1426781.jpg  2097315.jpg  2640502.jpg  3326344.jpg  401701.jpg\t 896448.jpg\n",
            "143453.jpg   2098014.jpg  2664219.jpg  3333459.jpg  401979.jpg\t 898119.jpg\n",
            "1454995.jpg  2104569.jpg  2666066.jpg  3337370.jpg  40231.jpg\t 898303.jpg\n",
            "1468795.jpg  2110257.jpg  2667244.jpg  3338774.jpg  403431.jpg\t 898843.jpg\n",
            "147785.jpg   2112757.jpg  2667255.jpg  333985.jpg   413710.jpg\t 89892.jpg\n",
            "1499661.jpg  2121603.jpg  2667824.jpg  3342039.jpg  413789.jpg\t 899818.jpg\n",
            "1504421.jpg  2126352.jpg  2670730.jpg  3366256.jpg  419516.jpg\t 899959.jpg\n",
            "1504719.jpg  2126709.jpg  2671508.jpg  3367113.jpg  422261.jpg\t 904938.jpg\n",
            "1507039.jpg  2135635.jpg  2674351.jpg  337272.jpg   424288.jpg\t 910419.jpg\n",
            "1512514.jpg  2137341.jpg  2687575.jpg  3376519.jpg  430118.jpg\t 917774.jpg\n",
            "1524599.jpg  2142812.jpg  2693334.jpg  3379038.jpg  44449.jpg\t 918506.jpg\n",
            "1524655.jpg  214728.jpg   269396.jpg   3382880.jpg  448519.jpg\t 920219.jpg\n",
            "1535273.jpg  2148129.jpg  2694223.jpg  3383977.jpg  452989.jpg\t 920595.jpg\n",
            "1544197.jpg  2154394.jpg  2697971.jpg  3384856.jpg  464388.jpg\t 926046.jpg\n",
            "1552253.jpg  2155475.jpg  2700543.jpg  338838.jpg   465454.jpg\t 928663.jpg\n",
            "1553353.jpg  2155735.jpg  2702825.jpg  3391208.jpg  467986.jpg\t 928670.jpg\n",
            "1571074.jpg  2161241.jpg  2705497.jpg  3392649.jpg  474493.jpg\t 929067.jpg\n",
            "1572608.jpg  2164255.jpg  2707814.jpg  3392671.jpg  489347.jpg\t 937915.jpg\n",
            "1573562.jpg  216720.jpg   2711828.jpg  3393898.jpg  489532.jpg\t 938821.jpg\n",
            "1576248.jpg  2172850.jpg  271592.jpg   3397336.jpg  495892.jpg\t 93961.jpg\n",
            "1577871.jpg  218142.jpg   271675.jpg   3398309.jpg  513754.jpg\t 947246.jpg\n",
            "1584379.jpg  218711.jpg   271779.jpg   3399610.jpg  514014.jpg\t 951953.jpg\n",
            "1593665.jpg  2187466.jpg  2722646.jpg  3401720.jpg  517902.jpg\t 959901.jpg\n",
            "1593835.jpg  2188452.jpg  2723529.jpg  3401767.jpg  518527.jpg\t 962785.jpg\n",
            "1600705.jpg  2190018.jpg  2739039.jpg  340814.jpg   527199.jpg\t 966644.jpg\n",
            "1608000.jpg  220190.jpg   2739100.jpg  3425999.jpg  52934.jpg\t 967694.jpg\n",
            "1617418.jpg  220910.jpg   2742044.jpg  3426946.jpg  532970.jpg\t 970073.jpg\n",
            "1620560.jpg  221048.jpg   274945.jpg   3427699.jpg  543556.jpg\t 972000.jpg\n",
            "1620761.jpg  2215531.jpg  2754150.jpg  3434372.jpg  54461.jpg\t 976382.jpg\n",
            "1625147.jpg  2217956.jpg  2755875.jpg  3441394.jpg  54540.jpg\t 979955.jpg\n",
            "163039.jpg   2224099.jpg  2757327.jpg  3443136.jpg  545561.jpg\t 979998.jpg\n",
            "1633289.jpg  2224828.jpg  2760984.jpg  3456440.jpg  56449.jpg\t 985164.jpg\n",
            "1635386.jpg  2228322.jpg  276803.jpg   3462250.jpg  568383.jpg\t 98617.jpg\n",
            "1636299.jpg  2231356.jpg  2769168.jpg  34632.jpg    568995.jpg\t 998719.jpg\n"
          ]
        }
      ],
      "source": [
        "!ls pizza_steak/train/pizza"
      ]
    },
    {
      "cell_type": "code",
      "execution_count": null,
      "metadata": {
        "colab": {
          "base_uri": "https://localhost:8080/"
        },
        "id": "L4uBWlljGoNS",
        "outputId": "1866b35a-610b-48a6-f61d-c2addd0103e2"
      },
      "outputs": [
        {
          "name": "stdout",
          "output_type": "stream",
          "text": [
            "There are 2 directories and 1 image in 'pizza_steak' \n",
            "There are 2 directories and 1 image in 'pizza_steak/test' \n",
            "There are 0 directories and 250 image in 'pizza_steak/test/pizza' \n",
            "There are 0 directories and 250 image in 'pizza_steak/test/steak' \n",
            "There are 2 directories and 1 image in 'pizza_steak/train' \n",
            "There are 0 directories and 750 image in 'pizza_steak/train/pizza' \n",
            "There are 0 directories and 750 image in 'pizza_steak/train/steak' \n"
          ]
        }
      ],
      "source": [
        "import os\n",
        "\n",
        "# Walk throught pizza_steak directory and list numner of files\n",
        "for dirpath, dirnames, filenames in os.walk(\"pizza_steak\"):\n",
        "  print(f\"There are {len(dirnames)} directories and {len(filenames)} image in '{dirpath}' \")"
      ]
    },
    {
      "cell_type": "code",
      "execution_count": null,
      "metadata": {
        "colab": {
          "base_uri": "https://localhost:8080/"
        },
        "id": "aRLBREpgIBw6",
        "outputId": "0601884b-b853-4590-9cad-e84acbd0aa93"
      },
      "outputs": [
        {
          "data": {
            "text/plain": [
              "750"
            ]
          },
          "execution_count": 29,
          "metadata": {
            "tags": []
          },
          "output_type": "execute_result"
        }
      ],
      "source": [
        "# Another way to find number of images in a directory\n",
        "pizza_images =  len(os.listdir(\"pizza_steak/train/pizza\"))\n",
        "pizza_images"
      ]
    },
    {
      "cell_type": "markdown",
      "metadata": {
        "id": "68Afp5UuRGWp"
      },
      "source": [
        "## class_name"
      ]
    },
    {
      "cell_type": "code",
      "execution_count": null,
      "metadata": {
        "id": "bAS0K4Fb-GIS"
      },
      "outputs": [],
      "source": [
        "! rm -rf pizza_steak/train/.DS_Store"
      ]
    },
    {
      "cell_type": "code",
      "execution_count": null,
      "metadata": {
        "colab": {
          "base_uri": "https://localhost:8080/"
        },
        "id": "OA8yulIeLd2g",
        "outputId": "04b2086f-f797-485c-d198-81a700795aa9"
      },
      "outputs": [
        {
          "name": "stdout",
          "output_type": "stream",
          "text": [
            "[['pizza' 'steak']]\n"
          ]
        }
      ],
      "source": [
        "import pathlib\n",
        "import numpy as np\n",
        "\n",
        "data_dir = pathlib.Path(\"pizza_steak/train\") # make path object\n",
        "class_name = np.array([sorted(item.name for item in data_dir.glob(\"*\"))])\n",
        "class_name = class_name[0:]\n",
        "print(class_name)"
      ]
    },
    {
      "cell_type": "markdown",
      "metadata": {
        "id": "B2VRRgUQRMYw"
      },
      "source": [
        "## plot_random_image()"
      ]
    },
    {
      "cell_type": "code",
      "execution_count": null,
      "metadata": {
        "colab": {
          "background_save": true
        },
        "id": "TH8PbSGgXrag"
      },
      "outputs": [],
      "source": [
        "import random\n",
        "import pathlib\n",
        "import matplotlib.pyplot as plt\n",
        "\n",
        "\n",
        "def plot_random_image_2(target_dir, target_class):\n",
        "\n",
        "  # get the directory\n",
        "  target_folder = target_dir + target_class\n",
        "\n",
        "  # get random image \n",
        "  random_image = random.sample(os.listdir(target_folder), 1)\n",
        "\n",
        "\n",
        "  # read in the path and print random image\n",
        "  img = plt.imread(target_folder + \"/\" + random_image[0])\n",
        "  plt.imshow(img)\n",
        "  plt.title(target_class)\n",
        "  plt.axis(False)\n",
        "  print(\"image shape:\",img.shape)\n",
        "\n",
        "  return img"
      ]
    },
    {
      "cell_type": "code",
      "execution_count": null,
      "metadata": {
        "colab": {
          "background_save": true
        },
        "id": "BDSfcSsVYLzu"
      },
      "outputs": [],
      "source": [
        "img = plot_random_image_2(\"pizza_steak/train/\",\n",
        "                    \"pizza\")"
      ]
    },
    {
      "cell_type": "markdown",
      "metadata": {
        "id": "rWpq8BO5-5gs"
      },
      "source": [
        "Normalizing our Data"
      ]
    },
    {
      "cell_type": "code",
      "execution_count": null,
      "metadata": {
        "colab": {
          "base_uri": "https://localhost:8080/"
        },
        "id": "J8c0WwWo8sht",
        "outputId": "60936451-3b55-427b-a452-4863a48aa804"
      },
      "outputs": [
        {
          "data": {
            "text/plain": [
              "(0, 255)"
            ]
          },
          "execution_count": 34,
          "metadata": {
            "tags": []
          },
          "output_type": "execute_result"
        }
      ],
      "source": [
        "img.min(), img.max()"
      ]
    },
    {
      "cell_type": "code",
      "execution_count": null,
      "metadata": {
        "colab": {
          "base_uri": "https://localhost:8080/"
        },
        "id": "VpeJ_9hF_AZ-",
        "outputId": "0cf5a470-4e12-4cf2-ab65-6be1bcb271d4"
      },
      "outputs": [
        {
          "data": {
            "text/plain": [
              "array([[[0.        , 0.03137255, 0.10588235],\n",
              "        [0.        , 0.03137255, 0.11372549],\n",
              "        [0.00392157, 0.03529412, 0.1254902 ],\n",
              "        ...,\n",
              "        [0.        , 0.        , 0.        ],\n",
              "        [0.        , 0.        , 0.        ],\n",
              "        [0.        , 0.        , 0.        ]],\n",
              "\n",
              "       [[0.        , 0.03137255, 0.10588235],\n",
              "        [0.        , 0.03137255, 0.11372549],\n",
              "        [0.00392157, 0.03529412, 0.1254902 ],\n",
              "        ...,\n",
              "        [0.        , 0.        , 0.        ],\n",
              "        [0.        , 0.        , 0.        ],\n",
              "        [0.        , 0.        , 0.        ]],\n",
              "\n",
              "       [[0.        , 0.02745098, 0.10196078],\n",
              "        [0.        , 0.03137255, 0.11372549],\n",
              "        [0.        , 0.03137255, 0.12156863],\n",
              "        ...,\n",
              "        [0.        , 0.        , 0.        ],\n",
              "        [0.        , 0.        , 0.        ],\n",
              "        [0.        , 0.        , 0.        ]],\n",
              "\n",
              "       ...,\n",
              "\n",
              "       [[0.        , 0.        , 0.        ],\n",
              "        [0.        , 0.        , 0.        ],\n",
              "        [0.        , 0.        , 0.        ],\n",
              "        ...,\n",
              "        [0.8       , 0.6       , 0.41568627],\n",
              "        [0.87843137, 0.67843137, 0.47058824],\n",
              "        [0.90980392, 0.70196078, 0.49019608]],\n",
              "\n",
              "       [[0.        , 0.        , 0.        ],\n",
              "        [0.        , 0.        , 0.        ],\n",
              "        [0.        , 0.        , 0.        ],\n",
              "        ...,\n",
              "        [0.57254902, 0.37254902, 0.18823529],\n",
              "        [0.60784314, 0.40784314, 0.2       ],\n",
              "        [0.60784314, 0.4       , 0.18823529]],\n",
              "\n",
              "       [[0.        , 0.        , 0.        ],\n",
              "        [0.        , 0.        , 0.        ],\n",
              "        [0.        , 0.        , 0.        ],\n",
              "        ...,\n",
              "        [0.52156863, 0.32156863, 0.1372549 ],\n",
              "        [0.55294118, 0.35294118, 0.14509804],\n",
              "        [0.55294118, 0.34509804, 0.13333333]]])"
            ]
          },
          "execution_count": 35,
          "metadata": {
            "tags": []
          },
          "output_type": "execute_result"
        }
      ],
      "source": [
        "img / 255"
      ]
    },
    {
      "cell_type": "markdown",
      "metadata": {
        "id": "dwgFmyj2_ejr"
      },
      "source": [
        "# 107.An End-to-End example\n",
        "\n",
        "Let's build a CNN to to find patterns in our images, more specifically we need to:\n",
        "\n",
        "* Load our images\n",
        "* Preprocess our images\n",
        "* Build a CNN model"
      ]
    },
    {
      "cell_type": "code",
      "execution_count": null,
      "metadata": {
        "colab": {
          "background_save": true,
          "base_uri": "https://localhost:8080/"
        },
        "id": "YNdV3bwV_Bx-",
        "outputId": "838daa1e-96b4-4518-8087-6c4fc46985d0"
      },
      "outputs": [
        {
          "name": "stdout",
          "output_type": "stream",
          "text": [
            "Found 1500 images belonging to 2 classes.\n",
            "Found 500 images belonging to 2 classes.\n",
            "Epoch 1/5\n",
            "47/47 [==============================] - 42s 219ms/step - loss: 0.6208 - accuracy: 0.6447 - val_loss: 0.5229 - val_accuracy: 0.7540\n",
            "Epoch 2/5\n",
            "47/47 [==============================] - 9s 202ms/step - loss: 0.4602 - accuracy: 0.7880 - val_loss: 0.4049 - val_accuracy: 0.8260\n",
            "Epoch 3/5\n",
            "47/47 [==============================] - 9s 199ms/step - loss: 0.4063 - accuracy: 0.8093 - val_loss: 0.3375 - val_accuracy: 0.8540\n",
            "Epoch 4/5\n",
            "47/47 [==============================] - 9s 200ms/step - loss: 0.3907 - accuracy: 0.8380 - val_loss: 0.3358 - val_accuracy: 0.8720\n",
            "Epoch 5/5\n",
            "47/47 [==============================] - 9s 199ms/step - loss: 0.3522 - accuracy: 0.8547 - val_loss: 0.3184 - val_accuracy: 0.8520\n"
          ]
        }
      ],
      "source": [
        "import tensorflow as tf\n",
        "from tensorflow.keras.preprocessing.image import ImageDataGenerator\n",
        "\n",
        "# set randomm seed\n",
        "tf.random.set_seed(42)\n",
        "\n",
        "# preprocess data (Normalize)\n",
        "train_datagen = ImageDataGenerator(rescale = 1./255)\n",
        "validate_datagen = ImageDataGenerator(rescale = 1./255)\n",
        "\n",
        "# import data from directories and turn it in batches\n",
        "train_data = train_datagen.flow_from_directory(directory=\"pizza_steak/train\",\n",
        "                                               batch_size=32,\n",
        "                                               target_size=(224,224),\n",
        "                                               class_mode=\"binary\",\n",
        "                                               seed=42)\n",
        "validate_data = validate_datagen.flow_from_directory(directory=\"pizza_steak/test\", \n",
        "                                                     batch_size=32,\n",
        "                                                     target_size=(224,224),\n",
        "                                                     class_mode=\"binary\",\n",
        "                                                     seed=42)\n",
        "\n",
        "# Build a CNN model (same as tiny VGG on CNN explainer website)\n",
        "model_1 = tf.keras.models.Sequential([\n",
        "      tf.keras.layers.Conv2D(filters=10,\n",
        "                             kernel_size=3,\n",
        "                             activation=\"relu\",\n",
        "                             input_shape=(224,224,3)),\n",
        "      tf.keras.layers.Conv2D(filters=10,\n",
        "                             kernel_size=3,\n",
        "                             activation=\"relu\"),\n",
        "      tf.keras.layers.MaxPool2D(pool_size=2,\n",
        "                                padding=\"valid\"),\n",
        "      tf.keras.layers.Conv2D(filters=10,\n",
        "                             kernel_size=3,\n",
        "                             activation=\"relu\"),\n",
        "      tf.keras.layers.Conv2D(filters=10,\n",
        "                             kernel_size=3,\n",
        "                             activation=\"relu\"),\n",
        "      tf.keras.layers.MaxPool2D(),\n",
        "      tf.keras.layers.Flatten(),\n",
        "      tf.keras.layers.Dense(1, activation=\"sigmoid\")\n",
        "\n",
        "])\n",
        "\n",
        "# compile the model\n",
        "model_1.compile(\n",
        "     loss = tf.keras.losses.BinaryCrossentropy(),\n",
        "     optimizer = tf.keras.optimizers.Adam(),\n",
        "     metrics = [\"accuracy\"])\n",
        "\n",
        "# fit the model\n",
        "history_1 = model_1.fit(train_data,\n",
        "                        epochs=5,\n",
        "                        steps_per_epoch = len(train_data),\n",
        "                        validation_data = validate_data,\n",
        "                        validation_steps = len(validate_data))"
      ]
    },
    {
      "cell_type": "markdown",
      "metadata": {
        "id": "6O83_xPHaq-v"
      },
      "source": [
        "# 109.Non-CNN model"
      ]
    },
    {
      "cell_type": "code",
      "execution_count": null,
      "metadata": {
        "colab": {
          "background_save": true
        },
        "id": "deFK7y43DcPo",
        "outputId": "63e31444-ca0f-4f56-c31b-7cdc52506938"
      },
      "outputs": [
        {
          "name": "stdout",
          "output_type": "stream",
          "text": [
            "Epoch 1/5\n",
            "47/47 [==============================] - 9s 188ms/step - loss: 0.7096 - accuracy: 0.5020 - val_loss: 0.6932 - val_accuracy: 0.5000\n",
            "Epoch 2/5\n",
            "47/47 [==============================] - 9s 190ms/step - loss: 0.6932 - accuracy: 0.5000 - val_loss: 0.6932 - val_accuracy: 0.5000\n",
            "Epoch 3/5\n",
            "47/47 [==============================] - 9s 192ms/step - loss: 0.6932 - accuracy: 0.5000 - val_loss: 0.6931 - val_accuracy: 0.5000\n",
            "Epoch 4/5\n",
            "47/47 [==============================] - 9s 192ms/step - loss: 0.6932 - accuracy: 0.5000 - val_loss: 0.6931 - val_accuracy: 0.5000\n",
            "Epoch 5/5\n",
            "47/47 [==============================] - 9s 186ms/step - loss: 0.6932 - accuracy: 0.5000 - val_loss: 0.6931 - val_accuracy: 0.5000\n"
          ]
        },
        {
          "data": {
            "text/plain": [
              "<tensorflow.python.keras.callbacks.History at 0x7ff8fa89f7d0>"
            ]
          },
          "execution_count": null,
          "metadata": {},
          "output_type": "execute_result"
        }
      ],
      "source": [
        "# set seed\n",
        "tf.random.set_seed(42)\n",
        "\n",
        "# create the model\n",
        "model_2 = tf.keras.Sequential([\n",
        "      tf.keras.layers.Flatten(input_shape=(224, 224, 3)),\n",
        "      tf.keras.layers.Dense(4, activation=\"relu\"),\n",
        "      tf.keras.layers.Dense(4, activation=\"relu\"),\n",
        "      tf.keras.layers.Dense(1, activation=\"sigmoid\"),\n",
        "])\n",
        "\n",
        "# compile the model\n",
        "model_2.compile(loss = tf.keras.losses.BinaryCrossentropy(),\n",
        "                optimizer = tf.keras.optimizers.Adam(),\n",
        "                metrics = [\"accuracy\"])\n",
        "\n",
        "# fit the model\n",
        "model_2.fit(train_data,\n",
        "            epochs=5,\n",
        "            steps_per_epoch = len(train_data),\n",
        "            validation_data = validate_data,\n",
        "            validation_steps = len(validate_data))"
      ]
    },
    {
      "cell_type": "code",
      "execution_count": null,
      "metadata": {
        "colab": {
          "background_save": true
        },
        "id": "5BRVeVNVcJOZ",
        "outputId": "3157b096-4a41-49ed-f24e-26d2a82086eb"
      },
      "outputs": [
        {
          "name": "stdout",
          "output_type": "stream",
          "text": [
            "Model: \"sequential_1\"\n",
            "_________________________________________________________________\n",
            "Layer (type)                 Output Shape              Param #   \n",
            "=================================================================\n",
            "flatten_1 (Flatten)          (None, 150528)            0         \n",
            "_________________________________________________________________\n",
            "dense_1 (Dense)              (None, 4)                 602116    \n",
            "_________________________________________________________________\n",
            "dense_2 (Dense)              (None, 4)                 20        \n",
            "_________________________________________________________________\n",
            "dense_3 (Dense)              (None, 1)                 5         \n",
            "=================================================================\n",
            "Total params: 602,141\n",
            "Trainable params: 602,141\n",
            "Non-trainable params: 0\n",
            "_________________________________________________________________\n"
          ]
        }
      ],
      "source": [
        "model_2.summary()"
      ]
    },
    {
      "cell_type": "markdown",
      "metadata": {
        "id": "mTAAoGlBpM0H"
      },
      "source": [
        "## Improving our model\n",
        "\n",
        "\n",
        "\n"
      ]
    },
    {
      "cell_type": "code",
      "execution_count": null,
      "metadata": {
        "colab": {
          "background_save": true
        },
        "id": "JdiiGimzfS-3",
        "outputId": "14d6b15e-f4ec-4d45-8d73-1af9fee7099c"
      },
      "outputs": [
        {
          "name": "stdout",
          "output_type": "stream",
          "text": [
            "Epoch 1/5\n",
            "47/47 [==============================] - 10s 200ms/step - loss: 4.3020 - accuracy: 0.6200 - val_loss: 2.3631 - val_accuracy: 0.6380\n",
            "Epoch 2/5\n",
            "47/47 [==============================] - 9s 194ms/step - loss: 0.8585 - accuracy: 0.7060 - val_loss: 0.7710 - val_accuracy: 0.6840\n",
            "Epoch 3/5\n",
            "47/47 [==============================] - 9s 188ms/step - loss: 0.5936 - accuracy: 0.7353 - val_loss: 0.5341 - val_accuracy: 0.7840\n",
            "Epoch 4/5\n",
            "47/47 [==============================] - 9s 184ms/step - loss: 0.6399 - accuracy: 0.7607 - val_loss: 0.6195 - val_accuracy: 0.6940\n",
            "Epoch 5/5\n",
            "47/47 [==============================] - 9s 186ms/step - loss: 0.5812 - accuracy: 0.7487 - val_loss: 0.5540 - val_accuracy: 0.7780\n"
          ]
        },
        {
          "data": {
            "text/plain": [
              "<tensorflow.python.keras.callbacks.History at 0x7ff8fa71bc10>"
            ]
          },
          "execution_count": null,
          "metadata": {},
          "output_type": "execute_result"
        }
      ],
      "source": [
        "# set random seed\n",
        "tf.random.set_seed(42)\n",
        "\n",
        "# create the model\n",
        "model_3 = tf.keras.Sequential([\n",
        "     tf.keras.layers.Flatten(input_shape=(224,224,3)),\n",
        "     tf.keras.layers.Dense(100, activation=\"relu\"),\n",
        "     tf.keras.layers.Dense(100, activation=\"relu\"),\n",
        "     tf.keras.layers.Dense(100, activation=\"relu\"),\n",
        "     tf.keras.layers.Dense(1, activation=\"sigmoid\"),\n",
        "])\n",
        "\n",
        "\n",
        "# compile the model\n",
        "model_3.compile(loss = tf.keras.losses.BinaryCrossentropy(),\n",
        "                optimizer = tf.keras.optimizers.Adam(),\n",
        "                metrics = [\"accuracy\"])\n",
        "\n",
        "# fit the model\n",
        "model_3.fit(train_data,\n",
        "            epochs=5,\n",
        "            steps_per_epoch=len(train_data),\n",
        "            validation_data=validate_data,\n",
        "            validation_steps=len(validate_data))"
      ]
    },
    {
      "cell_type": "code",
      "execution_count": null,
      "metadata": {
        "colab": {
          "background_save": true
        },
        "id": "VkO0xZPjqan4",
        "outputId": "449250c4-9579-4e58-c51c-73e35ecf51e8"
      },
      "outputs": [
        {
          "name": "stdout",
          "output_type": "stream",
          "text": [
            "Model: \"sequential_2\"\n",
            "_________________________________________________________________\n",
            "Layer (type)                 Output Shape              Param #   \n",
            "=================================================================\n",
            "flatten_2 (Flatten)          (None, 150528)            0         \n",
            "_________________________________________________________________\n",
            "dense_4 (Dense)              (None, 100)               15052900  \n",
            "_________________________________________________________________\n",
            "dense_5 (Dense)              (None, 100)               10100     \n",
            "_________________________________________________________________\n",
            "dense_6 (Dense)              (None, 100)               10100     \n",
            "_________________________________________________________________\n",
            "dense_7 (Dense)              (None, 1)                 101       \n",
            "=================================================================\n",
            "Total params: 15,073,201\n",
            "Trainable params: 15,073,201\n",
            "Non-trainable params: 0\n",
            "_________________________________________________________________\n"
          ]
        }
      ],
      "source": [
        "model_3.summary()"
      ]
    },
    {
      "cell_type": "markdown",
      "metadata": {
        "id": "UL0xfZTTq_73"
      },
      "source": [
        "Difference in Trainable params in  CNN and non-CNN is 15M,  30K\n",
        "\n",
        "You can think of trainable parameters as **Patterns a model can learn from**. Intuitively, you might think that more is better. In some cases yes it is. But in this case the difference here is the two differennt styles of model that we are using. where a series of different learnable patterns connected to each other and hence a higher number of possible learnable parameters,**, a convolutional neural netwerk CNN seek to sort and learn the most important patterens in a image**. So even there are less learnable parameters in our CNN, these are often more helpful in dechipering between differet **features** in an image."
      ]
    },
    {
      "cell_type": "markdown",
      "metadata": {
        "id": "xrVe3pF4rVUB"
      },
      "source": [
        "# 111.Binary Classificaion: Breaking Down CNN model\n",
        "\n",
        "* Visualize the data\n",
        "* Preprocess the data\n",
        "* Create a model (start with the baseline)\n",
        "* Fit the model\n",
        "* Evaluate the model\n",
        "* Improve the model\n",
        "* Repeat, until satisfied (Experiment)"
      ]
    },
    {
      "cell_type": "markdown",
      "metadata": {
        "id": "J4Vv6mZJQFLm"
      },
      "source": [
        "## i).Visualize the data"
      ]
    },
    {
      "cell_type": "code",
      "execution_count": null,
      "metadata": {
        "colab": {
          "background_save": true
        },
        "id": "zOoMpxA_q8uU",
        "outputId": "4cb3a5f3-438e-4bb4-cc92-f57564078cba"
      },
      "outputs": [
        {
          "name": "stdout",
          "output_type": "stream",
          "text": [
            "image shape: (384, 512, 3)\n",
            "image shape: (512, 512, 3)\n"
          ]
        },
        {
          "data": {
            "text/plain": [
              "array([[[251, 255, 231],\n",
              "        [251, 255, 233],\n",
              "        [247, 252, 230],\n",
              "        ...,\n",
              "        [114,  45,   3],\n",
              "        [112,  44,   0],\n",
              "        [120,  54,   6]],\n",
              "\n",
              "       [[242, 248, 220],\n",
              "        [246, 255, 228],\n",
              "        [247, 255, 232],\n",
              "        ...,\n",
              "        [116,  47,   6],\n",
              "        [109,  42,   0],\n",
              "        [114,  47,   2]],\n",
              "\n",
              "       [[238, 247, 216],\n",
              "        [247, 255, 227],\n",
              "        [246, 254, 230],\n",
              "        ...,\n",
              "        [117,  48,   7],\n",
              "        [109,  42,   0],\n",
              "        [107,  43,   0]],\n",
              "\n",
              "       ...,\n",
              "\n",
              "       [[ 49,  26,   8],\n",
              "        [ 47,  24,   6],\n",
              "        [ 47,  21,   4],\n",
              "        ...,\n",
              "        [114,  64,   1],\n",
              "        [121,  69,   9],\n",
              "        [132,  80,  20]],\n",
              "\n",
              "       [[ 46,  25,   4],\n",
              "        [ 45,  23,   2],\n",
              "        [ 45,  23,   2],\n",
              "        ...,\n",
              "        [117,  66,   3],\n",
              "        [125,  74,  11],\n",
              "        [137,  86,  23]],\n",
              "\n",
              "       [[ 39,  19,   0],\n",
              "        [ 40,  19,   0],\n",
              "        [ 45,  23,   2],\n",
              "        ...,\n",
              "        [117,  66,   3],\n",
              "        [126,  75,  12],\n",
              "        [135,  84,  21]]], dtype=uint8)"
            ]
          },
          "execution_count": null,
          "metadata": {},
          "output_type": "execute_result"
        },
        {
          "data": {
            "image/png": "[encoded data removed]",
            "text/plain": [
              "<Figure size 432x288 with 2 Axes>"
            ]
          },
          "metadata": {},
          "output_type": "display_data"
        }
      ],
      "source": [
        "import matplotlib.pyplot as plt\n",
        "\n",
        "plt.subplot(1,2,1)\n",
        "plot_random_image_2(\"pizza_steak/train/\", \"pizza\")\n",
        "plt.subplot(1,2,2)\n",
        "plot_random_image_2(\"pizza_steak/train/\", \"steak\")\n"
      ]
    },
    {
      "cell_type": "markdown",
      "metadata": {
        "id": "smR6Lzt1RIKz"
      },
      "source": [
        "##ii).Preprocess the data\n",
        "\n",
        "Our next step is to turn our data into **batches**\n",
        "\n",
        "A batch is a small subset of data. Rather then look at all the images at once, a model might only look at 32 at a time.\n",
        "it does this for couples of reasons.\n",
        "1. 10,000 images might not fit in the memory of your processor (GPU).\n",
        "2. Trying to learn patterns in 10,000 images in one hit could result in model not being able to learn very much.\n",
        "\n",
        "Why 32?\n",
        "\n",
        "[cause its good for your health...](https://twitter.com/ylecun/status/989610208497360896?s=20)"
      ]
    },
    {
      "cell_type": "code",
      "execution_count": null,
      "metadata": {
        "colab": {
          "background_save": true
        },
        "id": "VWq2m9HJQpdX"
      },
      "outputs": [],
      "source": [
        "# create train and test DataGenerators and rescale the data\n",
        "from tensorflow.keras.preprocessing.image import ImageDataGenerator\n",
        "\n",
        "train_data_gen = ImageDataGenerator(rescale=1/255.)\n",
        "test_data_gen = ImageDataGenerator(rescale=1/255.)"
      ]
    },
    {
      "cell_type": "code",
      "execution_count": null,
      "metadata": {
        "colab": {
          "background_save": true
        },
        "id": "f6PEdyEPXyXg",
        "outputId": "cc34bdd4-eb24-42aa-f250-6ee5634b8ce0"
      },
      "outputs": [
        {
          "name": "stdout",
          "output_type": "stream",
          "text": [
            "Found 1500 images belonging to 2 classes.\n",
            "Found 500 images belonging to 2 classes.\n"
          ]
        }
      ],
      "source": [
        "# Load in our data from the directories and turn them in tensors\n",
        "train_data = train_data_gen.flow_from_directory(directory=\"pizza_steak/train\",\n",
        "                                                batch_size=32,\n",
        "                                                target_size=(224,224),\n",
        "                                                class_mode=\"binary\")\n",
        "\n",
        "test_data = test_data_gen.flow_from_directory(directory=\"pizza_steak/test\",\n",
        "                                              batch_size=32,\n",
        "                                              target_size=(224,224),\n",
        "                                              class_mode=\"binary\")"
      ]
    },
    {
      "cell_type": "code",
      "execution_count": null,
      "metadata": {
        "colab": {
          "background_save": true
        },
        "id": "wvZaHnwEYw46",
        "outputId": "834cc898-e6c2-42c5-c980-229cdb917935"
      },
      "outputs": [
        {
          "data": {
            "text/plain": [
              "(32, 32)"
            ]
          },
          "execution_count": null,
          "metadata": {},
          "output_type": "execute_result"
        }
      ],
      "source": [
        "# get a sample of train data\n",
        "images, labels = train_data.next() # get the next batch of \"images/labels\" \n",
        "len(images), len(labels)"
      ]
    },
    {
      "cell_type": "code",
      "execution_count": null,
      "metadata": {
        "colab": {
          "background_save": true
        },
        "id": "1FN5QmBlcQWq",
        "outputId": "4389138e-3830-4bc8-e5fa-75a9e56640c9"
      },
      "outputs": [
        {
          "data": {
            "text/plain": [
              "<matplotlib.image.AxesImage at 0x7ff8fa46d490>"
            ]
          },
          "execution_count": null,
          "metadata": {},
          "output_type": "execute_result"
        },
        {
          "data": {
            "image/png": "[encoded data removed]",
            "text/plain": [
              "<Figure size 432x288 with 1 Axes>"
            ]
          },
          "metadata": {},
          "output_type": "display_data"
        }
      ],
      "source": [
        "plt.imshow(images[0])"
      ]
    },
    {
      "cell_type": "code",
      "execution_count": null,
      "metadata": {
        "colab": {
          "background_save": true
        },
        "id": "FlP5Djy6chA9",
        "outputId": "14f98402-db65-44fc-847b-b237cb1dc252"
      },
      "outputs": [
        {
          "data": {
            "text/plain": [
              "(224, 224, 3)"
            ]
          },
          "execution_count": null,
          "metadata": {},
          "output_type": "execute_result"
        }
      ],
      "source": [
        "images[0].shape"
      ]
    },
    {
      "cell_type": "code",
      "execution_count": null,
      "metadata": {
        "colab": {
          "background_save": true
        },
        "id": "SfEVwdGicljv",
        "outputId": "990a6aa7-e05a-44d1-cb5d-1d6f0d8963f6"
      },
      "outputs": [
        {
          "data": {
            "text/plain": [
              "array([1., 1., 0., 1., 0., 0., 0., 1., 0., 1., 0., 0., 1., 0., 0., 0., 1.,\n",
              "       1., 0., 1., 0., 1., 1., 1., 0., 0., 0., 0., 0., 1., 0., 1.],\n",
              "      dtype=float32)"
            ]
          },
          "execution_count": null,
          "metadata": {},
          "output_type": "execute_result"
        }
      ],
      "source": [
        "labels"
      ]
    },
    {
      "cell_type": "markdown",
      "metadata": {
        "id": "MN2QEoEbdarU"
      },
      "source": [
        "## iii).Create a model (start with a baseline)\n",
        "\n",
        "A baseline is relatively simple model or existing result that you setup when beginning a machine learning experiment and then as you keep experimenting, you try to beat the baseline\n",
        "\n",
        "> **Note:** In deep learning, there is almost an infinite amount of architectures you could create. So one of the best ways to get started is to start with something simple and see if it works on your data and then increase complexity as requried (e.g look at which current model is perfroming best for your model)"
      ]
    },
    {
      "cell_type": "code",
      "execution_count": null,
      "metadata": {
        "colab": {
          "background_save": true
        },
        "id": "Wicem3oMdQJE"
      },
      "outputs": [],
      "source": [
        "# make creating of our model a little easier\n",
        "from tensorflow.keras.optimizers import Adam\n",
        "from tensorflow.keras.layers import Dense, Conv2D, MaxPool2D, Activation, Flatten\n",
        "from tensorflow.keras import Sequential\n",
        "import tensorflow as tf"
      ]
    },
    {
      "cell_type": "code",
      "execution_count": null,
      "metadata": {
        "colab": {
          "background_save": true
        },
        "id": "huOhIH2R0w5F"
      },
      "outputs": [],
      "source": [
        "# set random seed\n",
        "tf.random.set_seed(42)\n",
        "\n",
        "# create the model\n",
        "model_4 = Sequential([\n",
        "        Conv2D(filters=10,    # filter is the number of sliding window going across as input\n",
        "               kernel_size=(3,3), # the size of sliding window going across as input\n",
        "               strides=(1, 1), # the step size sliding window takes across an input\n",
        "               padding=\"valid\", # if 'same', output shape is same as input shape, if 'valid' output shape gets compressed\n",
        "               activation=\"relu\",  \n",
        "               input_shape=(224, 224, 3)), # input layer\n",
        "        Conv2D(10, 3, activation=\"relu\"),\n",
        "        Conv2D(10, 3, activation=\"relu\"),\n",
        "        Flatten(),\n",
        "        Dense(1, activation=\"sigmoid\") # output layer\n",
        "])\n"
      ]
    },
    {
      "cell_type": "code",
      "execution_count": null,
      "metadata": {
        "colab": {
          "background_save": true
        },
        "id": "_VdalhZM2imP"
      },
      "outputs": [],
      "source": [
        "# Compile the model\n",
        "model_4.compile(\n",
        "    loss=[\"binary_crossentropy\"],\n",
        "    optimizer = Adam(),\n",
        "    metrics=[\"accuracy\"]\n",
        ")"
      ]
    },
    {
      "cell_type": "code",
      "execution_count": null,
      "metadata": {
        "colab": {
          "background_save": true
        },
        "id": "qgKKsv1PJcyq",
        "outputId": "f4dc0c0b-0136-4719-e137-75a0495c0af3"
      },
      "outputs": [
        {
          "name": "stdout",
          "output_type": "stream",
          "text": [
            "Model: \"sequential_3\"\n",
            "_________________________________________________________________\n",
            "Layer (type)                 Output Shape              Param #   \n",
            "=================================================================\n",
            "conv2d_4 (Conv2D)            (None, 222, 222, 10)      280       \n",
            "_________________________________________________________________\n",
            "conv2d_5 (Conv2D)            (None, 220, 220, 10)      910       \n",
            "_________________________________________________________________\n",
            "conv2d_6 (Conv2D)            (None, 218, 218, 10)      910       \n",
            "_________________________________________________________________\n",
            "flatten_3 (Flatten)          (None, 475240)            0         \n",
            "_________________________________________________________________\n",
            "dense_8 (Dense)              (None, 1)                 475241    \n",
            "=================================================================\n",
            "Total params: 477,341\n",
            "Trainable params: 477,341\n",
            "Non-trainable params: 0\n",
            "_________________________________________________________________\n"
          ]
        }
      ],
      "source": [
        "model_4.summary()"
      ]
    },
    {
      "cell_type": "markdown",
      "metadata": {
        "id": "dPpBS5RDJvih"
      },
      "source": [
        "## iv).Fit the model"
      ]
    },
    {
      "cell_type": "code",
      "execution_count": null,
      "metadata": {
        "colab": {
          "background_save": true
        },
        "id": "XGFUEABJK952",
        "outputId": "842e5398-e8b2-4f3a-b2cb-111f2bba719b"
      },
      "outputs": [
        {
          "data": {
            "text/plain": [
              "(47, 16)"
            ]
          },
          "execution_count": null,
          "metadata": {},
          "output_type": "execute_result"
        }
      ],
      "source": [
        "# Total no of batches\n",
        "len(train_data), len(test_data)"
      ]
    },
    {
      "cell_type": "code",
      "execution_count": null,
      "metadata": {
        "colab": {
          "background_save": true
        },
        "id": "4f65Ff7PJRe_",
        "outputId": "d5f2b414-ad71-4013-df98-e2ef55d1555e"
      },
      "outputs": [
        {
          "name": "stdout",
          "output_type": "stream",
          "text": [
            "Epoch 1/5\n",
            "47/47 [==============================] - 10s 205ms/step - loss: 0.8801 - accuracy: 0.5353 - val_loss: 0.6675 - val_accuracy: 0.5760\n",
            "Epoch 2/5\n",
            "47/47 [==============================] - 9s 200ms/step - loss: 0.6397 - accuracy: 0.6473 - val_loss: 0.5452 - val_accuracy: 0.7480\n",
            "Epoch 3/5\n",
            "47/47 [==============================] - 10s 207ms/step - loss: 0.4621 - accuracy: 0.8007 - val_loss: 0.4304 - val_accuracy: 0.8140\n",
            "Epoch 4/5\n",
            "47/47 [==============================] - 10s 206ms/step - loss: 0.3545 - accuracy: 0.8580 - val_loss: 0.3766 - val_accuracy: 0.8240\n",
            "Epoch 5/5\n",
            "47/47 [==============================] - 9s 200ms/step - loss: 0.2656 - accuracy: 0.9000 - val_loss: 0.3697 - val_accuracy: 0.8340\n"
          ]
        }
      ],
      "source": [
        "# fit the model\n",
        "history_4 = model_4.fit(train_data,\n",
        "            epochs=5,\n",
        "            steps_per_epoch=len(train_data), # need to take 47 steps per epoch\n",
        "            validation_data=test_data,\n",
        "            validation_steps=len(test_data)  # need to take 16 steps per validation set\n",
        ")"
      ]
    },
    {
      "cell_type": "markdown",
      "metadata": {
        "id": "FtpgfRFyLyPH"
      },
      "source": [
        "## v).Evaluate the data"
      ]
    },
    {
      "cell_type": "code",
      "execution_count": null,
      "metadata": {
        "colab": {
          "background_save": true
        },
        "id": "3JshcRsLJ1Yc",
        "outputId": "4ab51141-ccb0-4e92-9138-d1b274be6f8f"
      },
      "outputs": [
        {
          "name": "stdout",
          "output_type": "stream",
          "text": [
            "16/16 [==============================] - 2s 135ms/step - loss: 0.3697 - accuracy: 0.8340\n"
          ]
        },
        {
          "data": {
            "text/plain": [
              "[0.36971718072891235, 0.8339999914169312]"
            ]
          },
          "execution_count": null,
          "metadata": {},
          "output_type": "execute_result"
        }
      ],
      "source": [
        "model_4.evaluate(test_data)"
      ]
    },
    {
      "cell_type": "code",
      "execution_count": null,
      "metadata": {
        "colab": {
          "background_save": true
        },
        "id": "2_lcY1L5L5l7",
        "outputId": "4a7baf27-89cf-48f5-d678-68078ab05004"
      },
      "outputs": [
        {
          "data": {
            "text/plain": [
              "Text(0, 0.5, 'Loss')"
            ]
          },
          "execution_count": null,
          "metadata": {},
          "output_type": "execute_result"
        },
        {
          "data": {
            "image/png": "[encoded data removed]",
            "text/plain": [
              "<Figure size 432x288 with 1 Axes>"
            ]
          },
          "metadata": {},
          "output_type": "display_data"
        }
      ],
      "source": [
        "# loss curve and training curve\n",
        "import pandas as pd\n",
        "\n",
        "pd.DataFrame(history_4.history).plot()\n",
        "plt.xlabel(\"Epoch\")\n",
        "plt.ylabel(\"Loss\")"
      ]
    },
    {
      "cell_type": "markdown",
      "metadata": {
        "id": "dko0tLXKWUx5"
      },
      "source": [
        "When a models **validation loss starts to increase**, its likely that model is **overfitting** the training datasets, This means it is learning the patterns in the training dataset *too well* and thus model ability ot genneralize the unseen data becomes diminished"
      ]
    },
    {
      "cell_type": "markdown",
      "metadata": {
        "id": "TYqtFb_EVR44"
      },
      "source": [
        "> **Note:** Ideally the two loss curves (training and validation) will be very similar to each other (training loss and validation loss decreasing at similar rates), when there are large differece your model may be overfitting\n",
        "\n",
        "\n"
      ]
    },
    {
      "cell_type": "markdown",
      "metadata": {
        "id": "vkfhe7TdeyCR"
      },
      "source": [
        "## vi).Adjust the model performance\n",
        "\n",
        "Fitting a machine learning model comes in 3 steps:\n",
        "\n",
        "0. Create a baseline\n",
        "1. Beat the baseline by overfitting a larger model\n",
        "2. Reduce overfitting\n",
        "\n",
        "Ways to induce overfitting:\n",
        "\n",
        "* increase number of conv layers\n",
        "* increase number of conv filters\n",
        "* add another dense layer to the output of our flattened layer\n",
        "\n",
        "Ways to Reduce overfitting:\n",
        "\n",
        "* add data augmentation\n",
        "* add data regularization layer (such as MaxPool2D)\n",
        "* add more data...\n",
        "\n",
        "> **Note:**Reducing overfitting is also known as regularization"
      ]
    },
    {
      "cell_type": "code",
      "execution_count": null,
      "metadata": {
        "colab": {
          "background_save": true
        },
        "id": "1NyDZxZWXNIn"
      },
      "outputs": [],
      "source": [
        "# create the model (new baseline)\n",
        "model_5 = Sequential([\n",
        "        Conv2D(10, 3, activation=\"relu\", input_shape=(224,224,3)),\n",
        "        MaxPool2D(pool_size=2), # condense the features\n",
        "        Conv2D(10, 3, activation=\"relu\"),\n",
        "        MaxPool2D(),\n",
        "        Conv2D(10, 3, activation=\"relu\"),\n",
        "        MaxPool2D(),\n",
        "        Flatten(),\n",
        "        Dense(1, activation=\"sigmoid\")\n",
        "])"
      ]
    },
    {
      "cell_type": "code",
      "execution_count": null,
      "metadata": {
        "colab": {
          "background_save": true
        },
        "id": "G8ft2wYxhioZ"
      },
      "outputs": [],
      "source": [
        "# compile the model\n",
        "model_5.compile(\n",
        "    loss=\"binary_crossentropy\",\n",
        "    optimizer=Adam(),\n",
        "    metrics=[\"accuracy\"]\n",
        ")"
      ]
    },
    {
      "cell_type": "code",
      "execution_count": null,
      "metadata": {
        "colab": {
          "background_save": true
        },
        "id": "M26uxctim7-g",
        "outputId": "d4ddb8fd-35fe-472a-b811-6f7cfbf859bc"
      },
      "outputs": [
        {
          "ename": "SyntaxError",
          "evalue": "ignored",
          "output_type": "error",
          "traceback": [
            "\u001b[0;36m  File \u001b[0;32m\"<ipython-input-58-e813840a8308>\"\u001b[0;36m, line \u001b[0;32m4\u001b[0m\n\u001b[0;31m    steps_per_epoch  q  =len(train_data),\u001b[0m\n\u001b[0m                     ^\u001b[0m\n\u001b[0;31mSyntaxError\u001b[0m\u001b[0;31m:\u001b[0m invalid syntax\n"
          ]
        }
      ],
      "source": [
        "# fit the model\n",
        "history_5 = model_5.fit(train_data,\n",
        "                        epochs=5, \n",
        "                        steps_per_epoch  q  =len(train_data),\n",
        "                        validation_data=test_data,\n",
        "                        validation_steps=len(test_data))"
      ]
    },
    {
      "cell_type": "code",
      "execution_count": null,
      "metadata": {
        "colab": {
          "background_save": true
        },
        "id": "GBvRSIklnSrZ"
      },
      "outputs": [],
      "source": [
        "# Loss curve\n",
        "pd.DataFrame(history_5.history).plot()\n",
        "plt.xlabel(\"Epochs\")\n",
        "plt.ylabel(\"Loss\")"
      ]
    },
    {
      "cell_type": "code",
      "execution_count": null,
      "metadata": {
        "colab": {
          "background_save": true
        },
        "id": "iRlNcvAxntHm"
      },
      "outputs": [],
      "source": [
        "model_4.summary(), model_5.summary()"
      ]
    },
    {
      "cell_type": "markdown",
      "metadata": {
        "id": "Ddh1W1xUpd6O"
      },
      "source": [
        "There is quite a difference in Trainable parameters between both models"
      ]
    },
    {
      "cell_type": "markdown",
      "metadata": {
        "id": "g22jXokoH7RI"
      },
      "source": [
        "> **Question:** What is Data Augmentation?\n",
        "\n",
        "Data augmentation is the process of altering our training data, leading it to have more diversity and in turn allowing our models to learn more generalizable patterens.\n",
        "Altering might mean adjusting the rotation of the image, flipping it, rotating it or something else.\n",
        "\n",
        "\n",
        "Let's visualize the data augmentation."
      ]
    },
    {
      "cell_type": "code",
      "execution_count": null,
      "metadata": {
        "colab": {
          "background_save": true
        },
        "id": "5n0PuzXapMM_"
      },
      "outputs": [],
      "source": [
        "# create ImageDataGenerator training instance with data augmentation\n",
        "train_datagen_augmented = ImageDataGenerator(rescale=1/255.,  # rescaling factor: Defaults is None. If None or 0, no rescaling is applied,otherwise we multiply the data by the value provided(after applying all other transformations).\n",
        "                                             rotation_range=0.2,\n",
        "                                             shear_range=0.2,\n",
        "                                             zoom_range=0.2, # zoom in randomly on an image\n",
        "                                             width_shift_range=0.2, # move the image on x-axis\n",
        "                                             height_shift_range=0.3, # move the image on y-axis\n",
        "                                             horizontal_flip=True)\n",
        "\n",
        "# Without Augmentation\n",
        "train_datagen = ImageDataGenerator(rescale=1/255.)\n",
        "test_datagen = ImageDataGenerator(rescale=1/255.)"
      ]
    },
    {
      "cell_type": "code",
      "execution_count": null,
      "metadata": {
        "colab": {
          "background_save": true
        },
        "id": "IZYqBaICJ16_"
      },
      "outputs": [],
      "source": [
        "# import data from the directory and augment it\n",
        "tf.random.set_seed(42)\n",
        "\n",
        "print(\"Train Augmented Data\")\n",
        "train_data_augmented = train_datagen_augmented.flow_from_directory(directory=\"pizza_steak/train\",\n",
        "                                                         target_size=(224,224),\n",
        "                                                         batch_size=32,\n",
        "                                                         class_mode=\"binary\",\n",
        "                                                         shuffle=False) # for Demonstration only\n",
        "\n",
        "# import non-augmented data \n",
        "print(\"Train Data non-augmented\")\n",
        "train_data = train_datagen.flow_from_directory(directory=\"pizza_steak/train\",\n",
        "                                               target_size=(224,224),\n",
        "                                               batch_size=32,\n",
        "                                               class_mode=\"binary\",\n",
        "                                               shuffle=False)\n",
        "\n",
        "print(\"Test Data non-augmented\")\n",
        "test_data = test_datagen.flow_from_directory(directory=\"pizza_steak/test\",\n",
        "                                             target_size=(224,224),\n",
        "                                             batch_size=32,\n",
        "                                             class_mode=\"binary\",\n",
        "                                             shuffle=False)"
      ]
    },
    {
      "cell_type": "markdown",
      "metadata": {
        "id": "FVIvoQ-xkbsM"
      },
      "source": [
        "> **Note:** Data Augmentation is usually performed on the training dataset. Using `ImageDataGenerator` built-in data augmentation parameters our images are left as they are in the directories but are modified as they are loaded into the model"
      ]
    },
    {
      "cell_type": "code",
      "execution_count": null,
      "metadata": {
        "colab": {
          "background_save": true
        },
        "id": "twy3vMgnjog1"
      },
      "outputs": [],
      "source": [
        "# get sample data batches\n",
        "images, labels = train_data.next()\n",
        "augmented_images, augmented_labels = train_data_augmented.next() # labels are not augmented"
      ]
    },
    {
      "cell_type": "code",
      "execution_count": null,
      "metadata": {
        "colab": {
          "background_save": true
        },
        "id": "S_icBqOV0PuW"
      },
      "outputs": [],
      "source": [
        "len(images), len(augmented_images)"
      ]
    },
    {
      "cell_type": "code",
      "execution_count": null,
      "metadata": {
        "colab": {
          "background_save": true
        },
        "id": "WbwJoZ2r16vm"
      },
      "outputs": [],
      "source": [
        "# show original images and augmented images\n",
        "import random\n",
        "import matplotlib.pyplot as plt\n",
        "\n",
        "plt.figure(figsize=(7,8))\n",
        "random_index = random.choice(range(32))\n",
        "plt.subplot(1,2,1)\n",
        "plt.imshow(images[random_index])\n",
        "plt.title(\"Original 8\")\n",
        "plt.axis(False)\n",
        "plt.subplot(1,2,2)\n",
        "plt.imshow(augmented_images[random_index])\n",
        "plt.title(\"Augmented Image\")\n",
        "plt.axis(False)"
      ]
    },
    {
      "cell_type": "markdown",
      "metadata": {
        "id": "jzGPlhceHuy1"
      },
      "source": [
        "Now that we have seen what augmented image is lets build a model with *trian_data_augmented*"
      ]
    },
    {
      "cell_type": "code",
      "execution_count": null,
      "metadata": {
        "colab": {
          "background_save": true
        },
        "id": "Iu4cQ6GN2-2v"
      },
      "outputs": [],
      "source": [
        "import tensorflow as tf\n",
        "\n",
        "# set random seed\n",
        "tf.random.set_seed(42)\n",
        "\n",
        "# create the model\n",
        "model_6 = Sequential([\n",
        "          Conv2D(10, 3, activation=\"relu\"),\n",
        "          MaxPool2D(pool_size=2),\n",
        "          Conv2D(10, 3, activation=\"relu\"),\n",
        "          MaxPool2D(2),\n",
        "          Conv2D(10, 3, activation=\"relu\"),\n",
        "          MaxPool2D(2),\n",
        "          Flatten(),\n",
        "          Dense(1, activation=\"sigmoid\")\n",
        "\n",
        "])\n",
        "\n",
        "# compile the model\n",
        "model_6.compile(\n",
        "    loss=\"binary_crossentropy\",\n",
        "    optimizer=Adam(),\n",
        "    metrics=[\"accuracy\"]\n",
        ")\n",
        "\n",
        "# fit the model\n",
        "history_6 = model_6.fit(train_data_augmented,\n",
        "                        epochs=5,\n",
        "                        steps_per_epoch=len(train_data_augmented),\n",
        "                        validation_data=test_data,\n",
        "                        validation_steps=len(test_data))"
      ]
    },
    {
      "cell_type": "code",
      "execution_count": null,
      "metadata": {
        "colab": {
          "background_save": true
        },
        "id": "y3voqc0uIWq9"
      },
      "outputs": [],
      "source": [
        "import pandas as pd\n",
        "pd.DataFrame(history_6.history).plot()"
      ]
    },
    {
      "cell_type": "markdown",
      "metadata": {
        "id": "SeZ5JKKFOAB6"
      },
      "source": [
        "Let's shuffle our augmented data and see how our model do on it..."
      ]
    },
    {
      "cell_type": "code",
      "execution_count": null,
      "metadata": {
        "colab": {
          "background_save": true
        },
        "id": "875R3Uh9N4VQ"
      },
      "outputs": [],
      "source": [
        "train_data_augmented_shuffled = train_datagen_augmented.flow_from_directory(directory=\"pizza_steak/train\",\n",
        "                                                    target_size=(224,224),\n",
        "                                                    batch_size=32,\n",
        "                                                    class_mode=\"binary\",\n",
        "                                                    shuffle=True)"
      ]
    },
    {
      "cell_type": "code",
      "execution_count": null,
      "metadata": {
        "colab": {
          "background_save": true
        },
        "id": "ta4EHs1DPJKo"
      },
      "outputs": [],
      "source": [
        "# create same model as model_6\n",
        "# set random seed\n",
        "tf.random.set_seed(42)\n",
        "\n",
        "# create the model\n",
        "model_7 = Sequential([\n",
        "          Conv2D(10, 3, activation=\"relu\", input_shape=(224,224,3)),\n",
        "          MaxPool2D(pool_size=2),\n",
        "          Conv2D(10, 3, activation=\"relu\"),\n",
        "          MaxPool2D(),\n",
        "          Conv2D(10, 3, activation=\"relu\"),\n",
        "          MaxPool2D(),\n",
        "          Flatten(),\n",
        "          Dense(1, activation=\"sigmoid\")\n",
        "])\n",
        "\n",
        "# compile the model\n",
        "model_7.compile(\n",
        "    loss=\"binary_crossentropy\",\n",
        "    optimizer=Adam(),\n",
        "    metrics=[\"accuracy\"]\n",
        ")\n",
        "\n",
        "# fit the model\n",
        "history_7 = model_7.fit(train_data_augmented_shuffled,\n",
        "                        epochs=5,\n",
        "                        steps_per_epoch=len(train_data_augmented_shuffled),\n",
        "                        validation_data=test_data,\n",
        "                        validation_steps=len(test_data))"
      ]
    },
    {
      "cell_type": "code",
      "execution_count": null,
      "metadata": {
        "colab": {
          "background_save": true
        },
        "id": "uwgjwkH6RLN6"
      },
      "outputs": [],
      "source": [
        "pd.DataFrame(history_7.history).plot()"
      ]
    },
    {
      "cell_type": "markdown",
      "metadata": {
        "id": "MNVL6fLJSGYt"
      },
      "source": [
        ">**Note:** When shuffling training data, the model gets exposed to all different kind of data during training, thus enabling it to learn features across wide array of images (in our case, pizza and steak at the same time instead of just pizza then steak)"
      ]
    },
    {
      "cell_type": "markdown",
      "metadata": {
        "id": "gD5DzGw-VKD-"
      },
      "source": [
        "## vii). Repeat until satisfied\n",
        "\n"
      ]
    },
    {
      "cell_type": "markdown",
      "metadata": {
        "id": "0wb4baRz-Mpm"
      },
      "source": [
        "Since we have already beaten our baseline, there are few things we could try to improve our model:\n",
        "\n",
        "* Increase the number of layers (e.g Conv2D(), MaxPool2D())\n",
        "* Increase the number of filters in each convolutional layer (e.g from 10 to 32 even 64)\n",
        "* Train for longer\n",
        "* Find an ideal learning rate\n",
        "* Get more data\n",
        "* Use **Transfer Learning** to leverage what another image model has learn and adjust it for our own use case\n",
        "\n",
        "\n",
        "> **Practice:** Recreate CNN explainer model with Aumgented training Data"
      ]
    },
    {
      "cell_type": "code",
      "execution_count": null,
      "metadata": {
        "colab": {
          "background_save": true
        },
        "id": "5Ar3Ep0r-Ia6"
      },
      "outputs": [],
      "source": [
        "# Set Random Seed\n",
        "tf.random.set_seed(42)\n",
        "\n",
        "# create the model\n",
        "model_8 = Sequential([\n",
        "              Conv2D(filters=10,\n",
        "                     kernel_size=3,\n",
        "                     strides=1,\n",
        "                     padding=\"valid\",\n",
        "                     activation=\"relu\",\n",
        "                     input_shape=(224,224,3)),\n",
        "              Conv2D(10, 3, activation=\"relu\"),\n",
        "              MaxPool2D(pool_size=2),\n",
        "              Conv2D(10, 3, activation=\"relu\"),\n",
        "              Conv2D(10, 3, activation=\"relu\"),\n",
        "              MaxPool2D(),\n",
        "              Flatten(),\n",
        "              Dense(1, activation=\"sigmoid\")         \n",
        "])\n",
        "\n",
        "# Compile the model\n",
        "model_8.compile(\n",
        "    loss=\"binary_crossentropy\",\n",
        "    optimizer=Adam(),\n",
        "    metrics=[\"accuracy\"]\n",
        ")\n",
        "\n",
        "\n",
        "# fit the model\n",
        "history_8 = model_8.fit(train_data_augmented_shuffled,\n",
        "                        epochs=10,\n",
        "                        steps_per_epoch=len(train_data_augmented_shuffled),\n",
        "                        validation_data=test_data,\n",
        "                        validation_steps=len(test_data))"
      ]
    },
    {
      "cell_type": "code",
      "execution_count": null,
      "metadata": {
        "colab": {
          "background_save": true
        },
        "id": "zelUCmGsBaI_"
      },
      "outputs": [],
      "source": [
        "pd.DataFrame(history_8.history).plot()"
      ]
    },
    {
      "cell_type": "code",
      "execution_count": null,
      "metadata": {
        "colab": {
          "background_save": true
        },
        "id": "5ekxBCIZDbvr"
      },
      "outputs": [],
      "source": [
        "model_8.evaluate(test_data)"
      ]
    },
    {
      "cell_type": "markdown",
      "metadata": {
        "id": "h0CpmYaSGt5l"
      },
      "source": [
        "# 124.Makeing predictions"
      ]
    },
    {
      "cell_type": "code",
      "execution_count": null,
      "metadata": {
        "colab": {
          "background_save": true
        },
        "id": "IQhaw96vDku9"
      },
      "outputs": [],
      "source": [
        "!wget https://raw.githubusercontent.com/mrdbourke/tensorflow-deep-learning/main/images/03-steak.jpeg\n",
        "steak = plt.imread(\"03-steak.jpeg\")\n"
      ]
    },
    {
      "cell_type": "code",
      "execution_count": null,
      "metadata": {
        "colab": {
          "background_save": true
        },
        "id": "i7TnNHCtK7EM"
      },
      "outputs": [],
      "source": [
        "steak.shape"
      ]
    },
    {
      "cell_type": "code",
      "execution_count": null,
      "metadata": {
        "colab": {
          "background_save": true
        },
        "id": "K3MBtze_G9CA"
      },
      "outputs": [],
      "source": [
        "plt.imshow(steak)\n",
        "plt.axis(False)"
      ]
    },
    {
      "cell_type": "markdown",
      "metadata": {
        "id": "tpkBhDQiNMMU"
      },
      "source": [
        "## preprocessing our image"
      ]
    },
    {
      "cell_type": "markdown",
      "metadata": {
        "id": "YER6U58kNlhv"
      },
      "source": [
        ">**Note:** When you train a neural network and you want it to make prediction with it on your custom data. it is important that your custom data is preprocessed into same format as your model was trained on."
      ]
    },
    {
      "cell_type": "code",
      "execution_count": null,
      "metadata": {
        "colab": {
          "background_save": true
        },
        "id": "WkDtYfeISQV-"
      },
      "outputs": [],
      "source": [
        "# model_8.predict(steak)\n",
        "\n",
        "# Gives the dimension Error\n",
        "# ValueError: Input 0 of layer sequential_8 is incompatible with the layer:\n",
        "# : expected min_ndim=4, found ndim=3. Full shape received: (32, 3024, 3)"
      ]
    },
    {
      "cell_type": "markdown",
      "metadata": {
        "id": "1skOMKjkT3hS"
      },
      "source": [
        "## load_and_prepr_image()"
      ]
    },
    {
      "cell_type": "code",
      "execution_count": null,
      "metadata": {
        "colab": {
          "background_save": true
        },
        "id": "_fG0U8Y8K8ry"
      },
      "outputs": [],
      "source": [
        "# Create a function to import an image and resize it to be able to used with your own model\n",
        "# our model is expecting -> min_ndim=4\n",
        "def load_and_prepr_image(filename, img_shape=224):\n",
        "  \"\"\"\n",
        "  Reads an image from filename, turns it into tensor and\n",
        "  reshape it to (img_shape, img_shape, color_channel)\n",
        "  \"\"\"\n",
        "\n",
        "  # Read in our image\n",
        "  img = tf.io.read_file(filename)\n",
        "  # Decode the read image into tesnsor\n",
        "  img = tf.image.decode_image(img) \n",
        "  # Resize the image\n",
        "  img = tf.image.resize(img, size=(img_shape, img_shape))\n",
        "  # Rescale the image (Normalize)\n",
        "  img = img/255.\n",
        "  # expand the dimension (Adding the batch dimension (1, 224, 224, 3))\n",
        "  img = tf.expand_dims(img, axis=0)\n",
        "\n",
        "  return img"
      ]
    },
    {
      "cell_type": "code",
      "execution_count": null,
      "metadata": {
        "colab": {
          "background_save": true
        },
        "id": "DuffVarcTwmV"
      },
      "outputs": [],
      "source": [
        "steak = load_and_prepr_image(\"03-steak.jpeg\")\n",
        "plt.imshow(steak[0])\n",
        "plt.axis(False)\n",
        "steak[0].shape"
      ]
    },
    {
      "cell_type": "code",
      "execution_count": null,
      "metadata": {
        "colab": {
          "background_save": true
        },
        "id": "fSvnCFKHUE7j"
      },
      "outputs": [],
      "source": [
        "pred = model_1.predict(steak[0])\n",
        "pred"
      ]
    },
    {
      "cell_type": "code",
      "execution_count": null,
      "metadata": {
        "colab": {
          "background_save": true
        },
        "id": "9rHZSrGxUkwt"
      },
      "outputs": [],
      "source": [
        "class_name"
      ]
    },
    {
      "cell_type": "code",
      "execution_count": null,
      "metadata": {
        "colab": {
          "background_save": true
        },
        "id": "WcUO_5Cusclb"
      },
      "outputs": [],
      "source": [
        "class_name[tf.cast(tf.round(pred), dtype=tf.int32)] "
      ]
    },
    {
      "cell_type": "markdown",
      "metadata": {
        "id": "HS0xobSVujga"
      },
      "source": [
        "# 127.Multi-class Image Classification"
      ]
    },
    {
      "cell_type": "markdown",
      "metadata": {
        "id": "VlZFGLIWMO09"
      },
      "source": [
        "## i).Import and Become one with the data"
      ]
    },
    {
      "cell_type": "code",
      "execution_count": null,
      "metadata": {
        "colab": {
          "background_save": true
        },
        "id": "jU5og3kEMOsE"
      },
      "outputs": [],
      "source": [
        "!wget https://storage.googleapis.com/ztm_tf_course/food_vision/10_food_classes_all_data.zip"
      ]
    },
    {
      "cell_type": "code",
      "execution_count": null,
      "metadata": {
        "colab": {
          "background_save": true
        },
        "id": "4Iv-mpVxsx9g"
      },
      "outputs": [],
      "source": [
        "import zipfile\n",
        "\n",
        "file = zipfile.ZipFile(\"10_food_classes_all_data.zip\")\n",
        "file.extractall()\n",
        "file.close"
      ]
    },
    {
      "cell_type": "code",
      "execution_count": null,
      "metadata": {
        "colab": {
          "background_save": true
        },
        "id": "PpKd2AnkLZo2"
      },
      "outputs": [],
      "source": [
        "# walik throug all directories\n",
        "import os\n",
        "\n",
        "for dirpath , dirnames, filenames in os.walk(\"10_food_classes_all_data\"):\n",
        "  print(f\"There are {len(dirnames)} directories and {len(filenames)} images in '{dirpath}'\")"
      ]
    },
    {
      "cell_type": "code",
      "execution_count": null,
      "metadata": {
        "colab": {
          "background_save": true
        },
        "id": "5hmbdsJKMI8F"
      },
      "outputs": [],
      "source": [
        "# class name\n",
        "import pathlib\n",
        "import numpy as np\n",
        "\n",
        "# Make path object\n",
        "data_dir = pathlib.Path(\"10_food_classes_all_data/train/\")\n",
        "# get list of path name\n",
        "class_name = np.array(sorted([item.name for item in data_dir.glob(\"*\")]))\n",
        "class_name"
      ]
    },
    {
      "cell_type": "code",
      "execution_count": null,
      "metadata": {
        "colab": {
          "background_save": true
        },
        "id": "iIKVLMqFN-ht"
      },
      "outputs": [],
      "source": [
        "# visualize, visualize and visualize\n",
        "import random \n",
        "\n",
        "img = plot_random_image_2(\"10_food_classes_all_data/train/\",\n",
        "                  random.choice(class_name))"
      ]
    },
    {
      "cell_type": "markdown",
      "metadata": {
        "id": "fqy-nFy4ZS3n"
      },
      "source": [
        "## ii).Preprocess the Data"
      ]
    },
    {
      "cell_type": "code",
      "execution_count": null,
      "metadata": {
        "colab": {
          "background_save": true
        },
        "id": "8euKrvN8XwP_"
      },
      "outputs": [],
      "source": [
        "from tensorflow.keras.preprocessing.image import ImageDataGenerator\n",
        "\n",
        "train_datagen = ImageDataGenerator(rescale=1/255.)\n",
        "test_datagen = ImageDataGenerator(rescale=1/255.)"
      ]
    },
    {
      "cell_type": "code",
      "execution_count": null,
      "metadata": {
        "colab": {
          "background_save": true
        },
        "id": "Qnuz6RT0c6pu"
      },
      "outputs": [],
      "source": [
        "# Load in data from directores\n",
        "train_data = train_datagen.flow_from_directory(directory=\"10_food_classes_all_data/train\",\n",
        "                                               target_size=(224,224),\n",
        "                                               batch_size=32,\n",
        "                                               class_mode=\"categorical\")\n",
        "test_data = test_datagen.flow_from_directory(directory=\"10_food_classes_all_data/test\",\n",
        "                                             target_size=(224,224),\n",
        "                                             batch_size=32,\n",
        "                                             class_mode=\"categorical\")"
      ]
    },
    {
      "cell_type": "markdown",
      "metadata": {
        "id": "oPh5Fr5Ed0Oy"
      },
      "source": [
        "## iii).Create and Fit the Model\n",
        "\n",
        "\n"
      ]
    },
    {
      "cell_type": "code",
      "execution_count": null,
      "metadata": {
        "colab": {
          "background_save": true
        },
        "id": "AX8-vp2ReIgl"
      },
      "outputs": [],
      "source": [
        "# Import all libraries\n",
        "from tensorflow.keras.optimizers import Adam\n",
        "from tensorflow.keras.layers import Conv2D, MaxPool2D, Dense, Flatten\n",
        "from tensorflow.keras.activations import relu, softmax\n",
        "from tensorflow.keras.models import Sequential"
      ]
    },
    {
      "cell_type": "code",
      "execution_count": null,
      "metadata": {
        "colab": {
          "background_save": true
        },
        "id": "6uDe5wL4dyuA",
        "outputId": "8269a5da-9c60-47bb-cd17-c0a974f889b3"
      },
      "outputs": [
        {
          "name": "stdout",
          "output_type": "stream",
          "text": [
            "Epoch 1/5\n",
            "235/235 [==============================] - 509s 2s/step - loss: 2.1009 - accuracy: 0.2392 - val_loss: 2.0246 - val_accuracy: 0.2748\n",
            "Epoch 2/5\n",
            "235/235 [==============================] - 508s 2s/step - loss: 1.8766 - accuracy: 0.3485 - val_loss: 1.8811 - val_accuracy: 0.3428\n",
            "Epoch 3/5\n",
            "235/235 [==============================] - 502s 2s/step - loss: 1.6620 - accuracy: 0.4384 - val_loss: 1.8824 - val_accuracy: 0.3360\n",
            "Epoch 4/5\n",
            "235/235 [==============================] - 502s 2s/step - loss: 1.2560 - accuracy: 0.5793 - val_loss: 2.0381 - val_accuracy: 0.3396\n",
            "Epoch 5/5\n",
            "235/235 [==============================] - 501s 2s/step - loss: 0.7049 - accuracy: 0.7712 - val_loss: 2.5641 - val_accuracy: 0.3200\n"
          ]
        }
      ],
      "source": [
        "# (Baseline)\n",
        "# set random seed\n",
        "tf.random.set_seed(42)\n",
        "\n",
        "# create the model\n",
        "model_9 = Sequential([\n",
        "              Conv2D(filters=10, \n",
        "                     kernel_size=3, \n",
        "                     input_shape=(224,224,3),\n",
        "                     activation=\"relu\"),\n",
        "              Conv2D(10, 3, activation=\"relu\"),\n",
        "              MaxPool2D(pool_size=2),\n",
        "              Conv2D(10, 3, activation=\"relu\"),\n",
        "              Conv2D(10, 3, activation=\"relu\"),\n",
        "              MaxPool2D(),\n",
        "              Flatten(),\n",
        "              Dense(10, activation=\"softmax\")\n",
        "])\n",
        "\n",
        "# Compile the model\n",
        "model_9.compile(\n",
        "    loss = tf.keras.losses.CategoricalCrossentropy(),\n",
        "    optimizer = Adam(),\n",
        "    metrics=[\"accuracy\"]\n",
        ")\n",
        "\n",
        "# fit the model\n",
        "history_9 = model_9.fit(train_data,\n",
        "            epochs=5, \n",
        "            steps_per_epoch=len(train_data),\n",
        "            validation_data=test_data,\n",
        "            validation_steps=len(test_data))"
      ]
    },
    {
      "cell_type": "code",
      "execution_count": null,
      "metadata": {
        "colab": {
          "background_save": true
        },
        "id": "W0Gwbjz9fmev",
        "outputId": "16284485-48d5-447e-a7e4-bf6ba6ab1a7c"
      },
      "outputs": [
        {
          "data": {
            "text/plain": [
              "<matplotlib.axes._subplots.AxesSubplot at 0x7f9a32a68c90>"
            ]
          },
          "execution_count": null,
          "metadata": {},
          "output_type": "execute_result"
        },
        {
          "data": {
            "image/png": "[encoded data removed]",
            "text/plain": [
              "<Figure size 432x288 with 1 Axes>"
            ]
          },
          "metadata": {},
          "output_type": "display_data"
        }
      ],
      "source": [
        "# loss curve\n",
        "import pandas as pd \n",
        "\n",
        "pd.DataFrame(history_9.history).plot()"
      ]
    },
    {
      "cell_type": "markdown",
      "metadata": {
        "id": "mef1QEOKtoj4"
      },
      "source": [
        "Seems, like our model is overfitting...."
      ]
    },
    {
      "cell_type": "markdown",
      "metadata": {
        "id": "EHebeZT1ttut"
      },
      "source": [
        "## iv).Adjust the model hyperparameters"
      ]
    },
    {
      "cell_type": "markdown",
      "metadata": {
        "id": "ZsjWIhc2uGx8"
      },
      "source": [
        "Reduce the overfitting\n",
        "\n",
        "Due to performance on training data, its clear that our model is not learning...\n",
        "\n",
        "So, lets try and fix overfitting by..\n",
        "* **Get more data**(having more data gives a model more diversity to learn)\n",
        "* **Simplify the model** - our current model is overfitting the data, it may be to complicated of model, one way to simplify the model is to: reduce # of layers, reduce # of hidden units\n",
        "* **Use Data Augmentation** - data augmentation manipulates the training data in to add more diversity to it (withour altering the original image)\n",
        "* **Use Transger Learning** - transfer learning leverages the patterns another model has learn on similar data to your own and allows you to use pattern on your own dataset"
      ]
    },
    {
      "cell_type": "code",
      "execution_count": null,
      "metadata": {
        "colab": {
          "background_save": true
        },
        "id": "0v_Pf8aCxrUV",
        "outputId": "c07f38fe-aa6c-44ef-9de6-fcd5940ffd1f"
      },
      "outputs": [
        {
          "name": "stdout",
          "output_type": "stream",
          "text": [
            "Model: \"sequential\"\n",
            "_________________________________________________________________\n",
            "Layer (type)                 Output Shape              Param #   \n",
            "=================================================================\n",
            "conv2d (Conv2D)              (None, 222, 222, 10)      280       \n",
            "_________________________________________________________________\n",
            "conv2d_1 (Conv2D)            (None, 220, 220, 10)      910       \n",
            "_________________________________________________________________\n",
            "max_pooling2d (MaxPooling2D) (None, 110, 110, 10)      0         \n",
            "_________________________________________________________________\n",
            "conv2d_2 (Conv2D)            (None, 108, 108, 10)      910       \n",
            "_________________________________________________________________\n",
            "conv2d_3 (Conv2D)            (None, 106, 106, 10)      910       \n",
            "_________________________________________________________________\n",
            "max_pooling2d_1 (MaxPooling2 (None, 53, 53, 10)        0         \n",
            "_________________________________________________________________\n",
            "flatten (Flatten)            (None, 28090)             0         \n",
            "_________________________________________________________________\n",
            "dense (Dense)                (None, 10)                280910    \n",
            "=================================================================\n",
            "Total params: 283,920\n",
            "Trainable params: 283,920\n",
            "Non-trainable params: 0\n",
            "_________________________________________________________________\n"
          ]
        }
      ],
      "source": [
        "model_9.summary()"
      ]
    },
    {
      "cell_type": "code",
      "execution_count": null,
      "metadata": {
        "colab": {
          "background_save": true
        },
        "id": "1l3LV0yWtmdb",
        "outputId": "0da10903-5729-4d4a-e092-ebafa17da8e4"
      },
      "outputs": [
        {
          "name": "stdout",
          "output_type": "stream",
          "text": [
            "Epoch 1/5\n",
            "235/235 [==============================] - 237s 1s/step - loss: 2.1110 - accuracy: 0.2431 - val_loss: 1.9661 - val_accuracy: 0.2916\n",
            "Epoch 2/5\n",
            "235/235 [==============================] - 236s 1s/step - loss: 1.8033 - accuracy: 0.3868 - val_loss: 1.8930 - val_accuracy: 0.3396\n",
            "Epoch 3/5\n",
            "235/235 [==============================] - 237s 1s/step - loss: 1.4729 - accuracy: 0.5120 - val_loss: 1.8699 - val_accuracy: 0.3528\n",
            "Epoch 4/5\n",
            "235/235 [==============================] - 239s 1s/step - loss: 1.0052 - accuracy: 0.6823 - val_loss: 2.0509 - val_accuracy: 0.3280\n",
            "Epoch 5/5\n",
            "235/235 [==============================] - 238s 1s/step - loss: 0.5747 - accuracy: 0.8331 - val_loss: 2.4354 - val_accuracy: 0.3268\n"
          ]
        }
      ],
      "source": [
        "# how about we simplify the model\n",
        "# Remove 2 Conlutional layer\n",
        "\n",
        "# set random seed\n",
        "tf.random.set_seed(42)\n",
        "\n",
        "# create the model\n",
        "model_10 = Sequential([\n",
        "            Conv2D(10, 3, activation=\"relu\"),\n",
        "            Maxpool2D(),\n",
        "            Conv2D(10, 3, activation=\"relu\"),\n",
        "            MaxPool2D(),\n",
        "            Flatten(),\n",
        "            Dense(10, activation=\"softmax\")     \n",
        "])\n",
        "\n",
        "# compile the model\n",
        "model_10.compile(\n",
        "    loss=tf.keras.losses.CategoricalCrossentropy(),\n",
        "    optimizer=tf.keras.optimizers.Adam(),\n",
        "    metrics=[\"accuracy\"]\n",
        ")\n",
        "\n",
        "# fit the model\n",
        "history_10 = model_10.fit(train_data,\n",
        "                          epochs=5,\n",
        "                          steps_per_epoc=len(train_data),\n",
        "                          validation_data=test_data,\n",
        "                          validation_steps=len(test_data))"
      ]
    },
    {
      "cell_type": "code",
      "execution_count": null,
      "metadata": {
        "colab": {
          "background_save": true
        },
        "id": "32pwHyMazN0o",
        "outputId": "743a85bf-cece-490f-cc63-29b684bf6fec"
      },
      "outputs": [
        {
          "name": "stdout",
          "output_type": "stream",
          "text": [
            "Model: \"sequential_1\"\n",
            "_________________________________________________________________\n",
            "Layer (type)                 Output Shape              Param #   \n",
            "=================================================================\n",
            "conv2d_4 (Conv2D)            (None, None, None, 10)    280       \n",
            "_________________________________________________________________\n",
            "max_pooling2d_2 (MaxPooling2 (None, None, None, 10)    0         \n",
            "_________________________________________________________________\n",
            "conv2d_5 (Conv2D)            (None, None, None, 10)    910       \n",
            "_________________________________________________________________\n",
            "max_pooling2d_3 (MaxPooling2 (None, None, None, 10)    0         \n",
            "_________________________________________________________________\n",
            "flatten_1 (Flatten)          (None, None)              0         \n",
            "_________________________________________________________________\n",
            "dense_1 (Dense)              (None, 10)                291610    \n",
            "=================================================================\n",
            "Total params: 292,800\n",
            "Trainable params: 292,800\n",
            "Non-trainable params: 0\n",
            "_________________________________________________________________\n"
          ]
        }
      ],
      "source": [
        ""
      ]
    }
  ],
  "metadata": {
    "accelerator": "GPU",
    "colab": {
      "collapsed_sections": [],
      "name": "03_Computer_Vision_&_CNN.ipynb",
      "toc_visible": true,
      "provenance": [],
      "authorship_tag": "ABX9TyNfKZYm0E1+nSh5sVC1/Fy7",
      "include_colab_link": true
    },
    "kernelspec": {
      "display_name": "Python 3",
      "name": "python3"
    },
    "language_info": {
      "name": "python"
    }
  },
  "nbformat": 4,
  "nbformat_minor": 0
}