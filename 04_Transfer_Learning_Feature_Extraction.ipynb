{
  "nbformat": 4,
  "nbformat_minor": 0,
  "metadata": {
    "accelerator": "GPU",
    "colab": {
      "name": "04_Transfer_Learning: Feature_Extraction.ipynb",
      "provenance": [],
      "collapsed_sections": [],
      "authorship_tag": "ABX9TyPm6LwvnJbgyNaKDn+JlyRk",
      "include_colab_link": true
    },
    "kernelspec": {
      "display_name": "Python 3",
      "name": "python3"
    },
    "language_info": {
      "name": "python"
    }
  },
  "cells": [
    {
      "cell_type": "markdown",
      "metadata": {
        "id": "view-in-github",
        "colab_type": "text"
      },
      "source": [
        "<a href=\"https://colab.research.google.com/github/MalikHasnat1999/ZTM_Tensorflow/blob/master/04_Transfer_Learning_Feature_Extraction.ipynb\" target=\"_parent\"><img src=\"https://colab.research.google.com/assets/colab-badge.svg\" alt=\"Open In Colab\"/></a>"
      ]
    },
    {
      "cell_type": "code",
      "metadata": {
        "id": "YH5-pYptg64D"
      },
      "source": [
        "import pandas as pd \n",
        "import numpy as np\n",
        "import matplotlib.pyplot as plt\n",
        "import tensorflow as tf\n",
        "import zipfile\n",
        "import os\n",
        "from tensorflow.keras.preprocessing.image import ImageDataGenerator\n",
        "import datetime\n",
        "import tensorflow_hub as hub\n",
        "from tensorflow.keras import layers"
      ],
      "execution_count": null,
      "outputs": []
    },
    {
      "cell_type": "markdown",
      "metadata": {
        "id": "p_HVNNjGoTaW"
      },
      "source": [
        "# Transfer Learning Part-I : Feature Extraction\n",
        "\n",
        "> Transfer Learning is leveraging a working model's existing arvhitecture and learn patterns for our own problem"
      ]
    },
    {
      "cell_type": "markdown",
      "metadata": {
        "id": "DHzuLVTvsgtt"
      },
      "source": [
        "# Import the data"
      ]
    },
    {
      "cell_type": "code",
      "metadata": {
        "colab": {
          "base_uri": "https://localhost:8080/"
        },
        "id": "lzajmbqOoTJF",
        "outputId": "69dd336a-9b07-4ae8-a162-e215a503171f"
      },
      "source": [
        "!wget https://storage.googleapis.com/ztm_tf_course/food_vision/10_food_classes_10_percent.zip"
      ],
      "execution_count": null,
      "outputs": [
        {
          "output_type": "stream",
          "text": [
            "--2021-08-17 16:08:33--  https://storage.googleapis.com/ztm_tf_course/food_vision/10_food_classes_10_percent.zip\n",
            "Resolving storage.googleapis.com (storage.googleapis.com)... 142.251.5.128, 74.125.206.128, 64.233.184.128, ...\n",
            "Connecting to storage.googleapis.com (storage.googleapis.com)|142.251.5.128|:443... connected.\n",
            "HTTP request sent, awaiting response... 200 OK\n",
            "Length: 168546183 (161M) [application/zip]\n",
            "Saving to: ‘10_food_classes_10_percent.zip’\n",
            "\n",
            "10_food_classes_10_ 100%[===================>] 160.74M  41.0MB/s    in 3.9s    \n",
            "\n",
            "2021-08-17 16:08:38 (41.0 MB/s) - ‘10_food_classes_10_percent.zip’ saved [168546183/168546183]\n",
            "\n"
          ],
          "name": "stdout"
        }
      ]
    },
    {
      "cell_type": "code",
      "metadata": {
        "colab": {
          "base_uri": "https://localhost:8080/"
        },
        "id": "jFezsqt4tGvL",
        "outputId": "2374234f-809f-4192-eb35-797598b1f59c"
      },
      "source": [
        "data = zipfile.ZipFile(\"10_food_classes_10_percent.zip\")\n",
        "data.extractall()\n",
        "data.close"
      ],
      "execution_count": null,
      "outputs": [
        {
          "output_type": "execute_result",
          "data": {
            "text/plain": [
              "<bound method ZipFile.close of <zipfile.ZipFile filename='10_food_classes_10_percent.zip' mode='r'>>"
            ]
          },
          "metadata": {
            "tags": []
          },
          "execution_count": 5
        }
      ]
    },
    {
      "cell_type": "code",
      "metadata": {
        "colab": {
          "base_uri": "https://localhost:8080/"
        },
        "id": "HNYmxZ5PtVGX",
        "outputId": "e74a5a06-d28d-4f0d-e5ec-b1b8c75e6a8f"
      },
      "source": [
        "# Walk throught the dataset\n",
        "for dirpath, dirnames, filenames in os.walk(\"10_food_classes_10_percent\"):\n",
        "  print(f\"There are {len(filenames)} images in '{dirpath}'\")"
      ],
      "execution_count": null,
      "outputs": [
        {
          "output_type": "stream",
          "text": [
            "There are 0 images in '10_food_classes_10_percent'\n",
            "There are 0 images in '10_food_classes_10_percent/train'\n",
            "There are 75 images in '10_food_classes_10_percent/train/steak'\n",
            "There are 75 images in '10_food_classes_10_percent/train/ramen'\n",
            "There are 75 images in '10_food_classes_10_percent/train/fried_rice'\n",
            "There are 75 images in '10_food_classes_10_percent/train/grilled_salmon'\n",
            "There are 75 images in '10_food_classes_10_percent/train/chicken_wings'\n",
            "There are 75 images in '10_food_classes_10_percent/train/pizza'\n",
            "There are 75 images in '10_food_classes_10_percent/train/chicken_curry'\n",
            "There are 75 images in '10_food_classes_10_percent/train/hamburger'\n",
            "There are 75 images in '10_food_classes_10_percent/train/ice_cream'\n",
            "There are 75 images in '10_food_classes_10_percent/train/sushi'\n",
            "There are 0 images in '10_food_classes_10_percent/test'\n",
            "There are 250 images in '10_food_classes_10_percent/test/steak'\n",
            "There are 250 images in '10_food_classes_10_percent/test/ramen'\n",
            "There are 250 images in '10_food_classes_10_percent/test/fried_rice'\n",
            "There are 250 images in '10_food_classes_10_percent/test/grilled_salmon'\n",
            "There are 250 images in '10_food_classes_10_percent/test/chicken_wings'\n",
            "There are 250 images in '10_food_classes_10_percent/test/pizza'\n",
            "There are 250 images in '10_food_classes_10_percent/test/chicken_curry'\n",
            "There are 250 images in '10_food_classes_10_percent/test/hamburger'\n",
            "There are 250 images in '10_food_classes_10_percent/test/ice_cream'\n",
            "There are 250 images in '10_food_classes_10_percent/test/sushi'\n"
          ],
          "name": "stdout"
        }
      ]
    },
    {
      "cell_type": "markdown",
      "metadata": {
        "id": "27JT3dGl_TT2"
      },
      "source": [
        "# Create Data Loader (preparing the data)"
      ]
    },
    {
      "cell_type": "code",
      "metadata": {
        "colab": {
          "base_uri": "https://localhost:8080/"
        },
        "id": "MtOZ6LgMuAqH",
        "outputId": "be206f2d-cef2-4283-9523-ee5b8d994955"
      },
      "source": [
        "train_dir = \"10_food_classes_10_percent/train\"\n",
        "test_dir = \"10_food_classes_10_percent/test\"\n",
        "\n",
        "BATCH_SIZE = 32\n",
        "TARGET_SIZE = (224, 224)\n",
        "\n",
        "train_datagen = ImageDataGenerator(rescale=1/255.)\n",
        "test_datagen = ImageDataGenerator(rescale=1/255.)\n",
        "\n",
        "print(\"Training Data\")\n",
        "train_data = train_datagen.flow_from_directory(directory=train_dir,\n",
        "                                               target_size=TARGET_SIZE,\n",
        "                                               batch_size=BATCH_SIZE,\n",
        "                                               class_mode=\"categorical\")\n",
        "\n",
        "print(\"Testing Data\")\n",
        "test_data = test_datagen.flow_from_directory(directory=test_dir,\n",
        "                                             target_size=TARGET_SIZE,\n",
        "                                             batch_size=BATCH_SIZE,\n",
        "                                             class_mode=\"categorical\")"
      ],
      "execution_count": null,
      "outputs": [
        {
          "output_type": "stream",
          "text": [
            "Training Data\n",
            "Found 750 images belonging to 10 classes.\n",
            "Testing Data\n",
            "Found 2500 images belonging to 10 classes.\n"
          ],
          "name": "stdout"
        }
      ]
    },
    {
      "cell_type": "markdown",
      "metadata": {
        "id": "-RuIhz2TBFsI"
      },
      "source": [
        "# Setting up callbacks\n",
        "\n",
        "\n",
        "callbacks are Extra functionality you can add to your models to be performed during or after training. Some of the most popular callbacks:\n",
        "\n",
        "* Tracking Experiments with the **Tensorboard** callback\n",
        "* Model checkpoint with the **ModelCheckpoint** callback\n",
        "* Stopping model from training (before it trains too long and overfits) with the **EarlyStopping** callback"
      ]
    },
    {
      "cell_type": "code",
      "metadata": {
        "id": "pZXafb_MAwao"
      },
      "source": [
        "# Create Tensorboard callbacks (functionized cause we need to created one for each model)\n",
        "import datetime\n",
        "\n",
        "def create_tensorboard_callback(dir_name, experiment_name):\n",
        "  LOG_DIR = dir_name + \"/\" + experiment_name + \"/\" + datetime.datetime.now().strftime('%d%m%y-%H%M%S')\n",
        "  tensorboard_callback = tf.keras.callbacks.TensorBoard(log_dir=LOG_DIR)\n",
        "  print(f\"Saving the Tensorboard log files to {LOG_DIR}\")\n",
        "  \n",
        "  return tensorboard_callback"
      ],
      "execution_count": null,
      "outputs": []
    },
    {
      "cell_type": "markdown",
      "metadata": {
        "id": "6TN1za0xFsKK"
      },
      "source": [
        "**NOTE:** you can customize the directory where your Tensorboard log get saved to where ever you like\n",
        "\n",
        "The `LOG_DIR` paremeter that we have created is only one option."
      ]
    },
    {
      "cell_type": "markdown",
      "metadata": {
        "id": "qE9Pt8fuGNJ2"
      },
      "source": [
        "# Creating models using Tensorflow Hub\n",
        "\n",
        "In the past we have used Tensorflow to create our own models layer by layer from scratch.\n",
        "\n",
        "Now we are going to do a similar procecss, except the majority of our model's layers are going to come from  Tensorflow Hub\n",
        "\n",
        "We can access pretrained model on: https://tfhub.dev\n",
        "\n"
      ]
    },
    {
      "cell_type": "code",
      "metadata": {
        "id": "PtVIdsQ1FLeK"
      },
      "source": [
        "# Lets compare the two models\n",
        "\n",
        "resnet_url = \"https://tfhub.dev/google/imagenet/resnet_v2_50/feature_vector/5\"\n",
        "\n",
        "efficientnet_url = \"https://tfhub.dev/google/efficientnet/b0/feature-vector/1\""
      ],
      "execution_count": null,
      "outputs": []
    },
    {
      "cell_type": "code",
      "metadata": {
        "id": "gBpX8WXuszX2"
      },
      "source": [
        "\n",
        "def create_model(model_url, num_classes=10):\n",
        "  \"\"\"\n",
        "  Args:\n",
        "    model_url(str): A Tensorflow Hub feature extraction url.\n",
        "    num_classes(int): Number of output neurons in the output layer, \n",
        "                      should be equal to number of target classes, default 10.\n",
        "\n",
        "  Returns:\n",
        "    An uncompiled keras Sequential model with model url as feature extractor\n",
        "    layer and Dense output layer with num_classes output neurons\n",
        "  \"\"\"\n",
        "  # Download the pretrained model and save it as keras layer\n",
        "  feature_extractor_layer = hub.KerasLayer(model_url,\n",
        "                                           trainable=False,\n",
        "                                           name=\"Feature_Extraction_Layer\",\n",
        "                                           input_shape=TARGET_SIZE+(3,))\n",
        "  # Create our own model\n",
        "  model = tf.keras.Sequential([\n",
        "              feature_extractor_layer,\n",
        "              layers.Dense(num_classes, activation=\"softmax\", name=\"output_layer\")\n",
        "  ])\n",
        "\n",
        "  return model"
      ],
      "execution_count": null,
      "outputs": []
    },
    {
      "cell_type": "markdown",
      "metadata": {
        "id": "9ChySERrV3p8"
      },
      "source": [
        "## 143.Create and Test ResNet Tensorflow Hub Feature Extractor model"
      ]
    },
    {
      "cell_type": "code",
      "metadata": {
        "id": "AC4QDuS1VvjS"
      },
      "source": [
        "resnet_model = create_model(resnet_url)"
      ],
      "execution_count": null,
      "outputs": []
    },
    {
      "cell_type": "code",
      "metadata": {
        "id": "_jz9otqwWk0j"
      },
      "source": [
        "# Compile the model\n",
        "resnet_model.compile(\n",
        "    loss = tf.keras.losses.CategoricalCrossentropy(),\n",
        "    optimizer = tf.keras.optimizers.Adam(),\n",
        "    metrics=[\"accuracy\"]\n",
        ")"
      ],
      "execution_count": null,
      "outputs": []
    },
    {
      "cell_type": "code",
      "metadata": {
        "colab": {
          "base_uri": "https://localhost:8080/"
        },
        "id": "J-hQ4QLYW22X",
        "outputId": "9c38ef47-5d53-46bb-bf3e-509ef4199a21"
      },
      "source": [
        "# fit the model\n",
        "resnet_history = resnet_model.fit(train_data,\n",
        "                 epochs=5,\n",
        "                 steps_per_epoch=len(train_data),\n",
        "                 validation_data=test_data,\n",
        "                 validation_steps=len(test_data),\n",
        "                 callbacks=[create_tensorboard_callback(dir_name=\"tensorflow hub\",\n",
        "                                                        experiment_name=\"resnet50v2\")])"
      ],
      "execution_count": null,
      "outputs": [
        {
          "output_type": "stream",
          "text": [
            "Saving the Tensorboard log files to tensorflow hub/resnet50v2/170821-160854\n",
            "Epoch 1/5\n",
            "24/24 [==============================] - 57s 1s/step - loss: 2.0689 - accuracy: 0.3107 - val_loss: 1.2662 - val_accuracy: 0.6012\n",
            "Epoch 2/5\n",
            "24/24 [==============================] - 21s 913ms/step - loss: 0.9555 - accuracy: 0.7227 - val_loss: 0.9044 - val_accuracy: 0.7016\n",
            "Epoch 3/5\n",
            "24/24 [==============================] - 21s 908ms/step - loss: 0.6424 - accuracy: 0.8187 - val_loss: 0.7716 - val_accuracy: 0.7532\n",
            "Epoch 4/5\n",
            "24/24 [==============================] - 21s 901ms/step - loss: 0.4872 - accuracy: 0.8773 - val_loss: 0.7232 - val_accuracy: 0.7664\n",
            "Epoch 5/5\n",
            "24/24 [==============================] - 21s 910ms/step - loss: 0.3989 - accuracy: 0.8947 - val_loss: 0.6840 - val_accuracy: 0.7748\n"
          ],
          "name": "stdout"
        }
      ]
    },
    {
      "cell_type": "code",
      "metadata": {
        "colab": {
          "base_uri": "https://localhost:8080/"
        },
        "id": "QtkZZpWbWKMm",
        "outputId": "25acf3d9-74bb-4eb2-da6c-e3819ff1fbe9"
      },
      "source": [
        " resnet_model.summary()"
      ],
      "execution_count": null,
      "outputs": [
        {
          "output_type": "stream",
          "text": [
            "Model: \"sequential\"\n",
            "_________________________________________________________________\n",
            "Layer (type)                 Output Shape              Param #   \n",
            "=================================================================\n",
            "Feature_Extraction_Layer (Ke (None, 2048)              23564800  \n",
            "_________________________________________________________________\n",
            "output_layer (Dense)         (None, 10)                20490     \n",
            "=================================================================\n",
            "Total params: 23,585,290\n",
            "Trainable params: 20,490\n",
            "Non-trainable params: 23,564,800\n",
            "_________________________________________________________________\n"
          ],
          "name": "stdout"
        }
      ]
    },
    {
      "cell_type": "markdown",
      "metadata": {
        "id": "5HvvjD4SJUTX"
      },
      "source": [
        "## plot_loss_curve()"
      ]
    },
    {
      "cell_type": "code",
      "metadata": {
        "id": "X8xgdkFAWgYt"
      },
      "source": [
        "# Training loss curve\n",
        "def plot_loss_curve(history):\n",
        "  \"\"\"\n",
        "  Return seprate loss curve for training and validation metrics.\n",
        "\n",
        "  Args:\n",
        "    history: Tensorflow History object\n",
        "\n",
        "  Returns:\n",
        "    Plots of training loss curve\n",
        "  \"\"\"\n",
        "\n",
        "  loss = history.history[\"loss\"]\n",
        "  val_loss = history.history[\"val_loss\"]\n",
        "\n",
        "  accuracy = history.history[\"accuracy\"]\n",
        "  val_accuracy = history.history[\"val_accuracy\"]\n",
        "\n",
        "  epochs = range(len(history.history[\"loss\"]))\n",
        "\n",
        "  # plot loss\n",
        "  plt.figure()\n",
        "  plt.plot(epochs, loss, label=\"loss\")\n",
        "  plt.plot(epochs, val_loss, label=\"val_loss\")\n",
        "  plt.title(\"Loss Curve\")\n",
        "  plt.xlabel(\"epochs\")\n",
        "  plt.ylabel(\"Loss\")\n",
        "  plt.legend()\n",
        "\n",
        "  # plot accuracy\n",
        "  plt.figure()\n",
        "  plt.plot(epochs, accuracy, label=\"accuracy\")\n",
        "  plt.plot(epochs, val_accuracy, label=\"val_accuracy\")\n",
        "  plt.title(\"Accuracy Curve\")\n",
        "  plt.xlabel(\"epochs\")\n",
        "  plt.ylabel(\"loss\")\n",
        "  plt.legend()"
      ],
      "execution_count": null,
      "outputs": []
    },
    {
      "cell_type": "code",
      "metadata": {
        "colab": {
          "base_uri": "https://localhost:8080/",
          "height": 573
        },
        "id": "nXBj8QbsG2va",
        "outputId": "7324576f-4fe9-4e3d-f0a9-7328b8989360"
      },
      "source": [
        "plot_loss_curve(resnet_history)"
      ],
      "execution_count": null,
      "outputs": [
        {
          "output_type": "display_data",
          "data": {
            "image/png": "[encoded data removed]",
            "text/plain": [
              "<Figure size 432x288 with 1 Axes>"
            ]
          },
          "metadata": {
            "tags": [],
            "needs_background": "light"
          }
        },
        {
          "output_type": "display_data",
          "data": {
            "image/png": "[encoded data removed]",
            "text/plain": [
              "<Figure size 432x288 with 1 Axes>"
            ]
          },
          "metadata": {
            "tags": [],
            "needs_background": "light"
          }
        }
      ]
    },
    {
      "cell_type": "markdown",
      "metadata": {
        "id": "eCM93zkNJrkY"
      },
      "source": [
        "## 145.Create and Test EfficientNetB0 Feature Extraction model"
      ]
    },
    {
      "cell_type": "code",
      "metadata": {
        "id": "viWBnXRPIPof"
      },
      "source": [
        "def create_model_2(model_url, num_classes=10):\n",
        "  \"\"\"\n",
        "  Args:\n",
        "  model_url(str): A Tensorflow Hub Feature Extraction url.\n",
        "  num_classes(int): Number of output neurons in output layer\n",
        "\n",
        "  Returns:\n",
        "    An uncompiled Keras Sequential model with model url as feature extractor layer\n",
        "    and Dense output layer with num_classes outputs\n",
        "  \"\"\"\n",
        "  feature_extractor_layer = hub.KerasLayer(model_url,\n",
        "                                     trainable=False,\n",
        "                                     name=\"Feature_Extraction_layer\",\n",
        "                                     input_shape=TARGET_SIZE+(3,))\n",
        "\n",
        "  model = tf.keras.Sequential([\n",
        "            feature_extractor_layer,\n",
        "            tf.keras.layers.Dense(num_classes, activation=\"softmax\", name=\"output_layer\")\n",
        "  ])\n",
        "\n",
        "  return model"
      ],
      "execution_count": null,
      "outputs": []
    },
    {
      "cell_type": "code",
      "metadata": {
        "id": "5O1HCt1QM33s"
      },
      "source": [
        "# create model\n",
        "efficientnet_model = create_model_2(efficientnet_url)"
      ],
      "execution_count": null,
      "outputs": []
    },
    {
      "cell_type": "code",
      "metadata": {
        "id": "3utRLfnENNzK"
      },
      "source": [
        "# compile the model\n",
        "efficientnet_model.compile(\n",
        "    loss = tf.keras.losses.CategoricalCrossentropy(),\n",
        "    optimizer = tf.keras.optimizers.Adam(),\n",
        "    metrics=[\"accuracy\"]\n",
        ")"
      ],
      "execution_count": null,
      "outputs": []
    },
    {
      "cell_type": "code",
      "metadata": {
        "colab": {
          "base_uri": "https://localhost:8080/"
        },
        "id": "WDhXRwXyNk4_",
        "outputId": "d0a4cef4-85ff-40d8-d198-9ec854bd84d4"
      },
      "source": [
        "# fit the model\n",
        "efficientnet_history = efficientnet_model.fit(train_data,\n",
        "                                     epochs=5, \n",
        "                                     steps_per_epoch=len(train_data),\n",
        "                                     validation_data=test_data,\n",
        "                                     validation_steps=len(test_data),\n",
        "                                     callbacks=[create_tensorboard_callback(dir_name=\"tensorflow hub\",\n",
        "                                                                            experiment_name=\"efficientnetb0\")])"
      ],
      "execution_count": null,
      "outputs": [
        {
          "output_type": "stream",
          "text": [
            "Saving the Tensorboard log files to tensorflow hub/efficientnetb0/170821-161123\n",
            "Epoch 1/5\n",
            "24/24 [==============================] - 26s 934ms/step - loss: 1.8466 - accuracy: 0.4013 - val_loss: 1.3128 - val_accuracy: 0.7412\n",
            "Epoch 2/5\n",
            "24/24 [==============================] - 19s 802ms/step - loss: 1.0534 - accuracy: 0.7907 - val_loss: 0.8670 - val_accuracy: 0.8224\n",
            "Epoch 3/5\n",
            "24/24 [==============================] - 19s 796ms/step - loss: 0.7465 - accuracy: 0.8413 - val_loss: 0.6977 - val_accuracy: 0.8440\n",
            "Epoch 4/5\n",
            "24/24 [==============================] - 19s 795ms/step - loss: 0.6011 - accuracy: 0.8640 - val_loss: 0.6135 - val_accuracy: 0.8540\n",
            "Epoch 5/5\n",
            "24/24 [==============================] - 19s 811ms/step - loss: 0.5095 - accuracy: 0.8867 - val_loss: 0.5618 - val_accuracy: 0.8612\n"
          ],
          "name": "stdout"
        }
      ]
    },
    {
      "cell_type": "code",
      "metadata": {
        "colab": {
          "base_uri": "https://localhost:8080/",
          "height": 573
        },
        "id": "T1fkBf7ZOKVt",
        "outputId": "aaae4e9c-9725-4307-cee5-5e5cbb10b78e"
      },
      "source": [
        "# create loss curve\n",
        "plot_loss_curve(efficientnet_history)"
      ],
      "execution_count": null,
      "outputs": [
        {
          "output_type": "display_data",
          "data": {
            "image/png": "[encoded data removed]",
            "text/plain": [
              "<Figure size 432x288 with 1 Axes>"
            ]
          },
          "metadata": {
            "tags": [],
            "needs_background": "light"
          }
        },
        {
          "output_type": "display_data",
          "data": {
            "image/png": "[encoded data removed]",
            "text/plain": [
              "<Figure size 432x288 with 1 Axes>"
            ]
          },
          "metadata": {
            "tags": [],
            "needs_background": "light"
          }
        }
      ]
    },
    {
      "cell_type": "code",
      "metadata": {
        "colab": {
          "base_uri": "https://localhost:8080/"
        },
        "id": "e_SnAXWjTrXS",
        "outputId": "e0b5db32-2ae3-412d-bdd8-31c39587bcf5"
      },
      "source": [
        "efficientnet_model.summary()"
      ],
      "execution_count": null,
      "outputs": [
        {
          "output_type": "stream",
          "text": [
            "Model: \"sequential_1\"\n",
            "_________________________________________________________________\n",
            "Layer (type)                 Output Shape              Param #   \n",
            "=================================================================\n",
            "Feature_Extraction_layer (Ke (None, 1280)              4049564   \n",
            "_________________________________________________________________\n",
            "output_layer (Dense)         (None, 10)                12810     \n",
            "=================================================================\n",
            "Total params: 4,062,374\n",
            "Trainable params: 12,810\n",
            "Non-trainable params: 4,049,564\n",
            "_________________________________________________________________\n"
          ],
          "name": "stdout"
        }
      ]
    },
    {
      "cell_type": "code",
      "metadata": {
        "colab": {
          "base_uri": "https://localhost:8080/"
        },
        "id": "vXguwWfDUJ65",
        "outputId": "d2eaaf41-4df3-4d0d-a899-580136a661c5"
      },
      "source": [
        "resnet_model.summary()"
      ],
      "execution_count": null,
      "outputs": [
        {
          "output_type": "stream",
          "text": [
            "Model: \"sequential\"\n",
            "_________________________________________________________________\n",
            "Layer (type)                 Output Shape              Param #   \n",
            "=================================================================\n",
            "Feature_Extraction_Layer (Ke (None, 2048)              23564800  \n",
            "_________________________________________________________________\n",
            "output_layer (Dense)         (None, 10)                20490     \n",
            "=================================================================\n",
            "Total params: 23,585,290\n",
            "Trainable params: 20,490\n",
            "Non-trainable params: 23,564,800\n",
            "_________________________________________________________________\n"
          ],
          "name": "stdout"
        }
      ]
    },
    {
      "cell_type": "code",
      "metadata": {
        "id": "1zhmAtoaUPWB"
      },
      "source": [
        ""
      ],
      "execution_count": null,
      "outputs": []
    },
    {
      "cell_type": "markdown",
      "metadata": {
        "id": "a1cA787uyLvV"
      },
      "source": [
        "# Different types of Transfer Learning \n",
        "\n",
        "As is \"Transfer Learning\" - using existential model with no changes what so ever (e.g using ImageNet model on 1000 ImageNet classes)\n",
        "\n",
        "**\"feature extraction\"** transfer learning - use the prelearned patterns of existing model (e.g EfficientNetb0 trained on ImageNet) and adjust the output layer of your own problem\n",
        "\n",
        "\n",
        "**\"fine tuning\"** transfer learning - use the prelearned patterens of an an existing model and \"fine-tune\" many or all underlying layers"
      ]
    },
    {
      "cell_type": "code",
      "metadata": {
        "id": "kxM_hGHkyRTL"
      },
      "source": [
        ""
      ],
      "execution_count": null,
      "outputs": []
    },
    {
      "cell_type": "markdown",
      "metadata": {
        "id": "SnbJS9Ww07AN"
      },
      "source": [
        "# Comparing our results using TensorBoard"
      ]
    },
    {
      "cell_type": "code",
      "metadata": {
        "colab": {
          "base_uri": "https://localhost:8080/"
        },
        "id": "yIEbno491A2L",
        "outputId": "17bdd535-d07e-4192-8977-8c4bdc3ac642"
      },
      "source": [
        "# Upload Tensorboard dev records\n",
        "! tensorboard dev upload --logdir ./'tensorflow hub'/ \\\n",
        "  --name \"EfficientNetb0 vs ResNet50V2\" \\\n",
        "  --description \"Comparing two tensorflow hub feature extraction models\" \\\n",
        "  --one_shot"
      ],
      "execution_count": null,
      "outputs": [
        {
          "output_type": "stream",
          "text": [
            "2021-08-17 16:13:37.651515: I tensorflow/stream_executor/platform/default/dso_loader.cc:53] Successfully opened dynamic library libcudart.so.11.0\n",
            "\n",
            "***** TensorBoard Uploader *****\n",
            "\n",
            "This will upload your TensorBoard logs to https://tensorboard.dev/ from\n",
            "the following directory:\n",
            "\n",
            "./tensorflow hub/\n",
            "\n",
            "This TensorBoard will be visible to everyone. Do not upload sensitive\n",
            "data.\n",
            "\n",
            "Your use of this service is subject to Google's Terms of Service\n",
            "<https://policies.google.com/terms> and Privacy Policy\n",
            "<https://policies.google.com/privacy>, and TensorBoard.dev's Terms of Service\n",
            "<https://tensorboard.dev/policy/terms/>.\n",
            "\n",
            "This notice will not be shown again while you are logged into the uploader.\n",
            "To log out, run `tensorboard dev auth revoke`.\n",
            "\n",
            "Continue? (yes/NO) yes\n",
            "\n",
            "Please visit this URL to authorize this application: https://accounts.google.com/o/oauth2/auth?response_type=code&client_id=373649185512-8v619h5kft38l4456nm2dj4ubeqsrvh6.apps.googleusercontent.com&redirect_uri=urn%3Aietf%3Awg%3Aoauth%3A2.0%3Aoob&scope=openid+https%3A%2F%2Fwww.googleapis.com%2Fauth%2Fuserinfo.email&state=zvbMT0miuvagrzdV9Tby2LWGGKuJnf&prompt=consent&access_type=offline\n",
            "Enter the authorization code: 4/1AX4XfWhgzLgTsAqa-jxsGcigAt-zw5mmc9w8moa86yVLDLX7gQ-ys-8EHzw\n",
            "\n",
            "\n",
            "New experiment created. View your TensorBoard at: https://tensorboard.dev/experiment/xaZ1k8FgQ3quKhoWSq1C3w/\n",
            "\n",
            "\u001b[1m[2021-08-17T16:14:16]\u001b[0m Started scanning logdir.\n",
            "\u001b[1m[2021-08-17T16:14:20]\u001b[0m Total uploaded: 60 scalars, 0 tensors, 2 binary objects (3.2 MB)\n",
            "\u001b[1m[2021-08-17T16:14:20]\u001b[0m Done scanning logdir.\n",
            "\n",
            "\n",
            "Done. View your TensorBoard at https://tensorboard.dev/experiment/xaZ1k8FgQ3quKhoWSq1C3w/\n"
          ],
          "name": "stdout"
        }
      ]
    },
    {
      "cell_type": "markdown",
      "metadata": {
        "id": "MbRWhGD45Vej"
      },
      "source": [
        "## List TensorBoard Dev List"
      ]
    },
    {
      "cell_type": "code",
      "metadata": {
        "colab": {
          "base_uri": "https://localhost:8080/"
        },
        "id": "aPtierwY3bFA",
        "outputId": "ed858ceb-fd8c-4a52-a37a-6292f3887fc6"
      },
      "source": [
        "! tensorboard dev list"
      ],
      "execution_count": null,
      "outputs": [
        {
          "output_type": "stream",
          "text": [
            "2021-08-17 16:15:18.324612: I tensorflow/stream_executor/platform/default/dso_loader.cc:53] Successfully opened dynamic library libcudart.so.11.0\n",
            "https://tensorboard.dev/experiment/xaZ1k8FgQ3quKhoWSq1C3w/\n",
            "\tName                 EfficientNetb0 vs ResNet50V2\n",
            "\tDescription          Comparing two tensorflow hub feature extraction models\n",
            "\tId                   xaZ1k8FgQ3quKhoWSq1C3w\n",
            "\tCreated              2021-08-17 16:14:16 (1 minute ago)\n",
            "\tUpdated              2021-08-17 16:14:20 (1 minute ago)\n",
            "\tRuns                 4\n",
            "\tTags                 5\n",
            "\tScalars              60\n",
            "\tTensor bytes         0\n",
            "\tBinary object bytes  3389175\n",
            "Total: 1 experiment(s)\n"
          ],
          "name": "stdout"
        }
      ]
    },
    {
      "cell_type": "markdown",
      "metadata": {
        "id": "_6r3GrQG5Zzf"
      },
      "source": [
        "## Delete an Experiment"
      ]
    },
    {
      "cell_type": "code",
      "metadata": {
        "id": "3XTwaia_5URn"
      },
      "source": [
        "# ! tensorboard dev delete --experiment_id xaZ1k8FgQ3quKhoWSq1C3w"
      ],
      "execution_count": null,
      "outputs": []
    },
    {
      "cell_type": "markdown",
      "metadata": {
        "id": "ypF_ZTmyL70h"
      },
      "source": [
        "# **Exercise**"
      ]
    },
    {
      "cell_type": "code",
      "metadata": {
        "id": "gMoJsLNMMUsc"
      },
      "source": [
        "import tensorflow as tf\n",
        "import zipfile\n",
        "from tensorflow.keras.preprocessing.image import ImageDataGenerator\n",
        "import os\n",
        "import datetime\n",
        "import tensorflow_hub as hub\n",
        "import matplotlib.pyplot as plt\n"
      ],
      "execution_count": null,
      "outputs": []
    },
    {
      "cell_type": "markdown",
      "metadata": {
        "id": "g205vY57MAIU"
      },
      "source": [
        "## Q-1\n",
        "\n",
        "Build and fit a model using the same data we have here but with the MobileNetV2 architecture feature extraction [(mobilenet_v2_100_224/feature_vector)](https://tfhub.dev/google/imagenet/mobilenet_v2_100_224/feature_vector/4) from TensorFlow Hub, how does it perform compared to our other models?"
      ]
    },
    {
      "cell_type": "code",
      "metadata": {
        "colab": {
          "base_uri": "https://localhost:8080/"
        },
        "id": "i68zJ5M_MDCO",
        "outputId": "3b08bdbd-ad59-4817-9c21-03393cae49db"
      },
      "source": [
        "# import the data\n",
        "!wget https://storage.googleapis.com/ztm_tf_course/food_vision/10_food_classes_10_percent.zip"
      ],
      "execution_count": null,
      "outputs": [
        {
          "output_type": "stream",
          "text": [
            "--2021-08-18 07:45:18--  https://storage.googleapis.com/ztm_tf_course/food_vision/10_food_classes_10_percent.zip\n",
            "Resolving storage.googleapis.com (storage.googleapis.com)... 142.251.5.128, 74.125.206.128, 64.233.184.128, ...\n",
            "Connecting to storage.googleapis.com (storage.googleapis.com)|142.251.5.128|:443... connected.\n",
            "HTTP request sent, awaiting response... 200 OK\n",
            "Length: 168546183 (161M) [application/zip]\n",
            "Saving to: ‘10_food_classes_10_percent.zip’\n",
            "\n",
            "10_food_classes_10_ 100%[===================>] 160.74M  42.1MB/s    in 3.8s    \n",
            "\n",
            "2021-08-18 07:45:23 (42.1 MB/s) - ‘10_food_classes_10_percent.zip’ saved [168546183/168546183]\n",
            "\n"
          ],
          "name": "stdout"
        }
      ]
    },
    {
      "cell_type": "code",
      "metadata": {
        "colab": {
          "base_uri": "https://localhost:8080/"
        },
        "id": "eO9VBupIOLnP",
        "outputId": "68c56595-368d-4e7e-f79a-9b5a514c59ac"
      },
      "source": [
        "# Unzip the file\n",
        "zip_ref = zipfile.ZipFile(\"/content/10_food_classes_10_percent.zip\")\n",
        "zip_ref.extractall()\n",
        "zip_ref.close"
      ],
      "execution_count": null,
      "outputs": [
        {
          "output_type": "execute_result",
          "data": {
            "text/plain": [
              "<bound method ZipFile.close of <zipfile.ZipFile filename='/content/10_food_classes_10_percent.zip' mode='r'>>"
            ]
          },
          "metadata": {
            "tags": []
          },
          "execution_count": 6
        }
      ]
    },
    {
      "cell_type": "code",
      "metadata": {
        "colab": {
          "base_uri": "https://localhost:8080/"
        },
        "id": "6I-VQyElOkRG",
        "outputId": "d3f90f14-6b58-495c-b473-5dfbb42b3017"
      },
      "source": [
        "# preprocess the data (prepare data loader)\n",
        "train_dir = \"/content/10_food_classes_10_percent/train\" \n",
        "test_dir = \"/content/10_food_classes_10_percent/test\"\n",
        "\n",
        "BATCH_SIZE=32\n",
        "TARGET_SIZE=(224, 224)\n",
        "\n",
        "train_datagen = ImageDataGenerator(rescale=1/255.)\n",
        "test_datagen = ImageDataGenerator(rescale=1/255.)\n",
        "\n",
        "train_data = train_datagen.flow_from_directory(directory=train_dir,\n",
        "                                               batch_size=BATCH_SIZE,\n",
        "                                               target_size=TARGET_SIZE,\n",
        "                                               class_mode=\"categorical\")\n",
        "\n",
        "test_data = test_datagen.flow_from_directory(directory=test_dir,\n",
        "                                             batch_size=BATCH_SIZE,\n",
        "                                             target_size=TARGET_SIZE,\n",
        "                                             class_mode=\"categorical\")\n"
      ],
      "execution_count": null,
      "outputs": [
        {
          "output_type": "stream",
          "text": [
            "Found 750 images belonging to 10 classes.\n",
            "Found 2500 images belonging to 10 classes.\n"
          ],
          "name": "stdout"
        }
      ]
    },
    {
      "cell_type": "code",
      "metadata": {
        "colab": {
          "base_uri": "https://localhost:8080/"
        },
        "id": "WkDupcp_QNcM",
        "outputId": "342b69d9-c1e9-4690-b86b-5743fd26a718"
      },
      "source": [
        "# Walk through the directories\n",
        "\n",
        "for dirpath, dirnames, filenames in os.walk(\"/content/10_food_classes_10_percent\"):\n",
        "  print(f\"There are {len(filenames)} images in '{dirpath}'\")"
      ],
      "execution_count": null,
      "outputs": [
        {
          "output_type": "stream",
          "text": [
            "There are 0 images in '/content/10_food_classes_10_percent'\n",
            "There are 0 images in '/content/10_food_classes_10_percent/train'\n",
            "There are 75 images in '/content/10_food_classes_10_percent/train/hamburger'\n",
            "There are 75 images in '/content/10_food_classes_10_percent/train/chicken_curry'\n",
            "There are 75 images in '/content/10_food_classes_10_percent/train/fried_rice'\n",
            "There are 75 images in '/content/10_food_classes_10_percent/train/ice_cream'\n",
            "There are 75 images in '/content/10_food_classes_10_percent/train/ramen'\n",
            "There are 75 images in '/content/10_food_classes_10_percent/train/steak'\n",
            "There are 75 images in '/content/10_food_classes_10_percent/train/sushi'\n",
            "There are 75 images in '/content/10_food_classes_10_percent/train/chicken_wings'\n",
            "There are 75 images in '/content/10_food_classes_10_percent/train/pizza'\n",
            "There are 75 images in '/content/10_food_classes_10_percent/train/grilled_salmon'\n",
            "There are 0 images in '/content/10_food_classes_10_percent/test'\n",
            "There are 250 images in '/content/10_food_classes_10_percent/test/hamburger'\n",
            "There are 250 images in '/content/10_food_classes_10_percent/test/chicken_curry'\n",
            "There are 250 images in '/content/10_food_classes_10_percent/test/fried_rice'\n",
            "There are 250 images in '/content/10_food_classes_10_percent/test/ice_cream'\n",
            "There are 250 images in '/content/10_food_classes_10_percent/test/ramen'\n",
            "There are 250 images in '/content/10_food_classes_10_percent/test/steak'\n",
            "There are 250 images in '/content/10_food_classes_10_percent/test/sushi'\n",
            "There are 250 images in '/content/10_food_classes_10_percent/test/chicken_wings'\n",
            "There are 250 images in '/content/10_food_classes_10_percent/test/pizza'\n",
            "There are 250 images in '/content/10_food_classes_10_percent/test/grilled_salmon'\n"
          ],
          "name": "stdout"
        }
      ]
    },
    {
      "cell_type": "code",
      "metadata": {
        "id": "5tyWj58XQu7q"
      },
      "source": [
        "# Create Tensorboard Callback\n",
        "\n",
        "def tensorboard_callback(dir_name, experiment_name):\n",
        "  tensorboard_callback = tf.keras.callbacks.TensorBoard(\n",
        "                  log_dir=dir_name+\"/\"+experiment_name+\"/\"+datetime.datetime.now().strftime(\"%Y%m%d-%H%M%S\")\n",
        "  ) \n",
        "\n",
        "  return tensorboard_callback"
      ],
      "execution_count": null,
      "outputs": []
    },
    {
      "cell_type": "code",
      "metadata": {
        "id": "1DprglcwTqas"
      },
      "source": [
        "# creating path object the model\n",
        "mobilenet = \"https://tfhub.dev/google/imagenet/mobilenet_v2_100_224/feature_vector/4\""
      ],
      "execution_count": null,
      "outputs": []
    },
    {
      "cell_type": "code",
      "metadata": {
        "id": "5o8ylliNT46Q"
      },
      "source": [
        "def create_model_2(model_url, num_classes=10):\n",
        "  # download the model as a Sequential model layer\n",
        "  feature_extractor_layer = hub.KerasLayer(model_url,\n",
        "                                           trainable=False,\n",
        "                                           input_shape=TARGET_SIZE+(3,),\n",
        "                                           name=\"Feature_Extraction_Layer\")\n",
        "  # create the model\n",
        "  model = tf.keras.Sequential([\n",
        "              feature_extractor_layer,\n",
        "              tf.keras.layers.Dense(10, activation=\"softmax\", name=\"output_layer\")\n",
        "  ])\n",
        "\n",
        "  # return the model\n",
        "  return model"
      ],
      "execution_count": null,
      "outputs": []
    },
    {
      "cell_type": "code",
      "metadata": {
        "id": "hlyhf83dU9AW"
      },
      "source": [
        "# create the model\n",
        "mobilenet_model = create_model_2(mobilenet)"
      ],
      "execution_count": null,
      "outputs": []
    },
    {
      "cell_type": "code",
      "metadata": {
        "colab": {
          "base_uri": "https://localhost:8080/"
        },
        "id": "sB1QEblpVQfB",
        "outputId": "0b08f508-a768-4c1b-e671-59d8f6af875f"
      },
      "source": [
        "# compile the model\n",
        "mobilenet_model.compile(\n",
        "    loss=tf.keras.losses.CategoricalCrossentropy(),\n",
        "    optimizer=tf.keras.optimizers.Adam(),\n",
        "    metrics=[\"accuracy\"]\n",
        ")\n",
        "\n",
        "# fit the model\n",
        "mobilenet_history = mobilenet_model.fit(train_data,\n",
        "                                        epochs=5,\n",
        "                                        steps_per_epoch=len(train_data),\n",
        "                                        validation_data=test_data,\n",
        "                                        validation_steps=len(test_data),\n",
        "                                        callbacks=[tensorboard_callback(\"Exercise_TensorBoard_Hub\",\n",
        "                                                                       \"MobileNet_V2_100_224\",)])"
      ],
      "execution_count": null,
      "outputs": [
        {
          "output_type": "stream",
          "text": [
            "Epoch 1/5\n",
            "24/24 [==============================] - 58s 1s/step - loss: 1.9333 - accuracy: 0.3533 - val_loss: 1.2498 - val_accuracy: 0.6368\n",
            "Epoch 2/5\n",
            "24/24 [==============================] - 25s 1s/step - loss: 1.0268 - accuracy: 0.6973 - val_loss: 0.8493 - val_accuracy: 0.7596\n",
            "Epoch 3/5\n",
            "24/24 [==============================] - 18s 775ms/step - loss: 0.7213 - accuracy: 0.7960 - val_loss: 0.7139 - val_accuracy: 0.7904\n",
            "Epoch 4/5\n",
            "24/24 [==============================] - 18s 779ms/step - loss: 0.5611 - accuracy: 0.8613 - val_loss: 0.6538 - val_accuracy: 0.8008\n",
            "Epoch 5/5\n",
            "24/24 [==============================] - 18s 775ms/step - loss: 0.4702 - accuracy: 0.9000 - val_loss: 0.6198 - val_accuracy: 0.8052\n"
          ],
          "name": "stdout"
        }
      ]
    },
    {
      "cell_type": "code",
      "metadata": {
        "id": "gcdPfU5eWES6"
      },
      "source": [
        "# Create Training Loss Curve\n",
        "def plot_loss_curve_2(history):\n",
        "  loss = history.history[\"loss\"]\n",
        "  val_loss = history.history[\"val_loss\"]\n",
        "\n",
        "  accuracy =  history.history[\"accuracy\"]\n",
        "  val_accuracy = history.history[\"val_accuracy\"]\n",
        "\n",
        "  epochs=range(len(history.history[\"loss\"]))\n",
        "\n",
        "  # plot the graphs\n",
        "  plt.figure()\n",
        "  plt.plot(epochs, loss, label=\"loss\")\n",
        "  plt.plot(epochs, val_loss, label=\"val_loss\")\n",
        "  plt.title(\"Loss Curve\")\n",
        "  plt.xlabel(\"epochs\")\n",
        "  plt.ylabel(\"Loss\")\n",
        "  plt.legend()\n",
        "\n",
        "  plt.figure()\n",
        "  plt.plot(epochs, accuracy, label=\"accuracy\")\n",
        "  plt.plot(epochs, val_accuracy, label=\"val_accuracy\")\n",
        "  plt.title(\"Accuracy Curve\")\n",
        "  plt.xlabel(\"epochs\")\n",
        "  plt.ylabel(\"Accuracy\")\n",
        "  plt.legend()"
      ],
      "execution_count": null,
      "outputs": []
    },
    {
      "cell_type": "code",
      "metadata": {
        "colab": {
          "base_uri": "https://localhost:8080/",
          "height": 573
        },
        "id": "hdZuZpgkXomW",
        "outputId": "99bcef31-0995-4711-8db6-ff5bf5373141"
      },
      "source": [
        "plot_loss_curve_2(mobilenet_history)"
      ],
      "execution_count": null,
      "outputs": [
        {
          "output_type": "display_data",
          "data": {
            "image/png": "[encoded data removed]",
            "text/plain": [
              "<Figure size 432x288 with 1 Axes>"
            ]
          },
          "metadata": {
            "tags": [],
            "needs_background": "light"
          }
        },
        {
          "output_type": "display_data",
          "data": {
            "image/png": "[encoded data removed]",
            "text/plain": [
              "<Figure size 432x288 with 1 Axes>"
            ]
          },
          "metadata": {
            "tags": [],
            "needs_background": "light"
          }
        }
      ]
    },
    {
      "cell_type": "code",
      "metadata": {
        "colab": {
          "base_uri": "https://localhost:8080/"
        },
        "id": "PKi6gRIrXsWD",
        "outputId": "28c8dd1f-19f0-4bce-c836-a01600375291"
      },
      "source": [
        "mobilenet_model.summary()"
      ],
      "execution_count": null,
      "outputs": [
        {
          "output_type": "stream",
          "text": [
            "Model: \"sequential\"\n",
            "_________________________________________________________________\n",
            "Layer (type)                 Output Shape              Param #   \n",
            "=================================================================\n",
            "Feature_Extraction_Layer (Ke (None, 1280)              2257984   \n",
            "_________________________________________________________________\n",
            "output_layer (Dense)         (None, 10)                12810     \n",
            "=================================================================\n",
            "Total params: 2,270,794\n",
            "Trainable params: 12,810\n",
            "Non-trainable params: 2,257,984\n",
            "_________________________________________________________________\n"
          ],
          "name": "stdout"
        }
      ]
    },
    {
      "cell_type": "code",
      "metadata": {
        "colab": {
          "base_uri": "https://localhost:8080/",
          "height": 174
        },
        "id": "QFQqr9zxX8fu",
        "outputId": "879685b9-b4fa-48c1-bcdb-9d2791d0e22e"
      },
      "source": [
        "resnet_model.summary()"
      ],
      "execution_count": null,
      "outputs": [
        {
          "output_type": "error",
          "ename": "NameError",
          "evalue": "ignored",
          "traceback": [
            "\u001b[0;31m---------------------------------------------------------------------------\u001b[0m",
            "\u001b[0;31mNameError\u001b[0m                                 Traceback (most recent call last)",
            "\u001b[0;32m<ipython-input-40-1054f8cc02af>\u001b[0m in \u001b[0;36m<module>\u001b[0;34m()\u001b[0m\n\u001b[0;32m----> 1\u001b[0;31m \u001b[0mresnet_model\u001b[0m\u001b[0;34m.\u001b[0m\u001b[0msummary\u001b[0m\u001b[0;34m\u001b[0m\u001b[0;34m\u001b[0m\u001b[0m\n\u001b[0m",
            "\u001b[0;31mNameError\u001b[0m: name 'resnet_model' is not defined"
          ]
        }
      ]
    },
    {
      "cell_type": "code",
      "metadata": {
        "colab": {
          "base_uri": "https://localhost:8080/",
          "height": 174
        },
        "id": "RDehqxmxYCaC",
        "outputId": "0c323a60-098c-4c9c-a0b8-b081c7b91d73"
      },
      "source": [
        "efficientnet_model.summary()"
      ],
      "execution_count": null,
      "outputs": [
        {
          "output_type": "error",
          "ename": "NameError",
          "evalue": "ignored",
          "traceback": [
            "\u001b[0;31m---------------------------------------------------------------------------\u001b[0m",
            "\u001b[0;31mNameError\u001b[0m                                 Traceback (most recent call last)",
            "\u001b[0;32m<ipython-input-41-9b9fbf7cdb75>\u001b[0m in \u001b[0;36m<module>\u001b[0;34m()\u001b[0m\n\u001b[0;32m----> 1\u001b[0;31m \u001b[0mefficientnet_model\u001b[0m\u001b[0;34m.\u001b[0m\u001b[0msummary\u001b[0m\u001b[0;34m\u001b[0m\u001b[0;34m\u001b[0m\u001b[0m\n\u001b[0m",
            "\u001b[0;31mNameError\u001b[0m: name 'efficientnet_model' is not defined"
          ]
        }
      ]
    },
    {
      "cell_type": "markdown",
      "metadata": {
        "id": "_RSjp1p5YRhv"
      },
      "source": [
        "## Q-2\n",
        "Name 3 different image classification models on TensorFlow Hub that we haven't used.\n",
        "\n",
        ">  **(VGG-16)** Very Deep Convolutional Networks for Large-Scale Image Recognition \n",
        "\n",
        "> Inceptionv3\n"
      ]
    },
    {
      "cell_type": "markdown",
      "metadata": {
        "id": "1Pp4X71CZrs_"
      },
      "source": [
        "## Q-4\n",
        "\n",
        "What is the current best performing model on ImageNet?\n",
        "\n",
        "> ResNeXt-101 32x48d\n",
        "\n"
      ]
    },
    {
      "cell_type": "code",
      "metadata": {
        "id": "s_zUxuorZ3n6"
      },
      "source": [
        ""
      ],
      "execution_count": null,
      "outputs": []
    },
    {
      "cell_type": "code",
      "metadata": {
        "id": "S6f1W4qYZt-y"
      },
      "source": [
        ""
      ],
      "execution_count": null,
      "outputs": []
    }
  ]
}