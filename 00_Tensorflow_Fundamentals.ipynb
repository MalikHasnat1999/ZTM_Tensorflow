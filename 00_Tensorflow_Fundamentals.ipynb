{
  "nbformat": 4,
  "nbformat_minor": 0,
  "metadata": {
    "colab": {
      "name": "00_Tensorflow_Fundamentals",
      "provenance": [],
      "collapsed_sections": [
        "5sLR2Ybl9Gtg",
        "W2A6xmlKFxsl",
        "LyWAxgBEO-nY",
        "S5qH0I2_W8iw",
        "ndix_zMPhq2G",
        "S-2OAiSvjWwJ",
        "NjDfnfbVr9b7",
        "U0usrxaYx6Rf",
        "BDTnrwX96-Hk",
        "349_ep789YIE",
        "tez0jbh3gRYg",
        "LQGdJ5TVjYOG",
        "bHZIOfRUEhIl",
        "LnQhjXrASVqX",
        "IWPyNSkImpdQ",
        "JZYUTLDxWLQY"
      ],
      "authorship_tag": "ABX9TyOxQqO8i+aI/sNBbDa5+/ol",
      "include_colab_link": true
    },
    "kernelspec": {
      "name": "python3",
      "display_name": "Python 3"
    },
    "language_info": {
      "name": "python"
    }
  },
  "cells": [
    {
      "cell_type": "markdown",
      "metadata": {
        "id": "view-in-github",
        "colab_type": "text"
      },
      "source": [
        "<a href=\"https://colab.research.google.com/github/MalikHasnat1999/ZTM_Tensorflow/blob/master/00_Tensorflow_Fundamentals.ipynb\" target=\"_parent\"><img src=\"https://colab.research.google.com/assets/colab-badge.svg\" alt=\"Open In Colab\"/></a>"
      ]
    },
    {
      "cell_type": "markdown",
      "metadata": {
        "id": "EsnlWFui8j_m"
      },
      "source": [
        "\n",
        "# **We are going to cover the following Topics**\n",
        "---"
      ]
    },
    {
      "cell_type": "markdown",
      "metadata": {
        "id": "5sLR2Ybl9Gtg"
      },
      "source": [
        "# Introduction to Tensors"
      ]
    },
    {
      "cell_type": "code",
      "metadata": {
        "colab": {
          "base_uri": "https://localhost:8080/"
        },
        "id": "ZRffidFi8QiW",
        "outputId": "3668685d-0969-40a4-d98d-179230f64e54"
      },
      "source": [
        "# Tensorflow\n",
        "import tensorflow as tf\n",
        "tf.__version__"
      ],
      "execution_count": null,
      "outputs": [
        {
          "output_type": "execute_result",
          "data": {
            "application/vnd.google.colaboratory.intrinsic+json": {
              "type": "string"
            },
            "text/plain": [
              "'2.5.0'"
            ]
          },
          "metadata": {
            "tags": []
          },
          "execution_count": 3
        }
      ]
    },
    {
      "cell_type": "code",
      "metadata": {
        "colab": {
          "base_uri": "https://localhost:8080/"
        },
        "id": "tt-YokxY9Wg8",
        "outputId": "e7e368d5-8d70-4eb4-be8b-bb124aafaa57"
      },
      "source": [
        "# creating Tensor using tf.constant()\n",
        "scalar = tf.constant(10)\n",
        "scalar"
      ],
      "execution_count": null,
      "outputs": [
        {
          "output_type": "execute_result",
          "data": {
            "text/plain": [
              "<tf.Tensor: shape=(), dtype=int32, numpy=10>"
            ]
          },
          "metadata": {
            "tags": []
          },
          "execution_count": 4
        }
      ]
    },
    {
      "cell_type": "code",
      "metadata": {
        "colab": {
          "base_uri": "https://localhost:8080/"
        },
        "id": "js-aCKey-hVi",
        "outputId": "9edd861a-1786-4562-9e20-8a2ac0873753"
      },
      "source": [
        "# Checking the demnsion of tensor(ndim number of dimensions)\n",
        "scalar.ndim"
      ],
      "execution_count": null,
      "outputs": [
        {
          "output_type": "execute_result",
          "data": {
            "text/plain": [
              "0"
            ]
          },
          "metadata": {
            "tags": []
          },
          "execution_count": 5
        }
      ]
    },
    {
      "cell_type": "code",
      "metadata": {
        "colab": {
          "base_uri": "https://localhost:8080/"
        },
        "id": "Ao2yTeds-A_T",
        "outputId": "fcb190c8-71e7-40b4-e6db-ef4a8b8ce8d3"
      },
      "source": [
        "# creating a vector\n",
        "vector = tf.constant([2,2])\n",
        "vector"
      ],
      "execution_count": null,
      "outputs": [
        {
          "output_type": "execute_result",
          "data": {
            "text/plain": [
              "<tf.Tensor: shape=(2,), dtype=int32, numpy=array([2, 2], dtype=int32)>"
            ]
          },
          "metadata": {
            "tags": []
          },
          "execution_count": 6
        }
      ]
    },
    {
      "cell_type": "code",
      "metadata": {
        "colab": {
          "base_uri": "https://localhost:8080/"
        },
        "id": "DT3e8Myq_OiA",
        "outputId": "a50911ef-85aa-4e5b-b596-1c83c82dfd5f"
      },
      "source": [
        "# dimention of vector\n",
        "vector.ndim"
      ],
      "execution_count": null,
      "outputs": [
        {
          "output_type": "execute_result",
          "data": {
            "text/plain": [
              "1"
            ]
          },
          "metadata": {
            "tags": []
          },
          "execution_count": 7
        }
      ]
    },
    {
      "cell_type": "code",
      "metadata": {
        "colab": {
          "base_uri": "https://localhost:8080/"
        },
        "id": "h4p9aF3M_Ubm",
        "outputId": "2a34b034-fabe-4f3a-df78-65b5b4bec9fd"
      },
      "source": [
        "# matrix\n",
        "matrix = tf.constant([[1,2,2],\n",
        "                      [3,4,6],\n",
        "                      [1,1,1]])\n",
        "matrix"
      ],
      "execution_count": null,
      "outputs": [
        {
          "output_type": "execute_result",
          "data": {
            "text/plain": [
              "<tf.Tensor: shape=(3, 3), dtype=int32, numpy=\n",
              "array([[1, 2, 2],\n",
              "       [3, 4, 6],\n",
              "       [1, 1, 1]], dtype=int32)>"
            ]
          },
          "metadata": {
            "tags": []
          },
          "execution_count": 8
        }
      ]
    },
    {
      "cell_type": "code",
      "metadata": {
        "colab": {
          "base_uri": "https://localhost:8080/"
        },
        "id": "bk9XITbv_hH4",
        "outputId": "9f569a88-bbf4-4aa3-fc9f-1a6df58fd6bf"
      },
      "source": [
        "# dimenstions of a matrix\n",
        "matrix.ndim"
      ],
      "execution_count": null,
      "outputs": [
        {
          "output_type": "execute_result",
          "data": {
            "text/plain": [
              "2"
            ]
          },
          "metadata": {
            "tags": []
          },
          "execution_count": 9
        }
      ]
    },
    {
      "cell_type": "code",
      "metadata": {
        "colab": {
          "base_uri": "https://localhost:8080/"
        },
        "id": "mdYjAXGE_jmX",
        "outputId": "5b13bd3d-1d92-4b94-9c86-d95dcd48d01b"
      },
      "source": [
        "# Creating another matrix\n",
        "another = tf.constant([[1.,2.],\n",
        "                      [3.,4.],\n",
        "                      [7.,8.]], dtype=tf.float16) # specifying the Data type\n",
        "another"
      ],
      "execution_count": null,
      "outputs": [
        {
          "output_type": "execute_result",
          "data": {
            "text/plain": [
              "<tf.Tensor: shape=(3, 2), dtype=float16, numpy=\n",
              "array([[1., 2.],\n",
              "       [3., 4.],\n",
              "       [7., 8.]], dtype=float16)>"
            ]
          },
          "metadata": {
            "tags": []
          },
          "execution_count": 10
        }
      ]
    },
    {
      "cell_type": "code",
      "metadata": {
        "colab": {
          "base_uri": "https://localhost:8080/"
        },
        "id": "X1K8qvEm_8sK",
        "outputId": "c80566db-2748-4b33-ec9f-1601a0a812f1"
      },
      "source": [
        "another.ndim\n",
        "# dimension is how many elements are in shape()"
      ],
      "execution_count": null,
      "outputs": [
        {
          "output_type": "execute_result",
          "data": {
            "text/plain": [
              "2"
            ]
          },
          "metadata": {
            "tags": []
          },
          "execution_count": 11
        }
      ]
    },
    {
      "cell_type": "code",
      "metadata": {
        "colab": {
          "base_uri": "https://localhost:8080/"
        },
        "id": "hsWK5j2PAoje",
        "outputId": "37194b84-95fa-4668-a857-7291216e306e"
      },
      "source": [
        "# lets create a tensor\n",
        "tensor = tf.constant([[[1,2,3],\n",
        "                       [2,3,4]],\n",
        "                      [[3,3,3],\n",
        "                       [4,4,4]]])\n",
        "tensor"
      ],
      "execution_count": null,
      "outputs": [
        {
          "output_type": "execute_result",
          "data": {
            "text/plain": [
              "<tf.Tensor: shape=(2, 2, 3), dtype=int32, numpy=\n",
              "array([[[1, 2, 3],\n",
              "        [2, 3, 4]],\n",
              "\n",
              "       [[3, 3, 3],\n",
              "        [4, 4, 4]]], dtype=int32)>"
            ]
          },
          "metadata": {
            "tags": []
          },
          "execution_count": 12
        }
      ]
    },
    {
      "cell_type": "code",
      "metadata": {
        "colab": {
          "base_uri": "https://localhost:8080/"
        },
        "id": "UEp76HNCBU26",
        "outputId": "0086d093-a0e0-4834-80d6-92e35a83edb1"
      },
      "source": [
        "tensor.ndim"
      ],
      "execution_count": null,
      "outputs": [
        {
          "output_type": "execute_result",
          "data": {
            "text/plain": [
              "3"
            ]
          },
          "metadata": {
            "tags": []
          },
          "execution_count": 13
        }
      ]
    },
    {
      "cell_type": "markdown",
      "metadata": {
        "id": "3pnU808tBi7e"
      },
      "source": [
        "what've created so far\n",
        "\n",
        "* scalar: a single number\n",
        "* vector: a number with direction(e.g wind speed with direction) \n",
        "* Matrix: 2-dimensional array of numbers\n",
        "* Tensor: is n-dimensional array of numbers"
      ]
    },
    {
      "cell_type": "markdown",
      "metadata": {
        "id": "F874wV8qDTqU"
      },
      "source": [
        "#### Changeable and unchangeable Tensors\n",
        "\n",
        "---\n",
        "\n"
      ]
    },
    {
      "cell_type": "code",
      "metadata": {
        "colab": {
          "base_uri": "https://localhost:8080/"
        },
        "id": "MuqNIcA1DlMj",
        "outputId": "96b8e41b-c5d8-42fe-c77e-9d75c176536e"
      },
      "source": [
        "changeable_tensor = tf.Variable([1,1])\n",
        "unchangeable_tensor = tf.constant([3,4])\n",
        "\n",
        "changeable_tensor, unchangeable_tensor"
      ],
      "execution_count": null,
      "outputs": [
        {
          "output_type": "execute_result",
          "data": {
            "text/plain": [
              "(<tf.Variable 'Variable:0' shape=(2,) dtype=int32, numpy=array([1, 1], dtype=int32)>,\n",
              " <tf.Tensor: shape=(2,), dtype=int32, numpy=array([3, 4], dtype=int32)>)"
            ]
          },
          "metadata": {
            "tags": []
          },
          "execution_count": 14
        }
      ]
    },
    {
      "cell_type": "code",
      "metadata": {
        "colab": {
          "base_uri": "https://localhost:8080/"
        },
        "id": "vQA-zYieD-6u",
        "outputId": "48843e31-b324-4fac-db35-7f55cb970695"
      },
      "source": [
        "# lets try changing the tensors\n",
        "# using assign()\n",
        "\n",
        "changeable_tensor[1].assign(7)\n",
        "changeable_tensor\n"
      ],
      "execution_count": null,
      "outputs": [
        {
          "output_type": "execute_result",
          "data": {
            "text/plain": [
              "<tf.Variable 'Variable:0' shape=(2,) dtype=int32, numpy=array([1, 7], dtype=int32)>"
            ]
          },
          "metadata": {
            "tags": []
          },
          "execution_count": 15
        }
      ]
    },
    {
      "cell_type": "code",
      "metadata": {
        "id": "2KXJpAyTEs8h"
      },
      "source": [
        " # lets try changing the unchangeable tensor\n",
        "\n",
        "# unchangeable_tensor[0].assign(7)\n",
        "# unchangeable_tensor\n",
        "\n",
        "# we cannot change the constant() tensors "
      ],
      "execution_count": null,
      "outputs": []
    },
    {
      "cell_type": "code",
      "metadata": {
        "id": "75K18Z3RFUnN"
      },
      "source": [
        ""
      ],
      "execution_count": null,
      "outputs": []
    },
    {
      "cell_type": "markdown",
      "metadata": {
        "id": "W2A6xmlKFxsl"
      },
      "source": [
        "# Creating Random Tensors\n",
        "\n",
        "Random Tensors are of arbitrary size which contain random numbers"
      ]
    },
    {
      "cell_type": "code",
      "metadata": {
        "colab": {
          "base_uri": "https://localhost:8080/"
        },
        "id": "9V3PdtO4F3Tr",
        "outputId": "ba808776-44a1-4c30-afbe-29ba1fd1aafe"
      },
      "source": [
        "# creating two random(but same) tensors\n",
        "# seed() gives the same random numbers\n",
        "random_1 = tf.random.Generator.from_seed(10)\n",
        "random_1 = random_1.uniform(shape=(2,2))\n",
        "random_2 = tf.random.Generator.from_seed(10)\n",
        "random_2 = random_2.normal(shape=(2,2))\n",
        "\n",
        "# Are they two equal?\n",
        "print(random_1),print(random_2), print(random_1 == random_2)"
      ],
      "execution_count": null,
      "outputs": [
        {
          "output_type": "stream",
          "text": [
            "tf.Tensor(\n",
            "[[0.93598676 0.6513264 ]\n",
            " [0.31663585 0.00111556]], shape=(2, 2), dtype=float32)\n",
            "tf.Tensor(\n",
            "[[-0.29604465 -0.21134205]\n",
            " [ 0.01063002  1.5165398 ]], shape=(2, 2), dtype=float32)\n",
            "tf.Tensor(\n",
            "[[False False]\n",
            " [False False]], shape=(2, 2), dtype=bool)\n"
          ],
          "name": "stdout"
        },
        {
          "output_type": "execute_result",
          "data": {
            "text/plain": [
              "(None, None, None)"
            ]
          },
          "metadata": {
            "tags": []
          },
          "execution_count": 17
        }
      ]
    },
    {
      "cell_type": "markdown",
      "metadata": {
        "id": "LyWAxgBEO-nY"
      },
      "source": [
        "### shuffling the order of Random Tensors"
      ]
    },
    {
      "cell_type": "code",
      "metadata": {
        "colab": {
          "base_uri": "https://localhost:8080/"
        },
        "id": "drmPyjRyPJo8",
        "outputId": "c7f6fd18-f59d-43f7-9ed0-79b589b3fb79"
      },
      "source": [
        "# valuable when you want to shuffle your data so the inherent order doesn't\n",
        "not_shuffled = tf.constant([[1,1],\n",
        "                            [2,2],\n",
        "                            [3,3]])\n",
        "# shuffling\n",
        "tf.random.shuffle(not_shuffled)"
      ],
      "execution_count": null,
      "outputs": [
        {
          "output_type": "execute_result",
          "data": {
            "text/plain": [
              "<tf.Tensor: shape=(3, 2), dtype=int32, numpy=\n",
              "array([[3, 3],\n",
              "       [1, 1],\n",
              "       [2, 2]], dtype=int32)>"
            ]
          },
          "metadata": {
            "tags": []
          },
          "execution_count": 18
        }
      ]
    },
    {
      "cell_type": "markdown",
      "metadata": {
        "id": "CRs18qP-WFfN"
      },
      "source": [
        "Using argument set_seed()\n",
        "* Global level seed\n",
        "      tf.random.set_seed(7)\n",
        "* Operational level seed\n",
        "      tf.random.shuffle(not_shuffled, seed=7)"
      ]
    },
    {
      "cell_type": "markdown",
      "metadata": {
        "id": "S5qH0I2_W8iw"
      },
      "source": [
        "#### **Rules**"
      ]
    },
    {
      "cell_type": "code",
      "metadata": {
        "colab": {
          "base_uri": "https://localhost:8080/"
        },
        "id": "yVC8rPbMS0KR",
        "outputId": "28266c6d-82ef-43ed-d1a9-82d236e9876c"
      },
      "source": [
        "# 1-If neither the global seed nor the operation seed is set: A randomly picked seed is used for this op.\n",
        "tf.random.shuffle(not_shuffled)"
      ],
      "execution_count": null,
      "outputs": [
        {
          "output_type": "execute_result",
          "data": {
            "text/plain": [
              "<tf.Tensor: shape=(3, 2), dtype=int32, numpy=\n",
              "array([[3, 3],\n",
              "       [1, 1],\n",
              "       [2, 2]], dtype=int32)>"
            ]
          },
          "metadata": {
            "tags": []
          },
          "execution_count": 19
        }
      ]
    },
    {
      "cell_type": "code",
      "metadata": {
        "colab": {
          "base_uri": "https://localhost:8080/"
        },
        "id": "44yD4iNOVL_W",
        "outputId": "868c7506-cac0-4c4f-eec2-5cc333341b4c"
      },
      "source": [
        "# 2-If the global seed is set, but the operation seed is not: The system deterministically picks an operation\n",
        "#   seed in conjunction with the global seed so that it gets a unique random sequence.\n",
        "tf.random.set_seed(7)\n",
        "tf.random.shuffle(not_shuffled)\n",
        "\n",
        "# As global seed is set so the Random order will be always same"
      ],
      "execution_count": null,
      "outputs": [
        {
          "output_type": "execute_result",
          "data": {
            "text/plain": [
              "<tf.Tensor: shape=(3, 2), dtype=int32, numpy=\n",
              "array([[2, 2],\n",
              "       [3, 3],\n",
              "       [1, 1]], dtype=int32)>"
            ]
          },
          "metadata": {
            "tags": []
          },
          "execution_count": 20
        }
      ]
    },
    {
      "cell_type": "code",
      "metadata": {
        "colab": {
          "base_uri": "https://localhost:8080/"
        },
        "id": "N45wXG02VVGT",
        "outputId": "20c5642f-468b-4bf7-93a6-effa0f8f077c"
      },
      "source": [
        "# 3-If the operation seed is set, but the global seed is not set: A default global seed and the specified\n",
        "#   operation seed are used to determine the random sequence.\n",
        "tf.random.shuffle(not_shuffled, seed=7)\n",
        "\n",
        "# global seed is not set but op seed is set so random order is different always"
      ],
      "execution_count": null,
      "outputs": [
        {
          "output_type": "execute_result",
          "data": {
            "text/plain": [
              "<tf.Tensor: shape=(3, 2), dtype=int32, numpy=\n",
              "array([[2, 2],\n",
              "       [1, 1],\n",
              "       [3, 3]], dtype=int32)>"
            ]
          },
          "metadata": {
            "tags": []
          },
          "execution_count": 21
        }
      ]
    },
    {
      "cell_type": "code",
      "metadata": {
        "colab": {
          "base_uri": "https://localhost:8080/"
        },
        "id": "6V7wk0NPVfwj",
        "outputId": "4948d008-81e2-489f-befb-87eab7133401"
      },
      "source": [
        "# 4-If both the global and the operation seed are set: Both seeds are used in conjunction to determine the \n",
        "#   random sequence.\n",
        "tf.random.set_seed(7)\n",
        "tf.random.shuffle(not_shuffled, seed=7)\n",
        "\n",
        "# Random order is always same"
      ],
      "execution_count": null,
      "outputs": [
        {
          "output_type": "execute_result",
          "data": {
            "text/plain": [
              "<tf.Tensor: shape=(3, 2), dtype=int32, numpy=\n",
              "array([[2, 2],\n",
              "       [1, 1],\n",
              "       [3, 3]], dtype=int32)>"
            ]
          },
          "metadata": {
            "tags": []
          },
          "execution_count": 22
        }
      ]
    },
    {
      "cell_type": "markdown",
      "metadata": {
        "id": "ndix_zMPhq2G"
      },
      "source": [
        "# Other ways of making Tensors"
      ]
    },
    {
      "cell_type": "markdown",
      "metadata": {
        "id": "GI4Nb_zSiJJc"
      },
      "source": [
        "> .ones()"
      ]
    },
    {
      "cell_type": "code",
      "metadata": {
        "colab": {
          "base_uri": "https://localhost:8080/"
        },
        "id": "uxs2CyImiVwh",
        "outputId": "51c18aba-5c9a-42ad-a1a9-100bc3e02aa0"
      },
      "source": [
        "# Creating Tensor of all Ones\n",
        "tf.ones([3,3])"
      ],
      "execution_count": null,
      "outputs": [
        {
          "output_type": "execute_result",
          "data": {
            "text/plain": [
              "<tf.Tensor: shape=(3, 3), dtype=float32, numpy=\n",
              "array([[1., 1., 1.],\n",
              "       [1., 1., 1.],\n",
              "       [1., 1., 1.]], dtype=float32)>"
            ]
          },
          "metadata": {
            "tags": []
          },
          "execution_count": 23
        }
      ]
    },
    {
      "cell_type": "markdown",
      "metadata": {
        "id": "ldJl28isioIG"
      },
      "source": [
        "> .zeros()"
      ]
    },
    {
      "cell_type": "code",
      "metadata": {
        "colab": {
          "base_uri": "https://localhost:8080/"
        },
        "id": "jAsRgYJ1itJ0",
        "outputId": "f72c95e2-9ea2-469c-9032-df951f83eb1a"
      },
      "source": [
        "# creating Tensor of all zeros\n",
        "tf.zeros([3,3])\n",
        "# OR\n",
        "tf.zeros(shape=(2,2))"
      ],
      "execution_count": null,
      "outputs": [
        {
          "output_type": "execute_result",
          "data": {
            "text/plain": [
              "<tf.Tensor: shape=(2, 2), dtype=float32, numpy=\n",
              "array([[0., 0.],\n",
              "       [0., 0.]], dtype=float32)>"
            ]
          },
          "metadata": {
            "tags": []
          },
          "execution_count": 24
        }
      ]
    },
    {
      "cell_type": "markdown",
      "metadata": {
        "id": "S-2OAiSvjWwJ"
      },
      "source": [
        "## Turn Numpy arrays into Tensors\n",
        "The main difference between numpy array and Tensorflow tensors is that tensor can run on GPU(much  faster for nummerical computing)"
      ]
    },
    {
      "cell_type": "code",
      "metadata": {
        "colab": {
          "base_uri": "https://localhost:8080/"
        },
        "id": "_jVUJyAMi1wF",
        "outputId": "103b25a0-ad0c-42b0-e428-b7531241d066"
      },
      "source": [
        "# You can also convert numpy array into Tensors\n",
        "import numpy as np\n",
        "\n",
        "# creating a numpy array\n",
        "np.arange(1,25) # create a numpy array b/w 1,25"
      ],
      "execution_count": null,
      "outputs": [
        {
          "output_type": "execute_result",
          "data": {
            "text/plain": [
              "array([ 1,  2,  3,  4,  5,  6,  7,  8,  9, 10, 11, 12, 13, 14, 15, 16, 17,\n",
              "       18, 19, 20, 21, 22, 23, 24])"
            ]
          },
          "metadata": {
            "tags": []
          },
          "execution_count": 25
        }
      ]
    },
    {
      "cell_type": "code",
      "metadata": {
        "colab": {
          "base_uri": "https://localhost:8080/"
        },
        "id": "7PiE2X37kVKQ",
        "outputId": "828682cc-7f62-47fb-c56f-4356941ff472"
      },
      "source": [
        "# conversion to Tensor\n",
        "A = tf.constant(np.arange(1,25))\n",
        "A"
      ],
      "execution_count": null,
      "outputs": [
        {
          "output_type": "execute_result",
          "data": {
            "text/plain": [
              "<tf.Tensor: shape=(24,), dtype=int64, numpy=\n",
              "array([ 1,  2,  3,  4,  5,  6,  7,  8,  9, 10, 11, 12, 13, 14, 15, 16, 17,\n",
              "       18, 19, 20, 21, 22, 23, 24])>"
            ]
          },
          "metadata": {
            "tags": []
          },
          "execution_count": 26
        }
      ]
    },
    {
      "cell_type": "code",
      "metadata": {
        "colab": {
          "base_uri": "https://localhost:8080/"
        },
        "id": "YUAyc1jcmAhY",
        "outputId": "122dd3ef-ac1e-4f78-c142-60ac99f1f102"
      },
      "source": [
        "# Changing the shape of the Tensor\n",
        "tf.constant(A, shape=(4,6))\n",
        "\n",
        "# why 4,6?\n",
        "# cause 4*6=24  that is the size of our Tensor\n",
        "# it can also be 2*3*4=24(0-24)"
      ],
      "execution_count": null,
      "outputs": [
        {
          "output_type": "execute_result",
          "data": {
            "text/plain": [
              "<tf.Tensor: shape=(4, 6), dtype=int64, numpy=\n",
              "array([[ 1,  2,  3,  4,  5,  6],\n",
              "       [ 7,  8,  9, 10, 11, 12],\n",
              "       [13, 14, 15, 16, 17, 18],\n",
              "       [19, 20, 21, 22, 23, 24]])>"
            ]
          },
          "metadata": {
            "tags": []
          },
          "execution_count": 27
        }
      ]
    },
    {
      "cell_type": "markdown",
      "metadata": {
        "id": "NjDfnfbVr9b7"
      },
      "source": [
        "\n",
        "# 19.Getting Information from Tensors\n",
        "---\n",
        "\n"
      ]
    },
    {
      "cell_type": "markdown",
      "metadata": {
        "id": "KHgGuOAPsHZM"
      },
      "source": [
        "When dealing with the tensor you probably want to be aware of the following attributes:\n",
        "* Shape \n",
        "> tensor.shape\n",
        "* Rank\n",
        "> tensor.ndim\n",
        "* Axis\n",
        "> tensor[0], tensor[: , 1]...\n",
        "* Size\n",
        "> tf.size(tensor)"
      ]
    },
    {
      "cell_type": "code",
      "metadata": {
        "colab": {
          "base_uri": "https://localhost:8080/"
        },
        "id": "vmF-na-Ds8tR",
        "outputId": "ed64dd1b-0b44-42b4-d858-5e80a36902bb"
      },
      "source": [
        "# Creating a Rank 4 tensor (4 Dimensions)\n",
        "rank_4 = tf.zeros(shape=[2,3,4,5])\n",
        "rank_4"
      ],
      "execution_count": null,
      "outputs": [
        {
          "output_type": "execute_result",
          "data": {
            "text/plain": [
              "<tf.Tensor: shape=(2, 3, 4, 5), dtype=float32, numpy=\n",
              "array([[[[0., 0., 0., 0., 0.],\n",
              "         [0., 0., 0., 0., 0.],\n",
              "         [0., 0., 0., 0., 0.],\n",
              "         [0., 0., 0., 0., 0.]],\n",
              "\n",
              "        [[0., 0., 0., 0., 0.],\n",
              "         [0., 0., 0., 0., 0.],\n",
              "         [0., 0., 0., 0., 0.],\n",
              "         [0., 0., 0., 0., 0.]],\n",
              "\n",
              "        [[0., 0., 0., 0., 0.],\n",
              "         [0., 0., 0., 0., 0.],\n",
              "         [0., 0., 0., 0., 0.],\n",
              "         [0., 0., 0., 0., 0.]]],\n",
              "\n",
              "\n",
              "       [[[0., 0., 0., 0., 0.],\n",
              "         [0., 0., 0., 0., 0.],\n",
              "         [0., 0., 0., 0., 0.],\n",
              "         [0., 0., 0., 0., 0.]],\n",
              "\n",
              "        [[0., 0., 0., 0., 0.],\n",
              "         [0., 0., 0., 0., 0.],\n",
              "         [0., 0., 0., 0., 0.],\n",
              "         [0., 0., 0., 0., 0.]],\n",
              "\n",
              "        [[0., 0., 0., 0., 0.],\n",
              "         [0., 0., 0., 0., 0.],\n",
              "         [0., 0., 0., 0., 0.],\n",
              "         [0., 0., 0., 0., 0.]]]], dtype=float32)>"
            ]
          },
          "metadata": {
            "tags": []
          },
          "execution_count": 28
        }
      ]
    },
    {
      "cell_type": "code",
      "metadata": {
        "colab": {
          "base_uri": "https://localhost:8080/"
        },
        "id": "pkiri0h7t4ii",
        "outputId": "bf681584-e914-42e4-c719-88c987207d89"
      },
      "source": [
        "# Axis\n",
        "rank_4[:,0]\n"
      ],
      "execution_count": null,
      "outputs": [
        {
          "output_type": "execute_result",
          "data": {
            "text/plain": [
              "<tf.Tensor: shape=(2, 4, 5), dtype=float32, numpy=\n",
              "array([[[0., 0., 0., 0., 0.],\n",
              "        [0., 0., 0., 0., 0.],\n",
              "        [0., 0., 0., 0., 0.],\n",
              "        [0., 0., 0., 0., 0.]],\n",
              "\n",
              "       [[0., 0., 0., 0., 0.],\n",
              "        [0., 0., 0., 0., 0.],\n",
              "        [0., 0., 0., 0., 0.],\n",
              "        [0., 0., 0., 0., 0.]]], dtype=float32)>"
            ]
          },
          "metadata": {
            "tags": []
          },
          "execution_count": 29
        }
      ]
    },
    {
      "cell_type": "code",
      "metadata": {
        "colab": {
          "base_uri": "https://localhost:8080/"
        },
        "id": "tk-29sKzurT4",
        "outputId": "72d00266-337a-4600-af7a-ecfbb26a9bed"
      },
      "source": [
        "rank_4.ndim, rank_4.shape, tf.size(rank_4)"
      ],
      "execution_count": null,
      "outputs": [
        {
          "output_type": "execute_result",
          "data": {
            "text/plain": [
              "(4, TensorShape([2, 3, 4, 5]), <tf.Tensor: shape=(), dtype=int32, numpy=120>)"
            ]
          },
          "metadata": {
            "tags": []
          },
          "execution_count": 30
        }
      ]
    },
    {
      "cell_type": "code",
      "metadata": {
        "colab": {
          "base_uri": "https://localhost:8080/"
        },
        "id": "8rcakGC9vHf0",
        "outputId": "77d98174-57eb-4941-b63a-85acd18c9299"
      },
      "source": [
        "2*3*4*5"
      ],
      "execution_count": null,
      "outputs": [
        {
          "output_type": "execute_result",
          "data": {
            "text/plain": [
              "120"
            ]
          },
          "metadata": {
            "tags": []
          },
          "execution_count": 31
        }
      ]
    },
    {
      "cell_type": "code",
      "metadata": {
        "colab": {
          "base_uri": "https://localhost:8080/"
        },
        "id": "20H2fbhZvdUS",
        "outputId": "f9d2a791-8e26-4a61-d067-ab025d410a08"
      },
      "source": [
        "# Getting various attributes of tensor\n",
        "print(\"Data Type of Tensor\", rank_4.dtype)\n",
        "print(\"Number of Dimensions\", rank_4.ndim)\n",
        "print(\"Shape of Tensor\", rank_4.shape)\n",
        "print(\"Elemets along 0 axis\", rank_4.shape[0])\n",
        "print(\"Elemets along last axis\", rank_4.shape[-1])\n",
        "print(\"Total number of elements in our tensor:\", tf.size(rank_4))\n",
        "print(\"Total number of elements in our tensor:\", tf.size(rank_4).numpy())"
      ],
      "execution_count": null,
      "outputs": [
        {
          "output_type": "stream",
          "text": [
            "Data Type of Tensor <dtype: 'float32'>\n",
            "Number of Dimensions 4\n",
            "Shape of Tensor (2, 3, 4, 5)\n",
            "Elemets along 0 axis 2\n",
            "Elemets along last axis 5\n",
            "Total number of elements in our tensor: tf.Tensor(120, shape=(), dtype=int32)\n",
            "Total number of elements in our tensor: 120\n"
          ],
          "name": "stdout"
        }
      ]
    },
    {
      "cell_type": "code",
      "metadata": {
        "id": "lteMZZu2v92o"
      },
      "source": [
        ""
      ],
      "execution_count": null,
      "outputs": []
    },
    {
      "cell_type": "markdown",
      "metadata": {
        "id": "U0usrxaYx6Rf"
      },
      "source": [
        "# 20.Indexing and Expanding Tensors"
      ]
    },
    {
      "cell_type": "markdown",
      "metadata": {
        "id": "wGzolG-2yESY"
      },
      "source": [
        "Tensors can be listed just like Python lists."
      ]
    },
    {
      "cell_type": "code",
      "metadata": {
        "colab": {
          "base_uri": "https://localhost:8080/"
        },
        "id": "nhL_WLfzyLk8",
        "outputId": "c37078d5-85fa-4ff2-ee5a-3534ea4dca8d"
      },
      "source": [
        "rank_4"
      ],
      "execution_count": null,
      "outputs": [
        {
          "output_type": "execute_result",
          "data": {
            "text/plain": [
              "<tf.Tensor: shape=(2, 3, 4, 5), dtype=float32, numpy=\n",
              "array([[[[0., 0., 0., 0., 0.],\n",
              "         [0., 0., 0., 0., 0.],\n",
              "         [0., 0., 0., 0., 0.],\n",
              "         [0., 0., 0., 0., 0.]],\n",
              "\n",
              "        [[0., 0., 0., 0., 0.],\n",
              "         [0., 0., 0., 0., 0.],\n",
              "         [0., 0., 0., 0., 0.],\n",
              "         [0., 0., 0., 0., 0.]],\n",
              "\n",
              "        [[0., 0., 0., 0., 0.],\n",
              "         [0., 0., 0., 0., 0.],\n",
              "         [0., 0., 0., 0., 0.],\n",
              "         [0., 0., 0., 0., 0.]]],\n",
              "\n",
              "\n",
              "       [[[0., 0., 0., 0., 0.],\n",
              "         [0., 0., 0., 0., 0.],\n",
              "         [0., 0., 0., 0., 0.],\n",
              "         [0., 0., 0., 0., 0.]],\n",
              "\n",
              "        [[0., 0., 0., 0., 0.],\n",
              "         [0., 0., 0., 0., 0.],\n",
              "         [0., 0., 0., 0., 0.],\n",
              "         [0., 0., 0., 0., 0.]],\n",
              "\n",
              "        [[0., 0., 0., 0., 0.],\n",
              "         [0., 0., 0., 0., 0.],\n",
              "         [0., 0., 0., 0., 0.],\n",
              "         [0., 0., 0., 0., 0.]]]], dtype=float32)>"
            ]
          },
          "metadata": {
            "tags": []
          },
          "execution_count": 33
        }
      ]
    },
    {
      "cell_type": "code",
      "metadata": {
        "colab": {
          "base_uri": "https://localhost:8080/"
        },
        "id": "3H6HM-_uyiox",
        "outputId": "b095e362-601a-4479-fd4e-bac2b0b73bdd"
      },
      "source": [
        "# Getting first 2 elements of each Dimension\n",
        "# in lists\n",
        "dummy = [1,2,4,5,6,7]\n",
        "dummy[:2]"
      ],
      "execution_count": null,
      "outputs": [
        {
          "output_type": "execute_result",
          "data": {
            "text/plain": [
              "[1, 2]"
            ]
          },
          "metadata": {
            "tags": []
          },
          "execution_count": 34
        }
      ]
    },
    {
      "cell_type": "code",
      "metadata": {
        "colab": {
          "base_uri": "https://localhost:8080/"
        },
        "id": "YTlPSr6Uyw1m",
        "outputId": "5822b262-24f4-4577-c1cb-d6caf4741cee"
      },
      "source": [
        "# in Tensors\n",
        "rank_4[:2,:2,:2,:2]"
      ],
      "execution_count": null,
      "outputs": [
        {
          "output_type": "execute_result",
          "data": {
            "text/plain": [
              "<tf.Tensor: shape=(2, 2, 2, 2), dtype=float32, numpy=\n",
              "array([[[[0., 0.],\n",
              "         [0., 0.]],\n",
              "\n",
              "        [[0., 0.],\n",
              "         [0., 0.]]],\n",
              "\n",
              "\n",
              "       [[[0., 0.],\n",
              "         [0., 0.]],\n",
              "\n",
              "        [[0., 0.],\n",
              "         [0., 0.]]]], dtype=float32)>"
            ]
          },
          "metadata": {
            "tags": []
          },
          "execution_count": 35
        }
      ]
    },
    {
      "cell_type": "code",
      "metadata": {
        "colab": {
          "base_uri": "https://localhost:8080/"
        },
        "id": "xY7XXRUr1fHX",
        "outputId": "18e41c33-c0fc-48a9-d157-cfa3818c502f"
      },
      "source": [
        "rank_4.shape"
      ],
      "execution_count": null,
      "outputs": [
        {
          "output_type": "execute_result",
          "data": {
            "text/plain": [
              "TensorShape([2, 3, 4, 5])"
            ]
          },
          "metadata": {
            "tags": []
          },
          "execution_count": 36
        }
      ]
    },
    {
      "cell_type": "code",
      "metadata": {
        "colab": {
          "base_uri": "https://localhost:8080/"
        },
        "id": "eCeN4Ulu26Mc",
        "outputId": "3e9d157d-a5fc-462f-a942-5236e87f9255"
      },
      "source": [
        "# Get the first Element from the each diemension except for the final dimension\n",
        "rank_4[:1,:1,:1,:]\n",
        "\n",
        "# : means except for this "
      ],
      "execution_count": null,
      "outputs": [
        {
          "output_type": "execute_result",
          "data": {
            "text/plain": [
              "<tf.Tensor: shape=(1, 1, 1, 5), dtype=float32, numpy=array([[[[0., 0., 0., 0., 0.]]]], dtype=float32)>"
            ]
          },
          "metadata": {
            "tags": []
          },
          "execution_count": 37
        }
      ]
    },
    {
      "cell_type": "code",
      "metadata": {
        "colab": {
          "base_uri": "https://localhost:8080/"
        },
        "id": "Xls3GCjk3ARE",
        "outputId": "56894402-58b1-4d87-90df-620b5b129480"
      },
      "source": [
        "rank_4[:1,:1,:,:1]"
      ],
      "execution_count": null,
      "outputs": [
        {
          "output_type": "execute_result",
          "data": {
            "text/plain": [
              "<tf.Tensor: shape=(1, 1, 4, 1), dtype=float32, numpy=\n",
              "array([[[[0.],\n",
              "         [0.],\n",
              "         [0.],\n",
              "         [0.]]]], dtype=float32)>"
            ]
          },
          "metadata": {
            "tags": []
          },
          "execution_count": 38
        }
      ]
    },
    {
      "cell_type": "code",
      "metadata": {
        "colab": {
          "base_uri": "https://localhost:8080/"
        },
        "id": "4JXEIiTq2Wai",
        "outputId": "d304c818-a093-47ea-d867-1495779913ff"
      },
      "source": [
        "rank_2_tensor = tf.constant([[1,2,3],\n",
        "                             [4,5,6]]) # 2-dimensions\n",
        "rank_2_tensor"
      ],
      "execution_count": null,
      "outputs": [
        {
          "output_type": "execute_result",
          "data": {
            "text/plain": [
              "<tf.Tensor: shape=(2, 3), dtype=int32, numpy=\n",
              "array([[1, 2, 3],\n",
              "       [4, 5, 6]], dtype=int32)>"
            ]
          },
          "metadata": {
            "tags": []
          },
          "execution_count": 39
        }
      ]
    },
    {
      "cell_type": "code",
      "metadata": {
        "colab": {
          "base_uri": "https://localhost:8080/"
        },
        "id": "U2uoeupv3xUD",
        "outputId": "c1f5ed00-03e3-41a9-d3df-e673823a2a02"
      },
      "source": [
        "# Get last item of the rank 2 Tensors\n",
        "rank_2_tensor[:,-1]"
      ],
      "execution_count": null,
      "outputs": [
        {
          "output_type": "execute_result",
          "data": {
            "text/plain": [
              "<tf.Tensor: shape=(2,), dtype=int32, numpy=array([3, 6], dtype=int32)>"
            ]
          },
          "metadata": {
            "tags": []
          },
          "execution_count": 40
        }
      ]
    },
    {
      "cell_type": "code",
      "metadata": {
        "colab": {
          "base_uri": "https://localhost:8080/"
        },
        "id": "lLzY6O0X4USc",
        "outputId": "054fbee0-b8ce-44e2-eb0f-0c9fd0f8f821"
      },
      "source": [
        "# Adding Extra dimension at the end of the tensor\n",
        "# tf.newaxis\n",
        "rank_3_tensor = rank_2_tensor[:, :, tf.newaxis]\n",
        "rank_3_tensor\n",
        "\n",
        "# OR\n",
        "# rank_3_tensor = rank_2_tensor[..., tf.newaxis]"
      ],
      "execution_count": null,
      "outputs": [
        {
          "output_type": "execute_result",
          "data": {
            "text/plain": [
              "<tf.Tensor: shape=(2, 3, 1), dtype=int32, numpy=\n",
              "array([[[1],\n",
              "        [2],\n",
              "        [3]],\n",
              "\n",
              "       [[4],\n",
              "        [5],\n",
              "        [6]]], dtype=int32)>"
            ]
          },
          "metadata": {
            "tags": []
          },
          "execution_count": 41
        }
      ]
    },
    {
      "cell_type": "code",
      "metadata": {
        "colab": {
          "base_uri": "https://localhost:8080/"
        },
        "id": "i95Ut0tw5tIT",
        "outputId": "3298468a-79ff-493b-a597-6ecd36927315"
      },
      "source": [
        "# Alternate of tf.newaxis\n",
        "tf.expand_dims(rank_2_tensor, axis=-1)   # -1 means expand the final Dimension"
      ],
      "execution_count": null,
      "outputs": [
        {
          "output_type": "execute_result",
          "data": {
            "text/plain": [
              "<tf.Tensor: shape=(2, 3, 1), dtype=int32, numpy=\n",
              "array([[[1],\n",
              "        [2],\n",
              "        [3]],\n",
              "\n",
              "       [[4],\n",
              "        [5],\n",
              "        [6]]], dtype=int32)>"
            ]
          },
          "metadata": {
            "tags": []
          },
          "execution_count": 42
        }
      ]
    },
    {
      "cell_type": "code",
      "metadata": {
        "colab": {
          "base_uri": "https://localhost:8080/"
        },
        "id": "kAvJkRS_6ZNk",
        "outputId": "ab2eb1fb-e9e9-4e18-f63b-520df3740fa7"
      },
      "source": [
        "tf.expand_dims(rank_2_tensor, axis=0) # 0 means expand from start"
      ],
      "execution_count": null,
      "outputs": [
        {
          "output_type": "execute_result",
          "data": {
            "text/plain": [
              "<tf.Tensor: shape=(1, 2, 3), dtype=int32, numpy=\n",
              "array([[[1, 2, 3],\n",
              "        [4, 5, 6]]], dtype=int32)>"
            ]
          },
          "metadata": {
            "tags": []
          },
          "execution_count": 43
        }
      ]
    },
    {
      "cell_type": "code",
      "metadata": {
        "id": "5PI7t5gf6niG"
      },
      "source": [
        ""
      ],
      "execution_count": null,
      "outputs": []
    },
    {
      "cell_type": "markdown",
      "metadata": {
        "id": "BDTnrwX96-Hk"
      },
      "source": [
        "# 21.Manipulating Tensors(Tensors operations)"
      ]
    },
    {
      "cell_type": "markdown",
      "metadata": {
        "id": "F_kCPdct78sD"
      },
      "source": [
        "**Basic Operaitons**\n",
        "`+`,`-`,`*`,`/`"
      ]
    },
    {
      "cell_type": "code",
      "metadata": {
        "colab": {
          "base_uri": "https://localhost:8080/"
        },
        "id": "GqaHsgJ38Fx4",
        "outputId": "bf083b0a-96da-4c69-9143-36e15381a2c5"
      },
      "source": [
        "tensor = tf.constant([[1,2,3],\n",
        "                      [3,4,5]])\n",
        "tensor + 1"
      ],
      "execution_count": null,
      "outputs": [
        {
          "output_type": "execute_result",
          "data": {
            "text/plain": [
              "<tf.Tensor: shape=(2, 3), dtype=int32, numpy=\n",
              "array([[2, 3, 4],\n",
              "       [4, 5, 6]], dtype=int32)>"
            ]
          },
          "metadata": {
            "tags": []
          },
          "execution_count": 44
        }
      ]
    },
    {
      "cell_type": "code",
      "metadata": {
        "colab": {
          "base_uri": "https://localhost:8080/"
        },
        "id": "JGeso8hs8RiU",
        "outputId": "fad13968-14dc-40a6-868d-ffd184be8a35"
      },
      "source": [
        "tensor - 1"
      ],
      "execution_count": null,
      "outputs": [
        {
          "output_type": "execute_result",
          "data": {
            "text/plain": [
              "<tf.Tensor: shape=(2, 3), dtype=int32, numpy=\n",
              "array([[0, 1, 2],\n",
              "       [2, 3, 4]], dtype=int32)>"
            ]
          },
          "metadata": {
            "tags": []
          },
          "execution_count": 45
        }
      ]
    },
    {
      "cell_type": "code",
      "metadata": {
        "colab": {
          "base_uri": "https://localhost:8080/"
        },
        "id": "DfRxyIex8l74",
        "outputId": "7e214ce6-2ad7-49ff-ea76-7f1fa29a4c22"
      },
      "source": [
        "tensor / 2"
      ],
      "execution_count": null,
      "outputs": [
        {
          "output_type": "execute_result",
          "data": {
            "text/plain": [
              "<tf.Tensor: shape=(2, 3), dtype=float64, numpy=\n",
              "array([[0.5, 1. , 1.5],\n",
              "       [1.5, 2. , 2.5]])>"
            ]
          },
          "metadata": {
            "tags": []
          },
          "execution_count": 46
        }
      ]
    },
    {
      "cell_type": "code",
      "metadata": {
        "colab": {
          "base_uri": "https://localhost:8080/"
        },
        "id": "VE6s4bs-8pC7",
        "outputId": "42897e57-9c2e-46f2-93c2-584d4ca0568c"
      },
      "source": [
        "# we can also use the tensor built-in funcitions\n",
        "# Recommended using these functions\n",
        "tf.multiply(tensor, 2)"
      ],
      "execution_count": null,
      "outputs": [
        {
          "output_type": "execute_result",
          "data": {
            "text/plain": [
              "<tf.Tensor: shape=(2, 3), dtype=int32, numpy=\n",
              "array([[ 2,  4,  6],\n",
              "       [ 6,  8, 10]], dtype=int32)>"
            ]
          },
          "metadata": {
            "tags": []
          },
          "execution_count": 47
        }
      ]
    },
    {
      "cell_type": "code",
      "metadata": {
        "colab": {
          "base_uri": "https://localhost:8080/"
        },
        "id": "EnCt5Slq86Nk",
        "outputId": "42d84d85-f797-4222-dc61-073260b8a9e5"
      },
      "source": [
        "tf.add(tensor, 1)"
      ],
      "execution_count": null,
      "outputs": [
        {
          "output_type": "execute_result",
          "data": {
            "text/plain": [
              "<tf.Tensor: shape=(2, 3), dtype=int32, numpy=\n",
              "array([[2, 3, 4],\n",
              "       [4, 5, 6]], dtype=int32)>"
            ]
          },
          "metadata": {
            "tags": []
          },
          "execution_count": 48
        }
      ]
    },
    {
      "cell_type": "code",
      "metadata": {
        "id": "s4ngkjEy9VJJ"
      },
      "source": [
        "# etc"
      ],
      "execution_count": null,
      "outputs": []
    },
    {
      "cell_type": "markdown",
      "metadata": {
        "id": "349_ep789YIE"
      },
      "source": [
        "# 22.Matrix Multiplicaiton of Tensors\n"
      ]
    },
    {
      "cell_type": "markdown",
      "metadata": {
        "id": "sBLEilDh9frj"
      },
      "source": [
        "In machine learning, matric multiplication(Dot Product) is one \n",
        "\n",
        "---\n",
        "\n",
        "the most common tensor operations\n",
        "\n",
        "There are Two Rules our Tensor must fulfill\n",
        "1. inner Dimension must match\n",
        "2. The resulting matrix has shape of the inner matrix\n",
        "\n",
        "We can perform the matrix multiplication using \n",
        "* `tf.matmul()`\n",
        "* `tf.tensordot()`"
      ]
    },
    {
      "cell_type": "code",
      "metadata": {
        "colab": {
          "base_uri": "https://localhost:8080/"
        },
        "id": "G_8Sn_Ce9fCL",
        "outputId": "b6397ba0-defc-4c57-eb4f-1e3e5b9dd545"
      },
      "source": [
        "tensor = tf.constant([[1,2,3],\n",
        "                      [4,5,6],\n",
        "                      [5,6,7]])\n",
        "tensor"
      ],
      "execution_count": null,
      "outputs": [
        {
          "output_type": "execute_result",
          "data": {
            "text/plain": [
              "<tf.Tensor: shape=(3, 3), dtype=int32, numpy=\n",
              "array([[1, 2, 3],\n",
              "       [4, 5, 6],\n",
              "       [5, 6, 7]], dtype=int32)>"
            ]
          },
          "metadata": {
            "tags": []
          },
          "execution_count": 50
        }
      ]
    },
    {
      "cell_type": "code",
      "metadata": {
        "colab": {
          "base_uri": "https://localhost:8080/"
        },
        "id": "lFITeSmrS3yR",
        "outputId": "e4c7dddf-98f0-4623-b07f-0b5089a472e5"
      },
      "source": [
        "# Matrix multiplication \n",
        "tf.tensordot(tensor, tensor, axes=1), tf.matmul(tensor, tensor)"
      ],
      "execution_count": null,
      "outputs": [
        {
          "output_type": "execute_result",
          "data": {
            "text/plain": [
              "(<tf.Tensor: shape=(3, 3), dtype=int32, numpy=\n",
              " array([[ 24,  30,  36],\n",
              "        [ 54,  69,  84],\n",
              "        [ 64,  82, 100]], dtype=int32)>,\n",
              " <tf.Tensor: shape=(3, 3), dtype=int32, numpy=\n",
              " array([[ 24,  30,  36],\n",
              "        [ 54,  69,  84],\n",
              "        [ 64,  82, 100]], dtype=int32)>)"
            ]
          },
          "metadata": {
            "tags": []
          },
          "execution_count": 51
        }
      ]
    },
    {
      "cell_type": "code",
      "metadata": {
        "colab": {
          "base_uri": "https://localhost:8080/"
        },
        "id": "ILHM76l_TjHh",
        "outputId": "d182cfdb-aff8-4f56-f9d8-e7c9d6b8685c"
      },
      "source": [
        "# simple multiplication\n",
        "tensor * tensor"
      ],
      "execution_count": null,
      "outputs": [
        {
          "output_type": "execute_result",
          "data": {
            "text/plain": [
              "<tf.Tensor: shape=(3, 3), dtype=int32, numpy=\n",
              "array([[ 1,  4,  9],\n",
              "       [16, 25, 36],\n",
              "       [25, 36, 49]], dtype=int32)>"
            ]
          },
          "metadata": {
            "tags": []
          },
          "execution_count": 52
        }
      ]
    },
    {
      "cell_type": "code",
      "metadata": {
        "colab": {
          "base_uri": "https://localhost:8080/"
        },
        "id": "T7OliTw3Ty7u",
        "outputId": "e5f945e2-bb85-40c4-9407-c73302066e0c"
      },
      "source": [
        "# Matrix Multipilcation(Dot Product)e using python operator '@\n",
        "tensor @ tensor"
      ],
      "execution_count": null,
      "outputs": [
        {
          "output_type": "execute_result",
          "data": {
            "text/plain": [
              "<tf.Tensor: shape=(3, 3), dtype=int32, numpy=\n",
              "array([[ 24,  30,  36],\n",
              "       [ 54,  69,  84],\n",
              "       [ 64,  82, 100]], dtype=int32)>"
            ]
          },
          "metadata": {
            "tags": []
          },
          "execution_count": 53
        }
      ]
    },
    {
      "cell_type": "code",
      "metadata": {
        "id": "r7pKW9W0T8tc",
        "colab": {
          "base_uri": "https://localhost:8080/"
        },
        "outputId": "e19cc8d5-836c-451d-f89f-21c954e1e2ed"
      },
      "source": [
        "# If matrix is unfit for multiplication\n",
        "matrix = tf.constant([[1,2],\n",
        "                       [4,6],\n",
        "                       [1,1]])\n",
        "matrix"
      ],
      "execution_count": null,
      "outputs": [
        {
          "output_type": "execute_result",
          "data": {
            "text/plain": [
              "<tf.Tensor: shape=(3, 2), dtype=int32, numpy=\n",
              "array([[1, 2],\n",
              "       [4, 6],\n",
              "       [1, 1]], dtype=int32)>"
            ]
          },
          "metadata": {
            "tags": []
          },
          "execution_count": 54
        }
      ]
    },
    {
      "cell_type": "code",
      "metadata": {
        "colab": {
          "base_uri": "https://localhost:8080/"
        },
        "id": "bu-pxK2eYbmk",
        "outputId": "2d2c040c-630d-4a52-fac9-b0a6c0eed68a"
      },
      "source": [
        "# reshaping the matrix\n",
        "# first we reshape the matrix from 3x2 to 2x3 then multiply it\n",
        "tf.matmul(matrix, tf.reshape(matrix, shape=(2, 3)))"
      ],
      "execution_count": null,
      "outputs": [
        {
          "output_type": "execute_result",
          "data": {
            "text/plain": [
              "<tf.Tensor: shape=(3, 3), dtype=int32, numpy=\n",
              "array([[13,  4,  6],\n",
              "       [40, 14, 22],\n",
              "       [ 7,  3,  5]], dtype=int32)>"
            ]
          },
          "metadata": {
            "tags": []
          },
          "execution_count": 55
        }
      ]
    },
    {
      "cell_type": "code",
      "metadata": {
        "colab": {
          "base_uri": "https://localhost:8080/"
        },
        "id": "oriB82kBY1Ro",
        "outputId": "4cf0c473-11d7-42e4-e877-ea22a2af5716"
      },
      "source": [
        "# Dot Product using Python operator '@'\n",
        "matrix @ tf.reshape(matrix, shape=(2, 3))"
      ],
      "execution_count": null,
      "outputs": [
        {
          "output_type": "execute_result",
          "data": {
            "text/plain": [
              "<tf.Tensor: shape=(3, 3), dtype=int32, numpy=\n",
              "array([[13,  4,  6],\n",
              "       [40, 14, 22],\n",
              "       [ 7,  3,  5]], dtype=int32)>"
            ]
          },
          "metadata": {
            "tags": []
          },
          "execution_count": 56
        }
      ]
    },
    {
      "cell_type": "code",
      "metadata": {
        "colab": {
          "base_uri": "https://localhost:8080/"
        },
        "id": "brorsjjdZjet",
        "outputId": "281931b3-8e03-4944-b807-f30f7cc052fe"
      },
      "source": [
        "# Difference b/w Transpose() and Reshape()\n",
        "# Transpose Flips the Axis rather than shuffling the elements (Both changes the shape)\n",
        "matrix, tf.transpose(matrix), tf.reshape(matrix, shape=(2,3))"
      ],
      "execution_count": null,
      "outputs": [
        {
          "output_type": "execute_result",
          "data": {
            "text/plain": [
              "(<tf.Tensor: shape=(3, 2), dtype=int32, numpy=\n",
              " array([[1, 2],\n",
              "        [4, 6],\n",
              "        [1, 1]], dtype=int32)>, <tf.Tensor: shape=(2, 3), dtype=int32, numpy=\n",
              " array([[1, 4, 1],\n",
              "        [2, 6, 1]], dtype=int32)>, <tf.Tensor: shape=(2, 3), dtype=int32, numpy=\n",
              " array([[1, 2, 4],\n",
              "        [6, 1, 1]], dtype=int32)>)"
            ]
          },
          "metadata": {
            "tags": []
          },
          "execution_count": 57
        }
      ]
    },
    {
      "cell_type": "code",
      "metadata": {
        "colab": {
          "base_uri": "https://localhost:8080/"
        },
        "id": "HAWuu-9YcgC8",
        "outputId": "873e924f-a2d2-4c88-ceef-c57b7560bfcd"
      },
      "source": [
        "# Using tf.tensordot()\n",
        "tf.tensordot(tf.transpose(matrix), matrix, axes=1)"
      ],
      "execution_count": null,
      "outputs": [
        {
          "output_type": "execute_result",
          "data": {
            "text/plain": [
              "<tf.Tensor: shape=(2, 2), dtype=int32, numpy=\n",
              "array([[18, 27],\n",
              "       [27, 41]], dtype=int32)>"
            ]
          },
          "metadata": {
            "tags": []
          },
          "execution_count": 58
        }
      ]
    },
    {
      "cell_type": "code",
      "metadata": {
        "colab": {
          "base_uri": "https://localhost:8080/"
        },
        "id": "mxRYttkLdKdx",
        "outputId": "3d02e386-b357-42ef-bd84-0c2a8426abc2"
      },
      "source": [
        "tf.tensordot(matrix, tf.transpose(matrix), axes=1)"
      ],
      "execution_count": null,
      "outputs": [
        {
          "output_type": "execute_result",
          "data": {
            "text/plain": [
              "<tf.Tensor: shape=(3, 3), dtype=int32, numpy=\n",
              "array([[ 5, 16,  3],\n",
              "       [16, 52, 10],\n",
              "       [ 3, 10,  2]], dtype=int32)>"
            ]
          },
          "metadata": {
            "tags": []
          },
          "execution_count": 59
        }
      ]
    },
    {
      "cell_type": "code",
      "metadata": {
        "colab": {
          "base_uri": "https://localhost:8080/"
        },
        "id": "FjfFWTLmdi-B",
        "outputId": "c306a51d-25fd-46dd-b36e-d190a17baf5d"
      },
      "source": [
        "# Using Reshape\n",
        "tf.tensordot(tf.reshape(matrix, shape=(2,3)), matrix, axes=1)"
      ],
      "execution_count": null,
      "outputs": [
        {
          "output_type": "execute_result",
          "data": {
            "text/plain": [
              "<tf.Tensor: shape=(2, 2), dtype=int32, numpy=\n",
              "array([[13, 18],\n",
              "       [11, 19]], dtype=int32)>"
            ]
          },
          "metadata": {
            "tags": []
          },
          "execution_count": 60
        }
      ]
    },
    {
      "cell_type": "code",
      "metadata": {
        "id": "WhIfAl7SeMbI"
      },
      "source": [
        "####\n",
        "# Always use Transpose Rather than Reshape\n",
        "####"
      ],
      "execution_count": null,
      "outputs": []
    },
    {
      "cell_type": "markdown",
      "metadata": {
        "id": "tez0jbh3gRYg"
      },
      "source": [
        "# 25.Changing the Datatype of the Tensor\n",
        "---\n",
        "\n",
        "\n"
      ]
    },
    {
      "cell_type": "code",
      "metadata": {
        "colab": {
          "base_uri": "https://localhost:8080/"
        },
        "id": "szIqh-HHfrCh",
        "outputId": "09b06de6-d557-40f7-e4c4-e8349c36a01c"
      },
      "source": [
        "# Creating a tensor using the default datatype\n",
        "x = tf.constant([1,2,3])\n",
        "x.dtype"
      ],
      "execution_count": null,
      "outputs": [
        {
          "output_type": "execute_result",
          "data": {
            "text/plain": [
              "tf.int32"
            ]
          },
          "metadata": {
            "tags": []
          },
          "execution_count": 62
        }
      ]
    },
    {
      "cell_type": "code",
      "metadata": {
        "colab": {
          "base_uri": "https://localhost:8080/"
        },
        "id": "sa4KMwSPhGvm",
        "outputId": "d1dc9ef5-4773-4423-fdbc-0e967b4a01ca"
      },
      "source": [
        "# Change from int32 to int16\n",
        "x = tf.cast(x, dtype=tf.int16)\n",
        "x.dtype"
      ],
      "execution_count": null,
      "outputs": [
        {
          "output_type": "execute_result",
          "data": {
            "text/plain": [
              "tf.int16"
            ]
          },
          "metadata": {
            "tags": []
          },
          "execution_count": 63
        }
      ]
    },
    {
      "cell_type": "code",
      "metadata": {
        "colab": {
          "base_uri": "https://localhost:8080/"
        },
        "id": "esfOP_iKiI3x",
        "outputId": "8ecbe5a3-ec07-43e3-a69d-1b84288df7a6"
      },
      "source": [
        "x = tf.cast(x, dtype=tf.float16)\n",
        "x.dtype"
      ],
      "execution_count": null,
      "outputs": [
        {
          "output_type": "execute_result",
          "data": {
            "text/plain": [
              "tf.float16"
            ]
          },
          "metadata": {
            "tags": []
          },
          "execution_count": 64
        }
      ]
    },
    {
      "cell_type": "markdown",
      "metadata": {
        "id": "LQGdJ5TVjYOG"
      },
      "source": [
        "# 26.Aggregating Tensors"
      ]
    },
    {
      "cell_type": "markdown",
      "metadata": {
        "id": "H8jgGenPjedK"
      },
      "source": [
        "Aggregating tensors = condensing them from multiple values down to smaller amount of values"
      ]
    },
    {
      "cell_type": "code",
      "metadata": {
        "colab": {
          "base_uri": "https://localhost:8080/"
        },
        "id": "IbaJfZ8Timde",
        "outputId": "a459687a-e206-4095-a2ce-654bee7ed164"
      },
      "source": [
        "# Absolute Values\n",
        "x = tf.constant([1,-2,-3,4])\n",
        "tf.abs(x)\n"
      ],
      "execution_count": null,
      "outputs": [
        {
          "output_type": "execute_result",
          "data": {
            "text/plain": [
              "<tf.Tensor: shape=(4,), dtype=int32, numpy=array([1, 2, 3, 4], dtype=int32)>"
            ]
          },
          "metadata": {
            "tags": []
          },
          "execution_count": 65
        }
      ]
    },
    {
      "cell_type": "markdown",
      "metadata": {
        "id": "ebKbThOvkl4H"
      },
      "source": [
        "Lets go through from the following forms of Aggergation\n",
        "* Get minimum value\n",
        "* Get maximum value\n",
        "* Get the mean of a tensor\n",
        "* Get the sum of a tensor"
      ]
    },
    {
      "cell_type": "code",
      "metadata": {
        "id": "l4vvAzTYioCV",
        "colab": {
          "base_uri": "https://localhost:8080/"
        },
        "outputId": "6f16a87b-1409-465c-ca13-641666931abb"
      },
      "source": [
        "# create a random tensor \n",
        "tensor = tf.constant(np.random.randint(0,100, size=50))\n",
        "tensor"
      ],
      "execution_count": null,
      "outputs": [
        {
          "output_type": "execute_result",
          "data": {
            "text/plain": [
              "<tf.Tensor: shape=(50,), dtype=int64, numpy=\n",
              "array([30, 89,  6,  1, 27, 68, 16, 53, 51, 47, 99, 72, 66, 79, 47, 96, 65,\n",
              "       86, 29, 42, 74, 70, 96, 19, 37, 23, 29, 17, 66, 25, 17, 91, 66, 78,\n",
              "       18, 77, 84, 67, 28, 68,  9, 89, 16, 64, 52, 84,  9, 81, 43, 14])>"
            ]
          },
          "metadata": {
            "tags": []
          },
          "execution_count": 66
        }
      ]
    },
    {
      "cell_type": "code",
      "metadata": {
        "colab": {
          "base_uri": "https://localhost:8080/"
        },
        "id": "4egKxpcJ1Z2T",
        "outputId": "5f0e357c-40d5-4bc6-8668-5f249c91a688"
      },
      "source": [
        "# Finding the maximum value\n",
        "tf.reduce_max(tensor)"
      ],
      "execution_count": null,
      "outputs": [
        {
          "output_type": "execute_result",
          "data": {
            "text/plain": [
              "<tf.Tensor: shape=(), dtype=int64, numpy=99>"
            ]
          },
          "metadata": {
            "tags": []
          },
          "execution_count": 67
        }
      ]
    },
    {
      "cell_type": "code",
      "metadata": {
        "colab": {
          "base_uri": "https://localhost:8080/"
        },
        "id": "pm4BxXVf1krK",
        "outputId": "5ae61882-f94d-4a40-ca5b-49c38a9e9f94"
      },
      "source": [
        "# Finding the minimum value\n",
        "tf.reduce_min(tensor)"
      ],
      "execution_count": null,
      "outputs": [
        {
          "output_type": "execute_result",
          "data": {
            "text/plain": [
              "<tf.Tensor: shape=(), dtype=int64, numpy=1>"
            ]
          },
          "metadata": {
            "tags": []
          },
          "execution_count": 68
        }
      ]
    },
    {
      "cell_type": "code",
      "metadata": {
        "colab": {
          "base_uri": "https://localhost:8080/"
        },
        "id": "NUzsEXjT1s6r",
        "outputId": "3f21de02-bcc2-47b0-e2c5-1634de37535f"
      },
      "source": [
        "# Finding the mean\n",
        "tf.reduce_mean(tensor)"
      ],
      "execution_count": null,
      "outputs": [
        {
          "output_type": "execute_result",
          "data": {
            "text/plain": [
              "<tf.Tensor: shape=(), dtype=int64, numpy=51>"
            ]
          },
          "metadata": {
            "tags": []
          },
          "execution_count": 69
        }
      ]
    },
    {
      "cell_type": "code",
      "metadata": {
        "colab": {
          "base_uri": "https://localhost:8080/"
        },
        "id": "ZSYndq8z1ynV",
        "outputId": "fcb3ced7-610b-4826-835c-4fc7612e1cdb"
      },
      "source": [
        "# Finding the sum\n",
        "tf.reduce_sum(tensor)"
      ],
      "execution_count": null,
      "outputs": [
        {
          "output_type": "execute_result",
          "data": {
            "text/plain": [
              "<tf.Tensor: shape=(), dtype=int64, numpy=2580>"
            ]
          },
          "metadata": {
            "tags": []
          },
          "execution_count": 70
        }
      ]
    },
    {
      "cell_type": "code",
      "metadata": {
        "colab": {
          "base_uri": "https://localhost:8080/"
        },
        "id": "p4iipnDE16O9",
        "outputId": "1505147f-d00c-4f00-fbb9-a6e1a391990c"
      },
      "source": [
        "# Finding the variance and Standard Deviation?\n",
        "import tensorflow_probability as tfp\n",
        "tfp.stats.variance(tensor)"
      ],
      "execution_count": null,
      "outputs": [
        {
          "output_type": "execute_result",
          "data": {
            "text/plain": [
              "<tf.Tensor: shape=(), dtype=int64, numpy=823>"
            ]
          },
          "metadata": {
            "tags": []
          },
          "execution_count": 71
        }
      ]
    },
    {
      "cell_type": "code",
      "metadata": {
        "colab": {
          "base_uri": "https://localhost:8080/"
        },
        "id": "VeCsvIFT2Mii",
        "outputId": "fe39abd8-d361-4033-e793-fee9428492c3"
      },
      "source": [
        "# Statndard Deviation\n",
        "tf.math.reduce_std(tf.cast(tensor, dtype=tf.float32))"
      ],
      "execution_count": null,
      "outputs": [
        {
          "output_type": "execute_result",
          "data": {
            "text/plain": [
              "<tf.Tensor: shape=(), dtype=float32, numpy=28.694948>"
            ]
          },
          "metadata": {
            "tags": []
          },
          "execution_count": 72
        }
      ]
    },
    {
      "cell_type": "code",
      "metadata": {
        "colab": {
          "base_uri": "https://localhost:8080/"
        },
        "id": "rB9hBvzF2sFM",
        "outputId": "17b060f6-9988-4985-daa5-50c41696e06e"
      },
      "source": [
        "# OR\n",
        "# Variance\n",
        "tf.math.reduce_variance(tf.cast(tensor, dtype=tf.float32))\n"
      ],
      "execution_count": null,
      "outputs": [
        {
          "output_type": "execute_result",
          "data": {
            "text/plain": [
              "<tf.Tensor: shape=(), dtype=float32, numpy=823.4>"
            ]
          },
          "metadata": {
            "tags": []
          },
          "execution_count": 73
        }
      ]
    },
    {
      "cell_type": "markdown",
      "metadata": {
        "id": "97eMCAD77TxR"
      },
      "source": [
        "### 28. Positional Maximum and Minimum"
      ]
    },
    {
      "cell_type": "code",
      "metadata": {
        "colab": {
          "base_uri": "https://localhost:8080/"
        },
        "id": "w4vSZ29M65gc",
        "outputId": "fc5a6fd9-f219-4bb0-99f9-e439c79ecb80"
      },
      "source": [
        "# Creating new Tensor\n",
        "tf.random.set_seed(42)\n",
        "tensor = tf.random.uniform(shape=[50])\n",
        "tensor"
      ],
      "execution_count": null,
      "outputs": [
        {
          "output_type": "execute_result",
          "data": {
            "text/plain": [
              "<tf.Tensor: shape=(50,), dtype=float32, numpy=\n",
              "array([0.6645621 , 0.44100678, 0.3528825 , 0.46448255, 0.03366041,\n",
              "       0.68467236, 0.74011743, 0.8724445 , 0.22632635, 0.22319686,\n",
              "       0.3103881 , 0.7223358 , 0.13318717, 0.5480639 , 0.5746088 ,\n",
              "       0.8996835 , 0.00946367, 0.5212307 , 0.6345445 , 0.1993283 ,\n",
              "       0.72942245, 0.54583454, 0.10756552, 0.6767061 , 0.6602763 ,\n",
              "       0.33695042, 0.60141766, 0.21062577, 0.8527372 , 0.44062173,\n",
              "       0.9485276 , 0.23752594, 0.81179297, 0.5263394 , 0.494308  ,\n",
              "       0.21612847, 0.8457197 , 0.8718841 , 0.3083862 , 0.6868038 ,\n",
              "       0.23764038, 0.7817228 , 0.9671384 , 0.06870162, 0.79873943,\n",
              "       0.66028714, 0.5871513 , 0.16461694, 0.7381023 , 0.32054043],\n",
              "      dtype=float32)>"
            ]
          },
          "metadata": {
            "tags": []
          },
          "execution_count": 74
        }
      ]
    },
    {
      "cell_type": "code",
      "metadata": {
        "colab": {
          "base_uri": "https://localhost:8080/"
        },
        "id": "7tF0W_QF7zIe",
        "outputId": "25a88bae-49a9-4151-8768-924dcec09f18"
      },
      "source": [
        "# Finding positional Maximum\n",
        "tf.argmax(tensor)"
      ],
      "execution_count": null,
      "outputs": [
        {
          "output_type": "execute_result",
          "data": {
            "text/plain": [
              "<tf.Tensor: shape=(), dtype=int64, numpy=42>"
            ]
          },
          "metadata": {
            "tags": []
          },
          "execution_count": 75
        }
      ]
    },
    {
      "cell_type": "code",
      "metadata": {
        "colab": {
          "base_uri": "https://localhost:8080/"
        },
        "id": "ii9fKGfi805c",
        "outputId": "90bbe5d6-5ddf-47f1-acdc-a99a3dff9d5e"
      },
      "source": [
        "# Find the value at position \n",
        "tensor[tf.argmax(tensor)]"
      ],
      "execution_count": null,
      "outputs": [
        {
          "output_type": "execute_result",
          "data": {
            "text/plain": [
              "<tf.Tensor: shape=(), dtype=float32, numpy=0.9671384>"
            ]
          },
          "metadata": {
            "tags": []
          },
          "execution_count": 76
        }
      ]
    },
    {
      "cell_type": "code",
      "metadata": {
        "colab": {
          "base_uri": "https://localhost:8080/"
        },
        "id": "6azN6Kpg9BaD",
        "outputId": "be81ea5e-b4a8-4444-c8a9-72bd963efe0a"
      },
      "source": [
        "# Finding Maximum\n",
        "tf.reduce_max(tensor)"
      ],
      "execution_count": null,
      "outputs": [
        {
          "output_type": "execute_result",
          "data": {
            "text/plain": [
              "<tf.Tensor: shape=(), dtype=float32, numpy=0.9671384>"
            ]
          },
          "metadata": {
            "tags": []
          },
          "execution_count": 77
        }
      ]
    },
    {
      "cell_type": "code",
      "metadata": {
        "colab": {
          "base_uri": "https://localhost:8080/"
        },
        "id": "MoFlikRi9I9e",
        "outputId": "c2fffa2b-faca-43a6-d128-00107c238e09"
      },
      "source": [
        "# Are they Equal?\n",
        "tensor[tf.argmax(tensor)] == tf.reduce_max(tensor)"
      ],
      "execution_count": null,
      "outputs": [
        {
          "output_type": "execute_result",
          "data": {
            "text/plain": [
              "<tf.Tensor: shape=(), dtype=bool, numpy=True>"
            ]
          },
          "metadata": {
            "tags": []
          },
          "execution_count": 78
        }
      ]
    },
    {
      "cell_type": "code",
      "metadata": {
        "colab": {
          "base_uri": "https://localhost:8080/"
        },
        "id": "iymWTPik9Vlr",
        "outputId": "563f560c-18b2-4591-882d-24d63320400a"
      },
      "source": [
        "# Finding Positional Minimum\n",
        "tf.argmin(tensor)"
      ],
      "execution_count": null,
      "outputs": [
        {
          "output_type": "execute_result",
          "data": {
            "text/plain": [
              "<tf.Tensor: shape=(), dtype=int64, numpy=16>"
            ]
          },
          "metadata": {
            "tags": []
          },
          "execution_count": 79
        }
      ]
    },
    {
      "cell_type": "code",
      "metadata": {
        "colab": {
          "base_uri": "https://localhost:8080/"
        },
        "id": "I2v34Uxn9ekE",
        "outputId": "12a273b3-9db0-4bf7-c1c2-5cb675d10181"
      },
      "source": [
        "# Finding value at the position\n",
        "tensor[tf.argmin(tensor)]"
      ],
      "execution_count": null,
      "outputs": [
        {
          "output_type": "execute_result",
          "data": {
            "text/plain": [
              "<tf.Tensor: shape=(), dtype=float32, numpy=0.009463668>"
            ]
          },
          "metadata": {
            "tags": []
          },
          "execution_count": 80
        }
      ]
    },
    {
      "cell_type": "code",
      "metadata": {
        "colab": {
          "base_uri": "https://localhost:8080/"
        },
        "id": "uO46ueqa9mhV",
        "outputId": "0513a2c6-e787-41cc-d2e8-9f3039d74673"
      },
      "source": [
        "# Finding the minimum value\n",
        "tf.reduce_min(tensor)"
      ],
      "execution_count": null,
      "outputs": [
        {
          "output_type": "execute_result",
          "data": {
            "text/plain": [
              "<tf.Tensor: shape=(), dtype=float32, numpy=0.009463668>"
            ]
          },
          "metadata": {
            "tags": []
          },
          "execution_count": 81
        }
      ]
    },
    {
      "cell_type": "code",
      "metadata": {
        "colab": {
          "base_uri": "https://localhost:8080/"
        },
        "id": "ghCLHRea9v_9",
        "outputId": "9e447e40-6ecd-4f91-8af8-b3392889663f"
      },
      "source": [
        "# Are they both Equal?\n",
        "tensor[tf.argmin(tensor)] == tf.reduce_min(tensor)"
      ],
      "execution_count": null,
      "outputs": [
        {
          "output_type": "execute_result",
          "data": {
            "text/plain": [
              "<tf.Tensor: shape=(), dtype=bool, numpy=True>"
            ]
          },
          "metadata": {
            "tags": []
          },
          "execution_count": 82
        }
      ]
    },
    {
      "cell_type": "markdown",
      "metadata": {
        "id": "VbgyJqsW-0FQ"
      },
      "source": [
        "### Squeezing a Tensor"
      ]
    },
    {
      "cell_type": "markdown",
      "metadata": {
        "id": "qYfoIQpvAkyn"
      },
      "source": [
        "* Removes dimensions of size 1 from the shape of a tensor"
      ]
    },
    {
      "cell_type": "code",
      "metadata": {
        "colab": {
          "base_uri": "https://localhost:8080/"
        },
        "id": "WDCj86a6-IB9",
        "outputId": "2b39b690-4e21-465c-99d2-04302fdb7485"
      },
      "source": [
        "# Creating a tensor\n",
        "tf.random.set_seed(42)\n",
        "A = tf.constant(tf.random.uniform(shape=[50]), shape=(1,1,1,1,50))\n",
        "A"
      ],
      "execution_count": null,
      "outputs": [
        {
          "output_type": "execute_result",
          "data": {
            "text/plain": [
              "<tf.Tensor: shape=(1, 1, 1, 1, 50), dtype=float32, numpy=\n",
              "array([[[[[0.6645621 , 0.44100678, 0.3528825 , 0.46448255, 0.03366041,\n",
              "           0.68467236, 0.74011743, 0.8724445 , 0.22632635, 0.22319686,\n",
              "           0.3103881 , 0.7223358 , 0.13318717, 0.5480639 , 0.5746088 ,\n",
              "           0.8996835 , 0.00946367, 0.5212307 , 0.6345445 , 0.1993283 ,\n",
              "           0.72942245, 0.54583454, 0.10756552, 0.6767061 , 0.6602763 ,\n",
              "           0.33695042, 0.60141766, 0.21062577, 0.8527372 , 0.44062173,\n",
              "           0.9485276 , 0.23752594, 0.81179297, 0.5263394 , 0.494308  ,\n",
              "           0.21612847, 0.8457197 , 0.8718841 , 0.3083862 , 0.6868038 ,\n",
              "           0.23764038, 0.7817228 , 0.9671384 , 0.06870162, 0.79873943,\n",
              "           0.66028714, 0.5871513 , 0.16461694, 0.7381023 , 0.32054043]]]]],\n",
              "      dtype=float32)>"
            ]
          },
          "metadata": {
            "tags": []
          },
          "execution_count": 83
        }
      ]
    },
    {
      "cell_type": "code",
      "metadata": {
        "colab": {
          "base_uri": "https://localhost:8080/"
        },
        "id": "wvaQdU2JAJJd",
        "outputId": "738d786d-8a58-4f52-a3b9-0af1853debe7"
      },
      "source": [
        "A.shape"
      ],
      "execution_count": null,
      "outputs": [
        {
          "output_type": "execute_result",
          "data": {
            "text/plain": [
              "TensorShape([1, 1, 1, 1, 50])"
            ]
          },
          "metadata": {
            "tags": []
          },
          "execution_count": 84
        }
      ]
    },
    {
      "cell_type": "code",
      "metadata": {
        "colab": {
          "base_uri": "https://localhost:8080/"
        },
        "id": "EDFU7Try_FH5",
        "outputId": "d3df0666-74cf-4c89-93dd-28c1da0d1a6b"
      },
      "source": [
        "# Squeezing the tensor\n",
        "tf.squeeze(A).shape\n"
      ],
      "execution_count": null,
      "outputs": [
        {
          "output_type": "execute_result",
          "data": {
            "text/plain": [
              "TensorShape([50])"
            ]
          },
          "metadata": {
            "tags": []
          },
          "execution_count": 85
        }
      ]
    },
    {
      "cell_type": "markdown",
      "metadata": {
        "id": "bHZIOfRUEhIl"
      },
      "source": [
        "# 30.One-hot encoding Tensor"
      ]
    },
    {
      "cell_type": "code",
      "metadata": {
        "colab": {
          "base_uri": "https://localhost:8080/"
        },
        "id": "hk820z28Ery6",
        "outputId": "c2c843f2-4f8f-4fc5-eab2-02012d4ec15c"
      },
      "source": [
        "# Create a list \n",
        "my_list = [1, 2, 3]\n",
        "\n",
        "# Creating one_hot\n",
        "# Takes Tensor of indices\n",
        "tf.one_hot(my_list, depth=4)"
      ],
      "execution_count": null,
      "outputs": [
        {
          "output_type": "execute_result",
          "data": {
            "text/plain": [
              "<tf.Tensor: shape=(3, 4), dtype=float32, numpy=\n",
              "array([[0., 1., 0., 0.],\n",
              "       [0., 0., 1., 0.],\n",
              "       [0., 0., 0., 1.]], dtype=float32)>"
            ]
          },
          "metadata": {
            "tags": []
          },
          "execution_count": 86
        }
      ]
    },
    {
      "cell_type": "code",
      "metadata": {
        "colab": {
          "base_uri": "https://localhost:8080/"
        },
        "id": "qMt94jNiGDVk",
        "outputId": "84788d8a-4cf9-484f-ac80-d57d86515c9d"
      },
      "source": [
        "# Adding On and Off values\n",
        "tf.one_hot(my_list, depth=3, on_value='yes', off_value='No')"
      ],
      "execution_count": null,
      "outputs": [
        {
          "output_type": "execute_result",
          "data": {
            "text/plain": [
              "<tf.Tensor: shape=(3, 3), dtype=string, numpy=\n",
              "array([[b'No', b'yes', b'No'],\n",
              "       [b'No', b'No', b'yes'],\n",
              "       [b'No', b'No', b'No']], dtype=object)>"
            ]
          },
          "metadata": {
            "tags": []
          },
          "execution_count": 87
        }
      ]
    },
    {
      "cell_type": "markdown",
      "metadata": {
        "id": "LnQhjXrASVqX"
      },
      "source": [
        "# 32.Tensors and Numpy"
      ]
    },
    {
      "cell_type": "markdown",
      "metadata": {
        "id": "6JiUagIog8NA"
      },
      "source": [
        "Tensorflow interacts beautifully with Numpy arrays\n",
        "* The main difference b/w tensor and numpy array is that tensors run faster on GPU or TPU"
      ]
    },
    {
      "cell_type": "code",
      "metadata": {
        "id": "yTGC1GK0G0QC",
        "colab": {
          "base_uri": "https://localhost:8080/"
        },
        "outputId": "afbf0a84-3e4c-4fcf-8aaa-ad04171ec912"
      },
      "source": [
        "# creating Tensor from numpy array\n",
        "tensor = tf.constant(np.array([1., 2., 3.]))\n",
        "tensor"
      ],
      "execution_count": null,
      "outputs": [
        {
          "output_type": "execute_result",
          "data": {
            "text/plain": [
              "<tf.Tensor: shape=(3,), dtype=float64, numpy=array([1., 2., 3.])>"
            ]
          },
          "metadata": {
            "tags": []
          },
          "execution_count": 88
        }
      ]
    },
    {
      "cell_type": "code",
      "metadata": {
        "id": "nlz9xe_PSyvZ",
        "colab": {
          "base_uri": "https://localhost:8080/"
        },
        "outputId": "f3d5716d-bb8b-4553-a3b8-78d200b654d9"
      },
      "source": [
        "# Convert Tensor back to numpy array\n",
        "np.array(tensor)"
      ],
      "execution_count": null,
      "outputs": [
        {
          "output_type": "execute_result",
          "data": {
            "text/plain": [
              "array([1., 2., 3.])"
            ]
          },
          "metadata": {
            "tags": []
          },
          "execution_count": 89
        }
      ]
    },
    {
      "cell_type": "code",
      "metadata": {
        "id": "nx-45ecQS29G",
        "colab": {
          "base_uri": "https://localhost:8080/"
        },
        "outputId": "83dcd7e1-3bf3-4080-ee60-eb2e44315b9b"
      },
      "source": [
        "# Convert Tensor back to numpy array (other method)\n",
        "tensor.numpy()"
      ],
      "execution_count": null,
      "outputs": [
        {
          "output_type": "execute_result",
          "data": {
            "text/plain": [
              "array([1., 2., 3.])"
            ]
          },
          "metadata": {
            "tags": []
          },
          "execution_count": 90
        }
      ]
    },
    {
      "cell_type": "code",
      "metadata": {
        "colab": {
          "base_uri": "https://localhost:8080/"
        },
        "id": "n3-vxRJsiXD4",
        "outputId": "d92297cc-1ae0-493d-f88f-62960393a015"
      },
      "source": [
        "# Default Types\n",
        "tensor = tf.constant([1.,2.,3.])\n",
        "numpy_tensor = tf.constant(np.array([1.,2.,3.]))\n",
        "\n",
        "tensor.dtype, numpy_tensor.dtype"
      ],
      "execution_count": null,
      "outputs": [
        {
          "output_type": "execute_result",
          "data": {
            "text/plain": [
              "(tf.float32, tf.float64)"
            ]
          },
          "metadata": {
            "tags": []
          },
          "execution_count": 91
        }
      ]
    },
    {
      "cell_type": "markdown",
      "metadata": {
        "id": "IWPyNSkImpdQ"
      },
      "source": [
        "# Accessing GPUs"
      ]
    },
    {
      "cell_type": "code",
      "metadata": {
        "colab": {
          "base_uri": "https://localhost:8080/"
        },
        "id": "e3OT9KHHmtuf",
        "outputId": "7c511efe-5e5c-4a31-a1dd-9fdb5dc1e2ab"
      },
      "source": [
        "tf.config.list_physical_devices()"
      ],
      "execution_count": null,
      "outputs": [
        {
          "output_type": "execute_result",
          "data": {
            "text/plain": [
              "[PhysicalDevice(name='/physical_device:CPU:0', device_type='CPU')]"
            ]
          },
          "metadata": {
            "tags": []
          },
          "execution_count": 92
        }
      ]
    },
    {
      "cell_type": "code",
      "metadata": {
        "colab": {
          "base_uri": "https://localhost:8080/"
        },
        "id": "S8a50G49nJFV",
        "outputId": "29af61e6-eb86-4021-b1df-e2ddf1aec11e"
      },
      "source": [
        "!nvidia-smi"
      ],
      "execution_count": null,
      "outputs": [
        {
          "output_type": "stream",
          "text": [
            "NVIDIA-SMI has failed because it couldn't communicate with the NVIDIA driver. Make sure that the latest NVIDIA driver is installed and running.\n",
            "\n"
          ],
          "name": "stdout"
        }
      ]
    },
    {
      "cell_type": "markdown",
      "metadata": {
        "id": "JZYUTLDxWLQY"
      },
      "source": [
        "# **Exercise**"
      ]
    },
    {
      "cell_type": "code",
      "metadata": {
        "colab": {
          "base_uri": "https://localhost:8080/"
        },
        "id": "tlvVQzBunO6s",
        "outputId": "69ba06bf-ad6d-45e6-b08d-1e073b8d4864"
      },
      "source": [
        "# 1-Create a vector, scalar, matrix and tensor with values of your choosing using tf.constant().\n",
        "# Scalar\n",
        "scalar = tf.constant(4)\n",
        "scalar"
      ],
      "execution_count": null,
      "outputs": [
        {
          "output_type": "execute_result",
          "data": {
            "text/plain": [
              "<tf.Tensor: shape=(), dtype=int32, numpy=4>"
            ]
          },
          "metadata": {
            "tags": []
          },
          "execution_count": 94
        }
      ]
    },
    {
      "cell_type": "code",
      "metadata": {
        "colab": {
          "base_uri": "https://localhost:8080/"
        },
        "id": "ho9hi3WIdhyF",
        "outputId": "17435877-10a8-4e90-9c02-23732eedb43f"
      },
      "source": [
        "# vector\n",
        "vector = tf.constant([2,3,4])\n",
        "vector"
      ],
      "execution_count": null,
      "outputs": [
        {
          "output_type": "execute_result",
          "data": {
            "text/plain": [
              "<tf.Tensor: shape=(3,), dtype=int32, numpy=array([2, 3, 4], dtype=int32)>"
            ]
          },
          "metadata": {
            "tags": []
          },
          "execution_count": 95
        }
      ]
    },
    {
      "cell_type": "code",
      "metadata": {
        "colab": {
          "base_uri": "https://localhost:8080/"
        },
        "id": "6h3WUFgYduZa",
        "outputId": "bd1ce07e-bdf8-454f-ba36-56390f0013f4"
      },
      "source": [
        "# Matrix\n",
        "matrix = tf.constant([[23,42,2],\n",
        "             [1,23,4]])\n",
        "matrix"
      ],
      "execution_count": null,
      "outputs": [
        {
          "output_type": "execute_result",
          "data": {
            "text/plain": [
              "<tf.Tensor: shape=(2, 3), dtype=int32, numpy=\n",
              "array([[23, 42,  2],\n",
              "       [ 1, 23,  4]], dtype=int32)>"
            ]
          },
          "metadata": {
            "tags": []
          },
          "execution_count": 96
        }
      ]
    },
    {
      "cell_type": "code",
      "metadata": {
        "colab": {
          "base_uri": "https://localhost:8080/"
        },
        "id": "FuRkcRJOd05f",
        "outputId": "872f47f0-06cf-4f27-99e7-5b0c2db00652"
      },
      "source": [
        "# 2-Find the shape, rank and size of the tensors you created in 1.\n",
        "# Rank\n",
        "scalar.ndim, vector.ndim, matrix.ndim"
      ],
      "execution_count": null,
      "outputs": [
        {
          "output_type": "execute_result",
          "data": {
            "text/plain": [
              "(0, 1, 2)"
            ]
          },
          "metadata": {
            "tags": []
          },
          "execution_count": 97
        }
      ]
    },
    {
      "cell_type": "code",
      "metadata": {
        "colab": {
          "base_uri": "https://localhost:8080/"
        },
        "id": "7OcG_gk-eeQ6",
        "outputId": "9bb972a6-c2db-427f-8f65-0274c80ffecc"
      },
      "source": [
        "# shape\n",
        "scalar.shape, vector.shape, matrix.shape"
      ],
      "execution_count": null,
      "outputs": [
        {
          "output_type": "execute_result",
          "data": {
            "text/plain": [
              "(TensorShape([]), TensorShape([3]), TensorShape([2, 3]))"
            ]
          },
          "metadata": {
            "tags": []
          },
          "execution_count": 98
        }
      ]
    },
    {
      "cell_type": "code",
      "metadata": {
        "colab": {
          "base_uri": "https://localhost:8080/"
        },
        "id": "NuzUH33geiVC",
        "outputId": "7570a8ff-986f-47e0-dcfc-49501edce3ad"
      },
      "source": [
        "# size\n",
        "tf.size(scalar), tf.size(vector), tf.size(matrix)"
      ],
      "execution_count": null,
      "outputs": [
        {
          "output_type": "execute_result",
          "data": {
            "text/plain": [
              "(<tf.Tensor: shape=(), dtype=int32, numpy=1>,\n",
              " <tf.Tensor: shape=(), dtype=int32, numpy=3>,\n",
              " <tf.Tensor: shape=(), dtype=int32, numpy=6>)"
            ]
          },
          "metadata": {
            "tags": []
          },
          "execution_count": 99
        }
      ]
    },
    {
      "cell_type": "code",
      "metadata": {
        "colab": {
          "base_uri": "https://localhost:8080/"
        },
        "id": "9VgBnZEPe5G6",
        "outputId": "b8c8625b-fc37-408f-8f03-957b1f4bfaa6"
      },
      "source": [
        "# 3-Create two tensors containing random values between 0 and 1 with shape [5, 300].\n",
        "tensor_1 = tf.random.uniform(shape=(5,300))\n",
        "tensor_2 = tf.random.uniform(shape=(5,300))\n",
        "tensor_1, tensor_2"
      ],
      "execution_count": null,
      "outputs": [
        {
          "output_type": "execute_result",
          "data": {
            "text/plain": [
              "(<tf.Tensor: shape=(5, 300), dtype=float32, numpy=\n",
              " array([[0.68789124, 0.48447883, 0.9309944 , ..., 0.6920762 , 0.33180213,\n",
              "         0.9212563 ],\n",
              "        [0.27369928, 0.10631859, 0.6218617 , ..., 0.4382149 , 0.30427706,\n",
              "         0.51477313],\n",
              "        [0.00920248, 0.37280262, 0.8177401 , ..., 0.56786287, 0.49201214,\n",
              "         0.9892651 ],\n",
              "        [0.88608265, 0.08672249, 0.12160683, ..., 0.91770685, 0.72545695,\n",
              "         0.8280058 ],\n",
              "        [0.36690474, 0.9200133 , 0.9646884 , ..., 0.69012   , 0.7137332 ,\n",
              "         0.2584542 ]], dtype=float32)>,\n",
              " <tf.Tensor: shape=(5, 300), dtype=float32, numpy=\n",
              " array([[0.7413678 , 0.62854624, 0.01738465, ..., 0.4851334 , 0.21059811,\n",
              "         0.25082767],\n",
              "        [0.10842848, 0.48783147, 0.8240961 , ..., 0.9204427 , 0.36046863,\n",
              "         0.28176582],\n",
              "        [0.7326695 , 0.46489418, 0.13622475, ..., 0.28130388, 0.63987684,\n",
              "         0.9987265 ],\n",
              "        [0.01447165, 0.7845044 , 0.33475304, ..., 0.56194997, 0.0209924 ,\n",
              "         0.1740731 ],\n",
              "        [0.90936875, 0.19861352, 0.9481231 , ..., 0.3573054 , 0.13161755,\n",
              "         0.22565222]], dtype=float32)>)"
            ]
          },
          "metadata": {
            "tags": []
          },
          "execution_count": 100
        }
      ]
    },
    {
      "cell_type": "code",
      "metadata": {
        "colab": {
          "base_uri": "https://localhost:8080/"
        },
        "id": "NWmqo_crgHUy",
        "outputId": "6e2c49ac-3a34-4e3b-82a5-11418c400589"
      },
      "source": [
        "# 4-Multiply the two tensors you created in 3 using matrix multiplication\n",
        "tf.matmul(tensor_1, tf.reshape(tensor_2, shape=(300,5)))"
      ],
      "execution_count": null,
      "outputs": [
        {
          "output_type": "execute_result",
          "data": {
            "text/plain": [
              "<tf.Tensor: shape=(5, 5), dtype=float32, numpy=\n",
              "array([[80.742355, 78.96601 , 76.4375  , 79.90297 , 79.41223 ],\n",
              "       [73.00635 , 70.02398 , 70.02371 , 72.228424, 70.10681 ],\n",
              "       [78.79178 , 78.55487 , 75.45839 , 77.58642 , 74.710556],\n",
              "       [75.785736, 74.37855 , 71.91179 , 73.319595, 71.63658 ],\n",
              "       [84.22469 , 77.5869  , 79.075005, 81.65291 , 77.13225 ]],\n",
              "      dtype=float32)>"
            ]
          },
          "metadata": {
            "tags": []
          },
          "execution_count": 101
        }
      ]
    },
    {
      "cell_type": "code",
      "metadata": {
        "colab": {
          "base_uri": "https://localhost:8080/"
        },
        "id": "QTspBxtfg3r2",
        "outputId": "90412dfb-e4b5-40da-da24-d49ec201030c"
      },
      "source": [
        "# OR\n",
        "tf.matmul(tensor_1, tf.transpose(tensor_2))"
      ],
      "execution_count": null,
      "outputs": [
        {
          "output_type": "execute_result",
          "data": {
            "text/plain": [
              "<tf.Tensor: shape=(5, 5), dtype=float32, numpy=\n",
              "array([[75.71401 , 80.87824 , 78.32848 , 78.2597  , 79.130585],\n",
              "       [70.12708 , 72.09945 , 70.1678  , 73.24609 , 74.2774  ],\n",
              "       [75.16001 , 79.52858 , 76.74644 , 78.14265 , 77.28679 ],\n",
              "       [77.11356 , 75.401215, 72.79378 , 75.066376, 75.20653 ],\n",
              "       [79.87285 , 83.40139 , 78.57373 , 79.025894, 81.82093 ]],\n",
              "      dtype=float32)>"
            ]
          },
          "metadata": {
            "tags": []
          },
          "execution_count": 102
        }
      ]
    },
    {
      "cell_type": "code",
      "metadata": {
        "colab": {
          "base_uri": "https://localhost:8080/"
        },
        "id": "tft2fejChvmX",
        "outputId": "43a73def-2e52-4b4d-9007-d7acf12b08af"
      },
      "source": [
        "# 5-Multiply the two tensors you created in 3 using dot product.\n",
        "tf.tensordot(tensor_1, tf.transpose(tensor_2), axes=1)"
      ],
      "execution_count": null,
      "outputs": [
        {
          "output_type": "execute_result",
          "data": {
            "text/plain": [
              "<tf.Tensor: shape=(5, 5), dtype=float32, numpy=\n",
              "array([[75.71401 , 80.87824 , 78.32848 , 78.2597  , 79.130585],\n",
              "       [70.12708 , 72.09945 , 70.1678  , 73.24609 , 74.2774  ],\n",
              "       [75.16001 , 79.52858 , 76.74644 , 78.14265 , 77.28679 ],\n",
              "       [77.11356 , 75.401215, 72.79378 , 75.066376, 75.20653 ],\n",
              "       [79.87285 , 83.40139 , 78.57373 , 79.025894, 81.82093 ]],\n",
              "      dtype=float32)>"
            ]
          },
          "metadata": {
            "tags": []
          },
          "execution_count": 103
        }
      ]
    },
    {
      "cell_type": "code",
      "metadata": {
        "colab": {
          "base_uri": "https://localhost:8080/"
        },
        "id": "LTEe52iRiJmv",
        "outputId": "5f97b020-69a0-4b00-fec4-fbd23018f0b7"
      },
      "source": [
        "# OR\n",
        "tf.tensordot(tensor_1, tf.reshape(tensor_2, shape=(300, 5)), axes=1)"
      ],
      "execution_count": null,
      "outputs": [
        {
          "output_type": "execute_result",
          "data": {
            "text/plain": [
              "<tf.Tensor: shape=(5, 5), dtype=float32, numpy=\n",
              "array([[80.742355, 78.96601 , 76.4375  , 79.90297 , 79.41223 ],\n",
              "       [73.00635 , 70.02398 , 70.02371 , 72.228424, 70.10681 ],\n",
              "       [78.79178 , 78.55487 , 75.45839 , 77.58642 , 74.710556],\n",
              "       [75.785736, 74.37855 , 71.91179 , 73.319595, 71.63658 ],\n",
              "       [84.22469 , 77.5869  , 79.075005, 81.65291 , 77.13225 ]],\n",
              "      dtype=float32)>"
            ]
          },
          "metadata": {
            "tags": []
          },
          "execution_count": 104
        }
      ]
    },
    {
      "cell_type": "code",
      "metadata": {
        "colab": {
          "base_uri": "https://localhost:8080/"
        },
        "id": "mzsclu3FiWx2",
        "outputId": "0242908a-58a6-4cb6-e393-e3f75eaa8ec2"
      },
      "source": [
        "# 6-Create a tensor with random values between 0 and 1 with shape [224, 224, 3].\n",
        "tensor = tf.random.normal(shape=(224,224,3))\n",
        "tensor"
      ],
      "execution_count": null,
      "outputs": [
        {
          "output_type": "execute_result",
          "data": {
            "text/plain": [
              "<tf.Tensor: shape=(224, 224, 3), dtype=float32, numpy=\n",
              "array([[[ 0.65648675, -0.4130517 ,  0.33997506],\n",
              "        [-1.0056272 ,  0.70266235, -1.4008642 ],\n",
              "        [-0.89780754, -0.34856176, -0.95890623],\n",
              "        ...,\n",
              "        [ 1.0194341 ,  0.74672526,  0.39955083],\n",
              "        [-0.7627328 ,  0.45062128,  1.3667524 ],\n",
              "        [ 0.11498784,  0.5782295 ,  0.78359014]],\n",
              "\n",
              "       [[-0.06949335, -0.23398751,  0.7211032 ],\n",
              "        [-0.0861904 ,  1.5687186 , -0.4009926 ],\n",
              "        [ 1.3798339 ,  0.74632597, -0.11167198],\n",
              "        ...,\n",
              "        [ 1.3134544 , -0.2631335 , -1.0683311 ],\n",
              "        [ 0.12667303,  0.08279036, -0.9775129 ],\n",
              "        [-0.14422436,  2.7495377 ,  1.6180834 ]],\n",
              "\n",
              "       [[-0.93781394,  0.10042718,  1.279594  ],\n",
              "        [ 0.87256527,  1.8590354 , -0.2577575 ],\n",
              "        [-1.0056995 , -1.1477438 ,  1.2598884 ],\n",
              "        ...,\n",
              "        [ 0.78982466,  1.1393182 , -0.2799689 ],\n",
              "        [ 0.44983366, -1.4157982 ,  1.3792404 ],\n",
              "        [ 1.8690307 , -1.1984336 , -0.5294158 ]],\n",
              "\n",
              "       ...,\n",
              "\n",
              "       [[-1.4365802 ,  1.164099  , -1.4452097 ],\n",
              "        [-2.1595535 , -0.99819434,  0.955238  ],\n",
              "        [ 1.4785632 , -1.5419219 ,  1.4228691 ],\n",
              "        ...,\n",
              "        [ 0.66742104,  1.0007569 , -0.8418081 ],\n",
              "        [ 0.87248856,  0.72897154, -0.91828996],\n",
              "        [ 1.4560485 ,  1.8373526 ,  1.1825734 ]],\n",
              "\n",
              "       [[ 1.9085302 ,  1.3437067 ,  0.6279698 ],\n",
              "        [-0.23745237, -1.2383211 ,  0.36199895],\n",
              "        [ 0.39181432, -0.4541886 , -0.8222227 ],\n",
              "        ...,\n",
              "        [-0.7684424 , -0.47117978,  0.79657835],\n",
              "        [ 0.5995713 , -1.3690255 ,  0.46826437],\n",
              "        [ 0.21610431,  0.3832347 , -0.86147904]],\n",
              "\n",
              "       [[ 1.1933855 ,  0.5777539 ,  0.82783204],\n",
              "        [-2.019918  ,  0.81246394, -0.9389327 ],\n",
              "        [ 1.1447456 ,  2.2015533 , -1.2927758 ],\n",
              "        ...,\n",
              "        [-1.4977081 , -0.06735629, -0.5165014 ],\n",
              "        [-0.75204754,  0.22335443, -0.35197553],\n",
              "        [ 2.2074947 , -0.6113971 ,  0.07218126]]], dtype=float32)>"
            ]
          },
          "metadata": {
            "tags": []
          },
          "execution_count": 105
        }
      ]
    },
    {
      "cell_type": "code",
      "metadata": {
        "colab": {
          "base_uri": "https://localhost:8080/"
        },
        "id": "7YoMFbKYioE3",
        "outputId": "cdc21435-272d-4edf-f021-eaf9b88f5f33"
      },
      "source": [
        "# 7-Find the min and max values of the tensor you created in 6 along the first axis.\n",
        "# Minimum\n",
        "tf.reduce_min(tensor)"
      ],
      "execution_count": null,
      "outputs": [
        {
          "output_type": "execute_result",
          "data": {
            "text/plain": [
              "<tf.Tensor: shape=(), dtype=float32, numpy=-4.5823126>"
            ]
          },
          "metadata": {
            "tags": []
          },
          "execution_count": 106
        }
      ]
    },
    {
      "cell_type": "code",
      "metadata": {
        "colab": {
          "base_uri": "https://localhost:8080/"
        },
        "id": "wZdFzDlhjE4C",
        "outputId": "d7bcb934-cb74-4f06-e03d-8a61bfcbc42a"
      },
      "source": [
        "# Max\n",
        "tf.reduce_max(tensor)"
      ],
      "execution_count": null,
      "outputs": [
        {
          "output_type": "execute_result",
          "data": {
            "text/plain": [
              "<tf.Tensor: shape=(), dtype=float32, numpy=4.118299>"
            ]
          },
          "metadata": {
            "tags": []
          },
          "execution_count": 107
        }
      ]
    },
    {
      "cell_type": "code",
      "metadata": {
        "colab": {
          "base_uri": "https://localhost:8080/"
        },
        "id": "r4vwf50yjK_7",
        "outputId": "20035d79-8459-46ab-a6d7-003584857d0a"
      },
      "source": [
        "# 8-Created a tensor with random values of shape [1, 224, 224, 3] then squeeze it to change the shape to [224, 224, 3]\n",
        "tensor = tf.random.uniform(shape=(1,224,224,3))\n",
        "# Squeeze\n",
        "tf.squeeze(tensor).shape"
      ],
      "execution_count": null,
      "outputs": [
        {
          "output_type": "execute_result",
          "data": {
            "text/plain": [
              "TensorShape([224, 224, 3])"
            ]
          },
          "metadata": {
            "tags": []
          },
          "execution_count": 108
        }
      ]
    },
    {
      "cell_type": "code",
      "metadata": {
        "colab": {
          "base_uri": "https://localhost:8080/"
        },
        "id": "hR1XYBLAjdGH",
        "outputId": "b9d570d9-32b7-48a2-ab0b-6aac9ea8f551"
      },
      "source": [
        "# 9-Create a tensor with shape [10] using your own choice of values, then find the index which has the maximum value.\n",
        "tensor = tf.random.normal(shape=[10])\n",
        "tf.argmax(tensor)"
      ],
      "execution_count": null,
      "outputs": [
        {
          "output_type": "execute_result",
          "data": {
            "text/plain": [
              "<tf.Tensor: shape=(), dtype=int64, numpy=6>"
            ]
          },
          "metadata": {
            "tags": []
          },
          "execution_count": 109
        }
      ]
    },
    {
      "cell_type": "code",
      "metadata": {
        "colab": {
          "base_uri": "https://localhost:8080/"
        },
        "id": "lbIHsQYpkA-v",
        "outputId": "6d6190a2-3595-47c4-a22b-016213ee01b8"
      },
      "source": [
        "tensor[tf.argmax(tensor)]"
      ],
      "execution_count": null,
      "outputs": [
        {
          "output_type": "execute_result",
          "data": {
            "text/plain": [
              "<tf.Tensor: shape=(), dtype=float32, numpy=1.80325>"
            ]
          },
          "metadata": {
            "tags": []
          },
          "execution_count": 110
        }
      ]
    },
    {
      "cell_type": "code",
      "metadata": {
        "colab": {
          "base_uri": "https://localhost:8080/"
        },
        "id": "AS57d_eckdOs",
        "outputId": "91d62f2c-7a7f-44d4-ac22-f248f1234757"
      },
      "source": [
        "# 10-One-hot encode the tensor you created in 9.\n",
        "tf.one_hot(tensor.numpy(), depth=10)\n",
        "\n",
        "# we convert it into numpy as one_hot accept numpy arrays"
      ],
      "execution_count": null,
      "outputs": [
        {
          "output_type": "execute_result",
          "data": {
            "text/plain": [
              "<tf.Tensor: shape=(10, 10), dtype=float32, numpy=\n",
              "array([[1., 0., 0., 0., 0., 0., 0., 0., 0., 0.],\n",
              "       [1., 0., 0., 0., 0., 0., 0., 0., 0., 0.],\n",
              "       [0., 1., 0., 0., 0., 0., 0., 0., 0., 0.],\n",
              "       [1., 0., 0., 0., 0., 0., 0., 0., 0., 0.],\n",
              "       [1., 0., 0., 0., 0., 0., 0., 0., 0., 0.],\n",
              "       [1., 0., 0., 0., 0., 0., 0., 0., 0., 0.],\n",
              "       [0., 1., 0., 0., 0., 0., 0., 0., 0., 0.],\n",
              "       [0., 0., 0., 0., 0., 0., 0., 0., 0., 0.],\n",
              "       [0., 0., 0., 0., 0., 0., 0., 0., 0., 0.],\n",
              "       [0., 0., 0., 0., 0., 0., 0., 0., 0., 0.]], dtype=float32)>"
            ]
          },
          "metadata": {
            "tags": []
          },
          "execution_count": 111
        }
      ]
    },
    {
      "cell_type": "code",
      "metadata": {
        "id": "LK6L-WhXl2mU"
      },
      "source": [
        "# tf.one_hot(list_1, depth=4)"
      ],
      "execution_count": null,
      "outputs": []
    },
    {
      "cell_type": "code",
      "metadata": {
        "id": "l5I-JfA3l9N4"
      },
      "source": [
        ""
      ],
      "execution_count": null,
      "outputs": []
    }
  ]
}